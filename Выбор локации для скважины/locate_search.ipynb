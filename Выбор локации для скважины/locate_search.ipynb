{
 "cells": [
  {
   "cell_type": "markdown",
   "metadata": {},
   "source": [
    "# Выбор локации для скважины добывающей компании «ГлавРосГосНефть»"
   ]
  },
  {
   "cell_type": "markdown",
   "metadata": {},
   "source": [
    "# Описание проекта\n",
    "\n",
    "Нам предоставлены пробы нефти в трёх регионах. Характеристики для каждой скважины в регионе уже известны.Мы работаем в добывающей компании «ГлавРосГосНефть». Нужно решить, где бурить новую скважину.\n",
    "\n",
    "\n",
    "Нам предоставлены пробы нефти в трёх регионах: в каждом 100 000 месторождений, где измерили качество нефти и объём её запасов. Необходимо просторить модель машинного обучения, которая поможет определить регион, где добыча принесёт наибольшую прибыль, а также проанализировать возможную прибыль и риски техникой Bootstrap.\n",
    "\n",
    "# Цель проекта\n",
    "\n",
    "Построить модель для определения региона, где добыча принесёт наибольшую прибыль.\n",
    "\n",
    "# Ход выполнения проекта\n",
    "\n",
    "- Шаг 1. Откроем файл с данными и изучим общую информацию\n",
    "     - 1.1. путь к файлу: /datasets/geo_data_0.csv;\n",
    "     - 1.2. путь к файлу: /datasets/geo_data_1.csv;\n",
    "     - 1.3. путь к файлу: /datasets/geo_data_2.csv;\n",
    "     - 1.4. изучим общую информацию;\n",
    "     - 1.5. подготовим данные к обработке;\n",
    "     - 1.6. напишем вывод по шагу 1.\n",
    "- Шаг 2. Обучим и проверим модель для каждого региона:\n",
    "     - 2.1. Разобьем данные на обучающую и валидационную выборки в соотношении 75:25.\n",
    "     - 2.2. Обучим модель и сделаем предсказания на валидационной выборке.\n",
    "     - 2.3. Сохраним предсказания и правильные ответы на валидационной выборке.\n",
    "     - 2.4. Напечатаем на экране средний запас предсказанного сырья и RMSE модели.\n",
    "     - 2.5. Проанализируем результаты и напишем выводы по шагу 2.\n",
    "- Шаг 3. Подготовимся к расчёту прибыли:\n",
    "     - 3.1. Все ключевые значения для расчётов сохраним в отдельных переменных.\n",
    "     - 3.2. Рассчитаем достаточный объём сырья для безубыточной разработки новой скважины. Сравним полученный объём сырья со средним запасом в каждом регионе. \n",
    "     - 3.3. Напишем выводы по шагу подготовки расчёта прибыли.\n",
    "- Шаг 4. Расчет прибыли и рисков\n",
    "     - 4.1. Напишем функцию для расчёта прибыли по выбранным скважинам и предсказаниям модели:\n",
    "         - Выберем скважины с максимальными значениями предсказаний. \n",
    "         - Проссумируем целевое значение объёма сырья, соответствующее этим предсказаниям.\n",
    "         - Рассчитаем прибыль для полученного объёма сырья.\n",
    "         - Напишем промежуточный вывод.\n",
    "     - 4.2. Применим технику Bootstrap с 1000 выборок, чтобы найти распределение прибыли.\n",
    "     - 4.3. Посчитаем риски и прибыль для каждого региона:\n",
    "         - Найдем среднюю прибыль, 95%-й доверительный интервал и риск убытков. Убыток — это отрицательная прибыль.\n",
    "     - 4.4. Напишем выводы: предложим регион для разработки скважин и обоснуем выбор.\n",
    "- Шаг 5. Напишем общий вывод по проекту и дадим реккомендации\n",
    "     - 5.1. Напишем общий вывод по проекту.\n",
    "\n",
    "Шаги для выбора локации:\n",
    "- В избранном регионе ищут месторождения, для каждого определяют значения признаков;\n",
    "- Строят модель и оценивают объём запасов;\n",
    "- Выбирают месторождения с самым высокими оценками значений. Количество месторождений зависит от бюджета компании и стоимости разработки одной скважины;\n",
    "- Прибыль равна суммарной прибыли отобранных месторождений.    \n",
    "\n",
    "# Дополнительная информация\n",
    "\n",
    "**Описание данных**\n",
    "\n",
    "id — уникальный идентификатор скважины;\n",
    "f0, f1, f2 — три признака точек (неважно, что они означают, но сами признаки значимы);\n",
    "product — объём запасов в скважине (тыс. баррелей).\n",
    "\n",
    "**Условия задачи**\n",
    "\n",
    "- Для обучения модели подходит только линейная регрессия (остальные — недостаточно предсказуемые).\n",
    "- При разведке региона исследуют 500 точек, из которых с помощью машинного обучения выбирают 200 лучших для разработки.\n",
    "- Бюджет на разработку скважин в регионе — 10 млрд рублей.\n",
    "- При нынешних ценах один баррель сырья приносит 450 рублей дохода. Доход с каждой единицы продукта составляет 450 тыс. рублей, поскольку объём указан в тысячах баррелей.\n",
    "- После оценки рисков нужно оставить лишь те регионы, в которых вероятность убытков меньше 2.5%. Среди них выбирают регион с наибольшей средней прибылью.\n",
    "\n",
    "**Данные геологоразведки трёх регионов находятся в файлах:**\n",
    "/datasets/geo_data_0.csv.\n",
    "/datasets/geo_data_1.csv.\n",
    "/datasets/geo_data_2.csv.\n",
    "\n",
    "Данные синтетические: детали контрактов и характеристики месторождений не разглашаются."
   ]
  },
  {
   "cell_type": "markdown",
   "metadata": {},
   "source": [
    "## Загрузка и подготовка данных"
   ]
  },
  {
   "cell_type": "code",
   "execution_count": 1,
   "metadata": {},
   "outputs": [
    {
     "name": "stdout",
     "output_type": "stream",
     "text": [
      "Collecting missingno\n",
      "  Downloading missingno-0.5.2-py3-none-any.whl (8.7 kB)\n",
      "Requirement already satisfied: scipy in /opt/conda/lib/python3.9/site-packages (from missingno) (1.9.1)\n",
      "Requirement already satisfied: matplotlib in /opt/conda/lib/python3.9/site-packages (from missingno) (3.3.4)\n",
      "Requirement already satisfied: numpy in /opt/conda/lib/python3.9/site-packages (from missingno) (1.21.1)\n",
      "Requirement already satisfied: seaborn in /opt/conda/lib/python3.9/site-packages (from missingno) (0.11.1)\n",
      "Requirement already satisfied: pyparsing!=2.0.4,!=2.1.2,!=2.1.6,>=2.0.3 in /opt/conda/lib/python3.9/site-packages (from matplotlib->missingno) (2.4.7)\n",
      "Requirement already satisfied: pillow>=6.2.0 in /opt/conda/lib/python3.9/site-packages (from matplotlib->missingno) (8.4.0)\n",
      "Requirement already satisfied: cycler>=0.10 in /opt/conda/lib/python3.9/site-packages (from matplotlib->missingno) (0.11.0)\n",
      "Requirement already satisfied: python-dateutil>=2.1 in /opt/conda/lib/python3.9/site-packages (from matplotlib->missingno) (2.8.1)\n",
      "Requirement already satisfied: kiwisolver>=1.0.1 in /opt/conda/lib/python3.9/site-packages (from matplotlib->missingno) (1.4.4)\n",
      "Requirement already satisfied: six>=1.5 in /opt/conda/lib/python3.9/site-packages (from python-dateutil>=2.1->matplotlib->missingno) (1.16.0)\n",
      "Requirement already satisfied: pandas>=0.23 in /opt/conda/lib/python3.9/site-packages (from seaborn->missingno) (1.2.4)\n",
      "Requirement already satisfied: pytz>=2017.3 in /opt/conda/lib/python3.9/site-packages (from pandas>=0.23->seaborn->missingno) (2021.1)\n",
      "Installing collected packages: missingno\n",
      "Successfully installed missingno-0.5.2\n"
     ]
    }
   ],
   "source": [
    "import pandas as pd\n",
    "! pip install missingno\n",
    "import missingno as msno\n",
    "\n",
    "from sklearn.model_selection import train_test_split\n",
    "from sklearn.linear_model import LinearRegression\n",
    "from sklearn.metrics import mean_squared_error\n",
    "import numpy as np"
   ]
  },
  {
   "cell_type": "code",
   "execution_count": 2,
   "metadata": {},
   "outputs": [],
   "source": [
    "try:\n",
    "    try:\n",
    "        #локальная версия\n",
    "        df_0 = pd.read_csv('datasets\\geo_data_0.csv')\n",
    "        df_1 = pd.read_csv('datasets\\geo_data_1.csv')\n",
    "        df_2 = pd.read_csv('datasets\\geo_data_2.csv')\n",
    "    except:\n",
    "        #сетевая версия\n",
    "        df_0 = pd.read_csv('/datasets/geo_data_0.csv')\n",
    "        df_1 = pd.read_csv('/datasets/geo_data_1.csv')\n",
    "        df_2 = pd.read_csv('/datasets/geo_data_2.csv')\n",
    "except:\n",
    "    print('Не удалось прочесть файл. Возможно, был указан не верный путь.')"
   ]
  },
  {
   "cell_type": "code",
   "execution_count": 3,
   "metadata": {},
   "outputs": [
    {
     "data": {
      "text/html": [
       "<div>\n",
       "<style scoped>\n",
       "    .dataframe tbody tr th:only-of-type {\n",
       "        vertical-align: middle;\n",
       "    }\n",
       "\n",
       "    .dataframe tbody tr th {\n",
       "        vertical-align: top;\n",
       "    }\n",
       "\n",
       "    .dataframe thead th {\n",
       "        text-align: right;\n",
       "    }\n",
       "</style>\n",
       "<table border=\"1\" class=\"dataframe\">\n",
       "  <thead>\n",
       "    <tr style=\"text-align: right;\">\n",
       "      <th></th>\n",
       "      <th>id</th>\n",
       "      <th>f0</th>\n",
       "      <th>f1</th>\n",
       "      <th>f2</th>\n",
       "      <th>product</th>\n",
       "    </tr>\n",
       "  </thead>\n",
       "  <tbody>\n",
       "    <tr>\n",
       "      <th>0</th>\n",
       "      <td>txEyH</td>\n",
       "      <td>0.705745</td>\n",
       "      <td>-0.497823</td>\n",
       "      <td>1.221170</td>\n",
       "      <td>105.280062</td>\n",
       "    </tr>\n",
       "    <tr>\n",
       "      <th>1</th>\n",
       "      <td>2acmU</td>\n",
       "      <td>1.334711</td>\n",
       "      <td>-0.340164</td>\n",
       "      <td>4.365080</td>\n",
       "      <td>73.037750</td>\n",
       "    </tr>\n",
       "    <tr>\n",
       "      <th>2</th>\n",
       "      <td>409Wp</td>\n",
       "      <td>1.022732</td>\n",
       "      <td>0.151990</td>\n",
       "      <td>1.419926</td>\n",
       "      <td>85.265647</td>\n",
       "    </tr>\n",
       "    <tr>\n",
       "      <th>3</th>\n",
       "      <td>iJLyR</td>\n",
       "      <td>-0.032172</td>\n",
       "      <td>0.139033</td>\n",
       "      <td>2.978566</td>\n",
       "      <td>168.620776</td>\n",
       "    </tr>\n",
       "    <tr>\n",
       "      <th>4</th>\n",
       "      <td>Xdl7t</td>\n",
       "      <td>1.988431</td>\n",
       "      <td>0.155413</td>\n",
       "      <td>4.751769</td>\n",
       "      <td>154.036647</td>\n",
       "    </tr>\n",
       "    <tr>\n",
       "      <th>...</th>\n",
       "      <td>...</td>\n",
       "      <td>...</td>\n",
       "      <td>...</td>\n",
       "      <td>...</td>\n",
       "      <td>...</td>\n",
       "    </tr>\n",
       "    <tr>\n",
       "      <th>99995</th>\n",
       "      <td>DLsed</td>\n",
       "      <td>0.971957</td>\n",
       "      <td>0.370953</td>\n",
       "      <td>6.075346</td>\n",
       "      <td>110.744026</td>\n",
       "    </tr>\n",
       "    <tr>\n",
       "      <th>99996</th>\n",
       "      <td>QKivN</td>\n",
       "      <td>1.392429</td>\n",
       "      <td>-0.382606</td>\n",
       "      <td>1.273912</td>\n",
       "      <td>122.346843</td>\n",
       "    </tr>\n",
       "    <tr>\n",
       "      <th>99997</th>\n",
       "      <td>3rnvd</td>\n",
       "      <td>1.029585</td>\n",
       "      <td>0.018787</td>\n",
       "      <td>-1.348308</td>\n",
       "      <td>64.375443</td>\n",
       "    </tr>\n",
       "    <tr>\n",
       "      <th>99998</th>\n",
       "      <td>7kl59</td>\n",
       "      <td>0.998163</td>\n",
       "      <td>-0.528582</td>\n",
       "      <td>1.583869</td>\n",
       "      <td>74.040764</td>\n",
       "    </tr>\n",
       "    <tr>\n",
       "      <th>99999</th>\n",
       "      <td>1CWhH</td>\n",
       "      <td>1.764754</td>\n",
       "      <td>-0.266417</td>\n",
       "      <td>5.722849</td>\n",
       "      <td>149.633246</td>\n",
       "    </tr>\n",
       "  </tbody>\n",
       "</table>\n",
       "<p>100000 rows × 5 columns</p>\n",
       "</div>"
      ],
      "text/plain": [
       "          id        f0        f1        f2     product\n",
       "0      txEyH  0.705745 -0.497823  1.221170  105.280062\n",
       "1      2acmU  1.334711 -0.340164  4.365080   73.037750\n",
       "2      409Wp  1.022732  0.151990  1.419926   85.265647\n",
       "3      iJLyR -0.032172  0.139033  2.978566  168.620776\n",
       "4      Xdl7t  1.988431  0.155413  4.751769  154.036647\n",
       "...      ...       ...       ...       ...         ...\n",
       "99995  DLsed  0.971957  0.370953  6.075346  110.744026\n",
       "99996  QKivN  1.392429 -0.382606  1.273912  122.346843\n",
       "99997  3rnvd  1.029585  0.018787 -1.348308   64.375443\n",
       "99998  7kl59  0.998163 -0.528582  1.583869   74.040764\n",
       "99999  1CWhH  1.764754 -0.266417  5.722849  149.633246\n",
       "\n",
       "[100000 rows x 5 columns]"
      ]
     },
     "execution_count": 3,
     "metadata": {},
     "output_type": "execute_result"
    }
   ],
   "source": [
    "#посмотрим на 3 доступных нам датасета\n",
    "df_0"
   ]
  },
  {
   "cell_type": "code",
   "execution_count": 4,
   "metadata": {},
   "outputs": [
    {
     "data": {
      "text/html": [
       "<div>\n",
       "<style scoped>\n",
       "    .dataframe tbody tr th:only-of-type {\n",
       "        vertical-align: middle;\n",
       "    }\n",
       "\n",
       "    .dataframe tbody tr th {\n",
       "        vertical-align: top;\n",
       "    }\n",
       "\n",
       "    .dataframe thead th {\n",
       "        text-align: right;\n",
       "    }\n",
       "</style>\n",
       "<table border=\"1\" class=\"dataframe\">\n",
       "  <thead>\n",
       "    <tr style=\"text-align: right;\">\n",
       "      <th></th>\n",
       "      <th>id</th>\n",
       "      <th>f0</th>\n",
       "      <th>f1</th>\n",
       "      <th>f2</th>\n",
       "      <th>product</th>\n",
       "    </tr>\n",
       "  </thead>\n",
       "  <tbody>\n",
       "    <tr>\n",
       "      <th>0</th>\n",
       "      <td>kBEdx</td>\n",
       "      <td>-15.001348</td>\n",
       "      <td>-8.276000</td>\n",
       "      <td>-0.005876</td>\n",
       "      <td>3.179103</td>\n",
       "    </tr>\n",
       "    <tr>\n",
       "      <th>1</th>\n",
       "      <td>62mP7</td>\n",
       "      <td>14.272088</td>\n",
       "      <td>-3.475083</td>\n",
       "      <td>0.999183</td>\n",
       "      <td>26.953261</td>\n",
       "    </tr>\n",
       "    <tr>\n",
       "      <th>2</th>\n",
       "      <td>vyE1P</td>\n",
       "      <td>6.263187</td>\n",
       "      <td>-5.948386</td>\n",
       "      <td>5.001160</td>\n",
       "      <td>134.766305</td>\n",
       "    </tr>\n",
       "    <tr>\n",
       "      <th>3</th>\n",
       "      <td>KcrkZ</td>\n",
       "      <td>-13.081196</td>\n",
       "      <td>-11.506057</td>\n",
       "      <td>4.999415</td>\n",
       "      <td>137.945408</td>\n",
       "    </tr>\n",
       "    <tr>\n",
       "      <th>4</th>\n",
       "      <td>AHL4O</td>\n",
       "      <td>12.702195</td>\n",
       "      <td>-8.147433</td>\n",
       "      <td>5.004363</td>\n",
       "      <td>134.766305</td>\n",
       "    </tr>\n",
       "    <tr>\n",
       "      <th>...</th>\n",
       "      <td>...</td>\n",
       "      <td>...</td>\n",
       "      <td>...</td>\n",
       "      <td>...</td>\n",
       "      <td>...</td>\n",
       "    </tr>\n",
       "    <tr>\n",
       "      <th>99995</th>\n",
       "      <td>QywKC</td>\n",
       "      <td>9.535637</td>\n",
       "      <td>-6.878139</td>\n",
       "      <td>1.998296</td>\n",
       "      <td>53.906522</td>\n",
       "    </tr>\n",
       "    <tr>\n",
       "      <th>99996</th>\n",
       "      <td>ptvty</td>\n",
       "      <td>-10.160631</td>\n",
       "      <td>-12.558096</td>\n",
       "      <td>5.005581</td>\n",
       "      <td>137.945408</td>\n",
       "    </tr>\n",
       "    <tr>\n",
       "      <th>99997</th>\n",
       "      <td>09gWa</td>\n",
       "      <td>-7.378891</td>\n",
       "      <td>-3.084104</td>\n",
       "      <td>4.998651</td>\n",
       "      <td>137.945408</td>\n",
       "    </tr>\n",
       "    <tr>\n",
       "      <th>99998</th>\n",
       "      <td>rqwUm</td>\n",
       "      <td>0.665714</td>\n",
       "      <td>-6.152593</td>\n",
       "      <td>1.000146</td>\n",
       "      <td>30.132364</td>\n",
       "    </tr>\n",
       "    <tr>\n",
       "      <th>99999</th>\n",
       "      <td>relB0</td>\n",
       "      <td>-3.426139</td>\n",
       "      <td>-7.794274</td>\n",
       "      <td>-0.003299</td>\n",
       "      <td>3.179103</td>\n",
       "    </tr>\n",
       "  </tbody>\n",
       "</table>\n",
       "<p>100000 rows × 5 columns</p>\n",
       "</div>"
      ],
      "text/plain": [
       "          id         f0         f1        f2     product\n",
       "0      kBEdx -15.001348  -8.276000 -0.005876    3.179103\n",
       "1      62mP7  14.272088  -3.475083  0.999183   26.953261\n",
       "2      vyE1P   6.263187  -5.948386  5.001160  134.766305\n",
       "3      KcrkZ -13.081196 -11.506057  4.999415  137.945408\n",
       "4      AHL4O  12.702195  -8.147433  5.004363  134.766305\n",
       "...      ...        ...        ...       ...         ...\n",
       "99995  QywKC   9.535637  -6.878139  1.998296   53.906522\n",
       "99996  ptvty -10.160631 -12.558096  5.005581  137.945408\n",
       "99997  09gWa  -7.378891  -3.084104  4.998651  137.945408\n",
       "99998  rqwUm   0.665714  -6.152593  1.000146   30.132364\n",
       "99999  relB0  -3.426139  -7.794274 -0.003299    3.179103\n",
       "\n",
       "[100000 rows x 5 columns]"
      ]
     },
     "execution_count": 4,
     "metadata": {},
     "output_type": "execute_result"
    }
   ],
   "source": [
    "df_1"
   ]
  },
  {
   "cell_type": "code",
   "execution_count": 5,
   "metadata": {},
   "outputs": [
    {
     "data": {
      "text/html": [
       "<div>\n",
       "<style scoped>\n",
       "    .dataframe tbody tr th:only-of-type {\n",
       "        vertical-align: middle;\n",
       "    }\n",
       "\n",
       "    .dataframe tbody tr th {\n",
       "        vertical-align: top;\n",
       "    }\n",
       "\n",
       "    .dataframe thead th {\n",
       "        text-align: right;\n",
       "    }\n",
       "</style>\n",
       "<table border=\"1\" class=\"dataframe\">\n",
       "  <thead>\n",
       "    <tr style=\"text-align: right;\">\n",
       "      <th></th>\n",
       "      <th>id</th>\n",
       "      <th>f0</th>\n",
       "      <th>f1</th>\n",
       "      <th>f2</th>\n",
       "      <th>product</th>\n",
       "    </tr>\n",
       "  </thead>\n",
       "  <tbody>\n",
       "    <tr>\n",
       "      <th>0</th>\n",
       "      <td>fwXo0</td>\n",
       "      <td>-1.146987</td>\n",
       "      <td>0.963328</td>\n",
       "      <td>-0.828965</td>\n",
       "      <td>27.758673</td>\n",
       "    </tr>\n",
       "    <tr>\n",
       "      <th>1</th>\n",
       "      <td>WJtFt</td>\n",
       "      <td>0.262778</td>\n",
       "      <td>0.269839</td>\n",
       "      <td>-2.530187</td>\n",
       "      <td>56.069697</td>\n",
       "    </tr>\n",
       "    <tr>\n",
       "      <th>2</th>\n",
       "      <td>ovLUW</td>\n",
       "      <td>0.194587</td>\n",
       "      <td>0.289035</td>\n",
       "      <td>-5.586433</td>\n",
       "      <td>62.871910</td>\n",
       "    </tr>\n",
       "    <tr>\n",
       "      <th>3</th>\n",
       "      <td>q6cA6</td>\n",
       "      <td>2.236060</td>\n",
       "      <td>-0.553760</td>\n",
       "      <td>0.930038</td>\n",
       "      <td>114.572842</td>\n",
       "    </tr>\n",
       "    <tr>\n",
       "      <th>4</th>\n",
       "      <td>WPMUX</td>\n",
       "      <td>-0.515993</td>\n",
       "      <td>1.716266</td>\n",
       "      <td>5.899011</td>\n",
       "      <td>149.600746</td>\n",
       "    </tr>\n",
       "    <tr>\n",
       "      <th>...</th>\n",
       "      <td>...</td>\n",
       "      <td>...</td>\n",
       "      <td>...</td>\n",
       "      <td>...</td>\n",
       "      <td>...</td>\n",
       "    </tr>\n",
       "    <tr>\n",
       "      <th>99995</th>\n",
       "      <td>4GxBu</td>\n",
       "      <td>-1.777037</td>\n",
       "      <td>1.125220</td>\n",
       "      <td>6.263374</td>\n",
       "      <td>172.327046</td>\n",
       "    </tr>\n",
       "    <tr>\n",
       "      <th>99996</th>\n",
       "      <td>YKFjq</td>\n",
       "      <td>-1.261523</td>\n",
       "      <td>-0.894828</td>\n",
       "      <td>2.524545</td>\n",
       "      <td>138.748846</td>\n",
       "    </tr>\n",
       "    <tr>\n",
       "      <th>99997</th>\n",
       "      <td>tKPY3</td>\n",
       "      <td>-1.199934</td>\n",
       "      <td>-2.957637</td>\n",
       "      <td>5.219411</td>\n",
       "      <td>157.080080</td>\n",
       "    </tr>\n",
       "    <tr>\n",
       "      <th>99998</th>\n",
       "      <td>nmxp2</td>\n",
       "      <td>-2.419896</td>\n",
       "      <td>2.417221</td>\n",
       "      <td>-5.548444</td>\n",
       "      <td>51.795253</td>\n",
       "    </tr>\n",
       "    <tr>\n",
       "      <th>99999</th>\n",
       "      <td>V9kWn</td>\n",
       "      <td>-2.551421</td>\n",
       "      <td>-2.025625</td>\n",
       "      <td>6.090891</td>\n",
       "      <td>102.775767</td>\n",
       "    </tr>\n",
       "  </tbody>\n",
       "</table>\n",
       "<p>100000 rows × 5 columns</p>\n",
       "</div>"
      ],
      "text/plain": [
       "          id        f0        f1        f2     product\n",
       "0      fwXo0 -1.146987  0.963328 -0.828965   27.758673\n",
       "1      WJtFt  0.262778  0.269839 -2.530187   56.069697\n",
       "2      ovLUW  0.194587  0.289035 -5.586433   62.871910\n",
       "3      q6cA6  2.236060 -0.553760  0.930038  114.572842\n",
       "4      WPMUX -0.515993  1.716266  5.899011  149.600746\n",
       "...      ...       ...       ...       ...         ...\n",
       "99995  4GxBu -1.777037  1.125220  6.263374  172.327046\n",
       "99996  YKFjq -1.261523 -0.894828  2.524545  138.748846\n",
       "99997  tKPY3 -1.199934 -2.957637  5.219411  157.080080\n",
       "99998  nmxp2 -2.419896  2.417221 -5.548444   51.795253\n",
       "99999  V9kWn -2.551421 -2.025625  6.090891  102.775767\n",
       "\n",
       "[100000 rows x 5 columns]"
      ]
     },
     "execution_count": 5,
     "metadata": {},
     "output_type": "execute_result"
    }
   ],
   "source": [
    "df_2"
   ]
  },
  {
   "cell_type": "code",
   "execution_count": 6,
   "metadata": {},
   "outputs": [
    {
     "name": "stdout",
     "output_type": "stream",
     "text": [
      "<class 'pandas.core.frame.DataFrame'>\n",
      "RangeIndex: 100000 entries, 0 to 99999\n",
      "Data columns (total 5 columns):\n",
      " #   Column   Non-Null Count   Dtype  \n",
      "---  ------   --------------   -----  \n",
      " 0   id       100000 non-null  object \n",
      " 1   f0       100000 non-null  float64\n",
      " 2   f1       100000 non-null  float64\n",
      " 3   f2       100000 non-null  float64\n",
      " 4   product  100000 non-null  float64\n",
      "dtypes: float64(4), object(1)\n",
      "memory usage: 3.8+ MB\n"
     ]
    }
   ],
   "source": [
    "#посмотрим общую информацию о датасете\n",
    "df_0.info()"
   ]
  },
  {
   "cell_type": "code",
   "execution_count": 7,
   "metadata": {},
   "outputs": [
    {
     "name": "stdout",
     "output_type": "stream",
     "text": [
      "<class 'pandas.core.frame.DataFrame'>\n",
      "RangeIndex: 100000 entries, 0 to 99999\n",
      "Data columns (total 5 columns):\n",
      " #   Column   Non-Null Count   Dtype  \n",
      "---  ------   --------------   -----  \n",
      " 0   id       100000 non-null  object \n",
      " 1   f0       100000 non-null  float64\n",
      " 2   f1       100000 non-null  float64\n",
      " 3   f2       100000 non-null  float64\n",
      " 4   product  100000 non-null  float64\n",
      "dtypes: float64(4), object(1)\n",
      "memory usage: 3.8+ MB\n"
     ]
    }
   ],
   "source": [
    "df_1.info()"
   ]
  },
  {
   "cell_type": "code",
   "execution_count": 8,
   "metadata": {},
   "outputs": [
    {
     "name": "stdout",
     "output_type": "stream",
     "text": [
      "<class 'pandas.core.frame.DataFrame'>\n",
      "RangeIndex: 100000 entries, 0 to 99999\n",
      "Data columns (total 5 columns):\n",
      " #   Column   Non-Null Count   Dtype  \n",
      "---  ------   --------------   -----  \n",
      " 0   id       100000 non-null  object \n",
      " 1   f0       100000 non-null  float64\n",
      " 2   f1       100000 non-null  float64\n",
      " 3   f2       100000 non-null  float64\n",
      " 4   product  100000 non-null  float64\n",
      "dtypes: float64(4), object(1)\n",
      "memory usage: 3.8+ MB\n"
     ]
    }
   ],
   "source": [
    "df_2.info()"
   ]
  },
  {
   "cell_type": "code",
   "execution_count": 9,
   "metadata": {},
   "outputs": [
    {
     "data": {
      "text/plain": [
       "<AxesSubplot:>"
      ]
     },
     "execution_count": 9,
     "metadata": {},
     "output_type": "execute_result"
    },
    {
     "data": {
      "image/png": "[encoded data removed]",
      "text/plain": [
       "<Figure size 1800x720 with 2 Axes>"
      ]
     },
     "metadata": {
      "needs_background": "light"
     },
     "output_type": "display_data"
    }
   ],
   "source": [
    "#визуализируем целостность набора данных, для дальнейшей их обработки\n",
    "msno.matrix(df_0, labels=True)"
   ]
  },
  {
   "cell_type": "code",
   "execution_count": 10,
   "metadata": {},
   "outputs": [
    {
     "data": {
      "text/plain": [
       "<AxesSubplot:>"
      ]
     },
     "execution_count": 10,
     "metadata": {},
     "output_type": "execute_result"
    },
    {
     "data": {
      "image/png": "[encoded data removed]",
      "text/plain": [
       "<Figure size 1800x720 with 2 Axes>"
      ]
     },
     "metadata": {
      "needs_background": "light"
     },
     "output_type": "display_data"
    }
   ],
   "source": [
    "msno.matrix(df_1, labels=True)"
   ]
  },
  {
   "cell_type": "code",
   "execution_count": 11,
   "metadata": {},
   "outputs": [
    {
     "data": {
      "text/plain": [
       "<AxesSubplot:>"
      ]
     },
     "execution_count": 11,
     "metadata": {},
     "output_type": "execute_result"
    },
    {
     "data": {
      "image/png": "[encoded data removed]",
      "text/plain": [
       "<Figure size 1800x720 with 2 Axes>"
      ]
     },
     "metadata": {
      "needs_background": "light"
     },
     "output_type": "display_data"
    }
   ],
   "source": [
    "msno.matrix(df_2, labels=True)"
   ]
  },
  {
   "cell_type": "markdown",
   "metadata": {},
   "source": [
    "**В датасетах типы данных менять не нужно, данные не имеют пропусков, названия столбцов имеют корректный вид. В каждом из 3 регионов, как и заявлялось 100000 строк (месторождений).**"
   ]
  },
  {
   "cell_type": "code",
   "execution_count": 12,
   "metadata": {},
   "outputs": [
    {
     "name": "stdout",
     "output_type": "stream",
     "text": [
      "Размерность 0 датафрейма до удаления дубликатов, столбцов (строк и столбцов соответственно): (100000, 5)\n",
      "\n"
     ]
    }
   ],
   "source": [
    "print(f'Размерность 0 датафрейма до удаления дубликатов, столбцов (строк и столбцов соответственно):', df_0.shape)\n",
    "print()"
   ]
  },
  {
   "cell_type": "code",
   "execution_count": 13,
   "metadata": {},
   "outputs": [
    {
     "name": "stdout",
     "output_type": "stream",
     "text": [
      "Размерность 1 датафрейма до удаления дубликатов, столбцов (строк и столбцов соответственно): (100000, 5)\n",
      "\n"
     ]
    }
   ],
   "source": [
    "print(f'Размерность 1 датафрейма до удаления дубликатов, столбцов (строк и столбцов соответственно):', df_1.shape)\n",
    "print()"
   ]
  },
  {
   "cell_type": "code",
   "execution_count": 14,
   "metadata": {},
   "outputs": [
    {
     "name": "stdout",
     "output_type": "stream",
     "text": [
      "Размерность 2 датафрейма до удаления дубликатов, столбцов (строк и столбцов соответственно): (100000, 5)\n",
      "\n"
     ]
    }
   ],
   "source": [
    "print(f'Размерность 2 датафрейма до удаления дубликатов, столбцов (строк и столбцов соответственно):', df_2.shape)\n",
    "print()"
   ]
  },
  {
   "cell_type": "code",
   "execution_count": 15,
   "metadata": {},
   "outputs": [
    {
     "data": {
      "text/plain": [
       "10"
      ]
     },
     "execution_count": 15,
     "metadata": {},
     "output_type": "execute_result"
    }
   ],
   "source": [
    "#проверим количество явных дубликатов\n",
    "df_0['id'].duplicated().sum()"
   ]
  },
  {
   "cell_type": "code",
   "execution_count": 16,
   "metadata": {},
   "outputs": [
    {
     "name": "stdout",
     "output_type": "stream",
     "text": [
      "          id        f0        f1         f2     product\n",
      "7530   HZww2  1.061194 -0.373969  10.430210  158.828695\n",
      "41724  bxg6G -0.823752  0.546319   3.630479   93.007798\n",
      "51970  A5aEY -0.180335  0.935548  -2.094773   33.020205\n",
      "63593  QcMuo  0.635635 -0.473422   0.862670   64.578675\n",
      "66136  74z30  1.084962 -0.312358   6.990771  127.643327\n",
      "69163  AGS9W -0.933795  0.116194  -3.655896   19.230453\n",
      "75715  Tdehs  0.112079  0.430296   3.218993   60.964018\n",
      "90815  fiKDv  0.049883  0.841313   6.394613  137.346586\n",
      "92341  TtcGQ  0.110711  1.022689   0.911381  101.318008\n",
      "97785  bsk9y  0.378429  0.005837   0.160827  160.637302\n"
     ]
    }
   ],
   "source": [
    "#выведем их на экран\n",
    "print(df_0[df_0['id'].duplicated()])"
   ]
  },
  {
   "cell_type": "code",
   "execution_count": 17,
   "metadata": {},
   "outputs": [
    {
     "data": {
      "text/plain": [
       "4"
      ]
     },
     "execution_count": 17,
     "metadata": {},
     "output_type": "execute_result"
    }
   ],
   "source": [
    "#проверим количество явных дубликатов\n",
    "df_1['id'].duplicated().sum()"
   ]
  },
  {
   "cell_type": "code",
   "execution_count": 18,
   "metadata": {},
   "outputs": [
    {
     "name": "stdout",
     "output_type": "stream",
     "text": [
      "          id         f0        f1        f2     product\n",
      "41906  LHZR0  -8.989672 -4.286607  2.009139   57.085625\n",
      "82178  bfPNe  -6.202799 -4.820045  2.995107   84.038886\n",
      "82873  wt4Uk  10.259972 -9.376355  4.994297  134.766305\n",
      "84461  5ltQ6  18.213839  2.191999  3.993869  107.813044\n"
     ]
    }
   ],
   "source": [
    "print(df_1[df_1['id'].duplicated()])"
   ]
  },
  {
   "cell_type": "code",
   "execution_count": 19,
   "metadata": {},
   "outputs": [
    {
     "data": {
      "text/plain": [
       "4"
      ]
     },
     "execution_count": 19,
     "metadata": {},
     "output_type": "execute_result"
    }
   ],
   "source": [
    "#проверим количество явных дубликатов\n",
    "df_2['id'].duplicated().sum()"
   ]
  },
  {
   "cell_type": "code",
   "execution_count": 20,
   "metadata": {},
   "outputs": [
    {
     "name": "stdout",
     "output_type": "stream",
     "text": [
      "          id        f0        f1        f2     product\n",
      "43233  xCHr8 -0.847066  2.101796  5.597130  184.388641\n",
      "49564  VF7Jo -0.883115  0.560537  0.723601  136.233420\n",
      "55967  KUPhW  1.211150  3.176408  5.543540  132.831802\n",
      "95090  Vcm5J  2.587702  1.986875  2.482245   92.327572\n"
     ]
    }
   ],
   "source": [
    "print(df_2[df_2['id'].duplicated()])"
   ]
  },
  {
   "cell_type": "code",
   "execution_count": 21,
   "metadata": {},
   "outputs": [
    {
     "data": {
      "text/html": [
       "<div>\n",
       "<style scoped>\n",
       "    .dataframe tbody tr th:only-of-type {\n",
       "        vertical-align: middle;\n",
       "    }\n",
       "\n",
       "    .dataframe tbody tr th {\n",
       "        vertical-align: top;\n",
       "    }\n",
       "\n",
       "    .dataframe thead th {\n",
       "        text-align: right;\n",
       "    }\n",
       "</style>\n",
       "<table border=\"1\" class=\"dataframe\">\n",
       "  <thead>\n",
       "    <tr style=\"text-align: right;\">\n",
       "      <th></th>\n",
       "      <th>f0</th>\n",
       "      <th>f1</th>\n",
       "      <th>f2</th>\n",
       "      <th>product</th>\n",
       "    </tr>\n",
       "  </thead>\n",
       "  <tbody>\n",
       "    <tr>\n",
       "      <th>count</th>\n",
       "      <td>100000.000000</td>\n",
       "      <td>100000.000000</td>\n",
       "      <td>100000.000000</td>\n",
       "      <td>100000.000000</td>\n",
       "    </tr>\n",
       "    <tr>\n",
       "      <th>mean</th>\n",
       "      <td>0.500419</td>\n",
       "      <td>0.250143</td>\n",
       "      <td>2.502647</td>\n",
       "      <td>92.500000</td>\n",
       "    </tr>\n",
       "    <tr>\n",
       "      <th>std</th>\n",
       "      <td>0.871832</td>\n",
       "      <td>0.504433</td>\n",
       "      <td>3.248248</td>\n",
       "      <td>44.288691</td>\n",
       "    </tr>\n",
       "    <tr>\n",
       "      <th>min</th>\n",
       "      <td>-1.408605</td>\n",
       "      <td>-0.848218</td>\n",
       "      <td>-12.088328</td>\n",
       "      <td>0.000000</td>\n",
       "    </tr>\n",
       "    <tr>\n",
       "      <th>25%</th>\n",
       "      <td>-0.072580</td>\n",
       "      <td>-0.200881</td>\n",
       "      <td>0.287748</td>\n",
       "      <td>56.497507</td>\n",
       "    </tr>\n",
       "    <tr>\n",
       "      <th>50%</th>\n",
       "      <td>0.502360</td>\n",
       "      <td>0.250252</td>\n",
       "      <td>2.515969</td>\n",
       "      <td>91.849972</td>\n",
       "    </tr>\n",
       "    <tr>\n",
       "      <th>75%</th>\n",
       "      <td>1.073581</td>\n",
       "      <td>0.700646</td>\n",
       "      <td>4.715088</td>\n",
       "      <td>128.564089</td>\n",
       "    </tr>\n",
       "    <tr>\n",
       "      <th>max</th>\n",
       "      <td>2.362331</td>\n",
       "      <td>1.343769</td>\n",
       "      <td>16.003790</td>\n",
       "      <td>185.364347</td>\n",
       "    </tr>\n",
       "  </tbody>\n",
       "</table>\n",
       "</div>"
      ],
      "text/plain": [
       "                  f0             f1             f2        product\n",
       "count  100000.000000  100000.000000  100000.000000  100000.000000\n",
       "mean        0.500419       0.250143       2.502647      92.500000\n",
       "std         0.871832       0.504433       3.248248      44.288691\n",
       "min        -1.408605      -0.848218     -12.088328       0.000000\n",
       "25%        -0.072580      -0.200881       0.287748      56.497507\n",
       "50%         0.502360       0.250252       2.515969      91.849972\n",
       "75%         1.073581       0.700646       4.715088     128.564089\n",
       "max         2.362331       1.343769      16.003790     185.364347"
      ]
     },
     "execution_count": 21,
     "metadata": {},
     "output_type": "execute_result"
    }
   ],
   "source": [
    "#рассчитаем метрики для столбцов с числовыми значениями\n",
    "df_0.describe() "
   ]
  },
  {
   "cell_type": "code",
   "execution_count": 22,
   "metadata": {},
   "outputs": [
    {
     "data": {
      "text/html": [
       "<div>\n",
       "<style scoped>\n",
       "    .dataframe tbody tr th:only-of-type {\n",
       "        vertical-align: middle;\n",
       "    }\n",
       "\n",
       "    .dataframe tbody tr th {\n",
       "        vertical-align: top;\n",
       "    }\n",
       "\n",
       "    .dataframe thead th {\n",
       "        text-align: right;\n",
       "    }\n",
       "</style>\n",
       "<table border=\"1\" class=\"dataframe\">\n",
       "  <thead>\n",
       "    <tr style=\"text-align: right;\">\n",
       "      <th></th>\n",
       "      <th>f0</th>\n",
       "      <th>f1</th>\n",
       "      <th>f2</th>\n",
       "      <th>product</th>\n",
       "    </tr>\n",
       "  </thead>\n",
       "  <tbody>\n",
       "    <tr>\n",
       "      <th>count</th>\n",
       "      <td>100000.000000</td>\n",
       "      <td>100000.000000</td>\n",
       "      <td>100000.000000</td>\n",
       "      <td>100000.000000</td>\n",
       "    </tr>\n",
       "    <tr>\n",
       "      <th>mean</th>\n",
       "      <td>1.141296</td>\n",
       "      <td>-4.796579</td>\n",
       "      <td>2.494541</td>\n",
       "      <td>68.825000</td>\n",
       "    </tr>\n",
       "    <tr>\n",
       "      <th>std</th>\n",
       "      <td>8.965932</td>\n",
       "      <td>5.119872</td>\n",
       "      <td>1.703572</td>\n",
       "      <td>45.944423</td>\n",
       "    </tr>\n",
       "    <tr>\n",
       "      <th>min</th>\n",
       "      <td>-31.609576</td>\n",
       "      <td>-26.358598</td>\n",
       "      <td>-0.018144</td>\n",
       "      <td>0.000000</td>\n",
       "    </tr>\n",
       "    <tr>\n",
       "      <th>25%</th>\n",
       "      <td>-6.298551</td>\n",
       "      <td>-8.267985</td>\n",
       "      <td>1.000021</td>\n",
       "      <td>26.953261</td>\n",
       "    </tr>\n",
       "    <tr>\n",
       "      <th>50%</th>\n",
       "      <td>1.153055</td>\n",
       "      <td>-4.813172</td>\n",
       "      <td>2.011479</td>\n",
       "      <td>57.085625</td>\n",
       "    </tr>\n",
       "    <tr>\n",
       "      <th>75%</th>\n",
       "      <td>8.621015</td>\n",
       "      <td>-1.332816</td>\n",
       "      <td>3.999904</td>\n",
       "      <td>107.813044</td>\n",
       "    </tr>\n",
       "    <tr>\n",
       "      <th>max</th>\n",
       "      <td>29.421755</td>\n",
       "      <td>18.734063</td>\n",
       "      <td>5.019721</td>\n",
       "      <td>137.945408</td>\n",
       "    </tr>\n",
       "  </tbody>\n",
       "</table>\n",
       "</div>"
      ],
      "text/plain": [
       "                  f0             f1             f2        product\n",
       "count  100000.000000  100000.000000  100000.000000  100000.000000\n",
       "mean        1.141296      -4.796579       2.494541      68.825000\n",
       "std         8.965932       5.119872       1.703572      45.944423\n",
       "min       -31.609576     -26.358598      -0.018144       0.000000\n",
       "25%        -6.298551      -8.267985       1.000021      26.953261\n",
       "50%         1.153055      -4.813172       2.011479      57.085625\n",
       "75%         8.621015      -1.332816       3.999904     107.813044\n",
       "max        29.421755      18.734063       5.019721     137.945408"
      ]
     },
     "execution_count": 22,
     "metadata": {},
     "output_type": "execute_result"
    }
   ],
   "source": [
    "df_1.describe() "
   ]
  },
  {
   "cell_type": "code",
   "execution_count": 23,
   "metadata": {},
   "outputs": [
    {
     "data": {
      "text/html": [
       "<div>\n",
       "<style scoped>\n",
       "    .dataframe tbody tr th:only-of-type {\n",
       "        vertical-align: middle;\n",
       "    }\n",
       "\n",
       "    .dataframe tbody tr th {\n",
       "        vertical-align: top;\n",
       "    }\n",
       "\n",
       "    .dataframe thead th {\n",
       "        text-align: right;\n",
       "    }\n",
       "</style>\n",
       "<table border=\"1\" class=\"dataframe\">\n",
       "  <thead>\n",
       "    <tr style=\"text-align: right;\">\n",
       "      <th></th>\n",
       "      <th>f0</th>\n",
       "      <th>f1</th>\n",
       "      <th>f2</th>\n",
       "      <th>product</th>\n",
       "    </tr>\n",
       "  </thead>\n",
       "  <tbody>\n",
       "    <tr>\n",
       "      <th>count</th>\n",
       "      <td>100000.000000</td>\n",
       "      <td>100000.000000</td>\n",
       "      <td>100000.000000</td>\n",
       "      <td>100000.000000</td>\n",
       "    </tr>\n",
       "    <tr>\n",
       "      <th>mean</th>\n",
       "      <td>0.002023</td>\n",
       "      <td>-0.002081</td>\n",
       "      <td>2.495128</td>\n",
       "      <td>95.000000</td>\n",
       "    </tr>\n",
       "    <tr>\n",
       "      <th>std</th>\n",
       "      <td>1.732045</td>\n",
       "      <td>1.730417</td>\n",
       "      <td>3.473445</td>\n",
       "      <td>44.749921</td>\n",
       "    </tr>\n",
       "    <tr>\n",
       "      <th>min</th>\n",
       "      <td>-8.760004</td>\n",
       "      <td>-7.084020</td>\n",
       "      <td>-11.970335</td>\n",
       "      <td>0.000000</td>\n",
       "    </tr>\n",
       "    <tr>\n",
       "      <th>25%</th>\n",
       "      <td>-1.162288</td>\n",
       "      <td>-1.174820</td>\n",
       "      <td>0.130359</td>\n",
       "      <td>59.450441</td>\n",
       "    </tr>\n",
       "    <tr>\n",
       "      <th>50%</th>\n",
       "      <td>0.009424</td>\n",
       "      <td>-0.009482</td>\n",
       "      <td>2.484236</td>\n",
       "      <td>94.925613</td>\n",
       "    </tr>\n",
       "    <tr>\n",
       "      <th>75%</th>\n",
       "      <td>1.158535</td>\n",
       "      <td>1.163678</td>\n",
       "      <td>4.858794</td>\n",
       "      <td>130.595027</td>\n",
       "    </tr>\n",
       "    <tr>\n",
       "      <th>max</th>\n",
       "      <td>7.238262</td>\n",
       "      <td>7.844801</td>\n",
       "      <td>16.739402</td>\n",
       "      <td>190.029838</td>\n",
       "    </tr>\n",
       "  </tbody>\n",
       "</table>\n",
       "</div>"
      ],
      "text/plain": [
       "                  f0             f1             f2        product\n",
       "count  100000.000000  100000.000000  100000.000000  100000.000000\n",
       "mean        0.002023      -0.002081       2.495128      95.000000\n",
       "std         1.732045       1.730417       3.473445      44.749921\n",
       "min        -8.760004      -7.084020     -11.970335       0.000000\n",
       "25%        -1.162288      -1.174820       0.130359      59.450441\n",
       "50%         0.009424      -0.009482       2.484236      94.925613\n",
       "75%         1.158535       1.163678       4.858794     130.595027\n",
       "max         7.238262       7.844801      16.739402     190.029838"
      ]
     },
     "execution_count": 23,
     "metadata": {},
     "output_type": "execute_result"
    }
   ],
   "source": [
    "df_2.describe() "
   ]
  },
  {
   "cell_type": "code",
   "execution_count": 24,
   "metadata": {},
   "outputs": [],
   "source": [
    "#Видно, что некоторые строки - дубликаты имеют достаточно большие значения в столбце product. \n",
    "#оставим только те строки-дубликаты, которые имеют максимальное значение по столбцу product.\n",
    "\n",
    "df_0 = df_0.loc[df_0.groupby('id')['product'].idxmax()]"
   ]
  },
  {
   "cell_type": "code",
   "execution_count": 25,
   "metadata": {},
   "outputs": [
    {
     "data": {
      "text/plain": [
       "0"
      ]
     },
     "execution_count": 25,
     "metadata": {},
     "output_type": "execute_result"
    }
   ],
   "source": [
    "df_0['id'].duplicated().sum()"
   ]
  },
  {
   "cell_type": "code",
   "execution_count": 26,
   "metadata": {},
   "outputs": [
    {
     "name": "stdout",
     "output_type": "stream",
     "text": [
      "<class 'pandas.core.frame.DataFrame'>\n",
      "Int64Index: 99990 entries, 85486 to 48207\n",
      "Data columns (total 5 columns):\n",
      " #   Column   Non-Null Count  Dtype  \n",
      "---  ------   --------------  -----  \n",
      " 0   id       99990 non-null  object \n",
      " 1   f0       99990 non-null  float64\n",
      " 2   f1       99990 non-null  float64\n",
      " 3   f2       99990 non-null  float64\n",
      " 4   product  99990 non-null  float64\n",
      "dtypes: float64(4), object(1)\n",
      "memory usage: 4.6+ MB\n"
     ]
    }
   ],
   "source": [
    "df_0.info()"
   ]
  },
  {
   "cell_type": "code",
   "execution_count": 27,
   "metadata": {},
   "outputs": [],
   "source": [
    "df_1 = df_1.loc[df_1.groupby('id')['product'].idxmax()]"
   ]
  },
  {
   "cell_type": "code",
   "execution_count": 28,
   "metadata": {},
   "outputs": [],
   "source": [
    "df_2 = df_2.loc[df_2.groupby('id')['product'].idxmax()]"
   ]
  },
  {
   "cell_type": "code",
   "execution_count": 29,
   "metadata": {},
   "outputs": [],
   "source": [
    "#Удалим из датасетов столбцы id, т.к. обозначения скважин не влияют на целевой признак product:\n",
    "\n",
    "df_0 = df_0.drop('id', axis=1)\n",
    "df_1 = df_1.drop('id', axis=1)\n",
    "df_2 = df_2.drop('id', axis=1)"
   ]
  },
  {
   "cell_type": "code",
   "execution_count": 30,
   "metadata": {},
   "outputs": [
    {
     "name": "stdout",
     "output_type": "stream",
     "text": [
      "Размерность 0 датафрейма после удаления дубликатов, столбцов (строк и столбцов соответственно): (99990, 4)\n",
      "Размерность 1 датафрейма после удаления дубликатов, столбцов (строк и столбцов соответственно): (99996, 4)\n",
      "Размерность 2 датафрейма после до удаления дубликатов, столбцов (строк и столбцов соответственно): (99996, 4)\n"
     ]
    }
   ],
   "source": [
    "#проверим размерности датасетов после удаления дубликатов\n",
    "print(f'Размерность 0 датафрейма после удаления дубликатов, столбцов (строк и столбцов соответственно):', df_0.shape)\n",
    "print(f'Размерность 1 датафрейма после удаления дубликатов, столбцов (строк и столбцов соответственно):', df_1.shape)\n",
    "print(f'Размерность 2 датафрейма после до удаления дубликатов, столбцов (строк и столбцов соответственно):', df_2.shape)"
   ]
  },
  {
   "cell_type": "markdown",
   "metadata": {},
   "source": [
    "**Вывод по шагу 1:**\n",
    "\n",
    "**Таким образом было удалено 18 дубликатов и оставлены строки с максимальным значением по столбцу product. Датасеты готовы для дальнейших исследований и построения моделей обучения.**"
   ]
  },
  {
   "cell_type": "markdown",
   "metadata": {},
   "source": [
    "## Обучение и проверка модели"
   ]
  },
  {
   "cell_type": "code",
   "execution_count": 31,
   "metadata": {},
   "outputs": [],
   "source": [
    "#Обучим и проверим модель для каждого региона:"
   ]
  },
  {
   "cell_type": "markdown",
   "metadata": {},
   "source": [
    "### Разобьем данные на обучающую и валидационную выборки в соотношении 75:25."
   ]
  },
  {
   "cell_type": "code",
   "execution_count": 32,
   "metadata": {},
   "outputs": [],
   "source": [
    "def solo_split(df):\n",
    "\n",
    "    #Разобьем данные на две выборки (обучающую, валидационную выборки).\n",
    "    #Выделим в отдельные переменные фичи и целевой признак\n",
    "    target = df['product']\n",
    "    features = df.drop(['product'], axis=1)\n",
    "\n",
    "    #Разделим данные на обучающую(75%), валидационную(25%) выборки\n",
    "    features_train, features_valid, target_train, target_valid = train_test_split(\n",
    "        features, target, test_size=0.25, random_state=12345)\n",
    "    \n",
    "    #Провреим размер каждой выборки\n",
    "    print('Размер обучающей выборки:', features_train.shape[0])\n",
    "    print('Размер валидационной выборки:', features_valid.shape[0])\n",
    "\n",
    "    print()\n",
    "\n",
    "    # Выведем обучающие данные\n",
    "    print('Обучающие данные:')\n",
    "    print(features_train)\n",
    "\n",
    "    print()\n",
    "\n",
    "    # Выведем валидационные данные\n",
    "    print('Валидационные данные:')\n",
    "    print(features_valid)\n",
    "\n",
    "    print()\n",
    "\n",
    "    # Выведем целевой признак обучающей выборки\n",
    "    print('Целевой признак обучающей выборки:')\n",
    "    print(target_train)\n",
    "\n",
    "    print()\n",
    "\n",
    "    # Выведем целевой признак валидационной выборки\n",
    "    print('Целевой признак валидационной выборки:')\n",
    "    print(target_valid)\n",
    "    \n",
    "    return features_train, features_valid, target_train, target_valid\n"
   ]
  },
  {
   "cell_type": "code",
   "execution_count": 33,
   "metadata": {},
   "outputs": [
    {
     "name": "stdout",
     "output_type": "stream",
     "text": [
      "Размер обучающей выборки: 74992\n",
      "Размер валидационной выборки: 24998\n",
      "\n",
      "Обучающие данные:\n",
      "             f0        f1        f2\n",
      "34586 -0.854624  0.648931  0.918979\n",
      "84626  0.506776  0.903766  9.372056\n",
      "85171  0.929826 -0.276882  3.040144\n",
      "90434  0.619362 -0.536860 -0.578965\n",
      "59391 -1.005459  0.400291  6.430260\n",
      "...         ...       ...       ...\n",
      "85645  0.732526 -0.368536  0.872020\n",
      "64437  1.859445 -0.077640 -0.949147\n",
      "61121 -0.293869  0.938646  6.524649\n",
      "39986  0.259263 -0.298221  1.357552\n",
      "46490  0.208616  0.109618  2.565195\n",
      "\n",
      "[74992 rows x 3 columns]\n",
      "\n",
      "Валидационные данные:\n",
      "             f0        f1        f2\n",
      "54274  1.875305 -0.088220  2.906971\n",
      "34022  2.109148  0.229769 -0.162784\n",
      "67875  0.250098 -0.223214  0.251503\n",
      "22364  1.506250 -0.323977  4.195752\n",
      "23208 -0.960455  0.589049  2.585819\n",
      "...         ...       ...       ...\n",
      "38036  0.491137  0.685279  1.904904\n",
      "15658  0.378332  0.848977  4.341206\n",
      "82300  0.851017 -0.297936 -3.846108\n",
      "72277  0.779056  0.434927 -0.005849\n",
      "91703 -0.104511  1.132944  2.007904\n",
      "\n",
      "[24998 rows x 3 columns]\n",
      "\n",
      "Целевой признак обучающей выборки:\n",
      "34586    129.535996\n",
      "84626    111.747215\n",
      "85171    147.358946\n",
      "90434     41.009119\n",
      "59391     81.639537\n",
      "            ...    \n",
      "85645     50.640724\n",
      "64437     93.960585\n",
      "61121     94.121321\n",
      "39986    111.712407\n",
      "46490    118.668886\n",
      "Name: product, Length: 74992, dtype: float64\n",
      "\n",
      "Целевой признак валидационной выборки:\n",
      "54274    108.617879\n",
      "34022    145.330175\n",
      "67875     46.637742\n",
      "22364    176.921804\n",
      "23208    108.755252\n",
      "            ...    \n",
      "38036    103.412181\n",
      "15658    147.027345\n",
      "82300     79.892389\n",
      "72277    159.601439\n",
      "91703    110.010223\n",
      "Name: product, Length: 24998, dtype: float64\n"
     ]
    }
   ],
   "source": [
    "features_train_0, features_valid_0, target_train_0, target_valid_0 = solo_split(df_0)"
   ]
  },
  {
   "cell_type": "code",
   "execution_count": 34,
   "metadata": {},
   "outputs": [
    {
     "name": "stdout",
     "output_type": "stream",
     "text": [
      "Размер обучающей выборки: 74997\n",
      "Размер валидационной выборки: 24999\n",
      "\n",
      "Обучающие данные:\n",
      "              f0         f1        f2\n",
      "20656  -9.402199  -9.039856  1.001502\n",
      "20618   5.719051   0.258560  2.997325\n",
      "27589   2.613868  -4.689252  4.997197\n",
      "74660  -4.854275  -7.828654  1.997265\n",
      "63272   6.036799   3.765745 -0.004413\n",
      "...          ...        ...       ...\n",
      "75816   2.324959  -6.031647  2.000901\n",
      "48860  -5.712428 -13.980440  0.998991\n",
      "8390    7.752659  -0.514318  5.000161\n",
      "30468  -4.864043  -9.699840  1.996109\n",
      "94640 -10.310237  -7.398842  4.000888\n",
      "\n",
      "[74997 rows x 3 columns]\n",
      "\n",
      "Валидационные данные:\n",
      "              f0         f1        f2\n",
      "98775   2.101058 -15.359663  0.000647\n",
      "30981   6.409385   2.585123 -0.003164\n",
      "58056  -0.541448   0.485656  1.999177\n",
      "8025    7.814599  -3.454294  1.988938\n",
      "77424  11.274889  -6.923969  1.005349\n",
      "...          ...        ...       ...\n",
      "12473  22.768995   1.149003  5.002738\n",
      "15912   3.014463   0.131052  4.005872\n",
      "97469  12.465530   8.106178  1.994554\n",
      "83769  -5.384146  -3.040909  2.990631\n",
      "71467   7.808916  -1.202895  5.000631\n",
      "\n",
      "[24999 rows x 3 columns]\n",
      "\n",
      "Целевой признак обучающей выборки:\n",
      "20656     30.132364\n",
      "20618     80.859783\n",
      "27589    134.766305\n",
      "74660     57.085625\n",
      "63272      0.000000\n",
      "            ...    \n",
      "75816     57.085625\n",
      "48860     30.132364\n",
      "8390     134.766305\n",
      "30468     57.085625\n",
      "94640    110.992147\n",
      "Name: product, Length: 74997, dtype: float64\n",
      "\n",
      "Целевой признак валидационной выборки:\n",
      "98775      3.179103\n",
      "30981      0.000000\n",
      "58056     57.085625\n",
      "8025      53.906522\n",
      "77424     26.953261\n",
      "            ...    \n",
      "12473    134.766305\n",
      "15912    107.813044\n",
      "97469     53.906522\n",
      "83769     84.038886\n",
      "71467    134.766305\n",
      "Name: product, Length: 24999, dtype: float64\n"
     ]
    }
   ],
   "source": [
    "features_train_1, features_valid_1, target_train_1, target_valid_1 = solo_split(df_1)"
   ]
  },
  {
   "cell_type": "code",
   "execution_count": 35,
   "metadata": {},
   "outputs": [
    {
     "name": "stdout",
     "output_type": "stream",
     "text": [
      "Размер обучающей выборки: 74997\n",
      "Размер валидационной выборки: 24999\n",
      "\n",
      "Обучающие данные:\n",
      "             f0        f1        f2\n",
      "86628 -0.782372 -1.771512  3.106783\n",
      "55767  1.953960 -0.834384  3.352354\n",
      "23862  5.871165  0.714037  2.129213\n",
      "33447  0.055854 -1.387183  1.512609\n",
      "79712 -1.708728 -0.146710  3.523419\n",
      "...         ...       ...       ...\n",
      "62709 -3.435934 -1.855537  4.451967\n",
      "4312  -0.490523 -2.092290  3.391203\n",
      "18972 -0.791008  2.245977  7.026311\n",
      "85760  1.101659  2.921162  7.140167\n",
      "70473  1.629957 -0.852655  3.743740\n",
      "\n",
      "[74997 rows x 3 columns]\n",
      "\n",
      "Валидационные данные:\n",
      "             f0        f1        f2\n",
      "36134 -1.590159 -0.987171  4.416721\n",
      "30403  2.327903 -0.746044  3.669648\n",
      "32794  2.816231  0.434433 -2.528651\n",
      "89798  0.878318 -2.081427  4.173592\n",
      "44896  0.952651  0.131776  4.357391\n",
      "...         ...       ...       ...\n",
      "72382  1.054002  0.577943 -3.116853\n",
      "38389 -0.852102  1.469485 -3.911568\n",
      "75315 -0.076103  1.948004  8.134563\n",
      "33364  0.593695 -1.120748  7.273632\n",
      "28898  1.759534 -0.173084 -0.509316\n",
      "\n",
      "[24999 rows x 3 columns]\n",
      "\n",
      "Целевой признак обучающей выборки:\n",
      "86628    108.393435\n",
      "55767     89.647015\n",
      "23862    111.935406\n",
      "33447     41.365091\n",
      "79712    148.837234\n",
      "            ...    \n",
      "62709    157.057543\n",
      "4312     175.047107\n",
      "18972    161.979782\n",
      "85760    118.070355\n",
      "70473     59.982625\n",
      "Name: product, Length: 74997, dtype: float64\n",
      "\n",
      "Целевой признак валидационной выборки:\n",
      "36134     65.788119\n",
      "30403     70.306922\n",
      "32794     69.757120\n",
      "89798    168.193538\n",
      "44896     97.395859\n",
      "            ...    \n",
      "72382     50.086024\n",
      "38389     31.671310\n",
      "75315    154.046848\n",
      "33364    117.018615\n",
      "28898     29.904090\n",
      "Name: product, Length: 24999, dtype: float64\n"
     ]
    }
   ],
   "source": [
    "features_train_2, features_valid_2, target_train_2, target_valid_2 = solo_split(df_2)"
   ]
  },
  {
   "cell_type": "markdown",
   "metadata": {},
   "source": [
    "### Обучим модель и сделаем предсказания на валидационной выборке.\n"
   ]
  },
  {
   "cell_type": "code",
   "execution_count": 36,
   "metadata": {},
   "outputs": [
    {
     "data": {
      "text/plain": [
       "LinearRegression()"
      ]
     },
     "execution_count": 36,
     "metadata": {},
     "output_type": "execute_result"
    }
   ],
   "source": [
    "#обучим модель и выведем среднеквадратичную ошибку для 0ой модели\n",
    "model_0 = LinearRegression()\n",
    "model_0.fit(features_train_0, target_train_0)"
   ]
  },
  {
   "cell_type": "code",
   "execution_count": 37,
   "metadata": {},
   "outputs": [
    {
     "data": {
      "text/plain": [
       "LinearRegression()"
      ]
     },
     "execution_count": 37,
     "metadata": {},
     "output_type": "execute_result"
    }
   ],
   "source": [
    "#обучим модель и выведем среднеквадратичную ошибку для 1ой модели\n",
    "model_1 = LinearRegression()\n",
    "model_1.fit(features_train_1, target_train_1)"
   ]
  },
  {
   "cell_type": "code",
   "execution_count": 38,
   "metadata": {},
   "outputs": [
    {
     "data": {
      "text/plain": [
       "LinearRegression()"
      ]
     },
     "execution_count": 38,
     "metadata": {},
     "output_type": "execute_result"
    }
   ],
   "source": [
    "#обучим модель и выведем среднеквадратичную ошибку для 2ой модели\n",
    "model_2 = LinearRegression()\n",
    "model_2.fit(features_train_2, target_train_2)"
   ]
  },
  {
   "cell_type": "markdown",
   "metadata": {},
   "source": [
    "### Сохраним предсказания и правильные ответы на валидационной выборке.\n"
   ]
  },
  {
   "cell_type": "code",
   "execution_count": 39,
   "metadata": {},
   "outputs": [],
   "source": [
    "predicted_target_0 = model_0.predict(features_valid_0)"
   ]
  },
  {
   "cell_type": "code",
   "execution_count": 40,
   "metadata": {},
   "outputs": [],
   "source": [
    "predicted_target_1 = model_1.predict(features_valid_1)"
   ]
  },
  {
   "cell_type": "code",
   "execution_count": 41,
   "metadata": {},
   "outputs": [],
   "source": [
    "predicted_target_2 = model_2.predict(features_valid_2)"
   ]
  },
  {
   "cell_type": "markdown",
   "metadata": {},
   "source": [
    "### Напечатаем на экране средний запас предсказанного сырья и RMSE модели.\n"
   ]
  },
  {
   "cell_type": "code",
   "execution_count": 42,
   "metadata": {},
   "outputs": [
    {
     "name": "stdout",
     "output_type": "stream",
     "text": [
      "Средний запас предсказанного сырья 0го датафрейма- 92.46872715215066\n",
      "RMSE - 37.70050687937696\n"
     ]
    }
   ],
   "source": [
    "print('Средний запас предсказанного сырья 0го датафрейма-', predicted_target_0.mean())\n",
    "print('RMSE -', mean_squared_error(target_valid_0, predicted_target_0)**0.5)"
   ]
  },
  {
   "cell_type": "code",
   "execution_count": 43,
   "metadata": {},
   "outputs": [
    {
     "name": "stdout",
     "output_type": "stream",
     "text": [
      "Средний запас предсказанного сырья 1го датафрейма- 68.99166298712306\n",
      "RMSE - 0.8903348491780877\n"
     ]
    }
   ],
   "source": [
    "print('Средний запас предсказанного сырья 1го датафрейма-', predicted_target_1.mean())\n",
    "print('RMSE -', mean_squared_error(target_valid_1, predicted_target_1)**0.5)"
   ]
  },
  {
   "cell_type": "code",
   "execution_count": 44,
   "metadata": {},
   "outputs": [
    {
     "name": "stdout",
     "output_type": "stream",
     "text": [
      "Средний запас предсказанного сырья 2го датафрейма- 95.02470143190173\n",
      "RMSE - 40.18232078332373\n"
     ]
    }
   ],
   "source": [
    "print('Средний запас предсказанного сырья 2го датафрейма-', predicted_target_2.mean())\n",
    "print('RMSE -', mean_squared_error(target_valid_2, predicted_target_2)**0.5)"
   ]
  },
  {
   "cell_type": "markdown",
   "metadata": {},
   "source": [
    "### Проанализируем результаты и напишем выводы по шагу 2."
   ]
  },
  {
   "cell_type": "markdown",
   "metadata": {},
   "source": [
    "**Вывод по шагу 2:**\n",
    "\n",
    "    В этом шаге мы написали функцию, которая разбивает данные каждого датафрейма на обучающую и валидационную выборки в соотношении 75:25, после чего рассчитали для каждого датафрейма средний запас предсказанного сырья и RSME. Самое низкое значение среднеквадратической ошибки (RSME) у датафрейма под номером 1, при этом предсказанные запасы значительно выше в датафреймах 0 и 2."
   ]
  },
  {
   "cell_type": "markdown",
   "metadata": {},
   "source": [
    "## Подготовка к расчёту прибыли"
   ]
  },
  {
   "cell_type": "markdown",
   "metadata": {},
   "source": [
    "- При разведке региона исследуют 500 точек, из которых с помощью машинного обучения выбирают 200 лучших для разработки.\n",
    "\n",
    "- Бюджет на разработку скважин в регионе — 10 млрд рублей.\n",
    "\n",
    "- При нынешних ценах один баррель сырья приносит 450 рублей дохода.\n",
    "     \n",
    "- Доход с каждой единицы продукта составляет 450 тыс. рублей, поскольку объём указан в тысячах баррелей."
   ]
  },
  {
   "cell_type": "markdown",
   "metadata": {},
   "source": [
    "### Все ключевые значения для расчётов сохраним в отдельных переменных."
   ]
  },
  {
   "cell_type": "code",
   "execution_count": 45,
   "metadata": {},
   "outputs": [],
   "source": [
    "#прибыль расчитывается по формуле:\n",
    "#прибыль = валовая прибыль - операционные расходы\n",
    "#зададим основные параметры через переменные\n",
    "budget = 10*(10**9) #10 000 000 000 рублей\n",
    "chosen_points = 500 #500 точек будет исследовано при разведке региона\n",
    "best_points = 200 #200 лучших точек для разработки\n",
    "price_per_barrel = 450*(10**3) #доход с единицы продукта, за 1000 баррель"
   ]
  },
  {
   "cell_type": "markdown",
   "metadata": {},
   "source": [
    "### Рассчитаем достаточный объём сырья для безубыточной разработки новой скважины. Сравним полученный объём сырья со средним запасом в каждом регионе."
   ]
  },
  {
   "cell_type": "code",
   "execution_count": 46,
   "metadata": {},
   "outputs": [
    {
     "name": "stdout",
     "output_type": "stream",
     "text": [
      "Средняя прибыль на лучшие точки - 50000000.0 рублей\n",
      "Средний объем нефти на лучшую точку - 111.11 баррелей\n",
      "Средний объем нефти на регион - 22222.22 баррелей\n"
     ]
    }
   ],
   "source": [
    "average_profit_pp = budget / best_points\n",
    "print(f'Средняя прибыль на лучшие точки - {average_profit_pp} рублей')\n",
    "average_oil_best_point = average_profit_pp / price_per_barrel\n",
    "print(f'Средний объем нефти на лучшую точку - {round(average_oil_best_point,2)} баррелей')\n",
    "average_oil_region = budget / price_per_barrel\n",
    "print(f'Средний объем нефти на регион - {round(average_oil_region,2)} баррелей')"
   ]
  },
  {
   "cell_type": "code",
   "execution_count": 47,
   "metadata": {},
   "outputs": [
    {
     "name": "stdout",
     "output_type": "stream",
     "text": [
      "92.5 баррелей на 1 скважину в нулевом регионе\n",
      "68.83 баррелей на 1 скважину в первом регионе\n",
      "95.0 баррелей на 1 скважину во втором регионе\n"
     ]
    }
   ],
   "source": [
    "#фактический средний запас нефти в нулевом регионе на одну скважину\n",
    "average_oil_df_0 = df_0['product'].mean()\n",
    "print(f'{round(average_oil_df_0,2)} баррелей на 1 скважину в нулевом регионе')\n",
    "#фактический средний запас нефти в первом регионе на одну скважину\n",
    "average_oil_df_1 = df_1['product'].mean()\n",
    "print(f'{round(average_oil_df_1,2)} баррелей на 1 скважину в первом регионе')\n",
    "#фактический средний запас нефти во втором регионе на одну скважину\n",
    "average_oil_df_2 = df_2['product'].mean()\n",
    "print(f'{round(average_oil_df_2,2)} баррелей на 1 скважину во втором регионе')"
   ]
  },
  {
   "cell_type": "markdown",
   "metadata": {},
   "source": [
    "### Напишем выводы по шагу подготовки расчёта прибыли."
   ]
  },
  {
   "cell_type": "markdown",
   "metadata": {},
   "source": [
    "**Вывод по шагу 3:**\n",
    "\n",
    "- Средняя расчетная прибыль на лучшие месторождения должна быть не меньше 50 000 000 рублей.\n",
    "- Средний расчетный объем нефти на лучшую точку должен быть не меньше 111.11 баррелей.\n",
    "- Средний объем нефти на регион должен составлять не менее 22222.22 баррелей.\n",
    "- Фактический средний объем нефти в регионах составил: \n",
    "    - 92.5 баррелей на 1 скважину в нулевом регионе\n",
    "    - 68.83 баррелей на 1 скважину в первом регионе\n",
    "    - 95.0 баррелей на 1 скважину во втором регионе\n",
    "\n",
    "Как видно средние фактические показатели на одну точку выше всего в нулевом и втором регионах, они ближе всего к расчетному показателю объем нефти на лучшую точку - 111.11 баррелей."
   ]
  },
  {
   "cell_type": "markdown",
   "metadata": {},
   "source": [
    "## Расчёт прибыли и рисков "
   ]
  },
  {
   "cell_type": "markdown",
   "metadata": {},
   "source": [
    "### Напишем функцию для расчёта прибыли по выбранным скважинам и предсказаниям модели:"
   ]
  },
  {
   "cell_type": "code",
   "execution_count": 48,
   "metadata": {},
   "outputs": [],
   "source": [
    "# Функция для расчета прибыли на 500 разведанных точек.\n",
    "def func_profit(target, probabilities, count):\n",
    "    #сортируем записи\n",
    "    probs_sorted = probabilities.sort_values(ascending=False)\n",
    "    #находим скважины с максимальными значениями предсказаний (обрезаем признаки по длине равными count)\n",
    "    selected = target[probs_sorted.index][:count]\n",
    "    #проссумируем целевое значение объёма сырья, соответствующее этим предсказаниям и \n",
    "    #рассчитаем прибыль для полученного объема сырья\n",
    "    return price_per_barrel * selected.sum() - budget"
   ]
  },
  {
   "cell_type": "markdown",
   "metadata": {},
   "source": [
    "**Функция отбирает count (200) лучших скважин в регионе по объему нефти, затем суммирует значения объемов и рассчитывает прибыль исходя из ранее заданных параметров стоимости единицы продукции.**"
   ]
  },
  {
   "cell_type": "markdown",
   "metadata": {},
   "source": [
    "### Применим технику Bootstrap с 1000 выборок, чтобы найти распределение прибыли."
   ]
  },
  {
   "cell_type": "code",
   "execution_count": 49,
   "metadata": {},
   "outputs": [],
   "source": [
    "# Функция для применения техники Bootstrap с 1000 выборокам\n",
    "state = np.random.RandomState(12345)\n",
    "def bootstrap(target, probabilities):\n",
    "    values=[]\n",
    "    count_lost = 0\n",
    "    for i in range(1000):\n",
    "        target_sample = target.sample(n=chosen_points, replace=True, random_state=state)\n",
    "        probs_sample = probabilities[target_sample.index]\n",
    "        profit = func_profit(target, probs_sample, best_points)\n",
    "        if profit < 0:\n",
    "            count_lost +=1\n",
    "        values.append(profit)\n",
    "    \n",
    "    #Посчитаем риски и прибыль для региона:\n",
    "    values = pd.Series(values)\n",
    "    lower = values.quantile(0.025)\n",
    "    upper = values.quantile(0.975)\n",
    "    average = values.mean()\n",
    "    risk = count_lost / 1000\n",
    "    return average, lower, upper, risk"
   ]
  },
  {
   "cell_type": "code",
   "execution_count": 50,
   "metadata": {},
   "outputs": [],
   "source": [
    "#напишем функцию создающую сводную таблицу df\n",
    "def df_frame_transform(target, predicted):\n",
    "    \n",
    "    data = {'real_product' : target,\n",
    "            'predicted_product' : predicted\n",
    "           }\n",
    "    data_frame = pd.DataFrame(data, columns = ['real_product', 'predicted_product'])\n",
    "    \n",
    "    return data_frame"
   ]
  },
  {
   "cell_type": "markdown",
   "metadata": {},
   "source": [
    "### Посчитаем риски и прибыль для каждого региона:"
   ]
  },
  {
   "cell_type": "code",
   "execution_count": 51,
   "metadata": {},
   "outputs": [],
   "source": [
    "#создадим сводные таблицы по каждому региону\n",
    "df_frame_0 = df_frame_transform(target_valid_0, predicted_target_0)\n",
    "df_frame_1 = df_frame_transform(target_valid_1, predicted_target_1)\n",
    "df_frame_2 = df_frame_transform(target_valid_2, predicted_target_2)"
   ]
  },
  {
   "cell_type": "code",
   "execution_count": 52,
   "metadata": {},
   "outputs": [
    {
     "name": "stdout",
     "output_type": "stream",
     "text": [
      "Данные по нулевому региону.\n",
      "Средняя прибыль по региону = 424447906 тыс.руб.\n",
      "95% доверительный интервал от -93515113.00 до 931076804.17 тыс.руб.\n",
      "Процент риска 4.90%\n"
     ]
    }
   ],
   "source": [
    "#данные по 0 региону\n",
    "average_0, lower_0, upper_0, risk_0 = bootstrap(df_frame_0['real_product'], df_frame_0['predicted_product'], )\n",
    "print('Данные по нулевому региону.')\n",
    "print(f'Средняя прибыль по региону = {int(average_0)} тыс.руб.')\n",
    "print('95% доверительный интервал от {:.2f} до {:.2f} тыс.руб.'.format(lower_0, upper_0))\n",
    "print('Процент риска {:.2%}'.format(risk_0))"
   ]
  },
  {
   "cell_type": "code",
   "execution_count": 53,
   "metadata": {},
   "outputs": [
    {
     "name": "stdout",
     "output_type": "stream",
     "text": [
      "Данные по первому региону.\n",
      "Средняя прибыль по региону = 464360912 тыс.руб.\n",
      "95% доверительный интервал от 41718333.21 до 928663073.99 тыс.руб.\n",
      "Процент риска 1.30%\n"
     ]
    }
   ],
   "source": [
    "#данные по 1 региону\n",
    "average_1, lower_1, upper_1, risk_1 = bootstrap(df_frame_1['real_product'], df_frame_1['predicted_product'], )\n",
    "print('Данные по первому региону.')\n",
    "print(f'Средняя прибыль по региону = {int(average_1)} тыс.руб.')\n",
    "print('95% доверительный интервал от {:.2f} до {:.2f} тыс.руб.'.format(lower_1, upper_1))\n",
    "print('Процент риска {:.2%}'.format(risk_1))"
   ]
  },
  {
   "cell_type": "code",
   "execution_count": 54,
   "metadata": {},
   "outputs": [
    {
     "name": "stdout",
     "output_type": "stream",
     "text": [
      "Данные по второму региону.\n",
      "Средняя прибыль по региону = 325642474 тыс.руб.\n",
      "95% доверительный интервал от -173318136.01 до 884008976.44 тыс.руб.\n",
      "Процент риска 10.60%\n"
     ]
    }
   ],
   "source": [
    "#данные по 2 региону\n",
    "average_2, lower_2, upper_2, risk_2 = bootstrap(df_frame_2['real_product'], df_frame_2['predicted_product'], )\n",
    "print('Данные по второму региону.')\n",
    "print(f'Средняя прибыль по региону = {int(average_2)} тыс.руб.')\n",
    "print('95% доверительный интервал от {:.2f} до {:.2f} тыс.руб.'.format(lower_2, upper_2))\n",
    "print('Процент риска {:.2%}'.format(risk_2))"
   ]
  },
  {
   "cell_type": "markdown",
   "metadata": {},
   "source": [
    "### Напишем выводы: предложим регион для разработки скважин и обоснуем выбор."
   ]
  },
  {
   "cell_type": "markdown",
   "metadata": {},
   "source": [
    "**Вывод по шагу 4:**\n",
    "\n",
    "Написанные функции позволяют вычислить среднюю прибыль по каждому региону с 95% доверительным интервалом.\n",
    "\n",
    "При том, что фактический средний объем нефти в 1 регионе был ниже чем в остальных регионах, риски его разработки минимальны и составляют 1,3%, а нижняя граница 95% доверительного интервала имеет положительное значение, значит с уверенностью можно сказать, что данный регион является приоритетным и его можно рекоммендовать к инвестициям.\n",
    "\n",
    "При этом два других региона менее привлекательны: регион 2 имеет достаточно высокие риски и нижняя граница доверительного интервала находится на самой низкой отметке, среди исследуемых регионов."
   ]
  },
  {
   "cell_type": "markdown",
   "metadata": {},
   "source": [
    "## Напишем общий вывод по проекту и дадим реккомендации"
   ]
  },
  {
   "cell_type": "markdown",
   "metadata": {},
   "source": [
    "Данные для исследования практически не потребовали предобработки, было удалено всего 18 дубликатов и оставлены строки с максимальным значением по столбцу product. Построенные на обучающих выборках модели показали себя неплохо, при этом самое низкое значение среднеквадратической ошибки (RMSE - 0.89 барреля) у датафрейма под номером 1, при этом предсказанные запасы значительно выше в регионах 0 (92.46 барреля на скважину) и 2 (95.02 барреля на скважину).\n",
    "\n",
    "Расчетные данные безубыточных инвестиций показали следующие параметры для регионов:\n",
    "  - Средняя расчетная прибыль на лучшие месторождения должна быть не меньше 50 000 000 рублей.\n",
    "  - Средний расчетный объем нефти на лучшую точку должен быть не меньше 111.11 баррелей.\n",
    "  - Средний объем нефти на регион должен составлять не менее 22222.22 баррелей.\n",
    "\n",
    "Фактический средний объем нефти в регионах составил:\n",
    "  - 92.5 баррелей на 1 скважину в нулевом регионе\n",
    "  - 68.83 баррелей на 1 скважину в первом регионе\n",
    "  - 95.0 баррелей на 1 скважину во втором регионе\n",
    "Как видно средние фактические показатели на одну точку выше всего в нулевом и втором регионах, они ближе всего к расчетному показателю объем нефти на лучшую точку - 111.11 баррелей.\n",
    "\n",
    "При том, что фактический средний объем нефти в 1 регионе был ниже чем в остальных регионах, риски его разработки минимальны и составляют 1,30%, а нижняя граница 95% доверительного интервала имеет положительное значение, значит с уверенностью можно сказать, что данный регион является приоритетным и его можно рекоммендовать к инвестициям и разработке.\n",
    "\n",
    "Данные по первому региону:\n",
    " - Средняя прибыль по региону = 464 360 912 тыс.руб.\n",
    " - 95% доверительный интервал от 41718333.21 до 928663073.99 тыс.руб.\n",
    " - Процент риска 1.30%\n",
    "\n",
    "**В 1 регионе добыча принесет наибольшую прибыль. При этом два других региона менее привлекательны.**\n",
    "\n",
    "В качестве альтернативы 1 региону можно расмотерть регион под номером 0, при должных инвестициях в исследования можно снизить риски и получить достаточно хорошую прибыль в сравнении с нашим основным вариантом.\n"
   ]
  },
  {
   "cell_type": "markdown",
   "metadata": {},
   "source": [
    "## Чек-лист готовности проекта"
   ]
  },
  {
   "cell_type": "markdown",
   "metadata": {},
   "source": [
    "Поставьте 'x' в выполненных пунктах. Далее нажмите Shift+Enter."
   ]
  },
  {
   "cell_type": "markdown",
   "metadata": {},
   "source": [
    "- [x]  Jupyter Notebook открыт\n",
    "- [x]  Весь код выполняется без ошибок\n",
    "- [x]  Ячейки с кодом расположены в порядке исполнения\n",
    "- [x]  Выполнен шаг 1: данные подготовлены\n",
    "- [x]  Выполнен шаг 2: модели обучены и проверены\n",
    "    - [x]  Данные корректно разбиты на обучающую и валидационную выборки\n",
    "    - [x]  Модели обучены, предсказания сделаны\n",
    "    - [x]  Предсказания и правильные ответы на валидационной выборке сохранены\n",
    "    - [x]  На экране напечатаны результаты\n",
    "    - [x]  Сделаны выводы\n",
    "- [x]  Выполнен шаг 3: проведена подготовка к расчёту прибыли\n",
    "    - [x]  Для всех ключевых значений созданы константы Python\n",
    "    - [x]  Посчитано минимальное среднее количество продукта в месторождениях региона, достаточное для разработки\n",
    "    - [x]  По предыдущему пункту сделаны выводы\n",
    "    - [x]  Написана функция расчёта прибыли\n",
    "- [x]  Выполнен шаг 4: посчитаны риски и прибыль\n",
    "    - [x]  Проведена процедура *Bootstrap*\n",
    "    - [x]  Все параметры бутстрепа соответствуют условию\n",
    "    - [x]  Найдены все нужные величины\n",
    "    - [x]  Предложен регион для разработки месторождения\n",
    "    - [x]  Выбор региона обоснован"
   ]
  }
 ],
 "metadata": {
  "ExecuteTimeLog": [
   {
    "duration": 239,
    "start_time": "2023-07-31T15:49:35.176Z"
   },
   {
    "duration": 221,
    "start_time": "2023-07-31T15:49:44.371Z"
   },
   {
    "duration": 22,
    "start_time": "2023-07-31T19:44:46.058Z"
   },
   {
    "duration": 6491,
    "start_time": "2023-07-31T19:46:51.844Z"
   },
   {
    "duration": 629,
    "start_time": "2023-07-31T19:47:01.417Z"
   },
   {
    "duration": 45,
    "start_time": "2023-07-31T19:48:32.156Z"
   },
   {
    "duration": 48,
    "start_time": "2023-07-31T19:48:32.834Z"
   },
   {
    "duration": 31,
    "start_time": "2023-07-31T19:48:33.496Z"
   },
   {
    "duration": 30,
    "start_time": "2023-07-31T19:50:14.096Z"
   },
   {
    "duration": 30,
    "start_time": "2023-07-31T19:50:29.505Z"
   },
   {
    "duration": 45,
    "start_time": "2023-07-31T19:50:32.798Z"
   },
   {
    "duration": 944,
    "start_time": "2023-07-31T19:51:37.805Z"
   },
   {
    "duration": 834,
    "start_time": "2023-07-31T19:51:38.752Z"
   },
   {
    "duration": 1012,
    "start_time": "2023-07-31T19:51:39.590Z"
   },
   {
    "duration": 828,
    "start_time": "2023-07-31T19:51:52.544Z"
   },
   {
    "duration": 1054,
    "start_time": "2023-07-31T19:51:57.645Z"
   },
   {
    "duration": 1054,
    "start_time": "2023-07-31T19:51:58.713Z"
   },
   {
    "duration": 5,
    "start_time": "2023-07-31T19:55:18.805Z"
   },
   {
    "duration": 4,
    "start_time": "2023-07-31T19:55:19.395Z"
   },
   {
    "duration": 5,
    "start_time": "2023-07-31T19:55:19.776Z"
   },
   {
    "duration": 19,
    "start_time": "2023-07-31T19:56:38.660Z"
   },
   {
    "duration": 14,
    "start_time": "2023-07-31T19:57:00.397Z"
   },
   {
    "duration": 14,
    "start_time": "2023-07-31T19:57:00.879Z"
   },
   {
    "duration": 147,
    "start_time": "2023-07-31T19:57:13.402Z"
   },
   {
    "duration": 67,
    "start_time": "2023-07-31T19:57:23.952Z"
   },
   {
    "duration": 28,
    "start_time": "2023-07-31T19:58:16.351Z"
   },
   {
    "duration": 27,
    "start_time": "2023-07-31T19:58:27.053Z"
   },
   {
    "duration": 32,
    "start_time": "2023-07-31T19:58:44.193Z"
   },
   {
    "duration": 32,
    "start_time": "2023-07-31T19:59:13.095Z"
   },
   {
    "duration": 42,
    "start_time": "2023-07-31T19:59:33.451Z"
   },
   {
    "duration": 86,
    "start_time": "2023-07-31T20:02:08.147Z"
   },
   {
    "duration": 157,
    "start_time": "2023-07-31T20:02:22.262Z"
   },
   {
    "duration": 112,
    "start_time": "2023-07-31T20:02:31.447Z"
   },
   {
    "duration": 34,
    "start_time": "2023-07-31T20:02:51.542Z"
   },
   {
    "duration": 38,
    "start_time": "2023-07-31T20:03:04.951Z"
   },
   {
    "duration": 108,
    "start_time": "2023-07-31T20:03:14.366Z"
   },
   {
    "duration": 60,
    "start_time": "2023-07-31T20:03:41.616Z"
   },
   {
    "duration": 81,
    "start_time": "2023-07-31T20:07:01.745Z"
   },
   {
    "duration": 85,
    "start_time": "2023-07-31T20:07:01.960Z"
   },
   {
    "duration": 71,
    "start_time": "2023-07-31T20:07:03.760Z"
   },
   {
    "duration": 9254,
    "start_time": "2023-07-31T20:13:34.819Z"
   },
   {
    "duration": 4364,
    "start_time": "2023-07-31T20:14:47.078Z"
   },
   {
    "duration": 663,
    "start_time": "2023-07-31T20:14:51.446Z"
   },
   {
    "duration": 32,
    "start_time": "2023-07-31T20:14:52.116Z"
   },
   {
    "duration": 24,
    "start_time": "2023-07-31T20:14:52.152Z"
   },
   {
    "duration": 40,
    "start_time": "2023-07-31T20:14:52.183Z"
   },
   {
    "duration": 36,
    "start_time": "2023-07-31T20:14:52.225Z"
   },
   {
    "duration": 52,
    "start_time": "2023-07-31T20:14:52.263Z"
   },
   {
    "duration": 51,
    "start_time": "2023-07-31T20:14:52.318Z"
   },
   {
    "duration": 1047,
    "start_time": "2023-07-31T20:14:52.375Z"
   },
   {
    "duration": 897,
    "start_time": "2023-07-31T20:14:53.442Z"
   },
   {
    "duration": 882,
    "start_time": "2023-07-31T20:14:54.342Z"
   },
   {
    "duration": 9,
    "start_time": "2023-07-31T20:14:55.230Z"
   },
   {
    "duration": 22,
    "start_time": "2023-07-31T20:14:55.241Z"
   },
   {
    "duration": 17,
    "start_time": "2023-07-31T20:14:55.275Z"
   },
   {
    "duration": 66,
    "start_time": "2023-07-31T20:14:55.294Z"
   },
   {
    "duration": 53,
    "start_time": "2023-07-31T20:14:55.362Z"
   },
   {
    "duration": 43,
    "start_time": "2023-07-31T20:14:55.424Z"
   },
   {
    "duration": 42,
    "start_time": "2023-07-31T20:14:55.472Z"
   },
   {
    "duration": 38,
    "start_time": "2023-07-31T20:14:55.521Z"
   },
   {
    "duration": 74,
    "start_time": "2023-07-31T20:14:55.563Z"
   },
   {
    "duration": 94,
    "start_time": "2023-07-31T20:14:55.641Z"
   },
   {
    "duration": 54,
    "start_time": "2023-07-31T20:14:55.748Z"
   },
   {
    "duration": 79,
    "start_time": "2023-07-31T20:14:55.810Z"
   },
   {
    "duration": 10103,
    "start_time": "2023-07-31T20:15:06.059Z"
   },
   {
    "duration": 58,
    "start_time": "2023-07-31T20:15:16.166Z"
   },
   {
    "duration": 587,
    "start_time": "2023-07-31T20:15:33.672Z"
   },
   {
    "duration": 4232,
    "start_time": "2023-07-31T20:15:42.024Z"
   },
   {
    "duration": 578,
    "start_time": "2023-07-31T20:15:46.259Z"
   },
   {
    "duration": 19,
    "start_time": "2023-07-31T20:15:46.839Z"
   },
   {
    "duration": 29,
    "start_time": "2023-07-31T20:15:46.867Z"
   },
   {
    "duration": 16,
    "start_time": "2023-07-31T20:15:46.899Z"
   },
   {
    "duration": 43,
    "start_time": "2023-07-31T20:15:46.917Z"
   },
   {
    "duration": 39,
    "start_time": "2023-07-31T20:15:46.963Z"
   },
   {
    "duration": 23,
    "start_time": "2023-07-31T20:15:47.006Z"
   },
   {
    "duration": 880,
    "start_time": "2023-07-31T20:15:47.031Z"
   },
   {
    "duration": 762,
    "start_time": "2023-07-31T20:15:47.913Z"
   },
   {
    "duration": 859,
    "start_time": "2023-07-31T20:15:48.676Z"
   },
   {
    "duration": 5,
    "start_time": "2023-07-31T20:15:49.537Z"
   },
   {
    "duration": 11,
    "start_time": "2023-07-31T20:15:49.544Z"
   },
   {
    "duration": 23,
    "start_time": "2023-07-31T20:15:49.558Z"
   },
   {
    "duration": 48,
    "start_time": "2023-07-31T20:15:49.586Z"
   },
   {
    "duration": 56,
    "start_time": "2023-07-31T20:15:49.637Z"
   },
   {
    "duration": 53,
    "start_time": "2023-07-31T20:15:49.702Z"
   },
   {
    "duration": 53,
    "start_time": "2023-07-31T20:15:49.757Z"
   },
   {
    "duration": 28,
    "start_time": "2023-07-31T20:15:49.815Z"
   },
   {
    "duration": 35,
    "start_time": "2023-07-31T20:15:49.845Z"
   },
   {
    "duration": 49,
    "start_time": "2023-07-31T20:15:49.890Z"
   },
   {
    "duration": 54,
    "start_time": "2023-07-31T20:15:49.941Z"
   },
   {
    "duration": 49,
    "start_time": "2023-07-31T20:15:49.997Z"
   },
   {
    "duration": 669,
    "start_time": "2023-07-31T20:15:50.049Z"
   },
   {
    "duration": 0,
    "start_time": "2023-07-31T20:15:50.726Z"
   },
   {
    "duration": 470,
    "start_time": "2023-07-31T20:16:11.420Z"
   },
   {
    "duration": 9303,
    "start_time": "2023-07-31T20:16:23.622Z"
   },
   {
    "duration": 47,
    "start_time": "2023-07-31T20:16:32.939Z"
   },
   {
    "duration": 1980,
    "start_time": "2023-07-31T20:16:54.275Z"
   },
   {
    "duration": 39,
    "start_time": "2023-07-31T20:17:18.453Z"
   },
   {
    "duration": 30,
    "start_time": "2023-07-31T20:17:33.419Z"
   },
   {
    "duration": 9091,
    "start_time": "2023-07-31T20:19:12.909Z"
   },
   {
    "duration": 9447,
    "start_time": "2023-07-31T20:19:22.013Z"
   },
   {
    "duration": 6,
    "start_time": "2023-07-31T20:20:35.721Z"
   },
   {
    "duration": 112,
    "start_time": "2023-07-31T20:32:55.213Z"
   },
   {
    "duration": 101,
    "start_time": "2023-07-31T20:40:59.739Z"
   },
   {
    "duration": 3,
    "start_time": "2023-07-31T20:41:45.684Z"
   },
   {
    "duration": 5,
    "start_time": "2023-07-31T20:44:59.827Z"
   },
   {
    "duration": 5,
    "start_time": "2023-07-31T20:50:46.614Z"
   },
   {
    "duration": 3,
    "start_time": "2023-07-31T20:50:57.941Z"
   },
   {
    "duration": 3,
    "start_time": "2023-07-31T20:56:17.064Z"
   },
   {
    "duration": 3,
    "start_time": "2023-07-31T20:56:22.061Z"
   },
   {
    "duration": 50,
    "start_time": "2023-08-01T19:15:43.903Z"
   },
   {
    "duration": 79,
    "start_time": "2023-08-01T19:27:19.397Z"
   },
   {
    "duration": 4574,
    "start_time": "2023-08-01T19:27:33.458Z"
   },
   {
    "duration": 845,
    "start_time": "2023-08-01T19:27:38.035Z"
   },
   {
    "duration": 22,
    "start_time": "2023-08-01T19:27:38.882Z"
   },
   {
    "duration": 18,
    "start_time": "2023-08-01T19:27:38.906Z"
   },
   {
    "duration": 11,
    "start_time": "2023-08-01T19:27:38.926Z"
   },
   {
    "duration": 23,
    "start_time": "2023-08-01T19:27:38.938Z"
   },
   {
    "duration": 27,
    "start_time": "2023-08-01T19:27:38.962Z"
   },
   {
    "duration": 22,
    "start_time": "2023-08-01T19:27:38.991Z"
   },
   {
    "duration": 911,
    "start_time": "2023-08-01T19:27:39.015Z"
   },
   {
    "duration": 753,
    "start_time": "2023-08-01T19:27:39.928Z"
   },
   {
    "duration": 828,
    "start_time": "2023-08-01T19:27:40.682Z"
   },
   {
    "duration": 4,
    "start_time": "2023-08-01T19:27:41.512Z"
   },
   {
    "duration": 16,
    "start_time": "2023-08-01T19:27:41.517Z"
   },
   {
    "duration": 4,
    "start_time": "2023-08-01T19:27:41.538Z"
   },
   {
    "duration": 26,
    "start_time": "2023-08-01T19:27:41.544Z"
   },
   {
    "duration": 40,
    "start_time": "2023-08-01T19:27:41.572Z"
   },
   {
    "duration": 20,
    "start_time": "2023-08-01T19:27:41.613Z"
   },
   {
    "duration": 21,
    "start_time": "2023-08-01T19:27:41.635Z"
   },
   {
    "duration": 35,
    "start_time": "2023-08-01T19:27:41.658Z"
   },
   {
    "duration": 55,
    "start_time": "2023-08-01T19:27:41.695Z"
   },
   {
    "duration": 55,
    "start_time": "2023-08-01T19:27:41.753Z"
   },
   {
    "duration": 35,
    "start_time": "2023-08-01T19:27:41.810Z"
   },
   {
    "duration": 64,
    "start_time": "2023-08-01T19:27:41.846Z"
   },
   {
    "duration": 8042,
    "start_time": "2023-08-01T19:27:41.912Z"
   },
   {
    "duration": 19,
    "start_time": "2023-08-01T19:27:49.955Z"
   },
   {
    "duration": 28,
    "start_time": "2023-08-01T19:27:49.999Z"
   },
   {
    "duration": 7767,
    "start_time": "2023-08-01T19:27:50.028Z"
   },
   {
    "duration": 7579,
    "start_time": "2023-08-01T19:27:57.797Z"
   },
   {
    "duration": 10,
    "start_time": "2023-08-01T19:28:05.378Z"
   },
   {
    "duration": 46,
    "start_time": "2023-08-01T19:28:05.390Z"
   },
   {
    "duration": 84,
    "start_time": "2023-08-01T19:28:05.438Z"
   },
   {
    "duration": 0,
    "start_time": "2023-08-01T19:28:05.524Z"
   },
   {
    "duration": 0,
    "start_time": "2023-08-01T19:28:05.526Z"
   },
   {
    "duration": 3515,
    "start_time": "2023-08-01T19:28:49.442Z"
   },
   {
    "duration": 464,
    "start_time": "2023-08-01T19:28:52.960Z"
   },
   {
    "duration": 17,
    "start_time": "2023-08-01T19:28:53.425Z"
   },
   {
    "duration": 64,
    "start_time": "2023-08-01T19:28:53.444Z"
   },
   {
    "duration": 41,
    "start_time": "2023-08-01T19:28:53.510Z"
   },
   {
    "duration": 60,
    "start_time": "2023-08-01T19:28:53.553Z"
   },
   {
    "duration": 16,
    "start_time": "2023-08-01T19:28:53.615Z"
   },
   {
    "duration": 15,
    "start_time": "2023-08-01T19:28:53.633Z"
   },
   {
    "duration": 856,
    "start_time": "2023-08-01T19:28:53.650Z"
   },
   {
    "duration": 783,
    "start_time": "2023-08-01T19:28:54.507Z"
   },
   {
    "duration": 785,
    "start_time": "2023-08-01T19:28:55.293Z"
   },
   {
    "duration": 10,
    "start_time": "2023-08-01T19:28:56.080Z"
   },
   {
    "duration": 49,
    "start_time": "2023-08-01T19:28:56.093Z"
   },
   {
    "duration": 50,
    "start_time": "2023-08-01T19:28:56.145Z"
   },
   {
    "duration": 43,
    "start_time": "2023-08-01T19:28:56.198Z"
   },
   {
    "duration": 42,
    "start_time": "2023-08-01T19:28:56.243Z"
   },
   {
    "duration": 27,
    "start_time": "2023-08-01T19:28:56.288Z"
   },
   {
    "duration": 20,
    "start_time": "2023-08-01T19:28:56.317Z"
   },
   {
    "duration": 25,
    "start_time": "2023-08-01T19:28:56.339Z"
   },
   {
    "duration": 45,
    "start_time": "2023-08-01T19:28:56.366Z"
   },
   {
    "duration": 48,
    "start_time": "2023-08-01T19:28:56.413Z"
   },
   {
    "duration": 45,
    "start_time": "2023-08-01T19:28:56.463Z"
   },
   {
    "duration": 36,
    "start_time": "2023-08-01T19:28:56.509Z"
   },
   {
    "duration": 7535,
    "start_time": "2023-08-01T19:28:56.547Z"
   },
   {
    "duration": 29,
    "start_time": "2023-08-01T19:29:04.084Z"
   },
   {
    "duration": 63,
    "start_time": "2023-08-01T19:29:04.115Z"
   },
   {
    "duration": 7552,
    "start_time": "2023-08-01T19:29:04.180Z"
   },
   {
    "duration": 7543,
    "start_time": "2023-08-01T19:29:11.734Z"
   },
   {
    "duration": 4,
    "start_time": "2023-08-01T19:29:19.279Z"
   },
   {
    "duration": 40,
    "start_time": "2023-08-01T19:29:19.286Z"
   },
   {
    "duration": 91,
    "start_time": "2023-08-01T19:29:19.328Z"
   },
   {
    "duration": 0,
    "start_time": "2023-08-01T19:29:19.421Z"
   },
   {
    "duration": 0,
    "start_time": "2023-08-01T19:29:19.422Z"
   },
   {
    "duration": 3,
    "start_time": "2023-08-01T19:29:48.545Z"
   },
   {
    "duration": 116,
    "start_time": "2023-08-01T19:30:07.934Z"
   },
   {
    "duration": 4,
    "start_time": "2023-08-01T19:31:08.937Z"
   },
   {
    "duration": 28,
    "start_time": "2023-08-01T19:31:09.783Z"
   },
   {
    "duration": 2664,
    "start_time": "2023-08-01T19:33:59.392Z"
   },
   {
    "duration": 4,
    "start_time": "2023-08-01T19:34:06.348Z"
   },
   {
    "duration": 43,
    "start_time": "2023-08-01T19:34:07.267Z"
   },
   {
    "duration": 89,
    "start_time": "2023-08-01T19:37:35.971Z"
   },
   {
    "duration": 44,
    "start_time": "2023-08-01T19:37:36.599Z"
   },
   {
    "duration": 81,
    "start_time": "2023-08-01T19:37:51.163Z"
   },
   {
    "duration": 39,
    "start_time": "2023-08-01T19:37:52.457Z"
   },
   {
    "duration": 117,
    "start_time": "2023-08-01T19:38:32.241Z"
   },
   {
    "duration": 37,
    "start_time": "2023-08-01T19:38:33.212Z"
   },
   {
    "duration": 4,
    "start_time": "2023-08-01T19:41:13.933Z"
   },
   {
    "duration": 37,
    "start_time": "2023-08-01T19:41:14.903Z"
   },
   {
    "duration": 5,
    "start_time": "2023-08-01T19:42:05.340Z"
   },
   {
    "duration": 38,
    "start_time": "2023-08-01T19:42:05.968Z"
   },
   {
    "duration": 2296,
    "start_time": "2023-08-01T20:15:39.115Z"
   },
   {
    "duration": 34,
    "start_time": "2023-08-01T20:19:46.633Z"
   },
   {
    "duration": 5,
    "start_time": "2023-08-01T20:19:52.674Z"
   },
   {
    "duration": 4096,
    "start_time": "2023-08-01T20:20:01.362Z"
   },
   {
    "duration": 465,
    "start_time": "2023-08-01T20:20:05.460Z"
   },
   {
    "duration": 16,
    "start_time": "2023-08-01T20:20:05.927Z"
   },
   {
    "duration": 16,
    "start_time": "2023-08-01T20:20:05.945Z"
   },
   {
    "duration": 109,
    "start_time": "2023-08-01T20:20:05.963Z"
   },
   {
    "duration": 61,
    "start_time": "2023-08-01T20:20:06.074Z"
   },
   {
    "duration": 55,
    "start_time": "2023-08-01T20:20:06.137Z"
   },
   {
    "duration": 15,
    "start_time": "2023-08-01T20:20:06.194Z"
   },
   {
    "duration": 888,
    "start_time": "2023-08-01T20:20:06.210Z"
   },
   {
    "duration": 748,
    "start_time": "2023-08-01T20:20:07.100Z"
   },
   {
    "duration": 739,
    "start_time": "2023-08-01T20:20:07.850Z"
   },
   {
    "duration": 4,
    "start_time": "2023-08-01T20:20:08.590Z"
   },
   {
    "duration": 125,
    "start_time": "2023-08-01T20:20:08.595Z"
   },
   {
    "duration": 51,
    "start_time": "2023-08-01T20:20:08.723Z"
   },
   {
    "duration": 57,
    "start_time": "2023-08-01T20:20:08.775Z"
   },
   {
    "duration": 23,
    "start_time": "2023-08-01T20:20:08.834Z"
   },
   {
    "duration": 27,
    "start_time": "2023-08-01T20:20:08.859Z"
   },
   {
    "duration": 26,
    "start_time": "2023-08-01T20:20:08.887Z"
   },
   {
    "duration": 26,
    "start_time": "2023-08-01T20:20:08.914Z"
   },
   {
    "duration": 38,
    "start_time": "2023-08-01T20:20:08.942Z"
   },
   {
    "duration": 46,
    "start_time": "2023-08-01T20:20:08.981Z"
   },
   {
    "duration": 95,
    "start_time": "2023-08-01T20:20:09.029Z"
   },
   {
    "duration": 43,
    "start_time": "2023-08-01T20:20:09.127Z"
   },
   {
    "duration": 7175,
    "start_time": "2023-08-01T20:20:09.171Z"
   },
   {
    "duration": 20,
    "start_time": "2023-08-01T20:20:16.348Z"
   },
   {
    "duration": 38,
    "start_time": "2023-08-01T20:20:16.370Z"
   },
   {
    "duration": 7084,
    "start_time": "2023-08-01T20:20:16.410Z"
   },
   {
    "duration": 7066,
    "start_time": "2023-08-01T20:20:23.496Z"
   },
   {
    "duration": 130,
    "start_time": "2023-08-01T20:20:30.564Z"
   },
   {
    "duration": 0,
    "start_time": "2023-08-01T20:20:30.695Z"
   },
   {
    "duration": 0,
    "start_time": "2023-08-01T20:20:30.696Z"
   },
   {
    "duration": 0,
    "start_time": "2023-08-01T20:20:30.698Z"
   },
   {
    "duration": 1,
    "start_time": "2023-08-01T20:20:30.698Z"
   },
   {
    "duration": 0,
    "start_time": "2023-08-01T20:20:30.700Z"
   },
   {
    "duration": 0,
    "start_time": "2023-08-01T20:20:30.701Z"
   },
   {
    "duration": 13,
    "start_time": "2023-08-01T20:21:10.012Z"
   },
   {
    "duration": 5,
    "start_time": "2023-08-01T20:21:11.554Z"
   },
   {
    "duration": 3,
    "start_time": "2023-08-01T20:21:14.263Z"
   },
   {
    "duration": 6,
    "start_time": "2023-08-01T20:21:15.935Z"
   },
   {
    "duration": 22,
    "start_time": "2023-08-01T20:21:16.960Z"
   },
   {
    "duration": 9,
    "start_time": "2023-08-01T20:25:54.347Z"
   },
   {
    "duration": 11,
    "start_time": "2023-08-01T20:26:19.732Z"
   },
   {
    "duration": 29,
    "start_time": "2023-08-01T20:27:09.641Z"
   },
   {
    "duration": 26,
    "start_time": "2023-08-01T20:27:23.651Z"
   },
   {
    "duration": 3872,
    "start_time": "2023-08-01T20:27:42.046Z"
   },
   {
    "duration": 472,
    "start_time": "2023-08-01T20:27:45.920Z"
   },
   {
    "duration": 18,
    "start_time": "2023-08-01T20:27:46.393Z"
   },
   {
    "duration": 25,
    "start_time": "2023-08-01T20:27:46.412Z"
   },
   {
    "duration": 26,
    "start_time": "2023-08-01T20:27:46.439Z"
   },
   {
    "duration": 19,
    "start_time": "2023-08-01T20:27:46.467Z"
   },
   {
    "duration": 18,
    "start_time": "2023-08-01T20:27:46.488Z"
   },
   {
    "duration": 16,
    "start_time": "2023-08-01T20:27:46.508Z"
   },
   {
    "duration": 877,
    "start_time": "2023-08-01T20:27:46.526Z"
   },
   {
    "duration": 788,
    "start_time": "2023-08-01T20:27:47.405Z"
   },
   {
    "duration": 723,
    "start_time": "2023-08-01T20:27:48.195Z"
   },
   {
    "duration": 4,
    "start_time": "2023-08-01T20:27:48.920Z"
   },
   {
    "duration": 24,
    "start_time": "2023-08-01T20:27:48.926Z"
   },
   {
    "duration": 12,
    "start_time": "2023-08-01T20:27:48.954Z"
   },
   {
    "duration": 26,
    "start_time": "2023-08-01T20:27:48.968Z"
   },
   {
    "duration": 25,
    "start_time": "2023-08-01T20:27:48.996Z"
   },
   {
    "duration": 23,
    "start_time": "2023-08-01T20:27:49.023Z"
   },
   {
    "duration": 37,
    "start_time": "2023-08-01T20:27:49.048Z"
   },
   {
    "duration": 22,
    "start_time": "2023-08-01T20:27:49.086Z"
   },
   {
    "duration": 16,
    "start_time": "2023-08-01T20:27:49.110Z"
   },
   {
    "duration": 35,
    "start_time": "2023-08-01T20:27:49.128Z"
   },
   {
    "duration": 52,
    "start_time": "2023-08-01T20:27:49.165Z"
   },
   {
    "duration": 34,
    "start_time": "2023-08-01T20:27:49.219Z"
   },
   {
    "duration": 7044,
    "start_time": "2023-08-01T20:27:49.255Z"
   },
   {
    "duration": 19,
    "start_time": "2023-08-01T20:27:56.301Z"
   },
   {
    "duration": 45,
    "start_time": "2023-08-01T20:27:56.321Z"
   },
   {
    "duration": 7238,
    "start_time": "2023-08-01T20:27:56.368Z"
   },
   {
    "duration": 7130,
    "start_time": "2023-08-01T20:28:03.608Z"
   },
   {
    "duration": 14,
    "start_time": "2023-08-01T20:28:10.739Z"
   },
   {
    "duration": 23,
    "start_time": "2023-08-01T20:28:10.754Z"
   },
   {
    "duration": 23,
    "start_time": "2023-08-01T20:28:10.779Z"
   },
   {
    "duration": 40,
    "start_time": "2023-08-01T20:28:10.803Z"
   },
   {
    "duration": 40,
    "start_time": "2023-08-01T20:28:10.845Z"
   },
   {
    "duration": 128,
    "start_time": "2023-08-01T20:28:10.886Z"
   },
   {
    "duration": 0,
    "start_time": "2023-08-01T20:28:11.016Z"
   },
   {
    "duration": 0,
    "start_time": "2023-08-01T20:28:11.017Z"
   },
   {
    "duration": 30,
    "start_time": "2023-08-01T20:29:11.232Z"
   },
   {
    "duration": 26,
    "start_time": "2023-08-01T20:29:11.909Z"
   },
   {
    "duration": 26,
    "start_time": "2023-08-01T20:29:12.585Z"
   },
   {
    "duration": 5,
    "start_time": "2023-08-01T20:30:09.104Z"
   },
   {
    "duration": 12,
    "start_time": "2023-08-01T20:30:09.931Z"
   },
   {
    "duration": 15,
    "start_time": "2023-08-01T20:30:17.620Z"
   },
   {
    "duration": 14,
    "start_time": "2023-08-01T20:30:18.548Z"
   },
   {
    "duration": 17,
    "start_time": "2023-08-01T20:30:19.133Z"
   },
   {
    "duration": 4045,
    "start_time": "2023-08-01T20:30:28.103Z"
   },
   {
    "duration": 485,
    "start_time": "2023-08-01T20:30:32.151Z"
   },
   {
    "duration": 19,
    "start_time": "2023-08-01T20:30:32.637Z"
   },
   {
    "duration": 52,
    "start_time": "2023-08-01T20:30:32.658Z"
   },
   {
    "duration": 108,
    "start_time": "2023-08-01T20:30:32.713Z"
   },
   {
    "duration": 46,
    "start_time": "2023-08-01T20:30:32.823Z"
   },
   {
    "duration": 71,
    "start_time": "2023-08-01T20:30:32.871Z"
   },
   {
    "duration": 27,
    "start_time": "2023-08-01T20:30:32.944Z"
   },
   {
    "duration": 937,
    "start_time": "2023-08-01T20:30:32.973Z"
   },
   {
    "duration": 708,
    "start_time": "2023-08-01T20:30:33.912Z"
   },
   {
    "duration": 777,
    "start_time": "2023-08-01T20:30:34.622Z"
   },
   {
    "duration": 4,
    "start_time": "2023-08-01T20:30:35.400Z"
   },
   {
    "duration": 21,
    "start_time": "2023-08-01T20:30:35.406Z"
   },
   {
    "duration": 25,
    "start_time": "2023-08-01T20:30:35.431Z"
   },
   {
    "duration": 42,
    "start_time": "2023-08-01T20:30:35.459Z"
   },
   {
    "duration": 44,
    "start_time": "2023-08-01T20:30:35.503Z"
   },
   {
    "duration": 45,
    "start_time": "2023-08-01T20:30:35.549Z"
   },
   {
    "duration": 69,
    "start_time": "2023-08-01T20:30:35.595Z"
   },
   {
    "duration": 46,
    "start_time": "2023-08-01T20:30:35.666Z"
   },
   {
    "duration": 58,
    "start_time": "2023-08-01T20:30:35.714Z"
   },
   {
    "duration": 83,
    "start_time": "2023-08-01T20:30:35.774Z"
   },
   {
    "duration": 43,
    "start_time": "2023-08-01T20:30:35.859Z"
   },
   {
    "duration": 36,
    "start_time": "2023-08-01T20:30:35.903Z"
   },
   {
    "duration": 7090,
    "start_time": "2023-08-01T20:30:35.942Z"
   },
   {
    "duration": 21,
    "start_time": "2023-08-01T20:30:43.034Z"
   },
   {
    "duration": 34,
    "start_time": "2023-08-01T20:30:43.056Z"
   },
   {
    "duration": 7280,
    "start_time": "2023-08-01T20:30:43.092Z"
   },
   {
    "duration": 7030,
    "start_time": "2023-08-01T20:30:50.374Z"
   },
   {
    "duration": 14,
    "start_time": "2023-08-01T20:30:57.406Z"
   },
   {
    "duration": 21,
    "start_time": "2023-08-01T20:30:57.422Z"
   },
   {
    "duration": 30,
    "start_time": "2023-08-01T20:30:57.445Z"
   },
   {
    "duration": 12,
    "start_time": "2023-08-01T20:30:57.477Z"
   },
   {
    "duration": 17,
    "start_time": "2023-08-01T20:30:57.491Z"
   },
   {
    "duration": 28,
    "start_time": "2023-08-01T20:30:57.511Z"
   },
   {
    "duration": 13,
    "start_time": "2023-08-01T20:30:57.541Z"
   },
   {
    "duration": 24,
    "start_time": "2023-08-01T20:30:57.556Z"
   },
   {
    "duration": 54,
    "start_time": "2023-08-01T20:30:57.582Z"
   },
   {
    "duration": 6,
    "start_time": "2023-08-01T20:30:59.531Z"
   },
   {
    "duration": 25,
    "start_time": "2023-08-01T20:31:00.181Z"
   },
   {
    "duration": 23,
    "start_time": "2023-08-01T20:31:09.112Z"
   },
   {
    "duration": 26,
    "start_time": "2023-08-01T20:31:09.694Z"
   },
   {
    "duration": 2305,
    "start_time": "2023-08-01T20:49:23.043Z"
   },
   {
    "duration": 56,
    "start_time": "2023-08-01T20:49:31.937Z"
   },
   {
    "duration": 13,
    "start_time": "2023-08-01T20:50:51.151Z"
   },
   {
    "duration": 14,
    "start_time": "2023-08-01T20:51:31.280Z"
   },
   {
    "duration": 14,
    "start_time": "2023-08-01T20:59:50.560Z"
   },
   {
    "duration": 13,
    "start_time": "2023-08-01T20:59:51.586Z"
   },
   {
    "duration": 12,
    "start_time": "2023-08-01T20:59:51.778Z"
   },
   {
    "duration": 9,
    "start_time": "2023-08-01T20:59:53.429Z"
   },
   {
    "duration": 5,
    "start_time": "2023-08-01T20:59:54.430Z"
   },
   {
    "duration": 6,
    "start_time": "2023-08-01T20:59:55.053Z"
   },
   {
    "duration": 6,
    "start_time": "2023-08-01T21:00:08.583Z"
   },
   {
    "duration": 9,
    "start_time": "2023-08-01T21:00:08.788Z"
   },
   {
    "duration": 4,
    "start_time": "2023-08-01T21:00:08.989Z"
   },
   {
    "duration": 4,
    "start_time": "2023-08-01T21:00:09.957Z"
   },
   {
    "duration": 4,
    "start_time": "2023-08-01T21:00:10.130Z"
   },
   {
    "duration": 4,
    "start_time": "2023-08-01T21:00:10.316Z"
   },
   {
    "duration": 5,
    "start_time": "2023-08-01T21:01:16.749Z"
   },
   {
    "duration": 5,
    "start_time": "2023-08-01T21:03:04.467Z"
   },
   {
    "duration": 5,
    "start_time": "2023-08-01T21:03:04.959Z"
   },
   {
    "duration": 5,
    "start_time": "2023-08-01T21:03:05.578Z"
   },
   {
    "duration": 5,
    "start_time": "2023-08-01T21:17:18.623Z"
   },
   {
    "duration": 19,
    "start_time": "2023-08-01T21:17:19.383Z"
   },
   {
    "duration": 4,
    "start_time": "2023-08-01T21:17:38.058Z"
   },
   {
    "duration": 21,
    "start_time": "2023-08-01T21:17:38.562Z"
   },
   {
    "duration": 3,
    "start_time": "2023-08-01T21:23:59.940Z"
   },
   {
    "duration": 63,
    "start_time": "2023-08-02T18:20:24.268Z"
   },
   {
    "duration": 4857,
    "start_time": "2023-08-02T18:20:47.444Z"
   },
   {
    "duration": 850,
    "start_time": "2023-08-02T18:20:52.304Z"
   },
   {
    "duration": 22,
    "start_time": "2023-08-02T18:20:53.157Z"
   },
   {
    "duration": 18,
    "start_time": "2023-08-02T18:20:53.181Z"
   },
   {
    "duration": 30,
    "start_time": "2023-08-02T18:20:53.202Z"
   },
   {
    "duration": 35,
    "start_time": "2023-08-02T18:20:53.234Z"
   },
   {
    "duration": 14,
    "start_time": "2023-08-02T18:20:53.271Z"
   },
   {
    "duration": 17,
    "start_time": "2023-08-02T18:20:53.287Z"
   },
   {
    "duration": 886,
    "start_time": "2023-08-02T18:20:53.306Z"
   },
   {
    "duration": 779,
    "start_time": "2023-08-02T18:20:54.194Z"
   },
   {
    "duration": 841,
    "start_time": "2023-08-02T18:20:54.975Z"
   },
   {
    "duration": 4,
    "start_time": "2023-08-02T18:20:55.818Z"
   },
   {
    "duration": 32,
    "start_time": "2023-08-02T18:20:55.824Z"
   },
   {
    "duration": 32,
    "start_time": "2023-08-02T18:20:55.859Z"
   },
   {
    "duration": 44,
    "start_time": "2023-08-02T18:20:55.893Z"
   },
   {
    "duration": 54,
    "start_time": "2023-08-02T18:20:55.939Z"
   },
   {
    "duration": 39,
    "start_time": "2023-08-02T18:20:55.995Z"
   },
   {
    "duration": 28,
    "start_time": "2023-08-02T18:20:56.035Z"
   },
   {
    "duration": 30,
    "start_time": "2023-08-02T18:20:56.065Z"
   },
   {
    "duration": 107,
    "start_time": "2023-08-02T18:20:56.097Z"
   },
   {
    "duration": 57,
    "start_time": "2023-08-02T18:20:56.206Z"
   },
   {
    "duration": 45,
    "start_time": "2023-08-02T18:20:56.265Z"
   },
   {
    "duration": 50,
    "start_time": "2023-08-02T18:20:56.312Z"
   },
   {
    "duration": 8140,
    "start_time": "2023-08-02T18:20:56.364Z"
   },
   {
    "duration": 24,
    "start_time": "2023-08-02T18:21:04.506Z"
   },
   {
    "duration": 42,
    "start_time": "2023-08-02T18:21:04.531Z"
   },
   {
    "duration": 7880,
    "start_time": "2023-08-02T18:21:04.575Z"
   },
   {
    "duration": 8283,
    "start_time": "2023-08-02T18:21:12.457Z"
   },
   {
    "duration": 14,
    "start_time": "2023-08-02T18:21:20.742Z"
   },
   {
    "duration": 16,
    "start_time": "2023-08-02T18:21:20.758Z"
   },
   {
    "duration": 14,
    "start_time": "2023-08-02T18:21:20.776Z"
   },
   {
    "duration": 23,
    "start_time": "2023-08-02T18:21:20.792Z"
   },
   {
    "duration": 43,
    "start_time": "2023-08-02T18:21:20.817Z"
   },
   {
    "duration": 23,
    "start_time": "2023-08-02T18:21:20.862Z"
   },
   {
    "duration": 24,
    "start_time": "2023-08-02T18:21:20.888Z"
   },
   {
    "duration": 13,
    "start_time": "2023-08-02T18:21:20.916Z"
   },
   {
    "duration": 18,
    "start_time": "2023-08-02T18:21:20.931Z"
   },
   {
    "duration": 13,
    "start_time": "2023-08-02T18:21:20.971Z"
   },
   {
    "duration": 98,
    "start_time": "2023-08-02T18:21:20.985Z"
   },
   {
    "duration": 98,
    "start_time": "2023-08-02T18:21:21.088Z"
   },
   {
    "duration": 97,
    "start_time": "2023-08-02T18:21:21.192Z"
   },
   {
    "duration": 183,
    "start_time": "2023-08-02T18:21:21.291Z"
   },
   {
    "duration": 16,
    "start_time": "2023-08-02T18:21:21.477Z"
   },
   {
    "duration": 18,
    "start_time": "2023-08-02T18:21:21.496Z"
   },
   {
    "duration": 17,
    "start_time": "2023-08-02T18:21:21.516Z"
   },
   {
    "duration": 17,
    "start_time": "2023-08-02T18:21:21.534Z"
   },
   {
    "duration": 38,
    "start_time": "2023-08-02T18:21:21.554Z"
   },
   {
    "duration": 21,
    "start_time": "2023-08-02T18:21:21.595Z"
   },
   {
    "duration": 4,
    "start_time": "2023-08-02T18:21:34.200Z"
   },
   {
    "duration": 4,
    "start_time": "2023-08-02T18:21:43.602Z"
   },
   {
    "duration": 92,
    "start_time": "2023-08-02T18:25:14.839Z"
   },
   {
    "duration": 4,
    "start_time": "2023-08-02T18:25:22.747Z"
   },
   {
    "duration": 4,
    "start_time": "2023-08-02T18:26:31.704Z"
   },
   {
    "duration": 4,
    "start_time": "2023-08-02T18:30:25.069Z"
   },
   {
    "duration": 5,
    "start_time": "2023-08-02T18:30:43.860Z"
   },
   {
    "duration": 3,
    "start_time": "2023-08-02T18:33:58.167Z"
   },
   {
    "duration": 5,
    "start_time": "2023-08-02T18:34:07.849Z"
   },
   {
    "duration": 6,
    "start_time": "2023-08-02T18:34:30.184Z"
   },
   {
    "duration": 6,
    "start_time": "2023-08-02T18:34:37.995Z"
   },
   {
    "duration": 6,
    "start_time": "2023-08-02T18:34:42.745Z"
   },
   {
    "duration": 5,
    "start_time": "2023-08-02T18:36:04.349Z"
   },
   {
    "duration": 5,
    "start_time": "2023-08-02T18:36:43.396Z"
   },
   {
    "duration": 4,
    "start_time": "2023-08-02T18:37:01.885Z"
   },
   {
    "duration": 8,
    "start_time": "2023-08-02T18:38:31.407Z"
   },
   {
    "duration": 4,
    "start_time": "2023-08-02T19:51:08.471Z"
   },
   {
    "duration": 136,
    "start_time": "2023-08-02T20:16:32.671Z"
   },
   {
    "duration": 96,
    "start_time": "2023-08-02T20:16:44.517Z"
   },
   {
    "duration": 86,
    "start_time": "2023-08-02T20:17:00.798Z"
   },
   {
    "duration": 115,
    "start_time": "2023-08-02T20:17:32.387Z"
   },
   {
    "duration": 12,
    "start_time": "2023-08-02T20:17:49.707Z"
   },
   {
    "duration": 2122,
    "start_time": "2023-08-02T20:18:23.628Z"
   },
   {
    "duration": 5,
    "start_time": "2023-08-02T20:18:30.162Z"
   },
   {
    "duration": 4,
    "start_time": "2023-08-02T20:18:34.766Z"
   },
   {
    "duration": 18,
    "start_time": "2023-08-02T20:20:10.543Z"
   },
   {
    "duration": 5,
    "start_time": "2023-08-02T20:21:12.816Z"
   },
   {
    "duration": 13,
    "start_time": "2023-08-02T20:21:13.453Z"
   },
   {
    "duration": 9,
    "start_time": "2023-08-02T20:32:17.007Z"
   },
   {
    "duration": 13,
    "start_time": "2023-08-02T20:32:34.938Z"
   },
   {
    "duration": 10,
    "start_time": "2023-08-02T20:37:08.241Z"
   },
   {
    "duration": 7,
    "start_time": "2023-08-02T20:37:22.329Z"
   },
   {
    "duration": 4,
    "start_time": "2023-08-02T20:37:41.100Z"
   },
   {
    "duration": 34,
    "start_time": "2023-08-02T20:37:43.449Z"
   },
   {
    "duration": 13,
    "start_time": "2023-08-02T20:37:55.652Z"
   },
   {
    "duration": 3,
    "start_time": "2023-08-02T20:38:36.135Z"
   },
   {
    "duration": 8,
    "start_time": "2023-08-02T20:38:37.099Z"
   },
   {
    "duration": 7,
    "start_time": "2023-08-02T20:38:53.532Z"
   },
   {
    "duration": 2,
    "start_time": "2023-08-02T20:39:17.410Z"
   },
   {
    "duration": 6,
    "start_time": "2023-08-02T20:39:18.809Z"
   },
   {
    "duration": 23,
    "start_time": "2023-08-02T20:39:24.158Z"
   },
   {
    "duration": 5,
    "start_time": "2023-08-02T20:42:07.858Z"
   },
   {
    "duration": 15,
    "start_time": "2023-08-02T20:42:08.769Z"
   },
   {
    "duration": 6,
    "start_time": "2023-08-02T20:43:27.380Z"
   },
   {
    "duration": 4,
    "start_time": "2023-08-02T20:44:04.069Z"
   },
   {
    "duration": 3,
    "start_time": "2023-08-02T20:46:16.748Z"
   },
   {
    "duration": 3,
    "start_time": "2023-08-02T20:46:17.886Z"
   },
   {
    "duration": 4,
    "start_time": "2023-08-02T20:46:18.738Z"
   },
   {
    "duration": 6,
    "start_time": "2023-08-02T20:46:20.080Z"
   },
   {
    "duration": 4,
    "start_time": "2023-08-02T20:46:39.644Z"
   },
   {
    "duration": 3,
    "start_time": "2023-08-02T20:46:40.190Z"
   },
   {
    "duration": 4,
    "start_time": "2023-08-02T20:46:40.380Z"
   },
   {
    "duration": 5,
    "start_time": "2023-08-02T20:46:40.757Z"
   },
   {
    "duration": 7,
    "start_time": "2023-08-02T20:47:26.095Z"
   },
   {
    "duration": 3,
    "start_time": "2023-08-02T20:50:11.286Z"
   },
   {
    "duration": 16,
    "start_time": "2023-08-02T20:50:11.291Z"
   },
   {
    "duration": 2,
    "start_time": "2023-08-02T20:50:11.335Z"
   },
   {
    "duration": 192,
    "start_time": "2023-08-02T20:50:11.693Z"
   },
   {
    "duration": 107,
    "start_time": "2023-08-02T20:52:54.758Z"
   },
   {
    "duration": 6,
    "start_time": "2023-08-02T20:53:24.285Z"
   },
   {
    "duration": 6,
    "start_time": "2023-08-02T20:54:11.332Z"
   },
   {
    "duration": 15,
    "start_time": "2023-08-02T20:54:11.340Z"
   },
   {
    "duration": 3,
    "start_time": "2023-08-02T20:54:43.749Z"
   },
   {
    "duration": 13,
    "start_time": "2023-08-02T20:54:50.755Z"
   },
   {
    "duration": 8,
    "start_time": "2023-08-02T20:55:27.265Z"
   },
   {
    "duration": 13,
    "start_time": "2023-08-02T20:56:05.893Z"
   },
   {
    "duration": 10,
    "start_time": "2023-08-02T20:56:41.500Z"
   },
   {
    "duration": 4,
    "start_time": "2023-08-02T20:58:10.351Z"
   },
   {
    "duration": 5,
    "start_time": "2023-08-02T20:58:32.035Z"
   },
   {
    "duration": 27,
    "start_time": "2023-08-02T20:58:32.041Z"
   },
   {
    "duration": 14,
    "start_time": "2023-08-02T21:00:23.282Z"
   },
   {
    "duration": 4,
    "start_time": "2023-08-02T21:02:56.272Z"
   },
   {
    "duration": 4,
    "start_time": "2023-08-02T21:02:57.916Z"
   },
   {
    "duration": 14,
    "start_time": "2023-08-02T21:02:59.153Z"
   },
   {
    "duration": 6,
    "start_time": "2023-08-02T21:03:19.058Z"
   },
   {
    "duration": 4,
    "start_time": "2023-08-02T21:03:19.839Z"
   },
   {
    "duration": 3,
    "start_time": "2023-08-02T21:03:20.419Z"
   },
   {
    "duration": 13,
    "start_time": "2023-08-02T21:03:20.643Z"
   },
   {
    "duration": 6,
    "start_time": "2023-08-02T21:04:43.468Z"
   },
   {
    "duration": 13,
    "start_time": "2023-08-02T21:05:21.228Z"
   },
   {
    "duration": 2,
    "start_time": "2023-08-02T21:06:06.251Z"
   },
   {
    "duration": 3979,
    "start_time": "2023-08-02T21:06:17.263Z"
   },
   {
    "duration": 415,
    "start_time": "2023-08-02T21:06:21.244Z"
   },
   {
    "duration": 16,
    "start_time": "2023-08-02T21:06:21.660Z"
   },
   {
    "duration": 12,
    "start_time": "2023-08-02T21:06:21.678Z"
   },
   {
    "duration": 16,
    "start_time": "2023-08-02T21:06:21.692Z"
   },
   {
    "duration": 19,
    "start_time": "2023-08-02T21:06:21.710Z"
   },
   {
    "duration": 12,
    "start_time": "2023-08-02T21:06:21.730Z"
   },
   {
    "duration": 31,
    "start_time": "2023-08-02T21:06:21.744Z"
   },
   {
    "duration": 811,
    "start_time": "2023-08-02T21:06:21.776Z"
   },
   {
    "duration": 740,
    "start_time": "2023-08-02T21:06:22.589Z"
   },
   {
    "duration": 672,
    "start_time": "2023-08-02T21:06:23.330Z"
   },
   {
    "duration": 4,
    "start_time": "2023-08-02T21:06:24.004Z"
   },
   {
    "duration": 11,
    "start_time": "2023-08-02T21:06:24.009Z"
   },
   {
    "duration": 11,
    "start_time": "2023-08-02T21:06:24.023Z"
   },
   {
    "duration": 20,
    "start_time": "2023-08-02T21:06:24.035Z"
   },
   {
    "duration": 22,
    "start_time": "2023-08-02T21:06:24.056Z"
   },
   {
    "duration": 17,
    "start_time": "2023-08-02T21:06:24.079Z"
   },
   {
    "duration": 25,
    "start_time": "2023-08-02T21:06:24.098Z"
   },
   {
    "duration": 16,
    "start_time": "2023-08-02T21:06:24.124Z"
   },
   {
    "duration": 34,
    "start_time": "2023-08-02T21:06:24.142Z"
   },
   {
    "duration": 33,
    "start_time": "2023-08-02T21:06:24.178Z"
   },
   {
    "duration": 32,
    "start_time": "2023-08-02T21:06:24.213Z"
   },
   {
    "duration": 50,
    "start_time": "2023-08-02T21:06:24.246Z"
   },
   {
    "duration": 6877,
    "start_time": "2023-08-02T21:06:24.298Z"
   },
   {
    "duration": 18,
    "start_time": "2023-08-02T21:06:31.176Z"
   },
   {
    "duration": 47,
    "start_time": "2023-08-02T21:06:31.196Z"
   },
   {
    "duration": 7001,
    "start_time": "2023-08-02T21:06:31.245Z"
   },
   {
    "duration": 6841,
    "start_time": "2023-08-02T21:06:38.248Z"
   },
   {
    "duration": 14,
    "start_time": "2023-08-02T21:06:45.091Z"
   },
   {
    "duration": 24,
    "start_time": "2023-08-02T21:06:45.107Z"
   },
   {
    "duration": 8,
    "start_time": "2023-08-02T21:06:45.133Z"
   },
   {
    "duration": 6,
    "start_time": "2023-08-02T21:06:45.142Z"
   },
   {
    "duration": 35,
    "start_time": "2023-08-02T21:06:45.150Z"
   },
   {
    "duration": 20,
    "start_time": "2023-08-02T21:06:45.186Z"
   },
   {
    "duration": 21,
    "start_time": "2023-08-02T21:06:45.208Z"
   },
   {
    "duration": 11,
    "start_time": "2023-08-02T21:06:45.230Z"
   },
   {
    "duration": 33,
    "start_time": "2023-08-02T21:06:45.243Z"
   },
   {
    "duration": 10,
    "start_time": "2023-08-02T21:06:45.278Z"
   },
   {
    "duration": 5,
    "start_time": "2023-08-02T21:06:45.290Z"
   },
   {
    "duration": 169,
    "start_time": "2023-08-02T21:06:45.304Z"
   },
   {
    "duration": 192,
    "start_time": "2023-08-02T21:06:45.482Z"
   },
   {
    "duration": 103,
    "start_time": "2023-08-02T21:06:45.677Z"
   },
   {
    "duration": 99,
    "start_time": "2023-08-02T21:06:45.782Z"
   },
   {
    "duration": 6,
    "start_time": "2023-08-02T21:06:45.883Z"
   },
   {
    "duration": 4,
    "start_time": "2023-08-02T21:06:45.891Z"
   },
   {
    "duration": 7,
    "start_time": "2023-08-02T21:06:45.896Z"
   },
   {
    "duration": 10,
    "start_time": "2023-08-02T21:06:45.904Z"
   },
   {
    "duration": 2,
    "start_time": "2023-08-02T21:06:45.916Z"
   },
   {
    "duration": 6,
    "start_time": "2023-08-02T21:06:45.920Z"
   },
   {
    "duration": 5,
    "start_time": "2023-08-02T21:06:45.927Z"
   },
   {
    "duration": 39,
    "start_time": "2023-08-02T21:06:45.934Z"
   },
   {
    "duration": 9,
    "start_time": "2023-08-02T21:06:45.974Z"
   },
   {
    "duration": 11,
    "start_time": "2023-08-02T21:06:45.984Z"
   },
   {
    "duration": 114,
    "start_time": "2023-08-02T21:06:45.996Z"
   },
   {
    "duration": 0,
    "start_time": "2023-08-02T21:06:46.112Z"
   },
   {
    "duration": 0,
    "start_time": "2023-08-02T21:06:46.113Z"
   },
   {
    "duration": 6,
    "start_time": "2023-08-02T21:09:15.240Z"
   },
   {
    "duration": 27,
    "start_time": "2023-08-02T21:09:15.249Z"
   },
   {
    "duration": 11,
    "start_time": "2023-08-02T21:09:15.278Z"
   },
   {
    "duration": 41,
    "start_time": "2023-08-02T21:09:15.291Z"
   },
   {
    "duration": 7,
    "start_time": "2023-08-02T21:13:32.789Z"
   },
   {
    "duration": 4,
    "start_time": "2023-08-02T21:13:35.895Z"
   },
   {
    "duration": 3,
    "start_time": "2023-08-02T21:13:36.136Z"
   },
   {
    "duration": 14,
    "start_time": "2023-08-02T21:13:37.105Z"
   },
   {
    "duration": 17,
    "start_time": "2023-08-02T21:14:33.637Z"
   },
   {
    "duration": 14,
    "start_time": "2023-08-02T21:15:05.303Z"
   },
   {
    "duration": 15,
    "start_time": "2023-08-02T21:16:59.957Z"
   },
   {
    "duration": 15,
    "start_time": "2023-08-02T21:20:35.028Z"
   },
   {
    "duration": 16,
    "start_time": "2023-08-02T21:20:42.696Z"
   },
   {
    "duration": 18,
    "start_time": "2023-08-02T21:21:48.842Z"
   },
   {
    "duration": 27,
    "start_time": "2023-08-02T21:22:49.626Z"
   },
   {
    "duration": 15,
    "start_time": "2023-08-02T21:25:09.627Z"
   },
   {
    "duration": 15,
    "start_time": "2023-08-02T21:27:34.004Z"
   },
   {
    "duration": 22,
    "start_time": "2023-08-02T21:28:49.172Z"
   },
   {
    "duration": 2,
    "start_time": "2023-08-02T21:31:54.956Z"
   },
   {
    "duration": 5,
    "start_time": "2023-08-02T21:31:55.734Z"
   },
   {
    "duration": 14,
    "start_time": "2023-08-02T21:31:57.991Z"
   },
   {
    "duration": 11,
    "start_time": "2023-08-02T21:37:05.689Z"
   },
   {
    "duration": 491,
    "start_time": "2023-08-02T21:43:40.813Z"
   },
   {
    "duration": 4190,
    "start_time": "2023-08-02T21:44:37.336Z"
   },
   {
    "duration": 425,
    "start_time": "2023-08-02T21:44:41.529Z"
   },
   {
    "duration": 21,
    "start_time": "2023-08-02T21:44:41.956Z"
   },
   {
    "duration": 11,
    "start_time": "2023-08-02T21:44:41.979Z"
   },
   {
    "duration": 22,
    "start_time": "2023-08-02T21:44:41.992Z"
   },
   {
    "duration": 18,
    "start_time": "2023-08-02T21:44:42.016Z"
   },
   {
    "duration": 19,
    "start_time": "2023-08-02T21:44:42.036Z"
   },
   {
    "duration": 16,
    "start_time": "2023-08-02T21:44:42.070Z"
   },
   {
    "duration": 877,
    "start_time": "2023-08-02T21:44:42.088Z"
   },
   {
    "duration": 724,
    "start_time": "2023-08-02T21:44:42.968Z"
   },
   {
    "duration": 697,
    "start_time": "2023-08-02T21:44:43.694Z"
   },
   {
    "duration": 4,
    "start_time": "2023-08-02T21:44:44.393Z"
   },
   {
    "duration": 14,
    "start_time": "2023-08-02T21:44:44.399Z"
   },
   {
    "duration": 21,
    "start_time": "2023-08-02T21:44:44.415Z"
   },
   {
    "duration": 25,
    "start_time": "2023-08-02T21:44:44.438Z"
   },
   {
    "duration": 28,
    "start_time": "2023-08-02T21:44:44.465Z"
   },
   {
    "duration": 16,
    "start_time": "2023-08-02T21:44:44.495Z"
   },
   {
    "duration": 20,
    "start_time": "2023-08-02T21:44:44.513Z"
   },
   {
    "duration": 16,
    "start_time": "2023-08-02T21:44:44.535Z"
   },
   {
    "duration": 27,
    "start_time": "2023-08-02T21:44:44.553Z"
   },
   {
    "duration": 39,
    "start_time": "2023-08-02T21:44:44.582Z"
   },
   {
    "duration": 48,
    "start_time": "2023-08-02T21:44:44.623Z"
   },
   {
    "duration": 35,
    "start_time": "2023-08-02T21:44:44.673Z"
   },
   {
    "duration": 6853,
    "start_time": "2023-08-02T21:44:44.710Z"
   },
   {
    "duration": 17,
    "start_time": "2023-08-02T21:44:51.572Z"
   },
   {
    "duration": 36,
    "start_time": "2023-08-02T21:44:51.591Z"
   },
   {
    "duration": 7007,
    "start_time": "2023-08-02T21:44:51.629Z"
   },
   {
    "duration": 6960,
    "start_time": "2023-08-02T21:44:58.639Z"
   },
   {
    "duration": 13,
    "start_time": "2023-08-02T21:45:05.600Z"
   },
   {
    "duration": 19,
    "start_time": "2023-08-02T21:45:05.615Z"
   },
   {
    "duration": 39,
    "start_time": "2023-08-02T21:45:05.636Z"
   },
   {
    "duration": 23,
    "start_time": "2023-08-02T21:45:05.677Z"
   },
   {
    "duration": 56,
    "start_time": "2023-08-02T21:45:05.702Z"
   },
   {
    "duration": 23,
    "start_time": "2023-08-02T21:45:05.760Z"
   },
   {
    "duration": 34,
    "start_time": "2023-08-02T21:45:05.785Z"
   },
   {
    "duration": 24,
    "start_time": "2023-08-02T21:45:05.820Z"
   },
   {
    "duration": 22,
    "start_time": "2023-08-02T21:45:05.845Z"
   },
   {
    "duration": 22,
    "start_time": "2023-08-02T21:45:05.869Z"
   },
   {
    "duration": 79,
    "start_time": "2023-08-02T21:45:05.894Z"
   },
   {
    "duration": 99,
    "start_time": "2023-08-02T21:45:05.976Z"
   },
   {
    "duration": 100,
    "start_time": "2023-08-02T21:45:06.080Z"
   },
   {
    "duration": 197,
    "start_time": "2023-08-02T21:45:06.184Z"
   },
   {
    "duration": 8,
    "start_time": "2023-08-02T21:45:06.384Z"
   },
   {
    "duration": 13,
    "start_time": "2023-08-02T21:45:06.394Z"
   },
   {
    "duration": 23,
    "start_time": "2023-08-02T21:45:06.409Z"
   },
   {
    "duration": 16,
    "start_time": "2023-08-02T21:45:06.434Z"
   },
   {
    "duration": 25,
    "start_time": "2023-08-02T21:45:06.452Z"
   },
   {
    "duration": 9,
    "start_time": "2023-08-02T21:45:06.479Z"
   },
   {
    "duration": 16,
    "start_time": "2023-08-02T21:45:06.490Z"
   },
   {
    "duration": 543,
    "start_time": "2023-08-02T21:45:06.508Z"
   },
   {
    "duration": 0,
    "start_time": "2023-08-02T21:45:07.053Z"
   },
   {
    "duration": 0,
    "start_time": "2023-08-02T21:45:07.054Z"
   },
   {
    "duration": 0,
    "start_time": "2023-08-02T21:45:07.055Z"
   },
   {
    "duration": 0,
    "start_time": "2023-08-02T21:45:07.057Z"
   },
   {
    "duration": 0,
    "start_time": "2023-08-02T21:45:07.058Z"
   },
   {
    "duration": 0,
    "start_time": "2023-08-02T21:45:07.059Z"
   },
   {
    "duration": 0,
    "start_time": "2023-08-02T21:45:07.059Z"
   },
   {
    "duration": 0,
    "start_time": "2023-08-02T21:45:07.061Z"
   },
   {
    "duration": 0,
    "start_time": "2023-08-02T21:45:07.062Z"
   },
   {
    "duration": 4,
    "start_time": "2023-08-02T21:46:36.937Z"
   },
   {
    "duration": 121,
    "start_time": "2023-08-02T21:46:36.943Z"
   },
   {
    "duration": 0,
    "start_time": "2023-08-02T21:46:37.066Z"
   },
   {
    "duration": 7,
    "start_time": "2023-08-02T21:50:06.119Z"
   },
   {
    "duration": 15,
    "start_time": "2023-08-02T21:50:08.731Z"
   },
   {
    "duration": 8,
    "start_time": "2023-08-02T21:50:39.461Z"
   },
   {
    "duration": 12,
    "start_time": "2023-08-02T21:50:39.848Z"
   },
   {
    "duration": 937,
    "start_time": "2023-08-02T21:52:02.266Z"
   },
   {
    "duration": 11,
    "start_time": "2023-08-02T21:53:33.606Z"
   },
   {
    "duration": 918,
    "start_time": "2023-08-02T21:53:36.744Z"
   },
   {
    "duration": 17,
    "start_time": "2023-08-02T21:54:20.562Z"
   },
   {
    "duration": 1101,
    "start_time": "2023-08-02T21:54:23.241Z"
   },
   {
    "duration": 12,
    "start_time": "2023-08-02T21:56:14.660Z"
   },
   {
    "duration": 905,
    "start_time": "2023-08-02T21:56:14.694Z"
   },
   {
    "duration": 51,
    "start_time": "2023-08-03T20:13:58.501Z"
   },
   {
    "duration": 6,
    "start_time": "2023-08-03T20:13:59.629Z"
   },
   {
    "duration": 3,
    "start_time": "2023-08-03T20:14:00.321Z"
   },
   {
    "duration": 7,
    "start_time": "2023-08-03T20:18:17.036Z"
   },
   {
    "duration": 3,
    "start_time": "2023-08-03T20:18:17.225Z"
   },
   {
    "duration": 11,
    "start_time": "2023-08-03T20:36:47.332Z"
   },
   {
    "duration": 4756,
    "start_time": "2023-08-03T20:40:31.793Z"
   },
   {
    "duration": 2151,
    "start_time": "2023-08-03T20:40:36.551Z"
   },
   {
    "duration": 16,
    "start_time": "2023-08-03T20:40:38.704Z"
   },
   {
    "duration": 12,
    "start_time": "2023-08-03T20:40:38.722Z"
   },
   {
    "duration": 20,
    "start_time": "2023-08-03T20:40:38.736Z"
   },
   {
    "duration": 30,
    "start_time": "2023-08-03T20:40:38.758Z"
   },
   {
    "duration": 16,
    "start_time": "2023-08-03T20:40:38.790Z"
   },
   {
    "duration": 19,
    "start_time": "2023-08-03T20:40:38.808Z"
   },
   {
    "duration": 898,
    "start_time": "2023-08-03T20:40:38.833Z"
   },
   {
    "duration": 670,
    "start_time": "2023-08-03T20:40:39.732Z"
   },
   {
    "duration": 757,
    "start_time": "2023-08-03T20:40:40.404Z"
   },
   {
    "duration": 3,
    "start_time": "2023-08-03T20:40:41.163Z"
   },
   {
    "duration": 9,
    "start_time": "2023-08-03T20:40:41.168Z"
   },
   {
    "duration": 10,
    "start_time": "2023-08-03T20:40:41.182Z"
   },
   {
    "duration": 44,
    "start_time": "2023-08-03T20:40:41.194Z"
   },
   {
    "duration": 37,
    "start_time": "2023-08-03T20:40:41.240Z"
   },
   {
    "duration": 23,
    "start_time": "2023-08-03T20:40:41.278Z"
   },
   {
    "duration": 37,
    "start_time": "2023-08-03T20:40:41.302Z"
   },
   {
    "duration": 30,
    "start_time": "2023-08-03T20:40:41.341Z"
   },
   {
    "duration": 24,
    "start_time": "2023-08-03T20:40:41.373Z"
   },
   {
    "duration": 140,
    "start_time": "2023-08-03T20:40:41.399Z"
   },
   {
    "duration": 48,
    "start_time": "2023-08-03T20:40:41.541Z"
   },
   {
    "duration": 38,
    "start_time": "2023-08-03T20:40:41.595Z"
   },
   {
    "duration": 7412,
    "start_time": "2023-08-03T20:40:41.635Z"
   },
   {
    "duration": 46,
    "start_time": "2023-08-03T20:40:49.049Z"
   },
   {
    "duration": 31,
    "start_time": "2023-08-03T20:40:49.098Z"
   },
   {
    "duration": 7559,
    "start_time": "2023-08-03T20:40:49.131Z"
   },
   {
    "duration": 7648,
    "start_time": "2023-08-03T20:40:56.692Z"
   },
   {
    "duration": 23,
    "start_time": "2023-08-03T20:41:04.342Z"
   },
   {
    "duration": 7,
    "start_time": "2023-08-03T20:41:04.368Z"
   },
   {
    "duration": 2,
    "start_time": "2023-08-03T20:41:04.377Z"
   },
   {
    "duration": 8,
    "start_time": "2023-08-03T20:41:04.381Z"
   },
   {
    "duration": 33,
    "start_time": "2023-08-03T20:41:04.391Z"
   },
   {
    "duration": 42,
    "start_time": "2023-08-03T20:41:04.426Z"
   },
   {
    "duration": 43,
    "start_time": "2023-08-03T20:41:04.470Z"
   },
   {
    "duration": 14,
    "start_time": "2023-08-03T20:41:04.515Z"
   },
   {
    "duration": 32,
    "start_time": "2023-08-03T20:41:04.531Z"
   },
   {
    "duration": 22,
    "start_time": "2023-08-03T20:41:04.565Z"
   },
   {
    "duration": 73,
    "start_time": "2023-08-03T20:41:04.589Z"
   },
   {
    "duration": 13,
    "start_time": "2023-08-03T20:41:04.666Z"
   },
   {
    "duration": 34,
    "start_time": "2023-08-03T20:41:04.756Z"
   },
   {
    "duration": 26,
    "start_time": "2023-08-03T20:41:04.857Z"
   },
   {
    "duration": 14,
    "start_time": "2023-08-03T20:41:04.957Z"
   },
   {
    "duration": 12,
    "start_time": "2023-08-03T20:41:04.975Z"
   },
   {
    "duration": 3,
    "start_time": "2023-08-03T20:41:04.991Z"
   },
   {
    "duration": 7,
    "start_time": "2023-08-03T20:41:04.996Z"
   },
   {
    "duration": 10,
    "start_time": "2023-08-03T20:41:05.004Z"
   },
   {
    "duration": 24,
    "start_time": "2023-08-03T20:41:05.016Z"
   },
   {
    "duration": 24,
    "start_time": "2023-08-03T20:41:05.042Z"
   },
   {
    "duration": 8,
    "start_time": "2023-08-03T20:41:05.068Z"
   },
   {
    "duration": 6,
    "start_time": "2023-08-03T20:41:05.080Z"
   },
   {
    "duration": 32,
    "start_time": "2023-08-03T20:41:05.088Z"
   },
   {
    "duration": 170,
    "start_time": "2023-08-03T20:41:05.122Z"
   },
   {
    "duration": 0,
    "start_time": "2023-08-03T20:41:05.293Z"
   },
   {
    "duration": 0,
    "start_time": "2023-08-03T20:41:05.295Z"
   },
   {
    "duration": 0,
    "start_time": "2023-08-03T20:41:05.296Z"
   },
   {
    "duration": 0,
    "start_time": "2023-08-03T20:41:05.296Z"
   },
   {
    "duration": 0,
    "start_time": "2023-08-03T20:41:05.297Z"
   },
   {
    "duration": 0,
    "start_time": "2023-08-03T20:41:05.298Z"
   },
   {
    "duration": 0,
    "start_time": "2023-08-03T20:41:05.299Z"
   },
   {
    "duration": 0,
    "start_time": "2023-08-03T20:41:05.300Z"
   },
   {
    "duration": 0,
    "start_time": "2023-08-03T20:41:05.301Z"
   },
   {
    "duration": 15,
    "start_time": "2023-08-03T20:41:34.612Z"
   },
   {
    "duration": 11,
    "start_time": "2023-08-03T20:41:42.783Z"
   },
   {
    "duration": 10,
    "start_time": "2023-08-03T20:41:43.108Z"
   },
   {
    "duration": 5,
    "start_time": "2023-08-03T20:43:34.729Z"
   },
   {
    "duration": 4,
    "start_time": "2023-08-03T20:43:43.630Z"
   },
   {
    "duration": 9,
    "start_time": "2023-08-03T20:43:45.069Z"
   },
   {
    "duration": 5,
    "start_time": "2023-08-03T20:43:45.670Z"
   },
   {
    "duration": 2,
    "start_time": "2023-08-03T20:43:46.338Z"
   },
   {
    "duration": 10,
    "start_time": "2023-08-03T20:43:46.848Z"
   },
   {
    "duration": 980,
    "start_time": "2023-08-03T20:43:47.512Z"
   },
   {
    "duration": 1067,
    "start_time": "2023-08-03T20:44:45.208Z"
   },
   {
    "duration": 1059,
    "start_time": "2023-08-03T20:45:02.829Z"
   },
   {
    "duration": 12,
    "start_time": "2023-08-03T20:46:16.711Z"
   },
   {
    "duration": 13,
    "start_time": "2023-08-03T20:48:00.099Z"
   },
   {
    "duration": 3,
    "start_time": "2023-08-03T20:48:46.594Z"
   },
   {
    "duration": 4,
    "start_time": "2023-08-03T20:49:12.072Z"
   },
   {
    "duration": 1012,
    "start_time": "2023-08-03T20:49:21.697Z"
   },
   {
    "duration": 1003,
    "start_time": "2023-08-03T20:52:33.459Z"
   },
   {
    "duration": 976,
    "start_time": "2023-08-03T20:52:35.037Z"
   },
   {
    "duration": 3953,
    "start_time": "2023-08-03T22:20:06.229Z"
   },
   {
    "duration": 483,
    "start_time": "2023-08-03T22:20:10.188Z"
   },
   {
    "duration": 29,
    "start_time": "2023-08-03T22:20:10.673Z"
   },
   {
    "duration": 14,
    "start_time": "2023-08-03T22:20:10.704Z"
   },
   {
    "duration": 62,
    "start_time": "2023-08-03T22:20:10.720Z"
   },
   {
    "duration": 47,
    "start_time": "2023-08-03T22:20:10.784Z"
   },
   {
    "duration": 18,
    "start_time": "2023-08-03T22:20:10.834Z"
   },
   {
    "duration": 37,
    "start_time": "2023-08-03T22:20:10.854Z"
   },
   {
    "duration": 782,
    "start_time": "2023-08-03T22:20:10.893Z"
   },
   {
    "duration": 704,
    "start_time": "2023-08-03T22:20:11.678Z"
   },
   {
    "duration": 723,
    "start_time": "2023-08-03T22:20:12.388Z"
   },
   {
    "duration": 5,
    "start_time": "2023-08-03T22:20:13.112Z"
   },
   {
    "duration": 6,
    "start_time": "2023-08-03T22:20:13.118Z"
   },
   {
    "duration": 4,
    "start_time": "2023-08-03T22:20:13.127Z"
   },
   {
    "duration": 45,
    "start_time": "2023-08-03T22:20:13.133Z"
   },
   {
    "duration": 29,
    "start_time": "2023-08-03T22:20:13.180Z"
   },
   {
    "duration": 29,
    "start_time": "2023-08-03T22:20:13.212Z"
   },
   {
    "duration": 52,
    "start_time": "2023-08-03T22:20:13.243Z"
   },
   {
    "duration": 47,
    "start_time": "2023-08-03T22:20:13.297Z"
   },
   {
    "duration": 33,
    "start_time": "2023-08-03T22:20:13.347Z"
   },
   {
    "duration": 40,
    "start_time": "2023-08-03T22:20:13.383Z"
   },
   {
    "duration": 71,
    "start_time": "2023-08-03T22:20:13.425Z"
   },
   {
    "duration": 42,
    "start_time": "2023-08-03T22:20:13.498Z"
   },
   {
    "duration": 7566,
    "start_time": "2023-08-03T22:20:13.541Z"
   },
   {
    "duration": 38,
    "start_time": "2023-08-03T22:20:21.109Z"
   },
   {
    "duration": 44,
    "start_time": "2023-08-03T22:20:21.159Z"
   },
   {
    "duration": 7927,
    "start_time": "2023-08-03T22:20:21.205Z"
   },
   {
    "duration": 7867,
    "start_time": "2023-08-03T22:20:29.138Z"
   },
   {
    "duration": 17,
    "start_time": "2023-08-03T22:20:37.007Z"
   },
   {
    "duration": 7,
    "start_time": "2023-08-03T22:20:37.026Z"
   },
   {
    "duration": 29,
    "start_time": "2023-08-03T22:20:37.034Z"
   },
   {
    "duration": 10,
    "start_time": "2023-08-03T22:20:37.065Z"
   },
   {
    "duration": 39,
    "start_time": "2023-08-03T22:20:37.079Z"
   },
   {
    "duration": 23,
    "start_time": "2023-08-03T22:20:37.119Z"
   },
   {
    "duration": 43,
    "start_time": "2023-08-03T22:20:37.144Z"
   },
   {
    "duration": 16,
    "start_time": "2023-08-03T22:20:37.190Z"
   },
   {
    "duration": 12,
    "start_time": "2023-08-03T22:20:37.208Z"
   },
   {
    "duration": 44,
    "start_time": "2023-08-03T22:20:37.222Z"
   },
   {
    "duration": 38,
    "start_time": "2023-08-03T22:20:37.268Z"
   },
   {
    "duration": 101,
    "start_time": "2023-08-03T22:20:37.361Z"
   },
   {
    "duration": 20,
    "start_time": "2023-08-03T22:20:37.465Z"
   },
   {
    "duration": 64,
    "start_time": "2023-08-03T22:20:37.494Z"
   },
   {
    "duration": 8,
    "start_time": "2023-08-03T22:20:37.563Z"
   },
   {
    "duration": 17,
    "start_time": "2023-08-03T22:20:37.576Z"
   },
   {
    "duration": 61,
    "start_time": "2023-08-03T22:20:37.601Z"
   },
   {
    "duration": 14,
    "start_time": "2023-08-03T22:20:37.664Z"
   },
   {
    "duration": 32,
    "start_time": "2023-08-03T22:20:37.680Z"
   },
   {
    "duration": 12,
    "start_time": "2023-08-03T22:20:37.714Z"
   },
   {
    "duration": 9,
    "start_time": "2023-08-03T22:20:37.728Z"
   },
   {
    "duration": 11,
    "start_time": "2023-08-03T22:20:37.739Z"
   },
   {
    "duration": 31,
    "start_time": "2023-08-03T22:20:37.752Z"
   },
   {
    "duration": 1134,
    "start_time": "2023-08-03T22:20:37.787Z"
   },
   {
    "duration": 1057,
    "start_time": "2023-08-03T22:20:38.924Z"
   },
   {
    "duration": 955,
    "start_time": "2023-08-03T22:20:39.985Z"
   },
   {
    "duration": 139,
    "start_time": "2023-08-03T22:22:03.172Z"
   },
   {
    "duration": 6,
    "start_time": "2023-08-03T22:22:39.641Z"
   },
   {
    "duration": 3,
    "start_time": "2023-08-03T22:22:41.342Z"
   },
   {
    "duration": 12,
    "start_time": "2023-08-03T22:22:42.408Z"
   },
   {
    "duration": 1022,
    "start_time": "2023-08-03T22:22:42.679Z"
   },
   {
    "duration": 1049,
    "start_time": "2023-08-03T22:22:43.703Z"
   },
   {
    "duration": 988,
    "start_time": "2023-08-03T22:22:44.753Z"
   },
   {
    "duration": 4232,
    "start_time": "2023-08-03T22:24:37.221Z"
   },
   {
    "duration": 486,
    "start_time": "2023-08-03T22:24:41.455Z"
   },
   {
    "duration": 30,
    "start_time": "2023-08-03T22:24:41.944Z"
   },
   {
    "duration": 22,
    "start_time": "2023-08-03T22:24:41.979Z"
   },
   {
    "duration": 20,
    "start_time": "2023-08-03T22:24:42.009Z"
   },
   {
    "duration": 44,
    "start_time": "2023-08-03T22:24:42.031Z"
   },
   {
    "duration": 22,
    "start_time": "2023-08-03T22:24:42.079Z"
   },
   {
    "duration": 20,
    "start_time": "2023-08-03T22:24:42.106Z"
   },
   {
    "duration": 892,
    "start_time": "2023-08-03T22:24:42.129Z"
   },
   {
    "duration": 872,
    "start_time": "2023-08-03T22:24:43.024Z"
   },
   {
    "duration": 774,
    "start_time": "2023-08-03T22:24:43.900Z"
   },
   {
    "duration": 22,
    "start_time": "2023-08-03T22:24:44.678Z"
   },
   {
    "duration": 8,
    "start_time": "2023-08-03T22:24:44.703Z"
   },
   {
    "duration": 10,
    "start_time": "2023-08-03T22:24:44.713Z"
   },
   {
    "duration": 58,
    "start_time": "2023-08-03T22:24:44.725Z"
   },
   {
    "duration": 32,
    "start_time": "2023-08-03T22:24:44.787Z"
   },
   {
    "duration": 21,
    "start_time": "2023-08-03T22:24:44.821Z"
   },
   {
    "duration": 36,
    "start_time": "2023-08-03T22:24:44.844Z"
   },
   {
    "duration": 39,
    "start_time": "2023-08-03T22:24:44.882Z"
   },
   {
    "duration": 21,
    "start_time": "2023-08-03T22:24:44.923Z"
   },
   {
    "duration": 62,
    "start_time": "2023-08-03T22:24:44.946Z"
   },
   {
    "duration": 59,
    "start_time": "2023-08-03T22:24:45.010Z"
   },
   {
    "duration": 48,
    "start_time": "2023-08-03T22:24:45.071Z"
   },
   {
    "duration": 7261,
    "start_time": "2023-08-03T22:24:45.122Z"
   },
   {
    "duration": 26,
    "start_time": "2023-08-03T22:24:52.386Z"
   },
   {
    "duration": 52,
    "start_time": "2023-08-03T22:24:52.413Z"
   },
   {
    "duration": 7372,
    "start_time": "2023-08-03T22:24:52.469Z"
   },
   {
    "duration": 7991,
    "start_time": "2023-08-03T22:24:59.844Z"
   },
   {
    "duration": 29,
    "start_time": "2023-08-03T22:25:07.837Z"
   },
   {
    "duration": 6,
    "start_time": "2023-08-03T22:25:07.873Z"
   },
   {
    "duration": 5,
    "start_time": "2023-08-03T22:25:07.883Z"
   },
   {
    "duration": 6,
    "start_time": "2023-08-03T22:25:07.890Z"
   },
   {
    "duration": 27,
    "start_time": "2023-08-03T22:25:07.898Z"
   },
   {
    "duration": 40,
    "start_time": "2023-08-03T22:25:07.928Z"
   },
   {
    "duration": 37,
    "start_time": "2023-08-03T22:25:07.979Z"
   },
   {
    "duration": 17,
    "start_time": "2023-08-03T22:25:08.018Z"
   },
   {
    "duration": 35,
    "start_time": "2023-08-03T22:25:08.037Z"
   },
   {
    "duration": 17,
    "start_time": "2023-08-03T22:25:08.079Z"
   },
   {
    "duration": 64,
    "start_time": "2023-08-03T22:25:08.098Z"
   },
   {
    "duration": 15,
    "start_time": "2023-08-03T22:25:08.170Z"
   },
   {
    "duration": 19,
    "start_time": "2023-08-03T22:25:08.262Z"
   },
   {
    "duration": 179,
    "start_time": "2023-08-03T22:25:08.286Z"
   },
   {
    "duration": 12,
    "start_time": "2023-08-03T22:25:08.472Z"
   },
   {
    "duration": 8,
    "start_time": "2023-08-03T22:25:08.486Z"
   },
   {
    "duration": 4,
    "start_time": "2023-08-03T22:25:08.496Z"
   },
   {
    "duration": 8,
    "start_time": "2023-08-03T22:25:08.502Z"
   },
   {
    "duration": 15,
    "start_time": "2023-08-03T22:25:08.512Z"
   },
   {
    "duration": 5,
    "start_time": "2023-08-03T22:25:08.530Z"
   },
   {
    "duration": 14,
    "start_time": "2023-08-03T22:25:08.563Z"
   },
   {
    "duration": 13,
    "start_time": "2023-08-03T22:25:08.584Z"
   },
   {
    "duration": 19,
    "start_time": "2023-08-03T22:25:08.599Z"
   },
   {
    "duration": 1069,
    "start_time": "2023-08-03T22:25:08.620Z"
   },
   {
    "duration": 1006,
    "start_time": "2023-08-03T22:25:09.691Z"
   },
   {
    "duration": 978,
    "start_time": "2023-08-03T22:25:10.700Z"
   },
   {
    "duration": 6383,
    "start_time": "2023-08-04T04:17:16.225Z"
   },
   {
    "duration": 1865,
    "start_time": "2023-08-04T04:17:22.610Z"
   },
   {
    "duration": 27,
    "start_time": "2023-08-04T04:17:24.477Z"
   },
   {
    "duration": 15,
    "start_time": "2023-08-04T04:17:24.506Z"
   },
   {
    "duration": 27,
    "start_time": "2023-08-04T04:17:24.523Z"
   },
   {
    "duration": 27,
    "start_time": "2023-08-04T04:17:24.552Z"
   },
   {
    "duration": 25,
    "start_time": "2023-08-04T04:17:24.582Z"
   },
   {
    "duration": 14,
    "start_time": "2023-08-04T04:17:24.609Z"
   },
   {
    "duration": 889,
    "start_time": "2023-08-04T04:17:24.625Z"
   },
   {
    "duration": 891,
    "start_time": "2023-08-04T04:17:25.517Z"
   },
   {
    "duration": 816,
    "start_time": "2023-08-04T04:17:26.410Z"
   },
   {
    "duration": 4,
    "start_time": "2023-08-04T04:17:27.227Z"
   },
   {
    "duration": 5,
    "start_time": "2023-08-04T04:17:27.232Z"
   },
   {
    "duration": 4,
    "start_time": "2023-08-04T04:17:27.239Z"
   },
   {
    "duration": 49,
    "start_time": "2023-08-04T04:17:27.245Z"
   },
   {
    "duration": 21,
    "start_time": "2023-08-04T04:17:27.296Z"
   },
   {
    "duration": 24,
    "start_time": "2023-08-04T04:17:27.319Z"
   },
   {
    "duration": 40,
    "start_time": "2023-08-04T04:17:27.345Z"
   },
   {
    "duration": 29,
    "start_time": "2023-08-04T04:17:27.387Z"
   },
   {
    "duration": 19,
    "start_time": "2023-08-04T04:17:27.418Z"
   },
   {
    "duration": 137,
    "start_time": "2023-08-04T04:17:27.438Z"
   },
   {
    "duration": 46,
    "start_time": "2023-08-04T04:17:27.577Z"
   },
   {
    "duration": 53,
    "start_time": "2023-08-04T04:17:27.625Z"
   },
   {
    "duration": 8121,
    "start_time": "2023-08-04T04:17:27.680Z"
   },
   {
    "duration": 34,
    "start_time": "2023-08-04T04:17:35.804Z"
   },
   {
    "duration": 37,
    "start_time": "2023-08-04T04:17:35.840Z"
   },
   {
    "duration": 8331,
    "start_time": "2023-08-04T04:17:35.882Z"
   },
   {
    "duration": 8674,
    "start_time": "2023-08-04T04:17:44.223Z"
   },
   {
    "duration": 17,
    "start_time": "2023-08-04T04:17:52.900Z"
   },
   {
    "duration": 7,
    "start_time": "2023-08-04T04:17:52.919Z"
   },
   {
    "duration": 18,
    "start_time": "2023-08-04T04:17:52.927Z"
   },
   {
    "duration": 15,
    "start_time": "2023-08-04T04:17:52.946Z"
   },
   {
    "duration": 54,
    "start_time": "2023-08-04T04:17:52.963Z"
   },
   {
    "duration": 20,
    "start_time": "2023-08-04T04:17:53.018Z"
   },
   {
    "duration": 22,
    "start_time": "2023-08-04T04:17:53.040Z"
   },
   {
    "duration": 68,
    "start_time": "2023-08-04T04:17:53.064Z"
   },
   {
    "duration": 70,
    "start_time": "2023-08-04T04:17:53.134Z"
   },
   {
    "duration": 46,
    "start_time": "2023-08-04T04:17:53.206Z"
   },
   {
    "duration": 10,
    "start_time": "2023-08-04T04:17:53.254Z"
   },
   {
    "duration": 21,
    "start_time": "2023-08-04T04:17:53.266Z"
   },
   {
    "duration": 14,
    "start_time": "2023-08-04T04:17:53.289Z"
   },
   {
    "duration": 15,
    "start_time": "2023-08-04T04:17:53.382Z"
   },
   {
    "duration": 72,
    "start_time": "2023-08-04T04:17:53.403Z"
   },
   {
    "duration": 8,
    "start_time": "2023-08-04T04:17:53.477Z"
   },
   {
    "duration": 3,
    "start_time": "2023-08-04T04:17:53.488Z"
   },
   {
    "duration": 13,
    "start_time": "2023-08-04T04:17:53.493Z"
   },
   {
    "duration": 10,
    "start_time": "2023-08-04T04:17:53.508Z"
   },
   {
    "duration": 4,
    "start_time": "2023-08-04T04:17:53.519Z"
   },
   {
    "duration": 14,
    "start_time": "2023-08-04T04:17:53.524Z"
   },
   {
    "duration": 4,
    "start_time": "2023-08-04T04:17:53.539Z"
   },
   {
    "duration": 13,
    "start_time": "2023-08-04T04:17:53.575Z"
   },
   {
    "duration": 1203,
    "start_time": "2023-08-04T04:17:53.590Z"
   },
   {
    "duration": 1098,
    "start_time": "2023-08-04T04:17:54.795Z"
   },
   {
    "duration": 1039,
    "start_time": "2023-08-04T04:17:55.900Z"
   },
   {
    "duration": 74,
    "start_time": "2023-08-04T10:20:39.750Z"
   }
  ],
  "kernelspec": {
   "display_name": "Python 3 (ipykernel)",
   "language": "python",
   "name": "python3"
  },
  "language_info": {
   "codemirror_mode": {
    "name": "ipython",
    "version": 3
   },
   "file_extension": ".py",
   "mimetype": "text/x-python",
   "name": "python",
   "nbconvert_exporter": "python",
   "pygments_lexer": "ipython3",
   "version": "3.9.5"
  },
  "toc": {
   "base_numbering": 1,
   "nav_menu": {},
   "number_sections": true,
   "sideBar": true,
   "skip_h1_title": true,
   "title_cell": "Table of Contents",
   "title_sidebar": "Contents",
   "toc_cell": false,
   "toc_position": {
    "height": "calc(100% - 180px)",
    "left": "10px",
    "top": "150px",
    "width": "223.222px"
   },
   "toc_section_display": true,
   "toc_window_display": false
  }
 },
 "nbformat": 4,
 "nbformat_minor": 2
}
