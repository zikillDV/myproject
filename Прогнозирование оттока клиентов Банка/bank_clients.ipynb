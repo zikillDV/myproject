{
 "cells": [
  {
   "cell_type": "markdown",
   "metadata": {
    "toc": true
   },
   "source": [
    "<h1>Содержание<span class=\"tocSkip\"></span></h1>\n",
    "<div class=\"toc\"><ul class=\"toc-item\"><li><span><a href=\"#Подготовка-данных\" data-toc-modified-id=\"Подготовка-данных-1\"><span class=\"toc-item-num\">1&nbsp;&nbsp;</span>Подготовка данных</a></span></li><li><span><a href=\"#Исследование-задачи\" data-toc-modified-id=\"Исследование-задачи-2\"><span class=\"toc-item-num\">2&nbsp;&nbsp;</span>Исследование задачи</a></span></li><li><span><a href=\"#Борьба-с-дисбалансом\" data-toc-modified-id=\"Борьба-с-дисбалансом-3\"><span class=\"toc-item-num\">3&nbsp;&nbsp;</span>Борьба с дисбалансом</a></span></li><li><span><a href=\"#Тестирование-модели\" data-toc-modified-id=\"Тестирование-модели-4\"><span class=\"toc-item-num\">4&nbsp;&nbsp;</span>Тестирование модели</a></span></li><li><span><a href=\"#Чек-лист-готовности-проекта\" data-toc-modified-id=\"Чек-лист-готовности-проекта-5\"><span class=\"toc-item-num\">5&nbsp;&nbsp;</span>Чек-лист готовности проекта</a></span></li></ul></div>"
   ]
  },
  {
   "cell_type": "markdown",
   "metadata": {},
   "source": [
    "# Построение модели предсказывающей отток клиентов «Бета-Банка»"
   ]
  },
  {
   "cell_type": "markdown",
   "metadata": {},
   "source": [
    "# Описание проекта\n",
    "\n",
    "Из «Бета-Банка» стали уходить клиенты. Каждый месяц. Немного, но заметно. По данным банковских маркетологов сохранять текущих клиентов дешевле, чем привлекать новых. В нашем рпаспоряжении исторические данные о поведении клиентов и расторжении договоров с банком. \n",
    "\n",
    "# Цель проекта\n",
    "\n",
    "Построить модель, способную прогнозировать, уйдёт клиент из банка в ближайшее время или нет.\n",
    "\n",
    "# Ход выполнения проекта\n",
    "\n",
    "- Шаг 1. Откроем файл с данными и изучим общую информацию\n",
    "    - путь к файлу: /datasets/Churn.csv;\n",
    "    - изучим общую информацию;\n",
    "    - подготовим данные к обработке;\n",
    "    - напишем вывод по шагу 1.\n",
    "- Шаг 2. Исследуем данные\n",
    "    - исследуем баланс классов, построим модель с предельно большим значением *F1*-меры (метрика должна быть не менее 0.59);\n",
    "    - обучим модель без учёта дисбаланса;\n",
    "    - измерим *AUC-ROC*, сравним её значение с *F1*-мерой;\n",
    "    - напишем вывод по шагу 2.\n",
    "- Шаг 3. Избавимся от дисбаланса данных\n",
    "    - улучшитм качество модели, учитывая дисбаланс классов;\n",
    "    - обучим разные модели и найдем лучшую;\n",
    "    - напишем вывод по шагу 3.\n",
    "- Шаг 4. Протестируем модель\n",
    "    - проведем финальное тестирование лучшей модели на тестовой выборке;\n",
    "    - проверим *F1*-меру на тестовой выборке (метрика должна быть не менее 0.59);\n",
    "    - напишем вывод по шагу 4.\n",
    "- Шаг 5. Напишем общий вывод по проекту и дадим реккомендации\n",
    "    - Напишем общий вывод по проекту.\n",
    "    \n",
    "\n",
    "# Дополнительная информация\n",
    "\n",
    "**Описание данных**\n",
    "\n",
    "Признаки\n",
    "\n",
    "    RowNumber — индекс строки в данных\n",
    "    CustomerId — уникальный идентификатор клиента\n",
    "    Surname — фамилия\n",
    "    CreditScore — кредитный рейтинг\n",
    "    Geography — страна проживания\n",
    "    Gender — пол\n",
    "    Age — возраст\n",
    "    Tenure — сколько лет человек является клиентом банка\n",
    "    Balance — баланс на счёте\n",
    "    NumOfProducts — количество продуктов банка, используемых клиентом\n",
    "    HasCrCard — наличие кредитной карты\n",
    "    IsActiveMember — активность клиента\n",
    "    EstimatedSalary — предполагаемая зарплата\n",
    "   **Целевой признак**\n",
    "        Exited — факт ухода клиента\n",
    "\n",
    "Источник данных: [https://www.kaggle.com/barelydedicated/bank-customer-churn-modeling](https://www.kaggle.com/barelydedicated/bank-customer-churn-modeling)"
   ]
  },
  {
   "cell_type": "markdown",
   "metadata": {},
   "source": [
    "## Подготовка данных"
   ]
  },
  {
   "cell_type": "code",
   "execution_count": 1,
   "metadata": {},
   "outputs": [
    {
     "name": "stdout",
     "output_type": "stream",
     "text": [
      "Requirement already satisfied: missingno in /opt/conda/lib/python3.9/site-packages (0.5.2)\n",
      "Requirement already satisfied: scipy in /opt/conda/lib/python3.9/site-packages (from missingno) (1.9.1)\n",
      "Requirement already satisfied: matplotlib in /opt/conda/lib/python3.9/site-packages (from missingno) (3.3.4)\n",
      "Requirement already satisfied: numpy in /opt/conda/lib/python3.9/site-packages (from missingno) (1.21.1)\n",
      "Requirement already satisfied: seaborn in /opt/conda/lib/python3.9/site-packages (from missingno) (0.11.1)\n",
      "Requirement already satisfied: pillow>=6.2.0 in /opt/conda/lib/python3.9/site-packages (from matplotlib->missingno) (8.4.0)\n",
      "Requirement already satisfied: python-dateutil>=2.1 in /opt/conda/lib/python3.9/site-packages (from matplotlib->missingno) (2.8.1)\n",
      "Requirement already satisfied: cycler>=0.10 in /opt/conda/lib/python3.9/site-packages (from matplotlib->missingno) (0.11.0)\n",
      "Requirement already satisfied: kiwisolver>=1.0.1 in /opt/conda/lib/python3.9/site-packages (from matplotlib->missingno) (1.4.4)\n",
      "Requirement already satisfied: pyparsing!=2.0.4,!=2.1.2,!=2.1.6,>=2.0.3 in /opt/conda/lib/python3.9/site-packages (from matplotlib->missingno) (2.4.7)\n",
      "Requirement already satisfied: six>=1.5 in /opt/conda/lib/python3.9/site-packages (from python-dateutil>=2.1->matplotlib->missingno) (1.16.0)\n",
      "Requirement already satisfied: pandas>=0.23 in /opt/conda/lib/python3.9/site-packages (from seaborn->missingno) (1.2.4)\n",
      "Requirement already satisfied: pytz>=2017.3 in /opt/conda/lib/python3.9/site-packages (from pandas>=0.23->seaborn->missingno) (2021.1)\n"
     ]
    }
   ],
   "source": [
    "import pandas as pd\n",
    "! pip install missingno\n",
    "import missingno as msno\n",
    "\n",
    "from sklearn.preprocessing import OrdinalEncoder\n",
    "from sklearn.preprocessing import StandardScaler \n",
    "from sklearn.model_selection import train_test_split\n",
    "from sklearn.utils import shuffle\n",
    "\n",
    "from sklearn.linear_model import LogisticRegression\n",
    "from sklearn.tree import DecisionTreeClassifier\n",
    "from sklearn.ensemble import RandomForestClassifier\n",
    "from sklearn.metrics import f1_score, recall_score, precision_score, roc_auc_score, roc_curve\n",
    "\n",
    "from tqdm.notebook import tqdm\n",
    "from matplotlib import pyplot as plt"
   ]
  },
  {
   "cell_type": "code",
   "execution_count": 3,
   "metadata": {},
   "outputs": [],
   "source": [
    "try:\n",
    "    try:\n",
    "        df = pd.read_csv('datasets\\Churn.csv') #локальная версия\n",
    "    except:\n",
    "        df = pd.read_csv('/datasets/Churn.csv') #сетевая версия\n",
    "except:\n",
    "    print('Не удалось прочесть файл. Возможно, был указан не верный путь.')"
   ]
  },
  {
   "cell_type": "code",
   "execution_count": 4,
   "metadata": {},
   "outputs": [
    {
     "data": {
      "text/html": [
       "<div>\n",
       "<style scoped>\n",
       "    .dataframe tbody tr th:only-of-type {\n",
       "        vertical-align: middle;\n",
       "    }\n",
       "\n",
       "    .dataframe tbody tr th {\n",
       "        vertical-align: top;\n",
       "    }\n",
       "\n",
       "    .dataframe thead th {\n",
       "        text-align: right;\n",
       "    }\n",
       "</style>\n",
       "<table border=\"1\" class=\"dataframe\">\n",
       "  <thead>\n",
       "    <tr style=\"text-align: right;\">\n",
       "      <th></th>\n",
       "      <th>RowNumber</th>\n",
       "      <th>CustomerId</th>\n",
       "      <th>Surname</th>\n",
       "      <th>CreditScore</th>\n",
       "      <th>Geography</th>\n",
       "      <th>Gender</th>\n",
       "      <th>Age</th>\n",
       "      <th>Tenure</th>\n",
       "      <th>Balance</th>\n",
       "      <th>NumOfProducts</th>\n",
       "      <th>HasCrCard</th>\n",
       "      <th>IsActiveMember</th>\n",
       "      <th>EstimatedSalary</th>\n",
       "      <th>Exited</th>\n",
       "    </tr>\n",
       "  </thead>\n",
       "  <tbody>\n",
       "    <tr>\n",
       "      <th>0</th>\n",
       "      <td>1</td>\n",
       "      <td>15634602</td>\n",
       "      <td>Hargrave</td>\n",
       "      <td>619</td>\n",
       "      <td>France</td>\n",
       "      <td>Female</td>\n",
       "      <td>42</td>\n",
       "      <td>2.0</td>\n",
       "      <td>0.00</td>\n",
       "      <td>1</td>\n",
       "      <td>1</td>\n",
       "      <td>1</td>\n",
       "      <td>101348.88</td>\n",
       "      <td>1</td>\n",
       "    </tr>\n",
       "    <tr>\n",
       "      <th>1</th>\n",
       "      <td>2</td>\n",
       "      <td>15647311</td>\n",
       "      <td>Hill</td>\n",
       "      <td>608</td>\n",
       "      <td>Spain</td>\n",
       "      <td>Female</td>\n",
       "      <td>41</td>\n",
       "      <td>1.0</td>\n",
       "      <td>83807.86</td>\n",
       "      <td>1</td>\n",
       "      <td>0</td>\n",
       "      <td>1</td>\n",
       "      <td>112542.58</td>\n",
       "      <td>0</td>\n",
       "    </tr>\n",
       "    <tr>\n",
       "      <th>2</th>\n",
       "      <td>3</td>\n",
       "      <td>15619304</td>\n",
       "      <td>Onio</td>\n",
       "      <td>502</td>\n",
       "      <td>France</td>\n",
       "      <td>Female</td>\n",
       "      <td>42</td>\n",
       "      <td>8.0</td>\n",
       "      <td>159660.80</td>\n",
       "      <td>3</td>\n",
       "      <td>1</td>\n",
       "      <td>0</td>\n",
       "      <td>113931.57</td>\n",
       "      <td>1</td>\n",
       "    </tr>\n",
       "    <tr>\n",
       "      <th>3</th>\n",
       "      <td>4</td>\n",
       "      <td>15701354</td>\n",
       "      <td>Boni</td>\n",
       "      <td>699</td>\n",
       "      <td>France</td>\n",
       "      <td>Female</td>\n",
       "      <td>39</td>\n",
       "      <td>1.0</td>\n",
       "      <td>0.00</td>\n",
       "      <td>2</td>\n",
       "      <td>0</td>\n",
       "      <td>0</td>\n",
       "      <td>93826.63</td>\n",
       "      <td>0</td>\n",
       "    </tr>\n",
       "    <tr>\n",
       "      <th>4</th>\n",
       "      <td>5</td>\n",
       "      <td>15737888</td>\n",
       "      <td>Mitchell</td>\n",
       "      <td>850</td>\n",
       "      <td>Spain</td>\n",
       "      <td>Female</td>\n",
       "      <td>43</td>\n",
       "      <td>2.0</td>\n",
       "      <td>125510.82</td>\n",
       "      <td>1</td>\n",
       "      <td>1</td>\n",
       "      <td>1</td>\n",
       "      <td>79084.10</td>\n",
       "      <td>0</td>\n",
       "    </tr>\n",
       "    <tr>\n",
       "      <th>...</th>\n",
       "      <td>...</td>\n",
       "      <td>...</td>\n",
       "      <td>...</td>\n",
       "      <td>...</td>\n",
       "      <td>...</td>\n",
       "      <td>...</td>\n",
       "      <td>...</td>\n",
       "      <td>...</td>\n",
       "      <td>...</td>\n",
       "      <td>...</td>\n",
       "      <td>...</td>\n",
       "      <td>...</td>\n",
       "      <td>...</td>\n",
       "      <td>...</td>\n",
       "    </tr>\n",
       "    <tr>\n",
       "      <th>9995</th>\n",
       "      <td>9996</td>\n",
       "      <td>15606229</td>\n",
       "      <td>Obijiaku</td>\n",
       "      <td>771</td>\n",
       "      <td>France</td>\n",
       "      <td>Male</td>\n",
       "      <td>39</td>\n",
       "      <td>5.0</td>\n",
       "      <td>0.00</td>\n",
       "      <td>2</td>\n",
       "      <td>1</td>\n",
       "      <td>0</td>\n",
       "      <td>96270.64</td>\n",
       "      <td>0</td>\n",
       "    </tr>\n",
       "    <tr>\n",
       "      <th>9996</th>\n",
       "      <td>9997</td>\n",
       "      <td>15569892</td>\n",
       "      <td>Johnstone</td>\n",
       "      <td>516</td>\n",
       "      <td>France</td>\n",
       "      <td>Male</td>\n",
       "      <td>35</td>\n",
       "      <td>10.0</td>\n",
       "      <td>57369.61</td>\n",
       "      <td>1</td>\n",
       "      <td>1</td>\n",
       "      <td>1</td>\n",
       "      <td>101699.77</td>\n",
       "      <td>0</td>\n",
       "    </tr>\n",
       "    <tr>\n",
       "      <th>9997</th>\n",
       "      <td>9998</td>\n",
       "      <td>15584532</td>\n",
       "      <td>Liu</td>\n",
       "      <td>709</td>\n",
       "      <td>France</td>\n",
       "      <td>Female</td>\n",
       "      <td>36</td>\n",
       "      <td>7.0</td>\n",
       "      <td>0.00</td>\n",
       "      <td>1</td>\n",
       "      <td>0</td>\n",
       "      <td>1</td>\n",
       "      <td>42085.58</td>\n",
       "      <td>1</td>\n",
       "    </tr>\n",
       "    <tr>\n",
       "      <th>9998</th>\n",
       "      <td>9999</td>\n",
       "      <td>15682355</td>\n",
       "      <td>Sabbatini</td>\n",
       "      <td>772</td>\n",
       "      <td>Germany</td>\n",
       "      <td>Male</td>\n",
       "      <td>42</td>\n",
       "      <td>3.0</td>\n",
       "      <td>75075.31</td>\n",
       "      <td>2</td>\n",
       "      <td>1</td>\n",
       "      <td>0</td>\n",
       "      <td>92888.52</td>\n",
       "      <td>1</td>\n",
       "    </tr>\n",
       "    <tr>\n",
       "      <th>9999</th>\n",
       "      <td>10000</td>\n",
       "      <td>15628319</td>\n",
       "      <td>Walker</td>\n",
       "      <td>792</td>\n",
       "      <td>France</td>\n",
       "      <td>Female</td>\n",
       "      <td>28</td>\n",
       "      <td>NaN</td>\n",
       "      <td>130142.79</td>\n",
       "      <td>1</td>\n",
       "      <td>1</td>\n",
       "      <td>0</td>\n",
       "      <td>38190.78</td>\n",
       "      <td>0</td>\n",
       "    </tr>\n",
       "  </tbody>\n",
       "</table>\n",
       "<p>10000 rows × 14 columns</p>\n",
       "</div>"
      ],
      "text/plain": [
       "      RowNumber  CustomerId    Surname  CreditScore Geography  Gender  Age  \\\n",
       "0             1    15634602   Hargrave          619    France  Female   42   \n",
       "1             2    15647311       Hill          608     Spain  Female   41   \n",
       "2             3    15619304       Onio          502    France  Female   42   \n",
       "3             4    15701354       Boni          699    France  Female   39   \n",
       "4             5    15737888   Mitchell          850     Spain  Female   43   \n",
       "...         ...         ...        ...          ...       ...     ...  ...   \n",
       "9995       9996    15606229   Obijiaku          771    France    Male   39   \n",
       "9996       9997    15569892  Johnstone          516    France    Male   35   \n",
       "9997       9998    15584532        Liu          709    France  Female   36   \n",
       "9998       9999    15682355  Sabbatini          772   Germany    Male   42   \n",
       "9999      10000    15628319     Walker          792    France  Female   28   \n",
       "\n",
       "      Tenure    Balance  NumOfProducts  HasCrCard  IsActiveMember  \\\n",
       "0        2.0       0.00              1          1               1   \n",
       "1        1.0   83807.86              1          0               1   \n",
       "2        8.0  159660.80              3          1               0   \n",
       "3        1.0       0.00              2          0               0   \n",
       "4        2.0  125510.82              1          1               1   \n",
       "...      ...        ...            ...        ...             ...   \n",
       "9995     5.0       0.00              2          1               0   \n",
       "9996    10.0   57369.61              1          1               1   \n",
       "9997     7.0       0.00              1          0               1   \n",
       "9998     3.0   75075.31              2          1               0   \n",
       "9999     NaN  130142.79              1          1               0   \n",
       "\n",
       "      EstimatedSalary  Exited  \n",
       "0           101348.88       1  \n",
       "1           112542.58       0  \n",
       "2           113931.57       1  \n",
       "3            93826.63       0  \n",
       "4            79084.10       0  \n",
       "...               ...     ...  \n",
       "9995         96270.64       0  \n",
       "9996        101699.77       0  \n",
       "9997         42085.58       1  \n",
       "9998         92888.52       1  \n",
       "9999         38190.78       0  \n",
       "\n",
       "[10000 rows x 14 columns]"
      ]
     },
     "execution_count": 4,
     "metadata": {},
     "output_type": "execute_result"
    }
   ],
   "source": [
    "df"
   ]
  },
  {
   "cell_type": "code",
   "execution_count": 5,
   "metadata": {},
   "outputs": [
    {
     "name": "stdout",
     "output_type": "stream",
     "text": [
      "<class 'pandas.core.frame.DataFrame'>\n",
      "RangeIndex: 10000 entries, 0 to 9999\n",
      "Data columns (total 14 columns):\n",
      " #   Column           Non-Null Count  Dtype  \n",
      "---  ------           --------------  -----  \n",
      " 0   RowNumber        10000 non-null  int64  \n",
      " 1   CustomerId       10000 non-null  int64  \n",
      " 2   Surname          10000 non-null  object \n",
      " 3   CreditScore      10000 non-null  int64  \n",
      " 4   Geography        10000 non-null  object \n",
      " 5   Gender           10000 non-null  object \n",
      " 6   Age              10000 non-null  int64  \n",
      " 7   Tenure           9091 non-null   float64\n",
      " 8   Balance          10000 non-null  float64\n",
      " 9   NumOfProducts    10000 non-null  int64  \n",
      " 10  HasCrCard        10000 non-null  int64  \n",
      " 11  IsActiveMember   10000 non-null  int64  \n",
      " 12  EstimatedSalary  10000 non-null  float64\n",
      " 13  Exited           10000 non-null  int64  \n",
      "dtypes: float64(3), int64(8), object(3)\n",
      "memory usage: 1.1+ MB\n"
     ]
    }
   ],
   "source": [
    "#посмотрим общую информацию о датасете\n",
    "df.info()"
   ]
  },
  {
   "cell_type": "code",
   "execution_count": 6,
   "metadata": {
    "scrolled": false
   },
   "outputs": [
    {
     "data": {
      "text/plain": [
       "<AxesSubplot:>"
      ]
     },
     "execution_count": 6,
     "metadata": {},
     "output_type": "execute_result"
    },
    {
     "data": {
      "image/png": "[encoded data removed]",
      "text/plain": [
       "<Figure size 1800x720 with 2 Axes>"
      ]
     },
     "metadata": {
      "needs_background": "light"
     },
     "output_type": "display_data"
    }
   ],
   "source": [
    "#визуализируем целостность набора данных, для дальнейшей их обработки\n",
    "msno.matrix(df, labels=True)"
   ]
  },
  {
   "cell_type": "markdown",
   "metadata": {},
   "source": [
    "**В датафрейме лишь один столбец Tenure (сколько лет человек является клиентом банка) имеет до 1000 пропусков.**"
   ]
  },
  {
   "cell_type": "code",
   "execution_count": 7,
   "metadata": {},
   "outputs": [
    {
     "data": {
      "text/plain": [
       "<AxesSubplot:>"
      ]
     },
     "execution_count": 7,
     "metadata": {},
     "output_type": "execute_result"
    },
    {
     "data": {
      "image/png": "[encoded data removed]",
      "text/plain": [
       "<Figure size 1800x720 with 3 Axes>"
      ]
     },
     "metadata": {
      "needs_background": "light"
     },
     "output_type": "display_data"
    }
   ],
   "source": [
    "#визуализируем пропущенные столбцы с пропусками\n",
    "msno.bar(df, labels=True)"
   ]
  },
  {
   "cell_type": "code",
   "execution_count": 8,
   "metadata": {},
   "outputs": [
    {
     "name": "stdout",
     "output_type": "stream",
     "text": [
      "Размерность датафрейма до удаления дубликатов, столбцов (строк и столбцов соответственно): (10000, 14)\n",
      "\n"
     ]
    }
   ],
   "source": [
    "print(f'Размерность датафрейма до удаления дубликатов, столбцов (строк и столбцов соответственно):', df.shape)\n",
    "print()"
   ]
  },
  {
   "cell_type": "code",
   "execution_count": null,
   "metadata": {},
   "outputs": [],
   "source": [
    "#Обработаем пропуски.\n",
    "df['Tenure'] = df['Tenure'].fillna(df['Tenure'].median())"
   ]
  },
  {
   "cell_type": "code",
   "execution_count": 10,
   "metadata": {},
   "outputs": [
    {
     "data": {
      "text/plain": [
       "RowNumber          0\n",
       "CustomerId         0\n",
       "Surname            0\n",
       "CreditScore        0\n",
       "Geography          0\n",
       "Gender             0\n",
       "Age                0\n",
       "Tenure             0\n",
       "Balance            0\n",
       "NumOfProducts      0\n",
       "HasCrCard          0\n",
       "IsActiveMember     0\n",
       "EstimatedSalary    0\n",
       "Exited             0\n",
       "dtype: int64"
      ]
     },
     "execution_count": 10,
     "metadata": {},
     "output_type": "execute_result"
    }
   ],
   "source": [
    "df.isnull().sum() #пропущенных значений больше нет"
   ]
  },
  {
   "cell_type": "code",
   "execution_count": 11,
   "metadata": {},
   "outputs": [
    {
     "data": {
      "text/html": [
       "<div>\n",
       "<style scoped>\n",
       "    .dataframe tbody tr th:only-of-type {\n",
       "        vertical-align: middle;\n",
       "    }\n",
       "\n",
       "    .dataframe tbody tr th {\n",
       "        vertical-align: top;\n",
       "    }\n",
       "\n",
       "    .dataframe thead th {\n",
       "        text-align: right;\n",
       "    }\n",
       "</style>\n",
       "<table border=\"1\" class=\"dataframe\">\n",
       "  <thead>\n",
       "    <tr style=\"text-align: right;\">\n",
       "      <th></th>\n",
       "      <th>CreditScore</th>\n",
       "      <th>Geography</th>\n",
       "      <th>Gender</th>\n",
       "      <th>Age</th>\n",
       "      <th>Tenure</th>\n",
       "      <th>Balance</th>\n",
       "      <th>NumOfProducts</th>\n",
       "      <th>HasCrCard</th>\n",
       "      <th>IsActiveMember</th>\n",
       "      <th>EstimatedSalary</th>\n",
       "      <th>Exited</th>\n",
       "    </tr>\n",
       "  </thead>\n",
       "  <tbody>\n",
       "    <tr>\n",
       "      <th>0</th>\n",
       "      <td>619</td>\n",
       "      <td>France</td>\n",
       "      <td>Female</td>\n",
       "      <td>42</td>\n",
       "      <td>2.0</td>\n",
       "      <td>0.00</td>\n",
       "      <td>1</td>\n",
       "      <td>1</td>\n",
       "      <td>1</td>\n",
       "      <td>101348.88</td>\n",
       "      <td>1</td>\n",
       "    </tr>\n",
       "    <tr>\n",
       "      <th>1</th>\n",
       "      <td>608</td>\n",
       "      <td>Spain</td>\n",
       "      <td>Female</td>\n",
       "      <td>41</td>\n",
       "      <td>1.0</td>\n",
       "      <td>83807.86</td>\n",
       "      <td>1</td>\n",
       "      <td>0</td>\n",
       "      <td>1</td>\n",
       "      <td>112542.58</td>\n",
       "      <td>0</td>\n",
       "    </tr>\n",
       "    <tr>\n",
       "      <th>2</th>\n",
       "      <td>502</td>\n",
       "      <td>France</td>\n",
       "      <td>Female</td>\n",
       "      <td>42</td>\n",
       "      <td>8.0</td>\n",
       "      <td>159660.80</td>\n",
       "      <td>3</td>\n",
       "      <td>1</td>\n",
       "      <td>0</td>\n",
       "      <td>113931.57</td>\n",
       "      <td>1</td>\n",
       "    </tr>\n",
       "    <tr>\n",
       "      <th>3</th>\n",
       "      <td>699</td>\n",
       "      <td>France</td>\n",
       "      <td>Female</td>\n",
       "      <td>39</td>\n",
       "      <td>1.0</td>\n",
       "      <td>0.00</td>\n",
       "      <td>2</td>\n",
       "      <td>0</td>\n",
       "      <td>0</td>\n",
       "      <td>93826.63</td>\n",
       "      <td>0</td>\n",
       "    </tr>\n",
       "    <tr>\n",
       "      <th>4</th>\n",
       "      <td>850</td>\n",
       "      <td>Spain</td>\n",
       "      <td>Female</td>\n",
       "      <td>43</td>\n",
       "      <td>2.0</td>\n",
       "      <td>125510.82</td>\n",
       "      <td>1</td>\n",
       "      <td>1</td>\n",
       "      <td>1</td>\n",
       "      <td>79084.10</td>\n",
       "      <td>0</td>\n",
       "    </tr>\n",
       "    <tr>\n",
       "      <th>...</th>\n",
       "      <td>...</td>\n",
       "      <td>...</td>\n",
       "      <td>...</td>\n",
       "      <td>...</td>\n",
       "      <td>...</td>\n",
       "      <td>...</td>\n",
       "      <td>...</td>\n",
       "      <td>...</td>\n",
       "      <td>...</td>\n",
       "      <td>...</td>\n",
       "      <td>...</td>\n",
       "    </tr>\n",
       "    <tr>\n",
       "      <th>9995</th>\n",
       "      <td>771</td>\n",
       "      <td>France</td>\n",
       "      <td>Male</td>\n",
       "      <td>39</td>\n",
       "      <td>5.0</td>\n",
       "      <td>0.00</td>\n",
       "      <td>2</td>\n",
       "      <td>1</td>\n",
       "      <td>0</td>\n",
       "      <td>96270.64</td>\n",
       "      <td>0</td>\n",
       "    </tr>\n",
       "    <tr>\n",
       "      <th>9996</th>\n",
       "      <td>516</td>\n",
       "      <td>France</td>\n",
       "      <td>Male</td>\n",
       "      <td>35</td>\n",
       "      <td>10.0</td>\n",
       "      <td>57369.61</td>\n",
       "      <td>1</td>\n",
       "      <td>1</td>\n",
       "      <td>1</td>\n",
       "      <td>101699.77</td>\n",
       "      <td>0</td>\n",
       "    </tr>\n",
       "    <tr>\n",
       "      <th>9997</th>\n",
       "      <td>709</td>\n",
       "      <td>France</td>\n",
       "      <td>Female</td>\n",
       "      <td>36</td>\n",
       "      <td>7.0</td>\n",
       "      <td>0.00</td>\n",
       "      <td>1</td>\n",
       "      <td>0</td>\n",
       "      <td>1</td>\n",
       "      <td>42085.58</td>\n",
       "      <td>1</td>\n",
       "    </tr>\n",
       "    <tr>\n",
       "      <th>9998</th>\n",
       "      <td>772</td>\n",
       "      <td>Germany</td>\n",
       "      <td>Male</td>\n",
       "      <td>42</td>\n",
       "      <td>3.0</td>\n",
       "      <td>75075.31</td>\n",
       "      <td>2</td>\n",
       "      <td>1</td>\n",
       "      <td>0</td>\n",
       "      <td>92888.52</td>\n",
       "      <td>1</td>\n",
       "    </tr>\n",
       "    <tr>\n",
       "      <th>9999</th>\n",
       "      <td>792</td>\n",
       "      <td>France</td>\n",
       "      <td>Female</td>\n",
       "      <td>28</td>\n",
       "      <td>5.0</td>\n",
       "      <td>130142.79</td>\n",
       "      <td>1</td>\n",
       "      <td>1</td>\n",
       "      <td>0</td>\n",
       "      <td>38190.78</td>\n",
       "      <td>0</td>\n",
       "    </tr>\n",
       "  </tbody>\n",
       "</table>\n",
       "<p>10000 rows × 11 columns</p>\n",
       "</div>"
      ],
      "text/plain": [
       "      CreditScore Geography  Gender  Age  Tenure    Balance  NumOfProducts  \\\n",
       "0             619    France  Female   42     2.0       0.00              1   \n",
       "1             608     Spain  Female   41     1.0   83807.86              1   \n",
       "2             502    France  Female   42     8.0  159660.80              3   \n",
       "3             699    France  Female   39     1.0       0.00              2   \n",
       "4             850     Spain  Female   43     2.0  125510.82              1   \n",
       "...           ...       ...     ...  ...     ...        ...            ...   \n",
       "9995          771    France    Male   39     5.0       0.00              2   \n",
       "9996          516    France    Male   35    10.0   57369.61              1   \n",
       "9997          709    France  Female   36     7.0       0.00              1   \n",
       "9998          772   Germany    Male   42     3.0   75075.31              2   \n",
       "9999          792    France  Female   28     5.0  130142.79              1   \n",
       "\n",
       "      HasCrCard  IsActiveMember  EstimatedSalary  Exited  \n",
       "0             1               1        101348.88       1  \n",
       "1             0               1        112542.58       0  \n",
       "2             1               0        113931.57       1  \n",
       "3             0               0         93826.63       0  \n",
       "4             1               1         79084.10       0  \n",
       "...         ...             ...              ...     ...  \n",
       "9995          1               0         96270.64       0  \n",
       "9996          1               1        101699.77       0  \n",
       "9997          0               1         42085.58       1  \n",
       "9998          1               0         92888.52       1  \n",
       "9999          1               0         38190.78       0  \n",
       "\n",
       "[10000 rows x 11 columns]"
      ]
     },
     "execution_count": 11,
     "metadata": {},
     "output_type": "execute_result"
    }
   ],
   "source": [
    "#Удалим лишние столбцы, которые не пригодятся нам в исследовании\n",
    "df.drop(['RowNumber','CustomerId','Surname'], axis=1, inplace=True) #RowNumber — индекс строки в данных\n",
    "                                                                    #CustomerId — уникальный идентификатор клиента\n",
    "                                                                    #Surname — фамилия\n",
    "df"
   ]
  },
  {
   "cell_type": "code",
   "execution_count": 12,
   "metadata": {},
   "outputs": [
    {
     "data": {
      "text/plain": [
       "0"
      ]
     },
     "execution_count": 12,
     "metadata": {},
     "output_type": "execute_result"
    }
   ],
   "source": [
    "#проверим количество явных дубликатов\n",
    "df.duplicated().sum()"
   ]
  },
  {
   "cell_type": "code",
   "execution_count": 13,
   "metadata": {},
   "outputs": [],
   "source": [
    "#Преобразуем данные в нужные типы, при необходимости \n",
    "df['Tenure'] = df['Tenure'].astype(int) #столбик Tenure - сколько лет человек является клиентом банка имеет целочисленные значения"
   ]
  },
  {
   "cell_type": "code",
   "execution_count": 14,
   "metadata": {},
   "outputs": [],
   "source": [
    "# Заменим названия столбцов (приведем их к нижнему регистру);\n",
    "def camel_to_snake(column):\n",
    "    for char in column:\n",
    "        if char.isupper():\n",
    "            column = column.replace(char, '_' + char.lower())\n",
    "    return column[1:]"
   ]
  },
  {
   "cell_type": "code",
   "execution_count": 15,
   "metadata": {},
   "outputs": [
    {
     "name": "stdout",
     "output_type": "stream",
     "text": [
      "Index(['credit_score', 'geography', 'gender', 'age', 'tenure', 'balance',\n",
      "       'num_of_products', 'has_cr_card', 'is_active_member',\n",
      "       'estimated_salary', 'exited'],\n",
      "      dtype='object')\n"
     ]
    }
   ],
   "source": [
    "for col in df.columns:\n",
    "    new_col = camel_to_snake(col)\n",
    "    df.rename(columns = {col : new_col}, inplace=True)\n",
    "print(df.columns)"
   ]
  },
  {
   "cell_type": "code",
   "execution_count": 16,
   "metadata": {},
   "outputs": [
    {
     "name": "stdout",
     "output_type": "stream",
     "text": [
      "[350, 351, 358, 359, 363, 365, 367, 373, 376, 382, 383, 386, 395, 399, 401, 404, 405, 407, 408, 410, 411, 412, 413, 414, 415, 416, 417, 418, 419, 420, 421, 422, 423, 424, 425, 426, 427, 428, 429, 430, 431, 432, 433, 434, 435, 436, 437, 438, 439, 440, 441, 442, 443, 444, 445, 446, 447, 448, 449, 450, 451, 452, 453, 454, 455, 456, 457, 458, 459, 460, 461, 462, 463, 464, 465, 466, 467, 468, 469, 470, 471, 472, 473, 474, 475, 476, 477, 478, 479, 480, 481, 482, 483, 484, 485, 486, 487, 488, 489, 490, 491, 492, 493, 494, 495, 496, 497, 498, 499, 500, 501, 502, 503, 504, 505, 506, 507, 508, 509, 510, 511, 512, 513, 514, 515, 516, 517, 518, 519, 520, 521, 522, 523, 524, 525, 526, 527, 528, 529, 530, 531, 532, 533, 534, 535, 536, 537, 538, 539, 540, 541, 542, 543, 544, 545, 546, 547, 548, 549, 550, 551, 552, 553, 554, 555, 556, 557, 558, 559, 560, 561, 562, 563, 564, 565, 566, 567, 568, 569, 570, 571, 572, 573, 574, 575, 576, 577, 578, 579, 580, 581, 582, 583, 584, 585, 586, 587, 588, 589, 590, 591, 592, 593, 594, 595, 596, 597, 598, 599, 600, 601, 602, 603, 604, 605, 606, 607, 608, 609, 610, 611, 612, 613, 614, 615, 616, 617, 618, 619, 620, 621, 622, 623, 624, 625, 626, 627, 628, 629, 630, 631, 632, 633, 634, 635, 636, 637, 638, 639, 640, 641, 642, 643, 644, 645, 646, 647, 648, 649, 650, 651, 652, 653, 654, 655, 656, 657, 658, 659, 660, 661, 662, 663, 664, 665, 666, 667, 668, 669, 670, 671, 672, 673, 674, 675, 676, 677, 678, 679, 680, 681, 682, 683, 684, 685, 686, 687, 688, 689, 690, 691, 692, 693, 694, 695, 696, 697, 698, 699, 700, 701, 702, 703, 704, 705, 706, 707, 708, 709, 710, 711, 712, 713, 714, 715, 716, 717, 718, 719, 720, 721, 722, 723, 724, 725, 726, 727, 728, 729, 730, 731, 732, 733, 734, 735, 736, 737, 738, 739, 740, 741, 742, 743, 744, 745, 746, 747, 748, 749, 750, 751, 752, 753, 754, 755, 756, 757, 758, 759, 760, 761, 762, 763, 764, 765, 766, 767, 768, 769, 770, 771, 772, 773, 774, 775, 776, 777, 778, 779, 780, 781, 782, 783, 784, 785, 786, 787, 788, 789, 790, 791, 792, 793, 794, 795, 796, 797, 798, 799, 800, 801, 802, 803, 804, 805, 806, 807, 808, 809, 810, 811, 812, 813, 814, 815, 816, 817, 818, 819, 820, 821, 822, 823, 824, 825, 826, 827, 828, 829, 830, 831, 832, 833, 834, 835, 836, 837, 838, 839, 840, 841, 842, 843, 844, 845, 846, 847, 848, 849, 850]\n",
      "['France', 'Germany', 'Spain']\n",
      "['Female', 'Male']\n",
      "[18, 19, 20, 21, 22, 23, 24, 25, 26, 27, 28, 29, 30, 31, 32, 33, 34, 35, 36, 37, 38, 39, 40, 41, 42, 43, 44, 45, 46, 47, 48, 49, 50, 51, 52, 53, 54, 55, 56, 57, 58, 59, 60, 61, 62, 63, 64, 65, 66, 67, 68, 69, 70, 71, 72, 73, 74, 75, 76, 77, 78, 79, 80, 81, 82, 83, 84, 85, 88, 92]\n",
      "[0, 1, 2, 3, 4, 5, 6, 7, 8, 9, 10]\n",
      "[1, 2, 3, 4]\n",
      "[0, 1]\n",
      "[0, 1]\n",
      "[0, 1]\n"
     ]
    }
   ],
   "source": [
    "#посмотрим на уникальные значения столбцов\n",
    "print(sorted(df['credit_score'].unique()))\n",
    "print(sorted(df['geography'].unique()))\n",
    "print(sorted(df['gender'].unique()))\n",
    "print(sorted(df['age'].unique()))\n",
    "print(sorted(df['tenure'].unique()))\n",
    "print(sorted(df['num_of_products'].unique()))\n",
    "print(sorted(df['has_cr_card'].unique()))\n",
    "print(sorted(df['is_active_member'].unique()))\n",
    "print(sorted(df['exited'].unique()))"
   ]
  },
  {
   "cell_type": "code",
   "execution_count": 18,
   "metadata": {},
   "outputs": [
    {
     "data": {
      "text/html": [
       "<div>\n",
       "<style scoped>\n",
       "    .dataframe tbody tr th:only-of-type {\n",
       "        vertical-align: middle;\n",
       "    }\n",
       "\n",
       "    .dataframe tbody tr th {\n",
       "        vertical-align: top;\n",
       "    }\n",
       "\n",
       "    .dataframe thead th {\n",
       "        text-align: right;\n",
       "    }\n",
       "</style>\n",
       "<table border=\"1\" class=\"dataframe\">\n",
       "  <thead>\n",
       "    <tr style=\"text-align: right;\">\n",
       "      <th></th>\n",
       "      <th>credit_score</th>\n",
       "      <th>age</th>\n",
       "      <th>tenure</th>\n",
       "      <th>balance</th>\n",
       "      <th>num_of_products</th>\n",
       "      <th>has_cr_card</th>\n",
       "      <th>is_active_member</th>\n",
       "      <th>estimated_salary</th>\n",
       "      <th>exited</th>\n",
       "    </tr>\n",
       "  </thead>\n",
       "  <tbody>\n",
       "    <tr>\n",
       "      <th>count</th>\n",
       "      <td>10000.000000</td>\n",
       "      <td>10000.000000</td>\n",
       "      <td>10000.00000</td>\n",
       "      <td>10000.000000</td>\n",
       "      <td>10000.000000</td>\n",
       "      <td>10000.00000</td>\n",
       "      <td>10000.000000</td>\n",
       "      <td>10000.000000</td>\n",
       "      <td>10000.000000</td>\n",
       "    </tr>\n",
       "    <tr>\n",
       "      <th>mean</th>\n",
       "      <td>650.528800</td>\n",
       "      <td>38.921800</td>\n",
       "      <td>4.99790</td>\n",
       "      <td>76485.889288</td>\n",
       "      <td>1.530200</td>\n",
       "      <td>0.70550</td>\n",
       "      <td>0.515100</td>\n",
       "      <td>100090.239881</td>\n",
       "      <td>0.203700</td>\n",
       "    </tr>\n",
       "    <tr>\n",
       "      <th>std</th>\n",
       "      <td>96.653299</td>\n",
       "      <td>10.487806</td>\n",
       "      <td>2.76001</td>\n",
       "      <td>62397.405202</td>\n",
       "      <td>0.581654</td>\n",
       "      <td>0.45584</td>\n",
       "      <td>0.499797</td>\n",
       "      <td>57510.492818</td>\n",
       "      <td>0.402769</td>\n",
       "    </tr>\n",
       "    <tr>\n",
       "      <th>min</th>\n",
       "      <td>350.000000</td>\n",
       "      <td>18.000000</td>\n",
       "      <td>0.00000</td>\n",
       "      <td>0.000000</td>\n",
       "      <td>1.000000</td>\n",
       "      <td>0.00000</td>\n",
       "      <td>0.000000</td>\n",
       "      <td>11.580000</td>\n",
       "      <td>0.000000</td>\n",
       "    </tr>\n",
       "    <tr>\n",
       "      <th>25%</th>\n",
       "      <td>584.000000</td>\n",
       "      <td>32.000000</td>\n",
       "      <td>3.00000</td>\n",
       "      <td>0.000000</td>\n",
       "      <td>1.000000</td>\n",
       "      <td>0.00000</td>\n",
       "      <td>0.000000</td>\n",
       "      <td>51002.110000</td>\n",
       "      <td>0.000000</td>\n",
       "    </tr>\n",
       "    <tr>\n",
       "      <th>50%</th>\n",
       "      <td>652.000000</td>\n",
       "      <td>37.000000</td>\n",
       "      <td>5.00000</td>\n",
       "      <td>97198.540000</td>\n",
       "      <td>1.000000</td>\n",
       "      <td>1.00000</td>\n",
       "      <td>1.000000</td>\n",
       "      <td>100193.915000</td>\n",
       "      <td>0.000000</td>\n",
       "    </tr>\n",
       "    <tr>\n",
       "      <th>75%</th>\n",
       "      <td>718.000000</td>\n",
       "      <td>44.000000</td>\n",
       "      <td>7.00000</td>\n",
       "      <td>127644.240000</td>\n",
       "      <td>2.000000</td>\n",
       "      <td>1.00000</td>\n",
       "      <td>1.000000</td>\n",
       "      <td>149388.247500</td>\n",
       "      <td>0.000000</td>\n",
       "    </tr>\n",
       "    <tr>\n",
       "      <th>max</th>\n",
       "      <td>850.000000</td>\n",
       "      <td>92.000000</td>\n",
       "      <td>10.00000</td>\n",
       "      <td>250898.090000</td>\n",
       "      <td>4.000000</td>\n",
       "      <td>1.00000</td>\n",
       "      <td>1.000000</td>\n",
       "      <td>199992.480000</td>\n",
       "      <td>1.000000</td>\n",
       "    </tr>\n",
       "  </tbody>\n",
       "</table>\n",
       "</div>"
      ],
      "text/plain": [
       "       credit_score           age       tenure        balance  \\\n",
       "count  10000.000000  10000.000000  10000.00000   10000.000000   \n",
       "mean     650.528800     38.921800      4.99790   76485.889288   \n",
       "std       96.653299     10.487806      2.76001   62397.405202   \n",
       "min      350.000000     18.000000      0.00000       0.000000   \n",
       "25%      584.000000     32.000000      3.00000       0.000000   \n",
       "50%      652.000000     37.000000      5.00000   97198.540000   \n",
       "75%      718.000000     44.000000      7.00000  127644.240000   \n",
       "max      850.000000     92.000000     10.00000  250898.090000   \n",
       "\n",
       "       num_of_products  has_cr_card  is_active_member  estimated_salary  \\\n",
       "count     10000.000000  10000.00000      10000.000000      10000.000000   \n",
       "mean          1.530200      0.70550          0.515100     100090.239881   \n",
       "std           0.581654      0.45584          0.499797      57510.492818   \n",
       "min           1.000000      0.00000          0.000000         11.580000   \n",
       "25%           1.000000      0.00000          0.000000      51002.110000   \n",
       "50%           1.000000      1.00000          1.000000     100193.915000   \n",
       "75%           2.000000      1.00000          1.000000     149388.247500   \n",
       "max           4.000000      1.00000          1.000000     199992.480000   \n",
       "\n",
       "             exited  \n",
       "count  10000.000000  \n",
       "mean       0.203700  \n",
       "std        0.402769  \n",
       "min        0.000000  \n",
       "25%        0.000000  \n",
       "50%        0.000000  \n",
       "75%        0.000000  \n",
       "max        1.000000  "
      ]
     },
     "execution_count": 18,
     "metadata": {},
     "output_type": "execute_result"
    }
   ],
   "source": [
    "df.describe() #рассчитаем метрики для столбцов с числовыми значениями"
   ]
  },
  {
   "cell_type": "code",
   "execution_count": 19,
   "metadata": {},
   "outputs": [
    {
     "data": {
      "text/html": [
       "<div>\n",
       "<style scoped>\n",
       "    .dataframe tbody tr th:only-of-type {\n",
       "        vertical-align: middle;\n",
       "    }\n",
       "\n",
       "    .dataframe tbody tr th {\n",
       "        vertical-align: top;\n",
       "    }\n",
       "\n",
       "    .dataframe thead th {\n",
       "        text-align: right;\n",
       "    }\n",
       "</style>\n",
       "<table border=\"1\" class=\"dataframe\">\n",
       "  <thead>\n",
       "    <tr style=\"text-align: right;\">\n",
       "      <th></th>\n",
       "      <th>credit_score</th>\n",
       "      <th>age</th>\n",
       "      <th>tenure</th>\n",
       "      <th>balance</th>\n",
       "      <th>num_of_products</th>\n",
       "      <th>has_cr_card</th>\n",
       "      <th>is_active_member</th>\n",
       "      <th>estimated_salary</th>\n",
       "      <th>exited</th>\n",
       "      <th>geography_Germany</th>\n",
       "      <th>geography_Spain</th>\n",
       "      <th>gender_Male</th>\n",
       "    </tr>\n",
       "  </thead>\n",
       "  <tbody>\n",
       "    <tr>\n",
       "      <th>0</th>\n",
       "      <td>619</td>\n",
       "      <td>42</td>\n",
       "      <td>2</td>\n",
       "      <td>0.00</td>\n",
       "      <td>1</td>\n",
       "      <td>1</td>\n",
       "      <td>1</td>\n",
       "      <td>101348.88</td>\n",
       "      <td>1</td>\n",
       "      <td>0</td>\n",
       "      <td>0</td>\n",
       "      <td>0</td>\n",
       "    </tr>\n",
       "    <tr>\n",
       "      <th>1</th>\n",
       "      <td>608</td>\n",
       "      <td>41</td>\n",
       "      <td>1</td>\n",
       "      <td>83807.86</td>\n",
       "      <td>1</td>\n",
       "      <td>0</td>\n",
       "      <td>1</td>\n",
       "      <td>112542.58</td>\n",
       "      <td>0</td>\n",
       "      <td>0</td>\n",
       "      <td>1</td>\n",
       "      <td>0</td>\n",
       "    </tr>\n",
       "    <tr>\n",
       "      <th>2</th>\n",
       "      <td>502</td>\n",
       "      <td>42</td>\n",
       "      <td>8</td>\n",
       "      <td>159660.80</td>\n",
       "      <td>3</td>\n",
       "      <td>1</td>\n",
       "      <td>0</td>\n",
       "      <td>113931.57</td>\n",
       "      <td>1</td>\n",
       "      <td>0</td>\n",
       "      <td>0</td>\n",
       "      <td>0</td>\n",
       "    </tr>\n",
       "    <tr>\n",
       "      <th>3</th>\n",
       "      <td>699</td>\n",
       "      <td>39</td>\n",
       "      <td>1</td>\n",
       "      <td>0.00</td>\n",
       "      <td>2</td>\n",
       "      <td>0</td>\n",
       "      <td>0</td>\n",
       "      <td>93826.63</td>\n",
       "      <td>0</td>\n",
       "      <td>0</td>\n",
       "      <td>0</td>\n",
       "      <td>0</td>\n",
       "    </tr>\n",
       "    <tr>\n",
       "      <th>4</th>\n",
       "      <td>850</td>\n",
       "      <td>43</td>\n",
       "      <td>2</td>\n",
       "      <td>125510.82</td>\n",
       "      <td>1</td>\n",
       "      <td>1</td>\n",
       "      <td>1</td>\n",
       "      <td>79084.10</td>\n",
       "      <td>0</td>\n",
       "      <td>0</td>\n",
       "      <td>1</td>\n",
       "      <td>0</td>\n",
       "    </tr>\n",
       "    <tr>\n",
       "      <th>...</th>\n",
       "      <td>...</td>\n",
       "      <td>...</td>\n",
       "      <td>...</td>\n",
       "      <td>...</td>\n",
       "      <td>...</td>\n",
       "      <td>...</td>\n",
       "      <td>...</td>\n",
       "      <td>...</td>\n",
       "      <td>...</td>\n",
       "      <td>...</td>\n",
       "      <td>...</td>\n",
       "      <td>...</td>\n",
       "    </tr>\n",
       "    <tr>\n",
       "      <th>9995</th>\n",
       "      <td>771</td>\n",
       "      <td>39</td>\n",
       "      <td>5</td>\n",
       "      <td>0.00</td>\n",
       "      <td>2</td>\n",
       "      <td>1</td>\n",
       "      <td>0</td>\n",
       "      <td>96270.64</td>\n",
       "      <td>0</td>\n",
       "      <td>0</td>\n",
       "      <td>0</td>\n",
       "      <td>1</td>\n",
       "    </tr>\n",
       "    <tr>\n",
       "      <th>9996</th>\n",
       "      <td>516</td>\n",
       "      <td>35</td>\n",
       "      <td>10</td>\n",
       "      <td>57369.61</td>\n",
       "      <td>1</td>\n",
       "      <td>1</td>\n",
       "      <td>1</td>\n",
       "      <td>101699.77</td>\n",
       "      <td>0</td>\n",
       "      <td>0</td>\n",
       "      <td>0</td>\n",
       "      <td>1</td>\n",
       "    </tr>\n",
       "    <tr>\n",
       "      <th>9997</th>\n",
       "      <td>709</td>\n",
       "      <td>36</td>\n",
       "      <td>7</td>\n",
       "      <td>0.00</td>\n",
       "      <td>1</td>\n",
       "      <td>0</td>\n",
       "      <td>1</td>\n",
       "      <td>42085.58</td>\n",
       "      <td>1</td>\n",
       "      <td>0</td>\n",
       "      <td>0</td>\n",
       "      <td>0</td>\n",
       "    </tr>\n",
       "    <tr>\n",
       "      <th>9998</th>\n",
       "      <td>772</td>\n",
       "      <td>42</td>\n",
       "      <td>3</td>\n",
       "      <td>75075.31</td>\n",
       "      <td>2</td>\n",
       "      <td>1</td>\n",
       "      <td>0</td>\n",
       "      <td>92888.52</td>\n",
       "      <td>1</td>\n",
       "      <td>1</td>\n",
       "      <td>0</td>\n",
       "      <td>1</td>\n",
       "    </tr>\n",
       "    <tr>\n",
       "      <th>9999</th>\n",
       "      <td>792</td>\n",
       "      <td>28</td>\n",
       "      <td>5</td>\n",
       "      <td>130142.79</td>\n",
       "      <td>1</td>\n",
       "      <td>1</td>\n",
       "      <td>0</td>\n",
       "      <td>38190.78</td>\n",
       "      <td>0</td>\n",
       "      <td>0</td>\n",
       "      <td>0</td>\n",
       "      <td>0</td>\n",
       "    </tr>\n",
       "  </tbody>\n",
       "</table>\n",
       "<p>10000 rows × 12 columns</p>\n",
       "</div>"
      ],
      "text/plain": [
       "      credit_score  age  tenure    balance  num_of_products  has_cr_card  \\\n",
       "0              619   42       2       0.00                1            1   \n",
       "1              608   41       1   83807.86                1            0   \n",
       "2              502   42       8  159660.80                3            1   \n",
       "3              699   39       1       0.00                2            0   \n",
       "4              850   43       2  125510.82                1            1   \n",
       "...            ...  ...     ...        ...              ...          ...   \n",
       "9995           771   39       5       0.00                2            1   \n",
       "9996           516   35      10   57369.61                1            1   \n",
       "9997           709   36       7       0.00                1            0   \n",
       "9998           772   42       3   75075.31                2            1   \n",
       "9999           792   28       5  130142.79                1            1   \n",
       "\n",
       "      is_active_member  estimated_salary  exited  geography_Germany  \\\n",
       "0                    1         101348.88       1                  0   \n",
       "1                    1         112542.58       0                  0   \n",
       "2                    0         113931.57       1                  0   \n",
       "3                    0          93826.63       0                  0   \n",
       "4                    1          79084.10       0                  0   \n",
       "...                ...               ...     ...                ...   \n",
       "9995                 0          96270.64       0                  0   \n",
       "9996                 1         101699.77       0                  0   \n",
       "9997                 1          42085.58       1                  0   \n",
       "9998                 0          92888.52       1                  1   \n",
       "9999                 0          38190.78       0                  0   \n",
       "\n",
       "      geography_Spain  gender_Male  \n",
       "0                   0            0  \n",
       "1                   1            0  \n",
       "2                   0            0  \n",
       "3                   0            0  \n",
       "4                   1            0  \n",
       "...               ...          ...  \n",
       "9995                0            1  \n",
       "9996                0            1  \n",
       "9997                0            0  \n",
       "9998                0            1  \n",
       "9999                0            0  \n",
       "\n",
       "[10000 rows x 12 columns]"
      ]
     },
     "execution_count": 19,
     "metadata": {},
     "output_type": "execute_result"
    }
   ],
   "source": [
    "#подготовим категориальные данные и избежим дамми-ловушки\n",
    "categorical_columns = ['geography', 'gender']\n",
    "df = pd.get_dummies(df, columns=['geography', 'gender'], drop_first=True)\n",
    "df"
   ]
  },
  {
   "cell_type": "markdown",
   "metadata": {},
   "source": [
    "**Некоторые из столбцов требуют масштабирования: 'credit_score', 'age', 'tenure', 'balance', 'num_of_products', 'estimated_salary'**"
   ]
  },
  {
   "cell_type": "code",
   "execution_count": 20,
   "metadata": {},
   "outputs": [
    {
     "name": "stdout",
     "output_type": "stream",
     "text": [
      "Размерность датафрейма после предобработки: (10000, 12)\n",
      "\n"
     ]
    }
   ],
   "source": [
    "print(f'Размерность датафрейма после предобработки:', df.shape)\n",
    "print()"
   ]
  },
  {
   "cell_type": "code",
   "execution_count": 21,
   "metadata": {},
   "outputs": [],
   "source": [
    "#Разобьем данные на три выборки (обучающую, валидационную и тестовую выборки).\n",
    "#Выделим в отдельные переменные фичи и целевой признак\n",
    "target = df['exited']\n",
    "features = df.drop(['exited'], axis=1)"
   ]
  },
  {
   "cell_type": "code",
   "execution_count": 22,
   "metadata": {},
   "outputs": [
    {
     "name": "stdout",
     "output_type": "stream",
     "text": [
      "Размер обучающей выборки: 6000\n",
      "Размер валидационной выборки: 2000\n",
      "Размер тестовой выборки: 2000\n"
     ]
    }
   ],
   "source": [
    "#Разделим данные на обучающую(60%), валидационную(20%) и тестовую выборки(20%)\n",
    "features_train_val, features_test, target_train_val, target_test = train_test_split(\n",
    "    features, target, test_size=0.2, random_state=12345)\n",
    "\n",
    "features_train, features_valid, target_train, target_valid = train_test_split(\n",
    "    features_train_val, target_train_val, test_size=0.25, random_state=12345)\n",
    "\n",
    "#Провреим размер каждой выборки\n",
    "print('Размер обучающей выборки:', features_train.shape[0])\n",
    "print('Размер валидационной выборки:', features_valid.shape[0])\n",
    "print('Размер тестовой выборки:', features_test.shape[0])"
   ]
  },
  {
   "cell_type": "code",
   "execution_count": 23,
   "metadata": {},
   "outputs": [
    {
     "name": "stdout",
     "output_type": "stream",
     "text": [
      "Размер обучающей выборки: (6000, 11)\n",
      "Размер валидационной выборки: (2000, 11)\n",
      "Размер тестовой выборки: (2000, 11)\n"
     ]
    }
   ],
   "source": [
    "#Провреим размер каждой выборки\n",
    "print('Размер обучающей выборки:', features_train.shape)\n",
    "print('Размер валидационной выборки:', features_valid.shape)\n",
    "print('Размер тестовой выборки:', features_test.shape)"
   ]
  },
  {
   "cell_type": "code",
   "execution_count": 24,
   "metadata": {},
   "outputs": [
    {
     "name": "stdout",
     "output_type": "stream",
     "text": [
      "      credit_score       age    tenure   balance  num_of_products  \\\n",
      "7867     -0.123733  0.685430 -0.730812 -1.232442        -0.896909   \n",
      "1402      1.083087 -0.937002  1.077681  0.858518        -0.896909   \n",
      "8606      1.598822  0.303681 -0.007415 -1.232442         0.816929   \n",
      "8885      0.165078  0.589993 -0.369113  0.412100         0.816929   \n",
      "6494      0.484834 -1.032439  0.715982 -1.232442         0.816929   \n",
      "\n",
      "      has_cr_card  is_active_member  estimated_salary  geography_Germany  \\\n",
      "7867            1                 1          0.980212                  0   \n",
      "1402            1                 0         -0.390486                  0   \n",
      "8606            1                 1         -0.435169                  0   \n",
      "8885            1                 1          1.017079                  0   \n",
      "6494            1                 1         -1.343558                  0   \n",
      "\n",
      "      geography_Spain  gender_Male  \n",
      "7867                1            0  \n",
      "1402                0            1  \n",
      "8606                1            1  \n",
      "8885                1            1  \n",
      "6494                0            1  \n"
     ]
    },
    {
     "name": "stderr",
     "output_type": "stream",
     "text": [
      "/tmp/ipykernel_186/2381332449.py:7: SettingWithCopyWarning: \n",
      "A value is trying to be set on a copy of a slice from a DataFrame.\n",
      "Try using .loc[row_indexer,col_indexer] = value instead\n",
      "\n",
      "See the caveats in the documentation: https://pandas.pydata.org/pandas-docs/stable/user_guide/indexing.html#returning-a-view-versus-a-copy\n",
      "  features_train[numeric] = scaler.transform(features_train[numeric])\n",
      "/opt/conda/lib/python3.9/site-packages/pandas/core/indexing.py:1738: SettingWithCopyWarning: \n",
      "A value is trying to be set on a copy of a slice from a DataFrame.\n",
      "Try using .loc[row_indexer,col_indexer] = value instead\n",
      "\n",
      "See the caveats in the documentation: https://pandas.pydata.org/pandas-docs/stable/user_guide/indexing.html#returning-a-view-versus-a-copy\n",
      "  self._setitem_single_column(loc, value[:, i].tolist(), pi)\n",
      "/tmp/ipykernel_186/2381332449.py:8: SettingWithCopyWarning: \n",
      "A value is trying to be set on a copy of a slice from a DataFrame.\n",
      "Try using .loc[row_indexer,col_indexer] = value instead\n",
      "\n",
      "See the caveats in the documentation: https://pandas.pydata.org/pandas-docs/stable/user_guide/indexing.html#returning-a-view-versus-a-copy\n",
      "  features_valid[numeric] = scaler.transform(features_valid[numeric])\n",
      "/opt/conda/lib/python3.9/site-packages/pandas/core/indexing.py:1738: SettingWithCopyWarning: \n",
      "A value is trying to be set on a copy of a slice from a DataFrame.\n",
      "Try using .loc[row_indexer,col_indexer] = value instead\n",
      "\n",
      "See the caveats in the documentation: https://pandas.pydata.org/pandas-docs/stable/user_guide/indexing.html#returning-a-view-versus-a-copy\n",
      "  self._setitem_single_column(loc, value[:, i].tolist(), pi)\n",
      "/tmp/ipykernel_186/2381332449.py:9: SettingWithCopyWarning: \n",
      "A value is trying to be set on a copy of a slice from a DataFrame.\n",
      "Try using .loc[row_indexer,col_indexer] = value instead\n",
      "\n",
      "See the caveats in the documentation: https://pandas.pydata.org/pandas-docs/stable/user_guide/indexing.html#returning-a-view-versus-a-copy\n",
      "  features_test[numeric] = scaler.transform(features_test[numeric])\n",
      "/opt/conda/lib/python3.9/site-packages/pandas/core/indexing.py:1738: SettingWithCopyWarning: \n",
      "A value is trying to be set on a copy of a slice from a DataFrame.\n",
      "Try using .loc[row_indexer,col_indexer] = value instead\n",
      "\n",
      "See the caveats in the documentation: https://pandas.pydata.org/pandas-docs/stable/user_guide/indexing.html#returning-a-view-versus-a-copy\n",
      "  self._setitem_single_column(loc, value[:, i].tolist(), pi)\n"
     ]
    }
   ],
   "source": [
    "#масштабируем признаки\n",
    "numeric = ['credit_score', 'age', 'tenure', 'balance', 'num_of_products', 'estimated_salary']\n",
    "\n",
    "scaler = StandardScaler() #создааем объект\n",
    "scaler.fit(features_train[numeric])\n",
    "\n",
    "features_train[numeric] = scaler.transform(features_train[numeric])\n",
    "features_valid[numeric] = scaler.transform(features_valid[numeric])\n",
    "features_test[numeric] = scaler.transform(features_test[numeric])\n",
    "print(features_test.head())"
   ]
  },
  {
   "cell_type": "markdown",
   "metadata": {},
   "source": [
    "**Вывод по шагу 1:**\n",
    "\n",
    "Мы изучили общую информацию о данных, удалили лишние для исследования столбцы: RowNumber — индекс строки в данных, CustomerId — уникальный идентификатор клиента, Surname — фамилия. Также в столбце Tenure (сколько лет человек является клиентом банка) было замечено 909 пропусков, строки с которыми нами заменены медианными значениями. Несколько категориальных признаков было закодировано в числовом виде для обучения модели.\n",
    "\n",
    "Датафрейм для удобства обучения и тестирования разделен на 3 выборки:  \n",
    "   - размер обучающей выборки: 6000 строк;\n",
    "   - размер валидационной выборки: 2000 строк;\n",
    "   - размер тестовой выборки: 2000 строк.\n",
    "\n",
    "Некоторые столбцы были отмасштабированы: 'credit_score', 'age', 'tenure', 'balance', 'num_of_products', 'estimated_salary', чтобы исключить влияние больших значений при обучении моделей на конечный результат.\n",
    "\n",
    "Все данные готовы для дальнейшего исследования."
   ]
  },
  {
   "cell_type": "markdown",
   "metadata": {},
   "source": [
    "## Исследование задачи"
   ]
  },
  {
   "cell_type": "markdown",
   "metadata": {},
   "source": [
    "Нам требуется предсказать уход клиента из банка в ближайшее время. Бинарный исход задачи (да/нет) позволяет использовать три популярные для решения такого типа задач модели:\n",
    " - логистическая регрессия;\n",
    " - дерево решений;\n",
    " - случайный лес.\n",
    "\n",
    "Построим каждую из этих моделей и выберем лучшую, с учетом подобранных гиперпараметров. Исследуем баланс классов на обучающей выборке."
   ]
  },
  {
   "cell_type": "code",
   "execution_count": 26,
   "metadata": {},
   "outputs": [
    {
     "data": {
      "application/vnd.jupyter.widget-view+json": {
       "model_id": "8c6f2f8537454554a48a9dc449550d51",
       "version_major": 2,
       "version_minor": 0
      },
      "text/plain": [
       "  0%|          | 0/9 [00:00<?, ?it/s]"
      ]
     },
     "metadata": {},
     "output_type": "display_data"
    },
    {
     "name": "stdout",
     "output_type": "stream",
     "text": [
      "[LibLinear]iter  1 act 1.435e+03 pre 1.307e+03 delta 1.081e+00 f 4.159e+03 |g| 2.853e+03 CG   2\n",
      "[LibLinear]iter  1 act 1.435e+03 pre 1.307e+03 delta 1.081e+00 f 4.159e+03 |g| 2.853e+03 CG   2\n",
      "iter  2 act 1.564e+02 pre 1.380e+02 delta 1.081e+00 f 2.724e+03 |g| 5.057e+02 CG   4\n"
     ]
    },
    {
     "name": "stderr",
     "output_type": "stream",
     "text": [
      "/opt/conda/lib/python3.9/site-packages/sklearn/svm/_base.py:985: ConvergenceWarning: Liblinear failed to converge, increase the number of iterations.\n",
      "  warnings.warn(\"Liblinear failed to converge, increase \"\n",
      "/opt/conda/lib/python3.9/site-packages/sklearn/svm/_base.py:985: ConvergenceWarning: Liblinear failed to converge, increase the number of iterations.\n",
      "  warnings.warn(\"Liblinear failed to converge, increase \"\n"
     ]
    },
    {
     "name": "stdout",
     "output_type": "stream",
     "text": [
      "[LibLinear]iter  1 act 1.435e+03 pre 1.307e+03 delta 1.081e+00 f 4.159e+03 |g| 2.853e+03 CG   2\n",
      "iter  2 act 1.564e+02 pre 1.380e+02 delta 1.081e+00 f 2.724e+03 |g| 5.057e+02 CG   4\n",
      "iter  3 act 1.343e+01 pre 1.273e+01 delta 1.081e+00 f 2.567e+03 |g| 1.188e+02 CG   6\n",
      "[LibLinear]iter  1 act 1.435e+03 pre 1.307e+03 delta 1.081e+00 f 4.159e+03 |g| 2.853e+03 CG   2\n",
      "iter  2 act 1.564e+02 pre 1.380e+02 delta 1.081e+00 f 2.724e+03 |g| 5.057e+02 CG   4\n",
      "iter  3 act 1.343e+01 pre 1.273e+01 delta 1.081e+00 f 2.567e+03 |g| 1.188e+02 CG   6\n",
      "iter  4 act 1.318e-01 pre 1.310e-01 delta 1.081e+00 f 2.554e+03 |g| 1.170e+01 CG   6\n",
      "[LibLinear]iter  1 act 1.435e+03 pre 1.307e+03 delta 1.081e+00 f 4.159e+03 |g| 2.853e+03 CG   2\n",
      "iter  2 act 1.564e+02 pre 1.380e+02 delta 1.081e+00 f 2.724e+03 |g| 5.057e+02 CG   4\n"
     ]
    },
    {
     "name": "stderr",
     "output_type": "stream",
     "text": [
      "/opt/conda/lib/python3.9/site-packages/sklearn/svm/_base.py:985: ConvergenceWarning: Liblinear failed to converge, increase the number of iterations.\n",
      "  warnings.warn(\"Liblinear failed to converge, increase \"\n",
      "/opt/conda/lib/python3.9/site-packages/sklearn/svm/_base.py:985: ConvergenceWarning: Liblinear failed to converge, increase the number of iterations.\n",
      "  warnings.warn(\"Liblinear failed to converge, increase \"\n"
     ]
    },
    {
     "name": "stdout",
     "output_type": "stream",
     "text": [
      "iter  3 act 1.343e+01 pre 1.273e+01 delta 1.081e+00 f 2.567e+03 |g| 1.188e+02 CG   6\n",
      "iter  4 act 1.318e-01 pre 1.310e-01 delta 1.081e+00 f 2.554e+03 |g| 1.170e+01 CG   6\n",
      "iter  5 act 6.175e-05 pre 6.174e-05 delta 1.081e+00 f 2.554e+03 |g| 2.544e-01 CG   4\n",
      "[LibLinear]"
     ]
    },
    {
     "name": "stderr",
     "output_type": "stream",
     "text": [
      "/opt/conda/lib/python3.9/site-packages/sklearn/svm/_base.py:985: ConvergenceWarning: Liblinear failed to converge, increase the number of iterations.\n",
      "  warnings.warn(\"Liblinear failed to converge, increase \"\n"
     ]
    },
    {
     "name": "stdout",
     "output_type": "stream",
     "text": [
      "iter  1 act 1.435e+03 pre 1.307e+03 delta 1.081e+00 f 4.159e+03 |g| 2.853e+03 CG   2\n",
      "iter  2 act 1.564e+02 pre 1.380e+02 delta 1.081e+00 f 2.724e+03 |g| 5.057e+02 CG   4\n",
      "iter  3 act 1.343e+01 pre 1.273e+01 delta 1.081e+00 f 2.567e+03 |g| 1.188e+02 CG   6\n",
      "iter  4 act 1.318e-01 pre 1.310e-01 delta 1.081e+00 f 2.554e+03 |g| 1.170e+01 CG   6\n",
      "iter  5 act 6.175e-05 pre 6.174e-05 delta 1.081e+00 f 2.554e+03 |g| 2.544e-01 CG   4\n",
      "[LibLinear]iter  1 act 1.435e+03 pre 1.307e+03 delta 1.081e+00 f 4.159e+03 |g| 2.853e+03 CG   2\n",
      "iter  2 act 1.564e+02 pre 1.380e+02 delta 1.081e+00 f 2.724e+03 |g| 5.057e+02 CG   4\n",
      "iter  3 act 1.343e+01 pre 1.273e+01 delta 1.081e+00 f 2.567e+03 |g| 1.188e+02 CG   6\n",
      "iter  4 act 1.318e-01 pre 1.310e-01 delta 1.081e+00 f 2.554e+03 |g| 1.170e+01 CG   6\n",
      "iter  5 act 6.175e-05 pre 6.174e-05 delta 1.081e+00 f 2.554e+03 |g| 2.544e-01 CG   4\n",
      "[LibLinear]iter  1 act 1.435e+03 pre 1.307e+03 delta 1.081e+00 f 4.159e+03 |g| 2.853e+03 CG   2\n",
      "iter  2 act 1.564e+02 pre 1.380e+02 delta 1.081e+00 f 2.724e+03 |g| 5.057e+02 CG   4\n",
      "iter  3 act 1.343e+01 pre 1.273e+01 delta 1.081e+00 f 2.567e+03 |g| 1.188e+02 CG   6\n",
      "iter  4 act 1.318e-01 pre 1.310e-01 delta 1.081e+00 f 2.554e+03 |g| 1.170e+01 CG   6\n",
      "iter  5 act 6.175e-05 pre 6.174e-05 delta 1.081e+00 f 2.554e+03 |g| 2.544e-01 CG   4\n",
      "[LibLinear]iter  1 act 1.435e+03 pre 1.307e+03 delta 1.081e+00 f 4.159e+03 |g| 2.853e+03 CG   2\n",
      "iter  2 act 1.564e+02 pre 1.380e+02 delta 1.081e+00 f 2.724e+03 |g| 5.057e+02 CG   4\n",
      "iter  3 act 1.343e+01 pre 1.273e+01 delta 1.081e+00 f 2.567e+03 |g| 1.188e+02 CG   6\n",
      "iter  4 act 1.318e-01 pre 1.310e-01 delta 1.081e+00 f 2.554e+03 |g| 1.170e+01 CG   6\n",
      "iter  5 act 6.175e-05 pre 6.174e-05 delta 1.081e+00 f 2.554e+03 |g| 2.544e-01 CG   4\n",
      "[LibLinear]iter  1 act 1.435e+03 pre 1.307e+03 delta 1.081e+00 f 4.159e+03 |g| 2.853e+03 CG   2\n",
      "[LibLinear]iter  1 act 1.435e+03 pre 1.307e+03 delta 1.081e+00 f 4.159e+03 |g| 2.853e+03 CG   2\n",
      "iter  2 act 1.564e+02 pre 1.380e+02 delta 1.081e+00 f 2.724e+03 |g| 5.057e+02 CG   4\n"
     ]
    },
    {
     "name": "stderr",
     "output_type": "stream",
     "text": [
      "/opt/conda/lib/python3.9/site-packages/sklearn/svm/_base.py:985: ConvergenceWarning: Liblinear failed to converge, increase the number of iterations.\n",
      "  warnings.warn(\"Liblinear failed to converge, increase \"\n",
      "/opt/conda/lib/python3.9/site-packages/sklearn/svm/_base.py:985: ConvergenceWarning: Liblinear failed to converge, increase the number of iterations.\n",
      "  warnings.warn(\"Liblinear failed to converge, increase \"\n"
     ]
    },
    {
     "name": "stdout",
     "output_type": "stream",
     "text": [
      "[LibLinear]iter  1 act 1.435e+03 pre 1.307e+03 delta 1.081e+00 f 4.159e+03 |g| 2.853e+03 CG   2\n",
      "iter  2 act 1.564e+02 pre 1.380e+02 delta 1.081e+00 f 2.724e+03 |g| 5.057e+02 CG   4\n",
      "iter  3 act 1.343e+01 pre 1.273e+01 delta 1.081e+00 f 2.567e+03 |g| 1.188e+02 CG   6\n",
      "[LibLinear]iter  1 act 1.435e+03 pre 1.307e+03 delta 1.081e+00 f 4.159e+03 |g| 2.853e+03 CG   2\n",
      "iter  2 act 1.564e+02 pre 1.380e+02 delta 1.081e+00 f 2.724e+03 |g| 5.057e+02 CG   4\n",
      "iter  3 act 1.343e+01 pre 1.273e+01 delta 1.081e+00 f 2.567e+03 |g| 1.188e+02 CG   6\n",
      "iter  4 act 1.318e-01 pre 1.310e-01 delta 1.081e+00 f 2.554e+03 |g| 1.170e+01 CG   6\n"
     ]
    },
    {
     "name": "stderr",
     "output_type": "stream",
     "text": [
      "/opt/conda/lib/python3.9/site-packages/sklearn/svm/_base.py:985: ConvergenceWarning: Liblinear failed to converge, increase the number of iterations.\n",
      "  warnings.warn(\"Liblinear failed to converge, increase \"\n",
      "/opt/conda/lib/python3.9/site-packages/sklearn/svm/_base.py:985: ConvergenceWarning: Liblinear failed to converge, increase the number of iterations.\n",
      "  warnings.warn(\"Liblinear failed to converge, increase \"\n"
     ]
    },
    {
     "name": "stdout",
     "output_type": "stream",
     "text": [
      "[LibLinear]iter  1 act 1.435e+03 pre 1.307e+03 delta 1.081e+00 f 4.159e+03 |g| 2.853e+03 CG   2\n",
      "iter  2 act 1.564e+02 pre 1.380e+02 delta 1.081e+00 f 2.724e+03 |g| 5.057e+02 CG   4\n",
      "iter  3 act 1.343e+01 pre 1.273e+01 delta 1.081e+00 f 2.567e+03 |g| 1.188e+02 CG   6\n",
      "iter  4 act 1.318e-01 pre 1.310e-01 delta 1.081e+00 f 2.554e+03 |g| 1.170e+01 CG   6\n",
      "iter  5 act 6.175e-05 pre 6.174e-05 delta 1.081e+00 f 2.554e+03 |g| 2.544e-01 CG   4\n"
     ]
    },
    {
     "name": "stderr",
     "output_type": "stream",
     "text": [
      "/opt/conda/lib/python3.9/site-packages/sklearn/svm/_base.py:985: ConvergenceWarning: Liblinear failed to converge, increase the number of iterations.\n",
      "  warnings.warn(\"Liblinear failed to converge, increase \"\n"
     ]
    },
    {
     "name": "stdout",
     "output_type": "stream",
     "text": [
      "[LibLinear]iter  1 act 1.435e+03 pre 1.307e+03 delta 1.081e+00 f 4.159e+03 |g| 2.853e+03 CG   2\n",
      "iter  2 act 1.564e+02 pre 1.380e+02 delta 1.081e+00 f 2.724e+03 |g| 5.057e+02 CG   4\n",
      "iter  3 act 1.343e+01 pre 1.273e+01 delta 1.081e+00 f 2.567e+03 |g| 1.188e+02 CG   6\n",
      "iter  4 act 1.318e-01 pre 1.310e-01 delta 1.081e+00 f 2.554e+03 |g| 1.170e+01 CG   6\n",
      "iter  5 act 6.175e-05 pre 6.174e-05 delta 1.081e+00 f 2.554e+03 |g| 2.544e-01 CG   4\n",
      "[LibLinear]iter  1 act 1.435e+03 pre 1.307e+03 delta 1.081e+00 f 4.159e+03 |g| 2.853e+03 CG   2\n",
      "iter  2 act 1.564e+02 pre 1.380e+02 delta 1.081e+00 f 2.724e+03 |g| 5.057e+02 CG   4\n",
      "iter  3 act 1.343e+01 pre 1.273e+01 delta 1.081e+00 f 2.567e+03 |g| 1.188e+02 CG   6\n",
      "iter  4 act 1.318e-01 pre 1.310e-01 delta 1.081e+00 f 2.554e+03 |g| 1.170e+01 CG   6\n",
      "iter  5 act 6.175e-05 pre 6.174e-05 delta 1.081e+00 f 2.554e+03 |g| 2.544e-01 CG   4\n",
      "[LibLinear]iter  1 act 1.435e+03 pre 1.307e+03 delta 1.081e+00 f 4.159e+03 |g| 2.853e+03 CG   2\n",
      "iter  2 act 1.564e+02 pre 1.380e+02 delta 1.081e+00 f 2.724e+03 |g| 5.057e+02 CG   4\n",
      "iter  3 act 1.343e+01 pre 1.273e+01 delta 1.081e+00 f 2.567e+03 |g| 1.188e+02 CG   6\n",
      "iter  4 act 1.318e-01 pre 1.310e-01 delta 1.081e+00 f 2.554e+03 |g| 1.170e+01 CG   6\n",
      "iter  5 act 6.175e-05 pre 6.174e-05 delta 1.081e+00 f 2.554e+03 |g| 2.544e-01 CG   4\n",
      "[LibLinear]iter  1 act 1.435e+03 pre 1.307e+03 delta 1.081e+00 f 4.159e+03 |g| 2.853e+03 CG   2\n",
      "iter  2 act 1.564e+02 pre 1.380e+02 delta 1.081e+00 f 2.724e+03 |g| 5.057e+02 CG   4\n",
      "iter  3 act 1.343e+01 pre 1.273e+01 delta 1.081e+00 f 2.567e+03 |g| 1.188e+02 CG   6\n",
      "iter  4 act 1.318e-01 pre 1.310e-01 delta 1.081e+00 f 2.554e+03 |g| 1.170e+01 CG   6\n",
      "iter  5 act 6.175e-05 pre 6.174e-05 delta 1.081e+00 f 2.554e+03 |g| 2.544e-01 CG   4\n",
      "[LibLinear]iter  1 act 1.435e+03 pre 1.307e+03 delta 1.081e+00 f 4.159e+03 |g| 2.853e+03 CG   2\n",
      "[LibLinear]iter  1 act 1.435e+03 pre 1.307e+03 delta 1.081e+00 f 4.159e+03 |g| 2.853e+03 CG   2\n",
      "iter  2 act 1.564e+02 pre 1.380e+02 delta 1.081e+00 f 2.724e+03 |g| 5.057e+02 CG   4\n"
     ]
    },
    {
     "name": "stderr",
     "output_type": "stream",
     "text": [
      "/opt/conda/lib/python3.9/site-packages/sklearn/svm/_base.py:985: ConvergenceWarning: Liblinear failed to converge, increase the number of iterations.\n",
      "  warnings.warn(\"Liblinear failed to converge, increase \"\n",
      "/opt/conda/lib/python3.9/site-packages/sklearn/svm/_base.py:985: ConvergenceWarning: Liblinear failed to converge, increase the number of iterations.\n",
      "  warnings.warn(\"Liblinear failed to converge, increase \"\n"
     ]
    },
    {
     "name": "stdout",
     "output_type": "stream",
     "text": [
      "[LibLinear]iter  1 act 1.435e+03 pre 1.307e+03 delta 1.081e+00 f 4.159e+03 |g| 2.853e+03 CG   2\n",
      "iter  2 act 1.564e+02 pre 1.380e+02 delta 1.081e+00 f 2.724e+03 |g| 5.057e+02 CG   4\n",
      "iter  3 act 1.343e+01 pre 1.273e+01 delta 1.081e+00 f 2.567e+03 |g| 1.188e+02 CG   6\n",
      "[LibLinear]iter  1 act 1.435e+03 pre 1.307e+03 delta 1.081e+00 f 4.159e+03 |g| 2.853e+03 CG   2\n",
      "iter  2 act 1.564e+02 pre 1.380e+02 delta 1.081e+00 f 2.724e+03 |g| 5.057e+02 CG   4\n",
      "iter  3 act 1.343e+01 pre 1.273e+01 delta 1.081e+00 f 2.567e+03 |g| 1.188e+02 CG   6\n",
      "iter  4 act 1.318e-01 pre 1.310e-01 delta 1.081e+00 f 2.554e+03 |g| 1.170e+01 CG   6\n"
     ]
    },
    {
     "name": "stderr",
     "output_type": "stream",
     "text": [
      "/opt/conda/lib/python3.9/site-packages/sklearn/svm/_base.py:985: ConvergenceWarning: Liblinear failed to converge, increase the number of iterations.\n",
      "  warnings.warn(\"Liblinear failed to converge, increase \"\n",
      "/opt/conda/lib/python3.9/site-packages/sklearn/svm/_base.py:985: ConvergenceWarning: Liblinear failed to converge, increase the number of iterations.\n",
      "  warnings.warn(\"Liblinear failed to converge, increase \"\n"
     ]
    },
    {
     "name": "stdout",
     "output_type": "stream",
     "text": [
      "[LibLinear]iter  1 act 1.435e+03 pre 1.307e+03 delta 1.081e+00 f 4.159e+03 |g| 2.853e+03 CG   2\n",
      "iter  2 act 1.564e+02 pre 1.380e+02 delta 1.081e+00 f 2.724e+03 |g| 5.057e+02 CG   4\n",
      "iter  3 act 1.343e+01 pre 1.273e+01 delta 1.081e+00 f 2.567e+03 |g| 1.188e+02 CG   6\n",
      "iter  4 act 1.318e-01 pre 1.310e-01 delta 1.081e+00 f 2.554e+03 |g| 1.170e+01 CG   6\n",
      "iter  5 act 6.175e-05 pre 6.174e-05 delta 1.081e+00 f 2.554e+03 |g| 2.544e-01 CG   4\n",
      "[LibLinear]iter  1 act 1.435e+03 pre 1.307e+03 delta 1.081e+00 f 4.159e+03 |g| 2.853e+03 CG   2\n",
      "iter  2 act 1.564e+02 pre 1.380e+02 delta 1.081e+00 f 2.724e+03 |g| 5.057e+02 CG   4\n",
      "iter  3 act 1.343e+01 pre 1.273e+01 delta 1.081e+00 f 2.567e+03 |g| 1.188e+02 CG   6\n",
      "iter  4 act 1.318e-01 pre 1.310e-01 delta 1.081e+00 f 2.554e+03 |g| 1.170e+01 CG   6\n",
      "iter  5 act 6.175e-05 pre 6.174e-05 delta 1.081e+00 f 2.554e+03 |g| 2.544e-01 CG   4\n"
     ]
    },
    {
     "name": "stderr",
     "output_type": "stream",
     "text": [
      "/opt/conda/lib/python3.9/site-packages/sklearn/svm/_base.py:985: ConvergenceWarning: Liblinear failed to converge, increase the number of iterations.\n",
      "  warnings.warn(\"Liblinear failed to converge, increase \"\n"
     ]
    },
    {
     "name": "stdout",
     "output_type": "stream",
     "text": [
      "[LibLinear]iter  1 act 1.435e+03 pre 1.307e+03 delta 1.081e+00 f 4.159e+03 |g| 2.853e+03 CG   2\n",
      "iter  2 act 1.564e+02 pre 1.380e+02 delta 1.081e+00 f 2.724e+03 |g| 5.057e+02 CG   4\n",
      "iter  3 act 1.343e+01 pre 1.273e+01 delta 1.081e+00 f 2.567e+03 |g| 1.188e+02 CG   6\n",
      "iter  4 act 1.318e-01 pre 1.310e-01 delta 1.081e+00 f 2.554e+03 |g| 1.170e+01 CG   6\n",
      "iter  5 act 6.175e-05 pre 6.174e-05 delta 1.081e+00 f 2.554e+03 |g| 2.544e-01 CG   4\n",
      "[LibLinear]iter  1 act 1.435e+03 pre 1.307e+03 delta 1.081e+00 f 4.159e+03 |g| 2.853e+03 CG   2\n",
      "iter  2 act 1.564e+02 pre 1.380e+02 delta 1.081e+00 f 2.724e+03 |g| 5.057e+02 CG   4\n",
      "iter  3 act 1.343e+01 pre 1.273e+01 delta 1.081e+00 f 2.567e+03 |g| 1.188e+02 CG   6\n",
      "iter  4 act 1.318e-01 pre 1.310e-01 delta 1.081e+00 f 2.554e+03 |g| 1.170e+01 CG   6\n",
      "iter  5 act 6.175e-05 pre 6.174e-05 delta 1.081e+00 f 2.554e+03 |g| 2.544e-01 CG   4\n",
      "[LibLinear]iter  1 act 1.435e+03 pre 1.307e+03 delta 1.081e+00 f 4.159e+03 |g| 2.853e+03 CG   2\n",
      "iter  2 act 1.564e+02 pre 1.380e+02 delta 1.081e+00 f 2.724e+03 |g| 5.057e+02 CG   4\n",
      "iter  3 act 1.343e+01 pre 1.273e+01 delta 1.081e+00 f 2.567e+03 |g| 1.188e+02 CG   6\n",
      "iter  4 act 1.318e-01 pre 1.310e-01 delta 1.081e+00 f 2.554e+03 |g| 1.170e+01 CG   6\n",
      "iter  5 act 6.175e-05 pre 6.174e-05 delta 1.081e+00 f 2.554e+03 |g| 2.544e-01 CG   4\n",
      "[LibLinear]iter  1 act 1.435e+03 pre 1.307e+03 delta 1.081e+00 f 4.159e+03 |g| 2.853e+03 CG   2\n",
      "[LibLinear]iter  1 act 1.435e+03 pre 1.307e+03 delta 1.081e+00 f 4.159e+03 |g| 2.853e+03 CG   2\n",
      "iter  2 act 1.564e+02 pre 1.380e+02 delta 1.081e+00 f 2.724e+03 |g| 5.057e+02 CG   4\n",
      "[LibLinear]"
     ]
    },
    {
     "name": "stderr",
     "output_type": "stream",
     "text": [
      "/opt/conda/lib/python3.9/site-packages/sklearn/svm/_base.py:985: ConvergenceWarning: Liblinear failed to converge, increase the number of iterations.\n",
      "  warnings.warn(\"Liblinear failed to converge, increase \"\n",
      "/opt/conda/lib/python3.9/site-packages/sklearn/svm/_base.py:985: ConvergenceWarning: Liblinear failed to converge, increase the number of iterations.\n",
      "  warnings.warn(\"Liblinear failed to converge, increase \"\n"
     ]
    },
    {
     "name": "stdout",
     "output_type": "stream",
     "text": [
      "iter  1 act 1.435e+03 pre 1.307e+03 delta 1.081e+00 f 4.159e+03 |g| 2.853e+03 CG   2\n",
      "iter  2 act 1.564e+02 pre 1.380e+02 delta 1.081e+00 f 2.724e+03 |g| 5.057e+02 CG   4\n",
      "iter  3 act 1.343e+01 pre 1.273e+01 delta 1.081e+00 f 2.567e+03 |g| 1.188e+02 CG   6\n",
      "[LibLinear]iter  1 act 1.435e+03 pre 1.307e+03 delta 1.081e+00 f 4.159e+03 |g| 2.853e+03 CG   2\n",
      "iter  2 act 1.564e+02 pre 1.380e+02 delta 1.081e+00 f 2.724e+03 |g| 5.057e+02 CG   4\n",
      "iter  3 act 1.343e+01 pre 1.273e+01 delta 1.081e+00 f 2.567e+03 |g| 1.188e+02 CG   6\n",
      "iter  4 act 1.318e-01 pre 1.310e-01 delta 1.081e+00 f 2.554e+03 |g| 1.170e+01 CG   6\n"
     ]
    },
    {
     "name": "stderr",
     "output_type": "stream",
     "text": [
      "/opt/conda/lib/python3.9/site-packages/sklearn/svm/_base.py:985: ConvergenceWarning: Liblinear failed to converge, increase the number of iterations.\n",
      "  warnings.warn(\"Liblinear failed to converge, increase \"\n",
      "/opt/conda/lib/python3.9/site-packages/sklearn/svm/_base.py:985: ConvergenceWarning: Liblinear failed to converge, increase the number of iterations.\n",
      "  warnings.warn(\"Liblinear failed to converge, increase \"\n"
     ]
    },
    {
     "name": "stdout",
     "output_type": "stream",
     "text": [
      "[LibLinear]iter  1 act 1.435e+03 pre 1.307e+03 delta 1.081e+00 f 4.159e+03 |g| 2.853e+03 CG   2\n",
      "iter  2 act 1.564e+02 pre 1.380e+02 delta 1.081e+00 f 2.724e+03 |g| 5.057e+02 CG   4\n",
      "iter  3 act 1.343e+01 pre 1.273e+01 delta 1.081e+00 f 2.567e+03 |g| 1.188e+02 CG   6\n",
      "iter  4 act 1.318e-01 pre 1.310e-01 delta 1.081e+00 f 2.554e+03 |g| 1.170e+01 CG   6\n",
      "iter  5 act 6.175e-05 pre 6.174e-05 delta 1.081e+00 f 2.554e+03 |g| 2.544e-01 CG   4\n",
      "[LibLinear]iter  1 act 1.435e+03 pre 1.307e+03 delta 1.081e+00 f 4.159e+03 |g| 2.853e+03 CG   2\n",
      "iter  2 act 1.564e+02 pre 1.380e+02 delta 1.081e+00 f 2.724e+03 |g| 5.057e+02 CG   4\n",
      "iter  3 act 1.343e+01 pre 1.273e+01 delta 1.081e+00 f 2.567e+03 |g| 1.188e+02 CG   6\n",
      "iter  4 act 1.318e-01 pre 1.310e-01 delta 1.081e+00 f 2.554e+03 |g| 1.170e+01 CG   6\n"
     ]
    },
    {
     "name": "stderr",
     "output_type": "stream",
     "text": [
      "/opt/conda/lib/python3.9/site-packages/sklearn/svm/_base.py:985: ConvergenceWarning: Liblinear failed to converge, increase the number of iterations.\n",
      "  warnings.warn(\"Liblinear failed to converge, increase \"\n"
     ]
    },
    {
     "name": "stdout",
     "output_type": "stream",
     "text": [
      "iter  5 act 6.175e-05 pre 6.174e-05 delta 1.081e+00 f 2.554e+03 |g| 2.544e-01 CG   4\n",
      "[LibLinear]iter  1 act 1.435e+03 pre 1.307e+03 delta 1.081e+00 f 4.159e+03 |g| 2.853e+03 CG   2\n",
      "iter  2 act 1.564e+02 pre 1.380e+02 delta 1.081e+00 f 2.724e+03 |g| 5.057e+02 CG   4\n",
      "iter  3 act 1.343e+01 pre 1.273e+01 delta 1.081e+00 f 2.567e+03 |g| 1.188e+02 CG   6\n",
      "iter  4 act 1.318e-01 pre 1.310e-01 delta 1.081e+00 f 2.554e+03 |g| 1.170e+01 CG   6\n",
      "iter  5 act 6.175e-05 pre 6.174e-05 delta 1.081e+00 f 2.554e+03 |g| 2.544e-01 CG   4\n",
      "[LibLinear]iter  1 act 1.435e+03 pre 1.307e+03 delta 1.081e+00 f 4.159e+03 |g| 2.853e+03 CG   2\n",
      "iter  2 act 1.564e+02 pre 1.380e+02 delta 1.081e+00 f 2.724e+03 |g| 5.057e+02 CG   4\n",
      "iter  3 act 1.343e+01 pre 1.273e+01 delta 1.081e+00 f 2.567e+03 |g| 1.188e+02 CG   6\n",
      "iter  4 act 1.318e-01 pre 1.310e-01 delta 1.081e+00 f 2.554e+03 |g| 1.170e+01 CG   6\n",
      "iter  5 act 6.175e-05 pre 6.174e-05 delta 1.081e+00 f 2.554e+03 |g| 2.544e-01 CG   4\n",
      "[LibLinear]iter  1 act 1.435e+03 pre 1.307e+03 delta 1.081e+00 f 4.159e+03 |g| 2.853e+03 CG   2\n",
      "iter  2 act 1.564e+02 pre 1.380e+02 delta 1.081e+00 f 2.724e+03 |g| 5.057e+02 CG   4\n",
      "iter  3 act 1.343e+01 pre 1.273e+01 delta 1.081e+00 f 2.567e+03 |g| 1.188e+02 CG   6\n",
      "iter  4 act 1.318e-01 pre 1.310e-01 delta 1.081e+00 f 2.554e+03 |g| 1.170e+01 CG   6\n",
      "iter  5 act 6.175e-05 pre 6.174e-05 delta 1.081e+00 f 2.554e+03 |g| 2.544e-01 CG   4\n",
      "[LibLinear]iter  1 act 1.435e+03 pre 1.307e+03 delta 1.081e+00 f 4.159e+03 |g| 2.853e+03 CG   2\n"
     ]
    },
    {
     "name": "stderr",
     "output_type": "stream",
     "text": [
      "/opt/conda/lib/python3.9/site-packages/sklearn/svm/_base.py:985: ConvergenceWarning: Liblinear failed to converge, increase the number of iterations.\n",
      "  warnings.warn(\"Liblinear failed to converge, increase \"\n",
      "/opt/conda/lib/python3.9/site-packages/sklearn/svm/_base.py:985: ConvergenceWarning: Liblinear failed to converge, increase the number of iterations.\n",
      "  warnings.warn(\"Liblinear failed to converge, increase \"\n"
     ]
    },
    {
     "name": "stdout",
     "output_type": "stream",
     "text": [
      "[LibLinear]iter  1 act 1.435e+03 pre 1.307e+03 delta 1.081e+00 f 4.159e+03 |g| 2.853e+03 CG   2\n",
      "iter  2 act 1.564e+02 pre 1.380e+02 delta 1.081e+00 f 2.724e+03 |g| 5.057e+02 CG   4\n",
      "[LibLinear]"
     ]
    },
    {
     "name": "stderr",
     "output_type": "stream",
     "text": [
      "/opt/conda/lib/python3.9/site-packages/sklearn/svm/_base.py:985: ConvergenceWarning: Liblinear failed to converge, increase the number of iterations.\n",
      "  warnings.warn(\"Liblinear failed to converge, increase \"\n",
      "/opt/conda/lib/python3.9/site-packages/sklearn/svm/_base.py:985: ConvergenceWarning: Liblinear failed to converge, increase the number of iterations.\n",
      "  warnings.warn(\"Liblinear failed to converge, increase \"\n"
     ]
    },
    {
     "name": "stdout",
     "output_type": "stream",
     "text": [
      "iter  1 act 1.435e+03 pre 1.307e+03 delta 1.081e+00 f 4.159e+03 |g| 2.853e+03 CG   2\n",
      "iter  2 act 1.564e+02 pre 1.380e+02 delta 1.081e+00 f 2.724e+03 |g| 5.057e+02 CG   4\n",
      "iter  3 act 1.343e+01 pre 1.273e+01 delta 1.081e+00 f 2.567e+03 |g| 1.188e+02 CG   6\n",
      "[LibLinear]iter  1 act 1.435e+03 pre 1.307e+03 delta 1.081e+00 f 4.159e+03 |g| 2.853e+03 CG   2\n",
      "iter  2 act 1.564e+02 pre 1.380e+02 delta 1.081e+00 f 2.724e+03 |g| 5.057e+02 CG   4\n",
      "iter  3 act 1.343e+01 pre 1.273e+01 delta 1.081e+00 f 2.567e+03 |g| 1.188e+02 CG   6\n",
      "iter  4 act 1.318e-01 pre 1.310e-01 delta 1.081e+00 f 2.554e+03 |g| 1.170e+01 CG   6\n",
      "[LibLinear]iter  1 act 1.435e+03 pre 1.307e+03 delta 1.081e+00 f 4.159e+03 |g| 2.853e+03 CG   2\n",
      "iter  2 act 1.564e+02 pre 1.380e+02 delta 1.081e+00 f 2.724e+03 |g| 5.057e+02 CG   4\n",
      "iter  3 act 1.343e+01 pre 1.273e+01 delta 1.081e+00 f 2.567e+03 |g| 1.188e+02 CG   6\n",
      "iter  4 act 1.318e-01 pre 1.310e-01 delta 1.081e+00 f 2.554e+03 |g| 1.170e+01 CG   6\n",
      "iter  5 act 6.175e-05 pre 6.174e-05 delta 1.081e+00 f 2.554e+03 |g| 2.544e-01 CG   4\n",
      "[LibLinear]iter  1 act 1.435e+03 pre 1.307e+03 delta 1.081e+00 f 4.159e+03 |g| 2.853e+03 CG   2\n",
      "iter  2 act 1.564e+02 pre 1.380e+02 delta 1.081e+00 f 2.724e+03 |g| 5.057e+02 CG   4\n",
      "iter  3 act 1.343e+01 pre 1.273e+01 delta 1.081e+00 f 2.567e+03 |g| 1.188e+02 CG   6\n"
     ]
    },
    {
     "name": "stderr",
     "output_type": "stream",
     "text": [
      "/opt/conda/lib/python3.9/site-packages/sklearn/svm/_base.py:985: ConvergenceWarning: Liblinear failed to converge, increase the number of iterations.\n",
      "  warnings.warn(\"Liblinear failed to converge, increase \"\n"
     ]
    },
    {
     "name": "stdout",
     "output_type": "stream",
     "text": [
      "iter  4 act 1.318e-01 pre 1.310e-01 delta 1.081e+00 f 2.554e+03 |g| 1.170e+01 CG   6\n",
      "iter  5 act 6.175e-05 pre 6.174e-05 delta 1.081e+00 f 2.554e+03 |g| 2.544e-01 CG   4\n",
      "[LibLinear]iter  1 act 1.435e+03 pre 1.307e+03 delta 1.081e+00 f 4.159e+03 |g| 2.853e+03 CG   2\n",
      "iter  2 act 1.564e+02 pre 1.380e+02 delta 1.081e+00 f 2.724e+03 |g| 5.057e+02 CG   4\n",
      "iter  3 act 1.343e+01 pre 1.273e+01 delta 1.081e+00 f 2.567e+03 |g| 1.188e+02 CG   6\n",
      "iter  4 act 1.318e-01 pre 1.310e-01 delta 1.081e+00 f 2.554e+03 |g| 1.170e+01 CG   6\n",
      "iter  5 act 6.175e-05 pre 6.174e-05 delta 1.081e+00 f 2.554e+03 |g| 2.544e-01 CG   4\n",
      "[LibLinear]iter  1 act 1.435e+03 pre 1.307e+03 delta 1.081e+00 f 4.159e+03 |g| 2.853e+03 CG   2\n",
      "iter  2 act 1.564e+02 pre 1.380e+02 delta 1.081e+00 f 2.724e+03 |g| 5.057e+02 CG   4\n",
      "iter  3 act 1.343e+01 pre 1.273e+01 delta 1.081e+00 f 2.567e+03 |g| 1.188e+02 CG   6\n",
      "iter  4 act 1.318e-01 pre 1.310e-01 delta 1.081e+00 f 2.554e+03 |g| 1.170e+01 CG   6\n",
      "iter  5 act 6.175e-05 pre 6.174e-05 delta 1.081e+00 f 2.554e+03 |g| 2.544e-01 CG   4\n",
      "[LibLinear]iter  1 act 1.435e+03 pre 1.307e+03 delta 1.081e+00 f 4.159e+03 |g| 2.853e+03 CG   2\n",
      "iter  2 act 1.564e+02 pre 1.380e+02 delta 1.081e+00 f 2.724e+03 |g| 5.057e+02 CG   4\n",
      "iter  3 act 1.343e+01 pre 1.273e+01 delta 1.081e+00 f 2.567e+03 |g| 1.188e+02 CG   6\n",
      "iter  4 act 1.318e-01 pre 1.310e-01 delta 1.081e+00 f 2.554e+03 |g| 1.170e+01 CG   6\n",
      "iter  5 act 6.175e-05 pre 6.174e-05 delta 1.081e+00 f 2.554e+03 |g| 2.544e-01 CG   4\n",
      "[LibLinear]"
     ]
    },
    {
     "name": "stderr",
     "output_type": "stream",
     "text": [
      "/opt/conda/lib/python3.9/site-packages/sklearn/svm/_base.py:985: ConvergenceWarning: Liblinear failed to converge, increase the number of iterations.\n",
      "  warnings.warn(\"Liblinear failed to converge, increase \"\n",
      "/opt/conda/lib/python3.9/site-packages/sklearn/svm/_base.py:985: ConvergenceWarning: Liblinear failed to converge, increase the number of iterations.\n",
      "  warnings.warn(\"Liblinear failed to converge, increase \"\n"
     ]
    },
    {
     "name": "stdout",
     "output_type": "stream",
     "text": [
      "iter  1 act 1.435e+03 pre 1.307e+03 delta 1.081e+00 f 4.159e+03 |g| 2.853e+03 CG   2\n",
      "[LibLinear]iter  1 act 1.435e+03 pre 1.307e+03 delta 1.081e+00 f 4.159e+03 |g| 2.853e+03 CG   2\n",
      "iter  2 act 1.564e+02 pre 1.380e+02 delta 1.081e+00 f 2.724e+03 |g| 5.057e+02 CG   4\n",
      "[LibLinear]iter  1 act 1.435e+03 pre 1.307e+03 delta 1.081e+00 f 4.159e+03 |g| 2.853e+03 CG   2\n",
      "iter  2 act 1.564e+02 pre 1.380e+02 delta 1.081e+00 f 2.724e+03 |g| 5.057e+02 CG   4\n",
      "iter  3 act 1.343e+01 pre 1.273e+01 delta 1.081e+00 f 2.567e+03 |g| 1.188e+02 CG   6\n",
      "[LibLinear]iter  1 act 1.435e+03 pre 1.307e+03 delta 1.081e+00 f 4.159e+03 |g| 2.853e+03 CG   2\n",
      "iter  2 act 1.564e+02 pre 1.380e+02 delta 1.081e+00 f 2.724e+03 |g| 5.057e+02 CG   4\n",
      "iter  3 act 1.343e+01 pre 1.273e+01 delta 1.081e+00 f 2.567e+03 |g| 1.188e+02 CG   6\n",
      "iter  4 act 1.318e-01 pre 1.310e-01 delta 1.081e+00 f 2.554e+03 |g| 1.170e+01 CG   6\n"
     ]
    },
    {
     "name": "stderr",
     "output_type": "stream",
     "text": [
      "/opt/conda/lib/python3.9/site-packages/sklearn/svm/_base.py:985: ConvergenceWarning: Liblinear failed to converge, increase the number of iterations.\n",
      "  warnings.warn(\"Liblinear failed to converge, increase \"\n",
      "/opt/conda/lib/python3.9/site-packages/sklearn/svm/_base.py:985: ConvergenceWarning: Liblinear failed to converge, increase the number of iterations.\n",
      "  warnings.warn(\"Liblinear failed to converge, increase \"\n"
     ]
    },
    {
     "name": "stdout",
     "output_type": "stream",
     "text": [
      "[LibLinear]iter  1 act 1.435e+03 pre 1.307e+03 delta 1.081e+00 f 4.159e+03 |g| 2.853e+03 CG   2\n",
      "iter  2 act 1.564e+02 pre 1.380e+02 delta 1.081e+00 f 2.724e+03 |g| 5.057e+02 CG   4\n",
      "iter  3 act 1.343e+01 pre 1.273e+01 delta 1.081e+00 f 2.567e+03 |g| 1.188e+02 CG   6\n",
      "iter  4 act 1.318e-01 pre 1.310e-01 delta 1.081e+00 f 2.554e+03 |g| 1.170e+01 CG   6\n",
      "iter  5 act 6.175e-05 pre 6.174e-05 delta 1.081e+00 f 2.554e+03 |g| 2.544e-01 CG   4\n",
      "[LibLinear]"
     ]
    },
    {
     "name": "stderr",
     "output_type": "stream",
     "text": [
      "/opt/conda/lib/python3.9/site-packages/sklearn/svm/_base.py:985: ConvergenceWarning: Liblinear failed to converge, increase the number of iterations.\n",
      "  warnings.warn(\"Liblinear failed to converge, increase \"\n"
     ]
    },
    {
     "name": "stdout",
     "output_type": "stream",
     "text": [
      "iter  1 act 1.435e+03 pre 1.307e+03 delta 1.081e+00 f 4.159e+03 |g| 2.853e+03 CG   2\n",
      "iter  2 act 1.564e+02 pre 1.380e+02 delta 1.081e+00 f 2.724e+03 |g| 5.057e+02 CG   4\n",
      "iter  3 act 1.343e+01 pre 1.273e+01 delta 1.081e+00 f 2.567e+03 |g| 1.188e+02 CG   6\n",
      "iter  4 act 1.318e-01 pre 1.310e-01 delta 1.081e+00 f 2.554e+03 |g| 1.170e+01 CG   6\n",
      "iter  5 act 6.175e-05 pre 6.174e-05 delta 1.081e+00 f 2.554e+03 |g| 2.544e-01 CG   4\n",
      "[LibLinear]iter  1 act 1.435e+03 pre 1.307e+03 delta 1.081e+00 f 4.159e+03 |g| 2.853e+03 CG   2\n",
      "iter  2 act 1.564e+02 pre 1.380e+02 delta 1.081e+00 f 2.724e+03 |g| 5.057e+02 CG   4\n",
      "iter  3 act 1.343e+01 pre 1.273e+01 delta 1.081e+00 f 2.567e+03 |g| 1.188e+02 CG   6\n",
      "iter  4 act 1.318e-01 pre 1.310e-01 delta 1.081e+00 f 2.554e+03 |g| 1.170e+01 CG   6\n",
      "iter  5 act 6.175e-05 pre 6.174e-05 delta 1.081e+00 f 2.554e+03 |g| 2.544e-01 CG   4\n",
      "[LibLinear]iter  1 act 1.435e+03 pre 1.307e+03 delta 1.081e+00 f 4.159e+03 |g| 2.853e+03 CG   2\n",
      "iter  2 act 1.564e+02 pre 1.380e+02 delta 1.081e+00 f 2.724e+03 |g| 5.057e+02 CG   4\n",
      "iter  3 act 1.343e+01 pre 1.273e+01 delta 1.081e+00 f 2.567e+03 |g| 1.188e+02 CG   6\n",
      "iter  4 act 1.318e-01 pre 1.310e-01 delta 1.081e+00 f 2.554e+03 |g| 1.170e+01 CG   6\n",
      "iter  5 act 6.175e-05 pre 6.174e-05 delta 1.081e+00 f 2.554e+03 |g| 2.544e-01 CG   4\n",
      "[LibLinear]iter  1 act 1.435e+03 pre 1.307e+03 delta 1.081e+00 f 4.159e+03 |g| 2.853e+03 CG   2\n",
      "iter  2 act 1.564e+02 pre 1.380e+02 delta 1.081e+00 f 2.724e+03 |g| 5.057e+02 CG   4\n",
      "iter  3 act 1.343e+01 pre 1.273e+01 delta 1.081e+00 f 2.567e+03 |g| 1.188e+02 CG   6\n",
      "iter  4 act 1.318e-01 pre 1.310e-01 delta 1.081e+00 f 2.554e+03 |g| 1.170e+01 CG   6\n",
      "iter  5 act 6.175e-05 pre 6.174e-05 delta 1.081e+00 f 2.554e+03 |g| 2.544e-01 CG   4\n",
      "[LibLinear]iter  1 act 1.435e+03 pre 1.307e+03 delta 1.081e+00 f 4.159e+03 |g| 2.853e+03 CG   2\n",
      "[LibLinear]iter  1 act 1.435e+03 pre 1.307e+03 delta 1.081e+00 f 4.159e+03 |g| 2.853e+03 CG   2\n",
      "iter  2 act 1.564e+02 pre 1.380e+02 delta 1.081e+00 f 2.724e+03 |g| 5.057e+02 CG   4\n"
     ]
    },
    {
     "name": "stderr",
     "output_type": "stream",
     "text": [
      "/opt/conda/lib/python3.9/site-packages/sklearn/svm/_base.py:985: ConvergenceWarning: Liblinear failed to converge, increase the number of iterations.\n",
      "  warnings.warn(\"Liblinear failed to converge, increase \"\n",
      "/opt/conda/lib/python3.9/site-packages/sklearn/svm/_base.py:985: ConvergenceWarning: Liblinear failed to converge, increase the number of iterations.\n",
      "  warnings.warn(\"Liblinear failed to converge, increase \"\n"
     ]
    },
    {
     "name": "stdout",
     "output_type": "stream",
     "text": [
      "[LibLinear]iter  1 act 1.435e+03 pre 1.307e+03 delta 1.081e+00 f 4.159e+03 |g| 2.853e+03 CG   2\n",
      "iter  2 act 1.564e+02 pre 1.380e+02 delta 1.081e+00 f 2.724e+03 |g| 5.057e+02 CG   4\n",
      "iter  3 act 1.343e+01 pre 1.273e+01 delta 1.081e+00 f 2.567e+03 |g| 1.188e+02 CG   6\n",
      "[LibLinear]iter  1 act 1.435e+03 pre 1.307e+03 delta 1.081e+00 f 4.159e+03 |g| 2.853e+03 CG   2\n",
      "iter  2 act 1.564e+02 pre 1.380e+02 delta 1.081e+00 f 2.724e+03 |g| 5.057e+02 CG   4\n",
      "iter  3 act 1.343e+01 pre 1.273e+01 delta 1.081e+00 f 2.567e+03 |g| 1.188e+02 CG   6\n",
      "iter  4 act 1.318e-01 pre 1.310e-01 delta 1.081e+00 f 2.554e+03 |g| 1.170e+01 CG   6\n"
     ]
    },
    {
     "name": "stderr",
     "output_type": "stream",
     "text": [
      "/opt/conda/lib/python3.9/site-packages/sklearn/svm/_base.py:985: ConvergenceWarning: Liblinear failed to converge, increase the number of iterations.\n",
      "  warnings.warn(\"Liblinear failed to converge, increase \"\n",
      "/opt/conda/lib/python3.9/site-packages/sklearn/svm/_base.py:985: ConvergenceWarning: Liblinear failed to converge, increase the number of iterations.\n",
      "  warnings.warn(\"Liblinear failed to converge, increase \"\n"
     ]
    },
    {
     "name": "stdout",
     "output_type": "stream",
     "text": [
      "[LibLinear]iter  1 act 1.435e+03 pre 1.307e+03 delta 1.081e+00 f 4.159e+03 |g| 2.853e+03 CG   2\n",
      "iter  2 act 1.564e+02 pre 1.380e+02 delta 1.081e+00 f 2.724e+03 |g| 5.057e+02 CG   4\n",
      "iter  3 act 1.343e+01 pre 1.273e+01 delta 1.081e+00 f 2.567e+03 |g| 1.188e+02 CG   6\n",
      "iter  4 act 1.318e-01 pre 1.310e-01 delta 1.081e+00 f 2.554e+03 |g| 1.170e+01 CG   6\n",
      "iter  5 act 6.175e-05 pre 6.174e-05 delta 1.081e+00 f 2.554e+03 |g| 2.544e-01 CG   4\n",
      "[LibLinear]iter  1 act 1.435e+03 pre 1.307e+03 delta 1.081e+00 f 4.159e+03 |g| 2.853e+03 CG   2\n"
     ]
    },
    {
     "name": "stderr",
     "output_type": "stream",
     "text": [
      "/opt/conda/lib/python3.9/site-packages/sklearn/svm/_base.py:985: ConvergenceWarning: Liblinear failed to converge, increase the number of iterations.\n",
      "  warnings.warn(\"Liblinear failed to converge, increase \"\n"
     ]
    },
    {
     "name": "stdout",
     "output_type": "stream",
     "text": [
      "iter  2 act 1.564e+02 pre 1.380e+02 delta 1.081e+00 f 2.724e+03 |g| 5.057e+02 CG   4\n",
      "iter  3 act 1.343e+01 pre 1.273e+01 delta 1.081e+00 f 2.567e+03 |g| 1.188e+02 CG   6\n",
      "iter  4 act 1.318e-01 pre 1.310e-01 delta 1.081e+00 f 2.554e+03 |g| 1.170e+01 CG   6\n",
      "iter  5 act 6.175e-05 pre 6.174e-05 delta 1.081e+00 f 2.554e+03 |g| 2.544e-01 CG   4\n",
      "[LibLinear]iter  1 act 1.435e+03 pre 1.307e+03 delta 1.081e+00 f 4.159e+03 |g| 2.853e+03 CG   2\n",
      "iter  2 act 1.564e+02 pre 1.380e+02 delta 1.081e+00 f 2.724e+03 |g| 5.057e+02 CG   4\n",
      "iter  3 act 1.343e+01 pre 1.273e+01 delta 1.081e+00 f 2.567e+03 |g| 1.188e+02 CG   6\n",
      "iter  4 act 1.318e-01 pre 1.310e-01 delta 1.081e+00 f 2.554e+03 |g| 1.170e+01 CG   6\n",
      "iter  5 act 6.175e-05 pre 6.174e-05 delta 1.081e+00 f 2.554e+03 |g| 2.544e-01 CG   4\n",
      "[LibLinear]iter  1 act 1.435e+03 pre 1.307e+03 delta 1.081e+00 f 4.159e+03 |g| 2.853e+03 CG   2\n",
      "iter  2 act 1.564e+02 pre 1.380e+02 delta 1.081e+00 f 2.724e+03 |g| 5.057e+02 CG   4\n",
      "iter  3 act 1.343e+01 pre 1.273e+01 delta 1.081e+00 f 2.567e+03 |g| 1.188e+02 CG   6\n",
      "iter  4 act 1.318e-01 pre 1.310e-01 delta 1.081e+00 f 2.554e+03 |g| 1.170e+01 CG   6\n",
      "iter  5 act 6.175e-05 pre 6.174e-05 delta 1.081e+00 f 2.554e+03 |g| 2.544e-01 CG   4\n",
      "[LibLinear]iter  1 act 1.435e+03 pre 1.307e+03 delta 1.081e+00 f 4.159e+03 |g| 2.853e+03 CG   2\n",
      "iter  2 act 1.564e+02 pre 1.380e+02 delta 1.081e+00 f 2.724e+03 |g| 5.057e+02 CG   4\n",
      "iter  3 act 1.343e+01 pre 1.273e+01 delta 1.081e+00 f 2.567e+03 |g| 1.188e+02 CG   6\n",
      "iter  4 act 1.318e-01 pre 1.310e-01 delta 1.081e+00 f 2.554e+03 |g| 1.170e+01 CG   6\n",
      "iter  5 act 6.175e-05 pre 6.174e-05 delta 1.081e+00 f 2.554e+03 |g| 2.544e-01 CG   4\n",
      "[LibLinear]iter  1 act 1.435e+03 pre 1.307e+03 delta 1.081e+00 f 4.159e+03 |g| 2.853e+03 CG   2\n",
      "[LibLinear]iter  1 act 1.435e+03 pre 1.307e+03 delta 1.081e+00 f 4.159e+03 |g| 2.853e+03 CG   2\n"
     ]
    },
    {
     "name": "stderr",
     "output_type": "stream",
     "text": [
      "/opt/conda/lib/python3.9/site-packages/sklearn/svm/_base.py:985: ConvergenceWarning: Liblinear failed to converge, increase the number of iterations.\n",
      "  warnings.warn(\"Liblinear failed to converge, increase \"\n",
      "/opt/conda/lib/python3.9/site-packages/sklearn/svm/_base.py:985: ConvergenceWarning: Liblinear failed to converge, increase the number of iterations.\n",
      "  warnings.warn(\"Liblinear failed to converge, increase \"\n"
     ]
    },
    {
     "name": "stdout",
     "output_type": "stream",
     "text": [
      "iter  2 act 1.564e+02 pre 1.380e+02 delta 1.081e+00 f 2.724e+03 |g| 5.057e+02 CG   4\n",
      "[LibLinear]iter  1 act 1.435e+03 pre 1.307e+03 delta 1.081e+00 f 4.159e+03 |g| 2.853e+03 CG   2\n",
      "iter  2 act 1.564e+02 pre 1.380e+02 delta 1.081e+00 f 2.724e+03 |g| 5.057e+02 CG   4\n",
      "iter  3 act 1.343e+01 pre 1.273e+01 delta 1.081e+00 f 2.567e+03 |g| 1.188e+02 CG   6\n",
      "[LibLinear]iter  1 act 1.435e+03 pre 1.307e+03 delta 1.081e+00 f 4.159e+03 |g| 2.853e+03 CG   2\n"
     ]
    },
    {
     "name": "stderr",
     "output_type": "stream",
     "text": [
      "/opt/conda/lib/python3.9/site-packages/sklearn/svm/_base.py:985: ConvergenceWarning: Liblinear failed to converge, increase the number of iterations.\n",
      "  warnings.warn(\"Liblinear failed to converge, increase \"\n",
      "/opt/conda/lib/python3.9/site-packages/sklearn/svm/_base.py:985: ConvergenceWarning: Liblinear failed to converge, increase the number of iterations.\n",
      "  warnings.warn(\"Liblinear failed to converge, increase \"\n"
     ]
    },
    {
     "name": "stdout",
     "output_type": "stream",
     "text": [
      "iter  2 act 1.564e+02 pre 1.380e+02 delta 1.081e+00 f 2.724e+03 |g| 5.057e+02 CG   4\n",
      "iter  3 act 1.343e+01 pre 1.273e+01 delta 1.081e+00 f 2.567e+03 |g| 1.188e+02 CG   6\n",
      "iter  4 act 1.318e-01 pre 1.310e-01 delta 1.081e+00 f 2.554e+03 |g| 1.170e+01 CG   6\n",
      "[LibLinear]iter  1 act 1.435e+03 pre 1.307e+03 delta 1.081e+00 f 4.159e+03 |g| 2.853e+03 CG   2\n",
      "iter  2 act 1.564e+02 pre 1.380e+02 delta 1.081e+00 f 2.724e+03 |g| 5.057e+02 CG   4\n",
      "iter  3 act 1.343e+01 pre 1.273e+01 delta 1.081e+00 f 2.567e+03 |g| 1.188e+02 CG   6\n",
      "iter  4 act 1.318e-01 pre 1.310e-01 delta 1.081e+00 f 2.554e+03 |g| 1.170e+01 CG   6\n",
      "iter  5 act 6.175e-05 pre 6.174e-05 delta 1.081e+00 f 2.554e+03 |g| 2.544e-01 CG   4\n",
      "[LibLinear]iter  1 act 1.435e+03 pre 1.307e+03 delta 1.081e+00 f 4.159e+03 |g| 2.853e+03 CG   2\n",
      "iter  2 act 1.564e+02 pre 1.380e+02 delta 1.081e+00 f 2.724e+03 |g| 5.057e+02 CG   4\n",
      "iter  3 act 1.343e+01 pre 1.273e+01 delta 1.081e+00 f 2.567e+03 |g| 1.188e+02 CG   6\n",
      "iter  4 act 1.318e-01 pre 1.310e-01 delta 1.081e+00 f 2.554e+03 |g| 1.170e+01 CG   6\n",
      "iter  5 act 6.175e-05 pre 6.174e-05 delta 1.081e+00 f 2.554e+03 |g| 2.544e-01 CG   4\n"
     ]
    },
    {
     "name": "stderr",
     "output_type": "stream",
     "text": [
      "/opt/conda/lib/python3.9/site-packages/sklearn/svm/_base.py:985: ConvergenceWarning: Liblinear failed to converge, increase the number of iterations.\n",
      "  warnings.warn(\"Liblinear failed to converge, increase \"\n"
     ]
    },
    {
     "name": "stdout",
     "output_type": "stream",
     "text": [
      "[LibLinear]iter  1 act 1.435e+03 pre 1.307e+03 delta 1.081e+00 f 4.159e+03 |g| 2.853e+03 CG   2\n",
      "iter  2 act 1.564e+02 pre 1.380e+02 delta 1.081e+00 f 2.724e+03 |g| 5.057e+02 CG   4\n",
      "iter  3 act 1.343e+01 pre 1.273e+01 delta 1.081e+00 f 2.567e+03 |g| 1.188e+02 CG   6\n",
      "iter  4 act 1.318e-01 pre 1.310e-01 delta 1.081e+00 f 2.554e+03 |g| 1.170e+01 CG   6\n",
      "iter  5 act 6.175e-05 pre 6.174e-05 delta 1.081e+00 f 2.554e+03 |g| 2.544e-01 CG   4\n",
      "[LibLinear]iter  1 act 1.435e+03 pre 1.307e+03 delta 1.081e+00 f 4.159e+03 |g| 2.853e+03 CG   2\n",
      "iter  2 act 1.564e+02 pre 1.380e+02 delta 1.081e+00 f 2.724e+03 |g| 5.057e+02 CG   4\n",
      "iter  3 act 1.343e+01 pre 1.273e+01 delta 1.081e+00 f 2.567e+03 |g| 1.188e+02 CG   6\n",
      "iter  4 act 1.318e-01 pre 1.310e-01 delta 1.081e+00 f 2.554e+03 |g| 1.170e+01 CG   6\n",
      "iter  5 act 6.175e-05 pre 6.174e-05 delta 1.081e+00 f 2.554e+03 |g| 2.544e-01 CG   4\n",
      "[LibLinear]iter  1 act 1.435e+03 pre 1.307e+03 delta 1.081e+00 f 4.159e+03 |g| 2.853e+03 CG   2\n",
      "iter  2 act 1.564e+02 pre 1.380e+02 delta 1.081e+00 f 2.724e+03 |g| 5.057e+02 CG   4\n",
      "iter  3 act 1.343e+01 pre 1.273e+01 delta 1.081e+00 f 2.567e+03 |g| 1.188e+02 CG   6\n",
      "iter  4 act 1.318e-01 pre 1.310e-01 delta 1.081e+00 f 2.554e+03 |g| 1.170e+01 CG   6\n",
      "iter  5 act 6.175e-05 pre 6.174e-05 delta 1.081e+00 f 2.554e+03 |g| 2.544e-01 CG   4\n",
      "[LibLinear]iter  1 act 1.435e+03 pre 1.307e+03 delta 1.081e+00 f 4.159e+03 |g| 2.853e+03 CG   2\n"
     ]
    },
    {
     "name": "stderr",
     "output_type": "stream",
     "text": [
      "/opt/conda/lib/python3.9/site-packages/sklearn/svm/_base.py:985: ConvergenceWarning: Liblinear failed to converge, increase the number of iterations.\n",
      "  warnings.warn(\"Liblinear failed to converge, increase \"\n",
      "/opt/conda/lib/python3.9/site-packages/sklearn/svm/_base.py:985: ConvergenceWarning: Liblinear failed to converge, increase the number of iterations.\n",
      "  warnings.warn(\"Liblinear failed to converge, increase \"\n"
     ]
    },
    {
     "name": "stdout",
     "output_type": "stream",
     "text": [
      "[LibLinear]iter  1 act 1.435e+03 pre 1.307e+03 delta 1.081e+00 f 4.159e+03 |g| 2.853e+03 CG   2\n",
      "iter  2 act 1.564e+02 pre 1.380e+02 delta 1.081e+00 f 2.724e+03 |g| 5.057e+02 CG   4\n",
      "[LibLinear]iter  1 act 1.435e+03 pre 1.307e+03 delta 1.081e+00 f 4.159e+03 |g| 2.853e+03 CG   2\n",
      "iter  2 act 1.564e+02 pre 1.380e+02 delta 1.081e+00 f 2.724e+03 |g| 5.057e+02 CG   4\n",
      "iter  3 act 1.343e+01 pre 1.273e+01 delta 1.081e+00 f 2.567e+03 |g| 1.188e+02 CG   6\n"
     ]
    },
    {
     "name": "stderr",
     "output_type": "stream",
     "text": [
      "/opt/conda/lib/python3.9/site-packages/sklearn/svm/_base.py:985: ConvergenceWarning: Liblinear failed to converge, increase the number of iterations.\n",
      "  warnings.warn(\"Liblinear failed to converge, increase \"\n",
      "/opt/conda/lib/python3.9/site-packages/sklearn/svm/_base.py:985: ConvergenceWarning: Liblinear failed to converge, increase the number of iterations.\n",
      "  warnings.warn(\"Liblinear failed to converge, increase \"\n"
     ]
    },
    {
     "name": "stdout",
     "output_type": "stream",
     "text": [
      "[LibLinear]iter  1 act 1.435e+03 pre 1.307e+03 delta 1.081e+00 f 4.159e+03 |g| 2.853e+03 CG   2\n",
      "iter  2 act 1.564e+02 pre 1.380e+02 delta 1.081e+00 f 2.724e+03 |g| 5.057e+02 CG   4\n",
      "iter  3 act 1.343e+01 pre 1.273e+01 delta 1.081e+00 f 2.567e+03 |g| 1.188e+02 CG   6\n",
      "iter  4 act 1.318e-01 pre 1.310e-01 delta 1.081e+00 f 2.554e+03 |g| 1.170e+01 CG   6\n",
      "[LibLinear]iter  1 act 1.435e+03 pre 1.307e+03 delta 1.081e+00 f 4.159e+03 |g| 2.853e+03 CG   2\n",
      "iter  2 act 1.564e+02 pre 1.380e+02 delta 1.081e+00 f 2.724e+03 |g| 5.057e+02 CG   4\n",
      "iter  3 act 1.343e+01 pre 1.273e+01 delta 1.081e+00 f 2.567e+03 |g| 1.188e+02 CG   6\n",
      "iter  4 act 1.318e-01 pre 1.310e-01 delta 1.081e+00 f 2.554e+03 |g| 1.170e+01 CG   6\n",
      "iter  5 act 6.175e-05 pre 6.174e-05 delta 1.081e+00 f 2.554e+03 |g| 2.544e-01 CG   4\n"
     ]
    },
    {
     "name": "stderr",
     "output_type": "stream",
     "text": [
      "/opt/conda/lib/python3.9/site-packages/sklearn/svm/_base.py:985: ConvergenceWarning: Liblinear failed to converge, increase the number of iterations.\n",
      "  warnings.warn(\"Liblinear failed to converge, increase \"\n"
     ]
    },
    {
     "name": "stdout",
     "output_type": "stream",
     "text": [
      "[LibLinear]iter  1 act 1.435e+03 pre 1.307e+03 delta 1.081e+00 f 4.159e+03 |g| 2.853e+03 CG   2\n",
      "iter  2 act 1.564e+02 pre 1.380e+02 delta 1.081e+00 f 2.724e+03 |g| 5.057e+02 CG   4\n",
      "iter  3 act 1.343e+01 pre 1.273e+01 delta 1.081e+00 f 2.567e+03 |g| 1.188e+02 CG   6\n",
      "iter  4 act 1.318e-01 pre 1.310e-01 delta 1.081e+00 f 2.554e+03 |g| 1.170e+01 CG   6\n",
      "iter  5 act 6.175e-05 pre 6.174e-05 delta 1.081e+00 f 2.554e+03 |g| 2.544e-01 CG   4\n",
      "[LibLinear]iter  1 act 1.435e+03 pre 1.307e+03 delta 1.081e+00 f 4.159e+03 |g| 2.853e+03 CG   2\n",
      "iter  2 act 1.564e+02 pre 1.380e+02 delta 1.081e+00 f 2.724e+03 |g| 5.057e+02 CG   4\n",
      "iter  3 act 1.343e+01 pre 1.273e+01 delta 1.081e+00 f 2.567e+03 |g| 1.188e+02 CG   6\n",
      "iter  4 act 1.318e-01 pre 1.310e-01 delta 1.081e+00 f 2.554e+03 |g| 1.170e+01 CG   6\n",
      "iter  5 act 6.175e-05 pre 6.174e-05 delta 1.081e+00 f 2.554e+03 |g| 2.544e-01 CG   4\n",
      "[LibLinear]iter  1 act 1.435e+03 pre 1.307e+03 delta 1.081e+00 f 4.159e+03 |g| 2.853e+03 CG   2\n",
      "iter  2 act 1.564e+02 pre 1.380e+02 delta 1.081e+00 f 2.724e+03 |g| 5.057e+02 CG   4\n",
      "iter  3 act 1.343e+01 pre 1.273e+01 delta 1.081e+00 f 2.567e+03 |g| 1.188e+02 CG   6\n",
      "iter  4 act 1.318e-01 pre 1.310e-01 delta 1.081e+00 f 2.554e+03 |g| 1.170e+01 CG   6\n",
      "iter  5 act 6.175e-05 pre 6.174e-05 delta 1.081e+00 f 2.554e+03 |g| 2.544e-01 CG   4\n",
      "[LibLinear]iter  1 act 1.435e+03 pre 1.307e+03 delta 1.081e+00 f 4.159e+03 |g| 2.853e+03 CG   2\n",
      "iter  2 act 1.564e+02 pre 1.380e+02 delta 1.081e+00 f 2.724e+03 |g| 5.057e+02 CG   4\n",
      "iter  3 act 1.343e+01 pre 1.273e+01 delta 1.081e+00 f 2.567e+03 |g| 1.188e+02 CG   6\n",
      "iter  4 act 1.318e-01 pre 1.310e-01 delta 1.081e+00 f 2.554e+03 |g| 1.170e+01 CG   6\n",
      "iter  5 act 6.175e-05 pre 6.174e-05 delta 1.081e+00 f 2.554e+03 |g| 2.544e-01 CG   4\n",
      "Максимальная оценка качества модели (f1-метрика): 0.30394, при 3 итерациях.\n",
      "Плотность: 0.207 | Точность: 0.570 | ROC_AUC: 0.770\n",
      "CPU times: user 4.14 s, sys: 8.51 s, total: 12.6 s\n",
      "Wall time: 12.9 s\n"
     ]
    }
   ],
   "source": [
    "%%time\n",
    "\n",
    "#построим модель логистической регрессии\n",
    "best_f1 = 0\n",
    "for verb in tqdm(range(1, 10, 1)):\n",
    "    for iter in range(1, 10, 1):\n",
    "        model = LogisticRegression(max_iter=iter, verbose=verb, solver='liblinear', random_state=12345) #создаем объект модели\n",
    "        model.fit(features_train, target_train) #обучаем модель\n",
    "        prediction_valid = model.predict(features_valid) \n",
    "        \n",
    "#комментарий студента v1 \n",
    "        probabilities_valid = model.predict_proba(features_valid)#предскажем вероятность целевого признака на валид. фичах\n",
    "        probabilities_one_valid = probabilities_valid[:, 1]#выделим массив предсказанных вероятностей класса 1\n",
    "\n",
    "        f1_valid = f1_score(target_valid, prediction_valid) #оцениваем f1-метрику для модели на валидационной выборке\n",
    "        if f1_valid > best_f1:\n",
    "            best_f1 = f1_valid #зафиксируем значение лучшей f1-метрики\n",
    "            best_iter = iter #зафиксируем значение гиперпараметра\n",
    "            best_verbose = verb #зафиксируем значение гиперпараметра\n",
    "            best_prediction_valid = prediction_valid #сохраним предсказанный целевой признак модели с лучшими гиперпараметрами\n",
    "        \n",
    "print(f'Максимальная оценка качества модели (f1-метрика): {round(best_f1, 5)}, при {best_iter} итерациях.')\n",
    "print('Плотность: {:.3f} | Точность: {:.3f} | ROC_AUC: {:.3f}'.format(recall_score(target_valid, best_prediction_valid),\n",
    "                                                                      precision_score(target_valid, best_prediction_valid),\n",
    "                                                                      roc_auc_score(target_valid, probabilities_one_valid)))"
   ]
  },
  {
   "cell_type": "code",
   "execution_count": 28,
   "metadata": {},
   "outputs": [
    {
     "name": "stdout",
     "output_type": "stream",
     "text": [
      "Максимальная оценка качества модели (f1-метрика): 0.55836, при глубине дерева - 7.\n",
      "Плотность: 0.453 | Точность: 0.728 | ROC_AUC: 0.724\n",
      "CPU times: user 2.03 s, sys: 56 ms, total: 2.08 s\n",
      "Wall time: 2.08 s\n"
     ]
    }
   ],
   "source": [
    "%%time\n",
    "\n",
    "#построим модель дерева решений\n",
    "\n",
    "best_depth_ = 0\n",
    "best_f1 = 0\n",
    "for depth in range(1, 21, 2):\n",
    "    for smsp in range(2, 10, 1):\n",
    "        #создаем модель решающего дерева с гиперпараметрами\n",
    "        model = DecisionTreeClassifier(max_depth=depth, min_samples_split=smsp,random_state=12345)\n",
    "        model.fit(features_train, target_train) #обучаем модель\n",
    "        prediction_valid = model.predict(features_valid) #делаем предсказания на валидационной выборке\n",
    "\n",
    "        probabilities_valid = model.predict_proba(features_valid)#предскажем вероятность целевого признака на валид. фичах\n",
    "        probabilities_one_valid = probabilities_valid[:, 1]#выделим массив предсказанных вероятностей класса 1\n",
    "\n",
    "        f1_valid = f1_score(target_valid, prediction_valid) #оцениваем f1-метрику для модели на валидационной выборке\n",
    "        if f1_valid > best_f1:\n",
    "            best_f1 = f1_valid\n",
    "            best_depth_ = depth\n",
    "            best_smsp = smsp\n",
    "            best_prediction_valid = prediction_valid\n",
    "        \n",
    "\n",
    "print(f'Максимальная оценка качества модели (f1-метрика): {round(best_f1, 5)}, при глубине дерева - {best_depth_}.')\n",
    "print('Плотность: {:.3f} | Точность: {:.3f} | ROC_AUC: {:.3f}'.format(recall_score(target_valid, best_prediction_valid),\n",
    "                                                                      precision_score(target_valid, best_prediction_valid),\n",
    "                                                                      roc_auc_score(target_valid, probabilities_one_valid)))"
   ]
  },
  {
   "cell_type": "code",
   "execution_count": 29,
   "metadata": {
    "scrolled": true
   },
   "outputs": [
    {
     "data": {
      "application/vnd.jupyter.widget-view+json": {
       "model_id": "de04ed695bf1486aacdae4c82f291cb5",
       "version_major": 2,
       "version_minor": 0
      },
      "text/plain": [
       "  0%|          | 0/21 [00:00<?, ?it/s]"
      ]
     },
     "metadata": {},
     "output_type": "display_data"
    },
    {
     "name": "stdout",
     "output_type": "stream",
     "text": [
      "Максимальная оценка качества модели (f1-метрика): 0.58054, при количестве деревьев 40 \n",
      "и глубине - 14.\n",
      "Плотность: 0.465 | Точность: 0.771 | ROC_AUC: 0.844\n",
      "CPU times: user 2min 12s, sys: 908 ms, total: 2min 13s\n",
      "Wall time: 2min 13s\n"
     ]
    }
   ],
   "source": [
    "%%time\n",
    "\n",
    "#построим модель случайного леса\n",
    "best_f1 = 0\n",
    "for est in tqdm(range(10, 111, 5)):\n",
    "    for depth in range (1, 18):\n",
    "        model = RandomForestClassifier(n_estimators=est, max_depth=depth, random_state=12345)\n",
    "        model.fit(features_train, target_train)\n",
    "        prediction_valid = model.predict(features_valid)\n",
    "        \n",
    "        probabilities_valid = model.predict_proba(features_valid)#предскажем вероятность целевого признака на валид. фичах\n",
    "        probabilities_one_valid = probabilities_valid[:, 1]#выделим массив предсказанных вероятностей класса 1       \n",
    "        \n",
    "        f1_valid = f1_score(target_valid, prediction_valid)\n",
    "        if f1_valid > best_f1:\n",
    "            best_f1 = f1_valid\n",
    "            best_prediction_valid = prediction_valid\n",
    "            best_est = est\n",
    "            best_depth = depth\n",
    "\n",
    "print(f'Максимальная оценка качества модели (f1-метрика): {round(best_f1, 5)}, при количестве деревьев {best_est} \\\n",
    "\\nи глубине - {best_depth}.')\n",
    "print('Плотность: {:.3f} | Точность: {:.3f} | ROC_AUC: {:.3f}'.format(recall_score(target_valid, best_prediction_valid),\n",
    "                                                                      precision_score(target_valid, best_prediction_valid),\n",
    "#                                                                     roc_auc_score(target_valid, best_prediction_valid)))\n",
    "                                                                      roc_auc_score(target_valid, probabilities_one_valid)))"
   ]
  },
  {
   "cell_type": "markdown",
   "metadata": {},
   "source": [
    "<div class=\"alert-info\"><b>Вывод по шагу 2:</b>\n",
    "    \n",
    "    Из 3 моделей лучше всего себя показала модель случайного леса с числом деревьев - 40 и глубиной - 14. Её показатель качества при дисбалансе классов - 0.58054.\n",
    "    \n",
    "    В нашем случае, F1-метрика составляет 0.58054, а ROC-AUC равен 0,844. Это означает, что модель имеет достаточно высокую точность и полноту, а также хорошую способность отличать между собой классы. Попробуем избавиться от дисбаланса классов далее.</div>"
   ]
  },
  {
   "cell_type": "markdown",
   "metadata": {},
   "source": [
    "## Борьба с дисбалансом"
   ]
  },
  {
   "cell_type": "code",
   "execution_count": 30,
   "metadata": {},
   "outputs": [
    {
     "name": "stdout",
     "output_type": "stream",
     "text": [
      "Максимальная оценка качества модели (f1-метрика): 0.56372, при количестве деревьев 40\n",
      "и глубине - 14.\n",
      "Плотность: 0.465 | Точность: 0.771 | ROC_AUC: 0.842\n",
      "CPU times: user 335 ms, sys: 82 µs, total: 335 ms\n",
      "Wall time: 347 ms\n"
     ]
    }
   ],
   "source": [
    "%%time\n",
    "#улучшим качество модели, учитывая дисбаланс классов, изменим их вес.\n",
    "#построим модель случайного леса c гиперпараметром class_weight='balanced'\n",
    "model = RandomForestClassifier(n_estimators=best_est, max_depth=best_depth, random_state=12345, class_weight='balanced')\n",
    "model.fit(features_train, target_train)\n",
    "prediction_valid = model.predict(features_valid)\n",
    "\n",
    "probabilities_valid = model.predict_proba(features_valid)#предскажем вероятность целевого признака на валид. фичах\n",
    "probabilities_one_valid = probabilities_valid[:, 1]#выделим массив предсказанных вероятностей класса 1       \n",
    "\n",
    "f1_valid = f1_score(target_valid, prediction_valid)\n",
    "\n",
    "print(f'Максимальная оценка качества модели (f1-метрика): {round(f1_valid, 5)}, при количестве деревьев {best_est}\\\n",
    "\\nи глубине - {best_depth}.')\n",
    "print('Плотность: {:.3f} | Точность: {:.3f} | ROC_AUC: {:.3f}'.format(recall_score(target_valid, best_prediction_valid),\n",
    "                                                                      precision_score(target_valid, best_prediction_valid),\n",
    "                                                                      roc_auc_score(target_valid, probabilities_one_valid)))"
   ]
  },
  {
   "cell_type": "code",
   "execution_count": 31,
   "metadata": {
    "scrolled": false
   },
   "outputs": [
    {
     "name": "stdout",
     "output_type": "stream",
     "text": [
      "Наивысший показатель F1 = 0.588, при смещении порога до значения 0.29\n"
     ]
    },
    {
     "data": {
      "image/png": "[encoded data removed]",
      "text/plain": [
       "<Figure size 432x432 with 1 Axes>"
      ]
     },
     "metadata": {
      "needs_background": "light"
     },
     "output_type": "display_data"
    }
   ],
   "source": [
    "#изменим порог классификации\n",
    "model = DecisionTreeClassifier(max_depth=best_depth_, random_state=1234)\n",
    "model.fit(features_train, target_train)\n",
    "probabilities_valid = model.predict_proba(features_valid)\n",
    "probabilities_one_valid = probabilities_valid[:, 1]\n",
    "\n",
    "fpr, tpr, thresholds = roc_curve(target_valid, probabilities_one_valid)\n",
    "\n",
    "best_f1 = 0\n",
    "for threshold in thresholds:\n",
    "    predicted_valid = probabilities_one_valid > threshold\n",
    "    f1 = f1_score(target_valid, predicted_valid)\n",
    "    if best_f1 < f1:\n",
    "        best_f1 = f1\n",
    "        best_threshold = threshold\n",
    "\n",
    "print(\"Наивысший показатель F1 = {:.3f}, при смещении порога до значения {:.2f}\".format(best_f1, best_threshold))\n",
    "plt.figure(figsize = (6, 6))\n",
    "plt.step(fpr, tpr, where='post')\n",
    "plt.xlim(0, 1)\n",
    "plt.ylim(0, 1)\n",
    "plt.xlabel('FPR')\n",
    "plt.ylabel('TPR')\n",
    "plt.title('ROC-кривая')\n",
    "plt.plot([0, 1], [0, 1], linestyle='--')\n",
    "plt.show();"
   ]
  },
  {
   "cell_type": "code",
   "execution_count": 32,
   "metadata": {},
   "outputs": [
    {
     "data": {
      "application/vnd.jupyter.widget-view+json": {
       "model_id": "20dc58d75ba8408c904782a5e85b83ff",
       "version_major": 2,
       "version_minor": 0
      },
      "text/plain": [
       "  0%|          | 0/21 [00:00<?, ?it/s]"
      ]
     },
     "metadata": {},
     "output_type": "display_data"
    },
    {
     "name": "stdout",
     "output_type": "stream",
     "text": [
      "Максимальная оценка качества модели (f1-метрика): 0.60834, при количестве деревьев 90\n",
      "и глубине - 16.\n",
      "Плотность: 0.578 | Точность: 0.642 | ROC_AUC: 0.847\n"
     ]
    }
   ],
   "source": [
    "#Увеличим выборку, upsampling\n",
    "def upsample(features, target, repeat):\n",
    "    features_zeros = features[target == 0]\n",
    "    features_ones = features[target == 1]\n",
    "    target_zeros = target[target == 0]\n",
    "    target_ones = target[target == 1]\n",
    "\n",
    "    features_upsampled = pd.concat([features_zeros] + [features_ones] * repeat)\n",
    "    target_upsampled = pd.concat([target_zeros] + [target_ones] * repeat)\n",
    "    \n",
    "    features_upsampled, target_upsampled = shuffle(\n",
    "        features_upsampled, target_upsampled, random_state=12345)\n",
    "    \n",
    "    return features_upsampled, target_upsampled\n",
    "\n",
    "#features_upsampled, target_upsampled = upsample(features_train, target_train,3)\n",
    "features_upsampled, target_upsampled = upsample(features_train, target_train,4)\n",
    "\n",
    "\n",
    "best_f1 = 0\n",
    "for est in tqdm(range(10, 111, 5)):\n",
    "    for depth in range (1, 18):\n",
    "        model = RandomForestClassifier(n_estimators=est, max_depth=depth, random_state=12345)\n",
    "        model.fit(features_upsampled, target_upsampled)\n",
    "        prediction_valid = model.predict(features_valid)\n",
    "        \n",
    "        probabilities_valid = model.predict_proba(features_valid)#предскажем вероятность целевого признака на валид. фичах\n",
    "        probabilities_one_valid = probabilities_valid[:, 1]#выделим массив предсказанных вероятностей класса 1         \n",
    "        \n",
    "        f1_valid = f1_score(target_valid, prediction_valid)\n",
    "        if f1_valid > best_f1:\n",
    "            best_f1 = f1_valid\n",
    "            best_prediction_valid = prediction_valid\n",
    "            best_est = est\n",
    "            best_depth = depth\n",
    "            prod_model = model\n",
    "\n",
    "print(f'Максимальная оценка качества модели (f1-метрика): {round(best_f1, 5)}, при количестве деревьев {best_est}\\\n",
    "\\nи глубине - {best_depth}.')\n",
    "print('Плотность: {:.3f} | Точность: {:.3f} | ROC_AUC: {:.3f}'.format(recall_score(target_valid, best_prediction_valid),\n",
    "                                                                      precision_score(target_valid, best_prediction_valid),\n",
    "                                                                      roc_auc_score(target_valid, probabilities_one_valid)))"
   ]
  },
  {
   "cell_type": "code",
   "execution_count": 33,
   "metadata": {},
   "outputs": [
    {
     "data": {
      "application/vnd.jupyter.widget-view+json": {
       "model_id": "a6ef88ad3bb54276be56abb2ec724f44",
       "version_major": 2,
       "version_minor": 0
      },
      "text/plain": [
       "  0%|          | 0/21 [00:00<?, ?it/s]"
      ]
     },
     "metadata": {},
     "output_type": "display_data"
    },
    {
     "name": "stdout",
     "output_type": "stream",
     "text": [
      "Максимальная оценка качества модели (f1-метрика): 0.5533, при количестве деревьев 110\n",
      "и глубине - 9.\n",
      "Плотность: 0.803 | Точность: 0.422 | ROC_AUC: 0.839\n"
     ]
    }
   ],
   "source": [
    "#уменьшаем выборку, downsampling\n",
    "\n",
    "def downsample(features, target, fraction):\n",
    "    features_zeros = features[target == 0]\n",
    "    features_ones = features[target == 1]\n",
    "    target_zeros = target[target == 0]\n",
    "    target_ones = target[target == 1]\n",
    "\n",
    "    features_downsampled = pd.concat(\n",
    "        [features_zeros.sample(frac=fraction, random_state=12345)] + [features_ones])\n",
    "    target_downsampled = pd.concat(\n",
    "        [target_zeros.sample(frac=fraction, random_state=12345)] + [target_ones])\n",
    "    \n",
    "    features_downsampled, target_downsampled = shuffle(\n",
    "        features_downsampled, target_downsampled, random_state=12345)\n",
    "    \n",
    "    return features_downsampled, target_downsampled\n",
    "\n",
    "\n",
    "features_downsampled, target_downsampled = downsample(features_train, target_train, 0.2)\n",
    "\n",
    "\n",
    "best_f1 = 0\n",
    "for est in tqdm(range(10, 111, 5)):\n",
    "    for depth in range (1, 18):\n",
    "        model = RandomForestClassifier(n_estimators=est, max_depth=depth, random_state=12345)\n",
    "        model.fit(features_downsampled, target_downsampled)\n",
    "        prediction_valid = model.predict(features_valid)\n",
    "        \n",
    "        probabilities_valid = model.predict_proba(features_valid)#предскажем вероятность целевого признака на валид. фичах\n",
    "        probabilities_one_valid = probabilities_valid[:, 1]#выделим массив предсказанных вероятностей класса 1    \n",
    "        \n",
    "        f1_valid = f1_score(target_valid, prediction_valid)\n",
    "        if f1_valid > best_f1:\n",
    "            best_f1 = f1_valid\n",
    "            best_prediction_valid = prediction_valid\n",
    "            best_est = est\n",
    "            best_depth = depth\n",
    "\n",
    "print(f'Максимальная оценка качества модели (f1-метрика): {round(best_f1, 5)}, при количестве деревьев {best_est}\\\n",
    "\\nи глубине - {best_depth}.')\n",
    "print('Плотность: {:.3f} | Точность: {:.3f} | ROC_AUC: {:.3f}'.format(recall_score(target_valid, best_prediction_valid),\n",
    "                                                                      precision_score(target_valid, best_prediction_valid),\n",
    "                                                                      roc_auc_score(target_valid, probabilities_one_valid)))"
   ]
  },
  {
   "cell_type": "markdown",
   "metadata": {},
   "source": [
    "<div class=\"alert-info\"><b>Вывод по шагу 3:</b>\n",
    "\n",
    "Из 4 методов борьбы с дисбалансом лучше всего себя показал upsampling, т.е. увеличение выборки. Максимальная оценка качества модели леса решений (f1-метрика): 0.60834, при количестве деревьев 90 и глубине - 16 на валидационной выборке. ROC_AUC: 0.847, что говорит о том, что модель имеет достаточно высокую точность и полноту, а также хорошую способность отличать между собой классы. </div>"
   ]
  },
  {
   "cell_type": "markdown",
   "metadata": {},
   "source": [
    "## Тестирование модели"
   ]
  },
  {
   "cell_type": "code",
   "execution_count": null,
   "metadata": {},
   "outputs": [
    {
     "name": "stdout",
     "output_type": "stream",
     "text": [
      "Оценка f1 метрики у лучшей модели 0.6091370558375634\n",
      "ROC_AUC: 0.849091296185186\n"
     ]
    }
   ],
   "source": [
    "#проверим F1-меру на тестовой выборке (метрика должна быть не менее 0.59);\n",
    "model_forest_pred_test = prod_model.predict(features_test)\n",
    "\n",
    "probabilities_test = model.predict_proba(features_test)\n",
    "probabilities_one_test = probabilities_test[:, 1]\n",
    "\n",
    "\n",
    "f1_test = f1_score(target_test, model_forest_pred_test)\n",
    "print(f'Оценка f1 метрики у лучшей модели {f1_test}')\n",
    "\n",
    "print(f'ROC_AUC: {roc_auc_score(target_test, probabilities_one_test)}')"
   ]
  },
  {
   "cell_type": "markdown",
   "metadata": {},
   "source": [
    "<div class=\"alert-info\"><b>Вывод по шагу 4</b>\n",
    "\n",
    "F1-мера более 0.59, что было одним из условий в проекте. Максимальная оценка качества модели леса решений (f1-метрика): 0.609, при количестве деревьев 90 и глубине - 16 на тестовой выборке. ROC_AUC: 0.849, модель достаточно хорошо отличает классы.</div>"
   ]
  },
  {
   "cell_type": "markdown",
   "metadata": {},
   "source": [
    "<div class=\"alert-info\"><b>Общий вывод по проекту:</b>\n",
    "\n",
    "Мы изучили общую информацию о данных, удалили лишние для исследования столбцы: индекс строки в данных, уникальный идентификатор клиента, фамилия. Также в столбце Tenure (сколько лет человек является клиентом банка) было замечено 909 пропусков, строки с которыми нами заменены на медианные значения.Разработчикам стоит проверить как происходит сбор данных о клиентах у которых замечены пропуски и более детально разобраться в причинах их возникновения. Несколько категориальных признаков было закодировано в числовом виде для обучения модели.\n",
    "\n",
    "Датафрейм разделен на 3 выборки:\n",
    "- размер обучающей выборки: 6000 строк;\n",
    "- размер валидационной выборки: 2000 строк;\n",
    "- размер тестовой выборки: 2000 строк.\n",
    "\n",
    "Из 3 исследованных моделей на валидационной выборке лучше всего себя показала модель случайного леса при дисбалансе классов F1-мера - 0.58054. \n",
    "\n",
    "Из 4 методов борьбы с дисбалансом лучше всего себя показал upsampling, т.е. увеличение выборки. Максимальная оценка качества модели леса решений (f1-метрика): 0.60834; ROC_AUC: 0.847, что говорит говорит о том, что модель имеет достаточно высокую точность и полноту, а также хорошую способность отличать между собой классы. \n",
    "\n",
    "F1-мера более 0.59, что было одним из условий в проекте. Максимальная оценка качества модели леса решений (f1-метрика) на тестовой выборке: 0.609, при количестве деревьев 90 и глубине - 16. ROC_AUC: 0.849, модель достаточно хорошо отличает классы. \n",
    "\n",
    "<b>Таким образом нам удалось построить модель, способную прогнозировать, уйдёт клиент из банка в ближайшее время или нет с достаточно хорошим процентом точности классификации клиентов.</b>\n",
    "</div>"
   ]
  },
  {
   "cell_type": "markdown",
   "metadata": {},
   "source": [
    "## Чек-лист готовности проекта"
   ]
  },
  {
   "cell_type": "markdown",
   "metadata": {},
   "source": [
    "Поставьте 'x' в выполненных пунктах. Далее нажмите Shift+Enter."
   ]
  },
  {
   "cell_type": "markdown",
   "metadata": {},
   "source": [
    "- [x]  Jupyter Notebook открыт\n",
    "- [x]  Весь код выполняется без ошибок\n",
    "- [x]  Ячейки с кодом расположены в порядке исполнения\n",
    "- [x]  Выполнен шаг 1: данные подготовлены\n",
    "- [x]  Выполнен шаг 2: задача исследована\n",
    "    - [x]  Исследован баланс классов\n",
    "    - [x]  Изучены модели без учёта дисбаланса\n",
    "    - [x]  Написаны выводы по результатам исследования\n",
    "- [x]  Выполнен шаг 3: учтён дисбаланс\n",
    "    - [x]  Применено несколько способов борьбы с дисбалансом\n",
    "    - [x]  Написаны выводы по результатам исследования\n",
    "- [x]  Выполнен шаг 4: проведено тестирование\n",
    "- [x]  Удалось достичь *F1*-меры не менее 0.59\n",
    "- [x]  Исследована метрика *AUC-ROC*"
   ]
  },
  {
   "cell_type": "code",
   "execution_count": null,
   "metadata": {},
   "outputs": [],
   "source": []
  }
 ],
 "metadata": {
  "ExecuteTimeLog": [
   {
    "duration": 44,
    "start_time": "2023-07-15T09:02:48.161Z"
   },
   {
    "duration": 395,
    "start_time": "2023-07-15T09:02:51.955Z"
   },
   {
    "duration": 81,
    "start_time": "2023-07-15T09:02:52.352Z"
   },
   {
    "duration": 33,
    "start_time": "2023-07-15T09:03:09.916Z"
   },
   {
    "duration": 12,
    "start_time": "2023-07-15T09:04:17.067Z"
   },
   {
    "duration": 11,
    "start_time": "2023-07-15T09:04:24.321Z"
   },
   {
    "duration": 13,
    "start_time": "2023-07-15T09:04:36.606Z"
   },
   {
    "duration": 11,
    "start_time": "2023-07-15T09:04:41.816Z"
   },
   {
    "duration": 13,
    "start_time": "2023-07-15T09:04:57.077Z"
   },
   {
    "duration": 4598,
    "start_time": "2023-07-15T09:09:27.045Z"
   },
   {
    "duration": 48,
    "start_time": "2023-07-15T09:09:31.645Z"
   },
   {
    "duration": 30,
    "start_time": "2023-07-15T09:09:31.695Z"
   },
   {
    "duration": 57,
    "start_time": "2023-07-15T09:09:31.727Z"
   },
   {
    "duration": 815,
    "start_time": "2023-07-15T09:09:31.785Z"
   },
   {
    "duration": 1103,
    "start_time": "2023-07-15T09:09:32.602Z"
   },
   {
    "duration": 1149,
    "start_time": "2023-07-15T09:09:33.706Z"
   },
   {
    "duration": 5,
    "start_time": "2023-07-15T09:14:26.708Z"
   },
   {
    "duration": 7,
    "start_time": "2023-07-15T09:14:47.563Z"
   },
   {
    "duration": 8,
    "start_time": "2023-07-15T09:15:24.281Z"
   },
   {
    "duration": 19,
    "start_time": "2023-07-15T09:17:30.250Z"
   },
   {
    "duration": 4,
    "start_time": "2023-07-15T09:21:46.487Z"
   },
   {
    "duration": 3781,
    "start_time": "2023-07-15T09:21:56.092Z"
   },
   {
    "duration": 68,
    "start_time": "2023-07-15T09:21:59.876Z"
   },
   {
    "duration": 34,
    "start_time": "2023-07-15T09:21:59.947Z"
   },
   {
    "duration": 21,
    "start_time": "2023-07-15T09:21:59.983Z"
   },
   {
    "duration": 828,
    "start_time": "2023-07-15T09:22:00.006Z"
   },
   {
    "duration": 1254,
    "start_time": "2023-07-15T09:22:00.844Z"
   },
   {
    "duration": 4,
    "start_time": "2023-07-15T09:22:02.100Z"
   },
   {
    "duration": 31,
    "start_time": "2023-07-15T09:22:02.105Z"
   },
   {
    "duration": 60,
    "start_time": "2023-07-15T09:22:02.141Z"
   },
   {
    "duration": 56,
    "start_time": "2023-07-15T09:22:02.204Z"
   },
   {
    "duration": 120,
    "start_time": "2023-07-15T09:27:30.069Z"
   },
   {
    "duration": 112,
    "start_time": "2023-07-15T09:28:05.964Z"
   },
   {
    "duration": 4321,
    "start_time": "2023-07-15T11:29:20.643Z"
   },
   {
    "duration": 171,
    "start_time": "2023-07-15T11:29:24.966Z"
   },
   {
    "duration": 27,
    "start_time": "2023-07-15T11:29:25.139Z"
   },
   {
    "duration": 13,
    "start_time": "2023-07-15T11:29:25.167Z"
   },
   {
    "duration": 814,
    "start_time": "2023-07-15T11:29:25.182Z"
   },
   {
    "duration": 1048,
    "start_time": "2023-07-15T11:29:25.998Z"
   },
   {
    "duration": 5,
    "start_time": "2023-07-15T11:29:27.047Z"
   },
   {
    "duration": 25,
    "start_time": "2023-07-15T11:29:27.054Z"
   },
   {
    "duration": 11,
    "start_time": "2023-07-15T11:29:27.081Z"
   },
   {
    "duration": 82,
    "start_time": "2023-07-15T11:29:27.094Z"
   },
   {
    "duration": 0,
    "start_time": "2023-07-15T11:29:27.178Z"
   },
   {
    "duration": 0,
    "start_time": "2023-07-15T11:29:27.180Z"
   },
   {
    "duration": 22,
    "start_time": "2023-07-15T11:29:36.975Z"
   },
   {
    "duration": 22,
    "start_time": "2023-07-15T11:29:37.696Z"
   },
   {
    "duration": 22,
    "start_time": "2023-07-15T11:30:30.405Z"
   },
   {
    "duration": 20,
    "start_time": "2023-07-15T11:30:55.718Z"
   },
   {
    "duration": 20,
    "start_time": "2023-07-15T11:31:03.215Z"
   },
   {
    "duration": 21,
    "start_time": "2023-07-15T11:31:11.426Z"
   },
   {
    "duration": 22,
    "start_time": "2023-07-15T11:31:28.082Z"
   },
   {
    "duration": 23,
    "start_time": "2023-07-15T11:31:30.837Z"
   },
   {
    "duration": 25,
    "start_time": "2023-07-15T11:31:34.311Z"
   },
   {
    "duration": 69,
    "start_time": "2023-07-15T11:32:11.742Z"
   },
   {
    "duration": 21,
    "start_time": "2023-07-15T11:32:20.950Z"
   },
   {
    "duration": 20,
    "start_time": "2023-07-15T11:33:21.832Z"
   },
   {
    "duration": 104,
    "start_time": "2023-07-15T11:33:30.832Z"
   },
   {
    "duration": 3359,
    "start_time": "2023-07-15T11:33:44.718Z"
   },
   {
    "duration": 40,
    "start_time": "2023-07-15T11:33:48.079Z"
   },
   {
    "duration": 32,
    "start_time": "2023-07-15T11:33:48.122Z"
   },
   {
    "duration": 14,
    "start_time": "2023-07-15T11:33:48.156Z"
   },
   {
    "duration": 830,
    "start_time": "2023-07-15T11:33:48.174Z"
   },
   {
    "duration": 1324,
    "start_time": "2023-07-15T11:33:49.006Z"
   },
   {
    "duration": 3,
    "start_time": "2023-07-15T11:33:50.332Z"
   },
   {
    "duration": 10,
    "start_time": "2023-07-15T11:33:50.336Z"
   },
   {
    "duration": 23,
    "start_time": "2023-07-15T11:33:50.348Z"
   },
   {
    "duration": 5,
    "start_time": "2023-07-15T11:33:50.373Z"
   },
   {
    "duration": 12,
    "start_time": "2023-07-15T11:33:50.380Z"
   },
   {
    "duration": 100,
    "start_time": "2023-07-15T11:34:01.632Z"
   },
   {
    "duration": 13,
    "start_time": "2023-07-15T11:34:17.198Z"
   },
   {
    "duration": 3175,
    "start_time": "2023-07-15T11:34:23.708Z"
   },
   {
    "duration": 42,
    "start_time": "2023-07-15T11:34:26.885Z"
   },
   {
    "duration": 25,
    "start_time": "2023-07-15T11:34:26.928Z"
   },
   {
    "duration": 13,
    "start_time": "2023-07-15T11:34:26.955Z"
   },
   {
    "duration": 828,
    "start_time": "2023-07-15T11:34:26.970Z"
   },
   {
    "duration": 1044,
    "start_time": "2023-07-15T11:34:27.800Z"
   },
   {
    "duration": 4,
    "start_time": "2023-07-15T11:34:28.845Z"
   },
   {
    "duration": 20,
    "start_time": "2023-07-15T11:34:28.850Z"
   },
   {
    "duration": 7,
    "start_time": "2023-07-15T11:34:28.872Z"
   },
   {
    "duration": 19,
    "start_time": "2023-07-15T11:34:28.881Z"
   },
   {
    "duration": 4,
    "start_time": "2023-07-15T11:34:28.901Z"
   },
   {
    "duration": 8,
    "start_time": "2023-07-15T11:40:37.435Z"
   },
   {
    "duration": 4,
    "start_time": "2023-07-15T11:41:47.468Z"
   },
   {
    "duration": 91,
    "start_time": "2023-07-15T11:42:41.869Z"
   },
   {
    "duration": 8,
    "start_time": "2023-07-15T11:43:23.044Z"
   },
   {
    "duration": 3,
    "start_time": "2023-07-15T11:44:02.989Z"
   },
   {
    "duration": 19,
    "start_time": "2023-07-15T11:49:49.137Z"
   },
   {
    "duration": 12,
    "start_time": "2023-07-15T11:52:17.818Z"
   },
   {
    "duration": 10,
    "start_time": "2023-07-15T11:52:30.496Z"
   },
   {
    "duration": 9,
    "start_time": "2023-07-15T11:52:35.227Z"
   },
   {
    "duration": 10,
    "start_time": "2023-07-15T11:53:05.122Z"
   },
   {
    "duration": 11,
    "start_time": "2023-07-15T11:53:34.780Z"
   },
   {
    "duration": 9,
    "start_time": "2023-07-15T11:53:40.087Z"
   },
   {
    "duration": 12,
    "start_time": "2023-07-15T11:53:45.890Z"
   },
   {
    "duration": 9,
    "start_time": "2023-07-15T11:53:53.388Z"
   },
   {
    "duration": 8,
    "start_time": "2023-07-15T11:54:06.937Z"
   },
   {
    "duration": 12,
    "start_time": "2023-07-15T11:55:03.997Z"
   },
   {
    "duration": 63,
    "start_time": "2023-07-15T11:56:54.732Z"
   },
   {
    "duration": 64,
    "start_time": "2023-07-15T11:57:02.336Z"
   },
   {
    "duration": 8,
    "start_time": "2023-07-15T11:57:11.246Z"
   },
   {
    "duration": 92,
    "start_time": "2023-07-15T11:57:31.644Z"
   },
   {
    "duration": 45,
    "start_time": "2023-07-15T11:58:13.123Z"
   },
   {
    "duration": 12,
    "start_time": "2023-07-15T11:58:47.902Z"
   },
   {
    "duration": 8,
    "start_time": "2023-07-15T12:01:29.779Z"
   },
   {
    "duration": 9,
    "start_time": "2023-07-15T12:02:09.687Z"
   },
   {
    "duration": 8,
    "start_time": "2023-07-15T12:02:15.300Z"
   },
   {
    "duration": 36,
    "start_time": "2023-07-15T12:02:24.099Z"
   },
   {
    "duration": 52,
    "start_time": "2023-07-15T14:45:10.256Z"
   },
   {
    "duration": 12,
    "start_time": "2023-07-15T14:45:32.602Z"
   },
   {
    "duration": 5354,
    "start_time": "2023-07-15T14:45:39.702Z"
   },
   {
    "duration": 162,
    "start_time": "2023-07-15T14:45:45.058Z"
   },
   {
    "duration": 47,
    "start_time": "2023-07-15T14:45:45.223Z"
   },
   {
    "duration": 16,
    "start_time": "2023-07-15T14:45:45.274Z"
   },
   {
    "duration": 1007,
    "start_time": "2023-07-15T14:45:45.293Z"
   },
   {
    "duration": 1446,
    "start_time": "2023-07-15T14:45:46.303Z"
   },
   {
    "duration": 4,
    "start_time": "2023-07-15T14:45:47.751Z"
   },
   {
    "duration": 17,
    "start_time": "2023-07-15T14:45:47.757Z"
   },
   {
    "duration": 33,
    "start_time": "2023-07-15T14:45:47.776Z"
   },
   {
    "duration": 56,
    "start_time": "2023-07-15T14:45:47.813Z"
   },
   {
    "duration": 14,
    "start_time": "2023-07-15T14:45:47.875Z"
   },
   {
    "duration": 9,
    "start_time": "2023-07-15T14:45:47.892Z"
   },
   {
    "duration": 23,
    "start_time": "2023-07-15T14:45:47.903Z"
   },
   {
    "duration": 39,
    "start_time": "2023-07-15T14:45:47.928Z"
   },
   {
    "duration": 15,
    "start_time": "2023-07-15T14:45:47.970Z"
   },
   {
    "duration": 98,
    "start_time": "2023-07-15T14:45:47.987Z"
   },
   {
    "duration": 1284,
    "start_time": "2023-07-15T14:45:48.087Z"
   },
   {
    "duration": 0,
    "start_time": "2023-07-15T14:45:49.374Z"
   },
   {
    "duration": 0,
    "start_time": "2023-07-15T14:45:49.376Z"
   },
   {
    "duration": 0,
    "start_time": "2023-07-15T14:45:49.377Z"
   },
   {
    "duration": 70,
    "start_time": "2023-07-15T14:49:56.537Z"
   },
   {
    "duration": 3753,
    "start_time": "2023-07-15T14:50:28.471Z"
   },
   {
    "duration": 56,
    "start_time": "2023-07-15T14:50:32.227Z"
   },
   {
    "duration": 33,
    "start_time": "2023-07-15T14:50:32.284Z"
   },
   {
    "duration": 21,
    "start_time": "2023-07-15T14:50:32.325Z"
   },
   {
    "duration": 924,
    "start_time": "2023-07-15T14:50:32.349Z"
   },
   {
    "duration": 1209,
    "start_time": "2023-07-15T14:50:33.276Z"
   },
   {
    "duration": 4,
    "start_time": "2023-07-15T14:50:34.487Z"
   },
   {
    "duration": 24,
    "start_time": "2023-07-15T14:50:34.493Z"
   },
   {
    "duration": 18,
    "start_time": "2023-07-15T14:50:34.519Z"
   },
   {
    "duration": 39,
    "start_time": "2023-07-15T14:50:34.539Z"
   },
   {
    "duration": 12,
    "start_time": "2023-07-15T14:50:34.580Z"
   },
   {
    "duration": 3,
    "start_time": "2023-07-15T14:50:34.594Z"
   },
   {
    "duration": 32,
    "start_time": "2023-07-15T14:50:34.599Z"
   },
   {
    "duration": 19,
    "start_time": "2023-07-15T14:50:34.642Z"
   },
   {
    "duration": 10,
    "start_time": "2023-07-15T14:50:34.663Z"
   },
   {
    "duration": 33,
    "start_time": "2023-07-15T14:50:34.674Z"
   },
   {
    "duration": 83,
    "start_time": "2023-07-15T14:50:34.709Z"
   },
   {
    "duration": 0,
    "start_time": "2023-07-15T14:50:34.794Z"
   },
   {
    "duration": 0,
    "start_time": "2023-07-15T14:50:34.795Z"
   },
   {
    "duration": 0,
    "start_time": "2023-07-15T14:50:34.796Z"
   },
   {
    "duration": 79,
    "start_time": "2023-07-15T14:50:51.291Z"
   },
   {
    "duration": 131,
    "start_time": "2023-07-15T14:51:16.344Z"
   },
   {
    "duration": 19,
    "start_time": "2023-07-15T14:51:38.237Z"
   },
   {
    "duration": 150,
    "start_time": "2023-07-15T14:51:50.998Z"
   },
   {
    "duration": 3938,
    "start_time": "2023-07-15T14:51:59.957Z"
   },
   {
    "duration": 84,
    "start_time": "2023-07-15T14:52:03.899Z"
   },
   {
    "duration": 38,
    "start_time": "2023-07-15T14:52:03.986Z"
   },
   {
    "duration": 39,
    "start_time": "2023-07-15T14:52:04.035Z"
   },
   {
    "duration": 928,
    "start_time": "2023-07-15T14:52:04.078Z"
   },
   {
    "duration": 1231,
    "start_time": "2023-07-15T14:52:05.008Z"
   },
   {
    "duration": 9,
    "start_time": "2023-07-15T14:52:06.241Z"
   },
   {
    "duration": 35,
    "start_time": "2023-07-15T14:52:06.252Z"
   },
   {
    "duration": 41,
    "start_time": "2023-07-15T14:52:06.289Z"
   },
   {
    "duration": 29,
    "start_time": "2023-07-15T14:52:06.338Z"
   },
   {
    "duration": 12,
    "start_time": "2023-07-15T14:52:06.369Z"
   },
   {
    "duration": 10,
    "start_time": "2023-07-15T14:52:06.383Z"
   },
   {
    "duration": 48,
    "start_time": "2023-07-15T14:52:06.396Z"
   },
   {
    "duration": 33,
    "start_time": "2023-07-15T14:52:06.450Z"
   },
   {
    "duration": 21,
    "start_time": "2023-07-15T14:52:06.485Z"
   },
   {
    "duration": 50,
    "start_time": "2023-07-15T14:52:06.508Z"
   },
   {
    "duration": 25,
    "start_time": "2023-07-15T14:52:06.560Z"
   },
   {
    "duration": 88,
    "start_time": "2023-07-15T14:52:06.587Z"
   },
   {
    "duration": 0,
    "start_time": "2023-07-15T14:52:06.677Z"
   },
   {
    "duration": 0,
    "start_time": "2023-07-15T14:52:06.678Z"
   },
   {
    "duration": 122,
    "start_time": "2023-07-15T15:09:51.845Z"
   },
   {
    "duration": 4058,
    "start_time": "2023-07-15T15:10:28.151Z"
   },
   {
    "duration": 68,
    "start_time": "2023-07-15T15:10:32.211Z"
   },
   {
    "duration": 411,
    "start_time": "2023-07-15T15:10:32.281Z"
   },
   {
    "duration": 236,
    "start_time": "2023-07-15T15:10:32.694Z"
   },
   {
    "duration": 879,
    "start_time": "2023-07-15T15:10:32.944Z"
   },
   {
    "duration": 1206,
    "start_time": "2023-07-15T15:10:33.837Z"
   },
   {
    "duration": 9,
    "start_time": "2023-07-15T15:10:35.045Z"
   },
   {
    "duration": 95,
    "start_time": "2023-07-15T15:10:35.056Z"
   },
   {
    "duration": 35,
    "start_time": "2023-07-15T15:10:35.153Z"
   },
   {
    "duration": 69,
    "start_time": "2023-07-15T15:10:35.191Z"
   },
   {
    "duration": 14,
    "start_time": "2023-07-15T15:10:35.263Z"
   },
   {
    "duration": 63,
    "start_time": "2023-07-15T15:10:35.280Z"
   },
   {
    "duration": 24,
    "start_time": "2023-07-15T15:10:35.349Z"
   },
   {
    "duration": 88,
    "start_time": "2023-07-15T15:10:35.376Z"
   },
   {
    "duration": 67,
    "start_time": "2023-07-15T15:10:35.466Z"
   },
   {
    "duration": 48,
    "start_time": "2023-07-15T15:10:35.535Z"
   },
   {
    "duration": 50,
    "start_time": "2023-07-15T15:10:35.585Z"
   },
   {
    "duration": 34,
    "start_time": "2023-07-15T15:10:35.641Z"
   },
   {
    "duration": 84,
    "start_time": "2023-07-15T15:10:35.677Z"
   },
   {
    "duration": 0,
    "start_time": "2023-07-15T15:10:35.763Z"
   },
   {
    "duration": 0,
    "start_time": "2023-07-15T15:10:35.765Z"
   },
   {
    "duration": 9,
    "start_time": "2023-07-15T15:12:07.287Z"
   },
   {
    "duration": 34,
    "start_time": "2023-07-15T15:12:15.507Z"
   },
   {
    "duration": 21,
    "start_time": "2023-07-15T15:12:55.650Z"
   },
   {
    "duration": 24,
    "start_time": "2023-07-15T15:13:21.159Z"
   },
   {
    "duration": 3,
    "start_time": "2023-07-15T15:17:45.100Z"
   },
   {
    "duration": 128,
    "start_time": "2023-07-15T15:17:45.881Z"
   },
   {
    "duration": 3789,
    "start_time": "2023-07-15T15:17:53.952Z"
   },
   {
    "duration": 42,
    "start_time": "2023-07-15T15:17:57.744Z"
   },
   {
    "duration": 44,
    "start_time": "2023-07-15T15:17:57.788Z"
   },
   {
    "duration": 15,
    "start_time": "2023-07-15T15:17:57.842Z"
   },
   {
    "duration": 840,
    "start_time": "2023-07-15T15:17:57.859Z"
   },
   {
    "duration": 1275,
    "start_time": "2023-07-15T15:17:58.702Z"
   },
   {
    "duration": 5,
    "start_time": "2023-07-15T15:17:59.979Z"
   },
   {
    "duration": 9,
    "start_time": "2023-07-15T15:17:59.986Z"
   },
   {
    "duration": 96,
    "start_time": "2023-07-15T15:17:59.997Z"
   },
   {
    "duration": 73,
    "start_time": "2023-07-15T15:18:00.095Z"
   },
   {
    "duration": 24,
    "start_time": "2023-07-15T15:18:00.171Z"
   },
   {
    "duration": 35,
    "start_time": "2023-07-15T15:18:00.197Z"
   },
   {
    "duration": 12,
    "start_time": "2023-07-15T15:18:00.239Z"
   },
   {
    "duration": 75,
    "start_time": "2023-07-15T15:18:00.255Z"
   },
   {
    "duration": 53,
    "start_time": "2023-07-15T15:18:00.334Z"
   },
   {
    "duration": 69,
    "start_time": "2023-07-15T15:18:00.389Z"
   },
   {
    "duration": 27,
    "start_time": "2023-07-15T15:18:00.460Z"
   },
   {
    "duration": 76,
    "start_time": "2023-07-15T15:18:00.489Z"
   },
   {
    "duration": 105,
    "start_time": "2023-07-15T15:18:00.567Z"
   },
   {
    "duration": 0,
    "start_time": "2023-07-15T15:18:00.674Z"
   },
   {
    "duration": 0,
    "start_time": "2023-07-15T15:18:00.676Z"
   },
   {
    "duration": 134,
    "start_time": "2023-07-15T15:24:52.530Z"
   },
   {
    "duration": 15,
    "start_time": "2023-07-15T15:30:29.370Z"
   },
   {
    "duration": 38,
    "start_time": "2023-07-15T15:35:26.721Z"
   },
   {
    "duration": 19,
    "start_time": "2023-07-15T15:35:29.388Z"
   },
   {
    "duration": 4,
    "start_time": "2023-07-15T15:39:22.230Z"
   },
   {
    "duration": 7,
    "start_time": "2023-07-15T15:39:22.949Z"
   },
   {
    "duration": 225,
    "start_time": "2023-07-15T15:40:56.680Z"
   },
   {
    "duration": 3469,
    "start_time": "2023-07-15T15:41:22.785Z"
   },
   {
    "duration": 44,
    "start_time": "2023-07-15T15:41:26.256Z"
   },
   {
    "duration": 26,
    "start_time": "2023-07-15T15:41:26.301Z"
   },
   {
    "duration": 14,
    "start_time": "2023-07-15T15:41:26.330Z"
   },
   {
    "duration": 910,
    "start_time": "2023-07-15T15:41:26.347Z"
   },
   {
    "duration": 1058,
    "start_time": "2023-07-15T15:41:27.258Z"
   },
   {
    "duration": 3,
    "start_time": "2023-07-15T15:41:28.318Z"
   },
   {
    "duration": 27,
    "start_time": "2023-07-15T15:41:28.322Z"
   },
   {
    "duration": 16,
    "start_time": "2023-07-15T15:41:28.351Z"
   },
   {
    "duration": 32,
    "start_time": "2023-07-15T15:41:28.369Z"
   },
   {
    "duration": 66,
    "start_time": "2023-07-15T15:41:28.404Z"
   },
   {
    "duration": 15,
    "start_time": "2023-07-15T15:41:28.472Z"
   },
   {
    "duration": 16,
    "start_time": "2023-07-15T15:41:28.489Z"
   },
   {
    "duration": 5,
    "start_time": "2023-07-15T15:41:28.508Z"
   },
   {
    "duration": 26,
    "start_time": "2023-07-15T15:41:28.515Z"
   },
   {
    "duration": 1199,
    "start_time": "2023-07-15T15:41:28.543Z"
   },
   {
    "duration": 0,
    "start_time": "2023-07-15T15:41:29.744Z"
   },
   {
    "duration": 0,
    "start_time": "2023-07-15T15:41:29.745Z"
   },
   {
    "duration": 0,
    "start_time": "2023-07-15T15:41:29.747Z"
   },
   {
    "duration": 0,
    "start_time": "2023-07-15T15:41:29.748Z"
   },
   {
    "duration": 0,
    "start_time": "2023-07-15T15:41:29.750Z"
   },
   {
    "duration": 0,
    "start_time": "2023-07-15T15:41:29.751Z"
   },
   {
    "duration": 10,
    "start_time": "2023-07-15T15:42:35.040Z"
   },
   {
    "duration": 20,
    "start_time": "2023-07-15T16:00:13.146Z"
   },
   {
    "duration": 15,
    "start_time": "2023-07-15T16:01:35.940Z"
   },
   {
    "duration": 3611,
    "start_time": "2023-07-15T16:01:43.208Z"
   },
   {
    "duration": 43,
    "start_time": "2023-07-15T16:01:46.821Z"
   },
   {
    "duration": 27,
    "start_time": "2023-07-15T16:01:46.866Z"
   },
   {
    "duration": 15,
    "start_time": "2023-07-15T16:01:46.894Z"
   },
   {
    "duration": 876,
    "start_time": "2023-07-15T16:01:46.912Z"
   },
   {
    "duration": 1139,
    "start_time": "2023-07-15T16:01:47.790Z"
   },
   {
    "duration": 4,
    "start_time": "2023-07-15T16:01:48.931Z"
   },
   {
    "duration": 30,
    "start_time": "2023-07-15T16:01:48.937Z"
   },
   {
    "duration": 28,
    "start_time": "2023-07-15T16:01:48.968Z"
   },
   {
    "duration": 29,
    "start_time": "2023-07-15T16:01:48.997Z"
   },
   {
    "duration": 29,
    "start_time": "2023-07-15T16:01:49.028Z"
   },
   {
    "duration": 20,
    "start_time": "2023-07-15T16:01:49.059Z"
   },
   {
    "duration": 14,
    "start_time": "2023-07-15T16:01:49.081Z"
   },
   {
    "duration": 23,
    "start_time": "2023-07-15T16:01:49.098Z"
   },
   {
    "duration": 12,
    "start_time": "2023-07-15T16:01:49.123Z"
   },
   {
    "duration": 22,
    "start_time": "2023-07-15T16:01:49.136Z"
   },
   {
    "duration": 54,
    "start_time": "2023-07-15T16:01:49.160Z"
   },
   {
    "duration": 5,
    "start_time": "2023-07-15T16:01:49.216Z"
   },
   {
    "duration": 28,
    "start_time": "2023-07-15T16:01:49.222Z"
   },
   {
    "duration": 81,
    "start_time": "2023-07-15T16:01:49.252Z"
   },
   {
    "duration": 0,
    "start_time": "2023-07-15T16:01:49.335Z"
   },
   {
    "duration": 0,
    "start_time": "2023-07-15T16:01:49.336Z"
   },
   {
    "duration": 4,
    "start_time": "2023-07-15T16:06:30.799Z"
   },
   {
    "duration": 7,
    "start_time": "2023-07-15T16:06:32.141Z"
   },
   {
    "duration": 4,
    "start_time": "2023-07-15T16:09:38.431Z"
   },
   {
    "duration": 7,
    "start_time": "2023-07-15T16:09:39.168Z"
   },
   {
    "duration": 3695,
    "start_time": "2023-07-15T16:10:21.851Z"
   },
   {
    "duration": 43,
    "start_time": "2023-07-15T16:10:25.548Z"
   },
   {
    "duration": 27,
    "start_time": "2023-07-15T16:10:25.593Z"
   },
   {
    "duration": 16,
    "start_time": "2023-07-15T16:10:25.622Z"
   },
   {
    "duration": 947,
    "start_time": "2023-07-15T16:10:25.641Z"
   },
   {
    "duration": 1126,
    "start_time": "2023-07-15T16:10:26.590Z"
   },
   {
    "duration": 4,
    "start_time": "2023-07-15T16:10:27.718Z"
   },
   {
    "duration": 21,
    "start_time": "2023-07-15T16:10:27.724Z"
   },
   {
    "duration": 18,
    "start_time": "2023-07-15T16:10:27.747Z"
   },
   {
    "duration": 31,
    "start_time": "2023-07-15T16:10:27.767Z"
   },
   {
    "duration": 13,
    "start_time": "2023-07-15T16:10:27.800Z"
   },
   {
    "duration": 5,
    "start_time": "2023-07-15T16:10:27.815Z"
   },
   {
    "duration": 5,
    "start_time": "2023-07-15T16:10:27.822Z"
   },
   {
    "duration": 13,
    "start_time": "2023-07-15T16:10:27.831Z"
   },
   {
    "duration": 10,
    "start_time": "2023-07-15T16:10:27.846Z"
   },
   {
    "duration": 11,
    "start_time": "2023-07-15T16:10:27.858Z"
   },
   {
    "duration": 53,
    "start_time": "2023-07-15T16:10:27.870Z"
   },
   {
    "duration": 23,
    "start_time": "2023-07-15T16:10:27.925Z"
   },
   {
    "duration": 61,
    "start_time": "2023-07-15T16:10:27.950Z"
   },
   {
    "duration": 0,
    "start_time": "2023-07-15T16:10:28.013Z"
   },
   {
    "duration": 0,
    "start_time": "2023-07-15T16:10:28.015Z"
   },
   {
    "duration": 2419,
    "start_time": "2023-07-15T16:31:58.370Z"
   },
   {
    "duration": 8,
    "start_time": "2023-07-15T17:41:39.364Z"
   },
   {
    "duration": 195,
    "start_time": "2023-07-15T17:41:40.514Z"
   },
   {
    "duration": 3878,
    "start_time": "2023-07-15T17:42:04.664Z"
   },
   {
    "duration": 41,
    "start_time": "2023-07-15T17:42:08.547Z"
   },
   {
    "duration": 30,
    "start_time": "2023-07-15T17:42:08.590Z"
   },
   {
    "duration": 20,
    "start_time": "2023-07-15T17:42:08.622Z"
   },
   {
    "duration": 964,
    "start_time": "2023-07-15T17:42:08.644Z"
   },
   {
    "duration": 1220,
    "start_time": "2023-07-15T17:42:09.613Z"
   },
   {
    "duration": 5,
    "start_time": "2023-07-15T17:42:10.835Z"
   },
   {
    "duration": 13,
    "start_time": "2023-07-15T17:42:10.841Z"
   },
   {
    "duration": 24,
    "start_time": "2023-07-15T17:42:10.856Z"
   },
   {
    "duration": 41,
    "start_time": "2023-07-15T17:42:10.882Z"
   },
   {
    "duration": 19,
    "start_time": "2023-07-15T17:42:10.925Z"
   },
   {
    "duration": 7,
    "start_time": "2023-07-15T17:42:10.947Z"
   },
   {
    "duration": 22,
    "start_time": "2023-07-15T17:42:10.956Z"
   },
   {
    "duration": 7,
    "start_time": "2023-07-15T17:42:10.981Z"
   },
   {
    "duration": 14,
    "start_time": "2023-07-15T17:42:10.989Z"
   },
   {
    "duration": 54,
    "start_time": "2023-07-15T17:42:11.005Z"
   },
   {
    "duration": 44,
    "start_time": "2023-07-15T17:42:11.061Z"
   },
   {
    "duration": 45,
    "start_time": "2023-07-15T17:42:11.107Z"
   },
   {
    "duration": 6,
    "start_time": "2023-07-15T17:42:11.154Z"
   },
   {
    "duration": 140,
    "start_time": "2023-07-15T17:42:11.162Z"
   },
   {
    "duration": 0,
    "start_time": "2023-07-15T17:42:11.304Z"
   },
   {
    "duration": 0,
    "start_time": "2023-07-15T17:42:11.306Z"
   },
   {
    "duration": 0,
    "start_time": "2023-07-15T17:42:11.313Z"
   },
   {
    "duration": 0,
    "start_time": "2023-07-15T17:42:11.314Z"
   },
   {
    "duration": 2326,
    "start_time": "2023-07-15T17:43:06.962Z"
   },
   {
    "duration": 4020,
    "start_time": "2023-07-15T17:43:13.080Z"
   },
   {
    "duration": 66,
    "start_time": "2023-07-15T17:43:17.102Z"
   },
   {
    "duration": 26,
    "start_time": "2023-07-15T17:43:17.170Z"
   },
   {
    "duration": 25,
    "start_time": "2023-07-15T17:43:17.198Z"
   },
   {
    "duration": 871,
    "start_time": "2023-07-15T17:43:17.226Z"
   },
   {
    "duration": 1341,
    "start_time": "2023-07-15T17:43:18.099Z"
   },
   {
    "duration": 6,
    "start_time": "2023-07-15T17:43:19.442Z"
   },
   {
    "duration": 14,
    "start_time": "2023-07-15T17:43:19.449Z"
   },
   {
    "duration": 9,
    "start_time": "2023-07-15T17:43:19.464Z"
   },
   {
    "duration": 19,
    "start_time": "2023-07-15T17:43:19.475Z"
   },
   {
    "duration": 33,
    "start_time": "2023-07-15T17:43:19.496Z"
   },
   {
    "duration": 10,
    "start_time": "2023-07-15T17:43:19.530Z"
   },
   {
    "duration": 4,
    "start_time": "2023-07-15T17:43:19.543Z"
   },
   {
    "duration": 5,
    "start_time": "2023-07-15T17:43:19.549Z"
   },
   {
    "duration": 9,
    "start_time": "2023-07-15T17:43:19.556Z"
   },
   {
    "duration": 11,
    "start_time": "2023-07-15T17:43:19.567Z"
   },
   {
    "duration": 76,
    "start_time": "2023-07-15T17:43:19.579Z"
   },
   {
    "duration": 27,
    "start_time": "2023-07-15T17:43:19.658Z"
   },
   {
    "duration": 7,
    "start_time": "2023-07-15T17:43:19.687Z"
   },
   {
    "duration": 23,
    "start_time": "2023-07-15T17:43:19.696Z"
   },
   {
    "duration": 9,
    "start_time": "2023-07-15T17:43:19.721Z"
   },
   {
    "duration": 74,
    "start_time": "2023-07-15T17:43:19.732Z"
   },
   {
    "duration": 0,
    "start_time": "2023-07-15T17:43:19.808Z"
   },
   {
    "duration": 0,
    "start_time": "2023-07-15T17:43:19.810Z"
   },
   {
    "duration": 117,
    "start_time": "2023-07-15T19:07:41.398Z"
   },
   {
    "duration": 3378,
    "start_time": "2023-07-15T19:07:51.593Z"
   },
   {
    "duration": 41,
    "start_time": "2023-07-15T19:07:54.973Z"
   },
   {
    "duration": 25,
    "start_time": "2023-07-15T19:07:55.016Z"
   },
   {
    "duration": 22,
    "start_time": "2023-07-15T19:07:55.043Z"
   },
   {
    "duration": 902,
    "start_time": "2023-07-15T19:07:55.066Z"
   },
   {
    "duration": 1127,
    "start_time": "2023-07-15T19:07:55.969Z"
   },
   {
    "duration": 4,
    "start_time": "2023-07-15T19:07:57.097Z"
   },
   {
    "duration": 6,
    "start_time": "2023-07-15T19:07:57.114Z"
   },
   {
    "duration": 8,
    "start_time": "2023-07-15T19:07:57.122Z"
   },
   {
    "duration": 19,
    "start_time": "2023-07-15T19:07:57.132Z"
   },
   {
    "duration": 9,
    "start_time": "2023-07-15T19:07:57.152Z"
   },
   {
    "duration": 3,
    "start_time": "2023-07-15T19:07:57.162Z"
   },
   {
    "duration": 9,
    "start_time": "2023-07-15T19:07:57.166Z"
   },
   {
    "duration": 4,
    "start_time": "2023-07-15T19:07:57.176Z"
   },
   {
    "duration": 6,
    "start_time": "2023-07-15T19:07:57.214Z"
   },
   {
    "duration": 16,
    "start_time": "2023-07-15T19:07:57.222Z"
   },
   {
    "duration": 31,
    "start_time": "2023-07-15T19:07:57.240Z"
   },
   {
    "duration": 49,
    "start_time": "2023-07-15T19:07:57.272Z"
   },
   {
    "duration": 5,
    "start_time": "2023-07-15T19:07:57.323Z"
   },
   {
    "duration": 10,
    "start_time": "2023-07-15T19:07:57.330Z"
   },
   {
    "duration": 137,
    "start_time": "2023-07-15T19:07:57.342Z"
   },
   {
    "duration": 0,
    "start_time": "2023-07-15T19:07:57.480Z"
   },
   {
    "duration": 0,
    "start_time": "2023-07-15T19:07:57.482Z"
   },
   {
    "duration": 0,
    "start_time": "2023-07-15T19:07:57.483Z"
   },
   {
    "duration": 18,
    "start_time": "2023-07-15T19:09:25.911Z"
   },
   {
    "duration": 28,
    "start_time": "2023-07-15T19:13:35.982Z"
   },
   {
    "duration": 3295,
    "start_time": "2023-07-15T19:13:49.765Z"
   },
   {
    "duration": 40,
    "start_time": "2023-07-15T19:13:53.062Z"
   },
   {
    "duration": 25,
    "start_time": "2023-07-15T19:13:53.104Z"
   },
   {
    "duration": 12,
    "start_time": "2023-07-15T19:13:53.131Z"
   },
   {
    "duration": 917,
    "start_time": "2023-07-15T19:13:53.145Z"
   },
   {
    "duration": 1139,
    "start_time": "2023-07-15T19:13:54.064Z"
   },
   {
    "duration": 11,
    "start_time": "2023-07-15T19:13:55.205Z"
   },
   {
    "duration": 10,
    "start_time": "2023-07-15T19:13:55.218Z"
   },
   {
    "duration": 17,
    "start_time": "2023-07-15T19:13:55.229Z"
   },
   {
    "duration": 20,
    "start_time": "2023-07-15T19:13:55.248Z"
   },
   {
    "duration": 9,
    "start_time": "2023-07-15T19:13:55.270Z"
   },
   {
    "duration": 4,
    "start_time": "2023-07-15T19:13:55.281Z"
   },
   {
    "duration": 4,
    "start_time": "2023-07-15T19:13:55.314Z"
   },
   {
    "duration": 4,
    "start_time": "2023-07-15T19:13:55.322Z"
   },
   {
    "duration": 8,
    "start_time": "2023-07-15T19:13:55.327Z"
   },
   {
    "duration": 17,
    "start_time": "2023-07-15T19:13:55.337Z"
   },
   {
    "duration": 57,
    "start_time": "2023-07-15T19:13:55.356Z"
   },
   {
    "duration": 23,
    "start_time": "2023-07-15T19:13:55.415Z"
   },
   {
    "duration": 5,
    "start_time": "2023-07-15T19:13:55.439Z"
   },
   {
    "duration": 15,
    "start_time": "2023-07-15T19:13:55.445Z"
   },
   {
    "duration": 52,
    "start_time": "2023-07-15T19:13:55.462Z"
   },
   {
    "duration": 67,
    "start_time": "2023-07-15T19:13:55.515Z"
   },
   {
    "duration": 0,
    "start_time": "2023-07-15T19:13:55.584Z"
   },
   {
    "duration": 0,
    "start_time": "2023-07-15T19:13:55.586Z"
   },
   {
    "duration": 28,
    "start_time": "2023-07-15T19:15:18.603Z"
   },
   {
    "duration": 33,
    "start_time": "2023-07-15T19:16:57.272Z"
   },
   {
    "duration": 10,
    "start_time": "2023-07-15T19:17:53.621Z"
   },
   {
    "duration": 24,
    "start_time": "2023-07-15T19:18:29.282Z"
   },
   {
    "duration": 30,
    "start_time": "2023-07-15T19:18:45.172Z"
   },
   {
    "duration": 43,
    "start_time": "2023-07-15T19:19:09.722Z"
   },
   {
    "duration": 77,
    "start_time": "2023-07-15T19:19:15.772Z"
   },
   {
    "duration": 10,
    "start_time": "2023-07-15T19:27:31.961Z"
   },
   {
    "duration": 4,
    "start_time": "2023-07-15T19:27:49.482Z"
   },
   {
    "duration": 1044,
    "start_time": "2023-07-15T19:27:50.397Z"
   },
   {
    "duration": 3519,
    "start_time": "2023-07-15T19:28:50.962Z"
   },
   {
    "duration": 43,
    "start_time": "2023-07-15T19:28:54.483Z"
   },
   {
    "duration": 29,
    "start_time": "2023-07-15T19:28:54.527Z"
   },
   {
    "duration": 14,
    "start_time": "2023-07-15T19:28:54.558Z"
   },
   {
    "duration": 889,
    "start_time": "2023-07-15T19:28:54.574Z"
   },
   {
    "duration": 1238,
    "start_time": "2023-07-15T19:28:55.465Z"
   },
   {
    "duration": 10,
    "start_time": "2023-07-15T19:28:56.705Z"
   },
   {
    "duration": 9,
    "start_time": "2023-07-15T19:28:56.717Z"
   },
   {
    "duration": 13,
    "start_time": "2023-07-15T19:28:56.728Z"
   },
   {
    "duration": 27,
    "start_time": "2023-07-15T19:28:56.743Z"
   },
   {
    "duration": 11,
    "start_time": "2023-07-15T19:28:56.771Z"
   },
   {
    "duration": 4,
    "start_time": "2023-07-15T19:28:56.783Z"
   },
   {
    "duration": 25,
    "start_time": "2023-07-15T19:28:56.788Z"
   },
   {
    "duration": 9,
    "start_time": "2023-07-15T19:28:56.816Z"
   },
   {
    "duration": 12,
    "start_time": "2023-07-15T19:28:56.827Z"
   },
   {
    "duration": 14,
    "start_time": "2023-07-15T19:28:56.841Z"
   },
   {
    "duration": 29,
    "start_time": "2023-07-15T19:28:56.856Z"
   },
   {
    "duration": 34,
    "start_time": "2023-07-15T19:28:56.887Z"
   },
   {
    "duration": 5,
    "start_time": "2023-07-15T19:28:56.922Z"
   },
   {
    "duration": 10,
    "start_time": "2023-07-15T19:28:56.928Z"
   },
   {
    "duration": 33,
    "start_time": "2023-07-15T19:28:56.939Z"
   },
   {
    "duration": 58,
    "start_time": "2023-07-15T19:28:56.973Z"
   },
   {
    "duration": 0,
    "start_time": "2023-07-15T19:28:57.033Z"
   },
   {
    "duration": 0,
    "start_time": "2023-07-15T19:28:57.035Z"
   },
   {
    "duration": 32,
    "start_time": "2023-07-15T19:29:42.285Z"
   },
   {
    "duration": 4,
    "start_time": "2023-07-15T19:30:13.818Z"
   },
   {
    "duration": 36,
    "start_time": "2023-07-15T19:31:54.167Z"
   },
   {
    "duration": 4,
    "start_time": "2023-07-15T19:33:28.140Z"
   },
   {
    "duration": 3,
    "start_time": "2023-07-15T20:05:04.657Z"
   },
   {
    "duration": 2,
    "start_time": "2023-07-15T20:05:05.818Z"
   },
   {
    "duration": 3,
    "start_time": "2023-07-15T20:05:06.370Z"
   },
   {
    "duration": 5004,
    "start_time": "2023-07-16T07:18:44.516Z"
   },
   {
    "duration": 2147,
    "start_time": "2023-07-16T07:30:34.176Z"
   },
   {
    "duration": 118,
    "start_time": "2023-07-16T07:41:34.661Z"
   },
   {
    "duration": 3648,
    "start_time": "2023-07-16T07:41:42.735Z"
   },
   {
    "duration": 80,
    "start_time": "2023-07-16T07:41:46.386Z"
   },
   {
    "duration": 27,
    "start_time": "2023-07-16T07:41:46.467Z"
   },
   {
    "duration": 15,
    "start_time": "2023-07-16T07:41:46.496Z"
   },
   {
    "duration": 907,
    "start_time": "2023-07-16T07:41:46.516Z"
   },
   {
    "duration": 1220,
    "start_time": "2023-07-16T07:41:47.425Z"
   },
   {
    "duration": 7,
    "start_time": "2023-07-16T07:41:48.647Z"
   },
   {
    "duration": 23,
    "start_time": "2023-07-16T07:41:48.655Z"
   },
   {
    "duration": 11,
    "start_time": "2023-07-16T07:41:48.680Z"
   },
   {
    "duration": 22,
    "start_time": "2023-07-16T07:41:48.692Z"
   },
   {
    "duration": 19,
    "start_time": "2023-07-16T07:41:48.716Z"
   },
   {
    "duration": 4,
    "start_time": "2023-07-16T07:41:48.737Z"
   },
   {
    "duration": 11,
    "start_time": "2023-07-16T07:41:48.742Z"
   },
   {
    "duration": 8,
    "start_time": "2023-07-16T07:41:48.756Z"
   },
   {
    "duration": 113,
    "start_time": "2023-07-16T07:41:48.766Z"
   },
   {
    "duration": 30,
    "start_time": "2023-07-16T07:41:48.881Z"
   },
   {
    "duration": 50,
    "start_time": "2023-07-16T07:41:48.912Z"
   },
   {
    "duration": 3,
    "start_time": "2023-07-16T07:41:48.964Z"
   },
   {
    "duration": 8,
    "start_time": "2023-07-16T07:41:48.969Z"
   },
   {
    "duration": 19,
    "start_time": "2023-07-16T07:41:48.979Z"
   },
   {
    "duration": 54,
    "start_time": "2023-07-16T07:41:49.000Z"
   },
   {
    "duration": 1503,
    "start_time": "2023-07-16T07:41:49.055Z"
   },
   {
    "duration": 92,
    "start_time": "2023-07-16T07:41:50.560Z"
   },
   {
    "duration": 96,
    "start_time": "2023-07-16T07:41:50.657Z"
   },
   {
    "duration": 90,
    "start_time": "2023-07-16T07:41:50.754Z"
   },
   {
    "duration": 677,
    "start_time": "2023-07-16T07:42:14.880Z"
   },
   {
    "duration": 1962,
    "start_time": "2023-07-16T07:42:26.494Z"
   },
   {
    "duration": 3485,
    "start_time": "2023-07-16T07:42:33.171Z"
   },
   {
    "duration": 1213,
    "start_time": "2023-07-16T07:43:14.754Z"
   },
   {
    "duration": 2197,
    "start_time": "2023-07-16T07:49:12.636Z"
   },
   {
    "duration": 1036,
    "start_time": "2023-07-16T07:53:40.819Z"
   },
   {
    "duration": 3766,
    "start_time": "2023-07-16T07:53:56.434Z"
   },
   {
    "duration": 42,
    "start_time": "2023-07-16T07:54:00.202Z"
   },
   {
    "duration": 32,
    "start_time": "2023-07-16T07:54:00.246Z"
   },
   {
    "duration": 41,
    "start_time": "2023-07-16T07:54:00.279Z"
   },
   {
    "duration": 905,
    "start_time": "2023-07-16T07:54:00.323Z"
   },
   {
    "duration": 1141,
    "start_time": "2023-07-16T07:54:01.230Z"
   },
   {
    "duration": 5,
    "start_time": "2023-07-16T07:54:02.375Z"
   },
   {
    "duration": 29,
    "start_time": "2023-07-16T07:54:02.383Z"
   },
   {
    "duration": 29,
    "start_time": "2023-07-16T07:54:02.414Z"
   },
   {
    "duration": 55,
    "start_time": "2023-07-16T07:54:02.445Z"
   },
   {
    "duration": 34,
    "start_time": "2023-07-16T07:54:02.502Z"
   },
   {
    "duration": 23,
    "start_time": "2023-07-16T07:54:02.538Z"
   },
   {
    "duration": 13,
    "start_time": "2023-07-16T07:54:02.563Z"
   },
   {
    "duration": 17,
    "start_time": "2023-07-16T07:54:02.579Z"
   },
   {
    "duration": 123,
    "start_time": "2023-07-16T07:54:02.597Z"
   },
   {
    "duration": 37,
    "start_time": "2023-07-16T07:54:02.722Z"
   },
   {
    "duration": 24,
    "start_time": "2023-07-16T07:54:02.761Z"
   },
   {
    "duration": 5,
    "start_time": "2023-07-16T07:54:02.788Z"
   },
   {
    "duration": 14,
    "start_time": "2023-07-16T07:54:02.796Z"
   },
   {
    "duration": 25,
    "start_time": "2023-07-16T07:54:02.812Z"
   },
   {
    "duration": 54,
    "start_time": "2023-07-16T07:54:02.839Z"
   },
   {
    "duration": 1290,
    "start_time": "2023-07-16T07:54:02.895Z"
   },
   {
    "duration": 0,
    "start_time": "2023-07-16T07:54:04.188Z"
   },
   {
    "duration": 0,
    "start_time": "2023-07-16T07:54:04.190Z"
   },
   {
    "duration": 0,
    "start_time": "2023-07-16T07:54:04.192Z"
   },
   {
    "duration": 2252,
    "start_time": "2023-07-16T07:55:10.214Z"
   },
   {
    "duration": 917,
    "start_time": "2023-07-16T07:55:17.541Z"
   },
   {
    "duration": 1052,
    "start_time": "2023-07-16T07:55:57.714Z"
   },
   {
    "duration": 1159,
    "start_time": "2023-07-16T07:56:32.594Z"
   },
   {
    "duration": 643,
    "start_time": "2023-07-16T07:56:39.130Z"
   },
   {
    "duration": 788,
    "start_time": "2023-07-16T07:57:33.278Z"
   },
   {
    "duration": 1203,
    "start_time": "2023-07-16T07:57:39.058Z"
   },
   {
    "duration": 16,
    "start_time": "2023-07-16T08:19:51.433Z"
   },
   {
    "duration": 51,
    "start_time": "2023-07-16T08:20:12.362Z"
   },
   {
    "duration": 50,
    "start_time": "2023-07-16T08:20:29.053Z"
   },
   {
    "duration": 249,
    "start_time": "2023-07-16T08:20:36.183Z"
   },
   {
    "duration": 227,
    "start_time": "2023-07-16T08:21:07.922Z"
   },
   {
    "duration": 230,
    "start_time": "2023-07-16T08:23:55.884Z"
   },
   {
    "duration": 265,
    "start_time": "2023-07-16T08:25:58.134Z"
   },
   {
    "duration": 8,
    "start_time": "2023-07-16T08:26:13.782Z"
   },
   {
    "duration": 249,
    "start_time": "2023-07-16T08:59:36.990Z"
   },
   {
    "duration": 1025,
    "start_time": "2023-07-16T08:59:57.850Z"
   },
   {
    "duration": 46789,
    "start_time": "2023-07-16T09:22:13.201Z"
   },
   {
    "duration": 100621,
    "start_time": "2023-07-16T09:30:16.710Z"
   },
   {
    "duration": 3778,
    "start_time": "2023-07-16T09:38:37.714Z"
   },
   {
    "duration": 43,
    "start_time": "2023-07-16T09:38:41.495Z"
   },
   {
    "duration": 49,
    "start_time": "2023-07-16T09:38:41.540Z"
   },
   {
    "duration": 27,
    "start_time": "2023-07-16T09:38:41.591Z"
   },
   {
    "duration": 885,
    "start_time": "2023-07-16T09:38:41.621Z"
   },
   {
    "duration": 1147,
    "start_time": "2023-07-16T09:38:42.507Z"
   },
   {
    "duration": 4,
    "start_time": "2023-07-16T09:38:43.656Z"
   },
   {
    "duration": 9,
    "start_time": "2023-07-16T09:38:43.662Z"
   },
   {
    "duration": 12,
    "start_time": "2023-07-16T09:38:43.673Z"
   },
   {
    "duration": 40,
    "start_time": "2023-07-16T09:38:43.687Z"
   },
   {
    "duration": 22,
    "start_time": "2023-07-16T09:38:43.728Z"
   },
   {
    "duration": 4,
    "start_time": "2023-07-16T09:38:43.751Z"
   },
   {
    "duration": 8,
    "start_time": "2023-07-16T09:38:43.756Z"
   },
   {
    "duration": 24,
    "start_time": "2023-07-16T09:38:43.767Z"
   },
   {
    "duration": 96,
    "start_time": "2023-07-16T09:38:43.793Z"
   },
   {
    "duration": 29,
    "start_time": "2023-07-16T09:38:43.890Z"
   },
   {
    "duration": 37,
    "start_time": "2023-07-16T09:38:43.921Z"
   },
   {
    "duration": 3,
    "start_time": "2023-07-16T09:38:43.960Z"
   },
   {
    "duration": 8,
    "start_time": "2023-07-16T09:38:43.965Z"
   },
   {
    "duration": 9,
    "start_time": "2023-07-16T09:38:43.974Z"
   },
   {
    "duration": 35,
    "start_time": "2023-07-16T09:38:43.985Z"
   },
   {
    "duration": 1041,
    "start_time": "2023-07-16T09:38:44.022Z"
   },
   {
    "duration": 409,
    "start_time": "2023-07-16T09:38:45.065Z"
   },
   {
    "duration": 260304,
    "start_time": "2023-07-16T09:38:45.477Z"
   },
   {
    "duration": 162,
    "start_time": "2023-07-16T09:43:05.783Z"
   },
   {
    "duration": 3,
    "start_time": "2023-07-16T09:44:12.550Z"
   },
   {
    "duration": 3751,
    "start_time": "2023-07-16T09:44:19.644Z"
   },
   {
    "duration": 41,
    "start_time": "2023-07-16T09:44:23.397Z"
   },
   {
    "duration": 27,
    "start_time": "2023-07-16T09:44:23.439Z"
   },
   {
    "duration": 12,
    "start_time": "2023-07-16T09:44:23.468Z"
   },
   {
    "duration": 921,
    "start_time": "2023-07-16T09:44:23.482Z"
   },
   {
    "duration": 1151,
    "start_time": "2023-07-16T09:44:24.405Z"
   },
   {
    "duration": 4,
    "start_time": "2023-07-16T09:44:25.558Z"
   },
   {
    "duration": 18,
    "start_time": "2023-07-16T09:44:25.564Z"
   },
   {
    "duration": 17,
    "start_time": "2023-07-16T09:44:25.584Z"
   },
   {
    "duration": 21,
    "start_time": "2023-07-16T09:44:25.602Z"
   },
   {
    "duration": 26,
    "start_time": "2023-07-16T09:44:25.624Z"
   },
   {
    "duration": 135,
    "start_time": "2023-07-16T09:44:25.652Z"
   },
   {
    "duration": 1,
    "start_time": "2023-07-16T09:44:25.790Z"
   },
   {
    "duration": 0,
    "start_time": "2023-07-16T09:44:25.792Z"
   },
   {
    "duration": 0,
    "start_time": "2023-07-16T09:44:25.794Z"
   },
   {
    "duration": 0,
    "start_time": "2023-07-16T09:44:25.795Z"
   },
   {
    "duration": 0,
    "start_time": "2023-07-16T09:44:25.797Z"
   },
   {
    "duration": 0,
    "start_time": "2023-07-16T09:44:25.909Z"
   },
   {
    "duration": 0,
    "start_time": "2023-07-16T09:44:25.910Z"
   },
   {
    "duration": 0,
    "start_time": "2023-07-16T09:44:25.912Z"
   },
   {
    "duration": 0,
    "start_time": "2023-07-16T09:44:25.914Z"
   },
   {
    "duration": 0,
    "start_time": "2023-07-16T09:44:25.916Z"
   },
   {
    "duration": 0,
    "start_time": "2023-07-16T09:44:25.917Z"
   },
   {
    "duration": 0,
    "start_time": "2023-07-16T09:44:25.918Z"
   },
   {
    "duration": 0,
    "start_time": "2023-07-16T09:44:25.920Z"
   },
   {
    "duration": 251,
    "start_time": "2023-07-16T09:44:49.744Z"
   },
   {
    "duration": 3772,
    "start_time": "2023-07-16T09:45:08.105Z"
   },
   {
    "duration": 49,
    "start_time": "2023-07-16T09:45:11.879Z"
   },
   {
    "duration": 36,
    "start_time": "2023-07-16T09:45:11.930Z"
   },
   {
    "duration": 17,
    "start_time": "2023-07-16T09:45:11.969Z"
   },
   {
    "duration": 953,
    "start_time": "2023-07-16T09:45:11.990Z"
   },
   {
    "duration": 1220,
    "start_time": "2023-07-16T09:45:12.947Z"
   },
   {
    "duration": 5,
    "start_time": "2023-07-16T09:45:14.169Z"
   },
   {
    "duration": 11,
    "start_time": "2023-07-16T09:45:14.176Z"
   },
   {
    "duration": 10,
    "start_time": "2023-07-16T09:45:14.188Z"
   },
   {
    "duration": 31,
    "start_time": "2023-07-16T09:45:14.199Z"
   },
   {
    "duration": 32,
    "start_time": "2023-07-16T09:45:14.232Z"
   },
   {
    "duration": 150,
    "start_time": "2023-07-16T09:45:14.266Z"
   },
   {
    "duration": 0,
    "start_time": "2023-07-16T09:45:14.418Z"
   },
   {
    "duration": 0,
    "start_time": "2023-07-16T09:45:14.420Z"
   },
   {
    "duration": 0,
    "start_time": "2023-07-16T09:45:14.421Z"
   },
   {
    "duration": 0,
    "start_time": "2023-07-16T09:45:14.423Z"
   },
   {
    "duration": 0,
    "start_time": "2023-07-16T09:45:14.534Z"
   },
   {
    "duration": 0,
    "start_time": "2023-07-16T09:45:14.536Z"
   },
   {
    "duration": 0,
    "start_time": "2023-07-16T09:45:14.538Z"
   },
   {
    "duration": 0,
    "start_time": "2023-07-16T09:45:14.539Z"
   },
   {
    "duration": 0,
    "start_time": "2023-07-16T09:45:14.541Z"
   },
   {
    "duration": 0,
    "start_time": "2023-07-16T09:45:14.551Z"
   },
   {
    "duration": 0,
    "start_time": "2023-07-16T09:45:14.553Z"
   },
   {
    "duration": 0,
    "start_time": "2023-07-16T09:45:14.554Z"
   },
   {
    "duration": 0,
    "start_time": "2023-07-16T09:45:14.557Z"
   },
   {
    "duration": 10,
    "start_time": "2023-07-16T09:49:27.942Z"
   },
   {
    "duration": 3681,
    "start_time": "2023-07-16T09:49:35.988Z"
   },
   {
    "duration": 41,
    "start_time": "2023-07-16T09:49:39.671Z"
   },
   {
    "duration": 26,
    "start_time": "2023-07-16T09:49:39.714Z"
   },
   {
    "duration": 13,
    "start_time": "2023-07-16T09:49:39.742Z"
   },
   {
    "duration": 868,
    "start_time": "2023-07-16T09:49:39.757Z"
   },
   {
    "duration": 1186,
    "start_time": "2023-07-16T09:49:40.627Z"
   },
   {
    "duration": 4,
    "start_time": "2023-07-16T09:49:41.815Z"
   },
   {
    "duration": 127,
    "start_time": "2023-07-16T09:49:41.820Z"
   },
   {
    "duration": 0,
    "start_time": "2023-07-16T09:49:41.949Z"
   },
   {
    "duration": 0,
    "start_time": "2023-07-16T09:49:41.952Z"
   },
   {
    "duration": 0,
    "start_time": "2023-07-16T09:49:41.954Z"
   },
   {
    "duration": 0,
    "start_time": "2023-07-16T09:49:41.955Z"
   },
   {
    "duration": 0,
    "start_time": "2023-07-16T09:49:41.956Z"
   },
   {
    "duration": 0,
    "start_time": "2023-07-16T09:49:41.957Z"
   },
   {
    "duration": 0,
    "start_time": "2023-07-16T09:49:41.958Z"
   },
   {
    "duration": 0,
    "start_time": "2023-07-16T09:49:41.960Z"
   },
   {
    "duration": 0,
    "start_time": "2023-07-16T09:49:41.961Z"
   },
   {
    "duration": 0,
    "start_time": "2023-07-16T09:49:41.962Z"
   },
   {
    "duration": 0,
    "start_time": "2023-07-16T09:49:41.963Z"
   },
   {
    "duration": 0,
    "start_time": "2023-07-16T09:49:41.964Z"
   },
   {
    "duration": 0,
    "start_time": "2023-07-16T09:49:41.966Z"
   },
   {
    "duration": 0,
    "start_time": "2023-07-16T09:49:41.967Z"
   },
   {
    "duration": 0,
    "start_time": "2023-07-16T09:49:41.969Z"
   },
   {
    "duration": 0,
    "start_time": "2023-07-16T09:49:42.101Z"
   },
   {
    "duration": 0,
    "start_time": "2023-07-16T09:49:42.102Z"
   },
   {
    "duration": 16,
    "start_time": "2023-07-16T09:49:51.651Z"
   },
   {
    "duration": 13,
    "start_time": "2023-07-16T09:50:34.240Z"
   },
   {
    "duration": 7,
    "start_time": "2023-07-16T09:53:14.951Z"
   },
   {
    "duration": 10,
    "start_time": "2023-07-16T09:53:38.146Z"
   },
   {
    "duration": 8,
    "start_time": "2023-07-16T09:53:41.286Z"
   },
   {
    "duration": 7,
    "start_time": "2023-07-16T09:53:41.690Z"
   },
   {
    "duration": 9,
    "start_time": "2023-07-16T09:55:16.311Z"
   },
   {
    "duration": 8,
    "start_time": "2023-07-16T09:55:17.008Z"
   },
   {
    "duration": 4043,
    "start_time": "2023-07-16T09:55:24.950Z"
   },
   {
    "duration": 40,
    "start_time": "2023-07-16T09:55:28.996Z"
   },
   {
    "duration": 45,
    "start_time": "2023-07-16T09:55:29.038Z"
   },
   {
    "duration": 15,
    "start_time": "2023-07-16T09:55:29.085Z"
   },
   {
    "duration": 940,
    "start_time": "2023-07-16T09:55:29.102Z"
   },
   {
    "duration": 1175,
    "start_time": "2023-07-16T09:55:30.043Z"
   },
   {
    "duration": 4,
    "start_time": "2023-07-16T09:55:31.220Z"
   },
   {
    "duration": 25,
    "start_time": "2023-07-16T09:55:31.225Z"
   },
   {
    "duration": 134,
    "start_time": "2023-07-16T09:55:31.252Z"
   },
   {
    "duration": 48,
    "start_time": "2023-07-16T09:55:31.388Z"
   },
   {
    "duration": 77,
    "start_time": "2023-07-16T09:55:31.437Z"
   },
   {
    "duration": 38,
    "start_time": "2023-07-16T09:55:31.516Z"
   },
   {
    "duration": 133,
    "start_time": "2023-07-16T09:55:31.555Z"
   },
   {
    "duration": 92,
    "start_time": "2023-07-16T09:55:31.691Z"
   },
   {
    "duration": 292,
    "start_time": "2023-07-16T09:55:31.786Z"
   },
   {
    "duration": 32,
    "start_time": "2023-07-16T09:55:32.080Z"
   },
   {
    "duration": 44,
    "start_time": "2023-07-16T09:55:32.114Z"
   },
   {
    "duration": 50,
    "start_time": "2023-07-16T09:55:32.160Z"
   },
   {
    "duration": 38,
    "start_time": "2023-07-16T09:55:32.211Z"
   },
   {
    "duration": 74,
    "start_time": "2023-07-16T09:55:32.251Z"
   },
   {
    "duration": 89,
    "start_time": "2023-07-16T09:55:32.327Z"
   },
   {
    "duration": 845,
    "start_time": "2023-07-16T09:55:32.418Z"
   },
   {
    "duration": 325,
    "start_time": "2023-07-16T09:55:33.279Z"
   },
   {
    "duration": 291508,
    "start_time": "2023-07-16T09:55:33.606Z"
   },
   {
    "duration": 211,
    "start_time": "2023-07-16T10:00:25.116Z"
   },
   {
    "duration": 136875,
    "start_time": "2023-07-16T10:01:09.181Z"
   },
   {
    "duration": 86,
    "start_time": "2023-07-16T10:45:18.747Z"
   },
   {
    "duration": 6,
    "start_time": "2023-07-16T10:45:37.248Z"
   },
   {
    "duration": 126230,
    "start_time": "2023-07-16T10:46:13.555Z"
   },
   {
    "duration": 194,
    "start_time": "2023-07-16T10:50:21.260Z"
   },
   {
    "duration": 189,
    "start_time": "2023-07-16T10:50:36.699Z"
   },
   {
    "duration": 3645,
    "start_time": "2023-07-16T10:50:46.260Z"
   },
   {
    "duration": 41,
    "start_time": "2023-07-16T10:50:49.907Z"
   },
   {
    "duration": 27,
    "start_time": "2023-07-16T10:50:49.950Z"
   },
   {
    "duration": 14,
    "start_time": "2023-07-16T10:50:49.979Z"
   },
   {
    "duration": 914,
    "start_time": "2023-07-16T10:50:49.994Z"
   },
   {
    "duration": 1151,
    "start_time": "2023-07-16T10:50:50.910Z"
   },
   {
    "duration": 4,
    "start_time": "2023-07-16T10:50:52.063Z"
   },
   {
    "duration": 27,
    "start_time": "2023-07-16T10:50:52.069Z"
   },
   {
    "duration": 35,
    "start_time": "2023-07-16T10:50:52.098Z"
   },
   {
    "duration": 43,
    "start_time": "2023-07-16T10:50:52.137Z"
   },
   {
    "duration": 39,
    "start_time": "2023-07-16T10:50:52.182Z"
   },
   {
    "duration": 5,
    "start_time": "2023-07-16T10:50:52.223Z"
   },
   {
    "duration": 28,
    "start_time": "2023-07-16T10:50:52.229Z"
   },
   {
    "duration": 20,
    "start_time": "2023-07-16T10:50:52.259Z"
   },
   {
    "duration": 94,
    "start_time": "2023-07-16T10:50:52.281Z"
   },
   {
    "duration": 31,
    "start_time": "2023-07-16T10:50:52.377Z"
   },
   {
    "duration": 43,
    "start_time": "2023-07-16T10:50:52.410Z"
   },
   {
    "duration": 3,
    "start_time": "2023-07-16T10:50:52.455Z"
   },
   {
    "duration": 7,
    "start_time": "2023-07-16T10:50:52.460Z"
   },
   {
    "duration": 13,
    "start_time": "2023-07-16T10:50:52.469Z"
   },
   {
    "duration": 33,
    "start_time": "2023-07-16T10:50:52.484Z"
   },
   {
    "duration": 844,
    "start_time": "2023-07-16T10:50:52.519Z"
   },
   {
    "duration": 311,
    "start_time": "2023-07-16T10:50:53.451Z"
   },
   {
    "duration": 9325,
    "start_time": "2023-07-16T10:50:53.764Z"
   },
   {
    "duration": 108,
    "start_time": "2023-07-16T10:51:03.091Z"
   },
   {
    "duration": 80,
    "start_time": "2023-07-16T10:51:03.201Z"
   },
   {
    "duration": 0,
    "start_time": "2023-07-16T10:51:03.283Z"
   },
   {
    "duration": 0,
    "start_time": "2023-07-16T10:51:03.285Z"
   },
   {
    "duration": 17122,
    "start_time": "2023-07-16T10:51:09.308Z"
   },
   {
    "duration": 62376,
    "start_time": "2023-07-16T10:54:39.470Z"
   },
   {
    "duration": 662,
    "start_time": "2023-07-16T10:56:14.044Z"
   },
   {
    "duration": 3815,
    "start_time": "2023-07-16T10:56:36.003Z"
   },
   {
    "duration": 48,
    "start_time": "2023-07-16T10:56:39.821Z"
   },
   {
    "duration": 30,
    "start_time": "2023-07-16T10:56:39.871Z"
   },
   {
    "duration": 14,
    "start_time": "2023-07-16T10:56:39.902Z"
   },
   {
    "duration": 895,
    "start_time": "2023-07-16T10:56:39.918Z"
   },
   {
    "duration": 1240,
    "start_time": "2023-07-16T10:56:40.816Z"
   },
   {
    "duration": 8,
    "start_time": "2023-07-16T10:56:42.058Z"
   },
   {
    "duration": 14,
    "start_time": "2023-07-16T10:56:42.069Z"
   },
   {
    "duration": 8,
    "start_time": "2023-07-16T10:56:42.085Z"
   },
   {
    "duration": 21,
    "start_time": "2023-07-16T10:56:42.095Z"
   },
   {
    "duration": 9,
    "start_time": "2023-07-16T10:56:42.117Z"
   },
   {
    "duration": 27,
    "start_time": "2023-07-16T10:56:42.128Z"
   },
   {
    "duration": 8,
    "start_time": "2023-07-16T10:56:42.157Z"
   },
   {
    "duration": 15,
    "start_time": "2023-07-16T10:56:42.168Z"
   },
   {
    "duration": 106,
    "start_time": "2023-07-16T10:56:42.185Z"
   },
   {
    "duration": 32,
    "start_time": "2023-07-16T10:56:42.293Z"
   },
   {
    "duration": 50,
    "start_time": "2023-07-16T10:56:42.327Z"
   },
   {
    "duration": 6,
    "start_time": "2023-07-16T10:56:42.379Z"
   },
   {
    "duration": 6,
    "start_time": "2023-07-16T10:56:42.386Z"
   },
   {
    "duration": 12,
    "start_time": "2023-07-16T10:56:42.394Z"
   },
   {
    "duration": 65,
    "start_time": "2023-07-16T10:56:42.407Z"
   },
   {
    "duration": 900,
    "start_time": "2023-07-16T10:56:42.475Z"
   },
   {
    "duration": 305,
    "start_time": "2023-07-16T10:56:43.464Z"
   },
   {
    "duration": 57990,
    "start_time": "2023-07-16T10:56:43.771Z"
   },
   {
    "duration": 704,
    "start_time": "2023-07-16T10:57:41.763Z"
   },
   {
    "duration": 98,
    "start_time": "2023-07-16T10:57:42.470Z"
   },
   {
    "duration": 0,
    "start_time": "2023-07-16T10:57:42.570Z"
   },
   {
    "duration": 0,
    "start_time": "2023-07-16T10:57:42.571Z"
   },
   {
    "duration": 113105,
    "start_time": "2023-07-16T10:58:04.452Z"
   },
   {
    "duration": 575,
    "start_time": "2023-07-16T10:59:57.559Z"
   },
   {
    "duration": 258,
    "start_time": "2023-07-16T11:00:15.015Z"
   },
   {
    "duration": 543,
    "start_time": "2023-07-16T11:00:21.356Z"
   },
   {
    "duration": 576,
    "start_time": "2023-07-16T11:00:52.951Z"
   },
   {
    "duration": 488,
    "start_time": "2023-07-16T11:02:02.547Z"
   },
   {
    "duration": 69653,
    "start_time": "2023-07-16T11:02:43.620Z"
   },
   {
    "duration": 27393,
    "start_time": "2023-07-16T11:05:55.198Z"
   },
   {
    "duration": 3607,
    "start_time": "2023-07-16T11:08:23.256Z"
   },
   {
    "duration": 41,
    "start_time": "2023-07-16T11:08:26.865Z"
   },
   {
    "duration": 29,
    "start_time": "2023-07-16T11:08:26.908Z"
   },
   {
    "duration": 17,
    "start_time": "2023-07-16T11:08:26.940Z"
   },
   {
    "duration": 855,
    "start_time": "2023-07-16T11:08:26.959Z"
   },
   {
    "duration": 1213,
    "start_time": "2023-07-16T11:08:27.815Z"
   },
   {
    "duration": 3,
    "start_time": "2023-07-16T11:08:29.030Z"
   },
   {
    "duration": 23,
    "start_time": "2023-07-16T11:08:29.035Z"
   },
   {
    "duration": 20,
    "start_time": "2023-07-16T11:08:29.059Z"
   },
   {
    "duration": 24,
    "start_time": "2023-07-16T11:08:29.081Z"
   },
   {
    "duration": 27,
    "start_time": "2023-07-16T11:08:29.107Z"
   },
   {
    "duration": 3,
    "start_time": "2023-07-16T11:08:29.136Z"
   },
   {
    "duration": 32,
    "start_time": "2023-07-16T11:08:29.142Z"
   },
   {
    "duration": 24,
    "start_time": "2023-07-16T11:08:29.175Z"
   },
   {
    "duration": 93,
    "start_time": "2023-07-16T11:08:29.201Z"
   },
   {
    "duration": 33,
    "start_time": "2023-07-16T11:08:29.295Z"
   },
   {
    "duration": 38,
    "start_time": "2023-07-16T11:08:29.330Z"
   },
   {
    "duration": 4,
    "start_time": "2023-07-16T11:08:29.369Z"
   },
   {
    "duration": 33,
    "start_time": "2023-07-16T11:08:29.374Z"
   },
   {
    "duration": 32,
    "start_time": "2023-07-16T11:08:29.409Z"
   },
   {
    "duration": 41,
    "start_time": "2023-07-16T11:08:29.443Z"
   },
   {
    "duration": 970,
    "start_time": "2023-07-16T11:08:29.486Z"
   },
   {
    "duration": 301,
    "start_time": "2023-07-16T11:08:30.458Z"
   },
   {
    "duration": 53608,
    "start_time": "2023-07-16T11:08:30.761Z"
   },
   {
    "duration": 404,
    "start_time": "2023-07-16T11:09:24.371Z"
   },
   {
    "duration": 96,
    "start_time": "2023-07-16T11:09:24.777Z"
   },
   {
    "duration": 0,
    "start_time": "2023-07-16T11:09:24.875Z"
   },
   {
    "duration": 0,
    "start_time": "2023-07-16T11:09:24.876Z"
   },
   {
    "duration": 457,
    "start_time": "2023-07-16T11:12:38.112Z"
   },
   {
    "duration": 169,
    "start_time": "2023-07-16T11:16:12.632Z"
   },
   {
    "duration": 2156,
    "start_time": "2023-07-16T11:16:54.331Z"
   },
   {
    "duration": 58,
    "start_time": "2023-07-16T11:16:59.870Z"
   },
   {
    "duration": 2133,
    "start_time": "2023-07-16T11:18:10.598Z"
   },
   {
    "duration": 184,
    "start_time": "2023-07-16T11:18:24.371Z"
   },
   {
    "duration": 18,
    "start_time": "2023-07-16T11:20:19.645Z"
   },
   {
    "duration": 13,
    "start_time": "2023-07-16T11:26:34.794Z"
   },
   {
    "duration": 3780,
    "start_time": "2023-07-16T11:26:45.093Z"
   },
   {
    "duration": 40,
    "start_time": "2023-07-16T11:26:48.875Z"
   },
   {
    "duration": 27,
    "start_time": "2023-07-16T11:26:48.917Z"
   },
   {
    "duration": 15,
    "start_time": "2023-07-16T11:26:48.945Z"
   },
   {
    "duration": 863,
    "start_time": "2023-07-16T11:26:48.963Z"
   },
   {
    "duration": 1196,
    "start_time": "2023-07-16T11:26:49.827Z"
   },
   {
    "duration": 4,
    "start_time": "2023-07-16T11:26:51.024Z"
   },
   {
    "duration": 10,
    "start_time": "2023-07-16T11:26:51.030Z"
   },
   {
    "duration": 10,
    "start_time": "2023-07-16T11:26:51.052Z"
   },
   {
    "duration": 29,
    "start_time": "2023-07-16T11:26:51.064Z"
   },
   {
    "duration": 14,
    "start_time": "2023-07-16T11:26:51.095Z"
   },
   {
    "duration": 3,
    "start_time": "2023-07-16T11:26:51.111Z"
   },
   {
    "duration": 9,
    "start_time": "2023-07-16T11:26:51.116Z"
   },
   {
    "duration": 13,
    "start_time": "2023-07-16T11:26:51.128Z"
   },
   {
    "duration": 110,
    "start_time": "2023-07-16T11:26:51.153Z"
   },
   {
    "duration": 48,
    "start_time": "2023-07-16T11:26:51.266Z"
   },
   {
    "duration": 26,
    "start_time": "2023-07-16T11:26:51.316Z"
   },
   {
    "duration": 9,
    "start_time": "2023-07-16T11:26:51.344Z"
   },
   {
    "duration": 25,
    "start_time": "2023-07-16T11:26:51.355Z"
   },
   {
    "duration": 17,
    "start_time": "2023-07-16T11:26:51.382Z"
   },
   {
    "duration": 40,
    "start_time": "2023-07-16T11:26:51.401Z"
   },
   {
    "duration": 819,
    "start_time": "2023-07-16T11:26:51.442Z"
   },
   {
    "duration": 313,
    "start_time": "2023-07-16T11:26:52.264Z"
   },
   {
    "duration": 55880,
    "start_time": "2023-07-16T11:26:52.578Z"
   },
   {
    "duration": 478,
    "start_time": "2023-07-16T11:27:48.461Z"
   },
   {
    "duration": 272,
    "start_time": "2023-07-16T11:27:48.941Z"
   },
   {
    "duration": 84,
    "start_time": "2023-07-16T11:27:49.215Z"
   },
   {
    "duration": 0,
    "start_time": "2023-07-16T11:27:49.301Z"
   },
   {
    "duration": 157,
    "start_time": "2023-07-16T11:55:41.712Z"
   },
   {
    "duration": 2197,
    "start_time": "2023-07-16T11:56:51.951Z"
   },
   {
    "duration": 25,
    "start_time": "2023-07-16T11:56:57.662Z"
   },
   {
    "duration": 105,
    "start_time": "2023-07-16T11:59:27.749Z"
   },
   {
    "duration": 91,
    "start_time": "2023-07-16T12:00:10.363Z"
   },
   {
    "duration": 34,
    "start_time": "2023-07-16T12:00:14.914Z"
   },
   {
    "duration": 35,
    "start_time": "2023-07-16T12:00:20.453Z"
   },
   {
    "duration": 37,
    "start_time": "2023-07-16T12:00:27.003Z"
   },
   {
    "duration": 48,
    "start_time": "2023-07-16T12:01:41.152Z"
   },
   {
    "duration": 83,
    "start_time": "2023-07-16T12:02:20.170Z"
   },
   {
    "duration": 36,
    "start_time": "2023-07-16T12:02:29.014Z"
   },
   {
    "duration": 104,
    "start_time": "2023-07-16T12:02:39.061Z"
   },
   {
    "duration": 37,
    "start_time": "2023-07-16T12:02:53.119Z"
   },
   {
    "duration": 218,
    "start_time": "2023-07-16T12:02:57.835Z"
   },
   {
    "duration": 133,
    "start_time": "2023-07-16T12:03:02.527Z"
   },
   {
    "duration": 138,
    "start_time": "2023-07-16T12:03:07.315Z"
   },
   {
    "duration": 36,
    "start_time": "2023-07-16T12:03:12.099Z"
   },
   {
    "duration": 51,
    "start_time": "2023-07-16T12:03:17.907Z"
   },
   {
    "duration": 193,
    "start_time": "2023-07-16T12:03:23.761Z"
   },
   {
    "duration": 209,
    "start_time": "2023-07-16T12:03:30.251Z"
   },
   {
    "duration": 65,
    "start_time": "2023-07-16T12:03:34.708Z"
   },
   {
    "duration": 209,
    "start_time": "2023-07-16T12:05:25.054Z"
   },
   {
    "duration": 63,
    "start_time": "2023-07-16T12:07:53.603Z"
   },
   {
    "duration": 4006,
    "start_time": "2023-07-16T12:10:21.173Z"
   },
   {
    "duration": 44,
    "start_time": "2023-07-16T12:10:25.182Z"
   },
   {
    "duration": 31,
    "start_time": "2023-07-16T12:10:25.228Z"
   },
   {
    "duration": 33,
    "start_time": "2023-07-16T12:10:25.261Z"
   },
   {
    "duration": 834,
    "start_time": "2023-07-16T12:10:25.297Z"
   },
   {
    "duration": 1357,
    "start_time": "2023-07-16T12:10:26.133Z"
   },
   {
    "duration": 4,
    "start_time": "2023-07-16T12:10:27.491Z"
   },
   {
    "duration": 21,
    "start_time": "2023-07-16T12:10:27.497Z"
   },
   {
    "duration": 29,
    "start_time": "2023-07-16T12:10:27.520Z"
   },
   {
    "duration": 53,
    "start_time": "2023-07-16T12:10:27.553Z"
   },
   {
    "duration": 21,
    "start_time": "2023-07-16T12:10:27.608Z"
   },
   {
    "duration": 4,
    "start_time": "2023-07-16T12:10:27.632Z"
   },
   {
    "duration": 13,
    "start_time": "2023-07-16T12:10:27.638Z"
   },
   {
    "duration": 38,
    "start_time": "2023-07-16T12:10:27.657Z"
   },
   {
    "duration": 150,
    "start_time": "2023-07-16T12:10:27.697Z"
   },
   {
    "duration": 42,
    "start_time": "2023-07-16T12:10:27.849Z"
   },
   {
    "duration": 49,
    "start_time": "2023-07-16T12:10:27.893Z"
   },
   {
    "duration": 11,
    "start_time": "2023-07-16T12:10:27.944Z"
   },
   {
    "duration": 43,
    "start_time": "2023-07-16T12:10:27.957Z"
   },
   {
    "duration": 15,
    "start_time": "2023-07-16T12:10:28.003Z"
   },
   {
    "duration": 53,
    "start_time": "2023-07-16T12:10:28.021Z"
   },
   {
    "duration": 275,
    "start_time": "2023-07-16T12:10:28.081Z"
   },
   {
    "duration": 194,
    "start_time": "2023-07-16T12:10:28.360Z"
   },
   {
    "duration": 212,
    "start_time": "2023-07-16T12:10:28.556Z"
   },
   {
    "duration": 133,
    "start_time": "2023-07-16T12:10:28.771Z"
   },
   {
    "duration": 22,
    "start_time": "2023-07-16T12:10:28.906Z"
   },
   {
    "duration": 0,
    "start_time": "2023-07-16T12:10:28.930Z"
   },
   {
    "duration": 0,
    "start_time": "2023-07-16T12:10:28.931Z"
   },
   {
    "duration": 0,
    "start_time": "2023-07-16T12:10:28.933Z"
   },
   {
    "duration": 2062,
    "start_time": "2023-07-16T12:15:59.315Z"
   },
   {
    "duration": 5,
    "start_time": "2023-07-16T12:17:06.342Z"
   },
   {
    "duration": 4597,
    "start_time": "2023-07-16T12:17:13.916Z"
   },
   {
    "duration": 95,
    "start_time": "2023-07-16T12:17:18.518Z"
   },
   {
    "duration": 42,
    "start_time": "2023-07-16T12:17:18.615Z"
   },
   {
    "duration": 56,
    "start_time": "2023-07-16T12:17:18.659Z"
   },
   {
    "duration": 915,
    "start_time": "2023-07-16T12:17:18.719Z"
   },
   {
    "duration": 1310,
    "start_time": "2023-07-16T12:17:19.636Z"
   },
   {
    "duration": 18,
    "start_time": "2023-07-16T12:17:20.948Z"
   },
   {
    "duration": 34,
    "start_time": "2023-07-16T12:17:20.970Z"
   },
   {
    "duration": 89,
    "start_time": "2023-07-16T12:17:21.007Z"
   },
   {
    "duration": 54,
    "start_time": "2023-07-16T12:17:21.098Z"
   },
   {
    "duration": 65,
    "start_time": "2023-07-16T12:17:21.158Z"
   },
   {
    "duration": 34,
    "start_time": "2023-07-16T12:17:21.226Z"
   },
   {
    "duration": 81,
    "start_time": "2023-07-16T12:17:21.262Z"
   },
   {
    "duration": 102,
    "start_time": "2023-07-16T12:17:21.347Z"
   },
   {
    "duration": 136,
    "start_time": "2023-07-16T12:17:21.451Z"
   },
   {
    "duration": 59,
    "start_time": "2023-07-16T12:17:21.589Z"
   },
   {
    "duration": 50,
    "start_time": "2023-07-16T12:17:21.650Z"
   },
   {
    "duration": 17,
    "start_time": "2023-07-16T12:17:21.703Z"
   },
   {
    "duration": 20,
    "start_time": "2023-07-16T12:17:21.722Z"
   },
   {
    "duration": 59,
    "start_time": "2023-07-16T12:17:21.744Z"
   },
   {
    "duration": 87,
    "start_time": "2023-07-16T12:17:21.805Z"
   },
   {
    "duration": 1058,
    "start_time": "2023-07-16T12:17:21.894Z"
   },
   {
    "duration": 385,
    "start_time": "2023-07-16T12:17:22.959Z"
   },
   {
    "duration": 68079,
    "start_time": "2023-07-16T12:17:23.346Z"
   },
   {
    "duration": 360,
    "start_time": "2023-07-16T12:18:31.427Z"
   },
   {
    "duration": 254,
    "start_time": "2023-07-16T12:18:31.789Z"
   },
   {
    "duration": 108,
    "start_time": "2023-07-16T12:18:32.045Z"
   },
   {
    "duration": 127,
    "start_time": "2023-07-16T12:18:32.155Z"
   },
   {
    "duration": 0,
    "start_time": "2023-07-16T12:18:32.284Z"
   },
   {
    "duration": 52410,
    "start_time": "2023-07-16T12:20:46.604Z"
   },
   {
    "duration": 4279,
    "start_time": "2023-07-16T12:22:56.214Z"
   },
   {
    "duration": 46,
    "start_time": "2023-07-16T12:23:00.496Z"
   },
   {
    "duration": 51,
    "start_time": "2023-07-16T12:23:00.544Z"
   },
   {
    "duration": 32,
    "start_time": "2023-07-16T12:23:00.598Z"
   },
   {
    "duration": 921,
    "start_time": "2023-07-16T12:23:00.632Z"
   },
   {
    "duration": 1336,
    "start_time": "2023-07-16T12:23:01.558Z"
   },
   {
    "duration": 4,
    "start_time": "2023-07-16T12:23:02.897Z"
   },
   {
    "duration": 54,
    "start_time": "2023-07-16T12:23:02.903Z"
   },
   {
    "duration": 42,
    "start_time": "2023-07-16T12:23:02.959Z"
   },
   {
    "duration": 26,
    "start_time": "2023-07-16T12:23:03.004Z"
   },
   {
    "duration": 33,
    "start_time": "2023-07-16T12:23:03.032Z"
   },
   {
    "duration": 37,
    "start_time": "2023-07-16T12:23:03.067Z"
   },
   {
    "duration": 38,
    "start_time": "2023-07-16T12:23:03.106Z"
   },
   {
    "duration": 66,
    "start_time": "2023-07-16T12:23:03.147Z"
   },
   {
    "duration": 124,
    "start_time": "2023-07-16T12:23:03.215Z"
   },
   {
    "duration": 87,
    "start_time": "2023-07-16T12:23:03.341Z"
   },
   {
    "duration": 37,
    "start_time": "2023-07-16T12:23:03.432Z"
   },
   {
    "duration": 33,
    "start_time": "2023-07-16T12:23:03.471Z"
   },
   {
    "duration": 20,
    "start_time": "2023-07-16T12:23:03.507Z"
   },
   {
    "duration": 61,
    "start_time": "2023-07-16T12:23:03.530Z"
   },
   {
    "duration": 87,
    "start_time": "2023-07-16T12:23:03.594Z"
   },
   {
    "duration": 896,
    "start_time": "2023-07-16T12:23:03.683Z"
   },
   {
    "duration": 339,
    "start_time": "2023-07-16T12:23:04.588Z"
   },
   {
    "duration": 83891,
    "start_time": "2023-07-16T12:23:04.929Z"
   },
   {
    "duration": 377,
    "start_time": "2023-07-16T12:24:28.823Z"
   },
   {
    "duration": 312,
    "start_time": "2023-07-16T12:24:29.204Z"
   },
   {
    "duration": 66,
    "start_time": "2023-07-16T12:24:29.519Z"
   },
   {
    "duration": 143,
    "start_time": "2023-07-16T12:24:29.587Z"
   },
   {
    "duration": 0,
    "start_time": "2023-07-16T12:24:29.733Z"
   },
   {
    "duration": 8364,
    "start_time": "2023-07-16T12:24:51.384Z"
   },
   {
    "duration": 65951,
    "start_time": "2023-07-16T12:25:00.311Z"
   },
   {
    "duration": 82,
    "start_time": "2023-07-16T12:28:54.302Z"
   },
   {
    "duration": 129,
    "start_time": "2023-07-16T12:28:59.632Z"
   },
   {
    "duration": 49,
    "start_time": "2023-07-16T12:29:04.907Z"
   },
   {
    "duration": 124,
    "start_time": "2023-07-16T12:29:10.327Z"
   },
   {
    "duration": 85,
    "start_time": "2023-07-16T12:29:16.472Z"
   },
   {
    "duration": 54,
    "start_time": "2023-07-16T12:29:22.523Z"
   },
   {
    "duration": 112,
    "start_time": "2023-07-16T12:29:27.842Z"
   },
   {
    "duration": 43,
    "start_time": "2023-07-16T12:29:33.520Z"
   },
   {
    "duration": 47,
    "start_time": "2023-07-16T12:29:40.337Z"
   },
   {
    "duration": 55,
    "start_time": "2023-07-16T12:29:47.098Z"
   },
   {
    "duration": 79,
    "start_time": "2023-07-16T12:29:53.580Z"
   },
   {
    "duration": 129,
    "start_time": "2023-07-16T12:30:18.731Z"
   },
   {
    "duration": 110422,
    "start_time": "2023-07-16T12:43:40.376Z"
   },
   {
    "duration": 1275,
    "start_time": "2023-07-16T12:46:56.294Z"
   },
   {
    "duration": 6,
    "start_time": "2023-07-16T12:47:03.824Z"
   },
   {
    "duration": 1282,
    "start_time": "2023-07-16T12:47:14.238Z"
   },
   {
    "duration": 3639,
    "start_time": "2023-07-16T12:47:22.517Z"
   },
   {
    "duration": 41,
    "start_time": "2023-07-16T12:47:26.158Z"
   },
   {
    "duration": 29,
    "start_time": "2023-07-16T12:47:26.201Z"
   },
   {
    "duration": 60,
    "start_time": "2023-07-16T12:47:26.232Z"
   },
   {
    "duration": 931,
    "start_time": "2023-07-16T12:47:26.295Z"
   },
   {
    "duration": 1237,
    "start_time": "2023-07-16T12:47:27.228Z"
   },
   {
    "duration": 5,
    "start_time": "2023-07-16T12:47:28.467Z"
   },
   {
    "duration": 398,
    "start_time": "2023-07-16T12:47:28.474Z"
   },
   {
    "duration": 24,
    "start_time": "2023-07-16T12:47:28.874Z"
   },
   {
    "duration": 23,
    "start_time": "2023-07-16T12:47:28.900Z"
   },
   {
    "duration": 21,
    "start_time": "2023-07-16T12:47:28.925Z"
   },
   {
    "duration": 5,
    "start_time": "2023-07-16T12:47:28.948Z"
   },
   {
    "duration": 7,
    "start_time": "2023-07-16T12:47:28.955Z"
   },
   {
    "duration": 11,
    "start_time": "2023-07-16T12:47:28.964Z"
   },
   {
    "duration": 98,
    "start_time": "2023-07-16T12:47:28.977Z"
   },
   {
    "duration": 36,
    "start_time": "2023-07-16T12:47:29.077Z"
   },
   {
    "duration": 37,
    "start_time": "2023-07-16T12:47:29.116Z"
   },
   {
    "duration": 3,
    "start_time": "2023-07-16T12:47:29.155Z"
   },
   {
    "duration": 9,
    "start_time": "2023-07-16T12:47:29.160Z"
   },
   {
    "duration": 32,
    "start_time": "2023-07-16T12:47:29.171Z"
   },
   {
    "duration": 47,
    "start_time": "2023-07-16T12:47:29.205Z"
   },
   {
    "duration": 1110,
    "start_time": "2023-07-16T12:47:29.253Z"
   },
   {
    "duration": 342,
    "start_time": "2023-07-16T12:47:30.455Z"
   },
   {
    "duration": 117503,
    "start_time": "2023-07-16T12:47:30.799Z"
   },
   {
    "duration": 323,
    "start_time": "2023-07-16T12:49:28.304Z"
   },
   {
    "duration": 210,
    "start_time": "2023-07-16T12:49:28.629Z"
   },
   {
    "duration": 183,
    "start_time": "2023-07-16T12:49:28.955Z"
   },
   {
    "duration": 0,
    "start_time": "2023-07-16T12:49:29.140Z"
   },
   {
    "duration": 0,
    "start_time": "2023-07-16T12:49:29.141Z"
   },
   {
    "duration": 76,
    "start_time": "2023-07-16T12:52:57.075Z"
   },
   {
    "duration": 35,
    "start_time": "2023-07-16T12:57:33.836Z"
   },
   {
    "duration": 5164,
    "start_time": "2023-07-16T12:57:42.978Z"
   },
   {
    "duration": 42,
    "start_time": "2023-07-16T12:57:48.144Z"
   },
   {
    "duration": 30,
    "start_time": "2023-07-16T12:57:48.187Z"
   },
   {
    "duration": 22,
    "start_time": "2023-07-16T12:57:48.221Z"
   },
   {
    "duration": 874,
    "start_time": "2023-07-16T12:57:48.246Z"
   },
   {
    "duration": 1133,
    "start_time": "2023-07-16T12:57:49.121Z"
   },
   {
    "duration": 4,
    "start_time": "2023-07-16T12:57:50.256Z"
   },
   {
    "duration": 17,
    "start_time": "2023-07-16T12:57:50.261Z"
   },
   {
    "duration": 15,
    "start_time": "2023-07-16T12:57:50.281Z"
   },
   {
    "duration": 25,
    "start_time": "2023-07-16T12:57:50.298Z"
   },
   {
    "duration": 29,
    "start_time": "2023-07-16T12:57:50.325Z"
   },
   {
    "duration": 12,
    "start_time": "2023-07-16T12:57:50.355Z"
   },
   {
    "duration": 7,
    "start_time": "2023-07-16T12:57:50.369Z"
   },
   {
    "duration": 8,
    "start_time": "2023-07-16T12:57:50.379Z"
   },
   {
    "duration": 120,
    "start_time": "2023-07-16T12:57:50.389Z"
   },
   {
    "duration": 43,
    "start_time": "2023-07-16T12:57:50.510Z"
   },
   {
    "duration": 24,
    "start_time": "2023-07-16T12:57:50.554Z"
   },
   {
    "duration": 3,
    "start_time": "2023-07-16T12:57:50.580Z"
   },
   {
    "duration": 8,
    "start_time": "2023-07-16T12:57:50.585Z"
   },
   {
    "duration": 14,
    "start_time": "2023-07-16T12:57:50.596Z"
   },
   {
    "duration": 67,
    "start_time": "2023-07-16T12:57:50.612Z"
   },
   {
    "duration": 1073,
    "start_time": "2023-07-16T12:57:50.681Z"
   },
   {
    "duration": 343,
    "start_time": "2023-07-16T12:57:51.756Z"
   },
   {
    "duration": 111899,
    "start_time": "2023-07-16T12:57:52.101Z"
   },
   {
    "duration": 298,
    "start_time": "2023-07-16T12:59:44.003Z"
   },
   {
    "duration": 224,
    "start_time": "2023-07-16T12:59:44.303Z"
   },
   {
    "duration": 123,
    "start_time": "2023-07-16T12:59:44.529Z"
   },
   {
    "duration": 215,
    "start_time": "2023-07-16T12:59:44.654Z"
   },
   {
    "duration": 0,
    "start_time": "2023-07-16T12:59:44.871Z"
   },
   {
    "duration": 0,
    "start_time": "2023-07-16T12:59:44.872Z"
   },
   {
    "duration": 193,
    "start_time": "2023-07-16T13:00:58.860Z"
   },
   {
    "duration": 20,
    "start_time": "2023-07-16T13:01:02.612Z"
   },
   {
    "duration": 17,
    "start_time": "2023-07-16T13:01:21.695Z"
   },
   {
    "duration": 102,
    "start_time": "2023-07-16T13:03:45.132Z"
   },
   {
    "duration": 3739,
    "start_time": "2023-07-16T13:04:07.633Z"
   },
   {
    "duration": 42,
    "start_time": "2023-07-16T13:04:11.374Z"
   },
   {
    "duration": 29,
    "start_time": "2023-07-16T13:04:11.418Z"
   },
   {
    "duration": 13,
    "start_time": "2023-07-16T13:04:11.449Z"
   },
   {
    "duration": 835,
    "start_time": "2023-07-16T13:04:11.464Z"
   },
   {
    "duration": 1142,
    "start_time": "2023-07-16T13:04:12.300Z"
   },
   {
    "duration": 9,
    "start_time": "2023-07-16T13:04:13.444Z"
   },
   {
    "duration": 25,
    "start_time": "2023-07-16T13:04:13.455Z"
   },
   {
    "duration": 33,
    "start_time": "2023-07-16T13:04:13.482Z"
   },
   {
    "duration": 33,
    "start_time": "2023-07-16T13:04:13.517Z"
   },
   {
    "duration": 15,
    "start_time": "2023-07-16T13:04:13.552Z"
   },
   {
    "duration": 8,
    "start_time": "2023-07-16T13:04:13.569Z"
   },
   {
    "duration": 7,
    "start_time": "2023-07-16T13:04:13.579Z"
   },
   {
    "duration": 9,
    "start_time": "2023-07-16T13:04:13.588Z"
   },
   {
    "duration": 99,
    "start_time": "2023-07-16T13:04:13.598Z"
   },
   {
    "duration": 37,
    "start_time": "2023-07-16T13:04:13.699Z"
   },
   {
    "duration": 36,
    "start_time": "2023-07-16T13:04:13.737Z"
   },
   {
    "duration": 4,
    "start_time": "2023-07-16T13:04:13.774Z"
   },
   {
    "duration": 11,
    "start_time": "2023-07-16T13:04:13.780Z"
   },
   {
    "duration": 22,
    "start_time": "2023-07-16T13:04:13.793Z"
   },
   {
    "duration": 48,
    "start_time": "2023-07-16T13:04:13.817Z"
   },
   {
    "duration": 1187,
    "start_time": "2023-07-16T13:04:13.866Z"
   },
   {
    "duration": 348,
    "start_time": "2023-07-16T13:04:15.054Z"
   },
   {
    "duration": 116783,
    "start_time": "2023-07-16T13:04:15.404Z"
   },
   {
    "duration": 322,
    "start_time": "2023-07-16T13:06:12.192Z"
   },
   {
    "duration": 239,
    "start_time": "2023-07-16T13:06:12.516Z"
   },
   {
    "duration": 102,
    "start_time": "2023-07-16T13:06:12.757Z"
   },
   {
    "duration": 130,
    "start_time": "2023-07-16T13:06:12.862Z"
   },
   {
    "duration": 0,
    "start_time": "2023-07-16T13:06:12.995Z"
   },
   {
    "duration": 0,
    "start_time": "2023-07-16T13:06:12.996Z"
   },
   {
    "duration": 74,
    "start_time": "2023-07-16T13:08:38.698Z"
   },
   {
    "duration": 133,
    "start_time": "2023-07-16T13:08:49.498Z"
   },
   {
    "duration": 56411,
    "start_time": "2023-07-16T13:10:25.571Z"
   },
   {
    "duration": 64401,
    "start_time": "2023-07-16T13:11:32.351Z"
   },
   {
    "duration": 67751,
    "start_time": "2023-07-16T13:12:50.539Z"
   },
   {
    "duration": 153001,
    "start_time": "2023-07-16T13:17:42.598Z"
   },
   {
    "duration": 0,
    "start_time": "2023-07-16T13:21:35.153Z"
   },
   {
    "duration": 0,
    "start_time": "2023-07-16T13:21:35.154Z"
   },
   {
    "duration": 0,
    "start_time": "2023-07-16T13:21:35.158Z"
   },
   {
    "duration": 135956,
    "start_time": "2023-07-16T13:21:40.387Z"
   },
   {
    "duration": 160958,
    "start_time": "2023-07-16T13:24:06.065Z"
   },
   {
    "duration": 133714,
    "start_time": "2023-07-16T13:28:50.486Z"
   },
   {
    "duration": 77640,
    "start_time": "2023-07-16T13:32:08.474Z"
   },
   {
    "duration": 69062,
    "start_time": "2023-07-16T13:33:36.420Z"
   },
   {
    "duration": 58541,
    "start_time": "2023-07-16T13:35:12.602Z"
   },
   {
    "duration": 71927,
    "start_time": "2023-07-16T13:36:32.537Z"
   },
   {
    "duration": 76130,
    "start_time": "2023-07-16T13:37:57.750Z"
   },
   {
    "duration": 83688,
    "start_time": "2023-07-16T14:07:28.440Z"
   },
   {
    "duration": 83630,
    "start_time": "2023-07-16T14:09:01.492Z"
   },
   {
    "duration": 83118,
    "start_time": "2023-07-16T14:11:36.098Z"
   },
   {
    "duration": 80386,
    "start_time": "2023-07-16T14:13:54.138Z"
   },
   {
    "duration": 86997,
    "start_time": "2023-07-16T14:26:04.704Z"
   },
   {
    "duration": 82371,
    "start_time": "2023-07-16T14:27:46.399Z"
   },
   {
    "duration": 3438,
    "start_time": "2023-07-16T17:23:10.703Z"
   },
   {
    "duration": 40,
    "start_time": "2023-07-16T17:23:14.143Z"
   },
   {
    "duration": 25,
    "start_time": "2023-07-16T17:23:14.185Z"
   },
   {
    "duration": 13,
    "start_time": "2023-07-16T17:23:14.212Z"
   },
   {
    "duration": 872,
    "start_time": "2023-07-16T17:23:14.226Z"
   },
   {
    "duration": 1142,
    "start_time": "2023-07-16T17:23:15.100Z"
   },
   {
    "duration": 8,
    "start_time": "2023-07-16T17:23:16.244Z"
   },
   {
    "duration": 9,
    "start_time": "2023-07-16T17:23:16.254Z"
   },
   {
    "duration": 8,
    "start_time": "2023-07-16T17:23:16.265Z"
   },
   {
    "duration": 20,
    "start_time": "2023-07-16T17:23:16.275Z"
   },
   {
    "duration": 19,
    "start_time": "2023-07-16T17:23:16.297Z"
   },
   {
    "duration": 7,
    "start_time": "2023-07-16T17:23:16.317Z"
   },
   {
    "duration": 26,
    "start_time": "2023-07-16T17:23:16.326Z"
   },
   {
    "duration": 10,
    "start_time": "2023-07-16T17:23:16.354Z"
   },
   {
    "duration": 103,
    "start_time": "2023-07-16T17:23:16.366Z"
   },
   {
    "duration": 30,
    "start_time": "2023-07-16T17:23:16.471Z"
   },
   {
    "duration": 23,
    "start_time": "2023-07-16T17:23:16.503Z"
   },
   {
    "duration": 26,
    "start_time": "2023-07-16T17:23:16.528Z"
   },
   {
    "duration": 11,
    "start_time": "2023-07-16T17:23:16.555Z"
   },
   {
    "duration": 21,
    "start_time": "2023-07-16T17:23:16.578Z"
   },
   {
    "duration": 33,
    "start_time": "2023-07-16T17:23:16.601Z"
   },
   {
    "duration": 1118,
    "start_time": "2023-07-16T17:23:16.636Z"
   },
   {
    "duration": 323,
    "start_time": "2023-07-16T17:23:17.756Z"
   },
   {
    "duration": 110283,
    "start_time": "2023-07-16T17:23:18.080Z"
   },
   {
    "duration": 324,
    "start_time": "2023-07-16T17:25:08.365Z"
   },
   {
    "duration": 203,
    "start_time": "2023-07-16T17:25:08.691Z"
   },
   {
    "duration": 115371,
    "start_time": "2023-07-16T17:25:08.895Z"
   },
   {
    "duration": 79548,
    "start_time": "2023-07-16T17:27:04.269Z"
   },
   {
    "duration": 76,
    "start_time": "2023-07-16T17:28:23.819Z"
   },
   {
    "duration": 76,
    "start_time": "2023-07-16T17:28:23.897Z"
   },
   {
    "duration": 4164,
    "start_time": "2023-07-16T17:29:11.530Z"
   },
   {
    "duration": 39879,
    "start_time": "2023-07-16T17:29:16.592Z"
   },
   {
    "duration": 0,
    "start_time": "2023-07-16T17:29:56.474Z"
   },
   {
    "duration": 72,
    "start_time": "2023-07-16T17:29:57.647Z"
   },
   {
    "duration": 3584,
    "start_time": "2023-07-16T17:30:09.266Z"
   },
   {
    "duration": 41,
    "start_time": "2023-07-16T17:30:12.853Z"
   },
   {
    "duration": 27,
    "start_time": "2023-07-16T17:30:12.896Z"
   },
   {
    "duration": 13,
    "start_time": "2023-07-16T17:30:12.925Z"
   },
   {
    "duration": 864,
    "start_time": "2023-07-16T17:30:12.941Z"
   },
   {
    "duration": 1120,
    "start_time": "2023-07-16T17:30:13.807Z"
   },
   {
    "duration": 3,
    "start_time": "2023-07-16T17:30:14.929Z"
   },
   {
    "duration": 17,
    "start_time": "2023-07-16T17:30:14.934Z"
   },
   {
    "duration": 7,
    "start_time": "2023-07-16T17:30:14.953Z"
   },
   {
    "duration": 19,
    "start_time": "2023-07-16T17:30:14.962Z"
   },
   {
    "duration": 50,
    "start_time": "2023-07-16T17:30:14.983Z"
   },
   {
    "duration": 32,
    "start_time": "2023-07-16T17:30:15.034Z"
   },
   {
    "duration": 27,
    "start_time": "2023-07-16T17:30:15.067Z"
   },
   {
    "duration": 28,
    "start_time": "2023-07-16T17:30:15.097Z"
   },
   {
    "duration": 97,
    "start_time": "2023-07-16T17:30:15.127Z"
   },
   {
    "duration": 41,
    "start_time": "2023-07-16T17:30:15.226Z"
   },
   {
    "duration": 23,
    "start_time": "2023-07-16T17:30:15.268Z"
   },
   {
    "duration": 17,
    "start_time": "2023-07-16T17:30:15.293Z"
   },
   {
    "duration": 30,
    "start_time": "2023-07-16T17:30:15.312Z"
   },
   {
    "duration": 18,
    "start_time": "2023-07-16T17:30:15.344Z"
   },
   {
    "duration": 40,
    "start_time": "2023-07-16T17:30:15.364Z"
   },
   {
    "duration": 1149,
    "start_time": "2023-07-16T17:30:15.406Z"
   },
   {
    "duration": 331,
    "start_time": "2023-07-16T17:30:16.557Z"
   },
   {
    "duration": 109802,
    "start_time": "2023-07-16T17:30:16.890Z"
   },
   {
    "duration": 328,
    "start_time": "2023-07-16T17:32:06.693Z"
   },
   {
    "duration": 215,
    "start_time": "2023-07-16T17:32:07.023Z"
   },
   {
    "duration": 130619,
    "start_time": "2023-07-16T17:32:07.240Z"
   },
   {
    "duration": 80297,
    "start_time": "2023-07-16T17:34:17.861Z"
   },
   {
    "duration": 82,
    "start_time": "2023-07-16T17:35:38.233Z"
   },
   {
    "duration": 0,
    "start_time": "2023-07-16T17:35:38.317Z"
   },
   {
    "duration": 63,
    "start_time": "2023-07-16T17:36:10.623Z"
   },
   {
    "duration": 90251,
    "start_time": "2023-07-16T17:36:33.412Z"
   },
   {
    "duration": 59,
    "start_time": "2023-07-16T17:38:08.708Z"
   },
   {
    "duration": 3496,
    "start_time": "2023-07-16T17:38:19.363Z"
   },
   {
    "duration": 41,
    "start_time": "2023-07-16T17:38:22.861Z"
   },
   {
    "duration": 26,
    "start_time": "2023-07-16T17:38:22.903Z"
   },
   {
    "duration": 13,
    "start_time": "2023-07-16T17:38:22.930Z"
   },
   {
    "duration": 857,
    "start_time": "2023-07-16T17:38:22.946Z"
   },
   {
    "duration": 1141,
    "start_time": "2023-07-16T17:38:23.805Z"
   },
   {
    "duration": 4,
    "start_time": "2023-07-16T17:38:24.952Z"
   },
   {
    "duration": 7,
    "start_time": "2023-07-16T17:38:24.957Z"
   },
   {
    "duration": 11,
    "start_time": "2023-07-16T17:38:24.966Z"
   },
   {
    "duration": 19,
    "start_time": "2023-07-16T17:38:24.979Z"
   },
   {
    "duration": 9,
    "start_time": "2023-07-16T17:38:25.000Z"
   },
   {
    "duration": 2,
    "start_time": "2023-07-16T17:38:25.011Z"
   },
   {
    "duration": 9,
    "start_time": "2023-07-16T17:38:25.015Z"
   },
   {
    "duration": 6,
    "start_time": "2023-07-16T17:38:25.054Z"
   },
   {
    "duration": 114,
    "start_time": "2023-07-16T17:38:25.062Z"
   },
   {
    "duration": 33,
    "start_time": "2023-07-16T17:38:25.178Z"
   },
   {
    "duration": 43,
    "start_time": "2023-07-16T17:38:25.213Z"
   },
   {
    "duration": 4,
    "start_time": "2023-07-16T17:38:25.257Z"
   },
   {
    "duration": 17,
    "start_time": "2023-07-16T17:38:25.263Z"
   },
   {
    "duration": 10,
    "start_time": "2023-07-16T17:38:25.282Z"
   },
   {
    "duration": 59,
    "start_time": "2023-07-16T17:38:25.294Z"
   },
   {
    "duration": 897,
    "start_time": "2023-07-16T17:38:25.355Z"
   },
   {
    "duration": 337,
    "start_time": "2023-07-16T17:38:26.254Z"
   },
   {
    "duration": 110861,
    "start_time": "2023-07-16T17:38:26.593Z"
   },
   {
    "duration": 343,
    "start_time": "2023-07-16T17:40:17.455Z"
   },
   {
    "duration": 238,
    "start_time": "2023-07-16T17:40:17.800Z"
   },
   {
    "duration": 144170,
    "start_time": "2023-07-16T17:40:18.040Z"
   },
   {
    "duration": 93226,
    "start_time": "2023-07-16T17:42:42.213Z"
   },
   {
    "duration": 70,
    "start_time": "2023-07-16T17:44:15.441Z"
   },
   {
    "duration": 102,
    "start_time": "2023-07-16T17:44:15.513Z"
   },
   {
    "duration": 79601,
    "start_time": "2023-07-16T18:04:09.695Z"
   },
   {
    "duration": 3488,
    "start_time": "2023-07-16T18:07:50.405Z"
   },
   {
    "duration": 42,
    "start_time": "2023-07-16T18:07:53.895Z"
   },
   {
    "duration": 28,
    "start_time": "2023-07-16T18:07:53.938Z"
   },
   {
    "duration": 13,
    "start_time": "2023-07-16T18:07:53.968Z"
   },
   {
    "duration": 921,
    "start_time": "2023-07-16T18:07:53.982Z"
   },
   {
    "duration": 1134,
    "start_time": "2023-07-16T18:07:54.905Z"
   },
   {
    "duration": 4,
    "start_time": "2023-07-16T18:07:56.051Z"
   },
   {
    "duration": 10,
    "start_time": "2023-07-16T18:07:56.057Z"
   },
   {
    "duration": 11,
    "start_time": "2023-07-16T18:07:56.069Z"
   },
   {
    "duration": 20,
    "start_time": "2023-07-16T18:07:56.082Z"
   },
   {
    "duration": 9,
    "start_time": "2023-07-16T18:07:56.103Z"
   },
   {
    "duration": 3,
    "start_time": "2023-07-16T18:07:56.114Z"
   },
   {
    "duration": 8,
    "start_time": "2023-07-16T18:07:56.118Z"
   },
   {
    "duration": 26,
    "start_time": "2023-07-16T18:07:56.127Z"
   },
   {
    "duration": 103,
    "start_time": "2023-07-16T18:07:56.155Z"
   },
   {
    "duration": 29,
    "start_time": "2023-07-16T18:07:56.259Z"
   },
   {
    "duration": 25,
    "start_time": "2023-07-16T18:07:56.290Z"
   },
   {
    "duration": 4,
    "start_time": "2023-07-16T18:07:56.317Z"
   },
   {
    "duration": 5,
    "start_time": "2023-07-16T18:07:56.352Z"
   },
   {
    "duration": 13,
    "start_time": "2023-07-16T18:07:56.359Z"
   },
   {
    "duration": 33,
    "start_time": "2023-07-16T18:07:56.374Z"
   },
   {
    "duration": 955,
    "start_time": "2023-07-16T18:07:56.409Z"
   },
   {
    "duration": 317,
    "start_time": "2023-07-16T18:07:57.452Z"
   },
   {
    "duration": 3758,
    "start_time": "2023-07-16T18:11:00.160Z"
   },
   {
    "duration": 42,
    "start_time": "2023-07-16T18:11:03.920Z"
   },
   {
    "duration": 28,
    "start_time": "2023-07-16T18:11:03.964Z"
   },
   {
    "duration": 13,
    "start_time": "2023-07-16T18:11:03.995Z"
   },
   {
    "duration": 932,
    "start_time": "2023-07-16T18:11:04.009Z"
   },
   {
    "duration": 1319,
    "start_time": "2023-07-16T18:11:04.943Z"
   },
   {
    "duration": 4,
    "start_time": "2023-07-16T18:11:06.264Z"
   },
   {
    "duration": 23,
    "start_time": "2023-07-16T18:11:06.270Z"
   },
   {
    "duration": 33,
    "start_time": "2023-07-16T18:11:06.296Z"
   },
   {
    "duration": 28,
    "start_time": "2023-07-16T18:11:06.332Z"
   },
   {
    "duration": 39,
    "start_time": "2023-07-16T18:11:06.361Z"
   },
   {
    "duration": 9,
    "start_time": "2023-07-16T18:11:06.402Z"
   },
   {
    "duration": 8,
    "start_time": "2023-07-16T18:11:06.413Z"
   },
   {
    "duration": 20,
    "start_time": "2023-07-16T18:11:06.422Z"
   },
   {
    "duration": 110,
    "start_time": "2023-07-16T18:11:06.444Z"
   },
   {
    "duration": 42,
    "start_time": "2023-07-16T18:11:06.556Z"
   },
   {
    "duration": 24,
    "start_time": "2023-07-16T18:11:06.600Z"
   },
   {
    "duration": 3,
    "start_time": "2023-07-16T18:11:06.626Z"
   },
   {
    "duration": 23,
    "start_time": "2023-07-16T18:11:06.631Z"
   },
   {
    "duration": 10,
    "start_time": "2023-07-16T18:11:06.656Z"
   },
   {
    "duration": 35,
    "start_time": "2023-07-16T18:11:06.668Z"
   },
   {
    "duration": 1049,
    "start_time": "2023-07-16T18:11:06.705Z"
   },
   {
    "duration": 357,
    "start_time": "2023-07-16T18:11:07.756Z"
   },
   {
    "duration": 109854,
    "start_time": "2023-07-16T18:11:08.114Z"
   },
   {
    "duration": 299,
    "start_time": "2023-07-16T18:12:57.969Z"
   },
   {
    "duration": 271,
    "start_time": "2023-07-16T18:12:58.270Z"
   },
   {
    "duration": 3604,
    "start_time": "2023-07-16T18:13:17.799Z"
   },
   {
    "duration": 43,
    "start_time": "2023-07-16T18:13:21.405Z"
   },
   {
    "duration": 28,
    "start_time": "2023-07-16T18:13:21.451Z"
   },
   {
    "duration": 16,
    "start_time": "2023-07-16T18:13:21.481Z"
   },
   {
    "duration": 904,
    "start_time": "2023-07-16T18:13:21.499Z"
   },
   {
    "duration": 1163,
    "start_time": "2023-07-16T18:13:22.405Z"
   },
   {
    "duration": 3,
    "start_time": "2023-07-16T18:13:23.570Z"
   },
   {
    "duration": 8,
    "start_time": "2023-07-16T18:13:23.575Z"
   },
   {
    "duration": 13,
    "start_time": "2023-07-16T18:13:23.585Z"
   },
   {
    "duration": 19,
    "start_time": "2023-07-16T18:13:23.601Z"
   },
   {
    "duration": 30,
    "start_time": "2023-07-16T18:13:23.622Z"
   },
   {
    "duration": 85,
    "start_time": "2023-07-16T18:13:23.653Z"
   },
   {
    "duration": 14,
    "start_time": "2023-07-16T18:13:23.740Z"
   },
   {
    "duration": 9,
    "start_time": "2023-07-16T18:13:23.755Z"
   },
   {
    "duration": 38,
    "start_time": "2023-07-16T18:13:23.766Z"
   },
   {
    "duration": 37,
    "start_time": "2023-07-16T18:13:23.805Z"
   },
   {
    "duration": 22,
    "start_time": "2023-07-16T18:13:23.844Z"
   },
   {
    "duration": 3,
    "start_time": "2023-07-16T18:13:23.868Z"
   },
   {
    "duration": 8,
    "start_time": "2023-07-16T18:13:23.873Z"
   },
   {
    "duration": 13,
    "start_time": "2023-07-16T18:13:23.882Z"
   },
   {
    "duration": 34,
    "start_time": "2023-07-16T18:13:23.896Z"
   },
   {
    "duration": 1121,
    "start_time": "2023-07-16T18:13:23.932Z"
   },
   {
    "duration": 344,
    "start_time": "2023-07-16T18:13:25.057Z"
   },
   {
    "duration": 110707,
    "start_time": "2023-07-16T18:13:25.403Z"
   },
   {
    "duration": 280,
    "start_time": "2023-07-16T18:15:16.112Z"
   },
   {
    "duration": 210,
    "start_time": "2023-07-16T18:15:16.394Z"
   },
   {
    "duration": 139019,
    "start_time": "2023-07-16T18:15:16.606Z"
   },
   {
    "duration": 79879,
    "start_time": "2023-07-16T18:17:35.628Z"
   },
   {
    "duration": 0,
    "start_time": "2023-07-16T18:18:55.629Z"
   },
   {
    "duration": 62,
    "start_time": "2023-07-16T18:19:28.116Z"
   },
   {
    "duration": 205,
    "start_time": "2023-07-16T18:20:20.178Z"
   },
   {
    "duration": 16,
    "start_time": "2023-07-16T18:30:54.048Z"
   },
   {
    "duration": 10,
    "start_time": "2023-07-16T18:31:34.440Z"
   },
   {
    "duration": 3690,
    "start_time": "2023-07-16T18:32:26.176Z"
   },
   {
    "duration": 42,
    "start_time": "2023-07-16T18:32:29.869Z"
   },
   {
    "duration": 26,
    "start_time": "2023-07-16T18:32:29.913Z"
   },
   {
    "duration": 12,
    "start_time": "2023-07-16T18:32:29.941Z"
   },
   {
    "duration": 866,
    "start_time": "2023-07-16T18:32:29.955Z"
   },
   {
    "duration": 1230,
    "start_time": "2023-07-16T18:32:30.822Z"
   },
   {
    "duration": 5,
    "start_time": "2023-07-16T18:32:32.054Z"
   },
   {
    "duration": 42,
    "start_time": "2023-07-16T18:32:32.061Z"
   },
   {
    "duration": 59,
    "start_time": "2023-07-16T18:32:32.107Z"
   },
   {
    "duration": 53,
    "start_time": "2023-07-16T18:32:32.168Z"
   },
   {
    "duration": 51,
    "start_time": "2023-07-16T18:32:32.223Z"
   },
   {
    "duration": 32,
    "start_time": "2023-07-16T18:32:32.276Z"
   },
   {
    "duration": 34,
    "start_time": "2023-07-16T18:32:32.310Z"
   },
   {
    "duration": 47,
    "start_time": "2023-07-16T18:32:32.349Z"
   },
   {
    "duration": 107,
    "start_time": "2023-07-16T18:32:32.398Z"
   },
   {
    "duration": 49,
    "start_time": "2023-07-16T18:32:32.507Z"
   },
   {
    "duration": 24,
    "start_time": "2023-07-16T18:32:32.558Z"
   },
   {
    "duration": 14,
    "start_time": "2023-07-16T18:32:32.584Z"
   },
   {
    "duration": 15,
    "start_time": "2023-07-16T18:32:32.600Z"
   },
   {
    "duration": 31,
    "start_time": "2023-07-16T18:32:32.617Z"
   },
   {
    "duration": 45,
    "start_time": "2023-07-16T18:32:32.650Z"
   },
   {
    "duration": 1064,
    "start_time": "2023-07-16T18:32:32.697Z"
   },
   {
    "duration": 322,
    "start_time": "2023-07-16T18:32:33.853Z"
   },
   {
    "duration": 113202,
    "start_time": "2023-07-16T18:32:34.177Z"
   },
   {
    "duration": 305,
    "start_time": "2023-07-16T18:34:27.381Z"
   },
   {
    "duration": 226,
    "start_time": "2023-07-16T18:34:27.688Z"
   },
   {
    "duration": 141764,
    "start_time": "2023-07-16T18:34:27.916Z"
   },
   {
    "duration": 80535,
    "start_time": "2023-07-16T18:36:49.682Z"
   },
   {
    "duration": 72,
    "start_time": "2023-07-16T18:38:10.219Z"
   },
   {
    "duration": 62,
    "start_time": "2023-07-16T18:51:26.810Z"
   },
   {
    "duration": 72,
    "start_time": "2023-07-16T18:53:20.568Z"
   },
   {
    "duration": 6805,
    "start_time": "2023-07-17T03:18:31.682Z"
   },
   {
    "duration": 80,
    "start_time": "2023-07-17T03:18:38.489Z"
   },
   {
    "duration": 22,
    "start_time": "2023-07-17T03:18:38.571Z"
   },
   {
    "duration": 10,
    "start_time": "2023-07-17T03:18:38.595Z"
   },
   {
    "duration": 825,
    "start_time": "2023-07-17T03:18:38.607Z"
   },
   {
    "duration": 1167,
    "start_time": "2023-07-17T03:18:39.434Z"
   },
   {
    "duration": 4,
    "start_time": "2023-07-17T03:18:40.603Z"
   },
   {
    "duration": 18,
    "start_time": "2023-07-17T03:18:40.608Z"
   },
   {
    "duration": 6,
    "start_time": "2023-07-17T03:18:40.628Z"
   },
   {
    "duration": 16,
    "start_time": "2023-07-17T03:18:40.636Z"
   },
   {
    "duration": 10,
    "start_time": "2023-07-17T03:18:40.654Z"
   },
   {
    "duration": 4,
    "start_time": "2023-07-17T03:18:40.665Z"
   },
   {
    "duration": 4,
    "start_time": "2023-07-17T03:18:40.670Z"
   },
   {
    "duration": 8,
    "start_time": "2023-07-17T03:18:40.677Z"
   },
   {
    "duration": 37,
    "start_time": "2023-07-17T03:18:40.686Z"
   },
   {
    "duration": 26,
    "start_time": "2023-07-17T03:18:40.725Z"
   },
   {
    "duration": 19,
    "start_time": "2023-07-17T03:18:40.752Z"
   },
   {
    "duration": 8,
    "start_time": "2023-07-17T03:18:40.772Z"
   },
   {
    "duration": 7,
    "start_time": "2023-07-17T03:18:40.781Z"
   },
   {
    "duration": 13,
    "start_time": "2023-07-17T03:18:40.790Z"
   },
   {
    "duration": 46,
    "start_time": "2023-07-17T03:18:40.804Z"
   },
   {
    "duration": 1171,
    "start_time": "2023-07-17T03:18:40.851Z"
   },
   {
    "duration": 325,
    "start_time": "2023-07-17T03:18:42.024Z"
   },
   {
    "duration": 103774,
    "start_time": "2023-07-17T03:18:42.350Z"
   },
   {
    "duration": 274,
    "start_time": "2023-07-17T03:20:26.126Z"
   },
   {
    "duration": 188,
    "start_time": "2023-07-17T03:20:26.402Z"
   },
   {
    "duration": 126990,
    "start_time": "2023-07-17T03:20:26.592Z"
   },
   {
    "duration": 74346,
    "start_time": "2023-07-17T03:22:33.584Z"
   },
   {
    "duration": 51,
    "start_time": "2023-07-17T03:23:47.931Z"
   },
   {
    "duration": 47,
    "start_time": "2023-07-19T19:01:14.324Z"
   },
   {
    "duration": 3,
    "start_time": "2023-07-19T19:01:23.444Z"
   },
   {
    "duration": 4881,
    "start_time": "2023-07-19T19:02:01.243Z"
   },
   {
    "duration": 2,
    "start_time": "2023-07-19T19:02:06.126Z"
   },
   {
    "duration": 204,
    "start_time": "2023-07-19T19:02:06.130Z"
   },
   {
    "duration": 27,
    "start_time": "2023-07-19T19:02:06.335Z"
   },
   {
    "duration": 12,
    "start_time": "2023-07-19T19:02:06.364Z"
   },
   {
    "duration": 827,
    "start_time": "2023-07-19T19:02:06.378Z"
   },
   {
    "duration": 1165,
    "start_time": "2023-07-19T19:02:07.207Z"
   },
   {
    "duration": 4,
    "start_time": "2023-07-19T19:02:08.374Z"
   },
   {
    "duration": 7,
    "start_time": "2023-07-19T19:02:08.380Z"
   },
   {
    "duration": 9,
    "start_time": "2023-07-19T19:02:08.388Z"
   },
   {
    "duration": 26,
    "start_time": "2023-07-19T19:02:08.399Z"
   },
   {
    "duration": 33,
    "start_time": "2023-07-19T19:02:08.427Z"
   },
   {
    "duration": 4,
    "start_time": "2023-07-19T19:02:08.462Z"
   },
   {
    "duration": 17,
    "start_time": "2023-07-19T19:02:08.468Z"
   },
   {
    "duration": 8,
    "start_time": "2023-07-19T19:02:08.486Z"
   },
   {
    "duration": 14,
    "start_time": "2023-07-19T19:02:08.496Z"
   },
   {
    "duration": 2,
    "start_time": "2023-07-19T19:02:08.512Z"
   },
   {
    "duration": 53,
    "start_time": "2023-07-19T19:02:08.516Z"
   },
   {
    "duration": 22,
    "start_time": "2023-07-19T19:02:08.571Z"
   },
   {
    "duration": 4,
    "start_time": "2023-07-19T19:02:08.594Z"
   },
   {
    "duration": 16,
    "start_time": "2023-07-19T19:02:08.599Z"
   },
   {
    "duration": 164,
    "start_time": "2023-07-19T19:02:08.617Z"
   },
   {
    "duration": 48,
    "start_time": "2023-07-19T19:02:08.783Z"
   },
   {
    "duration": 1031,
    "start_time": "2023-07-19T19:02:08.833Z"
   },
   {
    "duration": 329,
    "start_time": "2023-07-19T19:02:09.866Z"
   },
   {
    "duration": 109193,
    "start_time": "2023-07-19T19:02:10.196Z"
   },
   {
    "duration": 279,
    "start_time": "2023-07-19T19:03:59.390Z"
   },
   {
    "duration": 208,
    "start_time": "2023-07-19T19:03:59.670Z"
   },
   {
    "duration": 137038,
    "start_time": "2023-07-19T19:03:59.880Z"
   },
   {
    "duration": 77770,
    "start_time": "2023-07-19T19:06:16.920Z"
   },
   {
    "duration": 78,
    "start_time": "2023-07-19T19:07:34.692Z"
   },
   {
    "duration": 4,
    "start_time": "2023-07-19T19:13:28.301Z"
   },
   {
    "duration": 111,
    "start_time": "2023-07-19T19:14:10.397Z"
   },
   {
    "duration": 5,
    "start_time": "2023-07-19T19:14:20.316Z"
   },
   {
    "duration": 4,
    "start_time": "2023-07-19T19:14:29.328Z"
   },
   {
    "duration": 5,
    "start_time": "2023-07-19T19:15:22.171Z"
   },
   {
    "duration": 6,
    "start_time": "2023-07-19T19:24:44.822Z"
   },
   {
    "duration": 3938,
    "start_time": "2023-07-19T19:39:14.472Z"
   },
   {
    "duration": 3,
    "start_time": "2023-07-19T19:39:18.412Z"
   },
   {
    "duration": 81,
    "start_time": "2023-07-19T19:39:18.417Z"
   },
   {
    "duration": 39,
    "start_time": "2023-07-19T19:39:18.501Z"
   },
   {
    "duration": 14,
    "start_time": "2023-07-19T19:39:18.542Z"
   },
   {
    "duration": 1045,
    "start_time": "2023-07-19T19:39:18.558Z"
   },
   {
    "duration": 1542,
    "start_time": "2023-07-19T19:39:19.606Z"
   },
   {
    "duration": 10,
    "start_time": "2023-07-19T19:39:21.162Z"
   },
   {
    "duration": 7,
    "start_time": "2023-07-19T19:39:21.185Z"
   },
   {
    "duration": 11,
    "start_time": "2023-07-19T19:39:21.198Z"
   },
   {
    "duration": 30,
    "start_time": "2023-07-19T19:39:21.211Z"
   },
   {
    "duration": 16,
    "start_time": "2023-07-19T19:39:21.242Z"
   },
   {
    "duration": 5,
    "start_time": "2023-07-19T19:39:21.261Z"
   },
   {
    "duration": 6,
    "start_time": "2023-07-19T19:39:21.268Z"
   },
   {
    "duration": 11,
    "start_time": "2023-07-19T19:39:21.276Z"
   },
   {
    "duration": 142,
    "start_time": "2023-07-19T19:39:21.290Z"
   },
   {
    "duration": 3,
    "start_time": "2023-07-19T19:39:21.434Z"
   },
   {
    "duration": 58,
    "start_time": "2023-07-19T19:39:21.439Z"
   },
   {
    "duration": 28,
    "start_time": "2023-07-19T19:39:21.500Z"
   },
   {
    "duration": 30,
    "start_time": "2023-07-19T19:39:21.531Z"
   },
   {
    "duration": 7,
    "start_time": "2023-07-19T19:39:21.563Z"
   },
   {
    "duration": 16,
    "start_time": "2023-07-19T19:39:21.572Z"
   },
   {
    "duration": 16,
    "start_time": "2023-07-19T19:39:21.590Z"
   },
   {
    "duration": 84,
    "start_time": "2023-07-19T19:39:21.609Z"
   },
   {
    "duration": 4,
    "start_time": "2023-07-19T19:39:21.699Z"
   },
   {
    "duration": 30,
    "start_time": "2023-07-19T19:39:21.705Z"
   },
   {
    "duration": 0,
    "start_time": "2023-07-19T19:39:21.737Z"
   },
   {
    "duration": 0,
    "start_time": "2023-07-19T19:39:21.739Z"
   },
   {
    "duration": 0,
    "start_time": "2023-07-19T19:39:21.741Z"
   },
   {
    "duration": 0,
    "start_time": "2023-07-19T19:39:21.742Z"
   },
   {
    "duration": 0,
    "start_time": "2023-07-19T19:39:21.744Z"
   },
   {
    "duration": 0,
    "start_time": "2023-07-19T19:39:21.758Z"
   },
   {
    "duration": 0,
    "start_time": "2023-07-19T19:39:21.760Z"
   },
   {
    "duration": 22112,
    "start_time": "2023-07-19T19:39:35.954Z"
   },
   {
    "duration": 10327,
    "start_time": "2023-07-19T19:40:50.145Z"
   },
   {
    "duration": 3531,
    "start_time": "2023-07-19T19:42:44.886Z"
   },
   {
    "duration": 2,
    "start_time": "2023-07-19T19:42:48.420Z"
   },
   {
    "duration": 99,
    "start_time": "2023-07-19T19:42:48.423Z"
   },
   {
    "duration": 26,
    "start_time": "2023-07-19T19:42:48.524Z"
   },
   {
    "duration": 13,
    "start_time": "2023-07-19T19:42:48.551Z"
   },
   {
    "duration": 842,
    "start_time": "2023-07-19T19:42:48.566Z"
   },
   {
    "duration": 1141,
    "start_time": "2023-07-19T19:42:49.409Z"
   },
   {
    "duration": 9,
    "start_time": "2023-07-19T19:42:50.551Z"
   },
   {
    "duration": 22,
    "start_time": "2023-07-19T19:42:50.562Z"
   },
   {
    "duration": 40,
    "start_time": "2023-07-19T19:42:50.586Z"
   },
   {
    "duration": 32,
    "start_time": "2023-07-19T19:42:50.628Z"
   },
   {
    "duration": 18,
    "start_time": "2023-07-19T19:42:50.662Z"
   },
   {
    "duration": 21,
    "start_time": "2023-07-19T19:42:50.682Z"
   },
   {
    "duration": 20,
    "start_time": "2023-07-19T19:42:50.705Z"
   },
   {
    "duration": 45,
    "start_time": "2023-07-19T19:42:50.726Z"
   },
   {
    "duration": 89,
    "start_time": "2023-07-19T19:42:50.772Z"
   },
   {
    "duration": 23,
    "start_time": "2023-07-19T19:42:50.862Z"
   },
   {
    "duration": 49,
    "start_time": "2023-07-19T19:42:50.887Z"
   },
   {
    "duration": 22,
    "start_time": "2023-07-19T19:42:50.937Z"
   },
   {
    "duration": 14,
    "start_time": "2023-07-19T19:42:50.961Z"
   },
   {
    "duration": 25,
    "start_time": "2023-07-19T19:42:50.976Z"
   },
   {
    "duration": 21,
    "start_time": "2023-07-19T19:42:51.002Z"
   },
   {
    "duration": 26,
    "start_time": "2023-07-19T19:42:51.025Z"
   },
   {
    "duration": 51,
    "start_time": "2023-07-19T19:42:51.052Z"
   },
   {
    "duration": 3,
    "start_time": "2023-07-19T19:42:51.105Z"
   },
   {
    "duration": 12652,
    "start_time": "2023-07-19T19:42:51.109Z"
   },
   {
    "duration": 349,
    "start_time": "2023-07-19T19:43:03.763Z"
   },
   {
    "duration": 42250,
    "start_time": "2023-07-19T19:43:04.117Z"
   },
   {
    "duration": 287,
    "start_time": "2023-07-19T19:43:46.369Z"
   },
   {
    "duration": 211,
    "start_time": "2023-07-19T19:43:46.660Z"
   },
   {
    "duration": 3581,
    "start_time": "2023-07-19T19:43:52.811Z"
   },
   {
    "duration": 3,
    "start_time": "2023-07-19T19:43:56.394Z"
   },
   {
    "duration": 85,
    "start_time": "2023-07-19T19:43:56.398Z"
   },
   {
    "duration": 26,
    "start_time": "2023-07-19T19:43:56.485Z"
   },
   {
    "duration": 13,
    "start_time": "2023-07-19T19:43:56.513Z"
   },
   {
    "duration": 883,
    "start_time": "2023-07-19T19:43:56.528Z"
   },
   {
    "duration": 1053,
    "start_time": "2023-07-19T19:43:57.413Z"
   },
   {
    "duration": 4,
    "start_time": "2023-07-19T19:43:58.467Z"
   },
   {
    "duration": 21,
    "start_time": "2023-07-19T19:43:58.472Z"
   },
   {
    "duration": 9,
    "start_time": "2023-07-19T19:43:58.495Z"
   },
   {
    "duration": 25,
    "start_time": "2023-07-19T19:43:58.506Z"
   },
   {
    "duration": 12,
    "start_time": "2023-07-19T19:43:58.533Z"
   },
   {
    "duration": 4,
    "start_time": "2023-07-19T19:43:58.546Z"
   },
   {
    "duration": 9,
    "start_time": "2023-07-19T19:43:58.553Z"
   },
   {
    "duration": 10,
    "start_time": "2023-07-19T19:43:58.564Z"
   },
   {
    "duration": 105,
    "start_time": "2023-07-19T19:43:58.575Z"
   },
   {
    "duration": 32,
    "start_time": "2023-07-19T19:43:58.682Z"
   },
   {
    "duration": 47,
    "start_time": "2023-07-19T19:43:58.716Z"
   },
   {
    "duration": 22,
    "start_time": "2023-07-19T19:43:58.765Z"
   },
   {
    "duration": 3,
    "start_time": "2023-07-19T19:43:58.788Z"
   },
   {
    "duration": 8,
    "start_time": "2023-07-19T19:43:58.793Z"
   },
   {
    "duration": 15,
    "start_time": "2023-07-19T19:43:58.803Z"
   },
   {
    "duration": 15,
    "start_time": "2023-07-19T19:43:58.820Z"
   },
   {
    "duration": 51,
    "start_time": "2023-07-19T19:43:58.836Z"
   },
   {
    "duration": 3,
    "start_time": "2023-07-19T19:43:58.888Z"
   },
   {
    "duration": 25069,
    "start_time": "2023-07-19T19:43:58.893Z"
   },
   {
    "duration": 364,
    "start_time": "2023-07-19T19:44:23.964Z"
   },
   {
    "duration": 3584,
    "start_time": "2023-07-19T19:45:03.102Z"
   },
   {
    "duration": 2,
    "start_time": "2023-07-19T19:45:06.688Z"
   },
   {
    "duration": 98,
    "start_time": "2023-07-19T19:45:06.692Z"
   },
   {
    "duration": 27,
    "start_time": "2023-07-19T19:45:06.793Z"
   },
   {
    "duration": 18,
    "start_time": "2023-07-19T19:45:06.821Z"
   },
   {
    "duration": 869,
    "start_time": "2023-07-19T19:45:06.840Z"
   },
   {
    "duration": 1126,
    "start_time": "2023-07-19T19:45:07.711Z"
   },
   {
    "duration": 4,
    "start_time": "2023-07-19T19:45:08.839Z"
   },
   {
    "duration": 21,
    "start_time": "2023-07-19T19:45:08.845Z"
   },
   {
    "duration": 18,
    "start_time": "2023-07-19T19:45:08.869Z"
   },
   {
    "duration": 39,
    "start_time": "2023-07-19T19:45:08.888Z"
   },
   {
    "duration": 28,
    "start_time": "2023-07-19T19:45:08.928Z"
   },
   {
    "duration": 5,
    "start_time": "2023-07-19T19:45:08.958Z"
   },
   {
    "duration": 17,
    "start_time": "2023-07-19T19:45:08.964Z"
   },
   {
    "duration": 10,
    "start_time": "2023-07-19T19:45:08.983Z"
   },
   {
    "duration": 101,
    "start_time": "2023-07-19T19:45:08.995Z"
   },
   {
    "duration": 18,
    "start_time": "2023-07-19T19:45:09.098Z"
   },
   {
    "duration": 43,
    "start_time": "2023-07-19T19:45:09.118Z"
   },
   {
    "duration": 23,
    "start_time": "2023-07-19T19:45:09.163Z"
   },
   {
    "duration": 3,
    "start_time": "2023-07-19T19:45:09.188Z"
   },
   {
    "duration": 10,
    "start_time": "2023-07-19T19:45:09.193Z"
   },
   {
    "duration": 16,
    "start_time": "2023-07-19T19:45:09.205Z"
   },
   {
    "duration": 4,
    "start_time": "2023-07-19T19:45:09.223Z"
   },
   {
    "duration": 35,
    "start_time": "2023-07-19T19:45:09.259Z"
   },
   {
    "duration": 3,
    "start_time": "2023-07-19T19:45:09.295Z"
   },
   {
    "duration": 10777,
    "start_time": "2023-07-19T19:45:09.300Z"
   },
   {
    "duration": 325,
    "start_time": "2023-07-19T19:45:20.159Z"
   },
   {
    "duration": 110506,
    "start_time": "2023-07-19T19:45:20.487Z"
   },
   {
    "duration": 303,
    "start_time": "2023-07-19T19:47:10.995Z"
   },
   {
    "duration": 208,
    "start_time": "2023-07-19T19:47:11.300Z"
   },
   {
    "duration": 138259,
    "start_time": "2023-07-19T19:47:11.509Z"
   },
   {
    "duration": 80102,
    "start_time": "2023-07-19T19:49:29.770Z"
   },
   {
    "duration": 63,
    "start_time": "2023-07-19T19:50:49.873Z"
   },
   {
    "duration": 10689,
    "start_time": "2023-07-19T19:54:13.530Z"
   },
   {
    "duration": 3704,
    "start_time": "2023-07-19T19:56:18.014Z"
   },
   {
    "duration": 2,
    "start_time": "2023-07-19T19:56:21.721Z"
   },
   {
    "duration": 83,
    "start_time": "2023-07-19T19:56:21.725Z"
   },
   {
    "duration": 27,
    "start_time": "2023-07-19T19:56:21.811Z"
   },
   {
    "duration": 15,
    "start_time": "2023-07-19T19:56:21.839Z"
   },
   {
    "duration": 858,
    "start_time": "2023-07-19T19:56:21.856Z"
   },
   {
    "duration": 1149,
    "start_time": "2023-07-19T19:56:22.716Z"
   },
   {
    "duration": 4,
    "start_time": "2023-07-19T19:56:23.867Z"
   },
   {
    "duration": 13,
    "start_time": "2023-07-19T19:56:23.873Z"
   },
   {
    "duration": 11,
    "start_time": "2023-07-19T19:56:23.888Z"
   },
   {
    "duration": 23,
    "start_time": "2023-07-19T19:56:23.901Z"
   },
   {
    "duration": 16,
    "start_time": "2023-07-19T19:56:23.926Z"
   },
   {
    "duration": 5,
    "start_time": "2023-07-19T19:56:23.961Z"
   },
   {
    "duration": 6,
    "start_time": "2023-07-19T19:56:23.968Z"
   },
   {
    "duration": 9,
    "start_time": "2023-07-19T19:56:23.975Z"
   },
   {
    "duration": 122,
    "start_time": "2023-07-19T19:56:23.987Z"
   },
   {
    "duration": 5,
    "start_time": "2023-07-19T19:56:24.111Z"
   },
   {
    "duration": 68,
    "start_time": "2023-07-19T19:56:24.117Z"
   },
   {
    "duration": 31,
    "start_time": "2023-07-19T19:56:24.187Z"
   },
   {
    "duration": 5,
    "start_time": "2023-07-19T19:56:24.220Z"
   },
   {
    "duration": 14,
    "start_time": "2023-07-19T19:56:24.226Z"
   },
   {
    "duration": 23,
    "start_time": "2023-07-19T19:56:24.242Z"
   },
   {
    "duration": 32,
    "start_time": "2023-07-19T19:56:24.268Z"
   },
   {
    "duration": 52,
    "start_time": "2023-07-19T19:56:24.303Z"
   },
   {
    "duration": 3,
    "start_time": "2023-07-19T19:56:24.358Z"
   },
   {
    "duration": 10732,
    "start_time": "2023-07-19T19:56:24.362Z"
   },
   {
    "duration": 258,
    "start_time": "2023-07-19T19:56:35.097Z"
   },
   {
    "duration": 3484,
    "start_time": "2023-07-19T19:57:56.817Z"
   },
   {
    "duration": 2,
    "start_time": "2023-07-19T19:58:00.304Z"
   },
   {
    "duration": 103,
    "start_time": "2023-07-19T19:58:00.308Z"
   },
   {
    "duration": 27,
    "start_time": "2023-07-19T19:58:00.412Z"
   },
   {
    "duration": 38,
    "start_time": "2023-07-19T19:58:00.442Z"
   },
   {
    "duration": 932,
    "start_time": "2023-07-19T19:58:00.482Z"
   },
   {
    "duration": 1205,
    "start_time": "2023-07-19T19:58:01.416Z"
   },
   {
    "duration": 4,
    "start_time": "2023-07-19T19:58:02.622Z"
   },
   {
    "duration": 30,
    "start_time": "2023-07-19T19:58:02.627Z"
   },
   {
    "duration": 41,
    "start_time": "2023-07-19T19:58:02.659Z"
   },
   {
    "duration": 21,
    "start_time": "2023-07-19T19:58:02.702Z"
   },
   {
    "duration": 16,
    "start_time": "2023-07-19T19:58:02.725Z"
   },
   {
    "duration": 15,
    "start_time": "2023-07-19T19:58:02.743Z"
   },
   {
    "duration": 37,
    "start_time": "2023-07-19T19:58:02.761Z"
   },
   {
    "duration": 29,
    "start_time": "2023-07-19T19:58:02.800Z"
   },
   {
    "duration": 96,
    "start_time": "2023-07-19T19:58:02.832Z"
   },
   {
    "duration": 22,
    "start_time": "2023-07-19T19:58:02.930Z"
   },
   {
    "duration": 57,
    "start_time": "2023-07-19T19:58:02.954Z"
   },
   {
    "duration": 26,
    "start_time": "2023-07-19T19:58:03.013Z"
   },
   {
    "duration": 4,
    "start_time": "2023-07-19T19:58:03.041Z"
   },
   {
    "duration": 17,
    "start_time": "2023-07-19T19:58:03.046Z"
   },
   {
    "duration": 22,
    "start_time": "2023-07-19T19:58:03.065Z"
   },
   {
    "duration": 10,
    "start_time": "2023-07-19T19:58:03.088Z"
   },
   {
    "duration": 53,
    "start_time": "2023-07-19T19:58:03.100Z"
   },
   {
    "duration": 3,
    "start_time": "2023-07-19T19:58:03.154Z"
   },
   {
    "duration": 10971,
    "start_time": "2023-07-19T19:58:03.159Z"
   },
   {
    "duration": 277,
    "start_time": "2023-07-19T19:58:14.133Z"
   },
   {
    "duration": 112449,
    "start_time": "2023-07-19T19:58:14.412Z"
   },
   {
    "duration": 283,
    "start_time": "2023-07-19T20:00:06.863Z"
   },
   {
    "duration": 205,
    "start_time": "2023-07-19T20:00:07.147Z"
   },
   {
    "duration": 3704,
    "start_time": "2023-07-19T20:01:31.290Z"
   },
   {
    "duration": 3,
    "start_time": "2023-07-19T20:01:34.997Z"
   },
   {
    "duration": 112,
    "start_time": "2023-07-19T20:01:35.001Z"
   },
   {
    "duration": 29,
    "start_time": "2023-07-19T20:01:35.115Z"
   },
   {
    "duration": 14,
    "start_time": "2023-07-19T20:01:35.147Z"
   },
   {
    "duration": 869,
    "start_time": "2023-07-19T20:01:35.163Z"
   },
   {
    "duration": 1130,
    "start_time": "2023-07-19T20:01:36.035Z"
   },
   {
    "duration": 4,
    "start_time": "2023-07-19T20:01:37.168Z"
   },
   {
    "duration": 11,
    "start_time": "2023-07-19T20:01:37.173Z"
   },
   {
    "duration": 14,
    "start_time": "2023-07-19T20:01:37.185Z"
   },
   {
    "duration": 23,
    "start_time": "2023-07-19T20:01:37.201Z"
   },
   {
    "duration": 34,
    "start_time": "2023-07-19T20:01:37.226Z"
   },
   {
    "duration": 4,
    "start_time": "2023-07-19T20:01:37.262Z"
   },
   {
    "duration": 9,
    "start_time": "2023-07-19T20:01:37.269Z"
   },
   {
    "duration": 8,
    "start_time": "2023-07-19T20:01:37.280Z"
   },
   {
    "duration": 114,
    "start_time": "2023-07-19T20:01:37.290Z"
   },
   {
    "duration": 3,
    "start_time": "2023-07-19T20:01:37.406Z"
   },
   {
    "duration": 50,
    "start_time": "2023-07-19T20:01:37.410Z"
   },
   {
    "duration": 25,
    "start_time": "2023-07-19T20:01:37.462Z"
   },
   {
    "duration": 4,
    "start_time": "2023-07-19T20:01:37.489Z"
   },
   {
    "duration": 15,
    "start_time": "2023-07-19T20:01:37.495Z"
   },
   {
    "duration": 35,
    "start_time": "2023-07-19T20:01:37.512Z"
   },
   {
    "duration": 10,
    "start_time": "2023-07-19T20:01:37.549Z"
   },
   {
    "duration": 51,
    "start_time": "2023-07-19T20:01:37.560Z"
   },
   {
    "duration": 3,
    "start_time": "2023-07-19T20:01:37.613Z"
   },
   {
    "duration": 10691,
    "start_time": "2023-07-19T20:01:37.617Z"
   },
   {
    "duration": 249,
    "start_time": "2023-07-19T20:01:48.310Z"
   },
   {
    "duration": 111369,
    "start_time": "2023-07-19T20:01:48.562Z"
   },
   {
    "duration": 292,
    "start_time": "2023-07-19T20:03:39.932Z"
   },
   {
    "duration": 209,
    "start_time": "2023-07-19T20:03:40.226Z"
   },
   {
    "duration": 142497,
    "start_time": "2023-07-19T20:03:40.436Z"
   },
   {
    "duration": 82887,
    "start_time": "2023-07-19T20:06:02.935Z"
   },
   {
    "duration": 84,
    "start_time": "2023-07-19T20:07:25.824Z"
   },
   {
    "duration": 9608,
    "start_time": "2023-07-19T20:18:32.252Z"
   },
   {
    "duration": 10745,
    "start_time": "2023-07-19T20:41:11.117Z"
   },
   {
    "duration": 3640,
    "start_time": "2023-07-19T20:48:09.877Z"
   },
   {
    "duration": 3,
    "start_time": "2023-07-19T20:48:13.519Z"
   },
   {
    "duration": 107,
    "start_time": "2023-07-19T20:48:13.523Z"
   },
   {
    "duration": 25,
    "start_time": "2023-07-19T20:48:13.633Z"
   },
   {
    "duration": 13,
    "start_time": "2023-07-19T20:48:13.660Z"
   },
   {
    "duration": 1029,
    "start_time": "2023-07-19T20:48:13.675Z"
   },
   {
    "duration": 1154,
    "start_time": "2023-07-19T20:48:14.707Z"
   },
   {
    "duration": 4,
    "start_time": "2023-07-19T20:48:15.863Z"
   },
   {
    "duration": 7,
    "start_time": "2023-07-19T20:48:15.868Z"
   },
   {
    "duration": 9,
    "start_time": "2023-07-19T20:48:15.878Z"
   },
   {
    "duration": 30,
    "start_time": "2023-07-19T20:48:15.889Z"
   },
   {
    "duration": 51,
    "start_time": "2023-07-19T20:48:15.920Z"
   },
   {
    "duration": 99,
    "start_time": "2023-07-19T20:48:15.974Z"
   },
   {
    "duration": 16,
    "start_time": "2023-07-19T20:48:16.075Z"
   },
   {
    "duration": 13,
    "start_time": "2023-07-19T20:48:16.093Z"
   },
   {
    "duration": 17,
    "start_time": "2023-07-19T20:48:16.108Z"
   },
   {
    "duration": 11,
    "start_time": "2023-07-19T20:48:16.127Z"
   },
   {
    "duration": 52,
    "start_time": "2023-07-19T20:48:16.140Z"
   },
   {
    "duration": 24,
    "start_time": "2023-07-19T20:48:16.194Z"
   },
   {
    "duration": 4,
    "start_time": "2023-07-19T20:48:16.220Z"
   },
   {
    "duration": 9,
    "start_time": "2023-07-19T20:48:16.226Z"
   },
   {
    "duration": 34,
    "start_time": "2023-07-19T20:48:16.237Z"
   },
   {
    "duration": 5,
    "start_time": "2023-07-19T20:48:16.273Z"
   },
   {
    "duration": 44,
    "start_time": "2023-07-19T20:48:16.280Z"
   },
   {
    "duration": 3,
    "start_time": "2023-07-19T20:48:16.326Z"
   },
   {
    "duration": 11430,
    "start_time": "2023-07-19T20:48:16.332Z"
   },
   {
    "duration": 325,
    "start_time": "2023-07-19T20:48:27.764Z"
   },
   {
    "duration": 108940,
    "start_time": "2023-07-19T20:48:28.093Z"
   },
   {
    "duration": 280,
    "start_time": "2023-07-19T20:50:17.034Z"
   },
   {
    "duration": 197,
    "start_time": "2023-07-19T20:50:17.315Z"
   },
   {
    "duration": 136152,
    "start_time": "2023-07-19T20:50:17.513Z"
   },
   {
    "duration": 77559,
    "start_time": "2023-07-19T20:52:33.667Z"
   },
   {
    "duration": 134,
    "start_time": "2023-07-19T20:53:51.228Z"
   },
   {
    "duration": 48,
    "start_time": "2023-07-19T20:58:55.008Z"
   },
   {
    "duration": 3456,
    "start_time": "2023-07-19T20:59:08.098Z"
   },
   {
    "duration": 3,
    "start_time": "2023-07-19T20:59:11.556Z"
   },
   {
    "duration": 85,
    "start_time": "2023-07-19T20:59:11.560Z"
   },
   {
    "duration": 24,
    "start_time": "2023-07-19T20:59:11.647Z"
   },
   {
    "duration": 12,
    "start_time": "2023-07-19T20:59:11.672Z"
   },
   {
    "duration": 843,
    "start_time": "2023-07-19T20:59:11.686Z"
   },
   {
    "duration": 1111,
    "start_time": "2023-07-19T20:59:12.531Z"
   },
   {
    "duration": 4,
    "start_time": "2023-07-19T20:59:13.643Z"
   },
   {
    "duration": 6,
    "start_time": "2023-07-19T20:59:13.659Z"
   },
   {
    "duration": 17,
    "start_time": "2023-07-19T20:59:13.668Z"
   },
   {
    "duration": 20,
    "start_time": "2023-07-19T20:59:13.687Z"
   },
   {
    "duration": 8,
    "start_time": "2023-07-19T20:59:13.709Z"
   },
   {
    "duration": 7,
    "start_time": "2023-07-19T20:59:13.719Z"
   },
   {
    "duration": 3,
    "start_time": "2023-07-19T20:59:13.728Z"
   },
   {
    "duration": 30,
    "start_time": "2023-07-19T20:59:13.733Z"
   },
   {
    "duration": 104,
    "start_time": "2023-07-19T20:59:13.765Z"
   },
   {
    "duration": 6,
    "start_time": "2023-07-19T20:59:13.871Z"
   },
   {
    "duration": 43,
    "start_time": "2023-07-19T20:59:13.878Z"
   },
   {
    "duration": 23,
    "start_time": "2023-07-19T20:59:13.922Z"
   },
   {
    "duration": 4,
    "start_time": "2023-07-19T20:59:13.960Z"
   },
   {
    "duration": 9,
    "start_time": "2023-07-19T20:59:13.965Z"
   },
   {
    "duration": 12,
    "start_time": "2023-07-19T20:59:13.976Z"
   },
   {
    "duration": 5,
    "start_time": "2023-07-19T20:59:13.989Z"
   },
   {
    "duration": 64,
    "start_time": "2023-07-19T20:59:13.995Z"
   },
   {
    "duration": 4,
    "start_time": "2023-07-19T20:59:14.062Z"
   },
   {
    "duration": 12494,
    "start_time": "2023-07-19T20:59:14.068Z"
   },
   {
    "duration": 3,
    "start_time": "2023-07-19T20:59:26.564Z"
   },
   {
    "duration": 135,
    "start_time": "2023-07-19T20:59:26.570Z"
   },
   {
    "duration": 0,
    "start_time": "2023-07-19T20:59:26.708Z"
   },
   {
    "duration": 0,
    "start_time": "2023-07-19T20:59:26.709Z"
   },
   {
    "duration": 0,
    "start_time": "2023-07-19T20:59:26.711Z"
   },
   {
    "duration": 0,
    "start_time": "2023-07-19T20:59:26.713Z"
   },
   {
    "duration": 0,
    "start_time": "2023-07-19T20:59:26.714Z"
   },
   {
    "duration": 0,
    "start_time": "2023-07-19T20:59:26.715Z"
   },
   {
    "duration": 255,
    "start_time": "2023-07-19T21:01:54.736Z"
   },
   {
    "duration": 3441,
    "start_time": "2023-07-19T21:11:06.616Z"
   },
   {
    "duration": 3,
    "start_time": "2023-07-19T21:11:10.059Z"
   },
   {
    "duration": 82,
    "start_time": "2023-07-19T21:11:10.064Z"
   },
   {
    "duration": 27,
    "start_time": "2023-07-19T21:11:10.147Z"
   },
   {
    "duration": 12,
    "start_time": "2023-07-19T21:11:10.176Z"
   },
   {
    "duration": 869,
    "start_time": "2023-07-19T21:11:10.190Z"
   },
   {
    "duration": 1089,
    "start_time": "2023-07-19T21:11:11.061Z"
   },
   {
    "duration": 4,
    "start_time": "2023-07-19T21:11:12.159Z"
   },
   {
    "duration": 10,
    "start_time": "2023-07-19T21:11:12.165Z"
   },
   {
    "duration": 7,
    "start_time": "2023-07-19T21:11:12.177Z"
   },
   {
    "duration": 21,
    "start_time": "2023-07-19T21:11:12.186Z"
   },
   {
    "duration": 10,
    "start_time": "2023-07-19T21:11:12.209Z"
   },
   {
    "duration": 3,
    "start_time": "2023-07-19T21:11:12.221Z"
   },
   {
    "duration": 3,
    "start_time": "2023-07-19T21:11:12.259Z"
   },
   {
    "duration": 8,
    "start_time": "2023-07-19T21:11:12.264Z"
   },
   {
    "duration": 102,
    "start_time": "2023-07-19T21:11:12.273Z"
   },
   {
    "duration": 3,
    "start_time": "2023-07-19T21:11:12.377Z"
   },
   {
    "duration": 35,
    "start_time": "2023-07-19T21:11:12.382Z"
   },
   {
    "duration": 47,
    "start_time": "2023-07-19T21:11:12.420Z"
   },
   {
    "duration": 3,
    "start_time": "2023-07-19T21:11:12.470Z"
   },
   {
    "duration": 11,
    "start_time": "2023-07-19T21:11:12.475Z"
   },
   {
    "duration": 13,
    "start_time": "2023-07-19T21:11:12.487Z"
   },
   {
    "duration": 4,
    "start_time": "2023-07-19T21:11:12.502Z"
   },
   {
    "duration": 53,
    "start_time": "2023-07-19T21:11:12.507Z"
   },
   {
    "duration": 2,
    "start_time": "2023-07-19T21:11:12.562Z"
   },
   {
    "duration": 12694,
    "start_time": "2023-07-19T21:11:12.566Z"
   },
   {
    "duration": 3,
    "start_time": "2023-07-19T21:11:25.262Z"
   },
   {
    "duration": 333,
    "start_time": "2023-07-19T21:11:25.267Z"
   },
   {
    "duration": 115824,
    "start_time": "2023-07-19T21:11:25.601Z"
   },
   {
    "duration": 279,
    "start_time": "2023-07-19T21:13:21.426Z"
   },
   {
    "duration": 202,
    "start_time": "2023-07-19T21:13:21.707Z"
   },
   {
    "duration": 137472,
    "start_time": "2023-07-19T21:13:21.910Z"
   },
   {
    "duration": 77677,
    "start_time": "2023-07-19T21:15:39.384Z"
   },
   {
    "duration": 61,
    "start_time": "2023-07-19T21:16:57.063Z"
   },
   {
    "duration": 179,
    "start_time": "2023-07-19T21:17:27.933Z"
   },
   {
    "duration": 39,
    "start_time": "2023-07-19T21:21:39.267Z"
   },
   {
    "duration": 116862,
    "start_time": "2023-07-19T21:21:57.025Z"
   },
   {
    "duration": 119009,
    "start_time": "2023-07-19T21:24:35.353Z"
   },
   {
    "duration": 330,
    "start_time": "2023-07-19T21:29:24.207Z"
   },
   {
    "duration": 150838,
    "start_time": "2023-07-19T21:33:42.453Z"
   },
   {
    "duration": 89842,
    "start_time": "2023-07-19T21:39:00.471Z"
   },
   {
    "duration": 4,
    "start_time": "2023-07-19T21:42:09.550Z"
   },
   {
    "duration": 4,
    "start_time": "2023-07-19T21:42:22.649Z"
   },
   {
    "duration": 4,
    "start_time": "2023-07-19T21:42:32.433Z"
   },
   {
    "duration": 6,
    "start_time": "2023-07-19T21:42:44.055Z"
   },
   {
    "duration": 5,
    "start_time": "2023-07-19T21:43:15.049Z"
   },
   {
    "duration": 117,
    "start_time": "2023-07-19T21:48:01.750Z"
   },
   {
    "duration": 3711,
    "start_time": "2023-07-19T21:57:28.392Z"
   },
   {
    "duration": 2,
    "start_time": "2023-07-19T21:57:32.106Z"
   },
   {
    "duration": 99,
    "start_time": "2023-07-19T21:57:32.110Z"
   },
   {
    "duration": 42,
    "start_time": "2023-07-19T21:57:32.212Z"
   },
   {
    "duration": 14,
    "start_time": "2023-07-19T21:57:32.256Z"
   },
   {
    "duration": 868,
    "start_time": "2023-07-19T21:57:32.271Z"
   },
   {
    "duration": 1145,
    "start_time": "2023-07-19T21:57:33.141Z"
   },
   {
    "duration": 4,
    "start_time": "2023-07-19T21:57:34.288Z"
   },
   {
    "duration": 13,
    "start_time": "2023-07-19T21:57:34.293Z"
   },
   {
    "duration": 15,
    "start_time": "2023-07-19T21:57:34.309Z"
   },
   {
    "duration": 37,
    "start_time": "2023-07-19T21:57:34.325Z"
   },
   {
    "duration": 11,
    "start_time": "2023-07-19T21:57:34.363Z"
   },
   {
    "duration": 5,
    "start_time": "2023-07-19T21:57:34.375Z"
   },
   {
    "duration": 5,
    "start_time": "2023-07-19T21:57:34.381Z"
   },
   {
    "duration": 9,
    "start_time": "2023-07-19T21:57:34.387Z"
   },
   {
    "duration": 130,
    "start_time": "2023-07-19T21:57:34.397Z"
   },
   {
    "duration": 3,
    "start_time": "2023-07-19T21:57:34.529Z"
   },
   {
    "duration": 69,
    "start_time": "2023-07-19T21:57:34.535Z"
   },
   {
    "duration": 25,
    "start_time": "2023-07-19T21:57:34.605Z"
   },
   {
    "duration": 3,
    "start_time": "2023-07-19T21:57:34.632Z"
   },
   {
    "duration": 27,
    "start_time": "2023-07-19T21:57:34.637Z"
   },
   {
    "duration": 12,
    "start_time": "2023-07-19T21:57:34.666Z"
   },
   {
    "duration": 4,
    "start_time": "2023-07-19T21:57:34.680Z"
   },
   {
    "duration": 36,
    "start_time": "2023-07-19T21:57:34.686Z"
   },
   {
    "duration": 3,
    "start_time": "2023-07-19T21:57:34.724Z"
   },
   {
    "duration": 12207,
    "start_time": "2023-07-19T21:57:34.759Z"
   },
   {
    "duration": 4,
    "start_time": "2023-07-19T21:57:46.968Z"
   },
   {
    "duration": 260,
    "start_time": "2023-07-19T21:57:47.061Z"
   },
   {
    "duration": 121625,
    "start_time": "2023-07-19T21:57:47.323Z"
   },
   {
    "duration": 316,
    "start_time": "2023-07-19T21:59:48.950Z"
   },
   {
    "duration": 207,
    "start_time": "2023-07-19T21:59:49.268Z"
   },
   {
    "duration": 0,
    "start_time": "2023-07-19T22:01:00.323Z"
   },
   {
    "duration": 0,
    "start_time": "2023-07-19T22:01:00.324Z"
   },
   {
    "duration": 0,
    "start_time": "2023-07-19T22:01:00.324Z"
   },
   {
    "duration": 0,
    "start_time": "2023-07-19T22:01:00.325Z"
   },
   {
    "duration": 0,
    "start_time": "2023-07-19T22:02:05.083Z"
   },
   {
    "duration": 161932,
    "start_time": "2023-07-19T22:02:08.077Z"
   },
   {
    "duration": 5223,
    "start_time": "2023-07-20T03:58:28.058Z"
   },
   {
    "duration": 3,
    "start_time": "2023-07-20T03:58:33.283Z"
   },
   {
    "duration": 204,
    "start_time": "2023-07-20T03:58:33.287Z"
   },
   {
    "duration": 28,
    "start_time": "2023-07-20T03:58:33.492Z"
   },
   {
    "duration": 12,
    "start_time": "2023-07-20T03:58:33.522Z"
   },
   {
    "duration": 847,
    "start_time": "2023-07-20T03:58:33.535Z"
   },
   {
    "duration": 1146,
    "start_time": "2023-07-20T03:58:34.384Z"
   },
   {
    "duration": 4,
    "start_time": "2023-07-20T03:58:35.531Z"
   },
   {
    "duration": 19,
    "start_time": "2023-07-20T03:58:35.551Z"
   },
   {
    "duration": 25,
    "start_time": "2023-07-20T03:58:35.572Z"
   },
   {
    "duration": 21,
    "start_time": "2023-07-20T03:58:35.598Z"
   },
   {
    "duration": 26,
    "start_time": "2023-07-20T03:58:35.620Z"
   },
   {
    "duration": 10,
    "start_time": "2023-07-20T03:58:35.647Z"
   },
   {
    "duration": 17,
    "start_time": "2023-07-20T03:58:35.660Z"
   },
   {
    "duration": 19,
    "start_time": "2023-07-20T03:58:35.679Z"
   },
   {
    "duration": 33,
    "start_time": "2023-07-20T03:58:35.700Z"
   },
   {
    "duration": 30,
    "start_time": "2023-07-20T03:58:35.735Z"
   },
   {
    "duration": 55,
    "start_time": "2023-07-20T03:58:35.767Z"
   },
   {
    "duration": 21,
    "start_time": "2023-07-20T03:58:35.824Z"
   },
   {
    "duration": 9,
    "start_time": "2023-07-20T03:58:35.846Z"
   },
   {
    "duration": 27,
    "start_time": "2023-07-20T03:58:35.857Z"
   },
   {
    "duration": 14,
    "start_time": "2023-07-20T03:58:35.885Z"
   },
   {
    "duration": 13,
    "start_time": "2023-07-20T03:58:35.900Z"
   },
   {
    "duration": 67,
    "start_time": "2023-07-20T03:58:35.915Z"
   },
   {
    "duration": 2,
    "start_time": "2023-07-20T03:58:35.984Z"
   },
   {
    "duration": 11775,
    "start_time": "2023-07-20T03:58:35.988Z"
   },
   {
    "duration": 3,
    "start_time": "2023-07-20T03:58:47.853Z"
   },
   {
    "duration": 263,
    "start_time": "2023-07-20T03:58:47.859Z"
   },
   {
    "duration": 112144,
    "start_time": "2023-07-20T03:58:48.124Z"
   },
   {
    "duration": 310,
    "start_time": "2023-07-20T04:00:40.270Z"
   },
   {
    "duration": 199,
    "start_time": "2023-07-20T04:00:40.582Z"
   },
   {
    "duration": 150033,
    "start_time": "2023-07-20T04:00:40.783Z"
   },
   {
    "duration": 4,
    "start_time": "2023-07-20T04:04:34.320Z"
   },
   {
    "duration": 128,
    "start_time": "2023-07-20T04:04:34.325Z"
   },
   {
    "duration": 69265,
    "start_time": "2023-07-20T04:04:34.456Z"
   },
   {
    "duration": 80,
    "start_time": "2023-07-20T10:10:02.177Z"
   },
   {
    "duration": 6162,
    "start_time": "2023-07-20T10:10:17.584Z"
   },
   {
    "duration": 4,
    "start_time": "2023-07-20T10:10:23.749Z"
   },
   {
    "duration": 177,
    "start_time": "2023-07-20T10:10:23.756Z"
   },
   {
    "duration": 38,
    "start_time": "2023-07-20T10:10:23.935Z"
   },
   {
    "duration": 17,
    "start_time": "2023-07-20T10:10:23.976Z"
   },
   {
    "duration": 906,
    "start_time": "2023-07-20T10:10:23.995Z"
   },
   {
    "duration": 1332,
    "start_time": "2023-07-20T10:10:24.904Z"
   },
   {
    "duration": 5,
    "start_time": "2023-07-20T10:10:26.239Z"
   },
   {
    "duration": 21,
    "start_time": "2023-07-20T10:10:26.247Z"
   },
   {
    "duration": 26,
    "start_time": "2023-07-20T10:10:26.270Z"
   },
   {
    "duration": 50,
    "start_time": "2023-07-20T10:10:26.298Z"
   },
   {
    "duration": 20,
    "start_time": "2023-07-20T10:10:26.350Z"
   },
   {
    "duration": 16,
    "start_time": "2023-07-20T10:10:26.371Z"
   },
   {
    "duration": 35,
    "start_time": "2023-07-20T10:10:26.390Z"
   },
   {
    "duration": 39,
    "start_time": "2023-07-20T10:10:26.427Z"
   },
   {
    "duration": 19,
    "start_time": "2023-07-20T10:10:26.468Z"
   },
   {
    "duration": 13,
    "start_time": "2023-07-20T10:10:26.489Z"
   },
   {
    "duration": 57,
    "start_time": "2023-07-20T10:10:26.503Z"
   },
   {
    "duration": 24,
    "start_time": "2023-07-20T10:10:26.563Z"
   },
   {
    "duration": 4,
    "start_time": "2023-07-20T10:10:26.590Z"
   },
   {
    "duration": 29,
    "start_time": "2023-07-20T10:10:26.596Z"
   },
   {
    "duration": 31,
    "start_time": "2023-07-20T10:10:26.627Z"
   },
   {
    "duration": 11,
    "start_time": "2023-07-20T10:10:26.660Z"
   },
   {
    "duration": 56,
    "start_time": "2023-07-20T10:10:26.673Z"
   },
   {
    "duration": 4,
    "start_time": "2023-07-20T10:10:26.730Z"
   },
   {
    "duration": 11783,
    "start_time": "2023-07-20T10:10:26.737Z"
   },
   {
    "duration": 6,
    "start_time": "2023-07-20T10:10:38.522Z"
   },
   {
    "duration": 388,
    "start_time": "2023-07-20T10:10:38.531Z"
   },
   {
    "duration": 134521,
    "start_time": "2023-07-20T10:10:38.921Z"
   },
   {
    "duration": 358,
    "start_time": "2023-07-20T10:12:53.444Z"
   },
   {
    "duration": 252,
    "start_time": "2023-07-20T10:12:53.813Z"
   },
   {
    "duration": 179814,
    "start_time": "2023-07-20T10:12:54.067Z"
   },
   {
    "duration": 79316,
    "start_time": "2023-07-20T10:15:53.883Z"
   },
   {
    "duration": 9,
    "start_time": "2023-07-20T10:17:13.209Z"
   },
   {
    "duration": 133,
    "start_time": "2023-07-20T10:17:13.220Z"
   },
   {
    "duration": 2093,
    "start_time": "2023-07-20T10:27:23.948Z"
   },
   {
    "duration": 2148,
    "start_time": "2023-07-20T10:27:55.072Z"
   },
   {
    "duration": 2192,
    "start_time": "2023-07-20T10:28:14.677Z"
   },
   {
    "duration": 2089,
    "start_time": "2023-07-20T10:28:37.190Z"
   },
   {
    "duration": 3982,
    "start_time": "2023-07-20T10:29:33.840Z"
   },
   {
    "duration": 3,
    "start_time": "2023-07-20T10:29:37.824Z"
   },
   {
    "duration": 134,
    "start_time": "2023-07-20T10:29:37.829Z"
   },
   {
    "duration": 32,
    "start_time": "2023-07-20T10:29:37.965Z"
   },
   {
    "duration": 26,
    "start_time": "2023-07-20T10:29:38.000Z"
   },
   {
    "duration": 954,
    "start_time": "2023-07-20T10:29:38.029Z"
   },
   {
    "duration": 1241,
    "start_time": "2023-07-20T10:29:38.985Z"
   },
   {
    "duration": 4,
    "start_time": "2023-07-20T10:29:40.228Z"
   },
   {
    "duration": 73,
    "start_time": "2023-07-20T10:29:40.234Z"
   },
   {
    "duration": 70,
    "start_time": "2023-07-20T10:29:40.314Z"
   },
   {
    "duration": 44,
    "start_time": "2023-07-20T10:29:40.386Z"
   },
   {
    "duration": 27,
    "start_time": "2023-07-20T10:29:40.432Z"
   },
   {
    "duration": 4,
    "start_time": "2023-07-20T10:29:40.461Z"
   },
   {
    "duration": 15,
    "start_time": "2023-07-20T10:29:40.468Z"
   },
   {
    "duration": 38,
    "start_time": "2023-07-20T10:29:40.484Z"
   },
   {
    "duration": 108,
    "start_time": "2023-07-20T10:29:40.526Z"
   },
   {
    "duration": 19,
    "start_time": "2023-07-20T10:29:40.635Z"
   },
   {
    "duration": 63,
    "start_time": "2023-07-20T10:29:40.656Z"
   },
   {
    "duration": 27,
    "start_time": "2023-07-20T10:29:40.721Z"
   },
   {
    "duration": 7,
    "start_time": "2023-07-20T10:29:40.751Z"
   },
   {
    "duration": 28,
    "start_time": "2023-07-20T10:29:40.760Z"
   },
   {
    "duration": 67,
    "start_time": "2023-07-20T10:29:40.790Z"
   },
   {
    "duration": 27,
    "start_time": "2023-07-20T10:29:40.860Z"
   },
   {
    "duration": 60,
    "start_time": "2023-07-20T10:29:40.889Z"
   },
   {
    "duration": 3,
    "start_time": "2023-07-20T10:29:40.952Z"
   },
   {
    "duration": 12069,
    "start_time": "2023-07-20T10:29:40.958Z"
   },
   {
    "duration": 88,
    "start_time": "2023-07-20T10:29:53.029Z"
   },
   {
    "duration": 2113,
    "start_time": "2023-07-20T10:29:53.119Z"
   },
   {
    "duration": 132060,
    "start_time": "2023-07-20T10:29:55.234Z"
   },
   {
    "duration": 339,
    "start_time": "2023-07-20T10:32:07.309Z"
   },
   {
    "duration": 246,
    "start_time": "2023-07-20T10:32:07.651Z"
   },
   {
    "duration": 178217,
    "start_time": "2023-07-20T10:32:07.899Z"
   },
   {
    "duration": 75516,
    "start_time": "2023-07-20T10:35:06.120Z"
   },
   {
    "duration": 5,
    "start_time": "2023-07-20T10:36:21.638Z"
   },
   {
    "duration": 127,
    "start_time": "2023-07-20T10:36:21.645Z"
   },
   {
    "duration": 120,
    "start_time": "2023-07-20T10:45:37.266Z"
   },
   {
    "duration": 123,
    "start_time": "2023-07-20T10:50:32.404Z"
   },
   {
    "duration": 4233,
    "start_time": "2023-07-20T10:50:39.508Z"
   },
   {
    "duration": 4,
    "start_time": "2023-07-20T10:50:43.744Z"
   },
   {
    "duration": 215,
    "start_time": "2023-07-20T10:50:43.751Z"
   },
   {
    "duration": 42,
    "start_time": "2023-07-20T10:50:43.968Z"
   },
   {
    "duration": 30,
    "start_time": "2023-07-20T10:50:44.014Z"
   },
   {
    "duration": 924,
    "start_time": "2023-07-20T10:50:44.046Z"
   },
   {
    "duration": 1276,
    "start_time": "2023-07-20T10:50:44.972Z"
   },
   {
    "duration": 4,
    "start_time": "2023-07-20T10:50:46.250Z"
   },
   {
    "duration": 67,
    "start_time": "2023-07-20T10:50:46.256Z"
   },
   {
    "duration": 46,
    "start_time": "2023-07-20T10:50:46.325Z"
   },
   {
    "duration": 84,
    "start_time": "2023-07-20T10:50:46.373Z"
   },
   {
    "duration": 60,
    "start_time": "2023-07-20T10:50:46.459Z"
   },
   {
    "duration": 18,
    "start_time": "2023-07-20T10:50:46.522Z"
   },
   {
    "duration": 17,
    "start_time": "2023-07-20T10:50:46.543Z"
   },
   {
    "duration": 45,
    "start_time": "2023-07-20T10:50:46.562Z"
   },
   {
    "duration": 133,
    "start_time": "2023-07-20T10:50:46.609Z"
   },
   {
    "duration": 35,
    "start_time": "2023-07-20T10:50:46.745Z"
   },
   {
    "duration": 81,
    "start_time": "2023-07-20T10:50:46.782Z"
   },
   {
    "duration": 50,
    "start_time": "2023-07-20T10:50:46.865Z"
   },
   {
    "duration": 4,
    "start_time": "2023-07-20T10:50:46.918Z"
   },
   {
    "duration": 48,
    "start_time": "2023-07-20T10:50:46.924Z"
   },
   {
    "duration": 35,
    "start_time": "2023-07-20T10:50:46.975Z"
   },
   {
    "duration": 26,
    "start_time": "2023-07-20T10:50:47.013Z"
   },
   {
    "duration": 69,
    "start_time": "2023-07-20T10:50:47.041Z"
   },
   {
    "duration": 13,
    "start_time": "2023-07-20T10:50:47.112Z"
   },
   {
    "duration": 12389,
    "start_time": "2023-07-20T10:50:47.127Z"
   },
   {
    "duration": 12,
    "start_time": "2023-07-20T10:50:59.523Z"
   },
   {
    "duration": 2206,
    "start_time": "2023-07-20T10:50:59.538Z"
   },
   {
    "duration": 3975,
    "start_time": "2023-07-20T10:52:47.140Z"
   },
   {
    "duration": 2,
    "start_time": "2023-07-20T10:52:51.118Z"
   },
   {
    "duration": 179,
    "start_time": "2023-07-20T10:52:51.122Z"
   },
   {
    "duration": 31,
    "start_time": "2023-07-20T10:52:51.303Z"
   },
   {
    "duration": 27,
    "start_time": "2023-07-20T10:52:51.337Z"
   },
   {
    "duration": 906,
    "start_time": "2023-07-20T10:52:51.365Z"
   },
   {
    "duration": 1171,
    "start_time": "2023-07-20T10:52:52.273Z"
   },
   {
    "duration": 4,
    "start_time": "2023-07-20T10:52:53.446Z"
   },
   {
    "duration": 126,
    "start_time": "2023-07-20T10:52:53.452Z"
   },
   {
    "duration": 174,
    "start_time": "2023-07-20T10:52:53.580Z"
   },
   {
    "duration": 96,
    "start_time": "2023-07-20T10:52:53.756Z"
   },
   {
    "duration": 151,
    "start_time": "2023-07-20T10:52:53.854Z"
   },
   {
    "duration": 63,
    "start_time": "2023-07-20T10:52:54.007Z"
   },
   {
    "duration": 66,
    "start_time": "2023-07-20T10:52:54.074Z"
   },
   {
    "duration": 171,
    "start_time": "2023-07-20T10:52:54.142Z"
   },
   {
    "duration": 115,
    "start_time": "2023-07-20T10:52:54.315Z"
   },
   {
    "duration": 15,
    "start_time": "2023-07-20T10:52:54.432Z"
   },
   {
    "duration": 45,
    "start_time": "2023-07-20T10:52:54.449Z"
   },
   {
    "duration": 46,
    "start_time": "2023-07-20T10:52:54.496Z"
   },
   {
    "duration": 25,
    "start_time": "2023-07-20T10:52:54.543Z"
   },
   {
    "duration": 14,
    "start_time": "2023-07-20T10:52:54.570Z"
   },
   {
    "duration": 32,
    "start_time": "2023-07-20T10:52:54.585Z"
   },
   {
    "duration": 30,
    "start_time": "2023-07-20T10:52:54.619Z"
   },
   {
    "duration": 45,
    "start_time": "2023-07-20T10:52:54.651Z"
   },
   {
    "duration": 4,
    "start_time": "2023-07-20T10:52:54.698Z"
   },
   {
    "duration": 12907,
    "start_time": "2023-07-20T10:52:54.704Z"
   },
   {
    "duration": 3,
    "start_time": "2023-07-20T10:53:07.617Z"
   },
   {
    "duration": 2177,
    "start_time": "2023-07-20T10:53:07.709Z"
   },
   {
    "duration": 133381,
    "start_time": "2023-07-20T10:53:09.888Z"
   },
   {
    "duration": 353,
    "start_time": "2023-07-20T10:55:23.270Z"
   },
   {
    "duration": 233,
    "start_time": "2023-07-20T10:55:23.625Z"
   },
   {
    "duration": 176655,
    "start_time": "2023-07-20T10:55:23.861Z"
   },
   {
    "duration": 74507,
    "start_time": "2023-07-20T10:58:20.518Z"
   },
   {
    "duration": 132,
    "start_time": "2023-07-20T10:59:35.027Z"
   }
  ],
  "kernelspec": {
   "display_name": "Python 3 (ipykernel)",
   "language": "python",
   "name": "python3"
  },
  "language_info": {
   "codemirror_mode": {
    "name": "ipython",
    "version": 3
   },
   "file_extension": ".py",
   "mimetype": "text/x-python",
   "name": "python",
   "nbconvert_exporter": "python",
   "pygments_lexer": "ipython3",
   "version": "3.9.5"
  },
  "toc": {
   "base_numbering": 1,
   "nav_menu": {},
   "number_sections": true,
   "sideBar": true,
   "skip_h1_title": true,
   "title_cell": "Содержание",
   "title_sidebar": "Contents",
   "toc_cell": true,
   "toc_position": {
    "height": "calc(100% - 180px)",
    "left": "10px",
    "top": "150px",
    "width": "177.625px"
   },
   "toc_section_display": true,
   "toc_window_display": true
  }
 },
 "nbformat": 4,
 "nbformat_minor": 2
}
