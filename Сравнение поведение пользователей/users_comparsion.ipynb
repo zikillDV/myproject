{
 "cells": [
  {
   "cell_type": "markdown",
   "metadata": {
    "deletable": false,
    "editable": false,
    "id": "E0vqbgi9ay0H"
   },
   "source": [
    "# Яндекс Музыка"
   ]
  },
  {
   "cell_type": "markdown",
   "metadata": {
    "deletable": false,
    "editable": false,
    "id": "VUC88oWjTJw2"
   },
   "source": [
    "Сравнение Москвы и Петербурга окружено мифами. Например:\n",
    " * Москва — мегаполис, подчинённый жёсткому ритму рабочей недели;\n",
    " * Петербург — культурная столица, со своими вкусами.\n",
    "\n",
    "На данных Яндекс Музыки вы сравните поведение пользователей двух столиц.\n",
    "\n",
    "**Цель исследования** — проверьте три гипотезы:\n",
    "1. Активность пользователей зависит от дня недели. Причём в Москве и Петербурге это проявляется по-разному.\n",
    "2. В понедельник утром в Москве преобладают одни жанры, а в Петербурге — другие. Так же и вечером пятницы преобладают разные жанры — в зависимости от города. \n",
    "3. Москва и Петербург предпочитают разные жанры музыки. В Москве чаще слушают поп-музыку, в Петербурге — русский рэп.\n",
    "\n",
    "**Ход исследования**\n",
    "\n",
    "Данные о поведении пользователей вы получите из файла `yandex_music_project.csv`. О качестве данных ничего не известно. Поэтому перед проверкой гипотез понадобится обзор данных. \n",
    "\n",
    "Вы проверите данные на ошибки и оцените их влияние на исследование. Затем, на этапе предобработки вы поищете возможность исправить самые критичные ошибки данных.\n",
    " \n",
    "Таким образом, исследование пройдёт в три этапа:\n",
    " 1. Обзор данных.\n",
    " 2. Предобработка данных.\n",
    " 3. Проверка гипотез.\n",
    "\n"
   ]
  },
  {
   "cell_type": "markdown",
   "metadata": {
    "deletable": false,
    "editable": false,
    "id": "Ml1hmfXC_Zcs"
   },
   "source": [
    "## Обзор данных\n",
    "\n",
    "Составьте первое представление о данных Яндекс Музыки.\n",
    "\n",
    "\n"
   ]
  },
  {
   "cell_type": "markdown",
   "metadata": {
    "deletable": false,
    "editable": false,
    "id": "57eAOGIz_Zcs",
    "tags": [
     "start_task"
    ]
   },
   "source": [
    "**Задание 1**\n",
    "\n",
    "Основной инструмент аналитика — `pandas`. Импортируйте эту библиотеку."
   ]
  },
  {
   "cell_type": "code",
   "execution_count": 13,
   "metadata": {
    "deletable": false,
    "id": "AXN7PHPN_Zcs"
   },
   "outputs": [],
   "source": [
    "import pandas as pd# импорт библиотеки pandas"
   ]
  },
  {
   "cell_type": "markdown",
   "metadata": {
    "deletable": false,
    "editable": false,
    "id": "SG23P8tt_Zcs",
    "tags": [
     "start_task"
    ]
   },
   "source": [
    "**Задание 2**\n",
    "\n",
    "Прочитайте файл `yandex_music_project.csv` из папки `/datasets` и сохраните его в переменной `df`:"
   ]
  },
  {
   "cell_type": "code",
   "execution_count": 14,
   "metadata": {
    "deletable": false,
    "id": "fFVu7vqh_Zct",
    "scrolled": true
   },
   "outputs": [],
   "source": [
    "df = pd.read_csv('/datasets/yandex_music_project.csv')\n",
    "# чтение файла с данными и сохранение в df"
   ]
  },
  {
   "cell_type": "markdown",
   "metadata": {
    "deletable": false,
    "editable": false,
    "id": "rDoOMd3uTqnZ",
    "tags": [
     "start_task"
    ]
   },
   "source": [
    "**Задание 3**\n",
    "\n",
    "\n",
    "Выведите на экран первые десять строк таблицы:"
   ]
  },
  {
   "cell_type": "code",
   "execution_count": 15,
   "metadata": {
    "deletable": false,
    "id": "oWTVX3gW_Zct"
   },
   "outputs": [
    {
     "data": {
      "text/html": [
       "<div>\n",
       "<style scoped>\n",
       "    .dataframe tbody tr th:only-of-type {\n",
       "        vertical-align: middle;\n",
       "    }\n",
       "\n",
       "    .dataframe tbody tr th {\n",
       "        vertical-align: top;\n",
       "    }\n",
       "\n",
       "    .dataframe thead th {\n",
       "        text-align: right;\n",
       "    }\n",
       "</style>\n",
       "<table border=\"1\" class=\"dataframe\">\n",
       "  <thead>\n",
       "    <tr style=\"text-align: right;\">\n",
       "      <th></th>\n",
       "      <th>userID</th>\n",
       "      <th>Track</th>\n",
       "      <th>artist</th>\n",
       "      <th>genre</th>\n",
       "      <th>City</th>\n",
       "      <th>time</th>\n",
       "      <th>Day</th>\n",
       "    </tr>\n",
       "  </thead>\n",
       "  <tbody>\n",
       "    <tr>\n",
       "      <th>0</th>\n",
       "      <td>FFB692EC</td>\n",
       "      <td>Kamigata To Boots</td>\n",
       "      <td>The Mass Missile</td>\n",
       "      <td>rock</td>\n",
       "      <td>Saint-Petersburg</td>\n",
       "      <td>20:28:33</td>\n",
       "      <td>Wednesday</td>\n",
       "    </tr>\n",
       "    <tr>\n",
       "      <th>1</th>\n",
       "      <td>55204538</td>\n",
       "      <td>Delayed Because of Accident</td>\n",
       "      <td>Andreas Rönnberg</td>\n",
       "      <td>rock</td>\n",
       "      <td>Moscow</td>\n",
       "      <td>14:07:09</td>\n",
       "      <td>Friday</td>\n",
       "    </tr>\n",
       "    <tr>\n",
       "      <th>2</th>\n",
       "      <td>20EC38</td>\n",
       "      <td>Funiculì funiculà</td>\n",
       "      <td>Mario Lanza</td>\n",
       "      <td>pop</td>\n",
       "      <td>Saint-Petersburg</td>\n",
       "      <td>20:58:07</td>\n",
       "      <td>Wednesday</td>\n",
       "    </tr>\n",
       "    <tr>\n",
       "      <th>3</th>\n",
       "      <td>A3DD03C9</td>\n",
       "      <td>Dragons in the Sunset</td>\n",
       "      <td>Fire + Ice</td>\n",
       "      <td>folk</td>\n",
       "      <td>Saint-Petersburg</td>\n",
       "      <td>08:37:09</td>\n",
       "      <td>Monday</td>\n",
       "    </tr>\n",
       "    <tr>\n",
       "      <th>4</th>\n",
       "      <td>E2DC1FAE</td>\n",
       "      <td>Soul People</td>\n",
       "      <td>Space Echo</td>\n",
       "      <td>dance</td>\n",
       "      <td>Moscow</td>\n",
       "      <td>08:34:34</td>\n",
       "      <td>Monday</td>\n",
       "    </tr>\n",
       "    <tr>\n",
       "      <th>5</th>\n",
       "      <td>842029A1</td>\n",
       "      <td>Преданная</td>\n",
       "      <td>IMPERVTOR</td>\n",
       "      <td>rusrap</td>\n",
       "      <td>Saint-Petersburg</td>\n",
       "      <td>13:09:41</td>\n",
       "      <td>Friday</td>\n",
       "    </tr>\n",
       "    <tr>\n",
       "      <th>6</th>\n",
       "      <td>4CB90AA5</td>\n",
       "      <td>True</td>\n",
       "      <td>Roman Messer</td>\n",
       "      <td>dance</td>\n",
       "      <td>Moscow</td>\n",
       "      <td>13:00:07</td>\n",
       "      <td>Wednesday</td>\n",
       "    </tr>\n",
       "    <tr>\n",
       "      <th>7</th>\n",
       "      <td>F03E1C1F</td>\n",
       "      <td>Feeling This Way</td>\n",
       "      <td>Polina Griffith</td>\n",
       "      <td>dance</td>\n",
       "      <td>Moscow</td>\n",
       "      <td>20:47:49</td>\n",
       "      <td>Wednesday</td>\n",
       "    </tr>\n",
       "    <tr>\n",
       "      <th>8</th>\n",
       "      <td>8FA1D3BE</td>\n",
       "      <td>И вновь продолжается бой</td>\n",
       "      <td>NaN</td>\n",
       "      <td>ruspop</td>\n",
       "      <td>Moscow</td>\n",
       "      <td>09:17:40</td>\n",
       "      <td>Friday</td>\n",
       "    </tr>\n",
       "    <tr>\n",
       "      <th>9</th>\n",
       "      <td>E772D5C0</td>\n",
       "      <td>Pessimist</td>\n",
       "      <td>NaN</td>\n",
       "      <td>dance</td>\n",
       "      <td>Saint-Petersburg</td>\n",
       "      <td>21:20:49</td>\n",
       "      <td>Wednesday</td>\n",
       "    </tr>\n",
       "  </tbody>\n",
       "</table>\n",
       "</div>"
      ],
      "text/plain": [
       "     userID                        Track            artist   genre  \\\n",
       "0  FFB692EC            Kamigata To Boots  The Mass Missile    rock   \n",
       "1  55204538  Delayed Because of Accident  Andreas Rönnberg    rock   \n",
       "2    20EC38            Funiculì funiculà       Mario Lanza     pop   \n",
       "3  A3DD03C9        Dragons in the Sunset        Fire + Ice    folk   \n",
       "4  E2DC1FAE                  Soul People        Space Echo   dance   \n",
       "5  842029A1                    Преданная         IMPERVTOR  rusrap   \n",
       "6  4CB90AA5                         True      Roman Messer   dance   \n",
       "7  F03E1C1F             Feeling This Way   Polina Griffith   dance   \n",
       "8  8FA1D3BE     И вновь продолжается бой               NaN  ruspop   \n",
       "9  E772D5C0                    Pessimist               NaN   dance   \n",
       "\n",
       "             City        time        Day  \n",
       "0  Saint-Petersburg  20:28:33  Wednesday  \n",
       "1            Moscow  14:07:09     Friday  \n",
       "2  Saint-Petersburg  20:58:07  Wednesday  \n",
       "3  Saint-Petersburg  08:37:09     Monday  \n",
       "4            Moscow  08:34:34     Monday  \n",
       "5  Saint-Petersburg  13:09:41     Friday  \n",
       "6            Moscow  13:00:07  Wednesday  \n",
       "7            Moscow  20:47:49  Wednesday  \n",
       "8            Moscow  09:17:40     Friday  \n",
       "9  Saint-Petersburg  21:20:49  Wednesday  "
      ]
     },
     "execution_count": 15,
     "metadata": {},
     "output_type": "execute_result"
    }
   ],
   "source": [
    "df.head(10)# получение первых 10 строк таблицы df"
   ]
  },
  {
   "cell_type": "markdown",
   "metadata": {
    "deletable": false,
    "editable": false,
    "id": "EO73Kwic_Zct",
    "tags": [
     "start_task"
    ]
   },
   "source": [
    "**Задание 4**\n",
    "\n",
    "\n",
    "Одной командой получить общую информацию о таблице c помощью метода `info()`:"
   ]
  },
  {
   "cell_type": "code",
   "execution_count": 16,
   "metadata": {
    "deletable": false,
    "id": "DSf2kIb-_Zct"
   },
   "outputs": [
    {
     "name": "stdout",
     "output_type": "stream",
     "text": [
      "<class 'pandas.core.frame.DataFrame'>\n",
      "RangeIndex: 65079 entries, 0 to 65078\n",
      "Data columns (total 7 columns):\n",
      " #   Column    Non-Null Count  Dtype \n",
      "---  ------    --------------  ----- \n",
      " 0     userID  65079 non-null  object\n",
      " 1   Track     63848 non-null  object\n",
      " 2   artist    57876 non-null  object\n",
      " 3   genre     63881 non-null  object\n",
      " 4     City    65079 non-null  object\n",
      " 5   time      65079 non-null  object\n",
      " 6   Day       65079 non-null  object\n",
      "dtypes: object(7)\n",
      "memory usage: 3.5+ MB\n"
     ]
    }
   ],
   "source": [
    "df.info()# получение общей информации о данных в таблице df"
   ]
  },
  {
   "cell_type": "markdown",
   "metadata": {
    "deletable": false,
    "editable": false,
    "id": "TaQ2Iwbr_Zct"
   },
   "source": [
    "Итак, в таблице семь столбцов. Тип данных во всех столбцах — `object`.\n",
    "\n",
    "Согласно документации к данным:\n",
    "* `userID` — идентификатор пользователя;\n",
    "* `Track` — название трека;  \n",
    "* `artist` — имя исполнителя;\n",
    "* `genre` — название жанра;\n",
    "* `City` — город пользователя;\n",
    "* `time` — время начала прослушивания;\n",
    "* `Day` — день недели.\n",
    "\n",
    "Количество значений в столбцах различается. Значит, в данных есть пропущенные значения."
   ]
  },
  {
   "cell_type": "markdown",
   "metadata": {
    "deletable": false,
    "editable": false,
    "id": "rAfziTBDmf2h",
    "tags": [
     "start_task"
    ]
   },
   "source": [
    "**Задание 5**\n",
    "\n",
    "**Вопрос со свободной формой ответа**\n",
    "\n",
    "В названиях колонок видны нарушения стиля:\n",
    "* Строчные буквы сочетаются с прописными.\n",
    "* Встречаются пробелы.\n",
    "\n",
    "Какое третье нарушение?"
   ]
  },
  {
   "cell_type": "code",
   "execution_count": 17,
   "metadata": {
    "id": "jD8EXEIvmf2h"
   },
   "outputs": [],
   "source": [
    "# отсутствует змеиный регистр Напишите ваш ответ здесь комментарием. Не удаляйте символ #. Не меняйте тип этой ячейки на Markdown."
   ]
  },
  {
   "cell_type": "markdown",
   "metadata": {
    "deletable": false,
    "editable": false,
    "id": "MCB6-dXG_Zct"
   },
   "source": [
    "**Выводы**\n",
    "\n",
    "В каждой строке таблицы — данные о прослушанном треке. Часть колонок описывает саму композицию: название, исполнителя и жанр. Остальные данные рассказывают о пользователе: из какого он города, когда он слушал музыку. \n",
    "\n",
    "Предварительно можно утверждать, что данных достаточно для проверки гипотез. Но встречаются пропуски в данных, а в названиях колонок — расхождения с хорошим стилем.\n",
    "\n",
    "Чтобы двигаться дальше, нужно устранить проблемы в данных."
   ]
  },
  {
   "cell_type": "markdown",
   "metadata": {
    "deletable": false,
    "editable": false,
    "id": "SjYF6Ub9_Zct"
   },
   "source": [
    "## Предобработка данных\n",
    "Исправьте стиль в заголовках столбцов, исключите пропуски. Затем проверьте данные на дубликаты."
   ]
  },
  {
   "cell_type": "markdown",
   "metadata": {
    "deletable": false,
    "editable": false,
    "id": "dIaKXr29_Zct",
    "tags": [
     "start_task"
    ]
   },
   "source": [
    "### Стиль заголовков\n",
    "\n",
    "**Задание 6**\n",
    "\n",
    "Выведите на экран названия столбцов:"
   ]
  },
  {
   "cell_type": "code",
   "execution_count": 18,
   "metadata": {
    "deletable": false,
    "id": "oKOTdF_Q_Zct"
   },
   "outputs": [
    {
     "data": {
      "text/plain": [
       "Index(['  userID', 'Track', 'artist', 'genre', '  City  ', 'time', 'Day'], dtype='object')"
      ]
     },
     "execution_count": 18,
     "metadata": {},
     "output_type": "execute_result"
    }
   ],
   "source": [
    "df.columns # перечень названий столбцов таблицы df"
   ]
  },
  {
   "cell_type": "markdown",
   "metadata": {
    "deletable": false,
    "editable": false,
    "id": "zj5534cv_Zct",
    "tags": [
     "start_task"
    ]
   },
   "source": [
    "**Задание 7**\n",
    "\n",
    "\n",
    "Приведите названия в соответствие с хорошим стилем:\n",
    "* несколько слов в названии запишите в «змеином_регистре»,\n",
    "* все символы сделайте строчными,\n",
    "* устраните пробелы.\n",
    "\n",
    "Для этого переименуйте колонки так:\n",
    "* `'  userID'` → `'user_id'`;\n",
    "* `'Track'` → `'track'`;\n",
    "* `'  City  '` → `'city'`;\n",
    "* `'Day'` → `'day'`."
   ]
  },
  {
   "cell_type": "code",
   "execution_count": 19,
   "metadata": {
    "deletable": false,
    "id": "ISlFqs5y_Zct"
   },
   "outputs": [],
   "source": [
    "df = df.rename(\n",
    "    columns={\n",
    "    '  userID':'user_id',\n",
    "    'Track':'track',\n",
    "    '  City  ':'city',\n",
    "    'Day':'day'\n",
    "    }\n",
    ")# переименование столбцов"
   ]
  },
  {
   "cell_type": "markdown",
   "metadata": {
    "deletable": false,
    "editable": false,
    "id": "1dqbh00J_Zct",
    "tags": [
     "start_task"
    ]
   },
   "source": [
    "**Задание 8**\n",
    "\n",
    "\n",
    "Проверьте результат. Для этого ещё раз выведите на экран названия столбцов:"
   ]
  },
  {
   "cell_type": "code",
   "execution_count": 20,
   "metadata": {
    "deletable": false,
    "id": "d4NOAmTW_Zct"
   },
   "outputs": [
    {
     "data": {
      "text/plain": [
       "Index(['user_id', 'track', 'artist', 'genre', 'city', 'time', 'day'], dtype='object')"
      ]
     },
     "execution_count": 20,
     "metadata": {},
     "output_type": "execute_result"
    }
   ],
   "source": [
    "df.columns# проверка результатов - перечень названий столбцов"
   ]
  },
  {
   "cell_type": "markdown",
   "metadata": {
    "deletable": false,
    "editable": false,
    "id": "5ISfbcfY_Zct",
    "tags": [
     "start_task"
    ]
   },
   "source": [
    "### Пропуски значений\n",
    "\n",
    "**Задание 9**\n",
    "\n",
    "Сначала посчитайте, сколько в таблице пропущенных значений. Для этого достаточно двух методов `pandas`:"
   ]
  },
  {
   "cell_type": "code",
   "execution_count": 21,
   "metadata": {
    "deletable": false,
    "id": "RskX29qr_Zct"
   },
   "outputs": [
    {
     "data": {
      "text/plain": [
       "user_id       0\n",
       "track      1231\n",
       "artist     7203\n",
       "genre      1198\n",
       "city          0\n",
       "time          0\n",
       "day           0\n",
       "dtype: int64"
      ]
     },
     "execution_count": 21,
     "metadata": {},
     "output_type": "execute_result"
    }
   ],
   "source": [
    "df.isna().sum()# подсчёт пропусков"
   ]
  },
  {
   "cell_type": "markdown",
   "metadata": {
    "deletable": false,
    "editable": false,
    "id": "qubhgnlO_Zct"
   },
   "source": [
    "Не все пропущенные значения влияют на исследование. Так в `track` и `artist` пропуски не важны для вашей работы. Достаточно заменить их явными обозначениями.\n",
    "\n",
    "Но пропуски в `genre` могут помешать сравнению музыкальных вкусов в Москве и Санкт-Петербурге. На практике было бы правильно установить причину пропусков и восстановить данные. Такой возможности нет в учебном проекте. Придётся:\n",
    "* заполнить и эти пропуски явными обозначениями;\n",
    "* оценить, насколько они повредят расчётам. "
   ]
  },
  {
   "cell_type": "markdown",
   "metadata": {
    "deletable": false,
    "editable": false,
    "id": "fSv2laPA_Zct",
    "tags": [
     "start_task"
    ]
   },
   "source": [
    "**Задание 10**\n",
    "\n",
    "Замените пропущенные значения в столбцах `track`, `artist` и `genre` на строку `'unknown'`. Для этого создайте список `columns_to_replace`, переберите его элементы циклом `for` и для каждого столбца выполните замену пропущенных значений:"
   ]
  },
  {
   "cell_type": "code",
   "execution_count": 22,
   "metadata": {
    "deletable": false,
    "id": "KplB5qWs_Zct"
   },
   "outputs": [],
   "source": [
    "columns_to_replace = ['track','artist','genre']\n",
    "\n",
    "for column in columns_to_replace:\n",
    "    df[column] = df[column].fillna('unknown')\n",
    "    \n",
    "    # перебор названий столбцов в цикле и замена пропущенных значений на 'unknown'"
   ]
  },
  {
   "cell_type": "markdown",
   "metadata": {
    "deletable": false,
    "editable": false,
    "id": "Ilsm-MZo_Zct",
    "tags": [
     "start_task"
    ]
   },
   "source": [
    "**Задание 11**\n",
    "\n",
    "Убедитесь, что в таблице не осталось пропусков. Для этого ещё раз посчитайте пропущенные значения."
   ]
  },
  {
   "cell_type": "code",
   "execution_count": 23,
   "metadata": {
    "deletable": false,
    "id": "Tq4nYRX4_Zct"
   },
   "outputs": [
    {
     "data": {
      "text/plain": [
       "user_id    0\n",
       "track      0\n",
       "artist     0\n",
       "genre      0\n",
       "city       0\n",
       "time       0\n",
       "day        0\n",
       "dtype: int64"
      ]
     },
     "execution_count": 23,
     "metadata": {},
     "output_type": "execute_result"
    }
   ],
   "source": [
    "df.isna().sum()# подсчёт пропусков"
   ]
  },
  {
   "cell_type": "markdown",
   "metadata": {
    "deletable": false,
    "editable": false,
    "id": "BWKRtBJ3_Zct",
    "tags": [
     "start_task"
    ]
   },
   "source": [
    "### Дубликаты\n",
    "\n",
    "**Задание 12**\n",
    "\n",
    "Посчитайте явные дубликаты в таблице одной командой:"
   ]
  },
  {
   "cell_type": "code",
   "execution_count": 24,
   "metadata": {
    "deletable": false,
    "id": "36eES_S0_Zct"
   },
   "outputs": [
    {
     "data": {
      "text/plain": [
       "3826"
      ]
     },
     "execution_count": 24,
     "metadata": {},
     "output_type": "execute_result"
    }
   ],
   "source": [
    "df.duplicated().sum()# подсчёт явных дубликатов"
   ]
  },
  {
   "cell_type": "markdown",
   "metadata": {
    "deletable": false,
    "editable": false,
    "id": "Ot25h6XR_Zct",
    "tags": [
     "start_task"
    ]
   },
   "source": [
    "**Задание 13**\n",
    "\n",
    "Вызовите специальный метод `pandas`, чтобы удалить явные дубликаты:"
   ]
  },
  {
   "cell_type": "code",
   "execution_count": 25,
   "metadata": {
    "deletable": false,
    "id": "exFHq6tt_Zct"
   },
   "outputs": [],
   "source": [
    "df = df.drop_duplicates()# удаление явных дубликатов"
   ]
  },
  {
   "cell_type": "markdown",
   "metadata": {
    "deletable": false,
    "editable": false,
    "id": "Im2YwBEG_Zct",
    "tags": [
     "start_task"
    ]
   },
   "source": [
    "**Задание 14**\n",
    "\n",
    "Ещё раз посчитайте явные дубликаты в таблице — убедитесь, что полностью от них избавились:"
   ]
  },
  {
   "cell_type": "code",
   "execution_count": 26,
   "metadata": {
    "deletable": false,
    "id": "-8PuNWQ0_Zct"
   },
   "outputs": [
    {
     "data": {
      "text/plain": [
       "0"
      ]
     },
     "execution_count": 26,
     "metadata": {},
     "output_type": "execute_result"
    }
   ],
   "source": [
    "df.duplicated().sum()# проверка на отсутствие дубликатов"
   ]
  },
  {
   "cell_type": "markdown",
   "metadata": {
    "deletable": false,
    "editable": false,
    "id": "QlFBsxAr_Zct"
   },
   "source": [
    "Теперь избавьтесь от неявных дубликатов в колонке `genre`. Например, название одного и того же жанра может быть записано немного по-разному. Такие ошибки тоже повлияют на результат исследования."
   ]
  },
  {
   "cell_type": "markdown",
   "metadata": {
    "deletable": false,
    "editable": false,
    "id": "eSjWwsOh_Zct",
    "tags": [
     "start_task"
    ]
   },
   "source": [
    "**Задание 15**\n",
    "\n",
    "Выведите на экран список уникальных названий жанров, отсортированный в алфавитном порядке. Для этого:\n",
    "1. извлеките нужный столбец датафрейма; \n",
    "2. примените к нему метод сортировки;\n",
    "3. для отсортированного столбца вызовите метод, который вернёт уникальные значения из столбца."
   ]
  },
  {
   "cell_type": "code",
   "execution_count": 27,
   "metadata": {
    "deletable": false,
    "id": "JIUcqzZN_Zct"
   },
   "outputs": [
    {
     "data": {
      "text/plain": [
       "array(['acid', 'acoustic', 'action', 'adult', 'africa', 'afrikaans',\n",
       "       'alternative', 'alternativepunk', 'ambient', 'americana',\n",
       "       'animated', 'anime', 'arabesk', 'arabic', 'arena',\n",
       "       'argentinetango', 'art', 'audiobook', 'author', 'avantgarde',\n",
       "       'axé', 'baile', 'balkan', 'beats', 'bigroom', 'black', 'bluegrass',\n",
       "       'blues', 'bollywood', 'bossa', 'brazilian', 'breakbeat', 'breaks',\n",
       "       'broadway', 'cantautori', 'cantopop', 'canzone', 'caribbean',\n",
       "       'caucasian', 'celtic', 'chamber', 'chanson', 'children', 'chill',\n",
       "       'chinese', 'choral', 'christian', 'christmas', 'classical',\n",
       "       'classicmetal', 'club', 'colombian', 'comedy', 'conjazz',\n",
       "       'contemporary', 'country', 'cuban', 'dance', 'dancehall',\n",
       "       'dancepop', 'dark', 'death', 'deep', 'deutschrock', 'deutschspr',\n",
       "       'dirty', 'disco', 'dnb', 'documentary', 'downbeat', 'downtempo',\n",
       "       'drum', 'dub', 'dubstep', 'eastern', 'easy', 'electronic',\n",
       "       'electropop', 'emo', 'entehno', 'epicmetal', 'estrada', 'ethnic',\n",
       "       'eurofolk', 'european', 'experimental', 'extrememetal', 'fado',\n",
       "       'fairytail', 'film', 'fitness', 'flamenco', 'folk', 'folklore',\n",
       "       'folkmetal', 'folkrock', 'folktronica', 'forró', 'frankreich',\n",
       "       'französisch', 'french', 'funk', 'future', 'gangsta', 'garage',\n",
       "       'german', 'ghazal', 'gitarre', 'glitch', 'gospel', 'gothic',\n",
       "       'grime', 'grunge', 'gypsy', 'handsup', \"hard'n'heavy\", 'hardcore',\n",
       "       'hardstyle', 'hardtechno', 'hip', 'hip-hop', 'hiphop',\n",
       "       'historisch', 'holiday', 'hop', 'horror', 'house', 'hymn', 'idm',\n",
       "       'independent', 'indian', 'indie', 'indipop', 'industrial',\n",
       "       'inspirational', 'instrumental', 'international', 'irish', 'jam',\n",
       "       'japanese', 'jazz', 'jewish', 'jpop', 'jungle', 'k-pop',\n",
       "       'karadeniz', 'karaoke', 'kayokyoku', 'korean', 'laiko', 'latin',\n",
       "       'latino', 'leftfield', 'local', 'lounge', 'loungeelectronic',\n",
       "       'lovers', 'malaysian', 'mandopop', 'marschmusik', 'meditative',\n",
       "       'mediterranean', 'melodic', 'metal', 'metalcore', 'mexican',\n",
       "       'middle', 'minimal', 'miscellaneous', 'modern', 'mood', 'mpb',\n",
       "       'muslim', 'native', 'neoklassik', 'neue', 'new', 'newage',\n",
       "       'newwave', 'nu', 'nujazz', 'numetal', 'oceania', 'old', 'opera',\n",
       "       'orchestral', 'other', 'piano', 'podcasts', 'pop', 'popdance',\n",
       "       'popelectronic', 'popeurodance', 'poprussian', 'post',\n",
       "       'posthardcore', 'postrock', 'power', 'progmetal', 'progressive',\n",
       "       'psychedelic', 'punjabi', 'punk', 'quebecois', 'ragga', 'ram',\n",
       "       'rancheras', 'rap', 'rave', 'reggae', 'reggaeton', 'regional',\n",
       "       'relax', 'religious', 'retro', 'rhythm', 'rnb', 'rnr', 'rock',\n",
       "       'rockabilly', 'rockalternative', 'rockindie', 'rockother',\n",
       "       'romance', 'roots', 'ruspop', 'rusrap', 'rusrock', 'russian',\n",
       "       'salsa', 'samba', 'scenic', 'schlager', 'self', 'sertanejo',\n",
       "       'shanson', 'shoegazing', 'showtunes', 'singer', 'ska', 'skarock',\n",
       "       'slow', 'smooth', 'soft', 'soul', 'soulful', 'sound', 'soundtrack',\n",
       "       'southern', 'specialty', 'speech', 'spiritual', 'sport',\n",
       "       'stonerrock', 'surf', 'swing', 'synthpop', 'synthrock',\n",
       "       'sängerportrait', 'tango', 'tanzorchester', 'taraftar', 'tatar',\n",
       "       'tech', 'techno', 'teen', 'thrash', 'top', 'traditional',\n",
       "       'tradjazz', 'trance', 'tribal', 'trip', 'triphop', 'tropical',\n",
       "       'türk', 'türkçe', 'ukrrock', 'unknown', 'urban', 'uzbek',\n",
       "       'variété', 'vi', 'videogame', 'vocal', 'western', 'world',\n",
       "       'worldbeat', 'ïîï', 'электроника'], dtype=object)"
      ]
     },
     "execution_count": 27,
     "metadata": {},
     "output_type": "execute_result"
    }
   ],
   "source": [
    "df['genre'].sort_values().unique()# Просмотр уникальных названий жанров"
   ]
  },
  {
   "cell_type": "markdown",
   "metadata": {
    "deletable": false,
    "editable": false,
    "id": "qej-Qmuo_Zct",
    "tags": [
     "start_task"
    ]
   },
   "source": [
    "**Задание 16**\n",
    "\n",
    "Просмотрите список и найдите неявные дубликаты названия `hiphop`. Это могут быть названия с ошибками или альтернативные названия того же жанра.\n",
    "\n",
    "Вы увидите следующие неявные дубликаты:\n",
    "* *hip*,\n",
    "* *hop*,\n",
    "* *hip-hop*.\n",
    "\n",
    "Чтобы очистить от них таблицу используйте метод `replace()` с двумя аргументами: списком строк-дубликатов (включащий *hip*, *hop* и *hip-hop*) и строкой с правильным значением. Вам нужно исправить колонку `genre` в таблице `df`: заменить каждое значение из списка дубликатов на верное. Вместо `hip`, `hop` и `hip-hop` в таблице должно быть значение `hiphop`:"
   ]
  },
  {
   "cell_type": "code",
   "execution_count": 28,
   "metadata": {
    "deletable": false,
    "id": "ErNDkmns_Zct"
   },
   "outputs": [],
   "source": [
    "hip_hop_values = ['hip','hop','hip-hop'] #список всех строк-дубликатов\n",
    "select_name = 'hiphop' #значение, на которое будет знаменен список всех строк-дубликатов\n",
    "df['genre'] = df['genre'].replace(hip_hop_values, select_name)# Устранение неявных дубликатов"
   ]
  },
  {
   "cell_type": "markdown",
   "metadata": {
    "deletable": false,
    "editable": false,
    "id": "zQKF16_RG15m",
    "tags": [
     "start_task"
    ]
   },
   "source": [
    "**Задание 17**\n",
    "\n",
    "Проверьте, что заменили неправильные названия:\n",
    "\n",
    "*   hip,\n",
    "*   hop,\n",
    "*   hip-hop.\n",
    "\n",
    "Выведите отсортированный список уникальных значений столбца `genre`:"
   ]
  },
  {
   "cell_type": "code",
   "execution_count": 29,
   "metadata": {
    "deletable": false,
    "id": "wvixALnFG15m"
   },
   "outputs": [
    {
     "data": {
      "text/plain": [
       "array(['acid', 'acoustic', 'action', 'adult', 'africa', 'afrikaans',\n",
       "       'alternative', 'alternativepunk', 'ambient', 'americana',\n",
       "       'animated', 'anime', 'arabesk', 'arabic', 'arena',\n",
       "       'argentinetango', 'art', 'audiobook', 'author', 'avantgarde',\n",
       "       'axé', 'baile', 'balkan', 'beats', 'bigroom', 'black', 'bluegrass',\n",
       "       'blues', 'bollywood', 'bossa', 'brazilian', 'breakbeat', 'breaks',\n",
       "       'broadway', 'cantautori', 'cantopop', 'canzone', 'caribbean',\n",
       "       'caucasian', 'celtic', 'chamber', 'chanson', 'children', 'chill',\n",
       "       'chinese', 'choral', 'christian', 'christmas', 'classical',\n",
       "       'classicmetal', 'club', 'colombian', 'comedy', 'conjazz',\n",
       "       'contemporary', 'country', 'cuban', 'dance', 'dancehall',\n",
       "       'dancepop', 'dark', 'death', 'deep', 'deutschrock', 'deutschspr',\n",
       "       'dirty', 'disco', 'dnb', 'documentary', 'downbeat', 'downtempo',\n",
       "       'drum', 'dub', 'dubstep', 'eastern', 'easy', 'electronic',\n",
       "       'electropop', 'emo', 'entehno', 'epicmetal', 'estrada', 'ethnic',\n",
       "       'eurofolk', 'european', 'experimental', 'extrememetal', 'fado',\n",
       "       'fairytail', 'film', 'fitness', 'flamenco', 'folk', 'folklore',\n",
       "       'folkmetal', 'folkrock', 'folktronica', 'forró', 'frankreich',\n",
       "       'französisch', 'french', 'funk', 'future', 'gangsta', 'garage',\n",
       "       'german', 'ghazal', 'gitarre', 'glitch', 'gospel', 'gothic',\n",
       "       'grime', 'grunge', 'gypsy', 'handsup', \"hard'n'heavy\", 'hardcore',\n",
       "       'hardstyle', 'hardtechno', 'hiphop', 'historisch', 'holiday',\n",
       "       'horror', 'house', 'hymn', 'idm', 'independent', 'indian', 'indie',\n",
       "       'indipop', 'industrial', 'inspirational', 'instrumental',\n",
       "       'international', 'irish', 'jam', 'japanese', 'jazz', 'jewish',\n",
       "       'jpop', 'jungle', 'k-pop', 'karadeniz', 'karaoke', 'kayokyoku',\n",
       "       'korean', 'laiko', 'latin', 'latino', 'leftfield', 'local',\n",
       "       'lounge', 'loungeelectronic', 'lovers', 'malaysian', 'mandopop',\n",
       "       'marschmusik', 'meditative', 'mediterranean', 'melodic', 'metal',\n",
       "       'metalcore', 'mexican', 'middle', 'minimal', 'miscellaneous',\n",
       "       'modern', 'mood', 'mpb', 'muslim', 'native', 'neoklassik', 'neue',\n",
       "       'new', 'newage', 'newwave', 'nu', 'nujazz', 'numetal', 'oceania',\n",
       "       'old', 'opera', 'orchestral', 'other', 'piano', 'podcasts', 'pop',\n",
       "       'popdance', 'popelectronic', 'popeurodance', 'poprussian', 'post',\n",
       "       'posthardcore', 'postrock', 'power', 'progmetal', 'progressive',\n",
       "       'psychedelic', 'punjabi', 'punk', 'quebecois', 'ragga', 'ram',\n",
       "       'rancheras', 'rap', 'rave', 'reggae', 'reggaeton', 'regional',\n",
       "       'relax', 'religious', 'retro', 'rhythm', 'rnb', 'rnr', 'rock',\n",
       "       'rockabilly', 'rockalternative', 'rockindie', 'rockother',\n",
       "       'romance', 'roots', 'ruspop', 'rusrap', 'rusrock', 'russian',\n",
       "       'salsa', 'samba', 'scenic', 'schlager', 'self', 'sertanejo',\n",
       "       'shanson', 'shoegazing', 'showtunes', 'singer', 'ska', 'skarock',\n",
       "       'slow', 'smooth', 'soft', 'soul', 'soulful', 'sound', 'soundtrack',\n",
       "       'southern', 'specialty', 'speech', 'spiritual', 'sport',\n",
       "       'stonerrock', 'surf', 'swing', 'synthpop', 'synthrock',\n",
       "       'sängerportrait', 'tango', 'tanzorchester', 'taraftar', 'tatar',\n",
       "       'tech', 'techno', 'teen', 'thrash', 'top', 'traditional',\n",
       "       'tradjazz', 'trance', 'tribal', 'trip', 'triphop', 'tropical',\n",
       "       'türk', 'türkçe', 'ukrrock', 'unknown', 'urban', 'uzbek',\n",
       "       'variété', 'vi', 'videogame', 'vocal', 'western', 'world',\n",
       "       'worldbeat', 'ïîï', 'электроника'], dtype=object)"
      ]
     },
     "execution_count": 29,
     "metadata": {},
     "output_type": "execute_result"
    }
   ],
   "source": [
    "df['genre'].sort_values().unique()# Проверка на неявные дубликаты"
   ]
  },
  {
   "cell_type": "markdown",
   "metadata": {
    "deletable": false,
    "editable": false,
    "id": "jz6a9-7HQUDd"
   },
   "source": [
    "**Выводы**\n",
    "\n",
    "Предобработка обнаружила три проблемы в данных:\n",
    "\n",
    "- нарушения в стиле заголовков,\n",
    "- пропущенные значения,\n",
    "- дубликаты — явные и неявные.\n",
    "\n",
    "Вы исправили заголовки, чтобы упростить работу с таблицей. Без дубликатов исследование станет более точным.\n",
    "\n",
    "Пропущенные значения вы заменили на `'unknown'`. Ещё предстоит увидеть, не повредят ли исследованию пропуски в колонке `genre`.\n",
    "\n",
    "Теперь можно перейти к проверке гипотез. "
   ]
  },
  {
   "cell_type": "markdown",
   "metadata": {
    "deletable": false,
    "editable": false,
    "id": "WttZHXH0SqKk"
   },
   "source": [
    "## Проверка гипотез"
   ]
  },
  {
   "cell_type": "markdown",
   "metadata": {
    "deletable": false,
    "editable": false,
    "id": "Im936VVi_Zcu"
   },
   "source": [
    "### Сравнение поведения пользователей двух столиц"
   ]
  },
  {
   "cell_type": "markdown",
   "metadata": {
    "deletable": false,
    "editable": false,
    "id": "nwt_MuaL_Zcu"
   },
   "source": [
    "Первая гипотеза утверждает, что пользователи по-разному слушают музыку в Москве и Санкт-Петербурге. Проверьте это предположение по данным о трёх днях недели — понедельнике, среде и пятнице. Для этого:\n",
    "\n",
    "* Разделите пользователей Москвы и Санкт-Петербурга.\n",
    "* Сравните, сколько треков послушала каждая группа пользователей в понедельник, среду и пятницу.\n"
   ]
  },
  {
   "cell_type": "markdown",
   "metadata": {
    "deletable": false,
    "editable": false,
    "id": "8Dw_YMmT_Zcu",
    "tags": [
     "start_task"
    ]
   },
   "source": [
    "**Задание 18**\n",
    "\n",
    "Для тренировки сначала выполните каждый из расчётов по отдельности. \n",
    "\n",
    "Оцените активность пользователей в каждом городе. Сгруппируйте данные по городу и посчитайте прослушивания в каждой группе.\n",
    "\n"
   ]
  },
  {
   "cell_type": "code",
   "execution_count": 30,
   "metadata": {
    "deletable": false,
    "id": "0_Qs96oh_Zcu"
   },
   "outputs": [
    {
     "data": {
      "text/plain": [
       "city\n",
       "Moscow              42741\n",
       "Saint-Petersburg    18512\n",
       "Name: track, dtype: int64"
      ]
     },
     "execution_count": 30,
     "metadata": {},
     "output_type": "execute_result"
    }
   ],
   "source": [
    "music_in_city = df.groupby('city')['track'].count()\n",
    "music_in_city\n",
    "\n",
    "# Подсчёт прослушиваний в каждом городе"
   ]
  },
  {
   "cell_type": "markdown",
   "metadata": {
    "deletable": false,
    "editable": false,
    "id": "dzli3w8o_Zcu",
    "tags": [
     "start_task"
    ]
   },
   "source": [
    "В Москве прослушиваний больше, чем в Петербурге. Из этого не следует, что московские пользователи чаще слушают музыку. Просто самих пользователей в Москве больше.\n",
    "\n",
    "**Задание 19**\n",
    "\n",
    "Теперь сгруппируйте данные по дню недели и посчитайте прослушивания в понедельник, среду и пятницу. Учтите, что в данных есть информация о прослушиваниях только за эти дни.\n"
   ]
  },
  {
   "cell_type": "code",
   "execution_count": 31,
   "metadata": {
    "deletable": false,
    "id": "uZMKjiJz_Zcu"
   },
   "outputs": [
    {
     "data": {
      "text/plain": [
       "day\n",
       "Friday       21840\n",
       "Monday       21354\n",
       "Wednesday    18059\n",
       "Name: track, dtype: int64"
      ]
     },
     "execution_count": 31,
     "metadata": {},
     "output_type": "execute_result"
    }
   ],
   "source": [
    "music_mwf = df.groupby('day')['track'].count()\n",
    "music_mwf # Подсчёт прослушиваний в каждый из трёх дней"
   ]
  },
  {
   "cell_type": "markdown",
   "metadata": {
    "deletable": false,
    "editable": false,
    "id": "cC2tNrlL_Zcu"
   },
   "source": [
    "В среднем пользователи из двух городов менее активны по средам. Но картина может измениться, если рассмотреть каждый город в отдельности."
   ]
  },
  {
   "cell_type": "markdown",
   "metadata": {
    "deletable": false,
    "editable": false,
    "id": "POzs8bGa_Zcu",
    "tags": [
     "start_task"
    ]
   },
   "source": [
    "**Задание 20**\n",
    "\n",
    "\n",
    "Вы видели, как работает группировка по городу и по дням недели. Теперь напишите функцию, которая объединит два эти расчёта.\n",
    "\n",
    "Создайте функцию `number_tracks()`, которая посчитает прослушивания для заданного дня и города. Ей понадобятся два параметра:\n",
    "* день недели,\n",
    "* название города.\n",
    "\n",
    "В функции сохраните в переменную строки исходной таблицы, у которых значение:\n",
    "  * в колонке `day` равно параметру `day`,\n",
    "  * в колонке `city` равно параметру `city`.\n",
    "\n",
    "Для этого примените последовательную фильтрацию с логической индексацией (или сложные логические выражения в одну строку, если вы уже знакомы с ними).\n",
    "\n",
    "Затем посчитайте значения в столбце `user_id` получившейся таблицы. Результат сохраните в новую переменную. Верните эту переменную из функции."
   ]
  },
  {
   "cell_type": "code",
   "execution_count": 32,
   "metadata": {
    "deletable": false,
    "id": "Nz3GdQB1_Zcu"
   },
   "outputs": [],
   "source": [
    "# <создание функции number_tracks()>\n",
    "def number_tracks(day, city): # Объявляется функция с двумя параметрами: day, city.\n",
    "    track_list = df[df['day'] == day]\n",
    "    track_list = track_list[track_list['city'] == city]\n",
    "    track_list_count = track_list['user_id'].count()\n",
    "    return track_list_count\n",
    "\n",
    "# В переменной track_list сохраняются те строки таблицы df, для которых \n",
    "# значение в столбце 'day' равно параметру day и одновременно значение\n",
    "# в столбце 'city' равно параметру city (используйте последовательную фильтрацию\n",
    "# с помощью логической индексации или сложные логические выражения в одну строку, если вы уже знакомы с ними).\n",
    "# В переменной track_list_count сохраняется число значений столбца 'user_id',\n",
    "# рассчитанное методом count() для таблицы track_list.\n",
    "# Функция возвращает число - значение track_list_count.\n",
    "\n",
    "# Функция для подсчёта прослушиваний для конкретного города и дня.\n",
    "# С помощью последовательной фильтрации с логической индексацией она \n",
    "# сначала получит из исходной таблицы строки с нужным днём,\n",
    "# затем из результата отфильтрует строки с нужным городом,\n",
    "# методом count() посчитает количество значений в колонке user_id. \n",
    "# Это количество функция вернёт в качестве результата"
   ]
  },
  {
   "cell_type": "markdown",
   "metadata": {
    "deletable": false,
    "editable": false,
    "id": "ytf7xFrFJQ2r",
    "tags": [
     "start_task"
    ]
   },
   "source": [
    "**Задание 21**\n",
    "\n",
    "Вызовите `number_tracks()` шесть раз, меняя значение параметров — так, чтобы получить данные для каждого города в каждый из трёх дней."
   ]
  },
  {
   "cell_type": "code",
   "execution_count": 33,
   "metadata": {
    "deletable": false,
    "id": "rJcRATNQ_Zcu"
   },
   "outputs": [
    {
     "data": {
      "text/plain": [
       "15740"
      ]
     },
     "execution_count": 33,
     "metadata": {},
     "output_type": "execute_result"
    }
   ],
   "source": [
    "number_tracks('Monday', 'Moscow')# количество прослушиваний в Москве по понедельникам"
   ]
  },
  {
   "cell_type": "code",
   "execution_count": 34,
   "metadata": {
    "deletable": false,
    "id": "hq_ncZ5T_Zcu"
   },
   "outputs": [
    {
     "data": {
      "text/plain": [
       "5614"
      ]
     },
     "execution_count": 34,
     "metadata": {},
     "output_type": "execute_result"
    }
   ],
   "source": [
    "number_tracks('Monday', 'Saint-Petersburg')# количество прослушиваний в Санкт-Петербурге по понедельникам"
   ]
  },
  {
   "cell_type": "code",
   "execution_count": 35,
   "metadata": {
    "deletable": false,
    "id": "_NTy2VPU_Zcu"
   },
   "outputs": [
    {
     "data": {
      "text/plain": [
       "11056"
      ]
     },
     "execution_count": 35,
     "metadata": {},
     "output_type": "execute_result"
    }
   ],
   "source": [
    "number_tracks('Wednesday', 'Moscow')# количество прослушиваний в Москве по средам"
   ]
  },
  {
   "cell_type": "code",
   "execution_count": 36,
   "metadata": {
    "deletable": false,
    "id": "j2y3TAwo_Zcu"
   },
   "outputs": [
    {
     "data": {
      "text/plain": [
       "7003"
      ]
     },
     "execution_count": 36,
     "metadata": {},
     "output_type": "execute_result"
    }
   ],
   "source": [
    "number_tracks('Wednesday', 'Saint-Petersburg')# количество прослушиваний в Санкт-Петербурге по средам"
   ]
  },
  {
   "cell_type": "code",
   "execution_count": 37,
   "metadata": {
    "deletable": false,
    "id": "vYDw5u_K_Zcu"
   },
   "outputs": [
    {
     "data": {
      "text/plain": [
       "15945"
      ]
     },
     "execution_count": 37,
     "metadata": {},
     "output_type": "execute_result"
    }
   ],
   "source": [
    "number_tracks('Friday', 'Moscow')# количество прослушиваний в Москве по пятницам"
   ]
  },
  {
   "cell_type": "code",
   "execution_count": 38,
   "metadata": {
    "deletable": false,
    "id": "8_yzFtW3_Zcu"
   },
   "outputs": [
    {
     "data": {
      "text/plain": [
       "5895"
      ]
     },
     "execution_count": 38,
     "metadata": {},
     "output_type": "execute_result"
    }
   ],
   "source": [
    "number_tracks('Friday', 'Saint-Petersburg')# количество прослушиваний в Санкт-Петербурге по пятницам"
   ]
  },
  {
   "cell_type": "markdown",
   "metadata": {
    "deletable": false,
    "editable": false,
    "id": "7QXffbO-_Zcu",
    "tags": [
     "start_task"
    ]
   },
   "source": [
    "**Задание 22**\n",
    "\n",
    "Создайте c помощью конструктора `pd.DataFrame` таблицу, где\n",
    "* названия колонок — `['city', 'monday', 'wednesday', 'friday']`;\n",
    "* данные — результаты, которые вы получили с помощью `number_tracks`."
   ]
  },
  {
   "cell_type": "code",
   "execution_count": 39,
   "metadata": {
    "deletable": false,
    "id": "APAcLpOr_Zcu"
   },
   "outputs": [
    {
     "data": {
      "text/html": [
       "<div>\n",
       "<style scoped>\n",
       "    .dataframe tbody tr th:only-of-type {\n",
       "        vertical-align: middle;\n",
       "    }\n",
       "\n",
       "    .dataframe tbody tr th {\n",
       "        vertical-align: top;\n",
       "    }\n",
       "\n",
       "    .dataframe thead th {\n",
       "        text-align: right;\n",
       "    }\n",
       "</style>\n",
       "<table border=\"1\" class=\"dataframe\">\n",
       "  <thead>\n",
       "    <tr style=\"text-align: right;\">\n",
       "      <th></th>\n",
       "      <th>city</th>\n",
       "      <th>monday</th>\n",
       "      <th>wednesday</th>\n",
       "      <th>friday</th>\n",
       "    </tr>\n",
       "  </thead>\n",
       "  <tbody>\n",
       "    <tr>\n",
       "      <th>0</th>\n",
       "      <td>Москва</td>\n",
       "      <td>15740</td>\n",
       "      <td>5614</td>\n",
       "      <td>11056</td>\n",
       "    </tr>\n",
       "    <tr>\n",
       "      <th>1</th>\n",
       "      <td>Санкт-Петербург</td>\n",
       "      <td>7003</td>\n",
       "      <td>15945</td>\n",
       "      <td>5895</td>\n",
       "    </tr>\n",
       "  </tbody>\n",
       "</table>\n",
       "</div>"
      ],
      "text/plain": [
       "              city monday wednesday friday\n",
       "0           Москва  15740      5614  11056\n",
       "1  Санкт-Петербург   7003     15945   5895"
      ]
     },
     "execution_count": 39,
     "metadata": {},
     "output_type": "execute_result"
    }
   ],
   "source": [
    "columns = ['city', 'monday', 'wednesday', 'friday']\n",
    "data = [['Москва','15740','5614','11056'],['Санкт-Петербург','7003','15945','5895']]\n",
    "info = pd.DataFrame(data=data, columns=columns)\n",
    "info# Таблица с результатами"
   ]
  },
  {
   "cell_type": "markdown",
   "metadata": {
    "deletable": false,
    "editable": false,
    "id": "-EgPIHYu_Zcu"
   },
   "source": [
    "**Выводы**\n",
    "\n",
    "Данные показывают разницу поведения пользователей:\n",
    "\n",
    "- В Москве пик прослушиваний приходится на понедельник и пятницу, а в среду заметен спад.\n",
    "- В Петербурге, наоборот, больше слушают музыку по средам. Активность в понедельник и пятницу здесь почти в равной мере уступает среде.\n",
    "\n",
    "Значит, данные говорят в пользу первой гипотезы."
   ]
  },
  {
   "cell_type": "markdown",
   "metadata": {
    "deletable": false,
    "editable": false,
    "id": "atZAxtq4_Zcu"
   },
   "source": [
    "### Музыка в начале и в конце недели"
   ]
  },
  {
   "cell_type": "markdown",
   "metadata": {
    "deletable": false,
    "editable": false,
    "id": "eXrQqXFH_Zcu"
   },
   "source": [
    "Согласно второй гипотезе, утром в понедельник в Москве преобладают одни жанры, а в Петербурге — другие. Так же и вечером пятницы преобладают разные жанры — в зависимости от города."
   ]
  },
  {
   "cell_type": "markdown",
   "metadata": {
    "deletable": false,
    "editable": false,
    "id": "S8UcW6Hw_Zcu",
    "tags": [
     "start_task"
    ]
   },
   "source": [
    "**Задание 23**\n",
    "\n",
    "Сохраните таблицы с данными в две переменные:\n",
    "* по Москве — в `moscow_general`;\n",
    "* по Санкт-Петербургу — в `spb_general`."
   ]
  },
  {
   "cell_type": "code",
   "execution_count": 40,
   "metadata": {
    "deletable": false,
    "id": "qeaFfM_P_Zcu"
   },
   "outputs": [],
   "source": [
    "moscow_general = df[df['city'] == 'Moscow']# получение таблицы moscow_general из тех строк таблицы df, \n",
    "# для которых значение в столбце 'city' равно 'Moscow'\n"
   ]
  },
  {
   "cell_type": "code",
   "execution_count": 41,
   "metadata": {
    "deletable": false,
    "id": "ORaVRKto_Zcu"
   },
   "outputs": [],
   "source": [
    "spb_general = df[df['city'] == 'Saint-Petersburg']# получение таблицы spb_general из тех строк таблицы df,\n",
    "# для которых значение в столбце 'city' равно 'Saint-Petersburg'\n"
   ]
  },
  {
   "cell_type": "markdown",
   "metadata": {
    "deletable": false,
    "editable": false,
    "id": "MEJV-CX2_Zcu",
    "tags": [
     "start_task"
    ]
   },
   "source": [
    "**Задание 24**\n",
    "\n",
    "Создайте функцию `genre_weekday()` с четырьмя параметрами:\n",
    "* таблица (датафрейм) с данными,\n",
    "* день недели,\n",
    "* начальная временная метка в формате 'hh:mm', \n",
    "* последняя временная метка в формате 'hh:mm'.\n",
    "\n",
    "Функция должна вернуть информацию о топ-10 жанров тех треков, которые прослушивали в указанный день, в промежутке между двумя отметками времени."
   ]
  },
  {
   "cell_type": "code",
   "execution_count": 51,
   "metadata": {
    "deletable": false,
    "id": "laJT9BYl_Zcu"
   },
   "outputs": [],
   "source": [
    "# Объявление функции genre_weekday() с параметрами table, day, time1, time2,\n",
    "# которая возвращает информацию о самых популярных жанрах в указанный день в\n",
    "# заданное время:\n",
    "# 1) в переменную genre_df сохраняются те строки переданного датафрейма table, для\n",
    "#    которых одновременно:\n",
    "#    - значение в столбце day равно значению аргумента day\n",
    "#    - значение в столбце time больше значения аргумента time1\n",
    "#    - значение в столбце time меньше значения аргумента time2\n",
    "#    Используйте последовательную фильтрацию с помощью логической индексации.\n",
    "# 2) сгруппировать датафрейм genre_df по столбцу genre, взять один из его\n",
    "#    столбцов и посчитать методом count() количество записей для каждого из\n",
    "#    присутствующих жанров, получившийся Series записать в переменную\n",
    "#    genre_df_count\n",
    "# 3) отсортировать genre_df_count по убыванию встречаемости и сохранить\n",
    "#    в переменную genre_df_sorted\n",
    "# 4) вернуть Series из 10 первых значений genre_df_sorted, это будут топ-10\n",
    "#    популярных жанров (в указанный день, в заданное время)\n",
    "\n",
    "def genre_weekday(df, day, time1, time2):\n",
    "    # последовательная фильтрация\n",
    "    # оставляем в genre_df только те строки df, у которых день равен day\n",
    "    genre_df = df[df['day'] == day]# ваш код здесь\n",
    "    # оставляем в genre_df только те строки genre_df, у которых время меньше time2\n",
    "    genre_df = genre_df[genre_df['time'] < time2]# ваш код здесь\n",
    "    # оставляем в genre_df только те строки genre_df, у которых время больше time1\n",
    "    genre_df = genre_df[genre_df['time'] > time1]# ваш код здесь\n",
    "    # сгруппируем отфильтрованный датафрейм по столбцу с названиями жанров, возьмём столбец genre и посчитаем кол-во строк для каждого жанра методом count()\n",
    "    genre_df_grouped = genre_df.groupby('genre')['genre'].count()# ваш код здесь\n",
    "    # отсортируем результат по убыванию (чтобы в начале Series оказались самые популярные жанры)\n",
    "    genre_df_sorted = genre_df_grouped.sort_values(ascending=False)# ваш код здесь\n",
    "    # вернём Series с 10 самыми популярными жанрами в указанный отрезок времени заданного дня\n",
    "    return genre_df_sorted[:10]"
   ]
  },
  {
   "cell_type": "markdown",
   "metadata": {
    "deletable": false,
    "editable": false,
    "id": "la2s2_PF_Zcu",
    "tags": [
     "start_task"
    ]
   },
   "source": [
    "**Задание 25**\n",
    "\n",
    "\n",
    "Cравните результаты функции `genre_weekday()` для Москвы и Санкт-Петербурга в понедельник утром (с 7:00 до 11:00) и в пятницу вечером (с 17:00 до 23:00):"
   ]
  },
  {
   "cell_type": "code",
   "execution_count": 52,
   "metadata": {
    "deletable": false,
    "id": "yz7itPUQ_Zcu"
   },
   "outputs": [
    {
     "data": {
      "text/plain": [
       "genre\n",
       "pop            781\n",
       "dance          549\n",
       "electronic     480\n",
       "rock           474\n",
       "hiphop         286\n",
       "ruspop         186\n",
       "world          181\n",
       "rusrap         175\n",
       "alternative    164\n",
       "unknown        161\n",
       "Name: genre, dtype: int64"
      ]
     },
     "execution_count": 52,
     "metadata": {},
     "output_type": "execute_result"
    }
   ],
   "source": [
    "genre_weekday(moscow_general, 'Monday', '07:00', '11:00') # вызов функции для утра понедельника в Москве (вместо df — таблица moscow_general)\n",
    "# объекты, хранящие время, являются строками и сравниваются как строки\n",
    "# пример вызова: genre_weekday(moscow_general, 'Monday', '07:00', '11:00')"
   ]
  },
  {
   "cell_type": "code",
   "execution_count": 53,
   "metadata": {
    "deletable": false,
    "id": "kwUcHPdy_Zcu"
   },
   "outputs": [
    {
     "data": {
      "text/plain": [
       "genre\n",
       "pop            218\n",
       "dance          182\n",
       "rock           162\n",
       "electronic     147\n",
       "hiphop          80\n",
       "ruspop          64\n",
       "alternative     58\n",
       "rusrap          55\n",
       "jazz            44\n",
       "classical       40\n",
       "Name: genre, dtype: int64"
      ]
     },
     "execution_count": 53,
     "metadata": {},
     "output_type": "execute_result"
    }
   ],
   "source": [
    "genre_weekday(spb_general, 'Monday', '07:00', '11:00')# вызов функции для утра понедельника в Петербурге (вместо df — таблица spb_general)"
   ]
  },
  {
   "cell_type": "code",
   "execution_count": 54,
   "metadata": {
    "deletable": false,
    "id": "EzXVRE1o_Zcu"
   },
   "outputs": [
    {
     "data": {
      "text/plain": [
       "genre\n",
       "pop            713\n",
       "rock           517\n",
       "dance          495\n",
       "electronic     482\n",
       "hiphop         273\n",
       "world          208\n",
       "ruspop         170\n",
       "alternative    163\n",
       "classical      163\n",
       "rusrap         142\n",
       "Name: genre, dtype: int64"
      ]
     },
     "execution_count": 54,
     "metadata": {},
     "output_type": "execute_result"
    }
   ],
   "source": [
    "genre_weekday(moscow_general, 'Friday', '17:00', '23:00')# вызов функции для вечера пятницы в Москве"
   ]
  },
  {
   "cell_type": "code",
   "execution_count": 55,
   "metadata": {
    "deletable": false,
    "id": "JZaEKu5v_Zcu"
   },
   "outputs": [
    {
     "data": {
      "text/plain": [
       "genre\n",
       "pop            256\n",
       "electronic     216\n",
       "rock           216\n",
       "dance          210\n",
       "hiphop          97\n",
       "alternative     63\n",
       "jazz            61\n",
       "classical       60\n",
       "rusrap          59\n",
       "world           54\n",
       "Name: genre, dtype: int64"
      ]
     },
     "execution_count": 55,
     "metadata": {},
     "output_type": "execute_result"
    }
   ],
   "source": [
    "genre_weekday(spb_general, 'Friday', '17:00', '23:00')# вызов функции для вечера пятницы в Петербурге"
   ]
  },
  {
   "cell_type": "markdown",
   "metadata": {
    "deletable": false,
    "editable": false,
    "id": "wrCe4MNX_Zcu"
   },
   "source": [
    "**Выводы**\n",
    "\n",
    "Если сравнить топ-10 жанров в понедельник утром, можно сделать такие выводы:\n",
    "\n",
    "1. В Москве и Петербурге слушают похожую музыку. Единственное отличие — в московский рейтинг вошёл жанр “world”, а в петербургский — джаз и классика.\n",
    "\n",
    "2. В Москве пропущенных значений оказалось так много, что значение `'unknown'` заняло десятое место среди самых популярных жанров. Значит, пропущенные значения занимают существенную долю в данных и угрожают достоверности исследования.\n",
    "\n",
    "Вечер пятницы не меняет эту картину. Некоторые жанры поднимаются немного выше, другие спускаются, но в целом топ-10 остаётся тем же самым.\n",
    "\n",
    "Таким образом, вторая гипотеза подтвердилась лишь частично:\n",
    "* Пользователи слушают похожую музыку в начале недели и в конце.\n",
    "* Разница между Москвой и Петербургом не слишком выражена. В Москве чаще слушают русскую популярную музыку, в Петербурге — джаз.\n",
    "\n",
    "Однако пропуски в данных ставят под сомнение этот результат. В Москве их так много, что рейтинг топ-10 мог бы выглядеть иначе, если бы не утерянные  данные о жанрах."
   ]
  },
  {
   "cell_type": "markdown",
   "metadata": {
    "deletable": false,
    "editable": false,
    "id": "JolODAqr_Zcu"
   },
   "source": [
    "### Жанровые предпочтения в Москве и Петербурге\n",
    "\n",
    "Гипотеза: Петербург — столица рэпа, музыку этого жанра там слушают чаще, чем в Москве.  А Москва — город контрастов, в котором, тем не менее, преобладает поп-музыка."
   ]
  },
  {
   "cell_type": "markdown",
   "metadata": {
    "deletable": false,
    "editable": false,
    "id": "DlegSvaT_Zcu",
    "tags": [
     "start_task"
    ]
   },
   "source": [
    "**Задание 26**\n",
    "\n",
    "Сгруппируйте таблицу `moscow_general` по жанру и посчитайте прослушивания треков каждого жанра методом `count()`. Затем отсортируйте результат в порядке убывания и сохраните его в таблице `moscow_genres`."
   ]
  },
  {
   "cell_type": "code",
   "execution_count": 63,
   "metadata": {
    "deletable": false,
    "id": "r19lIPke_Zcu"
   },
   "outputs": [],
   "source": [
    "moscow_genres = moscow_general.groupby('genre')['genre'].count().sort_values(ascending=False)# одной строкой: группировка таблицы moscow_general по столбцу 'genre', \n",
    "# подсчёт числа значений 'genre' в этой группировке методом count(), \n",
    "# сортировка получившегося Series в порядке убывания и сохранение в moscow_genres"
   ]
  },
  {
   "cell_type": "markdown",
   "metadata": {
    "deletable": false,
    "editable": false,
    "id": "6kMuomxTiIr8",
    "tags": [
     "start_task"
    ]
   },
   "source": [
    "**Задание 27**\n",
    "\n",
    "Выведите на экран первые десять строк `moscow_genres`:"
   ]
  },
  {
   "cell_type": "code",
   "execution_count": 64,
   "metadata": {
    "deletable": false,
    "id": "WhCSooF8_Zcv"
   },
   "outputs": [
    {
     "data": {
      "text/plain": [
       "genre\n",
       "pop            5892\n",
       "dance          4435\n",
       "rock           3965\n",
       "electronic     3786\n",
       "hiphop         2096\n",
       "classical      1616\n",
       "world          1432\n",
       "alternative    1379\n",
       "ruspop         1372\n",
       "rusrap         1161\n",
       "Name: genre, dtype: int64"
      ]
     },
     "execution_count": 64,
     "metadata": {},
     "output_type": "execute_result"
    }
   ],
   "source": [
    "moscow_genres.head(10)# просмотр первых 10 строк moscow_genres"
   ]
  },
  {
   "cell_type": "markdown",
   "metadata": {
    "deletable": false,
    "editable": false,
    "id": "cnPG2vnN_Zcv",
    "tags": [
     "start_task"
    ]
   },
   "source": [
    "**Задание 28**\n",
    "\n",
    "\n",
    "Теперь повторите то же и для Петербурга.\n",
    "\n",
    "Сгруппируйте таблицу `spb_general` по жанру. Посчитайте прослушивания треков каждого жанра. Результат отсортируйте в порядке убывания и сохраните в таблице `spb_genres`:\n"
   ]
  },
  {
   "cell_type": "code",
   "execution_count": 65,
   "metadata": {
    "deletable": false,
    "id": "gluLIpE7_Zcv"
   },
   "outputs": [],
   "source": [
    "spb_genres = spb_general.groupby('genre')['genre'].count().sort_values(ascending=False)# одной строкой: группировка таблицы spb_general по столбцу 'genre', \n",
    "# подсчёт числа значений 'genre' в этой группировке методом count(), \n",
    "# сортировка получившегося Series в порядке убывания и сохранение в spb_genres"
   ]
  },
  {
   "cell_type": "markdown",
   "metadata": {
    "deletable": false,
    "editable": false,
    "id": "5Doha_ODgyQ8",
    "tags": [
     "start_task"
    ]
   },
   "source": [
    "**Задание 29**\n",
    "\n",
    "Выведите на экран первые десять строк `spb_genres`:"
   ]
  },
  {
   "cell_type": "code",
   "execution_count": 66,
   "metadata": {
    "deletable": false,
    "id": "uaGJHjVU_Zcv"
   },
   "outputs": [
    {
     "data": {
      "text/plain": [
       "genre\n",
       "pop            2431\n",
       "dance          1932\n",
       "rock           1879\n",
       "electronic     1736\n",
       "hiphop          960\n",
       "alternative     649\n",
       "classical       646\n",
       "rusrap          564\n",
       "ruspop          538\n",
       "world           515\n",
       "Name: genre, dtype: int64"
      ]
     },
     "execution_count": 66,
     "metadata": {},
     "output_type": "execute_result"
    }
   ],
   "source": [
    "spb_genres.head(10)# просмотр первых 10 строк spb_genres"
   ]
  },
  {
   "cell_type": "markdown",
   "metadata": {
    "deletable": false,
    "editable": false,
    "id": "RY51YJYu_Zcv"
   },
   "source": [
    "**Выводы**"
   ]
  },
  {
   "cell_type": "markdown",
   "metadata": {
    "deletable": false,
    "editable": false,
    "id": "nVhnJEm__Zcv"
   },
   "source": [
    "Гипотеза частично подтвердилась:\n",
    "* Поп-музыка — самый популярный жанр в Москве, как и предполагала гипотеза. Более того, в топ-10 жанров встречается близкий жанр — русская популярная музыка.\n",
    "* Вопреки ожиданиям, рэп одинаково популярен в Москве и Петербурге. \n"
   ]
  },
  {
   "cell_type": "markdown",
   "metadata": {
    "deletable": false,
    "editable": false,
    "id": "ykKQ0N65_Zcv"
   },
   "source": [
    "## Итоги исследования"
   ]
  },
  {
   "cell_type": "markdown",
   "metadata": {
    "deletable": false,
    "editable": false,
    "id": "tjUwbHb3_Zcv"
   },
   "source": [
    "Вы проверили три гипотезы и установили:\n",
    "\n",
    "1. День недели по-разному влияет на активность пользователей в Москве и Петербурге. \n",
    "\n",
    "Первая гипотеза полностью подтвердилась.\n",
    "\n",
    "2. Музыкальные предпочтения не сильно меняются в течение недели — будь то Москва или Петербург. Небольшие различия заметны в начале недели, по понедельникам:\n",
    "* в Москве слушают музыку жанра “world”,\n",
    "* в Петербурге — джаз и классику.\n",
    "\n",
    "Таким образом, вторая гипотеза подтвердилась лишь отчасти. Этот результат мог оказаться иным, если бы не пропуски в данных.\n",
    "\n",
    "3. Во вкусах пользователей Москвы и Петербурга больше общего чем различий. Вопреки ожиданиям, предпочтения жанров в Петербурге напоминают московские.\n",
    "\n",
    "Третья гипотеза не подтвердилась. Если различия в предпочтениях и существуют, на основной массе пользователей они незаметны.\n",
    "\n",
    "**На практике исследования содержат проверки статистических гипотез.**\n",
    "Из данных одного сервиса не всегда можно сделать вывод о всех жителях города.\n",
    "Проверки статистических гипотез покажут, насколько они достоверны, исходя из имеющихся данных. \n",
    "С методами проверок гипотез вы ещё познакомитесь в следующих темах."
   ]
  }
 ],
 "metadata": {
  "ExecuteTimeLog": [
   {
    "duration": 50,
    "start_time": "2023-01-26T18:07:36.812Z"
   },
   {
    "duration": 20,
    "start_time": "2023-01-26T18:08:09.282Z"
   },
   {
    "duration": 6,
    "start_time": "2023-01-26T18:08:11.441Z"
   },
   {
    "duration": 9,
    "start_time": "2023-01-26T18:09:50.073Z"
   },
   {
    "duration": 6,
    "start_time": "2023-01-26T18:09:56.811Z"
   },
   {
    "duration": 7,
    "start_time": "2023-01-26T18:10:00.913Z"
   },
   {
    "duration": 7,
    "start_time": "2023-01-26T18:16:37.058Z"
   },
   {
    "duration": 439,
    "start_time": "2023-01-26T18:16:51.019Z"
   },
   {
    "duration": 315,
    "start_time": "2023-01-26T18:16:55.130Z"
   },
   {
    "duration": 6,
    "start_time": "2023-01-26T18:17:10.708Z"
   },
   {
    "duration": 209,
    "start_time": "2023-01-26T18:17:10.717Z"
   },
   {
    "duration": 21,
    "start_time": "2023-01-26T18:17:10.928Z"
   },
   {
    "duration": 54,
    "start_time": "2023-01-26T18:17:10.950Z"
   },
   {
    "duration": 15,
    "start_time": "2023-01-26T18:17:11.009Z"
   },
   {
    "duration": 12,
    "start_time": "2023-01-26T18:17:11.026Z"
   },
   {
    "duration": 5,
    "start_time": "2023-01-26T18:17:11.040Z"
   },
   {
    "duration": 6,
    "start_time": "2023-01-26T18:17:11.047Z"
   },
   {
    "duration": 5,
    "start_time": "2023-01-26T18:17:11.055Z"
   },
   {
    "duration": 7,
    "start_time": "2023-01-26T18:17:11.062Z"
   },
   {
    "duration": 5,
    "start_time": "2023-01-26T18:17:11.071Z"
   },
   {
    "duration": 7,
    "start_time": "2023-01-26T18:17:11.078Z"
   },
   {
    "duration": 33,
    "start_time": "2023-01-26T18:17:11.092Z"
   },
   {
    "duration": 7,
    "start_time": "2023-01-26T18:17:11.128Z"
   },
   {
    "duration": 6,
    "start_time": "2023-01-26T18:17:11.137Z"
   },
   {
    "duration": 8,
    "start_time": "2023-01-26T18:17:11.144Z"
   },
   {
    "duration": 6,
    "start_time": "2023-01-26T18:17:11.154Z"
   },
   {
    "duration": 14,
    "start_time": "2023-01-26T18:17:11.162Z"
   },
   {
    "duration": 9,
    "start_time": "2023-01-26T18:17:11.178Z"
   },
   {
    "duration": 39,
    "start_time": "2023-01-26T18:17:11.189Z"
   },
   {
    "duration": 9,
    "start_time": "2023-01-26T18:17:11.230Z"
   },
   {
    "duration": 6,
    "start_time": "2023-01-26T18:17:11.241Z"
   },
   {
    "duration": 7,
    "start_time": "2023-01-26T18:17:11.249Z"
   },
   {
    "duration": 7,
    "start_time": "2023-01-26T18:17:11.258Z"
   },
   {
    "duration": 14,
    "start_time": "2023-01-26T18:17:11.267Z"
   },
   {
    "duration": 28,
    "start_time": "2023-01-26T18:17:11.290Z"
   },
   {
    "duration": 8,
    "start_time": "2023-01-26T18:17:11.319Z"
   },
   {
    "duration": 7,
    "start_time": "2023-01-26T18:17:11.329Z"
   },
   {
    "duration": 6,
    "start_time": "2023-01-26T18:17:11.338Z"
   },
   {
    "duration": 99,
    "start_time": "2023-01-26T18:17:11.346Z"
   },
   {
    "duration": 0,
    "start_time": "2023-01-26T18:17:11.447Z"
   },
   {
    "duration": 0,
    "start_time": "2023-01-26T18:17:11.448Z"
   },
   {
    "duration": 0,
    "start_time": "2023-01-26T18:17:11.449Z"
   },
   {
    "duration": 0,
    "start_time": "2023-01-26T18:17:11.451Z"
   },
   {
    "duration": 0,
    "start_time": "2023-01-26T18:17:11.452Z"
   },
   {
    "duration": 0,
    "start_time": "2023-01-26T18:17:11.454Z"
   },
   {
    "duration": 0,
    "start_time": "2023-01-26T18:17:11.455Z"
   },
   {
    "duration": 0,
    "start_time": "2023-01-26T18:17:11.457Z"
   },
   {
    "duration": 4,
    "start_time": "2023-01-26T18:18:15.670Z"
   },
   {
    "duration": 12,
    "start_time": "2023-01-26T18:22:42.639Z"
   },
   {
    "duration": 16,
    "start_time": "2023-01-26T18:22:45.409Z"
   },
   {
    "duration": 5,
    "start_time": "2023-01-26T18:23:27.110Z"
   },
   {
    "duration": 10,
    "start_time": "2023-01-26T19:18:07.633Z"
   },
   {
    "duration": 8,
    "start_time": "2023-01-26T19:18:12.737Z"
   },
   {
    "duration": 30,
    "start_time": "2023-01-26T19:22:54.308Z"
   },
   {
    "duration": 1205,
    "start_time": "2023-01-26T19:43:53.974Z"
   },
   {
    "duration": 1239,
    "start_time": "2023-01-26T19:49:45.480Z"
   },
   {
    "duration": 34,
    "start_time": "2023-01-26T19:50:42.870Z"
   },
   {
    "duration": 18,
    "start_time": "2023-01-26T19:51:05.030Z"
   },
   {
    "duration": 24,
    "start_time": "2023-01-26T19:51:14.299Z"
   },
   {
    "duration": 28,
    "start_time": "2023-01-26T19:51:46.317Z"
   },
   {
    "duration": 4,
    "start_time": "2023-01-26T19:52:02.570Z"
   },
   {
    "duration": 62,
    "start_time": "2023-01-26T19:52:10.417Z"
   },
   {
    "duration": 25,
    "start_time": "2023-01-26T19:53:13.053Z"
   },
   {
    "duration": 79,
    "start_time": "2023-01-26T19:53:40.284Z"
   },
   {
    "duration": 67,
    "start_time": "2023-01-26T19:54:41.887Z"
   },
   {
    "duration": 65,
    "start_time": "2023-01-26T19:54:45.737Z"
   },
   {
    "duration": 3,
    "start_time": "2023-01-26T19:54:51.856Z"
   },
   {
    "duration": 206,
    "start_time": "2023-01-26T19:54:51.861Z"
   },
   {
    "duration": 21,
    "start_time": "2023-01-26T19:54:52.070Z"
   },
   {
    "duration": 59,
    "start_time": "2023-01-26T19:54:52.093Z"
   },
   {
    "duration": 5,
    "start_time": "2023-01-26T19:54:52.154Z"
   },
   {
    "duration": 12,
    "start_time": "2023-01-26T19:54:52.161Z"
   },
   {
    "duration": 24,
    "start_time": "2023-01-26T19:54:52.175Z"
   },
   {
    "duration": 11,
    "start_time": "2023-01-26T19:54:52.200Z"
   },
   {
    "duration": 46,
    "start_time": "2023-01-26T19:54:52.213Z"
   },
   {
    "duration": 30,
    "start_time": "2023-01-26T19:54:52.263Z"
   },
   {
    "duration": 34,
    "start_time": "2023-01-26T19:54:52.301Z"
   },
   {
    "duration": 102,
    "start_time": "2023-01-26T19:54:52.337Z"
   },
   {
    "duration": 3,
    "start_time": "2023-01-26T19:54:52.443Z"
   },
   {
    "duration": 10,
    "start_time": "2023-01-26T19:54:52.448Z"
   },
   {
    "duration": 6,
    "start_time": "2023-01-26T19:54:52.460Z"
   },
   {
    "duration": 19,
    "start_time": "2023-01-26T19:54:52.468Z"
   },
   {
    "duration": 25,
    "start_time": "2023-01-26T19:54:52.489Z"
   },
   {
    "duration": 6,
    "start_time": "2023-01-26T19:54:52.516Z"
   },
   {
    "duration": 9,
    "start_time": "2023-01-26T19:54:52.523Z"
   },
   {
    "duration": 7,
    "start_time": "2023-01-26T19:54:52.534Z"
   },
   {
    "duration": 8,
    "start_time": "2023-01-26T19:54:52.543Z"
   },
   {
    "duration": 13,
    "start_time": "2023-01-26T19:54:52.554Z"
   },
   {
    "duration": 40,
    "start_time": "2023-01-26T19:54:52.569Z"
   },
   {
    "duration": 10,
    "start_time": "2023-01-26T19:54:52.611Z"
   },
   {
    "duration": 25,
    "start_time": "2023-01-26T19:54:52.623Z"
   },
   {
    "duration": 30,
    "start_time": "2023-01-26T19:54:52.651Z"
   },
   {
    "duration": 28,
    "start_time": "2023-01-26T19:54:52.684Z"
   },
   {
    "duration": 10,
    "start_time": "2023-01-26T19:54:52.715Z"
   },
   {
    "duration": 15,
    "start_time": "2023-01-26T19:54:52.727Z"
   },
   {
    "duration": 100,
    "start_time": "2023-01-26T19:54:52.744Z"
   },
   {
    "duration": 0,
    "start_time": "2023-01-26T19:54:52.845Z"
   },
   {
    "duration": 0,
    "start_time": "2023-01-26T19:54:52.847Z"
   },
   {
    "duration": 0,
    "start_time": "2023-01-26T19:54:52.849Z"
   },
   {
    "duration": 0,
    "start_time": "2023-01-26T19:54:52.850Z"
   },
   {
    "duration": 0,
    "start_time": "2023-01-26T19:54:52.852Z"
   },
   {
    "duration": 0,
    "start_time": "2023-01-26T19:54:52.853Z"
   },
   {
    "duration": 0,
    "start_time": "2023-01-26T19:54:52.854Z"
   },
   {
    "duration": 0,
    "start_time": "2023-01-26T19:54:52.855Z"
   },
   {
    "duration": 9,
    "start_time": "2023-01-26T19:55:41.644Z"
   },
   {
    "duration": 88,
    "start_time": "2023-01-26T19:57:03.130Z"
   },
   {
    "duration": 87,
    "start_time": "2023-01-26T19:57:07.231Z"
   },
   {
    "duration": 82,
    "start_time": "2023-01-26T19:58:01.900Z"
   },
   {
    "duration": 10,
    "start_time": "2023-01-26T20:00:09.737Z"
   },
   {
    "duration": 68,
    "start_time": "2023-01-26T20:00:25.751Z"
   },
   {
    "duration": 9,
    "start_time": "2023-01-26T20:01:56.346Z"
   },
   {
    "duration": 8,
    "start_time": "2023-01-26T20:02:21.472Z"
   },
   {
    "duration": 11,
    "start_time": "2023-01-26T20:02:39.218Z"
   },
   {
    "duration": 9,
    "start_time": "2023-01-26T20:04:56.651Z"
   },
   {
    "duration": 15,
    "start_time": "2023-01-26T20:07:23.855Z"
   },
   {
    "duration": 4,
    "start_time": "2023-01-26T20:12:09.445Z"
   },
   {
    "duration": 46,
    "start_time": "2023-01-26T20:12:30.528Z"
   },
   {
    "duration": 15,
    "start_time": "2023-01-26T20:26:19.165Z"
   },
   {
    "duration": 17,
    "start_time": "2023-01-26T20:27:14.042Z"
   },
   {
    "duration": 14,
    "start_time": "2023-01-26T20:27:20.094Z"
   },
   {
    "duration": 44,
    "start_time": "2023-01-26T20:28:30.893Z"
   },
   {
    "duration": 12,
    "start_time": "2023-01-26T20:36:17.446Z"
   },
   {
    "duration": 73,
    "start_time": "2023-01-26T20:38:26.550Z"
   },
   {
    "duration": 26,
    "start_time": "2023-01-26T20:38:29.965Z"
   },
   {
    "duration": 1128,
    "start_time": "2023-01-26T20:39:04.094Z"
   },
   {
    "duration": 1536,
    "start_time": "2023-01-26T20:40:24.719Z"
   },
   {
    "duration": 19,
    "start_time": "2023-01-26T20:40:43.683Z"
   },
   {
    "duration": 24,
    "start_time": "2023-01-26T20:40:56.097Z"
   },
   {
    "duration": 39,
    "start_time": "2023-01-26T20:42:23.989Z"
   },
   {
    "duration": 53,
    "start_time": "2023-01-26T20:43:21.241Z"
   },
   {
    "duration": 43,
    "start_time": "2023-01-26T20:47:33.689Z"
   },
   {
    "duration": 87,
    "start_time": "2023-01-26T20:58:00.821Z"
   },
   {
    "duration": 14,
    "start_time": "2023-01-26T20:58:47.043Z"
   },
   {
    "duration": 507,
    "start_time": "2023-01-26T20:58:50.368Z"
   },
   {
    "duration": 1198,
    "start_time": "2023-01-26T20:58:50.877Z"
   },
   {
    "duration": 25,
    "start_time": "2023-01-26T20:58:52.077Z"
   },
   {
    "duration": 58,
    "start_time": "2023-01-26T20:58:52.106Z"
   },
   {
    "duration": 4,
    "start_time": "2023-01-26T20:58:52.170Z"
   },
   {
    "duration": 15,
    "start_time": "2023-01-26T20:58:52.176Z"
   },
   {
    "duration": 23,
    "start_time": "2023-01-26T20:58:52.193Z"
   },
   {
    "duration": 166,
    "start_time": "2023-01-26T20:58:52.219Z"
   },
   {
    "duration": 53,
    "start_time": "2023-01-26T20:58:52.388Z"
   },
   {
    "duration": 32,
    "start_time": "2023-01-26T20:58:52.445Z"
   },
   {
    "duration": 66,
    "start_time": "2023-01-26T20:58:52.480Z"
   },
   {
    "duration": 151,
    "start_time": "2023-01-26T20:58:52.548Z"
   },
   {
    "duration": 125,
    "start_time": "2023-01-26T20:58:52.702Z"
   },
   {
    "duration": 104,
    "start_time": "2023-01-26T20:58:52.829Z"
   },
   {
    "duration": 66,
    "start_time": "2023-01-26T20:58:52.935Z"
   },
   {
    "duration": 19,
    "start_time": "2023-01-26T20:58:53.003Z"
   },
   {
    "duration": 76,
    "start_time": "2023-01-26T20:58:53.025Z"
   },
   {
    "duration": 47,
    "start_time": "2023-01-26T20:58:53.105Z"
   },
   {
    "duration": 15,
    "start_time": "2023-01-26T20:58:53.159Z"
   },
   {
    "duration": 10,
    "start_time": "2023-01-26T20:58:53.175Z"
   },
   {
    "duration": 12,
    "start_time": "2023-01-26T20:58:53.186Z"
   },
   {
    "duration": 5,
    "start_time": "2023-01-26T20:58:53.200Z"
   },
   {
    "duration": 5,
    "start_time": "2023-01-26T20:58:53.206Z"
   },
   {
    "duration": 4,
    "start_time": "2023-01-26T20:58:53.213Z"
   },
   {
    "duration": 10,
    "start_time": "2023-01-26T20:58:53.219Z"
   },
   {
    "duration": 9,
    "start_time": "2023-01-26T20:58:53.231Z"
   },
   {
    "duration": 47,
    "start_time": "2023-01-26T20:58:53.242Z"
   },
   {
    "duration": 13,
    "start_time": "2023-01-26T20:58:53.294Z"
   },
   {
    "duration": 10,
    "start_time": "2023-01-26T20:58:53.310Z"
   },
   {
    "duration": 70,
    "start_time": "2023-01-26T20:58:53.323Z"
   },
   {
    "duration": 0,
    "start_time": "2023-01-26T20:58:53.395Z"
   },
   {
    "duration": 0,
    "start_time": "2023-01-26T20:58:53.396Z"
   },
   {
    "duration": 0,
    "start_time": "2023-01-26T20:58:53.398Z"
   },
   {
    "duration": 0,
    "start_time": "2023-01-26T20:58:53.399Z"
   },
   {
    "duration": 0,
    "start_time": "2023-01-26T20:58:53.400Z"
   },
   {
    "duration": 0,
    "start_time": "2023-01-26T20:58:53.401Z"
   },
   {
    "duration": 0,
    "start_time": "2023-01-26T20:58:53.402Z"
   },
   {
    "duration": 0,
    "start_time": "2023-01-26T20:58:53.403Z"
   },
   {
    "duration": 63,
    "start_time": "2023-01-26T20:58:59.463Z"
   },
   {
    "duration": 58,
    "start_time": "2023-01-26T20:59:25.017Z"
   },
   {
    "duration": 34,
    "start_time": "2023-01-26T21:00:04.897Z"
   },
   {
    "duration": 51,
    "start_time": "2023-01-26T21:00:50.575Z"
   },
   {
    "duration": 31,
    "start_time": "2023-01-26T21:07:59.676Z"
   },
   {
    "duration": 11,
    "start_time": "2023-01-26T21:08:43.081Z"
   },
   {
    "duration": 15,
    "start_time": "2023-01-26T21:09:24.125Z"
   },
   {
    "duration": 10,
    "start_time": "2023-01-26T21:10:10.822Z"
   },
   {
    "duration": 49,
    "start_time": "2023-01-26T21:10:28.545Z"
   },
   {
    "duration": 12,
    "start_time": "2023-01-26T21:12:49.306Z"
   },
   {
    "duration": 56,
    "start_time": "2023-01-26T21:24:07.424Z"
   },
   {
    "duration": 56,
    "start_time": "2023-01-26T21:24:19.005Z"
   },
   {
    "duration": 57,
    "start_time": "2023-01-26T21:28:20.846Z"
   },
   {
    "duration": 49,
    "start_time": "2023-01-26T21:28:44.238Z"
   },
   {
    "duration": 42,
    "start_time": "2023-01-26T21:29:28.356Z"
   },
   {
    "duration": 50,
    "start_time": "2023-01-26T21:29:47.146Z"
   },
   {
    "duration": 45,
    "start_time": "2023-01-26T21:30:47.570Z"
   },
   {
    "duration": 4,
    "start_time": "2023-01-26T21:35:30.515Z"
   },
   {
    "duration": 3,
    "start_time": "2023-01-26T21:38:56.944Z"
   },
   {
    "duration": 4,
    "start_time": "2023-01-26T21:39:29.651Z"
   },
   {
    "duration": 4,
    "start_time": "2023-01-26T21:40:10.192Z"
   },
   {
    "duration": 5,
    "start_time": "2023-01-26T21:41:48.283Z"
   },
   {
    "duration": 4,
    "start_time": "2023-01-26T21:43:24.019Z"
   },
   {
    "duration": 3,
    "start_time": "2023-01-26T21:51:01.013Z"
   },
   {
    "duration": 4,
    "start_time": "2023-01-26T21:52:02.947Z"
   },
   {
    "duration": 5,
    "start_time": "2023-01-26T21:54:37.345Z"
   },
   {
    "duration": 24,
    "start_time": "2023-01-26T21:56:18.886Z"
   },
   {
    "duration": 19,
    "start_time": "2023-01-26T21:57:30.927Z"
   },
   {
    "duration": 17,
    "start_time": "2023-01-26T21:57:42.615Z"
   },
   {
    "duration": 18,
    "start_time": "2023-01-26T21:57:50.083Z"
   },
   {
    "duration": 2,
    "start_time": "2023-01-26T21:57:57.322Z"
   },
   {
    "duration": 184,
    "start_time": "2023-01-26T21:57:57.327Z"
   },
   {
    "duration": 11,
    "start_time": "2023-01-26T21:57:57.513Z"
   },
   {
    "duration": 51,
    "start_time": "2023-01-26T21:57:57.525Z"
   },
   {
    "duration": 9,
    "start_time": "2023-01-26T21:57:57.578Z"
   },
   {
    "duration": 8,
    "start_time": "2023-01-26T21:57:57.589Z"
   },
   {
    "duration": 10,
    "start_time": "2023-01-26T21:57:57.599Z"
   },
   {
    "duration": 5,
    "start_time": "2023-01-26T21:57:57.610Z"
   },
   {
    "duration": 58,
    "start_time": "2023-01-26T21:57:57.617Z"
   },
   {
    "duration": 20,
    "start_time": "2023-01-26T21:57:57.677Z"
   },
   {
    "duration": 26,
    "start_time": "2023-01-26T21:57:57.701Z"
   },
   {
    "duration": 105,
    "start_time": "2023-01-26T21:57:57.729Z"
   },
   {
    "duration": 142,
    "start_time": "2023-01-26T21:57:57.836Z"
   },
   {
    "duration": 104,
    "start_time": "2023-01-26T21:57:57.983Z"
   },
   {
    "duration": 42,
    "start_time": "2023-01-26T21:57:58.089Z"
   },
   {
    "duration": 29,
    "start_time": "2023-01-26T21:57:58.133Z"
   },
   {
    "duration": 67,
    "start_time": "2023-01-26T21:57:58.164Z"
   },
   {
    "duration": 40,
    "start_time": "2023-01-26T21:57:58.234Z"
   },
   {
    "duration": 16,
    "start_time": "2023-01-26T21:57:58.276Z"
   },
   {
    "duration": 4,
    "start_time": "2023-01-26T21:57:58.294Z"
   },
   {
    "duration": 30,
    "start_time": "2023-01-26T21:57:58.302Z"
   },
   {
    "duration": 44,
    "start_time": "2023-01-26T21:57:58.334Z"
   },
   {
    "duration": 30,
    "start_time": "2023-01-26T21:57:58.381Z"
   },
   {
    "duration": 16,
    "start_time": "2023-01-26T21:57:58.413Z"
   },
   {
    "duration": 22,
    "start_time": "2023-01-26T21:57:58.432Z"
   },
   {
    "duration": 30,
    "start_time": "2023-01-26T22:02:51.927Z"
   },
   {
    "duration": 7,
    "start_time": "2023-01-26T22:03:08.640Z"
   },
   {
    "duration": 10,
    "start_time": "2023-01-26T22:05:10.364Z"
   },
   {
    "duration": 7,
    "start_time": "2023-01-26T22:05:18.822Z"
   },
   {
    "duration": 8,
    "start_time": "2023-01-26T22:10:14.835Z"
   },
   {
    "duration": 8,
    "start_time": "2023-01-26T22:10:29.586Z"
   },
   {
    "duration": 9,
    "start_time": "2023-01-26T22:11:59.426Z"
   },
   {
    "duration": 13,
    "start_time": "2023-01-26T22:31:23.129Z"
   },
   {
    "duration": 10,
    "start_time": "2023-01-28T09:29:50.952Z"
   },
   {
    "duration": 4,
    "start_time": "2023-01-28T09:34:23.543Z"
   },
   {
    "duration": 6,
    "start_time": "2023-01-28T10:12:32.554Z"
   },
   {
    "duration": 53,
    "start_time": "2023-01-28T10:23:59.681Z"
   },
   {
    "duration": 8,
    "start_time": "2023-01-28T10:25:13.570Z"
   },
   {
    "duration": 7,
    "start_time": "2023-01-28T10:25:41.122Z"
   },
   {
    "duration": 366,
    "start_time": "2023-01-28T10:26:33.449Z"
   },
   {
    "duration": 0,
    "start_time": "2023-01-28T10:34:33.034Z"
   },
   {
    "duration": 0,
    "start_time": "2023-01-28T10:34:33.050Z"
   },
   {
    "duration": 0,
    "start_time": "2023-01-28T10:34:33.059Z"
   },
   {
    "duration": 12,
    "start_time": "2023-01-28T10:34:33.889Z"
   },
   {
    "duration": 3798,
    "start_time": "2023-01-28T10:34:45.561Z"
   },
   {
    "duration": 179,
    "start_time": "2023-01-28T10:35:35.860Z"
   },
   {
    "duration": 3,
    "start_time": "2023-01-28T10:37:15.866Z"
   },
   {
    "duration": 190,
    "start_time": "2023-01-28T10:37:15.870Z"
   },
   {
    "duration": 11,
    "start_time": "2023-01-28T10:37:16.061Z"
   },
   {
    "duration": 28,
    "start_time": "2023-01-28T10:37:16.073Z"
   },
   {
    "duration": 17,
    "start_time": "2023-01-28T10:37:16.102Z"
   },
   {
    "duration": 20,
    "start_time": "2023-01-28T10:37:16.120Z"
   },
   {
    "duration": 10,
    "start_time": "2023-01-28T10:37:16.141Z"
   },
   {
    "duration": 6,
    "start_time": "2023-01-28T10:37:16.152Z"
   },
   {
    "duration": 34,
    "start_time": "2023-01-28T10:37:16.160Z"
   },
   {
    "duration": 21,
    "start_time": "2023-01-28T10:37:16.195Z"
   },
   {
    "duration": 33,
    "start_time": "2023-01-28T10:37:16.218Z"
   },
   {
    "duration": 73,
    "start_time": "2023-01-28T10:37:16.252Z"
   },
   {
    "duration": 66,
    "start_time": "2023-01-28T10:37:16.329Z"
   },
   {
    "duration": 78,
    "start_time": "2023-01-28T10:37:16.397Z"
   },
   {
    "duration": 57,
    "start_time": "2023-01-28T10:37:16.476Z"
   },
   {
    "duration": 17,
    "start_time": "2023-01-28T10:37:16.534Z"
   },
   {
    "duration": 65,
    "start_time": "2023-01-28T10:37:16.553Z"
   },
   {
    "duration": 18,
    "start_time": "2023-01-28T10:37:16.620Z"
   },
   {
    "duration": 20,
    "start_time": "2023-01-28T10:37:16.640Z"
   },
   {
    "duration": 8,
    "start_time": "2023-01-28T10:37:16.662Z"
   },
   {
    "duration": 30,
    "start_time": "2023-01-28T10:37:16.672Z"
   },
   {
    "duration": 15,
    "start_time": "2023-01-28T10:37:16.704Z"
   },
   {
    "duration": 40,
    "start_time": "2023-01-28T10:37:16.720Z"
   },
   {
    "duration": 13,
    "start_time": "2023-01-28T10:37:16.763Z"
   },
   {
    "duration": 21,
    "start_time": "2023-01-28T10:37:16.778Z"
   },
   {
    "duration": 23,
    "start_time": "2023-01-28T10:37:16.801Z"
   },
   {
    "duration": 25,
    "start_time": "2023-01-28T10:37:16.826Z"
   },
   {
    "duration": 17,
    "start_time": "2023-01-28T10:37:16.853Z"
   },
   {
    "duration": 10,
    "start_time": "2023-01-28T10:37:16.872Z"
   },
   {
    "duration": 7,
    "start_time": "2023-01-28T10:37:16.884Z"
   },
   {
    "duration": 12,
    "start_time": "2023-01-28T10:37:16.892Z"
   },
   {
    "duration": 3,
    "start_time": "2023-01-28T10:37:16.906Z"
   },
   {
    "duration": 31,
    "start_time": "2023-01-28T10:37:16.911Z"
   },
   {
    "duration": 6,
    "start_time": "2023-01-28T10:37:16.943Z"
   },
   {
    "duration": 4,
    "start_time": "2023-01-28T10:37:16.951Z"
   },
   {
    "duration": 11,
    "start_time": "2023-01-28T10:37:16.956Z"
   },
   {
    "duration": 4,
    "start_time": "2023-01-28T10:37:16.968Z"
   },
   {
    "duration": 7,
    "start_time": "2023-01-28T10:37:16.973Z"
   },
   {
    "duration": 5,
    "start_time": "2023-01-28T10:47:54.736Z"
   },
   {
    "duration": 7,
    "start_time": "2023-01-28T10:48:57.171Z"
   },
   {
    "duration": 5,
    "start_time": "2023-01-28T10:49:04.445Z"
   },
   {
    "duration": 150,
    "start_time": "2023-01-28T10:50:26.991Z"
   },
   {
    "duration": 19,
    "start_time": "2023-01-28T10:50:45.784Z"
   },
   {
    "duration": 66,
    "start_time": "2023-01-28T10:53:10.654Z"
   },
   {
    "duration": 75,
    "start_time": "2023-01-28T10:53:40.256Z"
   },
   {
    "duration": 81,
    "start_time": "2023-01-28T10:53:49.896Z"
   },
   {
    "duration": 77,
    "start_time": "2023-01-28T10:54:04.945Z"
   },
   {
    "duration": 72,
    "start_time": "2023-01-28T10:54:49.785Z"
   },
   {
    "duration": 25,
    "start_time": "2023-01-28T10:55:17.366Z"
   },
   {
    "duration": 26,
    "start_time": "2023-01-28T10:56:10.090Z"
   },
   {
    "duration": 288,
    "start_time": "2023-01-28T10:56:34.185Z"
   },
   {
    "duration": 7,
    "start_time": "2023-01-28T11:04:36.900Z"
   },
   {
    "duration": 26,
    "start_time": "2023-01-28T11:17:49.345Z"
   },
   {
    "duration": 17,
    "start_time": "2023-01-28T11:21:02.447Z"
   },
   {
    "duration": 22,
    "start_time": "2023-01-28T11:21:39.366Z"
   },
   {
    "duration": 39,
    "start_time": "2023-01-28T11:21:43.696Z"
   },
   {
    "duration": 49,
    "start_time": "2023-01-28T11:59:35.201Z"
   },
   {
    "duration": 41,
    "start_time": "2023-01-28T11:59:49.390Z"
   },
   {
    "duration": 107,
    "start_time": "2023-01-28T12:01:16.471Z"
   },
   {
    "duration": 5,
    "start_time": "2023-01-28T12:01:25.585Z"
   },
   {
    "duration": 22,
    "start_time": "2023-01-28T12:01:36.968Z"
   },
   {
    "duration": 14,
    "start_time": "2023-01-28T12:01:46.402Z"
   },
   {
    "duration": 67,
    "start_time": "2023-01-28T12:02:05.758Z"
   },
   {
    "duration": 10,
    "start_time": "2023-01-28T12:02:11.306Z"
   },
   {
    "duration": 8,
    "start_time": "2023-01-28T12:02:19.683Z"
   },
   {
    "duration": 5,
    "start_time": "2023-01-28T12:02:32.887Z"
   },
   {
    "duration": 9,
    "start_time": "2023-01-28T12:02:51.832Z"
   },
   {
    "duration": 6,
    "start_time": "2023-01-28T12:03:08.684Z"
   },
   {
    "duration": 6,
    "start_time": "2023-01-28T12:03:18.786Z"
   },
   {
    "duration": 7,
    "start_time": "2023-01-28T12:04:32.847Z"
   },
   {
    "duration": 14,
    "start_time": "2023-01-28T12:04:34.900Z"
   },
   {
    "duration": 8,
    "start_time": "2023-01-28T12:04:36.036Z"
   },
   {
    "duration": 11,
    "start_time": "2023-01-28T12:04:37.402Z"
   },
   {
    "duration": 6,
    "start_time": "2023-01-28T12:04:44.104Z"
   },
   {
    "duration": 409,
    "start_time": "2023-01-28T12:04:54.057Z"
   },
   {
    "duration": 178,
    "start_time": "2023-01-28T12:04:54.468Z"
   },
   {
    "duration": 18,
    "start_time": "2023-01-28T12:04:54.652Z"
   },
   {
    "duration": 56,
    "start_time": "2023-01-28T12:04:54.672Z"
   },
   {
    "duration": 30,
    "start_time": "2023-01-28T12:04:54.733Z"
   },
   {
    "duration": 62,
    "start_time": "2023-01-28T12:04:54.765Z"
   },
   {
    "duration": 46,
    "start_time": "2023-01-28T12:04:54.837Z"
   },
   {
    "duration": 11,
    "start_time": "2023-01-28T12:04:54.885Z"
   },
   {
    "duration": 67,
    "start_time": "2023-01-28T12:04:54.898Z"
   },
   {
    "duration": 54,
    "start_time": "2023-01-28T12:04:54.969Z"
   },
   {
    "duration": 59,
    "start_time": "2023-01-28T12:04:55.024Z"
   },
   {
    "duration": 146,
    "start_time": "2023-01-28T12:04:55.084Z"
   },
   {
    "duration": 127,
    "start_time": "2023-01-28T12:04:55.232Z"
   },
   {
    "duration": 77,
    "start_time": "2023-01-28T12:04:55.361Z"
   },
   {
    "duration": 49,
    "start_time": "2023-01-28T12:04:55.442Z"
   },
   {
    "duration": 24,
    "start_time": "2023-01-28T12:04:55.493Z"
   },
   {
    "duration": 80,
    "start_time": "2023-01-28T12:04:55.519Z"
   },
   {
    "duration": 18,
    "start_time": "2023-01-28T12:04:55.600Z"
   },
   {
    "duration": 42,
    "start_time": "2023-01-28T12:04:55.620Z"
   },
   {
    "duration": 21,
    "start_time": "2023-01-28T12:04:55.663Z"
   },
   {
    "duration": 30,
    "start_time": "2023-01-28T12:04:55.686Z"
   },
   {
    "duration": 70,
    "start_time": "2023-01-28T12:04:55.718Z"
   },
   {
    "duration": 39,
    "start_time": "2023-01-28T12:04:55.790Z"
   },
   {
    "duration": 50,
    "start_time": "2023-01-28T12:04:55.832Z"
   },
   {
    "duration": 33,
    "start_time": "2023-01-28T12:04:55.884Z"
   },
   {
    "duration": 55,
    "start_time": "2023-01-28T12:04:55.919Z"
   },
   {
    "duration": 21,
    "start_time": "2023-01-28T12:04:55.976Z"
   },
   {
    "duration": 51,
    "start_time": "2023-01-28T12:04:56.002Z"
   },
   {
    "duration": 18,
    "start_time": "2023-01-28T12:04:56.055Z"
   },
   {
    "duration": 8,
    "start_time": "2023-01-28T12:04:56.076Z"
   },
   {
    "duration": 41,
    "start_time": "2023-01-28T12:04:56.086Z"
   },
   {
    "duration": 33,
    "start_time": "2023-01-28T12:04:56.129Z"
   },
   {
    "duration": 18,
    "start_time": "2023-01-28T12:04:56.164Z"
   },
   {
    "duration": 13,
    "start_time": "2023-01-28T12:04:56.183Z"
   },
   {
    "duration": 12,
    "start_time": "2023-01-28T12:04:56.198Z"
   },
   {
    "duration": 35,
    "start_time": "2023-01-28T12:04:56.211Z"
   },
   {
    "duration": 4,
    "start_time": "2023-01-28T12:04:56.248Z"
   },
   {
    "duration": 5,
    "start_time": "2023-01-28T12:04:56.253Z"
   },
   {
    "duration": 6,
    "start_time": "2023-01-28T12:06:05.636Z"
   },
   {
    "duration": 18,
    "start_time": "2023-01-28T12:06:06.759Z"
   },
   {
    "duration": 12,
    "start_time": "2023-01-28T12:06:07.250Z"
   },
   {
    "duration": 18,
    "start_time": "2023-01-28T12:06:07.758Z"
   },
   {
    "duration": 16,
    "start_time": "2023-01-28T12:06:08.669Z"
   },
   {
    "duration": 41,
    "start_time": "2023-01-28T12:26:33.958Z"
   },
   {
    "duration": 8,
    "start_time": "2023-01-28T12:26:58.894Z"
   },
   {
    "duration": 31,
    "start_time": "2023-01-28T12:27:04.798Z"
   },
   {
    "duration": 12,
    "start_time": "2023-01-28T12:27:27.773Z"
   },
   {
    "duration": 19,
    "start_time": "2023-01-28T12:28:15.227Z"
   },
   {
    "duration": 17,
    "start_time": "2023-01-28T12:28:20.428Z"
   },
   {
    "duration": 11,
    "start_time": "2023-01-28T12:28:37.638Z"
   },
   {
    "duration": 9,
    "start_time": "2023-01-28T12:28:52.244Z"
   },
   {
    "duration": 5,
    "start_time": "2023-01-28T12:29:23.549Z"
   },
   {
    "duration": 8,
    "start_time": "2023-01-28T12:31:22.951Z"
   },
   {
    "duration": 6,
    "start_time": "2023-01-28T12:32:15.341Z"
   }
  ],
  "colab": {
   "collapsed_sections": [
    "E0vqbgi9ay0H",
    "VUC88oWjTJw2"
   ],
   "name": "automatization_template_upd4.ipynb",
   "provenance": []
  },
  "kernelspec": {
   "display_name": "Python 3 (ipykernel)",
   "language": "python",
   "name": "python3"
  },
  "language_info": {
   "codemirror_mode": {
    "name": "ipython",
    "version": 3
   },
   "file_extension": ".py",
   "mimetype": "text/x-python",
   "name": "python",
   "nbconvert_exporter": "python",
   "pygments_lexer": "ipython3",
   "version": "3.9.5"
  },
  "toc": {
   "base_numbering": 1,
   "nav_menu": {
    "height": "215px",
    "width": "403px"
   },
   "number_sections": true,
   "sideBar": true,
   "skip_h1_title": true,
   "title_cell": "Table of Contents",
   "title_sidebar": "Contents",
   "toc_cell": false,
   "toc_position": {
    "height": "calc(100% - 180px)",
    "left": "10px",
    "top": "150px",
    "width": "285.825px"
   },
   "toc_section_display": true,
   "toc_window_display": false
  }
 },
 "nbformat": 4,
 "nbformat_minor": 1
}
