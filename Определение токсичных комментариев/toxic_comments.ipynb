{
 "cells": [
  {
   "cell_type": "markdown",
   "metadata": {
    "toc": true
   },
   "source": [
    "<h1>Содержание<span class=\"tocSkip\"></span></h1>\n",
    "<div class=\"toc\"><ul class=\"toc-item\"><li><span><a href=\"#Подготовка\" data-toc-modified-id=\"Подготовка-1\"><span class=\"toc-item-num\">1&nbsp;&nbsp;</span>Подготовка</a></span></li><li><span><a href=\"#Обучение\" data-toc-modified-id=\"Обучение-2\"><span class=\"toc-item-num\">2&nbsp;&nbsp;</span>Обучение</a></span></li><li><span><a href=\"#Выводы\" data-toc-modified-id=\"Выводы-3\"><span class=\"toc-item-num\">3&nbsp;&nbsp;</span>Выводы</a></span></li><li><span><a href=\"#Чек-лист-проверки\" data-toc-modified-id=\"Чек-лист-проверки-4\"><span class=\"toc-item-num\">4&nbsp;&nbsp;</span>Чек-лист проверки</a></span></li></ul></div>"
   ]
  },
  {
   "cell_type": "markdown",
   "metadata": {},
   "source": [
    "# Проект для «Викишоп»"
   ]
  },
  {
   "cell_type": "markdown",
   "metadata": {},
   "source": [
    "Интернет-магазин «Викишоп» запускает новый сервис. Теперь пользователи могут редактировать и дополнять описания товаров, как в вики-сообществах. То есть клиенты предлагают свои правки и комментируют изменения других. В нашем распоряжении набор данных с разметкой о токсичности правок.\n",
    "\n",
    "**Цель:**\n",
    "Построить модель, которая будет искать токсичные комментарии (классифицировать комментарии на позитивные и негативные) и отправлять их на модерацию, со значением метрики качества *F1* не меньше 0.75.\n",
    "\n",
    "**Шаги выполнения проекта**\n",
    "\n",
    "1. Загрузим и подготовим данные.\n",
    "2. Обучим разные модели. \n",
    "3. Сделаем вывод.\n",
    "\n",
    "**Описание данных**\n",
    "\n",
    "Данные находятся в файле `toxic_comments.csv`. Столбец *text* в нём содержит текст комментария, а *toxic* — целевой признак."
   ]
  },
  {
   "cell_type": "markdown",
   "metadata": {},
   "source": [
    "## Подготовка"
   ]
  },
  {
   "cell_type": "code",
   "execution_count": 1,
   "metadata": {},
   "outputs": [
    {
     "name": "stdout",
     "output_type": "stream",
     "text": [
      "Requirement already satisfied: nltk in /opt/conda/lib/python3.9/site-packages (3.6.1)\n",
      "Requirement already satisfied: tqdm in /opt/conda/lib/python3.9/site-packages (from nltk) (4.61.2)\n",
      "Requirement already satisfied: regex in /opt/conda/lib/python3.9/site-packages (from nltk) (2022.8.17)\n",
      "Requirement already satisfied: click in /opt/conda/lib/python3.9/site-packages (from nltk) (8.1.3)\n",
      "Requirement already satisfied: joblib in /opt/conda/lib/python3.9/site-packages (from nltk) (1.1.0)\n",
      "/bin/bash: {sys.executable}: command not found\n",
      "/bin/bash: {sys.executable}: command not found\n"
     ]
    }
   ],
   "source": [
    "!pip install nltk\n",
    "!{sys.executable} -m pip install spacy\n",
    "!{sys.executable} -m spacy download en"
   ]
  },
  {
   "cell_type": "code",
   "execution_count": 2,
   "metadata": {},
   "outputs": [
    {
     "name": "stderr",
     "output_type": "stream",
     "text": [
      "[nltk_data] Downloading package stopwords to /home/jovyan/nltk_data...\n",
      "[nltk_data]   Package stopwords is already up-to-date!\n",
      "[nltk_data] Downloading package wordnet to /home/jovyan/nltk_data...\n",
      "[nltk_data]   Package wordnet is already up-to-date!\n"
     ]
    }
   ],
   "source": [
    "import pandas as pd\n",
    "import numpy as np\n",
    "import re\n",
    "import nltk\n",
    "nltk.download('stopwords')\n",
    "\n",
    "import warnings\n",
    "warnings.filterwarnings('ignore')\n",
    "\n",
    "from sklearn import linear_model, preprocessing\n",
    "\n",
    "from nltk.corpus import stopwords as nltk_stopwords\n",
    "\n",
    "from sklearn.feature_extraction.text import TfidfVectorizer\n",
    "from sklearn.linear_model import LogisticRegression\n",
    "from sklearn.ensemble import RandomForestClassifier\n",
    "from sklearn.tree import DecisionTreeClassifier\n",
    "from sklearn.pipeline import Pipeline\n",
    "from sklearn.model_selection import GridSearchCV\n",
    "\n",
    "from sklearn.model_selection import cross_val_score, cross_val_predict\n",
    "from sklearn.metrics import f1_score\n",
    "from sklearn import metrics\n",
    "\n",
    "from pymystem3 import Mystem\n",
    "m = Mystem()\n",
    "\n",
    "from sklearn.model_selection import train_test_split\n",
    "\n",
    "nltk.download('wordnet')\n",
    "from nltk.stem import WordNetLemmatizer\n",
    "import sys\n",
    "import spacy"
   ]
  },
  {
   "cell_type": "code",
   "execution_count": 3,
   "metadata": {},
   "outputs": [],
   "source": [
    "try:\n",
    "    try:\n",
    "    #локальная версия\n",
    "        comments = pd.read_csv('\\datasets\\toxic_comments.csv')\n",
    "    except:    \n",
    "    #сетевая версия\n",
    "        comments = pd.read_csv('/datasets/toxic_comments.csv')\n",
    "except:\n",
    "    print('Не удалось прочесть файл. Возможно, был указан не верный путь.')"
   ]
  },
  {
   "cell_type": "code",
   "execution_count": 4,
   "metadata": {},
   "outputs": [
    {
     "data": {
      "text/html": [
       "<div>\n",
       "<style scoped>\n",
       "    .dataframe tbody tr th:only-of-type {\n",
       "        vertical-align: middle;\n",
       "    }\n",
       "\n",
       "    .dataframe tbody tr th {\n",
       "        vertical-align: top;\n",
       "    }\n",
       "\n",
       "    .dataframe thead th {\n",
       "        text-align: right;\n",
       "    }\n",
       "</style>\n",
       "<table border=\"1\" class=\"dataframe\">\n",
       "  <thead>\n",
       "    <tr style=\"text-align: right;\">\n",
       "      <th></th>\n",
       "      <th>Unnamed: 0</th>\n",
       "      <th>text</th>\n",
       "      <th>toxic</th>\n",
       "    </tr>\n",
       "  </thead>\n",
       "  <tbody>\n",
       "    <tr>\n",
       "      <th>0</th>\n",
       "      <td>0</td>\n",
       "      <td>Explanation\\nWhy the edits made under my usern...</td>\n",
       "      <td>0</td>\n",
       "    </tr>\n",
       "    <tr>\n",
       "      <th>1</th>\n",
       "      <td>1</td>\n",
       "      <td>D'aww! He matches this background colour I'm s...</td>\n",
       "      <td>0</td>\n",
       "    </tr>\n",
       "    <tr>\n",
       "      <th>2</th>\n",
       "      <td>2</td>\n",
       "      <td>Hey man, I'm really not trying to edit war. It...</td>\n",
       "      <td>0</td>\n",
       "    </tr>\n",
       "    <tr>\n",
       "      <th>3</th>\n",
       "      <td>3</td>\n",
       "      <td>\"\\nMore\\nI can't make any real suggestions on ...</td>\n",
       "      <td>0</td>\n",
       "    </tr>\n",
       "    <tr>\n",
       "      <th>4</th>\n",
       "      <td>4</td>\n",
       "      <td>You, sir, are my hero. Any chance you remember...</td>\n",
       "      <td>0</td>\n",
       "    </tr>\n",
       "  </tbody>\n",
       "</table>\n",
       "</div>"
      ],
      "text/plain": [
       "   Unnamed: 0                                               text  toxic\n",
       "0           0  Explanation\\nWhy the edits made under my usern...      0\n",
       "1           1  D'aww! He matches this background colour I'm s...      0\n",
       "2           2  Hey man, I'm really not trying to edit war. It...      0\n",
       "3           3  \"\\nMore\\nI can't make any real suggestions on ...      0\n",
       "4           4  You, sir, are my hero. Any chance you remember...      0"
      ]
     },
     "execution_count": 4,
     "metadata": {},
     "output_type": "execute_result"
    }
   ],
   "source": [
    "comments.head()"
   ]
  },
  {
   "cell_type": "code",
   "execution_count": 5,
   "metadata": {},
   "outputs": [],
   "source": [
    "def clean_data(row):\n",
    "    row = re.sub(r\"(?:\\n|\\r)\", \" \", row)\n",
    "    row = re.sub(r\"[^a-zA-Z ]+\", \"\", row).strip()\n",
    "    row = row.lower()\n",
    "    return row"
   ]
  },
  {
   "cell_type": "code",
   "execution_count": 6,
   "metadata": {},
   "outputs": [
    {
     "data": {
      "text/html": [
       "<div>\n",
       "<style scoped>\n",
       "    .dataframe tbody tr th:only-of-type {\n",
       "        vertical-align: middle;\n",
       "    }\n",
       "\n",
       "    .dataframe tbody tr th {\n",
       "        vertical-align: top;\n",
       "    }\n",
       "\n",
       "    .dataframe thead th {\n",
       "        text-align: right;\n",
       "    }\n",
       "</style>\n",
       "<table border=\"1\" class=\"dataframe\">\n",
       "  <thead>\n",
       "    <tr style=\"text-align: right;\">\n",
       "      <th></th>\n",
       "      <th>Unnamed: 0</th>\n",
       "      <th>text</th>\n",
       "      <th>toxic</th>\n",
       "    </tr>\n",
       "  </thead>\n",
       "  <tbody>\n",
       "    <tr>\n",
       "      <th>0</th>\n",
       "      <td>0</td>\n",
       "      <td>explanation why the edits made under my userna...</td>\n",
       "      <td>0</td>\n",
       "    </tr>\n",
       "    <tr>\n",
       "      <th>1</th>\n",
       "      <td>1</td>\n",
       "      <td>daww he matches this background colour im seem...</td>\n",
       "      <td>0</td>\n",
       "    </tr>\n",
       "    <tr>\n",
       "      <th>2</th>\n",
       "      <td>2</td>\n",
       "      <td>hey man im really not trying to edit war its j...</td>\n",
       "      <td>0</td>\n",
       "    </tr>\n",
       "    <tr>\n",
       "      <th>3</th>\n",
       "      <td>3</td>\n",
       "      <td>more i cant make any real suggestions on impro...</td>\n",
       "      <td>0</td>\n",
       "    </tr>\n",
       "    <tr>\n",
       "      <th>4</th>\n",
       "      <td>4</td>\n",
       "      <td>you sir are my hero any chance you remember wh...</td>\n",
       "      <td>0</td>\n",
       "    </tr>\n",
       "  </tbody>\n",
       "</table>\n",
       "</div>"
      ],
      "text/plain": [
       "   Unnamed: 0                                               text  toxic\n",
       "0           0  explanation why the edits made under my userna...      0\n",
       "1           1  daww he matches this background colour im seem...      0\n",
       "2           2  hey man im really not trying to edit war its j...      0\n",
       "3           3  more i cant make any real suggestions on impro...      0\n",
       "4           4  you sir are my hero any chance you remember wh...      0"
      ]
     },
     "execution_count": 6,
     "metadata": {},
     "output_type": "execute_result"
    }
   ],
   "source": [
    "comments['text'] = comments['text'].apply(clean_data)\n",
    "comments.head()"
   ]
  },
  {
   "cell_type": "code",
   "execution_count": 7,
   "metadata": {},
   "outputs": [
    {
     "name": "stdout",
     "output_type": "stream",
     "text": [
      "<class 'pandas.core.frame.DataFrame'>\n",
      "RangeIndex: 159292 entries, 0 to 159291\n",
      "Data columns (total 3 columns):\n",
      " #   Column      Non-Null Count   Dtype \n",
      "---  ------      --------------   ----- \n",
      " 0   Unnamed: 0  159292 non-null  int64 \n",
      " 1   text        159292 non-null  object\n",
      " 2   toxic       159292 non-null  int64 \n",
      "dtypes: int64(2), object(1)\n",
      "memory usage: 3.6+ MB\n"
     ]
    }
   ],
   "source": [
    "comments.info()"
   ]
  },
  {
   "cell_type": "code",
   "execution_count": 8,
   "metadata": {},
   "outputs": [],
   "source": [
    "def lemmatize(text):\n",
    "    lemm = spacy.load('en_core_web_sm', disable=['parser', 'ner'])\n",
    "    doc = lemm(text)\n",
    "    return \" \".join([token.lemma_ for token in doc])"
   ]
  },
  {
   "cell_type": "code",
   "execution_count": 10,
   "metadata": {},
   "outputs": [],
   "source": [
    "df_train_valid, df_test = train_test_split(comments, \n",
    "                                           test_size = 0.1,\n",
    "                                           random_state = 42)"
   ]
  },
  {
   "cell_type": "code",
   "execution_count": 11,
   "metadata": {},
   "outputs": [],
   "source": [
    "df_train, df_valid = train_test_split(df_train_valid,\n",
    "                                      shuffle=False,\n",
    "                                      test_size=0.25,\n",
    "                                      random_state = 42)"
   ]
  },
  {
   "cell_type": "code",
   "execution_count": 12,
   "metadata": {},
   "outputs": [
    {
     "name": "stdout",
     "output_type": "stream",
     "text": [
      "(107521, 3) (35841, 3) (15930, 3)\n"
     ]
    }
   ],
   "source": [
    "print(df_train.shape, df_valid.shape, df_test.shape)"
   ]
  },
  {
   "cell_type": "code",
   "execution_count": 13,
   "metadata": {},
   "outputs": [],
   "source": [
    "features_train = df_train.drop('toxic', axis=1).values\n",
    "target_train = df_train['toxic'].values"
   ]
  },
  {
   "cell_type": "code",
   "execution_count": 14,
   "metadata": {},
   "outputs": [],
   "source": [
    "features_valid = df_valid.drop('toxic', axis=1).values\n",
    "target_valid = df_valid['toxic'].values"
   ]
  },
  {
   "cell_type": "code",
   "execution_count": 15,
   "metadata": {},
   "outputs": [],
   "source": [
    "features_test = df_test.drop('toxic', axis=1).values\n",
    "target_test = df_test['toxic'].values"
   ]
  },
  {
   "cell_type": "code",
   "execution_count": 16,
   "metadata": {},
   "outputs": [
    {
     "name": "stdout",
     "output_type": "stream",
     "text": [
      "(107521, 2) (35841, 2) (15930, 2) 107521\n"
     ]
    }
   ],
   "source": [
    "print(features_train.shape, features_valid.shape, features_test.shape, target_train.shape[0])"
   ]
  },
  {
   "cell_type": "code",
   "execution_count": 17,
   "metadata": {},
   "outputs": [],
   "source": [
    "train_corpus = df_train['text'].values.astype('U')"
   ]
  },
  {
   "cell_type": "code",
   "execution_count": 20,
   "metadata": {},
   "outputs": [
    {
     "data": {
      "text/plain": [
       "array(['stop delete image without first consulting   quadell you need to stop delete image without first consulting with the person who post they that be bad behavior on your part cease and desist if you think there s a problem first discuss it with the person involve do not take matter into your own hand and just take action do that show disrespect to other and make people angry   ledastray',\n",
       "       'controversial material of any kind that is unsourced or poorly sourced must be removed immediately especially if potentially libelous blp rules were applied it seems',\n",
       "       'image source info   hi there as i was clearing out catns i came across this image imageeichmann trial  in glass boxjpg that you uploaded is it possible that you could provide source info for it so that it wont be deleted under csd i at a later date sorry to bother  rw',\n",
       "       ...,\n",
       "       'about the peaceful loving gonna destroy the uk as a whole because of icecream religion of peace that is islam',\n",
       "       'jps and the stinking pedophile sweetiepetie   did you know about the company jps keeps hes a protector and friend of those who seek to prey on young children via wikipedia do you  support that too',\n",
       "       're  calling a dickhead a dickhead is not a personal attack sorry but if  fucks with my edits again i will call him a dickhead again'],\n",
       "      dtype='<U5000')"
      ]
     },
     "execution_count": 20,
     "metadata": {},
     "output_type": "execute_result"
    }
   ],
   "source": [
    "train_corpus[0] = lemmatize(str(train_corpus[0]))\n",
    "train_corpus"
   ]
  },
  {
   "cell_type": "code",
   "execution_count": 21,
   "metadata": {},
   "outputs": [],
   "source": [
    "stopwords = set(nltk_stopwords.words('english'))\n",
    "count_tf_idf = TfidfVectorizer(stop_words=stopwords, ngram_range=(1,1))\n",
    "tf_idf_train = count_tf_idf.fit_transform(train_corpus)"
   ]
  },
  {
   "cell_type": "code",
   "execution_count": 23,
   "metadata": {},
   "outputs": [
    {
     "data": {
      "text/plain": [
       "array(['ps can you send I an empty email just for reestablish contact I have a question to you',\n",
       "       'i dont care i have at least one proof link you are so stupid that you dont know how to translate my link and of couse you dont have any argument or link additionaly you must read discussion page and again t dont have any ammo in turret',\n",
       "       'no it would be a new tmeplate and the terrorism template could either be below the new template or be a link inside the new template i do not agree either with the fact that all islamist terrorism related entries branch off from this one they are simply related to this one  then why have a muhammad template all articles related to muhammad also branch off from islam correct there you go  talkcontribs',\n",
       "       ...,\n",
       "       'john bull vs adolf hitler     look at the pictures of these two people what do you think',\n",
       "       'october    you have a lot to learn about the way things work around here evidently among the most basic rules we have are wpcivility wpnpa wprs and wpv the material from the encyclopedias is all material which meets wprs and wpv your own recent comments violate both wpcivility and wpnpa the only grounds for removing sourced materisl are either wpundue or if consensus as per wpconsensus is reached to remove them i suggest you read each of the pages linked to above before engaging in any other conduct which is counterproductive and could potentially create problems please consider this a formal warning to cease engaging in such problematic conduct thank you',\n",
       "       'im sorry tip the deduction was obvious and wrong the article as written did not contain any links to reliable sources depending instead on the subjects own website amazoncom and other notoriously unreliable sources remember also that notability is not contagious being the agent for a notable person does not make this guy notable id suggest you rewrite this one in a sandbox using more reliable sources and if there are no such sources consider what this says about the guys notability your fellow cheesehead     talk'],\n",
       "      dtype='<U5000')"
      ]
     },
     "execution_count": 23,
     "metadata": {},
     "output_type": "execute_result"
    }
   ],
   "source": [
    "valid_corpus = df_valid['text'].values.astype('U')\n",
    "\n",
    "valid_corpus[0] = lemmatize(str(valid_corpus[0]))\n",
    "valid_corpus"
   ]
  },
  {
   "cell_type": "code",
   "execution_count": 24,
   "metadata": {},
   "outputs": [],
   "source": [
    "tf_idf_valid = count_tf_idf.transform(valid_corpus)"
   ]
  },
  {
   "cell_type": "code",
   "execution_count": 25,
   "metadata": {},
   "outputs": [
    {
     "data": {
      "text/plain": [
       "array(['sometime back i just happened to log on to wwwizoomin with a friends reference and i was amazed to see the concept fresh ideas entertainment has come up with so many deals all under one roof this website is very user friendly and easy to use and is fun to be on you have gossip games facts another exciting feature to add to it is face of the week every week  new faces are selected and put up as izoom faces its great to have been selected in four out of a group of millions  this new start up has already got many a deals in its kitty few of them being thefortune hotel the beach are my personal favorites izoomin has a usp of mobile coupons coupons are available even when a user cannot access internet you just need to sms izoom support to  and you get attended immediately all i can say is izoomin is a must visit website for everyone before they go out for shopping or dining or for outing cheers',\n",
       "       'the latest edit is much better dont make this article state super at all',\n",
       "       'october  utc  i would think youd be able to get your point across and be immune to any objections were you to simply embellish the second sentence of the article by changing he was schooled at thornleigh salesian college to he was schooled at the then allcatholic thornleigh salesian college     good suggestion from an anon  what do you think rgds',\n",
       "       ..., 'because you are a tweeting cunt flap',\n",
       "       'referencing sources   you should take care to reference you sources properly use the templates this is what a proper reference supposed to look like  cite news urlhttpwwwvedomostirufinancenewsvvprossiivpervompolugodiivyrosnaminekonomrazvitiya publishervedomosti title          date july accessdate august languagerussian  im not going to fix it for you  also please dont stuff this article with irrelevant outdated and inaccurate information i made a lot of effort to clean it up',\n",
       "       'nopeive changed it  looking at jamaicas constitution in terms of what does it mean for britain is a rather sad example of wikipedias biases  incidentally so is the fact that the only two policy positions weve noticed are the western hobbyhorses of the queen and gay rights not that gay rights arent fine and dandy but there are issues of more pressing concern to the average jamaican flower'],\n",
       "      dtype='<U5000')"
      ]
     },
     "execution_count": 25,
     "metadata": {},
     "output_type": "execute_result"
    }
   ],
   "source": [
    "test_corpus = df_test['text'].values.astype('U')\n",
    "test_corpus"
   ]
  },
  {
   "cell_type": "code",
   "execution_count": 27,
   "metadata": {},
   "outputs": [
    {
     "data": {
      "text/plain": [
       "array(['sometime back I just happen to log on to wwwizoomin with a friend reference and I be amazed to see the concept fresh idea entertainment have come up with so many deal all under one roof this website be very user friendly and easy to use and be fun to be on you have gossip game fact another exciting feature to add to it be face of the week every week   new face be select and put up as izoom face its great to have be select in four out of a group of million   this new start up have already get many a deal in its kitty few of they be thefortune hotel the beach be my personal favorite izoomin have a usp of mobile coupon coupon be available even when a user can not access internet you just need to sms izoom support to   and you get attend you all I can say be izoomin be a must visit website for everyone before they go out for shopping or dining or for outing cheer',\n",
       "       'the latest edit is much better dont make this article state super at all',\n",
       "       'october  utc  i would think youd be able to get your point across and be immune to any objections were you to simply embellish the second sentence of the article by changing he was schooled at thornleigh salesian college to he was schooled at the then allcatholic thornleigh salesian college     good suggestion from an anon  what do you think rgds',\n",
       "       ..., 'because you are a tweeting cunt flap',\n",
       "       'referencing sources   you should take care to reference you sources properly use the templates this is what a proper reference supposed to look like  cite news urlhttpwwwvedomostirufinancenewsvvprossiivpervompolugodiivyrosnaminekonomrazvitiya publishervedomosti title          date july accessdate august languagerussian  im not going to fix it for you  also please dont stuff this article with irrelevant outdated and inaccurate information i made a lot of effort to clean it up',\n",
       "       'nopeive changed it  looking at jamaicas constitution in terms of what does it mean for britain is a rather sad example of wikipedias biases  incidentally so is the fact that the only two policy positions weve noticed are the western hobbyhorses of the queen and gay rights not that gay rights arent fine and dandy but there are issues of more pressing concern to the average jamaican flower'],\n",
       "      dtype='<U5000')"
      ]
     },
     "execution_count": 27,
     "metadata": {},
     "output_type": "execute_result"
    }
   ],
   "source": [
    "test_corpus[0] = lemmatize(str(test_corpus[0]))\n",
    "test_corpus"
   ]
  },
  {
   "cell_type": "code",
   "execution_count": 28,
   "metadata": {},
   "outputs": [],
   "source": [
    "tf_idf_test = count_tf_idf.transform(test_corpus)"
   ]
  },
  {
   "cell_type": "markdown",
   "metadata": {},
   "source": [
    "## Обучение"
   ]
  },
  {
   "cell_type": "markdown",
   "metadata": {},
   "source": [
    "# LogisticRegression"
   ]
  },
  {
   "cell_type": "code",
   "execution_count": 29,
   "metadata": {},
   "outputs": [
    {
     "name": "stdout",
     "output_type": "stream",
     "text": [
      "Fitting 3 folds for each of 10 candidates, totalling 30 fits\n",
      "Best Params {'C': 4, 'penalty': 'l1'}\n",
      "Best Score 0.7675195516618311\n",
      "CPU times: user 2min 2s, sys: 1min 20s, total: 3min 23s\n",
      "Wall time: 3min 23s\n"
     ]
    }
   ],
   "source": [
    "%%time\n",
    "lr = LogisticRegression(random_state=42, \n",
    "                        solver='liblinear',\n",
    "                        max_iter=100\n",
    "                       )\n",
    "\n",
    "params = {'penalty':['l1', 'l2'],\n",
    "          'C':list(range(1,15,3)) \n",
    "         }\n",
    "\n",
    "lr_gs = GridSearchCV(lr,\n",
    "                     params,\n",
    "                     cv=3,\n",
    "                     scoring='f1',\n",
    "                     verbose=True).fit(tf_idf_train, target_train)\n",
    "\n",
    "print (\"Best Params\", lr_gs.best_params_)\n",
    "print (\"Best Score\", lr_gs.best_score_)"
   ]
  },
  {
   "cell_type": "code",
   "execution_count": 30,
   "metadata": {},
   "outputs": [
    {
     "data": {
      "text/plain": [
       "LogisticRegression(C=4, class_weight='balanced', penalty='l1', random_state=42,\n",
       "                   solver='liblinear')"
      ]
     },
     "execution_count": 30,
     "metadata": {},
     "output_type": "execute_result"
    }
   ],
   "source": [
    "lr_best = LogisticRegression(random_state=42,\n",
    "                             class_weight = 'balanced',\n",
    "                             C = 4,\n",
    "                             penalty = 'l1',\n",
    "                             solver='liblinear',\n",
    "                             max_iter=100)\n",
    "\n",
    "lr_best.fit(tf_idf_train, target_train)"
   ]
  },
  {
   "cell_type": "code",
   "execution_count": 31,
   "metadata": {},
   "outputs": [
    {
     "name": "stdout",
     "output_type": "stream",
     "text": [
      "Метрика F1 модели LogisticRegression на валидационной выборке: 0.7683500826866811\n"
     ]
    }
   ],
   "source": [
    "pred1 = lr_best.predict(tf_idf_valid)\n",
    "print(f'Метрика F1 модели LogisticRegression на валидационной выборке: {f1_score(target_valid, pred1)}')"
   ]
  },
  {
   "cell_type": "markdown",
   "metadata": {},
   "source": [
    "# DecisionTreeClassifier"
   ]
  },
  {
   "cell_type": "code",
   "execution_count": 32,
   "metadata": {},
   "outputs": [
    {
     "name": "stdout",
     "output_type": "stream",
     "text": [
      "Fitting 3 folds for each of 6 candidates, totalling 18 fits\n",
      "Лучшие параметры {'criterion': 'gini', 'max_depth': 11}\n",
      "Лучшая метрика F1 модели DecisionTreeClassifier 0.5820756016268165\n",
      "CPU times: user 3min 18s, sys: 1.09 s, total: 3min 20s\n",
      "Wall time: 3min 20s\n"
     ]
    }
   ],
   "source": [
    "%%time\n",
    "tree = DecisionTreeClassifier(random_state = 42)\n",
    "params = {'criterion':['gini', 'entropy'],\n",
    "          'max_depth':list(range(1,15,5)) \n",
    "         }\n",
    "\n",
    "tree_gs = GridSearchCV(tree,\n",
    "                       params,\n",
    "                       cv=3,\n",
    "                       scoring='f1',\n",
    "                       verbose=True).fit(tf_idf_train, target_train)\n",
    "\n",
    "print (\"Лучшие параметры\", tree_gs.best_params_)\n",
    "print (\"Лучшая метрика F1 модели DecisionTreeClassifier\", tree_gs.best_score_)"
   ]
  },
  {
   "cell_type": "code",
   "execution_count": 33,
   "metadata": {},
   "outputs": [
    {
     "data": {
      "text/plain": [
       "DecisionTreeClassifier(max_depth=11, random_state=42)"
      ]
     },
     "execution_count": 33,
     "metadata": {},
     "output_type": "execute_result"
    }
   ],
   "source": [
    "tree_best = DecisionTreeClassifier(random_state = 42,\n",
    "                                   criterion='gini',\n",
    "                                   max_depth=11)\n",
    "\n",
    "tree_best.fit(tf_idf_train, target_train)"
   ]
  },
  {
   "cell_type": "code",
   "execution_count": 34,
   "metadata": {},
   "outputs": [
    {
     "name": "stdout",
     "output_type": "stream",
     "text": [
      "Метрика F1 модели DecisionTreeClassifier на валидационной выборке: 0.5971512052593133\n"
     ]
    }
   ],
   "source": [
    "pred2 = tree_best.predict(tf_idf_valid)\n",
    "print(f'Метрика F1 модели DecisionTreeClassifier на валидационной выборке: {f1_score(target_valid, pred2)}')"
   ]
  },
  {
   "cell_type": "markdown",
   "metadata": {},
   "source": [
    "**Под условия нашего проекта подходит модель LogisticRegression, метрика F1 которой на обучающей и валидационной выборке превышает необходимое пороговое значение 0.75. Проверим работу этой модели на тестовой выборке:**"
   ]
  },
  {
   "cell_type": "code",
   "execution_count": 35,
   "metadata": {},
   "outputs": [],
   "source": [
    "pred1 = lr_best.predict(tf_idf_test)      "
   ]
  },
  {
   "cell_type": "code",
   "execution_count": 36,
   "metadata": {},
   "outputs": [
    {
     "data": {
      "text/plain": [
       "0.7768643570170287"
      ]
     },
     "execution_count": 36,
     "metadata": {},
     "output_type": "execute_result"
    }
   ],
   "source": [
    "f1_lr = f1_score(target_test, pred1)     \n",
    "f1_lr"
   ]
  },
  {
   "cell_type": "markdown",
   "metadata": {},
   "source": [
    "## Выводы"
   ]
  },
  {
   "cell_type": "markdown",
   "metadata": {},
   "source": [
    "**Пороговое значение метрики 0.75 преодолено, получено 0.78.** \n",
    "Лучшая модель - логистическая регрессия с подробранными гиперпараметрами:\n",
    "- C = 4, \n",
    "- penalty = 'l1'\n",
    "\n",
    "Цель проекта достигнута, заказчик сможет искать токсичные комментарии (классифицировать комментарии на позитивные и негативные) и отправлять их на модерацию."
   ]
  },
  {
   "cell_type": "markdown",
   "metadata": {},
   "source": [
    "## Чек-лист проверки"
   ]
  },
  {
   "cell_type": "markdown",
   "metadata": {},
   "source": [
    "- [x]  Jupyter Notebook открыт\n",
    "- [x]  Весь код выполняется без ошибок\n",
    "- [x]  Ячейки с кодом расположены в порядке исполнения\n",
    "- [x]  Данные загружены и подготовлены\n",
    "- [x]  Модели обучены\n",
    "- [x]  Значение метрики *F1* не меньше 0.75\n",
    "- [x]  Выводы написаны"
   ]
  },
  {
   "cell_type": "code",
   "execution_count": null,
   "metadata": {},
   "outputs": [],
   "source": []
  }
 ],
 "metadata": {
  "ExecuteTimeLog": [
   {
    "duration": 504,
    "start_time": "2023-10-02T12:06:55.945Z"
   },
   {
    "duration": 9701,
    "start_time": "2023-10-02T12:09:06.957Z"
   },
   {
    "duration": 0,
    "start_time": "2023-10-02T12:09:16.744Z"
   },
   {
    "duration": 0,
    "start_time": "2023-10-02T12:09:16.746Z"
   },
   {
    "duration": 0,
    "start_time": "2023-10-02T12:09:16.748Z"
   },
   {
    "duration": 0,
    "start_time": "2023-10-02T12:09:16.749Z"
   },
   {
    "duration": 0,
    "start_time": "2023-10-02T12:09:16.751Z"
   },
   {
    "duration": 0,
    "start_time": "2023-10-02T12:09:16.753Z"
   },
   {
    "duration": 0,
    "start_time": "2023-10-02T12:09:16.756Z"
   },
   {
    "duration": 0,
    "start_time": "2023-10-02T12:09:16.757Z"
   },
   {
    "duration": 0,
    "start_time": "2023-10-02T12:09:16.760Z"
   },
   {
    "duration": 0,
    "start_time": "2023-10-02T12:09:16.761Z"
   },
   {
    "duration": 0,
    "start_time": "2023-10-02T12:09:16.761Z"
   },
   {
    "duration": 0,
    "start_time": "2023-10-02T12:09:16.762Z"
   },
   {
    "duration": 0,
    "start_time": "2023-10-02T12:09:16.762Z"
   },
   {
    "duration": 0,
    "start_time": "2023-10-02T12:09:16.763Z"
   },
   {
    "duration": 0,
    "start_time": "2023-10-02T12:09:16.763Z"
   },
   {
    "duration": 0,
    "start_time": "2023-10-02T12:09:16.764Z"
   },
   {
    "duration": 0,
    "start_time": "2023-10-02T12:09:16.843Z"
   },
   {
    "duration": 112,
    "start_time": "2023-10-02T12:10:49.046Z"
   },
   {
    "duration": 13,
    "start_time": "2023-10-02T12:25:27.418Z"
   },
   {
    "duration": 1427,
    "start_time": "2023-10-02T12:25:40.564Z"
   },
   {
    "duration": 3395,
    "start_time": "2023-10-02T12:25:41.993Z"
   },
   {
    "duration": 2460,
    "start_time": "2023-10-02T12:25:45.390Z"
   },
   {
    "duration": 30,
    "start_time": "2023-10-02T12:25:47.851Z"
   },
   {
    "duration": 36,
    "start_time": "2023-10-02T12:25:47.884Z"
   },
   {
    "duration": 53,
    "start_time": "2023-10-02T12:25:47.922Z"
   },
   {
    "duration": 2314,
    "start_time": "2023-10-02T12:25:47.976Z"
   },
   {
    "duration": 6459,
    "start_time": "2023-10-02T12:25:50.292Z"
   },
   {
    "duration": 499,
    "start_time": "2023-10-02T12:25:56.753Z"
   },
   {
    "duration": 2061,
    "start_time": "2023-10-02T12:25:57.254Z"
   },
   {
    "duration": 205,
    "start_time": "2023-10-02T12:25:59.316Z"
   },
   {
    "duration": 899,
    "start_time": "2023-10-02T12:25:59.523Z"
   },
   {
    "duration": 1616,
    "start_time": "2023-10-02T12:27:00.800Z"
   },
   {
    "duration": 995,
    "start_time": "2023-10-02T12:27:02.419Z"
   },
   {
    "duration": 2824,
    "start_time": "2023-10-02T12:27:03.416Z"
   },
   {
    "duration": 33,
    "start_time": "2023-10-02T12:27:06.242Z"
   },
   {
    "duration": 35,
    "start_time": "2023-10-02T12:27:06.277Z"
   },
   {
    "duration": 65,
    "start_time": "2023-10-02T12:27:06.314Z"
   },
   {
    "duration": 2258,
    "start_time": "2023-10-02T12:27:06.381Z"
   },
   {
    "duration": 7121,
    "start_time": "2023-10-02T12:27:08.644Z"
   },
   {
    "duration": 506,
    "start_time": "2023-10-02T12:27:15.766Z"
   },
   {
    "duration": 2286,
    "start_time": "2023-10-02T12:27:16.274Z"
   },
   {
    "duration": 224,
    "start_time": "2023-10-02T12:27:18.561Z"
   },
   {
    "duration": 1024,
    "start_time": "2023-10-02T12:27:18.786Z"
   },
   {
    "duration": 219027,
    "start_time": "2023-10-02T12:27:19.812Z"
   },
   {
    "duration": 3011,
    "start_time": "2023-10-02T12:30:58.845Z"
   },
   {
    "duration": 17,
    "start_time": "2023-10-02T12:31:01.857Z"
   },
   {
    "duration": 185123,
    "start_time": "2023-10-02T12:31:01.875Z"
   },
   {
    "duration": 5322,
    "start_time": "2023-10-02T12:34:07.000Z"
   },
   {
    "duration": 20,
    "start_time": "2023-10-02T12:34:12.325Z"
   },
   {
    "duration": 4,
    "start_time": "2023-10-02T12:36:39.409Z"
   },
   {
    "duration": 34,
    "start_time": "2023-10-02T12:38:54.388Z"
   },
   {
    "duration": 11,
    "start_time": "2023-10-02T12:38:54.795Z"
   },
   {
    "duration": 8,
    "start_time": "2023-10-02T12:38:55.109Z"
   },
   {
    "duration": 11,
    "start_time": "2023-10-02T13:08:00.764Z"
   },
   {
    "duration": 951,
    "start_time": "2023-10-02T13:08:58.478Z"
   },
   {
    "duration": 8,
    "start_time": "2023-10-02T13:09:00.513Z"
   },
   {
    "duration": 44,
    "start_time": "2023-10-02T13:13:37.682Z"
   },
   {
    "duration": 19,
    "start_time": "2023-10-02T13:14:41.261Z"
   },
   {
    "duration": 1570,
    "start_time": "2023-10-02T13:17:26.787Z"
   },
   {
    "duration": 949,
    "start_time": "2023-10-02T13:17:28.359Z"
   },
   {
    "duration": 17,
    "start_time": "2023-10-02T13:17:29.310Z"
   },
   {
    "duration": 16,
    "start_time": "2023-10-02T13:17:29.328Z"
   },
   {
    "duration": 2467,
    "start_time": "2023-10-02T13:17:29.346Z"
   },
   {
    "duration": 38,
    "start_time": "2023-10-02T13:17:31.815Z"
   },
   {
    "duration": 66,
    "start_time": "2023-10-02T13:17:31.855Z"
   },
   {
    "duration": 40,
    "start_time": "2023-10-02T13:17:31.923Z"
   },
   {
    "duration": 17,
    "start_time": "2023-10-02T13:17:31.965Z"
   },
   {
    "duration": 65,
    "start_time": "2023-10-02T13:17:31.983Z"
   },
   {
    "duration": 16,
    "start_time": "2023-10-02T13:17:32.050Z"
   },
   {
    "duration": 43,
    "start_time": "2023-10-02T13:17:32.068Z"
   },
   {
    "duration": 32,
    "start_time": "2023-10-02T13:17:32.113Z"
   },
   {
    "duration": 1423,
    "start_time": "2023-10-02T13:17:32.148Z"
   },
   {
    "duration": 29,
    "start_time": "2023-10-02T13:17:33.573Z"
   },
   {
    "duration": 808,
    "start_time": "2023-10-02T13:17:33.604Z"
   },
   {
    "duration": 6479,
    "start_time": "2023-10-02T13:17:34.415Z"
   },
   {
    "duration": 512,
    "start_time": "2023-10-02T13:17:40.895Z"
   },
   {
    "duration": 2084,
    "start_time": "2023-10-02T13:17:41.409Z"
   },
   {
    "duration": 205,
    "start_time": "2023-10-02T13:17:43.495Z"
   },
   {
    "duration": 1288,
    "start_time": "2023-10-02T13:17:43.702Z"
   },
   {
    "duration": 168,
    "start_time": "2023-10-02T13:17:44.992Z"
   },
   {
    "duration": 0,
    "start_time": "2023-10-02T13:17:45.162Z"
   },
   {
    "duration": 0,
    "start_time": "2023-10-02T13:17:45.164Z"
   },
   {
    "duration": 0,
    "start_time": "2023-10-02T13:17:45.165Z"
   },
   {
    "duration": 0,
    "start_time": "2023-10-02T13:17:45.166Z"
   },
   {
    "duration": 0,
    "start_time": "2023-10-02T13:17:45.167Z"
   },
   {
    "duration": 0,
    "start_time": "2023-10-02T13:17:45.169Z"
   },
   {
    "duration": 0,
    "start_time": "2023-10-02T13:17:45.170Z"
   },
   {
    "duration": 213180,
    "start_time": "2023-10-02T13:19:11.907Z"
   },
   {
    "duration": 2945,
    "start_time": "2023-10-02T13:22:45.089Z"
   },
   {
    "duration": 19,
    "start_time": "2023-10-02T13:22:48.036Z"
   },
   {
    "duration": 182724,
    "start_time": "2023-10-02T13:22:48.057Z"
   },
   {
    "duration": 5259,
    "start_time": "2023-10-02T13:25:50.782Z"
   },
   {
    "duration": 31,
    "start_time": "2023-10-02T13:25:56.043Z"
   },
   {
    "duration": 5,
    "start_time": "2023-10-02T13:25:56.075Z"
   },
   {
    "duration": 24,
    "start_time": "2023-10-02T13:25:56.081Z"
   },
   {
    "duration": 1932,
    "start_time": "2023-10-02T21:32:00.992Z"
   },
   {
    "duration": 2591,
    "start_time": "2023-10-02T21:32:02.926Z"
   },
   {
    "duration": 16,
    "start_time": "2023-10-02T21:32:05.519Z"
   },
   {
    "duration": 18,
    "start_time": "2023-10-02T21:32:05.537Z"
   },
   {
    "duration": 2806,
    "start_time": "2023-10-02T21:32:05.558Z"
   },
   {
    "duration": 42,
    "start_time": "2023-10-02T21:32:08.366Z"
   },
   {
    "duration": 34,
    "start_time": "2023-10-02T21:32:08.410Z"
   },
   {
    "duration": 15,
    "start_time": "2023-10-02T21:32:08.446Z"
   },
   {
    "duration": 72,
    "start_time": "2023-10-02T21:32:08.463Z"
   },
   {
    "duration": 55,
    "start_time": "2023-10-02T21:32:08.536Z"
   },
   {
    "duration": 27,
    "start_time": "2023-10-02T21:32:08.593Z"
   },
   {
    "duration": 10,
    "start_time": "2023-10-02T21:32:08.622Z"
   },
   {
    "duration": 12,
    "start_time": "2023-10-02T21:32:08.634Z"
   },
   {
    "duration": 1493,
    "start_time": "2023-10-02T21:32:08.650Z"
   },
   {
    "duration": 18,
    "start_time": "2023-10-02T21:32:10.145Z"
   },
   {
    "duration": 6,
    "start_time": "2023-10-02T21:32:10.165Z"
   },
   {
    "duration": 1238,
    "start_time": "2023-10-02T21:32:10.172Z"
   },
   {
    "duration": 6924,
    "start_time": "2023-10-02T21:32:11.411Z"
   },
   {
    "duration": 489,
    "start_time": "2023-10-02T21:32:18.337Z"
   },
   {
    "duration": 2201,
    "start_time": "2023-10-02T21:32:18.828Z"
   },
   {
    "duration": 215,
    "start_time": "2023-10-02T21:32:21.031Z"
   },
   {
    "duration": 969,
    "start_time": "2023-10-02T21:32:21.247Z"
   },
   {
    "duration": 1640,
    "start_time": "2023-10-02T21:34:15.354Z"
   },
   {
    "duration": 1043,
    "start_time": "2023-10-02T21:34:16.997Z"
   },
   {
    "duration": 15,
    "start_time": "2023-10-02T21:34:18.042Z"
   },
   {
    "duration": 3,
    "start_time": "2023-10-02T21:34:18.060Z"
   },
   {
    "duration": 2771,
    "start_time": "2023-10-02T21:34:18.066Z"
   },
   {
    "duration": 34,
    "start_time": "2023-10-02T21:34:20.839Z"
   },
   {
    "duration": 46,
    "start_time": "2023-10-02T21:34:20.875Z"
   },
   {
    "duration": 15,
    "start_time": "2023-10-02T21:34:20.923Z"
   },
   {
    "duration": 4,
    "start_time": "2023-10-02T21:34:20.940Z"
   },
   {
    "duration": 42,
    "start_time": "2023-10-02T21:34:20.946Z"
   },
   {
    "duration": 25,
    "start_time": "2023-10-02T21:34:20.989Z"
   },
   {
    "duration": 15,
    "start_time": "2023-10-02T21:34:21.016Z"
   },
   {
    "duration": 15,
    "start_time": "2023-10-02T21:34:21.033Z"
   },
   {
    "duration": 1501,
    "start_time": "2023-10-02T21:34:21.050Z"
   },
   {
    "duration": 6,
    "start_time": "2023-10-02T21:34:22.554Z"
   },
   {
    "duration": 2831,
    "start_time": "2023-10-02T21:34:22.561Z"
   },
   {
    "duration": 1229,
    "start_time": "2023-10-02T21:34:25.394Z"
   },
   {
    "duration": 8017,
    "start_time": "2023-10-02T21:34:26.625Z"
   },
   {
    "duration": 506,
    "start_time": "2023-10-02T21:34:34.644Z"
   },
   {
    "duration": 2549,
    "start_time": "2023-10-02T21:34:35.151Z"
   },
   {
    "duration": 220,
    "start_time": "2023-10-02T21:34:37.702Z"
   },
   {
    "duration": 1180,
    "start_time": "2023-10-02T21:34:37.924Z"
   },
   {
    "duration": 225252,
    "start_time": "2023-10-02T21:34:39.106Z"
   },
   {
    "duration": 3119,
    "start_time": "2023-10-02T21:38:24.360Z"
   },
   {
    "duration": 18,
    "start_time": "2023-10-02T21:38:27.481Z"
   },
   {
    "duration": 198300,
    "start_time": "2023-10-02T21:38:27.509Z"
   },
   {
    "duration": 6055,
    "start_time": "2023-10-02T21:41:45.811Z"
   },
   {
    "duration": 45,
    "start_time": "2023-10-02T21:41:51.870Z"
   },
   {
    "duration": 4,
    "start_time": "2023-10-02T21:41:51.917Z"
   },
   {
    "duration": 13,
    "start_time": "2023-10-02T21:41:51.923Z"
   },
   {
    "duration": 6,
    "start_time": "2023-10-02T22:10:41.529Z"
   },
   {
    "duration": 2826,
    "start_time": "2023-10-02T22:11:08.798Z"
   },
   {
    "duration": 7,
    "start_time": "2023-10-02T22:11:11.627Z"
   },
   {
    "duration": 1932,
    "start_time": "2023-10-02T22:19:28.699Z"
   },
   {
    "duration": 2284,
    "start_time": "2023-10-02T22:19:46.373Z"
   },
   {
    "duration": 1488,
    "start_time": "2023-10-02T22:19:48.659Z"
   },
   {
    "duration": 1054,
    "start_time": "2023-10-02T22:19:50.149Z"
   },
   {
    "duration": 14,
    "start_time": "2023-10-02T22:19:51.205Z"
   },
   {
    "duration": 14,
    "start_time": "2023-10-02T22:19:51.221Z"
   },
   {
    "duration": 2744,
    "start_time": "2023-10-02T22:19:51.237Z"
   },
   {
    "duration": 41,
    "start_time": "2023-10-02T22:19:53.982Z"
   },
   {
    "duration": 6,
    "start_time": "2023-10-02T22:19:54.025Z"
   },
   {
    "duration": 1503,
    "start_time": "2023-10-02T22:19:54.033Z"
   },
   {
    "duration": 0,
    "start_time": "2023-10-02T22:19:55.539Z"
   },
   {
    "duration": 0,
    "start_time": "2023-10-02T22:19:55.541Z"
   },
   {
    "duration": 0,
    "start_time": "2023-10-02T22:19:55.542Z"
   },
   {
    "duration": 0,
    "start_time": "2023-10-02T22:19:55.543Z"
   },
   {
    "duration": 0,
    "start_time": "2023-10-02T22:19:55.544Z"
   },
   {
    "duration": 0,
    "start_time": "2023-10-02T22:19:55.545Z"
   },
   {
    "duration": 0,
    "start_time": "2023-10-02T22:19:55.547Z"
   },
   {
    "duration": 0,
    "start_time": "2023-10-02T22:19:55.548Z"
   },
   {
    "duration": 0,
    "start_time": "2023-10-02T22:19:55.549Z"
   },
   {
    "duration": 0,
    "start_time": "2023-10-02T22:19:55.550Z"
   },
   {
    "duration": 0,
    "start_time": "2023-10-02T22:19:55.551Z"
   },
   {
    "duration": 0,
    "start_time": "2023-10-02T22:19:55.552Z"
   },
   {
    "duration": 0,
    "start_time": "2023-10-02T22:19:55.553Z"
   },
   {
    "duration": 0,
    "start_time": "2023-10-02T22:19:55.554Z"
   },
   {
    "duration": 0,
    "start_time": "2023-10-02T22:19:55.556Z"
   },
   {
    "duration": 0,
    "start_time": "2023-10-02T22:19:55.557Z"
   },
   {
    "duration": 0,
    "start_time": "2023-10-02T22:19:55.558Z"
   },
   {
    "duration": 0,
    "start_time": "2023-10-02T22:19:55.559Z"
   },
   {
    "duration": 0,
    "start_time": "2023-10-02T22:19:55.561Z"
   },
   {
    "duration": 0,
    "start_time": "2023-10-02T22:19:55.561Z"
   },
   {
    "duration": 0,
    "start_time": "2023-10-02T22:19:55.563Z"
   },
   {
    "duration": 0,
    "start_time": "2023-10-02T22:19:55.564Z"
   },
   {
    "duration": 0,
    "start_time": "2023-10-02T22:19:55.565Z"
   },
   {
    "duration": 2335,
    "start_time": "2023-10-02T22:21:32.048Z"
   },
   {
    "duration": 1872,
    "start_time": "2023-10-02T22:21:34.386Z"
   },
   {
    "duration": 1057,
    "start_time": "2023-10-02T22:21:36.260Z"
   },
   {
    "duration": 14,
    "start_time": "2023-10-02T22:21:37.319Z"
   },
   {
    "duration": 29,
    "start_time": "2023-10-02T22:21:37.335Z"
   },
   {
    "duration": 2701,
    "start_time": "2023-10-02T22:21:37.366Z"
   },
   {
    "duration": 41,
    "start_time": "2023-10-02T22:21:40.069Z"
   },
   {
    "duration": 3,
    "start_time": "2023-10-02T22:21:40.112Z"
   },
   {
    "duration": 1649,
    "start_time": "2023-10-02T22:21:40.117Z"
   },
   {
    "duration": 0,
    "start_time": "2023-10-02T22:21:41.769Z"
   },
   {
    "duration": 0,
    "start_time": "2023-10-02T22:21:41.771Z"
   },
   {
    "duration": 0,
    "start_time": "2023-10-02T22:21:41.771Z"
   },
   {
    "duration": 0,
    "start_time": "2023-10-02T22:21:41.773Z"
   },
   {
    "duration": 0,
    "start_time": "2023-10-02T22:21:41.773Z"
   },
   {
    "duration": 0,
    "start_time": "2023-10-02T22:21:41.774Z"
   },
   {
    "duration": 0,
    "start_time": "2023-10-02T22:21:41.775Z"
   },
   {
    "duration": 0,
    "start_time": "2023-10-02T22:21:41.776Z"
   },
   {
    "duration": 0,
    "start_time": "2023-10-02T22:21:41.777Z"
   },
   {
    "duration": 0,
    "start_time": "2023-10-02T22:21:41.778Z"
   },
   {
    "duration": 0,
    "start_time": "2023-10-02T22:21:41.779Z"
   },
   {
    "duration": 0,
    "start_time": "2023-10-02T22:21:41.780Z"
   },
   {
    "duration": 0,
    "start_time": "2023-10-02T22:21:41.781Z"
   },
   {
    "duration": 0,
    "start_time": "2023-10-02T22:21:41.782Z"
   },
   {
    "duration": 0,
    "start_time": "2023-10-02T22:21:41.783Z"
   },
   {
    "duration": 0,
    "start_time": "2023-10-02T22:21:41.785Z"
   },
   {
    "duration": 0,
    "start_time": "2023-10-02T22:21:41.786Z"
   },
   {
    "duration": 0,
    "start_time": "2023-10-02T22:21:41.787Z"
   },
   {
    "duration": 0,
    "start_time": "2023-10-02T22:21:41.788Z"
   },
   {
    "duration": 0,
    "start_time": "2023-10-02T22:21:41.789Z"
   },
   {
    "duration": 0,
    "start_time": "2023-10-02T22:21:41.790Z"
   },
   {
    "duration": 0,
    "start_time": "2023-10-02T22:21:41.791Z"
   },
   {
    "duration": 0,
    "start_time": "2023-10-02T22:21:41.792Z"
   },
   {
    "duration": 2378,
    "start_time": "2023-10-02T22:21:58.939Z"
   },
   {
    "duration": 1582,
    "start_time": "2023-10-02T22:22:01.320Z"
   },
   {
    "duration": 1030,
    "start_time": "2023-10-02T22:22:02.904Z"
   },
   {
    "duration": 16,
    "start_time": "2023-10-02T22:22:03.936Z"
   },
   {
    "duration": 5,
    "start_time": "2023-10-02T22:22:03.955Z"
   },
   {
    "duration": 2680,
    "start_time": "2023-10-02T22:22:03.962Z"
   },
   {
    "duration": 34,
    "start_time": "2023-10-02T22:22:06.645Z"
   },
   {
    "duration": 25,
    "start_time": "2023-10-02T22:22:06.681Z"
   },
   {
    "duration": 34,
    "start_time": "2023-10-02T22:22:06.707Z"
   },
   {
    "duration": 47,
    "start_time": "2023-10-02T22:22:06.743Z"
   },
   {
    "duration": 24,
    "start_time": "2023-10-02T22:22:06.791Z"
   },
   {
    "duration": 18,
    "start_time": "2023-10-02T22:22:06.817Z"
   },
   {
    "duration": 55,
    "start_time": "2023-10-02T22:22:06.837Z"
   },
   {
    "duration": 18,
    "start_time": "2023-10-02T22:22:06.896Z"
   },
   {
    "duration": 17,
    "start_time": "2023-10-02T22:22:06.916Z"
   },
   {
    "duration": 50,
    "start_time": "2023-10-02T22:22:06.935Z"
   },
   {
    "duration": 1591,
    "start_time": "2023-10-02T22:22:06.987Z"
   },
   {
    "duration": 32,
    "start_time": "2023-10-02T22:22:08.580Z"
   },
   {
    "duration": 1258,
    "start_time": "2023-10-02T22:22:08.614Z"
   },
   {
    "duration": 6983,
    "start_time": "2023-10-02T22:22:09.874Z"
   },
   {
    "duration": 521,
    "start_time": "2023-10-02T22:22:16.859Z"
   },
   {
    "duration": 2205,
    "start_time": "2023-10-02T22:22:17.382Z"
   },
   {
    "duration": 229,
    "start_time": "2023-10-02T22:22:19.589Z"
   },
   {
    "duration": 1023,
    "start_time": "2023-10-02T22:22:19.819Z"
   },
   {
    "duration": 228097,
    "start_time": "2023-10-02T22:22:20.844Z"
   },
   {
    "duration": 3079,
    "start_time": "2023-10-02T22:26:08.943Z"
   },
   {
    "duration": 19,
    "start_time": "2023-10-02T22:26:12.023Z"
   },
   {
    "duration": 2349,
    "start_time": "2023-10-02T22:27:11.212Z"
   },
   {
    "duration": 1561,
    "start_time": "2023-10-02T22:27:13.564Z"
   },
   {
    "duration": 1083,
    "start_time": "2023-10-02T22:27:15.127Z"
   },
   {
    "duration": 14,
    "start_time": "2023-10-02T22:27:16.212Z"
   },
   {
    "duration": 3,
    "start_time": "2023-10-02T22:27:16.228Z"
   },
   {
    "duration": 2667,
    "start_time": "2023-10-02T22:27:16.232Z"
   },
   {
    "duration": 41,
    "start_time": "2023-10-02T22:27:18.901Z"
   },
   {
    "duration": 3,
    "start_time": "2023-10-02T22:27:18.944Z"
   },
   {
    "duration": 10653,
    "start_time": "2023-10-02T22:27:18.948Z"
   },
   {
    "duration": 0,
    "start_time": "2023-10-02T22:27:29.610Z"
   },
   {
    "duration": 0,
    "start_time": "2023-10-02T22:27:29.611Z"
   },
   {
    "duration": 0,
    "start_time": "2023-10-02T22:27:29.612Z"
   },
   {
    "duration": 0,
    "start_time": "2023-10-02T22:27:29.613Z"
   },
   {
    "duration": 0,
    "start_time": "2023-10-02T22:27:29.614Z"
   },
   {
    "duration": 0,
    "start_time": "2023-10-02T22:27:29.615Z"
   },
   {
    "duration": 0,
    "start_time": "2023-10-02T22:27:29.616Z"
   },
   {
    "duration": 0,
    "start_time": "2023-10-02T22:27:29.617Z"
   },
   {
    "duration": 0,
    "start_time": "2023-10-02T22:27:29.618Z"
   },
   {
    "duration": 1,
    "start_time": "2023-10-02T22:27:29.619Z"
   },
   {
    "duration": 0,
    "start_time": "2023-10-02T22:27:29.621Z"
   },
   {
    "duration": 0,
    "start_time": "2023-10-02T22:27:29.622Z"
   },
   {
    "duration": 0,
    "start_time": "2023-10-02T22:27:29.623Z"
   },
   {
    "duration": 1,
    "start_time": "2023-10-02T22:27:29.623Z"
   },
   {
    "duration": 0,
    "start_time": "2023-10-02T22:27:29.625Z"
   },
   {
    "duration": 0,
    "start_time": "2023-10-02T22:27:29.625Z"
   },
   {
    "duration": 0,
    "start_time": "2023-10-02T22:27:29.626Z"
   },
   {
    "duration": 0,
    "start_time": "2023-10-02T22:27:29.627Z"
   },
   {
    "duration": 0,
    "start_time": "2023-10-02T22:27:29.628Z"
   },
   {
    "duration": 0,
    "start_time": "2023-10-02T22:27:29.629Z"
   },
   {
    "duration": 0,
    "start_time": "2023-10-02T22:27:29.630Z"
   },
   {
    "duration": 0,
    "start_time": "2023-10-02T22:27:29.631Z"
   },
   {
    "duration": 0,
    "start_time": "2023-10-02T22:27:29.633Z"
   },
   {
    "duration": 0,
    "start_time": "2023-10-02T22:27:29.634Z"
   },
   {
    "duration": 4118,
    "start_time": "2023-10-02T22:28:54.178Z"
   },
   {
    "duration": 466,
    "start_time": "2023-10-02T22:29:23.801Z"
   },
   {
    "duration": 2641,
    "start_time": "2023-10-02T22:29:45.100Z"
   },
   {
    "duration": 1700,
    "start_time": "2023-10-02T22:29:47.745Z"
   },
   {
    "duration": 2548,
    "start_time": "2023-10-02T22:29:49.446Z"
   },
   {
    "duration": 16,
    "start_time": "2023-10-02T22:29:51.996Z"
   },
   {
    "duration": 13,
    "start_time": "2023-10-02T22:29:52.013Z"
   },
   {
    "duration": 2805,
    "start_time": "2023-10-02T22:29:52.028Z"
   },
   {
    "duration": 34,
    "start_time": "2023-10-02T22:29:54.835Z"
   },
   {
    "duration": 56,
    "start_time": "2023-10-02T22:29:54.871Z"
   },
   {
    "duration": 12321,
    "start_time": "2023-10-02T22:29:54.929Z"
   },
   {
    "duration": 4112,
    "start_time": "2023-10-02T22:30:07.253Z"
   },
   {
    "duration": 0,
    "start_time": "2023-10-02T22:30:11.369Z"
   },
   {
    "duration": 0,
    "start_time": "2023-10-02T22:30:11.370Z"
   },
   {
    "duration": 0,
    "start_time": "2023-10-02T22:30:11.371Z"
   },
   {
    "duration": 0,
    "start_time": "2023-10-02T22:30:11.372Z"
   },
   {
    "duration": 0,
    "start_time": "2023-10-02T22:30:11.373Z"
   },
   {
    "duration": 0,
    "start_time": "2023-10-02T22:30:11.374Z"
   },
   {
    "duration": 0,
    "start_time": "2023-10-02T22:30:11.375Z"
   },
   {
    "duration": 0,
    "start_time": "2023-10-02T22:30:11.376Z"
   },
   {
    "duration": 0,
    "start_time": "2023-10-02T22:30:11.377Z"
   },
   {
    "duration": 0,
    "start_time": "2023-10-02T22:30:11.378Z"
   },
   {
    "duration": 0,
    "start_time": "2023-10-02T22:30:11.380Z"
   },
   {
    "duration": 0,
    "start_time": "2023-10-02T22:30:11.381Z"
   },
   {
    "duration": 0,
    "start_time": "2023-10-02T22:30:11.382Z"
   },
   {
    "duration": 0,
    "start_time": "2023-10-02T22:30:11.383Z"
   },
   {
    "duration": 0,
    "start_time": "2023-10-02T22:30:11.384Z"
   },
   {
    "duration": 0,
    "start_time": "2023-10-02T22:30:11.385Z"
   },
   {
    "duration": 0,
    "start_time": "2023-10-02T22:30:11.386Z"
   },
   {
    "duration": 0,
    "start_time": "2023-10-02T22:30:11.387Z"
   },
   {
    "duration": 0,
    "start_time": "2023-10-02T22:30:11.388Z"
   },
   {
    "duration": 0,
    "start_time": "2023-10-02T22:30:11.389Z"
   },
   {
    "duration": 0,
    "start_time": "2023-10-02T22:30:11.390Z"
   },
   {
    "duration": 0,
    "start_time": "2023-10-02T22:30:11.390Z"
   },
   {
    "duration": 0,
    "start_time": "2023-10-02T22:30:11.392Z"
   },
   {
    "duration": 0,
    "start_time": "2023-10-02T22:30:11.392Z"
   },
   {
    "duration": 2634,
    "start_time": "2023-10-02T22:32:10.566Z"
   },
   {
    "duration": 1868,
    "start_time": "2023-10-02T22:32:13.203Z"
   },
   {
    "duration": 2637,
    "start_time": "2023-10-02T22:32:15.073Z"
   },
   {
    "duration": 15,
    "start_time": "2023-10-02T22:32:17.713Z"
   },
   {
    "duration": 3,
    "start_time": "2023-10-02T22:32:17.730Z"
   },
   {
    "duration": 2928,
    "start_time": "2023-10-02T22:32:17.735Z"
   },
   {
    "duration": 48,
    "start_time": "2023-10-02T22:32:20.665Z"
   },
   {
    "duration": 49,
    "start_time": "2023-10-02T22:32:20.715Z"
   },
   {
    "duration": 9985,
    "start_time": "2023-10-02T22:32:20.766Z"
   },
   {
    "duration": 4148,
    "start_time": "2023-10-02T22:32:30.754Z"
   },
   {
    "duration": 0,
    "start_time": "2023-10-02T22:32:34.904Z"
   },
   {
    "duration": 0,
    "start_time": "2023-10-02T22:32:34.906Z"
   },
   {
    "duration": 0,
    "start_time": "2023-10-02T22:32:34.907Z"
   },
   {
    "duration": 0,
    "start_time": "2023-10-02T22:32:34.908Z"
   },
   {
    "duration": 0,
    "start_time": "2023-10-02T22:32:34.909Z"
   },
   {
    "duration": 1,
    "start_time": "2023-10-02T22:32:34.910Z"
   },
   {
    "duration": 0,
    "start_time": "2023-10-02T22:32:34.912Z"
   },
   {
    "duration": 0,
    "start_time": "2023-10-02T22:32:34.913Z"
   },
   {
    "duration": 0,
    "start_time": "2023-10-02T22:32:34.914Z"
   },
   {
    "duration": 0,
    "start_time": "2023-10-02T22:32:34.915Z"
   },
   {
    "duration": 0,
    "start_time": "2023-10-02T22:32:34.916Z"
   },
   {
    "duration": 0,
    "start_time": "2023-10-02T22:32:34.917Z"
   },
   {
    "duration": 0,
    "start_time": "2023-10-02T22:32:34.918Z"
   },
   {
    "duration": 0,
    "start_time": "2023-10-02T22:32:34.920Z"
   },
   {
    "duration": 0,
    "start_time": "2023-10-02T22:32:34.921Z"
   },
   {
    "duration": 0,
    "start_time": "2023-10-02T22:32:34.922Z"
   },
   {
    "duration": 0,
    "start_time": "2023-10-02T22:32:34.923Z"
   },
   {
    "duration": 0,
    "start_time": "2023-10-02T22:32:34.924Z"
   },
   {
    "duration": 0,
    "start_time": "2023-10-02T22:32:34.926Z"
   },
   {
    "duration": 0,
    "start_time": "2023-10-02T22:32:34.927Z"
   },
   {
    "duration": 0,
    "start_time": "2023-10-02T22:32:34.928Z"
   },
   {
    "duration": 0,
    "start_time": "2023-10-02T22:32:34.930Z"
   },
   {
    "duration": 0,
    "start_time": "2023-10-02T22:32:34.931Z"
   },
   {
    "duration": 0,
    "start_time": "2023-10-02T22:32:34.932Z"
   },
   {
    "duration": 576,
    "start_time": "2023-10-02T22:37:50.552Z"
   },
   {
    "duration": 2682,
    "start_time": "2023-10-02T22:39:18.286Z"
   },
   {
    "duration": 2174,
    "start_time": "2023-10-02T22:39:20.971Z"
   },
   {
    "duration": 2719,
    "start_time": "2023-10-02T22:39:23.147Z"
   },
   {
    "duration": 14,
    "start_time": "2023-10-02T22:39:25.869Z"
   },
   {
    "duration": 46,
    "start_time": "2023-10-02T22:39:25.885Z"
   },
   {
    "duration": 2883,
    "start_time": "2023-10-02T22:39:25.932Z"
   },
   {
    "duration": 36,
    "start_time": "2023-10-02T22:39:28.818Z"
   },
   {
    "duration": 88,
    "start_time": "2023-10-02T22:39:28.856Z"
   },
   {
    "duration": 0,
    "start_time": "2023-10-02T22:39:28.947Z"
   },
   {
    "duration": 0,
    "start_time": "2023-10-02T22:39:28.948Z"
   },
   {
    "duration": 0,
    "start_time": "2023-10-02T22:39:28.950Z"
   },
   {
    "duration": 0,
    "start_time": "2023-10-02T22:39:28.951Z"
   },
   {
    "duration": 0,
    "start_time": "2023-10-02T22:39:28.952Z"
   },
   {
    "duration": 0,
    "start_time": "2023-10-02T22:39:28.953Z"
   },
   {
    "duration": 0,
    "start_time": "2023-10-02T22:39:28.954Z"
   },
   {
    "duration": 0,
    "start_time": "2023-10-02T22:39:28.955Z"
   },
   {
    "duration": 0,
    "start_time": "2023-10-02T22:39:28.956Z"
   },
   {
    "duration": 0,
    "start_time": "2023-10-02T22:39:28.957Z"
   },
   {
    "duration": 0,
    "start_time": "2023-10-02T22:39:28.958Z"
   },
   {
    "duration": 0,
    "start_time": "2023-10-02T22:39:28.959Z"
   },
   {
    "duration": 0,
    "start_time": "2023-10-02T22:39:28.960Z"
   },
   {
    "duration": 0,
    "start_time": "2023-10-02T22:39:28.961Z"
   },
   {
    "duration": 0,
    "start_time": "2023-10-02T22:39:28.963Z"
   },
   {
    "duration": 0,
    "start_time": "2023-10-02T22:39:28.964Z"
   },
   {
    "duration": 0,
    "start_time": "2023-10-02T22:39:28.966Z"
   },
   {
    "duration": 0,
    "start_time": "2023-10-02T22:39:28.967Z"
   },
   {
    "duration": 0,
    "start_time": "2023-10-02T22:39:28.968Z"
   },
   {
    "duration": 0,
    "start_time": "2023-10-02T22:39:28.969Z"
   },
   {
    "duration": 0,
    "start_time": "2023-10-02T22:39:28.971Z"
   },
   {
    "duration": 0,
    "start_time": "2023-10-02T22:39:28.971Z"
   },
   {
    "duration": 0,
    "start_time": "2023-10-02T22:39:28.972Z"
   },
   {
    "duration": 0,
    "start_time": "2023-10-02T22:39:28.974Z"
   },
   {
    "duration": 0,
    "start_time": "2023-10-02T22:39:28.975Z"
   },
   {
    "duration": 0,
    "start_time": "2023-10-02T22:39:28.976Z"
   },
   {
    "duration": 3,
    "start_time": "2023-10-02T22:39:45.751Z"
   },
   {
    "duration": 3,
    "start_time": "2023-10-02T22:39:47.029Z"
   },
   {
    "duration": 4332,
    "start_time": "2023-10-02T22:39:48.458Z"
   },
   {
    "duration": 0,
    "start_time": "2023-10-02T22:39:52.793Z"
   },
   {
    "duration": 2474,
    "start_time": "2023-10-02T22:49:46.499Z"
   },
   {
    "duration": 1611,
    "start_time": "2023-10-02T22:49:48.976Z"
   },
   {
    "duration": 1133,
    "start_time": "2023-10-02T22:49:50.589Z"
   },
   {
    "duration": 14,
    "start_time": "2023-10-02T22:49:51.725Z"
   },
   {
    "duration": 17,
    "start_time": "2023-10-02T22:49:51.741Z"
   },
   {
    "duration": 2979,
    "start_time": "2023-10-02T22:49:51.760Z"
   },
   {
    "duration": 34,
    "start_time": "2023-10-02T22:49:54.741Z"
   },
   {
    "duration": 26,
    "start_time": "2023-10-02T22:49:54.777Z"
   },
   {
    "duration": 27,
    "start_time": "2023-10-02T22:49:54.805Z"
   },
   {
    "duration": 12,
    "start_time": "2023-10-02T22:49:54.834Z"
   },
   {
    "duration": 17,
    "start_time": "2023-10-02T22:49:54.848Z"
   },
   {
    "duration": 55,
    "start_time": "2023-10-02T22:49:54.867Z"
   },
   {
    "duration": 15,
    "start_time": "2023-10-02T22:49:54.924Z"
   },
   {
    "duration": 25,
    "start_time": "2023-10-02T22:49:54.942Z"
   },
   {
    "duration": 73,
    "start_time": "2023-10-02T22:49:54.969Z"
   },
   {
    "duration": 14,
    "start_time": "2023-10-02T22:49:55.044Z"
   },
   {
    "duration": 37,
    "start_time": "2023-10-02T22:49:55.060Z"
   },
   {
    "duration": 173,
    "start_time": "2023-10-02T22:49:55.098Z"
   },
   {
    "duration": 1782,
    "start_time": "2023-10-02T22:49:55.273Z"
   },
   {
    "duration": 8,
    "start_time": "2023-10-02T22:49:57.057Z"
   },
   {
    "duration": 988,
    "start_time": "2023-10-02T22:49:57.066Z"
   },
   {
    "duration": 7765,
    "start_time": "2023-10-02T22:49:58.056Z"
   },
   {
    "duration": 561,
    "start_time": "2023-10-02T22:50:05.824Z"
   },
   {
    "duration": 2384,
    "start_time": "2023-10-02T22:50:06.386Z"
   },
   {
    "duration": 241,
    "start_time": "2023-10-02T22:50:08.772Z"
   },
   {
    "duration": 1091,
    "start_time": "2023-10-02T22:50:09.019Z"
   },
   {
    "duration": 2718,
    "start_time": "2023-10-02T22:53:42.200Z"
   },
   {
    "duration": 1649,
    "start_time": "2023-10-02T22:53:44.922Z"
   },
   {
    "duration": 1101,
    "start_time": "2023-10-02T22:53:46.575Z"
   },
   {
    "duration": 15,
    "start_time": "2023-10-02T22:53:47.678Z"
   },
   {
    "duration": 17,
    "start_time": "2023-10-02T22:53:47.694Z"
   },
   {
    "duration": 2854,
    "start_time": "2023-10-02T22:53:47.714Z"
   },
   {
    "duration": 51,
    "start_time": "2023-10-02T22:53:50.569Z"
   },
   {
    "duration": 3,
    "start_time": "2023-10-02T22:53:50.623Z"
   },
   {
    "duration": 6,
    "start_time": "2023-10-02T22:53:50.628Z"
   },
   {
    "duration": 13,
    "start_time": "2023-10-02T22:53:50.635Z"
   },
   {
    "duration": 12,
    "start_time": "2023-10-02T22:53:50.650Z"
   },
   {
    "duration": 639,
    "start_time": "2023-10-02T22:53:50.663Z"
   },
   {
    "duration": 0,
    "start_time": "2023-10-02T22:53:51.304Z"
   },
   {
    "duration": 0,
    "start_time": "2023-10-02T22:53:51.306Z"
   },
   {
    "duration": 0,
    "start_time": "2023-10-02T22:53:51.307Z"
   },
   {
    "duration": 0,
    "start_time": "2023-10-02T22:53:51.308Z"
   },
   {
    "duration": 0,
    "start_time": "2023-10-02T22:53:51.310Z"
   },
   {
    "duration": 0,
    "start_time": "2023-10-02T22:53:51.311Z"
   },
   {
    "duration": 0,
    "start_time": "2023-10-02T22:53:51.312Z"
   },
   {
    "duration": 0,
    "start_time": "2023-10-02T22:53:51.313Z"
   },
   {
    "duration": 0,
    "start_time": "2023-10-02T22:53:51.314Z"
   },
   {
    "duration": 0,
    "start_time": "2023-10-02T22:53:51.315Z"
   },
   {
    "duration": 0,
    "start_time": "2023-10-02T22:53:51.316Z"
   },
   {
    "duration": 0,
    "start_time": "2023-10-02T22:53:51.317Z"
   },
   {
    "duration": 0,
    "start_time": "2023-10-02T22:53:51.320Z"
   },
   {
    "duration": 0,
    "start_time": "2023-10-02T22:53:51.322Z"
   },
   {
    "duration": 0,
    "start_time": "2023-10-02T22:53:51.324Z"
   },
   {
    "duration": 0,
    "start_time": "2023-10-02T22:53:51.325Z"
   },
   {
    "duration": 0,
    "start_time": "2023-10-02T22:53:51.327Z"
   },
   {
    "duration": 1,
    "start_time": "2023-10-02T22:53:51.328Z"
   },
   {
    "duration": 0,
    "start_time": "2023-10-02T22:53:51.330Z"
   },
   {
    "duration": 0,
    "start_time": "2023-10-02T22:53:51.332Z"
   },
   {
    "duration": 0,
    "start_time": "2023-10-02T22:53:51.333Z"
   },
   {
    "duration": 0,
    "start_time": "2023-10-02T22:53:51.334Z"
   },
   {
    "duration": 0,
    "start_time": "2023-10-02T22:53:51.335Z"
   },
   {
    "duration": 2380,
    "start_time": "2023-10-02T22:55:51.226Z"
   },
   {
    "duration": 1635,
    "start_time": "2023-10-02T22:55:53.609Z"
   },
   {
    "duration": 1091,
    "start_time": "2023-10-02T22:55:55.246Z"
   },
   {
    "duration": 15,
    "start_time": "2023-10-02T22:55:56.339Z"
   },
   {
    "duration": 33,
    "start_time": "2023-10-02T22:55:56.356Z"
   },
   {
    "duration": 2635,
    "start_time": "2023-10-02T22:55:56.391Z"
   },
   {
    "duration": 36,
    "start_time": "2023-10-02T22:55:59.028Z"
   },
   {
    "duration": 3,
    "start_time": "2023-10-02T22:55:59.065Z"
   },
   {
    "duration": 15,
    "start_time": "2023-10-02T22:55:59.069Z"
   },
   {
    "duration": 3,
    "start_time": "2023-10-02T22:55:59.087Z"
   },
   {
    "duration": 18,
    "start_time": "2023-10-02T22:55:59.091Z"
   },
   {
    "duration": 572,
    "start_time": "2023-10-02T22:55:59.111Z"
   },
   {
    "duration": 0,
    "start_time": "2023-10-02T22:55:59.685Z"
   },
   {
    "duration": 0,
    "start_time": "2023-10-02T22:55:59.686Z"
   },
   {
    "duration": 0,
    "start_time": "2023-10-02T22:55:59.687Z"
   },
   {
    "duration": 0,
    "start_time": "2023-10-02T22:55:59.688Z"
   },
   {
    "duration": 0,
    "start_time": "2023-10-02T22:55:59.689Z"
   },
   {
    "duration": 0,
    "start_time": "2023-10-02T22:55:59.690Z"
   },
   {
    "duration": 0,
    "start_time": "2023-10-02T22:55:59.691Z"
   },
   {
    "duration": 0,
    "start_time": "2023-10-02T22:55:59.692Z"
   },
   {
    "duration": 0,
    "start_time": "2023-10-02T22:55:59.693Z"
   },
   {
    "duration": 0,
    "start_time": "2023-10-02T22:55:59.694Z"
   },
   {
    "duration": 0,
    "start_time": "2023-10-02T22:55:59.695Z"
   },
   {
    "duration": 0,
    "start_time": "2023-10-02T22:55:59.696Z"
   },
   {
    "duration": 0,
    "start_time": "2023-10-02T22:55:59.697Z"
   },
   {
    "duration": 0,
    "start_time": "2023-10-02T22:55:59.698Z"
   },
   {
    "duration": 0,
    "start_time": "2023-10-02T22:55:59.699Z"
   },
   {
    "duration": 0,
    "start_time": "2023-10-02T22:55:59.700Z"
   },
   {
    "duration": 0,
    "start_time": "2023-10-02T22:55:59.701Z"
   },
   {
    "duration": 0,
    "start_time": "2023-10-02T22:55:59.702Z"
   },
   {
    "duration": 0,
    "start_time": "2023-10-02T22:55:59.703Z"
   },
   {
    "duration": 0,
    "start_time": "2023-10-02T22:55:59.704Z"
   },
   {
    "duration": 0,
    "start_time": "2023-10-02T22:55:59.705Z"
   },
   {
    "duration": 0,
    "start_time": "2023-10-02T22:55:59.706Z"
   },
   {
    "duration": 0,
    "start_time": "2023-10-02T22:55:59.707Z"
   },
   {
    "duration": 2501,
    "start_time": "2023-10-02T22:59:32.322Z"
   },
   {
    "duration": 1755,
    "start_time": "2023-10-02T22:59:34.826Z"
   },
   {
    "duration": 1111,
    "start_time": "2023-10-02T22:59:36.583Z"
   },
   {
    "duration": 25,
    "start_time": "2023-10-02T22:59:37.696Z"
   },
   {
    "duration": 4,
    "start_time": "2023-10-02T22:59:37.725Z"
   },
   {
    "duration": 2864,
    "start_time": "2023-10-02T22:59:37.732Z"
   },
   {
    "duration": 41,
    "start_time": "2023-10-02T22:59:40.609Z"
   },
   {
    "duration": 2,
    "start_time": "2023-10-02T22:59:40.652Z"
   },
   {
    "duration": 5,
    "start_time": "2023-10-02T22:59:40.656Z"
   },
   {
    "duration": 19,
    "start_time": "2023-10-02T22:59:40.663Z"
   },
   {
    "duration": 19,
    "start_time": "2023-10-02T22:59:40.683Z"
   },
   {
    "duration": 2485,
    "start_time": "2023-10-02T23:01:12.876Z"
   },
   {
    "duration": 1617,
    "start_time": "2023-10-02T23:01:15.368Z"
   },
   {
    "duration": 1112,
    "start_time": "2023-10-02T23:01:16.987Z"
   },
   {
    "duration": 23,
    "start_time": "2023-10-02T23:01:18.102Z"
   },
   {
    "duration": 19,
    "start_time": "2023-10-02T23:01:18.128Z"
   },
   {
    "duration": 2906,
    "start_time": "2023-10-02T23:01:18.148Z"
   },
   {
    "duration": 34,
    "start_time": "2023-10-02T23:01:21.055Z"
   },
   {
    "duration": 18,
    "start_time": "2023-10-02T23:01:21.091Z"
   },
   {
    "duration": 7,
    "start_time": "2023-10-02T23:01:21.112Z"
   },
   {
    "duration": 9,
    "start_time": "2023-10-02T23:01:21.124Z"
   },
   {
    "duration": 5,
    "start_time": "2023-10-02T23:01:21.135Z"
   },
   {
    "duration": 19,
    "start_time": "2023-10-02T23:01:21.142Z"
   },
   {
    "duration": 5,
    "start_time": "2023-10-02T23:01:21.163Z"
   },
   {
    "duration": 2566,
    "start_time": "2023-10-02T23:07:16.090Z"
   },
   {
    "duration": 1799,
    "start_time": "2023-10-02T23:07:18.658Z"
   },
   {
    "duration": 1142,
    "start_time": "2023-10-02T23:07:20.459Z"
   },
   {
    "duration": 27,
    "start_time": "2023-10-02T23:07:21.603Z"
   },
   {
    "duration": 20,
    "start_time": "2023-10-02T23:07:21.632Z"
   },
   {
    "duration": 2963,
    "start_time": "2023-10-02T23:07:21.654Z"
   },
   {
    "duration": 34,
    "start_time": "2023-10-02T23:07:24.620Z"
   },
   {
    "duration": 9,
    "start_time": "2023-10-02T23:07:24.656Z"
   },
   {
    "duration": 22,
    "start_time": "2023-10-02T23:07:24.667Z"
   },
   {
    "duration": 18,
    "start_time": "2023-10-02T23:07:24.692Z"
   },
   {
    "duration": 15,
    "start_time": "2023-10-02T23:07:24.713Z"
   },
   {
    "duration": 18,
    "start_time": "2023-10-02T23:07:24.730Z"
   },
   {
    "duration": 25,
    "start_time": "2023-10-02T23:07:24.750Z"
   },
   {
    "duration": 15,
    "start_time": "2023-10-02T23:07:24.776Z"
   },
   {
    "duration": 49,
    "start_time": "2023-10-02T23:07:24.792Z"
   },
   {
    "duration": 14,
    "start_time": "2023-10-02T23:07:24.843Z"
   },
   {
    "duration": 10,
    "start_time": "2023-10-02T23:07:24.859Z"
   },
   {
    "duration": 50,
    "start_time": "2023-10-02T23:07:24.871Z"
   },
   {
    "duration": 13,
    "start_time": "2023-10-02T23:07:24.924Z"
   },
   {
    "duration": 27,
    "start_time": "2023-10-02T23:07:24.939Z"
   },
   {
    "duration": 23,
    "start_time": "2023-10-02T23:07:24.968Z"
   },
   {
    "duration": 1771,
    "start_time": "2023-10-02T23:07:24.993Z"
   },
   {
    "duration": 13,
    "start_time": "2023-10-02T23:07:26.765Z"
   },
   {
    "duration": 1624,
    "start_time": "2023-10-02T23:07:26.780Z"
   },
   {
    "duration": 8096,
    "start_time": "2023-10-02T23:07:28.405Z"
   },
   {
    "duration": 575,
    "start_time": "2023-10-02T23:07:36.503Z"
   },
   {
    "duration": 2515,
    "start_time": "2023-10-02T23:07:37.080Z"
   },
   {
    "duration": 261,
    "start_time": "2023-10-02T23:07:39.598Z"
   },
   {
    "duration": 1104,
    "start_time": "2023-10-02T23:07:39.861Z"
   },
   {
    "duration": 220534,
    "start_time": "2023-10-02T23:07:40.967Z"
   },
   {
    "duration": 18717,
    "start_time": "2023-10-02T23:11:21.503Z"
   },
   {
    "duration": 27,
    "start_time": "2023-10-02T23:11:40.222Z"
   },
   {
    "duration": 2480,
    "start_time": "2023-10-02T23:13:24.259Z"
   },
   {
    "duration": 1749,
    "start_time": "2023-10-02T23:13:26.742Z"
   },
   {
    "duration": 1113,
    "start_time": "2023-10-02T23:13:28.493Z"
   },
   {
    "duration": 18,
    "start_time": "2023-10-02T23:13:29.608Z"
   },
   {
    "duration": 9,
    "start_time": "2023-10-02T23:13:29.628Z"
   },
   {
    "duration": 2897,
    "start_time": "2023-10-02T23:13:29.639Z"
   },
   {
    "duration": 44,
    "start_time": "2023-10-02T23:13:32.538Z"
   },
   {
    "duration": 23,
    "start_time": "2023-10-02T23:13:32.586Z"
   },
   {
    "duration": 20,
    "start_time": "2023-10-02T23:13:32.612Z"
   },
   {
    "duration": 13,
    "start_time": "2023-10-02T23:13:32.636Z"
   },
   {
    "duration": 9,
    "start_time": "2023-10-02T23:13:32.652Z"
   },
   {
    "duration": 18,
    "start_time": "2023-10-02T23:13:32.664Z"
   },
   {
    "duration": 6,
    "start_time": "2023-10-02T23:13:32.684Z"
   },
   {
    "duration": 22,
    "start_time": "2023-10-02T23:13:32.692Z"
   },
   {
    "duration": 42,
    "start_time": "2023-10-02T23:13:32.716Z"
   },
   {
    "duration": 14,
    "start_time": "2023-10-02T23:13:32.760Z"
   },
   {
    "duration": 5,
    "start_time": "2023-10-02T23:13:32.776Z"
   },
   {
    "duration": 40,
    "start_time": "2023-10-02T23:13:32.782Z"
   },
   {
    "duration": 12,
    "start_time": "2023-10-02T23:13:32.824Z"
   },
   {
    "duration": 38,
    "start_time": "2023-10-02T23:13:32.838Z"
   },
   {
    "duration": 33,
    "start_time": "2023-10-02T23:13:32.878Z"
   },
   {
    "duration": 1731,
    "start_time": "2023-10-02T23:13:32.913Z"
   },
   {
    "duration": 37,
    "start_time": "2023-10-02T23:13:34.646Z"
   },
   {
    "duration": 1737,
    "start_time": "2023-10-02T23:13:34.685Z"
   },
   {
    "duration": 7607,
    "start_time": "2023-10-02T23:13:36.424Z"
   },
   {
    "duration": 531,
    "start_time": "2023-10-02T23:13:44.033Z"
   },
   {
    "duration": 2387,
    "start_time": "2023-10-02T23:13:44.566Z"
   },
   {
    "duration": 235,
    "start_time": "2023-10-02T23:13:46.957Z"
   },
   {
    "duration": 28,
    "start_time": "2023-10-02T23:13:47.193Z"
   },
   {
    "duration": 1021,
    "start_time": "2023-10-02T23:13:47.223Z"
   },
   {
    "duration": 2412,
    "start_time": "2023-10-02T23:15:43.736Z"
   },
   {
    "duration": 1659,
    "start_time": "2023-10-02T23:15:46.151Z"
   },
   {
    "duration": 1051,
    "start_time": "2023-10-02T23:15:47.812Z"
   },
   {
    "duration": 15,
    "start_time": "2023-10-02T23:15:48.865Z"
   },
   {
    "duration": 3,
    "start_time": "2023-10-02T23:15:48.882Z"
   },
   {
    "duration": 2719,
    "start_time": "2023-10-02T23:15:48.887Z"
   },
   {
    "duration": 33,
    "start_time": "2023-10-02T23:15:51.610Z"
   },
   {
    "duration": 17,
    "start_time": "2023-10-02T23:15:51.645Z"
   },
   {
    "duration": 18,
    "start_time": "2023-10-02T23:15:51.663Z"
   },
   {
    "duration": 19,
    "start_time": "2023-10-02T23:15:51.683Z"
   },
   {
    "duration": 21,
    "start_time": "2023-10-02T23:15:51.704Z"
   },
   {
    "duration": 33,
    "start_time": "2023-10-02T23:15:51.727Z"
   },
   {
    "duration": 17,
    "start_time": "2023-10-02T23:15:51.761Z"
   },
   {
    "duration": 35,
    "start_time": "2023-10-02T23:15:51.780Z"
   },
   {
    "duration": 28,
    "start_time": "2023-10-02T23:15:51.816Z"
   },
   {
    "duration": 55,
    "start_time": "2023-10-02T23:15:51.846Z"
   },
   {
    "duration": 29,
    "start_time": "2023-10-02T23:15:51.903Z"
   },
   {
    "duration": 10,
    "start_time": "2023-10-02T23:15:51.934Z"
   },
   {
    "duration": 75,
    "start_time": "2023-10-02T23:15:51.946Z"
   },
   {
    "duration": 40,
    "start_time": "2023-10-02T23:15:52.023Z"
   },
   {
    "duration": 35,
    "start_time": "2023-10-02T23:15:52.065Z"
   },
   {
    "duration": 33,
    "start_time": "2023-10-02T23:15:52.102Z"
   },
   {
    "duration": 1649,
    "start_time": "2023-10-02T23:15:52.137Z"
   },
   {
    "duration": 38,
    "start_time": "2023-10-02T23:15:53.788Z"
   },
   {
    "duration": 1515,
    "start_time": "2023-10-02T23:15:53.828Z"
   },
   {
    "duration": 7172,
    "start_time": "2023-10-02T23:15:55.346Z"
   },
   {
    "duration": 541,
    "start_time": "2023-10-02T23:16:02.521Z"
   },
   {
    "duration": 2344,
    "start_time": "2023-10-02T23:16:03.065Z"
   },
   {
    "duration": 226,
    "start_time": "2023-10-02T23:16:05.411Z"
   },
   {
    "duration": 30,
    "start_time": "2023-10-02T23:16:05.639Z"
   },
   {
    "duration": 1002,
    "start_time": "2023-10-02T23:16:05.671Z"
   },
   {
    "duration": 2368,
    "start_time": "2023-10-02T23:16:27.450Z"
   },
   {
    "duration": 1741,
    "start_time": "2023-10-02T23:16:29.821Z"
   },
   {
    "duration": 1106,
    "start_time": "2023-10-02T23:16:31.564Z"
   },
   {
    "duration": 15,
    "start_time": "2023-10-02T23:16:32.672Z"
   },
   {
    "duration": 6,
    "start_time": "2023-10-02T23:16:32.689Z"
   },
   {
    "duration": 2724,
    "start_time": "2023-10-02T23:16:32.710Z"
   },
   {
    "duration": 35,
    "start_time": "2023-10-02T23:16:35.436Z"
   },
   {
    "duration": 26,
    "start_time": "2023-10-02T23:16:35.472Z"
   },
   {
    "duration": 14,
    "start_time": "2023-10-02T23:16:35.500Z"
   },
   {
    "duration": 20,
    "start_time": "2023-10-02T23:16:35.517Z"
   },
   {
    "duration": 25,
    "start_time": "2023-10-02T23:16:35.539Z"
   },
   {
    "duration": 20,
    "start_time": "2023-10-02T23:16:35.566Z"
   },
   {
    "duration": 6,
    "start_time": "2023-10-02T23:16:35.588Z"
   },
   {
    "duration": 13,
    "start_time": "2023-10-02T23:16:35.596Z"
   },
   {
    "duration": 31,
    "start_time": "2023-10-02T23:16:35.611Z"
   },
   {
    "duration": 40,
    "start_time": "2023-10-02T23:16:35.644Z"
   },
   {
    "duration": 14,
    "start_time": "2023-10-02T23:16:35.685Z"
   },
   {
    "duration": 10,
    "start_time": "2023-10-02T23:16:35.701Z"
   },
   {
    "duration": 36,
    "start_time": "2023-10-02T23:16:35.713Z"
   },
   {
    "duration": 12,
    "start_time": "2023-10-02T23:16:35.751Z"
   },
   {
    "duration": 28,
    "start_time": "2023-10-02T23:16:35.764Z"
   },
   {
    "duration": 26,
    "start_time": "2023-10-02T23:16:35.794Z"
   },
   {
    "duration": 1644,
    "start_time": "2023-10-02T23:16:35.822Z"
   },
   {
    "duration": 6,
    "start_time": "2023-10-02T23:16:37.468Z"
   },
   {
    "duration": 1481,
    "start_time": "2023-10-02T23:16:37.475Z"
   },
   {
    "duration": 7092,
    "start_time": "2023-10-02T23:16:38.957Z"
   },
   {
    "duration": 536,
    "start_time": "2023-10-02T23:16:46.051Z"
   },
   {
    "duration": 2227,
    "start_time": "2023-10-02T23:16:46.591Z"
   },
   {
    "duration": 233,
    "start_time": "2023-10-02T23:16:48.819Z"
   },
   {
    "duration": 26,
    "start_time": "2023-10-02T23:16:49.054Z"
   },
   {
    "duration": 1010,
    "start_time": "2023-10-02T23:16:49.082Z"
   },
   {
    "duration": 10993,
    "start_time": "2023-10-03T06:31:34.538Z"
   },
   {
    "duration": 13144,
    "start_time": "2023-10-03T06:38:17.156Z"
   },
   {
    "duration": 279,
    "start_time": "2023-10-03T06:38:48.462Z"
   },
   {
    "duration": 2096,
    "start_time": "2023-10-03T06:39:15.255Z"
   },
   {
    "duration": 1524,
    "start_time": "2023-10-03T06:39:17.354Z"
   },
   {
    "duration": 2429,
    "start_time": "2023-10-03T06:39:18.879Z"
   },
   {
    "duration": 12,
    "start_time": "2023-10-03T06:39:21.310Z"
   },
   {
    "duration": 6,
    "start_time": "2023-10-03T06:39:21.324Z"
   },
   {
    "duration": 2453,
    "start_time": "2023-10-03T06:39:21.331Z"
   },
   {
    "duration": 27,
    "start_time": "2023-10-03T06:39:23.785Z"
   },
   {
    "duration": 15,
    "start_time": "2023-10-03T06:39:23.814Z"
   },
   {
    "duration": 21,
    "start_time": "2023-10-03T06:39:23.830Z"
   },
   {
    "duration": 29,
    "start_time": "2023-10-03T06:39:23.852Z"
   },
   {
    "duration": 18,
    "start_time": "2023-10-03T06:39:23.883Z"
   },
   {
    "duration": 11,
    "start_time": "2023-10-03T06:39:23.903Z"
   },
   {
    "duration": 5,
    "start_time": "2023-10-03T06:39:23.916Z"
   },
   {
    "duration": 12318,
    "start_time": "2023-10-03T06:39:23.925Z"
   },
   {
    "duration": 806,
    "start_time": "2023-10-03T06:39:36.245Z"
   },
   {
    "duration": 0,
    "start_time": "2023-10-03T06:39:37.053Z"
   },
   {
    "duration": 0,
    "start_time": "2023-10-03T06:39:37.054Z"
   },
   {
    "duration": 0,
    "start_time": "2023-10-03T06:39:37.055Z"
   },
   {
    "duration": 0,
    "start_time": "2023-10-03T06:39:37.056Z"
   },
   {
    "duration": 0,
    "start_time": "2023-10-03T06:39:37.058Z"
   },
   {
    "duration": 0,
    "start_time": "2023-10-03T06:39:37.059Z"
   },
   {
    "duration": 0,
    "start_time": "2023-10-03T06:39:37.060Z"
   },
   {
    "duration": 0,
    "start_time": "2023-10-03T06:39:37.061Z"
   },
   {
    "duration": 0,
    "start_time": "2023-10-03T06:39:37.062Z"
   },
   {
    "duration": 0,
    "start_time": "2023-10-03T06:39:37.064Z"
   },
   {
    "duration": 0,
    "start_time": "2023-10-03T06:39:37.065Z"
   },
   {
    "duration": 0,
    "start_time": "2023-10-03T06:39:37.066Z"
   },
   {
    "duration": 0,
    "start_time": "2023-10-03T06:39:37.066Z"
   },
   {
    "duration": 0,
    "start_time": "2023-10-03T06:39:37.068Z"
   },
   {
    "duration": 0,
    "start_time": "2023-10-03T06:39:37.069Z"
   },
   {
    "duration": 0,
    "start_time": "2023-10-03T06:39:37.070Z"
   },
   {
    "duration": 0,
    "start_time": "2023-10-03T06:39:37.071Z"
   },
   {
    "duration": 0,
    "start_time": "2023-10-03T06:39:37.072Z"
   },
   {
    "duration": 0,
    "start_time": "2023-10-03T06:39:37.073Z"
   },
   {
    "duration": 0,
    "start_time": "2023-10-03T06:39:37.074Z"
   },
   {
    "duration": 0,
    "start_time": "2023-10-03T06:39:37.075Z"
   },
   {
    "duration": 0,
    "start_time": "2023-10-03T06:39:37.077Z"
   },
   {
    "duration": 0,
    "start_time": "2023-10-03T06:39:37.078Z"
   },
   {
    "duration": 0,
    "start_time": "2023-10-03T06:39:37.079Z"
   },
   {
    "duration": 3,
    "start_time": "2023-10-03T06:40:56.429Z"
   },
   {
    "duration": 39,
    "start_time": "2023-10-03T06:40:57.364Z"
   },
   {
    "duration": 22,
    "start_time": "2023-10-03T06:40:57.937Z"
   },
   {
    "duration": 3,
    "start_time": "2023-10-03T06:40:58.561Z"
   },
   {
    "duration": 28,
    "start_time": "2023-10-03T06:41:01.257Z"
   },
   {
    "duration": 14,
    "start_time": "2023-10-03T06:41:01.737Z"
   },
   {
    "duration": 9,
    "start_time": "2023-10-03T06:41:01.940Z"
   },
   {
    "duration": 4,
    "start_time": "2023-10-03T06:41:02.466Z"
   },
   {
    "duration": 1294,
    "start_time": "2023-10-03T06:41:02.961Z"
   },
   {
    "duration": 4,
    "start_time": "2023-10-03T06:41:29.198Z"
   },
   {
    "duration": 147,
    "start_time": "2023-10-03T06:41:49.426Z"
   },
   {
    "duration": 9276,
    "start_time": "2023-10-03T06:43:04.183Z"
   },
   {
    "duration": 518,
    "start_time": "2023-10-03T06:43:23.547Z"
   },
   {
    "duration": 496,
    "start_time": "2023-10-03T07:15:12.775Z"
   },
   {
    "duration": 6330,
    "start_time": "2023-10-03T07:19:51.321Z"
   },
   {
    "duration": 852,
    "start_time": "2023-10-03T07:19:57.653Z"
   },
   {
    "duration": 1978,
    "start_time": "2023-10-03T07:19:58.506Z"
   },
   {
    "duration": 212,
    "start_time": "2023-10-03T07:20:00.486Z"
   },
   {
    "duration": 677,
    "start_time": "2023-10-03T07:20:00.700Z"
   },
   {
    "duration": 0,
    "start_time": "2023-10-03T07:20:01.379Z"
   },
   {
    "duration": 0,
    "start_time": "2023-10-03T07:20:01.380Z"
   },
   {
    "duration": 0,
    "start_time": "2023-10-03T07:20:01.381Z"
   },
   {
    "duration": 0,
    "start_time": "2023-10-03T07:20:01.382Z"
   },
   {
    "duration": 0,
    "start_time": "2023-10-03T07:20:01.384Z"
   },
   {
    "duration": 0,
    "start_time": "2023-10-03T07:20:01.385Z"
   },
   {
    "duration": 0,
    "start_time": "2023-10-03T07:20:01.386Z"
   },
   {
    "duration": 444,
    "start_time": "2023-10-03T07:21:21.636Z"
   },
   {
    "duration": 895,
    "start_time": "2023-10-03T07:21:24.059Z"
   },
   {
    "duration": 225312,
    "start_time": "2023-10-03T07:21:24.956Z"
   },
   {
    "duration": 17533,
    "start_time": "2023-10-03T07:25:10.269Z"
   },
   {
    "duration": 18,
    "start_time": "2023-10-03T07:25:27.804Z"
   },
   {
    "duration": 2228,
    "start_time": "2023-10-03T07:25:34.597Z"
   },
   {
    "duration": 1484,
    "start_time": "2023-10-03T07:25:36.828Z"
   },
   {
    "duration": 2517,
    "start_time": "2023-10-03T07:25:38.313Z"
   },
   {
    "duration": 13,
    "start_time": "2023-10-03T07:25:40.831Z"
   },
   {
    "duration": 32,
    "start_time": "2023-10-03T07:25:40.846Z"
   },
   {
    "duration": 2492,
    "start_time": "2023-10-03T07:25:40.880Z"
   },
   {
    "duration": 33,
    "start_time": "2023-10-03T07:25:43.373Z"
   },
   {
    "duration": 94,
    "start_time": "2023-10-03T07:25:43.407Z"
   },
   {
    "duration": 13,
    "start_time": "2023-10-03T07:25:43.503Z"
   },
   {
    "duration": 98,
    "start_time": "2023-10-03T07:25:43.518Z"
   },
   {
    "duration": 103,
    "start_time": "2023-10-03T07:25:43.618Z"
   },
   {
    "duration": 28,
    "start_time": "2023-10-03T07:25:43.723Z"
   },
   {
    "duration": 25,
    "start_time": "2023-10-03T07:25:43.752Z"
   },
   {
    "duration": 12740,
    "start_time": "2023-10-03T07:25:43.780Z"
   },
   {
    "duration": 2204,
    "start_time": "2023-10-03T07:25:56.522Z"
   },
   {
    "duration": 0,
    "start_time": "2023-10-03T07:25:58.728Z"
   },
   {
    "duration": 0,
    "start_time": "2023-10-03T07:25:58.729Z"
   },
   {
    "duration": 0,
    "start_time": "2023-10-03T07:25:58.731Z"
   },
   {
    "duration": 0,
    "start_time": "2023-10-03T07:25:58.732Z"
   },
   {
    "duration": 0,
    "start_time": "2023-10-03T07:25:58.733Z"
   },
   {
    "duration": 0,
    "start_time": "2023-10-03T07:25:58.734Z"
   },
   {
    "duration": 0,
    "start_time": "2023-10-03T07:25:58.735Z"
   },
   {
    "duration": 0,
    "start_time": "2023-10-03T07:25:58.749Z"
   },
   {
    "duration": 0,
    "start_time": "2023-10-03T07:25:58.750Z"
   },
   {
    "duration": 0,
    "start_time": "2023-10-03T07:25:58.751Z"
   },
   {
    "duration": 0,
    "start_time": "2023-10-03T07:25:58.752Z"
   },
   {
    "duration": 0,
    "start_time": "2023-10-03T07:25:58.753Z"
   },
   {
    "duration": 0,
    "start_time": "2023-10-03T07:25:58.754Z"
   },
   {
    "duration": 0,
    "start_time": "2023-10-03T07:25:58.755Z"
   },
   {
    "duration": 0,
    "start_time": "2023-10-03T07:25:58.756Z"
   },
   {
    "duration": 0,
    "start_time": "2023-10-03T07:25:58.757Z"
   },
   {
    "duration": 0,
    "start_time": "2023-10-03T07:25:58.758Z"
   },
   {
    "duration": 0,
    "start_time": "2023-10-03T07:25:58.758Z"
   },
   {
    "duration": 0,
    "start_time": "2023-10-03T07:25:58.759Z"
   },
   {
    "duration": 0,
    "start_time": "2023-10-03T07:25:58.760Z"
   },
   {
    "duration": 0,
    "start_time": "2023-10-03T07:25:58.761Z"
   },
   {
    "duration": 0,
    "start_time": "2023-10-03T07:25:58.762Z"
   },
   {
    "duration": 0,
    "start_time": "2023-10-03T07:25:58.763Z"
   },
   {
    "duration": 0,
    "start_time": "2023-10-03T07:25:58.764Z"
   },
   {
    "duration": 3203,
    "start_time": "2023-10-03T07:36:17.626Z"
   },
   {
    "duration": 4119,
    "start_time": "2023-10-03T07:36:20.831Z"
   },
   {
    "duration": 2814,
    "start_time": "2023-10-03T07:36:24.952Z"
   },
   {
    "duration": 14,
    "start_time": "2023-10-03T07:36:27.768Z"
   },
   {
    "duration": 31,
    "start_time": "2023-10-03T07:36:27.784Z"
   },
   {
    "duration": 2441,
    "start_time": "2023-10-03T07:36:27.817Z"
   },
   {
    "duration": 30,
    "start_time": "2023-10-03T07:36:30.260Z"
   },
   {
    "duration": 78,
    "start_time": "2023-10-03T07:36:30.292Z"
   },
   {
    "duration": 264,
    "start_time": "2023-10-03T07:36:30.372Z"
   },
   {
    "duration": 175,
    "start_time": "2023-10-03T07:36:30.637Z"
   },
   {
    "duration": 470,
    "start_time": "2023-10-03T07:36:30.814Z"
   },
   {
    "duration": 225,
    "start_time": "2023-10-03T07:36:31.286Z"
   },
   {
    "duration": 96,
    "start_time": "2023-10-03T07:36:31.513Z"
   },
   {
    "duration": 51,
    "start_time": "2023-10-03T07:36:31.612Z"
   },
   {
    "duration": 32,
    "start_time": "2023-10-03T07:36:31.665Z"
   },
   {
    "duration": 43,
    "start_time": "2023-10-03T07:36:31.699Z"
   },
   {
    "duration": 1370,
    "start_time": "2023-10-03T07:36:31.744Z"
   },
   {
    "duration": 28,
    "start_time": "2023-10-03T07:36:33.116Z"
   },
   {
    "duration": 515,
    "start_time": "2023-10-03T07:36:33.146Z"
   },
   {
    "duration": 6242,
    "start_time": "2023-10-03T07:36:33.662Z"
   },
   {
    "duration": 885,
    "start_time": "2023-10-03T07:36:39.906Z"
   },
   {
    "duration": 2014,
    "start_time": "2023-10-03T07:36:40.792Z"
   },
   {
    "duration": 196,
    "start_time": "2023-10-03T07:36:42.807Z"
   },
   {
    "duration": 459,
    "start_time": "2023-10-03T07:36:43.004Z"
   },
   {
    "duration": 907,
    "start_time": "2023-10-03T07:36:43.465Z"
   },
   {
    "duration": 219800,
    "start_time": "2023-10-03T07:36:44.374Z"
   },
   {
    "duration": 16838,
    "start_time": "2023-10-03T07:40:24.176Z"
   },
   {
    "duration": 17,
    "start_time": "2023-10-03T07:40:41.016Z"
   },
   {
    "duration": 3272,
    "start_time": "2023-10-03T08:00:34.163Z"
   },
   {
    "duration": 4100,
    "start_time": "2023-10-03T08:00:37.437Z"
   },
   {
    "duration": 907,
    "start_time": "2023-10-03T08:00:41.539Z"
   },
   {
    "duration": 14,
    "start_time": "2023-10-03T08:00:42.448Z"
   },
   {
    "duration": 26,
    "start_time": "2023-10-03T08:00:42.464Z"
   },
   {
    "duration": 2503,
    "start_time": "2023-10-03T08:00:42.492Z"
   },
   {
    "duration": 28,
    "start_time": "2023-10-03T08:00:44.996Z"
   },
   {
    "duration": 85,
    "start_time": "2023-10-03T08:00:45.025Z"
   },
   {
    "duration": 57,
    "start_time": "2023-10-03T08:00:45.111Z"
   },
   {
    "duration": 58,
    "start_time": "2023-10-03T08:00:45.169Z"
   },
   {
    "duration": 21,
    "start_time": "2023-10-03T08:00:45.228Z"
   },
   {
    "duration": 36,
    "start_time": "2023-10-03T08:00:45.250Z"
   },
   {
    "duration": 44,
    "start_time": "2023-10-03T08:00:45.287Z"
   },
   {
    "duration": 11,
    "start_time": "2023-10-03T08:00:45.335Z"
   },
   {
    "duration": 30,
    "start_time": "2023-10-03T08:00:45.347Z"
   },
   {
    "duration": 26,
    "start_time": "2023-10-03T08:00:45.378Z"
   },
   {
    "duration": 1438,
    "start_time": "2023-10-03T08:00:45.406Z"
   },
   {
    "duration": 56,
    "start_time": "2023-10-03T08:00:46.846Z"
   },
   {
    "duration": 21,
    "start_time": "2023-10-03T08:00:46.904Z"
   },
   {
    "duration": 506,
    "start_time": "2023-10-03T08:00:46.926Z"
   },
   {
    "duration": 6052,
    "start_time": "2023-10-03T08:00:47.434Z"
   },
   {
    "duration": 3,
    "start_time": "2023-10-03T08:00:53.487Z"
   },
   {
    "duration": 868,
    "start_time": "2023-10-03T08:00:53.491Z"
   },
   {
    "duration": 1979,
    "start_time": "2023-10-03T08:00:54.360Z"
   },
   {
    "duration": 213,
    "start_time": "2023-10-03T08:00:56.341Z"
   },
   {
    "duration": 2,
    "start_time": "2023-10-03T08:00:56.556Z"
   },
   {
    "duration": 452,
    "start_time": "2023-10-03T08:00:56.559Z"
   },
   {
    "duration": 878,
    "start_time": "2023-10-03T08:00:57.013Z"
   },
   {
    "duration": 3336,
    "start_time": "2023-10-03T08:02:25.242Z"
   },
   {
    "duration": 4213,
    "start_time": "2023-10-03T08:02:28.581Z"
   },
   {
    "duration": 871,
    "start_time": "2023-10-03T08:02:32.796Z"
   },
   {
    "duration": 14,
    "start_time": "2023-10-03T08:02:33.670Z"
   },
   {
    "duration": 15,
    "start_time": "2023-10-03T08:02:33.685Z"
   },
   {
    "duration": 2671,
    "start_time": "2023-10-03T08:02:33.703Z"
   },
   {
    "duration": 30,
    "start_time": "2023-10-03T08:02:36.376Z"
   },
   {
    "duration": 5,
    "start_time": "2023-10-03T08:02:36.408Z"
   },
   {
    "duration": 8,
    "start_time": "2023-10-03T08:02:36.415Z"
   },
   {
    "duration": 49,
    "start_time": "2023-10-03T08:02:36.425Z"
   },
   {
    "duration": 15,
    "start_time": "2023-10-03T08:02:36.476Z"
   },
   {
    "duration": 33,
    "start_time": "2023-10-03T08:02:36.493Z"
   },
   {
    "duration": 37,
    "start_time": "2023-10-03T08:02:36.527Z"
   },
   {
    "duration": 11,
    "start_time": "2023-10-03T08:02:36.568Z"
   },
   {
    "duration": 30,
    "start_time": "2023-10-03T08:02:36.580Z"
   },
   {
    "duration": 24,
    "start_time": "2023-10-03T08:02:36.612Z"
   },
   {
    "duration": 1322,
    "start_time": "2023-10-03T08:02:36.637Z"
   },
   {
    "duration": 10,
    "start_time": "2023-10-03T08:02:37.961Z"
   },
   {
    "duration": 22,
    "start_time": "2023-10-03T08:02:37.972Z"
   },
   {
    "duration": 495,
    "start_time": "2023-10-03T08:02:37.995Z"
   },
   {
    "duration": 6283,
    "start_time": "2023-10-03T08:02:38.492Z"
   },
   {
    "duration": 3,
    "start_time": "2023-10-03T08:02:44.777Z"
   },
   {
    "duration": 946,
    "start_time": "2023-10-03T08:02:44.782Z"
   },
   {
    "duration": 2072,
    "start_time": "2023-10-03T08:02:45.731Z"
   },
   {
    "duration": 198,
    "start_time": "2023-10-03T08:02:47.805Z"
   },
   {
    "duration": 5,
    "start_time": "2023-10-03T08:02:48.005Z"
   },
   {
    "duration": 435,
    "start_time": "2023-10-03T08:02:48.011Z"
   },
   {
    "duration": 886,
    "start_time": "2023-10-03T08:02:48.450Z"
   },
   {
    "duration": 203697,
    "start_time": "2023-10-03T08:02:49.338Z"
   },
   {
    "duration": 18114,
    "start_time": "2023-10-03T08:06:13.037Z"
   },
   {
    "duration": 17,
    "start_time": "2023-10-03T08:06:31.153Z"
   },
   {
    "duration": 200299,
    "start_time": "2023-10-03T08:06:31.172Z"
   },
   {
    "duration": 5816,
    "start_time": "2023-10-03T08:09:51.474Z"
   },
   {
    "duration": 35,
    "start_time": "2023-10-03T08:09:57.292Z"
   },
   {
    "duration": 6,
    "start_time": "2023-10-03T08:09:57.329Z"
   },
   {
    "duration": 10,
    "start_time": "2023-10-03T08:09:57.350Z"
   }
  ],
  "kernelspec": {
   "display_name": "Python 3 (ipykernel)",
   "language": "python",
   "name": "python3"
  },
  "language_info": {
   "codemirror_mode": {
    "name": "ipython",
    "version": 3
   },
   "file_extension": ".py",
   "mimetype": "text/x-python",
   "name": "python",
   "nbconvert_exporter": "python",
   "pygments_lexer": "ipython3",
   "version": "3.9.5"
  },
  "toc": {
   "base_numbering": 1,
   "nav_menu": {},
   "number_sections": true,
   "sideBar": true,
   "skip_h1_title": true,
   "title_cell": "Содержание",
   "title_sidebar": "Contents",
   "toc_cell": true,
   "toc_position": {
    "height": "calc(100% - 180px)",
    "left": "10px",
    "top": "150px",
    "width": "191.391px"
   },
   "toc_section_display": true,
   "toc_window_display": true
  }
 },
 "nbformat": 4,
 "nbformat_minor": 2
}
