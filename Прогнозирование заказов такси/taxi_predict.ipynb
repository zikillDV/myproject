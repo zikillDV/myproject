{
 "cells": [
  {
   "cell_type": "markdown",
   "metadata": {
    "toc": true
   },
   "source": [
    "<h1>Содержание<span class=\"tocSkip\"></span></h1>\n",
    "<div class=\"toc\"><ul class=\"toc-item\"><li><span><a href=\"#Подготовка\" data-toc-modified-id=\"Подготовка-1\"><span class=\"toc-item-num\">1&nbsp;&nbsp;</span>Подготовка</a></span></li><li><span><a href=\"#Анализ\" data-toc-modified-id=\"Анализ-2\"><span class=\"toc-item-num\">2&nbsp;&nbsp;</span>Анализ</a></span></li><li><span><a href=\"#Обучение\" data-toc-modified-id=\"Обучение-3\"><span class=\"toc-item-num\">3&nbsp;&nbsp;</span>Обучение</a></span></li><li><span><a href=\"#Тестирование\" data-toc-modified-id=\"Тестирование-4\"><span class=\"toc-item-num\">4&nbsp;&nbsp;</span>Тестирование</a></span></li><li><span><a href=\"#Чек-лист-проверки\" data-toc-modified-id=\"Чек-лист-проверки-5\"><span class=\"toc-item-num\">5&nbsp;&nbsp;</span>Чек-лист проверки</a></span></li></ul></div>"
   ]
  },
  {
   "cell_type": "markdown",
   "metadata": {},
   "source": [
    "#  Прогнозирование заказов такси"
   ]
  },
  {
   "cell_type": "markdown",
   "metadata": {},
   "source": [
    "Компания «Чётенькое такси» собрала исторические данные о заказах такси в аэропортах. \n",
    "\n",
    "# Цель проекта\n",
    "\n",
    "**Построить модель прогнозирующую количество заказов такси на следующий час.**\n",
    "\n",
    "Значение метрики *RMSE* на тестовой выборке должно быть не больше 48.\n",
    "\n",
    "Шаги проекта:\n",
    "\n",
    "1. Загрузим данные и выполним их ресемплирование по одному часу.\n",
    "2. Проанализируем данные.\n",
    "3. Обучим разные модели с различными гиперпараметрами. Сделаем тестовую выборку размером 10% от исходных данных.\n",
    "4. Проверим данные на тестовой выборке и сделаем выводы.\n",
    "\n",
    "\n",
    "Данные лежат в файле `taxi.csv`. Количество заказов находится в столбце `num_orders` (от англ. *number of orders*, «число заказов»)."
   ]
  },
  {
   "cell_type": "markdown",
   "metadata": {},
   "source": [
    "## Подготовка"
   ]
  },
  {
   "cell_type": "code",
   "execution_count": 1,
   "metadata": {},
   "outputs": [
    {
     "name": "stdout",
     "output_type": "stream",
     "text": [
      "Requirement already satisfied: tqdm in /opt/conda/lib/python3.9/site-packages (4.61.2)\r\n"
     ]
    }
   ],
   "source": [
    "!pip install tqdm"
   ]
  },
  {
   "cell_type": "code",
   "execution_count": 2,
   "metadata": {},
   "outputs": [],
   "source": [
    "import warnings\n",
    "import time\n",
    "warnings.filterwarnings('ignore')\n",
    "\n",
    "import numpy as np\n",
    "import pandas as pd\n",
    "from sklearn.model_selection import TimeSeriesSplit\n",
    "\n",
    "from sklearn.model_selection import train_test_split\n",
    "from statsmodels.tsa.seasonal import seasonal_decompose\n",
    "import matplotlib.pyplot as plt\n",
    "from tqdm import tqdm\n",
    "from sklearn.metrics import make_scorer\n",
    "\n",
    "from sklearn.model_selection import GridSearchCV, cross_val_score\n",
    "from sklearn.model_selection import KFold\n",
    "from sklearn.model_selection import GridSearchCV\n",
    "\n",
    "from sklearn import linear_model\n",
    "import lightgbm as lgb\n",
    "import lightgbm as lgm\n",
    "\n",
    "from lightgbm import LGBMRegressor\n",
    "from IPython.display import display\n",
    "from catboost import CatBoostRegressor\n",
    "\n",
    "from sklearn.tree import DecisionTreeRegressor\n",
    "from sklearn.linear_model import LinearRegression\n",
    "from sklearn.ensemble import RandomForestRegressor\n",
    "\n",
    "from statsmodels.tsa.seasonal import seasonal_decompose\n",
    "from sklearn.model_selection import GridSearchCV, train_test_split, TimeSeriesSplit\n",
    "from sklearn.linear_model import Ridge\n",
    "from sklearn.linear_model import LinearRegression\n",
    "from catboost import CatBoostRegressor\n",
    "\n",
    "from sklearn.metrics import mean_squared_error\n",
    "import plotly.graph_objects as go\n"
   ]
  },
  {
   "cell_type": "code",
   "execution_count": 3,
   "metadata": {},
   "outputs": [],
   "source": [
    "try:\n",
    "    try:\n",
    "    #локальная версия\n",
    "        df = pd.read_csv('\\datasets\\taxi.csv', index_col=[0], parse_dates=[0])\n",
    "    except:    \n",
    "    #сетевая версия\n",
    "        df = pd.read_csv('/datasets/taxi.csv', index_col=[0], parse_dates=[0])\n",
    "except:\n",
    "    print('Не удалось прочесть файл. Возможно, был указан не верный путь.')"
   ]
  },
  {
   "cell_type": "code",
   "execution_count": 4,
   "metadata": {},
   "outputs": [
    {
     "name": "stdout",
     "output_type": "stream",
     "text": [
      "<class 'pandas.core.frame.DataFrame'>\n",
      "DatetimeIndex: 26496 entries, 2018-03-01 00:00:00 to 2018-08-31 23:50:00\n",
      "Data columns (total 1 columns):\n",
      " #   Column      Non-Null Count  Dtype\n",
      "---  ------      --------------  -----\n",
      " 0   num_orders  26496 non-null  int64\n",
      "dtypes: int64(1)\n",
      "memory usage: 414.0 KB\n"
     ]
    }
   ],
   "source": [
    "df.info()"
   ]
  },
  {
   "cell_type": "code",
   "execution_count": 5,
   "metadata": {},
   "outputs": [
    {
     "data": {
      "text/html": [
       "<div>\n",
       "<style scoped>\n",
       "    .dataframe tbody tr th:only-of-type {\n",
       "        vertical-align: middle;\n",
       "    }\n",
       "\n",
       "    .dataframe tbody tr th {\n",
       "        vertical-align: top;\n",
       "    }\n",
       "\n",
       "    .dataframe thead th {\n",
       "        text-align: right;\n",
       "    }\n",
       "</style>\n",
       "<table border=\"1\" class=\"dataframe\">\n",
       "  <thead>\n",
       "    <tr style=\"text-align: right;\">\n",
       "      <th></th>\n",
       "      <th>num_orders</th>\n",
       "    </tr>\n",
       "    <tr>\n",
       "      <th>datetime</th>\n",
       "      <th></th>\n",
       "    </tr>\n",
       "  </thead>\n",
       "  <tbody>\n",
       "    <tr>\n",
       "      <th>2018-03-01 00:00:00</th>\n",
       "      <td>9</td>\n",
       "    </tr>\n",
       "    <tr>\n",
       "      <th>2018-03-01 00:10:00</th>\n",
       "      <td>14</td>\n",
       "    </tr>\n",
       "    <tr>\n",
       "      <th>2018-03-01 00:20:00</th>\n",
       "      <td>28</td>\n",
       "    </tr>\n",
       "    <tr>\n",
       "      <th>2018-03-01 00:30:00</th>\n",
       "      <td>20</td>\n",
       "    </tr>\n",
       "    <tr>\n",
       "      <th>2018-03-01 00:40:00</th>\n",
       "      <td>32</td>\n",
       "    </tr>\n",
       "    <tr>\n",
       "      <th>2018-03-01 00:50:00</th>\n",
       "      <td>21</td>\n",
       "    </tr>\n",
       "    <tr>\n",
       "      <th>2018-03-01 01:00:00</th>\n",
       "      <td>7</td>\n",
       "    </tr>\n",
       "    <tr>\n",
       "      <th>2018-03-01 01:10:00</th>\n",
       "      <td>5</td>\n",
       "    </tr>\n",
       "    <tr>\n",
       "      <th>2018-03-01 01:20:00</th>\n",
       "      <td>17</td>\n",
       "    </tr>\n",
       "    <tr>\n",
       "      <th>2018-03-01 01:30:00</th>\n",
       "      <td>12</td>\n",
       "    </tr>\n",
       "  </tbody>\n",
       "</table>\n",
       "</div>"
      ],
      "text/plain": [
       "                     num_orders\n",
       "datetime                       \n",
       "2018-03-01 00:00:00           9\n",
       "2018-03-01 00:10:00          14\n",
       "2018-03-01 00:20:00          28\n",
       "2018-03-01 00:30:00          20\n",
       "2018-03-01 00:40:00          32\n",
       "2018-03-01 00:50:00          21\n",
       "2018-03-01 01:00:00           7\n",
       "2018-03-01 01:10:00           5\n",
       "2018-03-01 01:20:00          17\n",
       "2018-03-01 01:30:00          12"
      ]
     },
     "execution_count": 5,
     "metadata": {},
     "output_type": "execute_result"
    }
   ],
   "source": [
    "df.head(10)"
   ]
  },
  {
   "cell_type": "code",
   "execution_count": 6,
   "metadata": {},
   "outputs": [
    {
     "name": "stdout",
     "output_type": "stream",
     "text": [
      "True\n"
     ]
    }
   ],
   "source": [
    "#Проверим, является ли индекс DataFrame (df) монотонным\n",
    "print(df.index.is_monotonic)"
   ]
  },
  {
   "cell_type": "code",
   "execution_count": 7,
   "metadata": {},
   "outputs": [
    {
     "data": {
      "text/html": [
       "<div>\n",
       "<style scoped>\n",
       "    .dataframe tbody tr th:only-of-type {\n",
       "        vertical-align: middle;\n",
       "    }\n",
       "\n",
       "    .dataframe tbody tr th {\n",
       "        vertical-align: top;\n",
       "    }\n",
       "\n",
       "    .dataframe thead th {\n",
       "        text-align: right;\n",
       "    }\n",
       "</style>\n",
       "<table border=\"1\" class=\"dataframe\">\n",
       "  <thead>\n",
       "    <tr style=\"text-align: right;\">\n",
       "      <th></th>\n",
       "      <th>num_orders</th>\n",
       "    </tr>\n",
       "    <tr>\n",
       "      <th>datetime</th>\n",
       "      <th></th>\n",
       "    </tr>\n",
       "  </thead>\n",
       "  <tbody>\n",
       "    <tr>\n",
       "      <th>2018-03-01 00:00:00</th>\n",
       "      <td>124</td>\n",
       "    </tr>\n",
       "    <tr>\n",
       "      <th>2018-03-01 01:00:00</th>\n",
       "      <td>85</td>\n",
       "    </tr>\n",
       "    <tr>\n",
       "      <th>2018-03-01 02:00:00</th>\n",
       "      <td>71</td>\n",
       "    </tr>\n",
       "    <tr>\n",
       "      <th>2018-03-01 03:00:00</th>\n",
       "      <td>66</td>\n",
       "    </tr>\n",
       "    <tr>\n",
       "      <th>2018-03-01 04:00:00</th>\n",
       "      <td>43</td>\n",
       "    </tr>\n",
       "  </tbody>\n",
       "</table>\n",
       "</div>"
      ],
      "text/plain": [
       "                     num_orders\n",
       "datetime                       \n",
       "2018-03-01 00:00:00         124\n",
       "2018-03-01 01:00:00          85\n",
       "2018-03-01 02:00:00          71\n",
       "2018-03-01 03:00:00          66\n",
       "2018-03-01 04:00:00          43"
      ]
     },
     "execution_count": 7,
     "metadata": {},
     "output_type": "execute_result"
    }
   ],
   "source": [
    "df = df.resample('1H').sum()\n",
    "df.head()"
   ]
  },
  {
   "cell_type": "code",
   "execution_count": 8,
   "metadata": {},
   "outputs": [
    {
     "name": "stdout",
     "output_type": "stream",
     "text": [
      "<class 'pandas.core.frame.DataFrame'>\n",
      "DatetimeIndex: 4416 entries, 2018-03-01 00:00:00 to 2018-08-31 23:00:00\n",
      "Freq: H\n",
      "Data columns (total 1 columns):\n",
      " #   Column      Non-Null Count  Dtype\n",
      "---  ------      --------------  -----\n",
      " 0   num_orders  4416 non-null   int64\n",
      "dtypes: int64(1)\n",
      "memory usage: 69.0 KB\n"
     ]
    }
   ],
   "source": [
    "df.info()"
   ]
  },
  {
   "cell_type": "markdown",
   "metadata": {},
   "source": [
    "## Анализ"
   ]
  },
  {
   "cell_type": "code",
   "execution_count": 9,
   "metadata": {},
   "outputs": [
    {
     "data": {
      "image/png": "[encoded data removed]",
      "text/plain": [
       "<Figure size 720x1152 with 3 Axes>"
      ]
     },
     "metadata": {
      "needs_background": "light"
     },
     "output_type": "display_data"
    }
   ],
   "source": [
    "decompose = seasonal_decompose(df, period=24*7)\n",
    "\n",
    "plt.figure(figsize=(10, 16))\n",
    "plt.subplot(311)\n",
    "\n",
    "decompose.trend.plot(ax=plt.gca())\n",
    "plt.title('Trend')\n",
    "plt.subplot(312)\n",
    "\n",
    "decompose.seasonal['2018-06-13':'2018-06-14'].plot(ax=plt.gca())\n",
    "plt.title('Seasonality')\n",
    "plt.subplot(313)\n",
    "\n",
    "decompose.resid.plot(ax=plt.gca())\n",
    "plt.title('Residuals')\n",
    "\n",
    "plt.tight_layout()"
   ]
  },
  {
   "cell_type": "code",
   "execution_count": 10,
   "metadata": {},
   "outputs": [
    {
     "data": {
      "text/plain": [
       "<AxesSubplot:xlabel='datetime'>"
      ]
     },
     "execution_count": 10,
     "metadata": {},
     "output_type": "execute_result"
    },
    {
     "data": {
      "image/png": "[encoded data removed]",
      "text/plain": [
       "<Figure size 1728x1080 with 1 Axes>"
      ]
     },
     "metadata": {
      "needs_background": "light"
     },
     "output_type": "display_data"
    }
   ],
   "source": [
    "df['rolling_mean'] = df.rolling(10).mean()\n",
    "df.plot(figsize=(24, 15))"
   ]
  },
  {
   "cell_type": "markdown",
   "metadata": {},
   "source": [
    "Тренд указывает на увеличение числа заказов, также присутствует высокий спрос на такси в ночное время, потому что в это время не работает общественный транспорт. Можно сказать, что стохастический процесс нестационарный."
   ]
  },
  {
   "cell_type": "markdown",
   "metadata": {},
   "source": [
    "## Обучение"
   ]
  },
  {
   "cell_type": "code",
   "execution_count": 11,
   "metadata": {},
   "outputs": [
    {
     "data": {
      "text/plain": [
       "(4416, 30)"
      ]
     },
     "execution_count": 11,
     "metadata": {},
     "output_type": "execute_result"
    }
   ],
   "source": [
    "def make_features(df, max_lag, rolling_mean_size):\n",
    "    df['year'] = df.index.year\n",
    "    df['month'] = df.index.month\n",
    "    df['day'] = df.index.day\n",
    "    df['dayofweek'] = df.index.dayofweek\n",
    "    \n",
    "    for lag in range(1, max_lag + 1):\n",
    "        df['lag_{}'.format(lag)] = df['num_orders'].shift(lag)\n",
    "\n",
    "    df['rolling_mean'] = df['num_orders'].shift().rolling(rolling_mean_size).mean()\n",
    "\n",
    "make_features(df, 24, 8)\n",
    "df.shape"
   ]
  },
  {
   "cell_type": "code",
   "execution_count": 12,
   "metadata": {},
   "outputs": [
    {
     "data": {
      "text/html": [
       "<div>\n",
       "<style scoped>\n",
       "    .dataframe tbody tr th:only-of-type {\n",
       "        vertical-align: middle;\n",
       "    }\n",
       "\n",
       "    .dataframe tbody tr th {\n",
       "        vertical-align: top;\n",
       "    }\n",
       "\n",
       "    .dataframe thead th {\n",
       "        text-align: right;\n",
       "    }\n",
       "</style>\n",
       "<table border=\"1\" class=\"dataframe\">\n",
       "  <thead>\n",
       "    <tr style=\"text-align: right;\">\n",
       "      <th></th>\n",
       "      <th>num_orders</th>\n",
       "      <th>rolling_mean</th>\n",
       "      <th>year</th>\n",
       "      <th>month</th>\n",
       "      <th>day</th>\n",
       "      <th>dayofweek</th>\n",
       "      <th>lag_1</th>\n",
       "      <th>lag_2</th>\n",
       "      <th>lag_3</th>\n",
       "      <th>lag_4</th>\n",
       "      <th>...</th>\n",
       "      <th>lag_15</th>\n",
       "      <th>lag_16</th>\n",
       "      <th>lag_17</th>\n",
       "      <th>lag_18</th>\n",
       "      <th>lag_19</th>\n",
       "      <th>lag_20</th>\n",
       "      <th>lag_21</th>\n",
       "      <th>lag_22</th>\n",
       "      <th>lag_23</th>\n",
       "      <th>lag_24</th>\n",
       "    </tr>\n",
       "    <tr>\n",
       "      <th>datetime</th>\n",
       "      <th></th>\n",
       "      <th></th>\n",
       "      <th></th>\n",
       "      <th></th>\n",
       "      <th></th>\n",
       "      <th></th>\n",
       "      <th></th>\n",
       "      <th></th>\n",
       "      <th></th>\n",
       "      <th></th>\n",
       "      <th></th>\n",
       "      <th></th>\n",
       "      <th></th>\n",
       "      <th></th>\n",
       "      <th></th>\n",
       "      <th></th>\n",
       "      <th></th>\n",
       "      <th></th>\n",
       "      <th></th>\n",
       "      <th></th>\n",
       "      <th></th>\n",
       "    </tr>\n",
       "  </thead>\n",
       "  <tbody>\n",
       "    <tr>\n",
       "      <th>2018-03-01 00:00:00</th>\n",
       "      <td>124</td>\n",
       "      <td>NaN</td>\n",
       "      <td>2018</td>\n",
       "      <td>3</td>\n",
       "      <td>1</td>\n",
       "      <td>3</td>\n",
       "      <td>NaN</td>\n",
       "      <td>NaN</td>\n",
       "      <td>NaN</td>\n",
       "      <td>NaN</td>\n",
       "      <td>...</td>\n",
       "      <td>NaN</td>\n",
       "      <td>NaN</td>\n",
       "      <td>NaN</td>\n",
       "      <td>NaN</td>\n",
       "      <td>NaN</td>\n",
       "      <td>NaN</td>\n",
       "      <td>NaN</td>\n",
       "      <td>NaN</td>\n",
       "      <td>NaN</td>\n",
       "      <td>NaN</td>\n",
       "    </tr>\n",
       "    <tr>\n",
       "      <th>2018-03-01 01:00:00</th>\n",
       "      <td>85</td>\n",
       "      <td>NaN</td>\n",
       "      <td>2018</td>\n",
       "      <td>3</td>\n",
       "      <td>1</td>\n",
       "      <td>3</td>\n",
       "      <td>124.0</td>\n",
       "      <td>NaN</td>\n",
       "      <td>NaN</td>\n",
       "      <td>NaN</td>\n",
       "      <td>...</td>\n",
       "      <td>NaN</td>\n",
       "      <td>NaN</td>\n",
       "      <td>NaN</td>\n",
       "      <td>NaN</td>\n",
       "      <td>NaN</td>\n",
       "      <td>NaN</td>\n",
       "      <td>NaN</td>\n",
       "      <td>NaN</td>\n",
       "      <td>NaN</td>\n",
       "      <td>NaN</td>\n",
       "    </tr>\n",
       "    <tr>\n",
       "      <th>2018-03-01 02:00:00</th>\n",
       "      <td>71</td>\n",
       "      <td>NaN</td>\n",
       "      <td>2018</td>\n",
       "      <td>3</td>\n",
       "      <td>1</td>\n",
       "      <td>3</td>\n",
       "      <td>85.0</td>\n",
       "      <td>124.0</td>\n",
       "      <td>NaN</td>\n",
       "      <td>NaN</td>\n",
       "      <td>...</td>\n",
       "      <td>NaN</td>\n",
       "      <td>NaN</td>\n",
       "      <td>NaN</td>\n",
       "      <td>NaN</td>\n",
       "      <td>NaN</td>\n",
       "      <td>NaN</td>\n",
       "      <td>NaN</td>\n",
       "      <td>NaN</td>\n",
       "      <td>NaN</td>\n",
       "      <td>NaN</td>\n",
       "    </tr>\n",
       "    <tr>\n",
       "      <th>2018-03-01 03:00:00</th>\n",
       "      <td>66</td>\n",
       "      <td>NaN</td>\n",
       "      <td>2018</td>\n",
       "      <td>3</td>\n",
       "      <td>1</td>\n",
       "      <td>3</td>\n",
       "      <td>71.0</td>\n",
       "      <td>85.0</td>\n",
       "      <td>124.0</td>\n",
       "      <td>NaN</td>\n",
       "      <td>...</td>\n",
       "      <td>NaN</td>\n",
       "      <td>NaN</td>\n",
       "      <td>NaN</td>\n",
       "      <td>NaN</td>\n",
       "      <td>NaN</td>\n",
       "      <td>NaN</td>\n",
       "      <td>NaN</td>\n",
       "      <td>NaN</td>\n",
       "      <td>NaN</td>\n",
       "      <td>NaN</td>\n",
       "    </tr>\n",
       "    <tr>\n",
       "      <th>2018-03-01 04:00:00</th>\n",
       "      <td>43</td>\n",
       "      <td>NaN</td>\n",
       "      <td>2018</td>\n",
       "      <td>3</td>\n",
       "      <td>1</td>\n",
       "      <td>3</td>\n",
       "      <td>66.0</td>\n",
       "      <td>71.0</td>\n",
       "      <td>85.0</td>\n",
       "      <td>124.0</td>\n",
       "      <td>...</td>\n",
       "      <td>NaN</td>\n",
       "      <td>NaN</td>\n",
       "      <td>NaN</td>\n",
       "      <td>NaN</td>\n",
       "      <td>NaN</td>\n",
       "      <td>NaN</td>\n",
       "      <td>NaN</td>\n",
       "      <td>NaN</td>\n",
       "      <td>NaN</td>\n",
       "      <td>NaN</td>\n",
       "    </tr>\n",
       "    <tr>\n",
       "      <th>2018-03-01 05:00:00</th>\n",
       "      <td>6</td>\n",
       "      <td>NaN</td>\n",
       "      <td>2018</td>\n",
       "      <td>3</td>\n",
       "      <td>1</td>\n",
       "      <td>3</td>\n",
       "      <td>43.0</td>\n",
       "      <td>66.0</td>\n",
       "      <td>71.0</td>\n",
       "      <td>85.0</td>\n",
       "      <td>...</td>\n",
       "      <td>NaN</td>\n",
       "      <td>NaN</td>\n",
       "      <td>NaN</td>\n",
       "      <td>NaN</td>\n",
       "      <td>NaN</td>\n",
       "      <td>NaN</td>\n",
       "      <td>NaN</td>\n",
       "      <td>NaN</td>\n",
       "      <td>NaN</td>\n",
       "      <td>NaN</td>\n",
       "    </tr>\n",
       "    <tr>\n",
       "      <th>2018-03-01 06:00:00</th>\n",
       "      <td>12</td>\n",
       "      <td>NaN</td>\n",
       "      <td>2018</td>\n",
       "      <td>3</td>\n",
       "      <td>1</td>\n",
       "      <td>3</td>\n",
       "      <td>6.0</td>\n",
       "      <td>43.0</td>\n",
       "      <td>66.0</td>\n",
       "      <td>71.0</td>\n",
       "      <td>...</td>\n",
       "      <td>NaN</td>\n",
       "      <td>NaN</td>\n",
       "      <td>NaN</td>\n",
       "      <td>NaN</td>\n",
       "      <td>NaN</td>\n",
       "      <td>NaN</td>\n",
       "      <td>NaN</td>\n",
       "      <td>NaN</td>\n",
       "      <td>NaN</td>\n",
       "      <td>NaN</td>\n",
       "    </tr>\n",
       "    <tr>\n",
       "      <th>2018-03-01 07:00:00</th>\n",
       "      <td>15</td>\n",
       "      <td>NaN</td>\n",
       "      <td>2018</td>\n",
       "      <td>3</td>\n",
       "      <td>1</td>\n",
       "      <td>3</td>\n",
       "      <td>12.0</td>\n",
       "      <td>6.0</td>\n",
       "      <td>43.0</td>\n",
       "      <td>66.0</td>\n",
       "      <td>...</td>\n",
       "      <td>NaN</td>\n",
       "      <td>NaN</td>\n",
       "      <td>NaN</td>\n",
       "      <td>NaN</td>\n",
       "      <td>NaN</td>\n",
       "      <td>NaN</td>\n",
       "      <td>NaN</td>\n",
       "      <td>NaN</td>\n",
       "      <td>NaN</td>\n",
       "      <td>NaN</td>\n",
       "    </tr>\n",
       "    <tr>\n",
       "      <th>2018-03-01 08:00:00</th>\n",
       "      <td>34</td>\n",
       "      <td>52.75</td>\n",
       "      <td>2018</td>\n",
       "      <td>3</td>\n",
       "      <td>1</td>\n",
       "      <td>3</td>\n",
       "      <td>15.0</td>\n",
       "      <td>12.0</td>\n",
       "      <td>6.0</td>\n",
       "      <td>43.0</td>\n",
       "      <td>...</td>\n",
       "      <td>NaN</td>\n",
       "      <td>NaN</td>\n",
       "      <td>NaN</td>\n",
       "      <td>NaN</td>\n",
       "      <td>NaN</td>\n",
       "      <td>NaN</td>\n",
       "      <td>NaN</td>\n",
       "      <td>NaN</td>\n",
       "      <td>NaN</td>\n",
       "      <td>NaN</td>\n",
       "    </tr>\n",
       "    <tr>\n",
       "      <th>2018-03-01 09:00:00</th>\n",
       "      <td>69</td>\n",
       "      <td>41.50</td>\n",
       "      <td>2018</td>\n",
       "      <td>3</td>\n",
       "      <td>1</td>\n",
       "      <td>3</td>\n",
       "      <td>34.0</td>\n",
       "      <td>15.0</td>\n",
       "      <td>12.0</td>\n",
       "      <td>6.0</td>\n",
       "      <td>...</td>\n",
       "      <td>NaN</td>\n",
       "      <td>NaN</td>\n",
       "      <td>NaN</td>\n",
       "      <td>NaN</td>\n",
       "      <td>NaN</td>\n",
       "      <td>NaN</td>\n",
       "      <td>NaN</td>\n",
       "      <td>NaN</td>\n",
       "      <td>NaN</td>\n",
       "      <td>NaN</td>\n",
       "    </tr>\n",
       "  </tbody>\n",
       "</table>\n",
       "<p>10 rows × 30 columns</p>\n",
       "</div>"
      ],
      "text/plain": [
       "                     num_orders  rolling_mean  year  month  day  dayofweek  \\\n",
       "datetime                                                                     \n",
       "2018-03-01 00:00:00         124           NaN  2018      3    1          3   \n",
       "2018-03-01 01:00:00          85           NaN  2018      3    1          3   \n",
       "2018-03-01 02:00:00          71           NaN  2018      3    1          3   \n",
       "2018-03-01 03:00:00          66           NaN  2018      3    1          3   \n",
       "2018-03-01 04:00:00          43           NaN  2018      3    1          3   \n",
       "2018-03-01 05:00:00           6           NaN  2018      3    1          3   \n",
       "2018-03-01 06:00:00          12           NaN  2018      3    1          3   \n",
       "2018-03-01 07:00:00          15           NaN  2018      3    1          3   \n",
       "2018-03-01 08:00:00          34         52.75  2018      3    1          3   \n",
       "2018-03-01 09:00:00          69         41.50  2018      3    1          3   \n",
       "\n",
       "                     lag_1  lag_2  lag_3  lag_4  ...  lag_15  lag_16  lag_17  \\\n",
       "datetime                                         ...                           \n",
       "2018-03-01 00:00:00    NaN    NaN    NaN    NaN  ...     NaN     NaN     NaN   \n",
       "2018-03-01 01:00:00  124.0    NaN    NaN    NaN  ...     NaN     NaN     NaN   \n",
       "2018-03-01 02:00:00   85.0  124.0    NaN    NaN  ...     NaN     NaN     NaN   \n",
       "2018-03-01 03:00:00   71.0   85.0  124.0    NaN  ...     NaN     NaN     NaN   \n",
       "2018-03-01 04:00:00   66.0   71.0   85.0  124.0  ...     NaN     NaN     NaN   \n",
       "2018-03-01 05:00:00   43.0   66.0   71.0   85.0  ...     NaN     NaN     NaN   \n",
       "2018-03-01 06:00:00    6.0   43.0   66.0   71.0  ...     NaN     NaN     NaN   \n",
       "2018-03-01 07:00:00   12.0    6.0   43.0   66.0  ...     NaN     NaN     NaN   \n",
       "2018-03-01 08:00:00   15.0   12.0    6.0   43.0  ...     NaN     NaN     NaN   \n",
       "2018-03-01 09:00:00   34.0   15.0   12.0    6.0  ...     NaN     NaN     NaN   \n",
       "\n",
       "                     lag_18  lag_19  lag_20  lag_21  lag_22  lag_23  lag_24  \n",
       "datetime                                                                     \n",
       "2018-03-01 00:00:00     NaN     NaN     NaN     NaN     NaN     NaN     NaN  \n",
       "2018-03-01 01:00:00     NaN     NaN     NaN     NaN     NaN     NaN     NaN  \n",
       "2018-03-01 02:00:00     NaN     NaN     NaN     NaN     NaN     NaN     NaN  \n",
       "2018-03-01 03:00:00     NaN     NaN     NaN     NaN     NaN     NaN     NaN  \n",
       "2018-03-01 04:00:00     NaN     NaN     NaN     NaN     NaN     NaN     NaN  \n",
       "2018-03-01 05:00:00     NaN     NaN     NaN     NaN     NaN     NaN     NaN  \n",
       "2018-03-01 06:00:00     NaN     NaN     NaN     NaN     NaN     NaN     NaN  \n",
       "2018-03-01 07:00:00     NaN     NaN     NaN     NaN     NaN     NaN     NaN  \n",
       "2018-03-01 08:00:00     NaN     NaN     NaN     NaN     NaN     NaN     NaN  \n",
       "2018-03-01 09:00:00     NaN     NaN     NaN     NaN     NaN     NaN     NaN  \n",
       "\n",
       "[10 rows x 30 columns]"
      ]
     },
     "execution_count": 12,
     "metadata": {},
     "output_type": "execute_result"
    }
   ],
   "source": [
    "df.head(10)"
   ]
  },
  {
   "cell_type": "code",
   "execution_count": 13,
   "metadata": {},
   "outputs": [],
   "source": [
    "df = df.dropna()"
   ]
  },
  {
   "cell_type": "code",
   "execution_count": 14,
   "metadata": {},
   "outputs": [
    {
     "data": {
      "text/plain": [
       "(4392, 30)"
      ]
     },
     "execution_count": 14,
     "metadata": {},
     "output_type": "execute_result"
    }
   ],
   "source": [
    "df.shape"
   ]
  },
  {
   "cell_type": "code",
   "execution_count": 15,
   "metadata": {},
   "outputs": [
    {
     "data": {
      "text/html": [
       "<div>\n",
       "<style scoped>\n",
       "    .dataframe tbody tr th:only-of-type {\n",
       "        vertical-align: middle;\n",
       "    }\n",
       "\n",
       "    .dataframe tbody tr th {\n",
       "        vertical-align: top;\n",
       "    }\n",
       "\n",
       "    .dataframe thead th {\n",
       "        text-align: right;\n",
       "    }\n",
       "</style>\n",
       "<table border=\"1\" class=\"dataframe\">\n",
       "  <thead>\n",
       "    <tr style=\"text-align: right;\">\n",
       "      <th></th>\n",
       "      <th>num_orders</th>\n",
       "      <th>rolling_mean</th>\n",
       "      <th>year</th>\n",
       "      <th>month</th>\n",
       "      <th>day</th>\n",
       "      <th>dayofweek</th>\n",
       "      <th>lag_1</th>\n",
       "      <th>lag_2</th>\n",
       "      <th>lag_3</th>\n",
       "      <th>lag_4</th>\n",
       "      <th>...</th>\n",
       "      <th>lag_15</th>\n",
       "      <th>lag_16</th>\n",
       "      <th>lag_17</th>\n",
       "      <th>lag_18</th>\n",
       "      <th>lag_19</th>\n",
       "      <th>lag_20</th>\n",
       "      <th>lag_21</th>\n",
       "      <th>lag_22</th>\n",
       "      <th>lag_23</th>\n",
       "      <th>lag_24</th>\n",
       "    </tr>\n",
       "    <tr>\n",
       "      <th>datetime</th>\n",
       "      <th></th>\n",
       "      <th></th>\n",
       "      <th></th>\n",
       "      <th></th>\n",
       "      <th></th>\n",
       "      <th></th>\n",
       "      <th></th>\n",
       "      <th></th>\n",
       "      <th></th>\n",
       "      <th></th>\n",
       "      <th></th>\n",
       "      <th></th>\n",
       "      <th></th>\n",
       "      <th></th>\n",
       "      <th></th>\n",
       "      <th></th>\n",
       "      <th></th>\n",
       "      <th></th>\n",
       "      <th></th>\n",
       "      <th></th>\n",
       "      <th></th>\n",
       "    </tr>\n",
       "  </thead>\n",
       "  <tbody>\n",
       "    <tr>\n",
       "      <th>2018-03-02 00:00:00</th>\n",
       "      <td>90</td>\n",
       "      <td>62.875</td>\n",
       "      <td>2018</td>\n",
       "      <td>3</td>\n",
       "      <td>2</td>\n",
       "      <td>4</td>\n",
       "      <td>58.0</td>\n",
       "      <td>113.0</td>\n",
       "      <td>66.0</td>\n",
       "      <td>61.0</td>\n",
       "      <td>...</td>\n",
       "      <td>69.0</td>\n",
       "      <td>34.0</td>\n",
       "      <td>15.0</td>\n",
       "      <td>12.0</td>\n",
       "      <td>6.0</td>\n",
       "      <td>43.0</td>\n",
       "      <td>66.0</td>\n",
       "      <td>71.0</td>\n",
       "      <td>85.0</td>\n",
       "      <td>124.0</td>\n",
       "    </tr>\n",
       "    <tr>\n",
       "      <th>2018-03-02 01:00:00</th>\n",
       "      <td>120</td>\n",
       "      <td>68.750</td>\n",
       "      <td>2018</td>\n",
       "      <td>3</td>\n",
       "      <td>2</td>\n",
       "      <td>4</td>\n",
       "      <td>90.0</td>\n",
       "      <td>58.0</td>\n",
       "      <td>113.0</td>\n",
       "      <td>66.0</td>\n",
       "      <td>...</td>\n",
       "      <td>64.0</td>\n",
       "      <td>69.0</td>\n",
       "      <td>34.0</td>\n",
       "      <td>15.0</td>\n",
       "      <td>12.0</td>\n",
       "      <td>6.0</td>\n",
       "      <td>43.0</td>\n",
       "      <td>66.0</td>\n",
       "      <td>71.0</td>\n",
       "      <td>85.0</td>\n",
       "    </tr>\n",
       "    <tr>\n",
       "      <th>2018-03-02 02:00:00</th>\n",
       "      <td>75</td>\n",
       "      <td>78.250</td>\n",
       "      <td>2018</td>\n",
       "      <td>3</td>\n",
       "      <td>2</td>\n",
       "      <td>4</td>\n",
       "      <td>120.0</td>\n",
       "      <td>90.0</td>\n",
       "      <td>58.0</td>\n",
       "      <td>113.0</td>\n",
       "      <td>...</td>\n",
       "      <td>96.0</td>\n",
       "      <td>64.0</td>\n",
       "      <td>69.0</td>\n",
       "      <td>34.0</td>\n",
       "      <td>15.0</td>\n",
       "      <td>12.0</td>\n",
       "      <td>6.0</td>\n",
       "      <td>43.0</td>\n",
       "      <td>66.0</td>\n",
       "      <td>71.0</td>\n",
       "    </tr>\n",
       "    <tr>\n",
       "      <th>2018-03-02 03:00:00</th>\n",
       "      <td>64</td>\n",
       "      <td>78.500</td>\n",
       "      <td>2018</td>\n",
       "      <td>3</td>\n",
       "      <td>2</td>\n",
       "      <td>4</td>\n",
       "      <td>75.0</td>\n",
       "      <td>120.0</td>\n",
       "      <td>90.0</td>\n",
       "      <td>58.0</td>\n",
       "      <td>...</td>\n",
       "      <td>30.0</td>\n",
       "      <td>96.0</td>\n",
       "      <td>64.0</td>\n",
       "      <td>69.0</td>\n",
       "      <td>34.0</td>\n",
       "      <td>15.0</td>\n",
       "      <td>12.0</td>\n",
       "      <td>6.0</td>\n",
       "      <td>43.0</td>\n",
       "      <td>66.0</td>\n",
       "    </tr>\n",
       "    <tr>\n",
       "      <th>2018-03-02 04:00:00</th>\n",
       "      <td>20</td>\n",
       "      <td>80.875</td>\n",
       "      <td>2018</td>\n",
       "      <td>3</td>\n",
       "      <td>2</td>\n",
       "      <td>4</td>\n",
       "      <td>64.0</td>\n",
       "      <td>75.0</td>\n",
       "      <td>120.0</td>\n",
       "      <td>90.0</td>\n",
       "      <td>...</td>\n",
       "      <td>32.0</td>\n",
       "      <td>30.0</td>\n",
       "      <td>96.0</td>\n",
       "      <td>64.0</td>\n",
       "      <td>69.0</td>\n",
       "      <td>34.0</td>\n",
       "      <td>15.0</td>\n",
       "      <td>12.0</td>\n",
       "      <td>6.0</td>\n",
       "      <td>43.0</td>\n",
       "    </tr>\n",
       "    <tr>\n",
       "      <th>2018-03-02 05:00:00</th>\n",
       "      <td>11</td>\n",
       "      <td>75.750</td>\n",
       "      <td>2018</td>\n",
       "      <td>3</td>\n",
       "      <td>2</td>\n",
       "      <td>4</td>\n",
       "      <td>20.0</td>\n",
       "      <td>64.0</td>\n",
       "      <td>75.0</td>\n",
       "      <td>120.0</td>\n",
       "      <td>...</td>\n",
       "      <td>48.0</td>\n",
       "      <td>32.0</td>\n",
       "      <td>30.0</td>\n",
       "      <td>96.0</td>\n",
       "      <td>64.0</td>\n",
       "      <td>69.0</td>\n",
       "      <td>34.0</td>\n",
       "      <td>15.0</td>\n",
       "      <td>12.0</td>\n",
       "      <td>6.0</td>\n",
       "    </tr>\n",
       "    <tr>\n",
       "      <th>2018-03-02 06:00:00</th>\n",
       "      <td>11</td>\n",
       "      <td>68.875</td>\n",
       "      <td>2018</td>\n",
       "      <td>3</td>\n",
       "      <td>2</td>\n",
       "      <td>4</td>\n",
       "      <td>11.0</td>\n",
       "      <td>20.0</td>\n",
       "      <td>64.0</td>\n",
       "      <td>75.0</td>\n",
       "      <td>...</td>\n",
       "      <td>66.0</td>\n",
       "      <td>48.0</td>\n",
       "      <td>32.0</td>\n",
       "      <td>30.0</td>\n",
       "      <td>96.0</td>\n",
       "      <td>64.0</td>\n",
       "      <td>69.0</td>\n",
       "      <td>34.0</td>\n",
       "      <td>15.0</td>\n",
       "      <td>12.0</td>\n",
       "    </tr>\n",
       "    <tr>\n",
       "      <th>2018-03-02 07:00:00</th>\n",
       "      <td>7</td>\n",
       "      <td>56.125</td>\n",
       "      <td>2018</td>\n",
       "      <td>3</td>\n",
       "      <td>2</td>\n",
       "      <td>4</td>\n",
       "      <td>11.0</td>\n",
       "      <td>11.0</td>\n",
       "      <td>20.0</td>\n",
       "      <td>64.0</td>\n",
       "      <td>...</td>\n",
       "      <td>43.0</td>\n",
       "      <td>66.0</td>\n",
       "      <td>48.0</td>\n",
       "      <td>32.0</td>\n",
       "      <td>30.0</td>\n",
       "      <td>96.0</td>\n",
       "      <td>64.0</td>\n",
       "      <td>69.0</td>\n",
       "      <td>34.0</td>\n",
       "      <td>15.0</td>\n",
       "    </tr>\n",
       "    <tr>\n",
       "      <th>2018-03-02 08:00:00</th>\n",
       "      <td>46</td>\n",
       "      <td>49.750</td>\n",
       "      <td>2018</td>\n",
       "      <td>3</td>\n",
       "      <td>2</td>\n",
       "      <td>4</td>\n",
       "      <td>7.0</td>\n",
       "      <td>11.0</td>\n",
       "      <td>11.0</td>\n",
       "      <td>20.0</td>\n",
       "      <td>...</td>\n",
       "      <td>44.0</td>\n",
       "      <td>43.0</td>\n",
       "      <td>66.0</td>\n",
       "      <td>48.0</td>\n",
       "      <td>32.0</td>\n",
       "      <td>30.0</td>\n",
       "      <td>96.0</td>\n",
       "      <td>64.0</td>\n",
       "      <td>69.0</td>\n",
       "      <td>34.0</td>\n",
       "    </tr>\n",
       "    <tr>\n",
       "      <th>2018-03-02 09:00:00</th>\n",
       "      <td>45</td>\n",
       "      <td>44.250</td>\n",
       "      <td>2018</td>\n",
       "      <td>3</td>\n",
       "      <td>2</td>\n",
       "      <td>4</td>\n",
       "      <td>46.0</td>\n",
       "      <td>7.0</td>\n",
       "      <td>11.0</td>\n",
       "      <td>11.0</td>\n",
       "      <td>...</td>\n",
       "      <td>73.0</td>\n",
       "      <td>44.0</td>\n",
       "      <td>43.0</td>\n",
       "      <td>66.0</td>\n",
       "      <td>48.0</td>\n",
       "      <td>32.0</td>\n",
       "      <td>30.0</td>\n",
       "      <td>96.0</td>\n",
       "      <td>64.0</td>\n",
       "      <td>69.0</td>\n",
       "    </tr>\n",
       "  </tbody>\n",
       "</table>\n",
       "<p>10 rows × 30 columns</p>\n",
       "</div>"
      ],
      "text/plain": [
       "                     num_orders  rolling_mean  year  month  day  dayofweek  \\\n",
       "datetime                                                                     \n",
       "2018-03-02 00:00:00          90        62.875  2018      3    2          4   \n",
       "2018-03-02 01:00:00         120        68.750  2018      3    2          4   \n",
       "2018-03-02 02:00:00          75        78.250  2018      3    2          4   \n",
       "2018-03-02 03:00:00          64        78.500  2018      3    2          4   \n",
       "2018-03-02 04:00:00          20        80.875  2018      3    2          4   \n",
       "2018-03-02 05:00:00          11        75.750  2018      3    2          4   \n",
       "2018-03-02 06:00:00          11        68.875  2018      3    2          4   \n",
       "2018-03-02 07:00:00           7        56.125  2018      3    2          4   \n",
       "2018-03-02 08:00:00          46        49.750  2018      3    2          4   \n",
       "2018-03-02 09:00:00          45        44.250  2018      3    2          4   \n",
       "\n",
       "                     lag_1  lag_2  lag_3  lag_4  ...  lag_15  lag_16  lag_17  \\\n",
       "datetime                                         ...                           \n",
       "2018-03-02 00:00:00   58.0  113.0   66.0   61.0  ...    69.0    34.0    15.0   \n",
       "2018-03-02 01:00:00   90.0   58.0  113.0   66.0  ...    64.0    69.0    34.0   \n",
       "2018-03-02 02:00:00  120.0   90.0   58.0  113.0  ...    96.0    64.0    69.0   \n",
       "2018-03-02 03:00:00   75.0  120.0   90.0   58.0  ...    30.0    96.0    64.0   \n",
       "2018-03-02 04:00:00   64.0   75.0  120.0   90.0  ...    32.0    30.0    96.0   \n",
       "2018-03-02 05:00:00   20.0   64.0   75.0  120.0  ...    48.0    32.0    30.0   \n",
       "2018-03-02 06:00:00   11.0   20.0   64.0   75.0  ...    66.0    48.0    32.0   \n",
       "2018-03-02 07:00:00   11.0   11.0   20.0   64.0  ...    43.0    66.0    48.0   \n",
       "2018-03-02 08:00:00    7.0   11.0   11.0   20.0  ...    44.0    43.0    66.0   \n",
       "2018-03-02 09:00:00   46.0    7.0   11.0   11.0  ...    73.0    44.0    43.0   \n",
       "\n",
       "                     lag_18  lag_19  lag_20  lag_21  lag_22  lag_23  lag_24  \n",
       "datetime                                                                     \n",
       "2018-03-02 00:00:00    12.0     6.0    43.0    66.0    71.0    85.0   124.0  \n",
       "2018-03-02 01:00:00    15.0    12.0     6.0    43.0    66.0    71.0    85.0  \n",
       "2018-03-02 02:00:00    34.0    15.0    12.0     6.0    43.0    66.0    71.0  \n",
       "2018-03-02 03:00:00    69.0    34.0    15.0    12.0     6.0    43.0    66.0  \n",
       "2018-03-02 04:00:00    64.0    69.0    34.0    15.0    12.0     6.0    43.0  \n",
       "2018-03-02 05:00:00    96.0    64.0    69.0    34.0    15.0    12.0     6.0  \n",
       "2018-03-02 06:00:00    30.0    96.0    64.0    69.0    34.0    15.0    12.0  \n",
       "2018-03-02 07:00:00    32.0    30.0    96.0    64.0    69.0    34.0    15.0  \n",
       "2018-03-02 08:00:00    48.0    32.0    30.0    96.0    64.0    69.0    34.0  \n",
       "2018-03-02 09:00:00    66.0    48.0    32.0    30.0    96.0    64.0    69.0  \n",
       "\n",
       "[10 rows x 30 columns]"
      ]
     },
     "execution_count": 15,
     "metadata": {},
     "output_type": "execute_result"
    }
   ],
   "source": [
    "df.head(10)"
   ]
  },
  {
   "cell_type": "code",
   "execution_count": 16,
   "metadata": {},
   "outputs": [],
   "source": [
    "train, test = train_test_split(df, shuffle=False, test_size=0.1)\n",
    "\n",
    "features_train = train.drop('num_orders', axis = 1)\n",
    "target_train = train['num_orders']\n",
    "\n",
    "features_test = test.drop('num_orders', axis = 1)\n",
    "target_test = test['num_orders']"
   ]
  },
  {
   "cell_type": "code",
   "execution_count": 17,
   "metadata": {},
   "outputs": [
    {
     "name": "stdout",
     "output_type": "stream",
     "text": [
      "(3952, 30) (440, 30)\n"
     ]
    }
   ],
   "source": [
    "print(train.shape, test.shape)"
   ]
  },
  {
   "cell_type": "code",
   "execution_count": 18,
   "metadata": {},
   "outputs": [],
   "source": [
    "def RMSE(target, predict):\n",
    "    return (mean_squared_error(target, predict))**0.5\n",
    "   \n",
    "#С помощию функции make_scorer создаю метрику RMSE\n",
    "RMSE_score = make_scorer(RMSE, greater_is_better=False)"
   ]
  },
  {
   "cell_type": "code",
   "execution_count": 19,
   "metadata": {},
   "outputs": [],
   "source": [
    "results_df = pd.DataFrame(columns=['Model', 'Training Time', 'Prediction Time', 'RMSE Train'])"
   ]
  },
  {
   "cell_type": "code",
   "execution_count": 20,
   "metadata": {},
   "outputs": [],
   "source": [
    "tscv = TimeSeriesSplit(n_splits=5)"
   ]
  },
  {
   "cell_type": "code",
   "execution_count": 21,
   "metadata": {},
   "outputs": [],
   "source": [
    "def fit_model(estimator, param_grid, features_train, target_train, features_test, target_test):\n",
    "    model = GridSearchCV(estimator=estimator,\n",
    "                         param_grid=param_grid,\n",
    "                         n_jobs=-1,\n",
    "                         cv=tscv,\n",
    "                         scoring='neg_root_mean_squared_error'\n",
    "                         )\n",
    "\n",
    "    start_time = time.time()\n",
    "    model.fit(features_train, target_train)\n",
    "    training_time = time.time() - start_time\n",
    "\n",
    "    best_rmse = abs(round(model.best_score_, 1))\n",
    "\n",
    "    print(f'Best RMSE: {best_rmse}')\n",
    "    print(f'Best params: {model.best_params_}')\n",
    "\n",
    "    best_model = estimator.set_params(**model.best_params_)\n",
    "\n",
    "    start_time = time.time()\n",
    "    best_model.fit(features_train, target_train)\n",
    "    prediction_time = time.time() - start_time\n",
    "\n",
    "    predictions_train = best_model.predict(features_train)\n",
    "    train_rmse = mean_squared_error(target_train, predictions_train, squared=False)\n",
    "\n",
    "    return best_model, best_rmse, training_time, prediction_time, train_rmse"
   ]
  },
  {
   "cell_type": "code",
   "execution_count": 22,
   "metadata": {},
   "outputs": [
    {
     "name": "stdout",
     "output_type": "stream",
     "text": [
      "Best RMSE: 30.1\n",
      "Best params: {'max_depth': 5}\n"
     ]
    },
    {
     "data": {
      "text/html": [
       "<div>\n",
       "<style scoped>\n",
       "    .dataframe tbody tr th:only-of-type {\n",
       "        vertical-align: middle;\n",
       "    }\n",
       "\n",
       "    .dataframe tbody tr th {\n",
       "        vertical-align: top;\n",
       "    }\n",
       "\n",
       "    .dataframe thead th {\n",
       "        text-align: right;\n",
       "    }\n",
       "</style>\n",
       "<table border=\"1\" class=\"dataframe\">\n",
       "  <thead>\n",
       "    <tr style=\"text-align: right;\">\n",
       "      <th></th>\n",
       "      <th>Model</th>\n",
       "      <th>Training Time</th>\n",
       "      <th>Prediction Time</th>\n",
       "      <th>RMSE Train</th>\n",
       "    </tr>\n",
       "  </thead>\n",
       "  <tbody>\n",
       "    <tr>\n",
       "      <th>0</th>\n",
       "      <td>DecisionTreeRegressor</td>\n",
       "      <td>0.484812</td>\n",
       "      <td>0.02942</td>\n",
       "      <td>24.970123</td>\n",
       "    </tr>\n",
       "  </tbody>\n",
       "</table>\n",
       "</div>"
      ],
      "text/plain": [
       "                   Model  Training Time  Prediction Time  RMSE Train\n",
       "0  DecisionTreeRegressor       0.484812          0.02942   24.970123"
      ]
     },
     "execution_count": 22,
     "metadata": {},
     "output_type": "execute_result"
    }
   ],
   "source": [
    "best_model, best_rmse, training_time, prediction_time, train_rmse_DTR = \\\n",
    "fit_model(DecisionTreeRegressor(random_state=42), \n",
    "          {'max_depth': range(1, 11, 2)}, \n",
    "          features_train, target_train, \n",
    "          features_test, target_test)\n",
    "\n",
    "results_df.loc[0] = ['DecisionTreeRegressor', training_time, prediction_time, train_rmse_DTR]\n",
    "\n",
    "results_df"
   ]
  },
  {
   "cell_type": "code",
   "execution_count": 23,
   "metadata": {},
   "outputs": [
    {
     "name": "stdout",
     "output_type": "stream",
     "text": [
      "Best RMSE: 26.0\n",
      "Best params: {'max_depth': 9, 'n_estimators': 90}\n"
     ]
    },
    {
     "data": {
      "text/html": [
       "<div>\n",
       "<style scoped>\n",
       "    .dataframe tbody tr th:only-of-type {\n",
       "        vertical-align: middle;\n",
       "    }\n",
       "\n",
       "    .dataframe tbody tr th {\n",
       "        vertical-align: top;\n",
       "    }\n",
       "\n",
       "    .dataframe thead th {\n",
       "        text-align: right;\n",
       "    }\n",
       "</style>\n",
       "<table border=\"1\" class=\"dataframe\">\n",
       "  <thead>\n",
       "    <tr style=\"text-align: right;\">\n",
       "      <th></th>\n",
       "      <th>Model</th>\n",
       "      <th>Training Time</th>\n",
       "      <th>Prediction Time</th>\n",
       "      <th>RMSE Train</th>\n",
       "    </tr>\n",
       "  </thead>\n",
       "  <tbody>\n",
       "    <tr>\n",
       "      <th>0</th>\n",
       "      <td>DecisionTreeRegressor</td>\n",
       "      <td>0.484812</td>\n",
       "      <td>0.02942</td>\n",
       "      <td>24.970123</td>\n",
       "    </tr>\n",
       "    <tr>\n",
       "      <th>1</th>\n",
       "      <td>RandomForestRegressor</td>\n",
       "      <td>87.343960</td>\n",
       "      <td>2.92743</td>\n",
       "      <td>16.244613</td>\n",
       "    </tr>\n",
       "  </tbody>\n",
       "</table>\n",
       "</div>"
      ],
      "text/plain": [
       "                   Model  Training Time  Prediction Time  RMSE Train\n",
       "0  DecisionTreeRegressor       0.484812          0.02942   24.970123\n",
       "1  RandomForestRegressor      87.343960          2.92743   16.244613"
      ]
     },
     "execution_count": 23,
     "metadata": {},
     "output_type": "execute_result"
    }
   ],
   "source": [
    "best_model, best_rmse, training_time, \\\n",
    "prediction_time, train_rmse_RFR = fit_model(RandomForestRegressor(random_state=42), \n",
    "            {'n_estimators': range(50, 100, 10),\n",
    "             'max_depth': range(1, 11, 2)}, \n",
    "            features_train, target_train, features_test, target_test)\n",
    "\n",
    "results_df.loc[1] = ['RandomForestRegressor', training_time, prediction_time, train_rmse_RFR]\n",
    "\n",
    "results_df"
   ]
  },
  {
   "cell_type": "code",
   "execution_count": 24,
   "metadata": {},
   "outputs": [
    {
     "name": "stdout",
     "output_type": "stream",
     "text": [
      "Best RMSE: 27.0\n",
      "Best params: {'fit_intercept': False}\n"
     ]
    },
    {
     "data": {
      "text/html": [
       "<div>\n",
       "<style scoped>\n",
       "    .dataframe tbody tr th:only-of-type {\n",
       "        vertical-align: middle;\n",
       "    }\n",
       "\n",
       "    .dataframe tbody tr th {\n",
       "        vertical-align: top;\n",
       "    }\n",
       "\n",
       "    .dataframe thead th {\n",
       "        text-align: right;\n",
       "    }\n",
       "</style>\n",
       "<table border=\"1\" class=\"dataframe\">\n",
       "  <thead>\n",
       "    <tr style=\"text-align: right;\">\n",
       "      <th></th>\n",
       "      <th>Model</th>\n",
       "      <th>Training Time</th>\n",
       "      <th>Prediction Time</th>\n",
       "      <th>RMSE Train</th>\n",
       "    </tr>\n",
       "  </thead>\n",
       "  <tbody>\n",
       "    <tr>\n",
       "      <th>0</th>\n",
       "      <td>DecisionTreeRegressor</td>\n",
       "      <td>0.484812</td>\n",
       "      <td>0.029420</td>\n",
       "      <td>24.970123</td>\n",
       "    </tr>\n",
       "    <tr>\n",
       "      <th>1</th>\n",
       "      <td>RandomForestRegressor</td>\n",
       "      <td>87.343960</td>\n",
       "      <td>2.927430</td>\n",
       "      <td>16.244613</td>\n",
       "    </tr>\n",
       "    <tr>\n",
       "      <th>2</th>\n",
       "      <td>LinearRegression</td>\n",
       "      <td>2.843956</td>\n",
       "      <td>0.093038</td>\n",
       "      <td>25.824713</td>\n",
       "    </tr>\n",
       "  </tbody>\n",
       "</table>\n",
       "</div>"
      ],
      "text/plain": [
       "                   Model  Training Time  Prediction Time  RMSE Train\n",
       "0  DecisionTreeRegressor       0.484812         0.029420   24.970123\n",
       "1  RandomForestRegressor      87.343960         2.927430   16.244613\n",
       "2       LinearRegression       2.843956         0.093038   25.824713"
      ]
     },
     "execution_count": 24,
     "metadata": {},
     "output_type": "execute_result"
    }
   ],
   "source": [
    "best_model, best_rmse, training_time, \\\n",
    "prediction_time, train_rmse_LR = fit_model(LinearRegression(), \n",
    "            [{'fit_intercept': [True, False]},\n",
    "             {'copy_X': [True, False]}, {'n_jobs': [1, -1]}], \n",
    "            features_train, target_train, features_test, target_test)\n",
    "\n",
    "results_df.loc[2] = ['LinearRegression', training_time, prediction_time, train_rmse_LR]\n",
    "\n",
    "results_df"
   ]
  },
  {
   "cell_type": "code",
   "execution_count": 25,
   "metadata": {},
   "outputs": [
    {
     "name": "stdout",
     "output_type": "stream",
     "text": [
      "Best RMSE: 24.9\n",
      "Best params: {'depth': 8, 'learning_rate': 0.1}\n"
     ]
    },
    {
     "data": {
      "text/html": [
       "<div>\n",
       "<style scoped>\n",
       "    .dataframe tbody tr th:only-of-type {\n",
       "        vertical-align: middle;\n",
       "    }\n",
       "\n",
       "    .dataframe tbody tr th {\n",
       "        vertical-align: top;\n",
       "    }\n",
       "\n",
       "    .dataframe thead th {\n",
       "        text-align: right;\n",
       "    }\n",
       "</style>\n",
       "<table border=\"1\" class=\"dataframe\">\n",
       "  <thead>\n",
       "    <tr style=\"text-align: right;\">\n",
       "      <th></th>\n",
       "      <th>Model</th>\n",
       "      <th>Training Time</th>\n",
       "      <th>Prediction Time</th>\n",
       "      <th>RMSE Train</th>\n",
       "    </tr>\n",
       "  </thead>\n",
       "  <tbody>\n",
       "    <tr>\n",
       "      <th>0</th>\n",
       "      <td>DecisionTreeRegressor</td>\n",
       "      <td>0.484812</td>\n",
       "      <td>0.029420</td>\n",
       "      <td>24.970123</td>\n",
       "    </tr>\n",
       "    <tr>\n",
       "      <th>1</th>\n",
       "      <td>RandomForestRegressor</td>\n",
       "      <td>87.343960</td>\n",
       "      <td>2.927430</td>\n",
       "      <td>16.244613</td>\n",
       "    </tr>\n",
       "    <tr>\n",
       "      <th>2</th>\n",
       "      <td>LinearRegression</td>\n",
       "      <td>2.843956</td>\n",
       "      <td>0.093038</td>\n",
       "      <td>25.824713</td>\n",
       "    </tr>\n",
       "    <tr>\n",
       "      <th>3</th>\n",
       "      <td>CatBoostRegressor</td>\n",
       "      <td>385.477457</td>\n",
       "      <td>21.981830</td>\n",
       "      <td>2.568139</td>\n",
       "    </tr>\n",
       "  </tbody>\n",
       "</table>\n",
       "</div>"
      ],
      "text/plain": [
       "                   Model  Training Time  Prediction Time  RMSE Train\n",
       "0  DecisionTreeRegressor       0.484812         0.029420   24.970123\n",
       "1  RandomForestRegressor      87.343960         2.927430   16.244613\n",
       "2       LinearRegression       2.843956         0.093038   25.824713\n",
       "3      CatBoostRegressor     385.477457        21.981830    2.568139"
      ]
     },
     "execution_count": 25,
     "metadata": {},
     "output_type": "execute_result"
    }
   ],
   "source": [
    "best_model, best_rmse, training_time, \\\n",
    "prediction_time, train_rmse_LR = fit_model(CatBoostRegressor(random_state=42, verbose=False), \n",
    "            {'depth': [4, 6, 8], 'learning_rate': [0.01, 0.1, 1]}, \n",
    "            features_train, target_train, features_test, target_test)\n",
    "\n",
    "results_df.loc[3] = ['CatBoostRegressor', training_time, prediction_time, train_rmse_LR]\n",
    "\n",
    "results_df"
   ]
  },
  {
   "cell_type": "code",
   "execution_count": 26,
   "metadata": {},
   "outputs": [
    {
     "name": "stdout",
     "output_type": "stream",
     "text": [
      "Best RMSE: 25.6\n",
      "Best params: {'max_depth': 3, 'n_estimators': 100}\n"
     ]
    },
    {
     "data": {
      "text/html": [
       "<div>\n",
       "<style scoped>\n",
       "    .dataframe tbody tr th:only-of-type {\n",
       "        vertical-align: middle;\n",
       "    }\n",
       "\n",
       "    .dataframe tbody tr th {\n",
       "        vertical-align: top;\n",
       "    }\n",
       "\n",
       "    .dataframe thead th {\n",
       "        text-align: right;\n",
       "    }\n",
       "</style>\n",
       "<table border=\"1\" class=\"dataframe\">\n",
       "  <thead>\n",
       "    <tr style=\"text-align: right;\">\n",
       "      <th></th>\n",
       "      <th>Model</th>\n",
       "      <th>Training Time</th>\n",
       "      <th>Prediction Time</th>\n",
       "      <th>RMSE Train</th>\n",
       "    </tr>\n",
       "  </thead>\n",
       "  <tbody>\n",
       "    <tr>\n",
       "      <th>0</th>\n",
       "      <td>DecisionTreeRegressor</td>\n",
       "      <td>0.484812</td>\n",
       "      <td>0.029420</td>\n",
       "      <td>24.970123</td>\n",
       "    </tr>\n",
       "    <tr>\n",
       "      <th>1</th>\n",
       "      <td>RandomForestRegressor</td>\n",
       "      <td>87.343960</td>\n",
       "      <td>2.927430</td>\n",
       "      <td>16.244613</td>\n",
       "    </tr>\n",
       "    <tr>\n",
       "      <th>2</th>\n",
       "      <td>LinearRegression</td>\n",
       "      <td>2.843956</td>\n",
       "      <td>0.093038</td>\n",
       "      <td>25.824713</td>\n",
       "    </tr>\n",
       "    <tr>\n",
       "      <th>3</th>\n",
       "      <td>CatBoostRegressor</td>\n",
       "      <td>385.477457</td>\n",
       "      <td>21.981830</td>\n",
       "      <td>2.568139</td>\n",
       "    </tr>\n",
       "    <tr>\n",
       "      <th>4</th>\n",
       "      <td>LGBMRegressor</td>\n",
       "      <td>257.514256</td>\n",
       "      <td>11.501029</td>\n",
       "      <td>20.913676</td>\n",
       "    </tr>\n",
       "  </tbody>\n",
       "</table>\n",
       "</div>"
      ],
      "text/plain": [
       "                   Model  Training Time  Prediction Time  RMSE Train\n",
       "0  DecisionTreeRegressor       0.484812         0.029420   24.970123\n",
       "1  RandomForestRegressor      87.343960         2.927430   16.244613\n",
       "2       LinearRegression       2.843956         0.093038   25.824713\n",
       "3      CatBoostRegressor     385.477457        21.981830    2.568139\n",
       "4          LGBMRegressor     257.514256        11.501029   20.913676"
      ]
     },
     "execution_count": 26,
     "metadata": {},
     "output_type": "execute_result"
    }
   ],
   "source": [
    "model = LGBMRegressor(random_state=42)\n",
    "\n",
    "# Определяем сетку гиперпараметров для настройки\n",
    "parameters = {'n_estimators': [50, 100, 20],\n",
    "              'max_depth': [3, 8, 2]}\n",
    "\n",
    "# Выполняем поиск по сетке с использованием перекрестной проверки\n",
    "best_model, best_rmse, training_time_LGBM, \\\n",
    "prediction_time_LGBM, train_rmse_LGBM = fit_model(model, \n",
    "                                                  parameters, \n",
    "                                                  features_train, \n",
    "                                                  target_train, \n",
    "                                                  features_test, \n",
    "                                                  target_test)\n",
    "\n",
    "# Добавляем результаты текущей модели в фреймворк данных\n",
    "results_df.loc[4] = ['LGBMRegressor', training_time_LGBM, prediction_time_LGBM, train_rmse_LGBM]\n",
    "\n",
    "# Показываем результаты\n",
    "results_df"
   ]
  },
  {
   "cell_type": "markdown",
   "metadata": {},
   "source": [
    "<p>Мы провели разбивку на тренировочную(10% от данных). Функция fit_model(), использует метод GridSearchCV для подбора наилучшей модели и вывода метрики RMSE и параметров лучшей модели. Обучено 5 моделей\n",
    "    - <code>DecisionTreeRegressor</code>, <code>RandomForestRegressor</code>, <code>LinearRegression</code>, <code>CatBoostRegressor</code>, <code>LGBMRegressor</code>). Лучшую RMSE показала <code>CatBoostRegressor</code>, проверим её предсказания на тестовых данных.</p>"
   ]
  },
  {
   "cell_type": "markdown",
   "metadata": {},
   "source": [
    "## Тестирование"
   ]
  },
  {
   "cell_type": "code",
   "execution_count": 29,
   "metadata": {},
   "outputs": [],
   "source": [
    "def display_result(target, pred, rmse, model_name):\n",
    "    \n",
    "    # Преобразуем целевую переменную в DataFrame и сбрасываем индекс\n",
    "    result = target.to_frame().reset_index()\n",
    "    \n",
    "    # Добавляем столбец с предсказаниями в DataFrame\n",
    "    result['prediction'] = pd.Series(pred)\n",
    "    \n",
    "    # Устанавливаем столбец datetime в качестве индекса\n",
    "    result.set_index('datetime', inplace=True)\n",
    "    fig = go.Figure()\n",
    "    \n",
    "    # Добавляем график с реальными значениями\n",
    "    fig.add_trace(go.Scatter(x=result.index, y=result[target.name], name='True'))\n",
    "    \n",
    "     # Добавляем график с предсказанными значениями\n",
    "    fig.add_trace(go.Scatter(x=result.index, y=result['prediction'], name='Predicted'))\n",
    "    \n",
    "    # Устанавливаем заголовок графика и подписи осей\n",
    "    fig.update_layout(title=model_name + ' (RMSE: ' + str(rmse) + ')', \\\n",
    "                      xaxis_title='Время (дни)', yaxis_title='Количество заказов', plot_bgcolor='white')\n",
    "    \n",
    "    # Отображаем график\n",
    "    display(fig)"
   ]
  },
  {
   "cell_type": "code",
   "execution_count": 30,
   "metadata": {},
   "outputs": [
    {
     "data": {
      "application/vnd.plotly.v1+json": {
       "config": {
        "plotlyServerURL": "https://plot.ly"
       },
       "data": [
        {
         "name": "True",
         "type": "scatter",
         "x": [
          "2018-08-13T16:00:00",
          "2018-08-13T17:00:00",
          "2018-08-13T18:00:00",
          "2018-08-13T19:00:00",
          "2018-08-13T20:00:00",
          "2018-08-13T21:00:00",
          "2018-08-13T22:00:00",
          "2018-08-13T23:00:00",
          "2018-08-14T00:00:00",
          "2018-08-14T01:00:00",
          "2018-08-14T02:00:00",
          "2018-08-14T03:00:00",
          "2018-08-14T04:00:00",
          "2018-08-14T05:00:00",
          "2018-08-14T06:00:00",
          "2018-08-14T07:00:00",
          "2018-08-14T08:00:00",
          "2018-08-14T09:00:00",
          "2018-08-14T10:00:00",
          "2018-08-14T11:00:00",
          "2018-08-14T12:00:00",
          "2018-08-14T13:00:00",
          "2018-08-14T14:00:00",
          "2018-08-14T15:00:00",
          "2018-08-14T16:00:00",
          "2018-08-14T17:00:00",
          "2018-08-14T18:00:00",
          "2018-08-14T19:00:00",
          "2018-08-14T20:00:00",
          "2018-08-14T21:00:00",
          "2018-08-14T22:00:00",
          "2018-08-14T23:00:00",
          "2018-08-15T00:00:00",
          "2018-08-15T01:00:00",
          "2018-08-15T02:00:00",
          "2018-08-15T03:00:00",
          "2018-08-15T04:00:00",
          "2018-08-15T05:00:00",
          "2018-08-15T06:00:00",
          "2018-08-15T07:00:00",
          "2018-08-15T08:00:00",
          "2018-08-15T09:00:00",
          "2018-08-15T10:00:00",
          "2018-08-15T11:00:00",
          "2018-08-15T12:00:00",
          "2018-08-15T13:00:00",
          "2018-08-15T14:00:00",
          "2018-08-15T15:00:00",
          "2018-08-15T16:00:00",
          "2018-08-15T17:00:00",
          "2018-08-15T18:00:00",
          "2018-08-15T19:00:00",
          "2018-08-15T20:00:00",
          "2018-08-15T21:00:00",
          "2018-08-15T22:00:00",
          "2018-08-15T23:00:00",
          "2018-08-16T00:00:00",
          "2018-08-16T01:00:00",
          "2018-08-16T02:00:00",
          "2018-08-16T03:00:00",
          "2018-08-16T04:00:00",
          "2018-08-16T05:00:00",
          "2018-08-16T06:00:00",
          "2018-08-16T07:00:00",
          "2018-08-16T08:00:00",
          "2018-08-16T09:00:00",
          "2018-08-16T10:00:00",
          "2018-08-16T11:00:00",
          "2018-08-16T12:00:00",
          "2018-08-16T13:00:00",
          "2018-08-16T14:00:00",
          "2018-08-16T15:00:00",
          "2018-08-16T16:00:00",
          "2018-08-16T17:00:00",
          "2018-08-16T18:00:00",
          "2018-08-16T19:00:00",
          "2018-08-16T20:00:00",
          "2018-08-16T21:00:00",
          "2018-08-16T22:00:00",
          "2018-08-16T23:00:00",
          "2018-08-17T00:00:00",
          "2018-08-17T01:00:00",
          "2018-08-17T02:00:00",
          "2018-08-17T03:00:00",
          "2018-08-17T04:00:00",
          "2018-08-17T05:00:00",
          "2018-08-17T06:00:00",
          "2018-08-17T07:00:00",
          "2018-08-17T08:00:00",
          "2018-08-17T09:00:00",
          "2018-08-17T10:00:00",
          "2018-08-17T11:00:00",
          "2018-08-17T12:00:00",
          "2018-08-17T13:00:00",
          "2018-08-17T14:00:00",
          "2018-08-17T15:00:00",
          "2018-08-17T16:00:00",
          "2018-08-17T17:00:00",
          "2018-08-17T18:00:00",
          "2018-08-17T19:00:00",
          "2018-08-17T20:00:00",
          "2018-08-17T21:00:00",
          "2018-08-17T22:00:00",
          "2018-08-17T23:00:00",
          "2018-08-18T00:00:00",
          "2018-08-18T01:00:00",
          "2018-08-18T02:00:00",
          "2018-08-18T03:00:00",
          "2018-08-18T04:00:00",
          "2018-08-18T05:00:00",
          "2018-08-18T06:00:00",
          "2018-08-18T07:00:00",
          "2018-08-18T08:00:00",
          "2018-08-18T09:00:00",
          "2018-08-18T10:00:00",
          "2018-08-18T11:00:00",
          "2018-08-18T12:00:00",
          "2018-08-18T13:00:00",
          "2018-08-18T14:00:00",
          "2018-08-18T15:00:00",
          "2018-08-18T16:00:00",
          "2018-08-18T17:00:00",
          "2018-08-18T18:00:00",
          "2018-08-18T19:00:00",
          "2018-08-18T20:00:00",
          "2018-08-18T21:00:00",
          "2018-08-18T22:00:00",
          "2018-08-18T23:00:00",
          "2018-08-19T00:00:00",
          "2018-08-19T01:00:00",
          "2018-08-19T02:00:00",
          "2018-08-19T03:00:00",
          "2018-08-19T04:00:00",
          "2018-08-19T05:00:00",
          "2018-08-19T06:00:00",
          "2018-08-19T07:00:00",
          "2018-08-19T08:00:00",
          "2018-08-19T09:00:00",
          "2018-08-19T10:00:00",
          "2018-08-19T11:00:00",
          "2018-08-19T12:00:00",
          "2018-08-19T13:00:00",
          "2018-08-19T14:00:00",
          "2018-08-19T15:00:00",
          "2018-08-19T16:00:00",
          "2018-08-19T17:00:00",
          "2018-08-19T18:00:00",
          "2018-08-19T19:00:00",
          "2018-08-19T20:00:00",
          "2018-08-19T21:00:00",
          "2018-08-19T22:00:00",
          "2018-08-19T23:00:00",
          "2018-08-20T00:00:00",
          "2018-08-20T01:00:00",
          "2018-08-20T02:00:00",
          "2018-08-20T03:00:00",
          "2018-08-20T04:00:00",
          "2018-08-20T05:00:00",
          "2018-08-20T06:00:00",
          "2018-08-20T07:00:00",
          "2018-08-20T08:00:00",
          "2018-08-20T09:00:00",
          "2018-08-20T10:00:00",
          "2018-08-20T11:00:00",
          "2018-08-20T12:00:00",
          "2018-08-20T13:00:00",
          "2018-08-20T14:00:00",
          "2018-08-20T15:00:00",
          "2018-08-20T16:00:00",
          "2018-08-20T17:00:00",
          "2018-08-20T18:00:00",
          "2018-08-20T19:00:00",
          "2018-08-20T20:00:00",
          "2018-08-20T21:00:00",
          "2018-08-20T22:00:00",
          "2018-08-20T23:00:00",
          "2018-08-21T00:00:00",
          "2018-08-21T01:00:00",
          "2018-08-21T02:00:00",
          "2018-08-21T03:00:00",
          "2018-08-21T04:00:00",
          "2018-08-21T05:00:00",
          "2018-08-21T06:00:00",
          "2018-08-21T07:00:00",
          "2018-08-21T08:00:00",
          "2018-08-21T09:00:00",
          "2018-08-21T10:00:00",
          "2018-08-21T11:00:00",
          "2018-08-21T12:00:00",
          "2018-08-21T13:00:00",
          "2018-08-21T14:00:00",
          "2018-08-21T15:00:00",
          "2018-08-21T16:00:00",
          "2018-08-21T17:00:00",
          "2018-08-21T18:00:00",
          "2018-08-21T19:00:00",
          "2018-08-21T20:00:00",
          "2018-08-21T21:00:00",
          "2018-08-21T22:00:00",
          "2018-08-21T23:00:00",
          "2018-08-22T00:00:00",
          "2018-08-22T01:00:00",
          "2018-08-22T02:00:00",
          "2018-08-22T03:00:00",
          "2018-08-22T04:00:00",
          "2018-08-22T05:00:00",
          "2018-08-22T06:00:00",
          "2018-08-22T07:00:00",
          "2018-08-22T08:00:00",
          "2018-08-22T09:00:00",
          "2018-08-22T10:00:00",
          "2018-08-22T11:00:00",
          "2018-08-22T12:00:00",
          "2018-08-22T13:00:00",
          "2018-08-22T14:00:00",
          "2018-08-22T15:00:00",
          "2018-08-22T16:00:00",
          "2018-08-22T17:00:00",
          "2018-08-22T18:00:00",
          "2018-08-22T19:00:00",
          "2018-08-22T20:00:00",
          "2018-08-22T21:00:00",
          "2018-08-22T22:00:00",
          "2018-08-22T23:00:00",
          "2018-08-23T00:00:00",
          "2018-08-23T01:00:00",
          "2018-08-23T02:00:00",
          "2018-08-23T03:00:00",
          "2018-08-23T04:00:00",
          "2018-08-23T05:00:00",
          "2018-08-23T06:00:00",
          "2018-08-23T07:00:00",
          "2018-08-23T08:00:00",
          "2018-08-23T09:00:00",
          "2018-08-23T10:00:00",
          "2018-08-23T11:00:00",
          "2018-08-23T12:00:00",
          "2018-08-23T13:00:00",
          "2018-08-23T14:00:00",
          "2018-08-23T15:00:00",
          "2018-08-23T16:00:00",
          "2018-08-23T17:00:00",
          "2018-08-23T18:00:00",
          "2018-08-23T19:00:00",
          "2018-08-23T20:00:00",
          "2018-08-23T21:00:00",
          "2018-08-23T22:00:00",
          "2018-08-23T23:00:00",
          "2018-08-24T00:00:00",
          "2018-08-24T01:00:00",
          "2018-08-24T02:00:00",
          "2018-08-24T03:00:00",
          "2018-08-24T04:00:00",
          "2018-08-24T05:00:00",
          "2018-08-24T06:00:00",
          "2018-08-24T07:00:00",
          "2018-08-24T08:00:00",
          "2018-08-24T09:00:00",
          "2018-08-24T10:00:00",
          "2018-08-24T11:00:00",
          "2018-08-24T12:00:00",
          "2018-08-24T13:00:00",
          "2018-08-24T14:00:00",
          "2018-08-24T15:00:00",
          "2018-08-24T16:00:00",
          "2018-08-24T17:00:00",
          "2018-08-24T18:00:00",
          "2018-08-24T19:00:00",
          "2018-08-24T20:00:00",
          "2018-08-24T21:00:00",
          "2018-08-24T22:00:00",
          "2018-08-24T23:00:00",
          "2018-08-25T00:00:00",
          "2018-08-25T01:00:00",
          "2018-08-25T02:00:00",
          "2018-08-25T03:00:00",
          "2018-08-25T04:00:00",
          "2018-08-25T05:00:00",
          "2018-08-25T06:00:00",
          "2018-08-25T07:00:00",
          "2018-08-25T08:00:00",
          "2018-08-25T09:00:00",
          "2018-08-25T10:00:00",
          "2018-08-25T11:00:00",
          "2018-08-25T12:00:00",
          "2018-08-25T13:00:00",
          "2018-08-25T14:00:00",
          "2018-08-25T15:00:00",
          "2018-08-25T16:00:00",
          "2018-08-25T17:00:00",
          "2018-08-25T18:00:00",
          "2018-08-25T19:00:00",
          "2018-08-25T20:00:00",
          "2018-08-25T21:00:00",
          "2018-08-25T22:00:00",
          "2018-08-25T23:00:00",
          "2018-08-26T00:00:00",
          "2018-08-26T01:00:00",
          "2018-08-26T02:00:00",
          "2018-08-26T03:00:00",
          "2018-08-26T04:00:00",
          "2018-08-26T05:00:00",
          "2018-08-26T06:00:00",
          "2018-08-26T07:00:00",
          "2018-08-26T08:00:00",
          "2018-08-26T09:00:00",
          "2018-08-26T10:00:00",
          "2018-08-26T11:00:00",
          "2018-08-26T12:00:00",
          "2018-08-26T13:00:00",
          "2018-08-26T14:00:00",
          "2018-08-26T15:00:00",
          "2018-08-26T16:00:00",
          "2018-08-26T17:00:00",
          "2018-08-26T18:00:00",
          "2018-08-26T19:00:00",
          "2018-08-26T20:00:00",
          "2018-08-26T21:00:00",
          "2018-08-26T22:00:00",
          "2018-08-26T23:00:00",
          "2018-08-27T00:00:00",
          "2018-08-27T01:00:00",
          "2018-08-27T02:00:00",
          "2018-08-27T03:00:00",
          "2018-08-27T04:00:00",
          "2018-08-27T05:00:00",
          "2018-08-27T06:00:00",
          "2018-08-27T07:00:00",
          "2018-08-27T08:00:00",
          "2018-08-27T09:00:00",
          "2018-08-27T10:00:00",
          "2018-08-27T11:00:00",
          "2018-08-27T12:00:00",
          "2018-08-27T13:00:00",
          "2018-08-27T14:00:00",
          "2018-08-27T15:00:00",
          "2018-08-27T16:00:00",
          "2018-08-27T17:00:00",
          "2018-08-27T18:00:00",
          "2018-08-27T19:00:00",
          "2018-08-27T20:00:00",
          "2018-08-27T21:00:00",
          "2018-08-27T22:00:00",
          "2018-08-27T23:00:00",
          "2018-08-28T00:00:00",
          "2018-08-28T01:00:00",
          "2018-08-28T02:00:00",
          "2018-08-28T03:00:00",
          "2018-08-28T04:00:00",
          "2018-08-28T05:00:00",
          "2018-08-28T06:00:00",
          "2018-08-28T07:00:00",
          "2018-08-28T08:00:00",
          "2018-08-28T09:00:00",
          "2018-08-28T10:00:00",
          "2018-08-28T11:00:00",
          "2018-08-28T12:00:00",
          "2018-08-28T13:00:00",
          "2018-08-28T14:00:00",
          "2018-08-28T15:00:00",
          "2018-08-28T16:00:00",
          "2018-08-28T17:00:00",
          "2018-08-28T18:00:00",
          "2018-08-28T19:00:00",
          "2018-08-28T20:00:00",
          "2018-08-28T21:00:00",
          "2018-08-28T22:00:00",
          "2018-08-28T23:00:00",
          "2018-08-29T00:00:00",
          "2018-08-29T01:00:00",
          "2018-08-29T02:00:00",
          "2018-08-29T03:00:00",
          "2018-08-29T04:00:00",
          "2018-08-29T05:00:00",
          "2018-08-29T06:00:00",
          "2018-08-29T07:00:00",
          "2018-08-29T08:00:00",
          "2018-08-29T09:00:00",
          "2018-08-29T10:00:00",
          "2018-08-29T11:00:00",
          "2018-08-29T12:00:00",
          "2018-08-29T13:00:00",
          "2018-08-29T14:00:00",
          "2018-08-29T15:00:00",
          "2018-08-29T16:00:00",
          "2018-08-29T17:00:00",
          "2018-08-29T18:00:00",
          "2018-08-29T19:00:00",
          "2018-08-29T20:00:00",
          "2018-08-29T21:00:00",
          "2018-08-29T22:00:00",
          "2018-08-29T23:00:00",
          "2018-08-30T00:00:00",
          "2018-08-30T01:00:00",
          "2018-08-30T02:00:00",
          "2018-08-30T03:00:00",
          "2018-08-30T04:00:00",
          "2018-08-30T05:00:00",
          "2018-08-30T06:00:00",
          "2018-08-30T07:00:00",
          "2018-08-30T08:00:00",
          "2018-08-30T09:00:00",
          "2018-08-30T10:00:00",
          "2018-08-30T11:00:00",
          "2018-08-30T12:00:00",
          "2018-08-30T13:00:00",
          "2018-08-30T14:00:00",
          "2018-08-30T15:00:00",
          "2018-08-30T16:00:00",
          "2018-08-30T17:00:00",
          "2018-08-30T18:00:00",
          "2018-08-30T19:00:00",
          "2018-08-30T20:00:00",
          "2018-08-30T21:00:00",
          "2018-08-30T22:00:00",
          "2018-08-30T23:00:00",
          "2018-08-31T00:00:00",
          "2018-08-31T01:00:00",
          "2018-08-31T02:00:00",
          "2018-08-31T03:00:00",
          "2018-08-31T04:00:00",
          "2018-08-31T05:00:00",
          "2018-08-31T06:00:00",
          "2018-08-31T07:00:00",
          "2018-08-31T08:00:00",
          "2018-08-31T09:00:00",
          "2018-08-31T10:00:00",
          "2018-08-31T11:00:00",
          "2018-08-31T12:00:00",
          "2018-08-31T13:00:00",
          "2018-08-31T14:00:00",
          "2018-08-31T15:00:00",
          "2018-08-31T16:00:00",
          "2018-08-31T17:00:00",
          "2018-08-31T18:00:00",
          "2018-08-31T19:00:00",
          "2018-08-31T20:00:00",
          "2018-08-31T21:00:00",
          "2018-08-31T22:00:00",
          "2018-08-31T23:00:00"
         ],
         "y": [
          144,
          152,
          104,
          91,
          82,
          160,
          104,
          134,
          139,
          231,
          108,
          190,
          139,
          47,
          45,
          54,
          91,
          135,
          155,
          162,
          114,
          64,
          112,
          116,
          111,
          152,
          98,
          109,
          84,
          119,
          81,
          212,
          211,
          98,
          157,
          102,
          137,
          85,
          36,
          28,
          92,
          131,
          166,
          120,
          90,
          90,
          107,
          103,
          219,
          165,
          96,
          129,
          125,
          214,
          123,
          119,
          202,
          185,
          187,
          166,
          185,
          121,
          35,
          32,
          120,
          145,
          161,
          113,
          121,
          69,
          64,
          110,
          190,
          191,
          111,
          103,
          89,
          121,
          143,
          123,
          213,
          173,
          195,
          141,
          202,
          78,
          43,
          69,
          103,
          123,
          160,
          115,
          97,
          118,
          126,
          104,
          204,
          165,
          139,
          84,
          126,
          144,
          167,
          155,
          281,
          216,
          254,
          194,
          104,
          96,
          55,
          41,
          108,
          178,
          117,
          115,
          86,
          44,
          113,
          146,
          129,
          107,
          71,
          114,
          88,
          118,
          94,
          164,
          179,
          93,
          134,
          169,
          143,
          73,
          26,
          49,
          79,
          127,
          90,
          67,
          117,
          134,
          113,
          167,
          147,
          210,
          73,
          114,
          116,
          93,
          121,
          167,
          200,
          272,
          462,
          224,
          273,
          118,
          47,
          44,
          94,
          122,
          146,
          152,
          91,
          122,
          112,
          223,
          172,
          111,
          122,
          152,
          77,
          153,
          170,
          167,
          173,
          239,
          142,
          219,
          216,
          48,
          64,
          45,
          91,
          113,
          141,
          140,
          108,
          68,
          121,
          125,
          128,
          161,
          94,
          105,
          93,
          160,
          105,
          178,
          240,
          112,
          197,
          154,
          127,
          76,
          80,
          68,
          96,
          136,
          109,
          114,
          69,
          119,
          145,
          92,
          174,
          184,
          116,
          121,
          130,
          137,
          115,
          124,
          188,
          198,
          203,
          205,
          133,
          70,
          36,
          38,
          113,
          135,
          150,
          124,
          143,
          88,
          112,
          122,
          180,
          187,
          160,
          82,
          95,
          182,
          130,
          170,
          247,
          174,
          154,
          103,
          93,
          19,
          68,
          38,
          95,
          170,
          205,
          151,
          118,
          144,
          88,
          117,
          188,
          170,
          137,
          113,
          179,
          166,
          242,
          173,
          273,
          246,
          160,
          187,
          196,
          118,
          74,
          22,
          108,
          196,
          126,
          103,
          114,
          63,
          130,
          150,
          182,
          158,
          123,
          123,
          105,
          162,
          155,
          174,
          281,
          156,
          148,
          267,
          114,
          40,
          33,
          50,
          124,
          147,
          136,
          96,
          151,
          89,
          164,
          142,
          143,
          169,
          127,
          126,
          122,
          107,
          145,
          238,
          263,
          222,
          408,
          208,
          295,
          62,
          31,
          37,
          131,
          174,
          170,
          164,
          125,
          137,
          126,
          195,
          165,
          182,
          111,
          152,
          96,
          152,
          173,
          157,
          192,
          133,
          133,
          157,
          106,
          55,
          65,
          71,
          159,
          195,
          183,
          141,
          131,
          113,
          134,
          184,
          148,
          211,
          113,
          111,
          94,
          189,
          160,
          179,
          234,
          152,
          163,
          126,
          136,
          55,
          36,
          60,
          163,
          143,
          183,
          179,
          167,
          135,
          196,
          163,
          220,
          159,
          120,
          169,
          191,
          170,
          177,
          265,
          216,
          217,
          232,
          193,
          186,
          56,
          13,
          39,
          166,
          226,
          227,
          156,
          173,
          154,
          91,
          156,
          254,
          342,
          177,
          72,
          142,
          198,
          158,
          246,
          276,
          194,
          230,
          99,
          268,
          78,
          35,
          46,
          182,
          203,
          191,
          167,
          136,
          166,
          133,
          116,
          197,
          217,
          207,
          136,
          154,
          159,
          223,
          205
         ]
        },
        {
         "name": "Predicted",
         "type": "scatter",
         "x": [
          "2018-08-13T16:00:00",
          "2018-08-13T17:00:00",
          "2018-08-13T18:00:00",
          "2018-08-13T19:00:00",
          "2018-08-13T20:00:00",
          "2018-08-13T21:00:00",
          "2018-08-13T22:00:00",
          "2018-08-13T23:00:00",
          "2018-08-14T00:00:00",
          "2018-08-14T01:00:00",
          "2018-08-14T02:00:00",
          "2018-08-14T03:00:00",
          "2018-08-14T04:00:00",
          "2018-08-14T05:00:00",
          "2018-08-14T06:00:00",
          "2018-08-14T07:00:00",
          "2018-08-14T08:00:00",
          "2018-08-14T09:00:00",
          "2018-08-14T10:00:00",
          "2018-08-14T11:00:00",
          "2018-08-14T12:00:00",
          "2018-08-14T13:00:00",
          "2018-08-14T14:00:00",
          "2018-08-14T15:00:00",
          "2018-08-14T16:00:00",
          "2018-08-14T17:00:00",
          "2018-08-14T18:00:00",
          "2018-08-14T19:00:00",
          "2018-08-14T20:00:00",
          "2018-08-14T21:00:00",
          "2018-08-14T22:00:00",
          "2018-08-14T23:00:00",
          "2018-08-15T00:00:00",
          "2018-08-15T01:00:00",
          "2018-08-15T02:00:00",
          "2018-08-15T03:00:00",
          "2018-08-15T04:00:00",
          "2018-08-15T05:00:00",
          "2018-08-15T06:00:00",
          "2018-08-15T07:00:00",
          "2018-08-15T08:00:00",
          "2018-08-15T09:00:00",
          "2018-08-15T10:00:00",
          "2018-08-15T11:00:00",
          "2018-08-15T12:00:00",
          "2018-08-15T13:00:00",
          "2018-08-15T14:00:00",
          "2018-08-15T15:00:00",
          "2018-08-15T16:00:00",
          "2018-08-15T17:00:00",
          "2018-08-15T18:00:00",
          "2018-08-15T19:00:00",
          "2018-08-15T20:00:00",
          "2018-08-15T21:00:00",
          "2018-08-15T22:00:00",
          "2018-08-15T23:00:00",
          "2018-08-16T00:00:00",
          "2018-08-16T01:00:00",
          "2018-08-16T02:00:00",
          "2018-08-16T03:00:00",
          "2018-08-16T04:00:00",
          "2018-08-16T05:00:00",
          "2018-08-16T06:00:00",
          "2018-08-16T07:00:00",
          "2018-08-16T08:00:00",
          "2018-08-16T09:00:00",
          "2018-08-16T10:00:00",
          "2018-08-16T11:00:00",
          "2018-08-16T12:00:00",
          "2018-08-16T13:00:00",
          "2018-08-16T14:00:00",
          "2018-08-16T15:00:00",
          "2018-08-16T16:00:00",
          "2018-08-16T17:00:00",
          "2018-08-16T18:00:00",
          "2018-08-16T19:00:00",
          "2018-08-16T20:00:00",
          "2018-08-16T21:00:00",
          "2018-08-16T22:00:00",
          "2018-08-16T23:00:00",
          "2018-08-17T00:00:00",
          "2018-08-17T01:00:00",
          "2018-08-17T02:00:00",
          "2018-08-17T03:00:00",
          "2018-08-17T04:00:00",
          "2018-08-17T05:00:00",
          "2018-08-17T06:00:00",
          "2018-08-17T07:00:00",
          "2018-08-17T08:00:00",
          "2018-08-17T09:00:00",
          "2018-08-17T10:00:00",
          "2018-08-17T11:00:00",
          "2018-08-17T12:00:00",
          "2018-08-17T13:00:00",
          "2018-08-17T14:00:00",
          "2018-08-17T15:00:00",
          "2018-08-17T16:00:00",
          "2018-08-17T17:00:00",
          "2018-08-17T18:00:00",
          "2018-08-17T19:00:00",
          "2018-08-17T20:00:00",
          "2018-08-17T21:00:00",
          "2018-08-17T22:00:00",
          "2018-08-17T23:00:00",
          "2018-08-18T00:00:00",
          "2018-08-18T01:00:00",
          "2018-08-18T02:00:00",
          "2018-08-18T03:00:00",
          "2018-08-18T04:00:00",
          "2018-08-18T05:00:00",
          "2018-08-18T06:00:00",
          "2018-08-18T07:00:00",
          "2018-08-18T08:00:00",
          "2018-08-18T09:00:00",
          "2018-08-18T10:00:00",
          "2018-08-18T11:00:00",
          "2018-08-18T12:00:00",
          "2018-08-18T13:00:00",
          "2018-08-18T14:00:00",
          "2018-08-18T15:00:00",
          "2018-08-18T16:00:00",
          "2018-08-18T17:00:00",
          "2018-08-18T18:00:00",
          "2018-08-18T19:00:00",
          "2018-08-18T20:00:00",
          "2018-08-18T21:00:00",
          "2018-08-18T22:00:00",
          "2018-08-18T23:00:00",
          "2018-08-19T00:00:00",
          "2018-08-19T01:00:00",
          "2018-08-19T02:00:00",
          "2018-08-19T03:00:00",
          "2018-08-19T04:00:00",
          "2018-08-19T05:00:00",
          "2018-08-19T06:00:00",
          "2018-08-19T07:00:00",
          "2018-08-19T08:00:00",
          "2018-08-19T09:00:00",
          "2018-08-19T10:00:00",
          "2018-08-19T11:00:00",
          "2018-08-19T12:00:00",
          "2018-08-19T13:00:00",
          "2018-08-19T14:00:00",
          "2018-08-19T15:00:00",
          "2018-08-19T16:00:00",
          "2018-08-19T17:00:00",
          "2018-08-19T18:00:00",
          "2018-08-19T19:00:00",
          "2018-08-19T20:00:00",
          "2018-08-19T21:00:00",
          "2018-08-19T22:00:00",
          "2018-08-19T23:00:00",
          "2018-08-20T00:00:00",
          "2018-08-20T01:00:00",
          "2018-08-20T02:00:00",
          "2018-08-20T03:00:00",
          "2018-08-20T04:00:00",
          "2018-08-20T05:00:00",
          "2018-08-20T06:00:00",
          "2018-08-20T07:00:00",
          "2018-08-20T08:00:00",
          "2018-08-20T09:00:00",
          "2018-08-20T10:00:00",
          "2018-08-20T11:00:00",
          "2018-08-20T12:00:00",
          "2018-08-20T13:00:00",
          "2018-08-20T14:00:00",
          "2018-08-20T15:00:00",
          "2018-08-20T16:00:00",
          "2018-08-20T17:00:00",
          "2018-08-20T18:00:00",
          "2018-08-20T19:00:00",
          "2018-08-20T20:00:00",
          "2018-08-20T21:00:00",
          "2018-08-20T22:00:00",
          "2018-08-20T23:00:00",
          "2018-08-21T00:00:00",
          "2018-08-21T01:00:00",
          "2018-08-21T02:00:00",
          "2018-08-21T03:00:00",
          "2018-08-21T04:00:00",
          "2018-08-21T05:00:00",
          "2018-08-21T06:00:00",
          "2018-08-21T07:00:00",
          "2018-08-21T08:00:00",
          "2018-08-21T09:00:00",
          "2018-08-21T10:00:00",
          "2018-08-21T11:00:00",
          "2018-08-21T12:00:00",
          "2018-08-21T13:00:00",
          "2018-08-21T14:00:00",
          "2018-08-21T15:00:00",
          "2018-08-21T16:00:00",
          "2018-08-21T17:00:00",
          "2018-08-21T18:00:00",
          "2018-08-21T19:00:00",
          "2018-08-21T20:00:00",
          "2018-08-21T21:00:00",
          "2018-08-21T22:00:00",
          "2018-08-21T23:00:00",
          "2018-08-22T00:00:00",
          "2018-08-22T01:00:00",
          "2018-08-22T02:00:00",
          "2018-08-22T03:00:00",
          "2018-08-22T04:00:00",
          "2018-08-22T05:00:00",
          "2018-08-22T06:00:00",
          "2018-08-22T07:00:00",
          "2018-08-22T08:00:00",
          "2018-08-22T09:00:00",
          "2018-08-22T10:00:00",
          "2018-08-22T11:00:00",
          "2018-08-22T12:00:00",
          "2018-08-22T13:00:00",
          "2018-08-22T14:00:00",
          "2018-08-22T15:00:00",
          "2018-08-22T16:00:00",
          "2018-08-22T17:00:00",
          "2018-08-22T18:00:00",
          "2018-08-22T19:00:00",
          "2018-08-22T20:00:00",
          "2018-08-22T21:00:00",
          "2018-08-22T22:00:00",
          "2018-08-22T23:00:00",
          "2018-08-23T00:00:00",
          "2018-08-23T01:00:00",
          "2018-08-23T02:00:00",
          "2018-08-23T03:00:00",
          "2018-08-23T04:00:00",
          "2018-08-23T05:00:00",
          "2018-08-23T06:00:00",
          "2018-08-23T07:00:00",
          "2018-08-23T08:00:00",
          "2018-08-23T09:00:00",
          "2018-08-23T10:00:00",
          "2018-08-23T11:00:00",
          "2018-08-23T12:00:00",
          "2018-08-23T13:00:00",
          "2018-08-23T14:00:00",
          "2018-08-23T15:00:00",
          "2018-08-23T16:00:00",
          "2018-08-23T17:00:00",
          "2018-08-23T18:00:00",
          "2018-08-23T19:00:00",
          "2018-08-23T20:00:00",
          "2018-08-23T21:00:00",
          "2018-08-23T22:00:00",
          "2018-08-23T23:00:00",
          "2018-08-24T00:00:00",
          "2018-08-24T01:00:00",
          "2018-08-24T02:00:00",
          "2018-08-24T03:00:00",
          "2018-08-24T04:00:00",
          "2018-08-24T05:00:00",
          "2018-08-24T06:00:00",
          "2018-08-24T07:00:00",
          "2018-08-24T08:00:00",
          "2018-08-24T09:00:00",
          "2018-08-24T10:00:00",
          "2018-08-24T11:00:00",
          "2018-08-24T12:00:00",
          "2018-08-24T13:00:00",
          "2018-08-24T14:00:00",
          "2018-08-24T15:00:00",
          "2018-08-24T16:00:00",
          "2018-08-24T17:00:00",
          "2018-08-24T18:00:00",
          "2018-08-24T19:00:00",
          "2018-08-24T20:00:00",
          "2018-08-24T21:00:00",
          "2018-08-24T22:00:00",
          "2018-08-24T23:00:00",
          "2018-08-25T00:00:00",
          "2018-08-25T01:00:00",
          "2018-08-25T02:00:00",
          "2018-08-25T03:00:00",
          "2018-08-25T04:00:00",
          "2018-08-25T05:00:00",
          "2018-08-25T06:00:00",
          "2018-08-25T07:00:00",
          "2018-08-25T08:00:00",
          "2018-08-25T09:00:00",
          "2018-08-25T10:00:00",
          "2018-08-25T11:00:00",
          "2018-08-25T12:00:00",
          "2018-08-25T13:00:00",
          "2018-08-25T14:00:00",
          "2018-08-25T15:00:00",
          "2018-08-25T16:00:00",
          "2018-08-25T17:00:00",
          "2018-08-25T18:00:00",
          "2018-08-25T19:00:00",
          "2018-08-25T20:00:00",
          "2018-08-25T21:00:00",
          "2018-08-25T22:00:00",
          "2018-08-25T23:00:00",
          "2018-08-26T00:00:00",
          "2018-08-26T01:00:00",
          "2018-08-26T02:00:00",
          "2018-08-26T03:00:00",
          "2018-08-26T04:00:00",
          "2018-08-26T05:00:00",
          "2018-08-26T06:00:00",
          "2018-08-26T07:00:00",
          "2018-08-26T08:00:00",
          "2018-08-26T09:00:00",
          "2018-08-26T10:00:00",
          "2018-08-26T11:00:00",
          "2018-08-26T12:00:00",
          "2018-08-26T13:00:00",
          "2018-08-26T14:00:00",
          "2018-08-26T15:00:00",
          "2018-08-26T16:00:00",
          "2018-08-26T17:00:00",
          "2018-08-26T18:00:00",
          "2018-08-26T19:00:00",
          "2018-08-26T20:00:00",
          "2018-08-26T21:00:00",
          "2018-08-26T22:00:00",
          "2018-08-26T23:00:00",
          "2018-08-27T00:00:00",
          "2018-08-27T01:00:00",
          "2018-08-27T02:00:00",
          "2018-08-27T03:00:00",
          "2018-08-27T04:00:00",
          "2018-08-27T05:00:00",
          "2018-08-27T06:00:00",
          "2018-08-27T07:00:00",
          "2018-08-27T08:00:00",
          "2018-08-27T09:00:00",
          "2018-08-27T10:00:00",
          "2018-08-27T11:00:00",
          "2018-08-27T12:00:00",
          "2018-08-27T13:00:00",
          "2018-08-27T14:00:00",
          "2018-08-27T15:00:00",
          "2018-08-27T16:00:00",
          "2018-08-27T17:00:00",
          "2018-08-27T18:00:00",
          "2018-08-27T19:00:00",
          "2018-08-27T20:00:00",
          "2018-08-27T21:00:00",
          "2018-08-27T22:00:00",
          "2018-08-27T23:00:00",
          "2018-08-28T00:00:00",
          "2018-08-28T01:00:00",
          "2018-08-28T02:00:00",
          "2018-08-28T03:00:00",
          "2018-08-28T04:00:00",
          "2018-08-28T05:00:00",
          "2018-08-28T06:00:00",
          "2018-08-28T07:00:00",
          "2018-08-28T08:00:00",
          "2018-08-28T09:00:00",
          "2018-08-28T10:00:00",
          "2018-08-28T11:00:00",
          "2018-08-28T12:00:00",
          "2018-08-28T13:00:00",
          "2018-08-28T14:00:00",
          "2018-08-28T15:00:00",
          "2018-08-28T16:00:00",
          "2018-08-28T17:00:00",
          "2018-08-28T18:00:00",
          "2018-08-28T19:00:00",
          "2018-08-28T20:00:00",
          "2018-08-28T21:00:00",
          "2018-08-28T22:00:00",
          "2018-08-28T23:00:00",
          "2018-08-29T00:00:00",
          "2018-08-29T01:00:00",
          "2018-08-29T02:00:00",
          "2018-08-29T03:00:00",
          "2018-08-29T04:00:00",
          "2018-08-29T05:00:00",
          "2018-08-29T06:00:00",
          "2018-08-29T07:00:00",
          "2018-08-29T08:00:00",
          "2018-08-29T09:00:00",
          "2018-08-29T10:00:00",
          "2018-08-29T11:00:00",
          "2018-08-29T12:00:00",
          "2018-08-29T13:00:00",
          "2018-08-29T14:00:00",
          "2018-08-29T15:00:00",
          "2018-08-29T16:00:00",
          "2018-08-29T17:00:00",
          "2018-08-29T18:00:00",
          "2018-08-29T19:00:00",
          "2018-08-29T20:00:00",
          "2018-08-29T21:00:00",
          "2018-08-29T22:00:00",
          "2018-08-29T23:00:00",
          "2018-08-30T00:00:00",
          "2018-08-30T01:00:00",
          "2018-08-30T02:00:00",
          "2018-08-30T03:00:00",
          "2018-08-30T04:00:00",
          "2018-08-30T05:00:00",
          "2018-08-30T06:00:00",
          "2018-08-30T07:00:00",
          "2018-08-30T08:00:00",
          "2018-08-30T09:00:00",
          "2018-08-30T10:00:00",
          "2018-08-30T11:00:00",
          "2018-08-30T12:00:00",
          "2018-08-30T13:00:00",
          "2018-08-30T14:00:00",
          "2018-08-30T15:00:00",
          "2018-08-30T16:00:00",
          "2018-08-30T17:00:00",
          "2018-08-30T18:00:00",
          "2018-08-30T19:00:00",
          "2018-08-30T20:00:00",
          "2018-08-30T21:00:00",
          "2018-08-30T22:00:00",
          "2018-08-30T23:00:00",
          "2018-08-31T00:00:00",
          "2018-08-31T01:00:00",
          "2018-08-31T02:00:00",
          "2018-08-31T03:00:00",
          "2018-08-31T04:00:00",
          "2018-08-31T05:00:00",
          "2018-08-31T06:00:00",
          "2018-08-31T07:00:00",
          "2018-08-31T08:00:00",
          "2018-08-31T09:00:00",
          "2018-08-31T10:00:00",
          "2018-08-31T11:00:00",
          "2018-08-31T12:00:00",
          "2018-08-31T13:00:00",
          "2018-08-31T14:00:00",
          "2018-08-31T15:00:00",
          "2018-08-31T16:00:00",
          "2018-08-31T17:00:00",
          "2018-08-31T18:00:00",
          "2018-08-31T19:00:00",
          "2018-08-31T20:00:00",
          "2018-08-31T21:00:00",
          "2018-08-31T22:00:00",
          "2018-08-31T23:00:00"
         ],
         "y": [
          157.86320530711194,
          153.62056561372486,
          109.8244882798554,
          115.2936313827411,
          105.36033832160568,
          119.22719118449874,
          128.8203025569593,
          158.64647123546717,
          161.12980788523066,
          145.7401628786452,
          186.96959219083507,
          154.59023556018684,
          141.39615181998386,
          89.8862484154129,
          63.3961350178885,
          49.37077001013048,
          98.75876520414201,
          120.26164066190151,
          129.28204386822242,
          133.50434601629013,
          102.51228746546718,
          97.59153063444688,
          100.87761337043366,
          120.90594786646648,
          135.07487281879435,
          144.23330491571733,
          107.54573661021823,
          101.89336499266236,
          115.68948911644175,
          108.97176223414003,
          124.60840101546779,
          139.97414501169112,
          160.3850948709111,
          164.94002622695922,
          169.10822573624694,
          120.98988519063818,
          128.34183620234177,
          63.85511703653566,
          60.74233449024561,
          60.91306017791562,
          84.00475139538345,
          127.52826532448816,
          121.26781903004546,
          100.51080484043534,
          104.22578907686659,
          92.43918498787768,
          86.28573111604902,
          110.20084986075327,
          159.97196845556118,
          147.41568068067593,
          102.02908017644211,
          126.20124929672338,
          114.19897988159096,
          133.65464420334092,
          128.45350043685733,
          166.5947870668185,
          174.51388461003705,
          118.3173293583155,
          183.2266961322105,
          179.33319119574787,
          146.83927870963774,
          77.74957191584181,
          42.9102845833296,
          49.98875856317375,
          83.16948572043,
          139.62201548902436,
          140.52810187231648,
          123.13956347377744,
          94.04582850791931,
          86.25422082633656,
          99.42080885048566,
          111.82727803090185,
          152.9089885444069,
          152.5811376663932,
          89.38311224387651,
          100.8000091076291,
          106.29974100448194,
          123.25269372067095,
          122.44736186832267,
          127.10339619991915,
          187.6502107271774,
          146.42744535562372,
          172.0320565889893,
          171.40319020936957,
          138.90138976148182,
          97.50081441102749,
          52.66445356451182,
          53.55316047148729,
          122.05269378741735,
          138.13739845069392,
          121.10430019902662,
          115.7553806226293,
          106.69608329435958,
          84.45991444427496,
          101.31791532754241,
          144.0068407297585,
          160.38871711018686,
          137.8644711619308,
          105.54718894877249,
          127.43080742325111,
          116.62050327283322,
          128.36730996571984,
          152.50817710571815,
          167.61435869025308,
          196.80075773911375,
          253.3634175531578,
          187.87511225449373,
          199.42792435275823,
          151.85053946512403,
          78.53076349319126,
          55.96466349795783,
          62.51531253824721,
          99.15706629435797,
          121.25521288516467,
          124.44814772944126,
          120.29320970801416,
          77.4913373697869,
          88.43741186927565,
          96.6088327987842,
          135.0992521209131,
          183.37838248903785,
          140.4434258512126,
          94.9740150422485,
          96.33423688999468,
          98.24653878270578,
          119.74148258088542,
          120.38872777795001,
          143.45053690972497,
          149.78242150365242,
          159.12092179063168,
          157.2144277764694,
          134.04259693115932,
          127.77086489652532,
          89.78699076398642,
          60.04492369493904,
          45.55519004847365,
          88.93353488594144,
          105.14603449421486,
          102.75365176984738,
          99.94535171990891,
          101.86024974154053,
          79.74774752351887,
          123.92194720338705,
          140.61857441324764,
          146.83906568037295,
          122.78915249273786,
          77.44988073634909,
          86.28586848758913,
          99.31965980870251,
          127.2969637570437,
          119.6203949433549,
          154.24257626574948,
          192.70423805796278,
          167.3048173620925,
          284.6137579697903,
          229.33012765987044,
          148.2872785603359,
          116.37845825757265,
          81.23166791932165,
          76.37405755812873,
          85.56678363651264,
          129.97142738459894,
          143.2627492139246,
          116.18463586810412,
          127.24422290380366,
          110.8259475995622,
          93.35875311847299,
          152.24488272665212,
          154.72674149890798,
          175.225343652157,
          110.87400018593021,
          112.45178362195247,
          124.26697130957179,
          125.78143483731338,
          136.26468582307058,
          183.79775124929523,
          153.48765683924228,
          198.6543230722004,
          198.04562139743172,
          181.05156862692968,
          152.70454163234416,
          125.38514381561623,
          65.35492935194367,
          68.14238757343321,
          95.19646099254376,
          123.51515460422044,
          127.52664188080846,
          126.59272916998188,
          90.16822908362519,
          91.42502703101162,
          99.9748218218734,
          140.83253632666552,
          135.7222158463165,
          134.78727591868426,
          108.46577757536306,
          106.22160492165825,
          110.00559979083309,
          111.95119366383929,
          134.37802792100604,
          162.6967837049595,
          184.5346641655636,
          179.73676029411155,
          182.48727367468518,
          121.60231016350971,
          154.75957822512467,
          61.79659060287918,
          56.31498706130394,
          65.1409453019951,
          92.53021255390578,
          129.76402580018123,
          142.41955418844412,
          115.48646373141571,
          88.54378655332094,
          95.8464208159132,
          116.86400840619304,
          127.38876536096961,
          164.9049017121734,
          129.12032024731568,
          95.84018946691495,
          131.83299725260568,
          108.96232511936543,
          139.2094016161104,
          142.40594629258518,
          139.4526066231236,
          149.45421677721856,
          141.90255125561086,
          179.01978184673612,
          163.48074516681385,
          146.53656213391184,
          91.7768234466915,
          79.07591494681328,
          57.06624269222053,
          92.95342127711011,
          133.62399894825077,
          140.9212808143425,
          99.6482860844408,
          95.57687112827696,
          93.94354825539298,
          107.91928396232032,
          115.26007063013239,
          162.74263671254462,
          139.51503946037047,
          108.21942148050368,
          123.69659897999057,
          135.0855044073703,
          118.55148021943138,
          136.87007872731442,
          171.70438063612278,
          199.244588574636,
          200.71964345952262,
          188.25940953792102,
          147.02372082960233,
          141.29856091629597,
          72.95863174044861,
          44.04763226418707,
          55.84933956134408,
          110.56819049813468,
          120.89308485614437,
          124.84162923879524,
          113.86123831135427,
          95.36093502456065,
          109.03413474148778,
          119.06666820146616,
          138.2265371402602,
          167.62357714546698,
          148.22747986258128,
          116.23213651089105,
          137.75360389396815,
          134.0543517604851,
          138.65556208815985,
          194.8482458314432,
          202.0825571726524,
          219.14655173177567,
          268.9438429655903,
          187.79841362490487,
          150.74861561612755,
          103.8393599539892,
          79.44708723434645,
          73.16386295696115,
          63.23047927485614,
          98.07549339782112,
          136.0033173402026,
          138.45724304738718,
          139.41393408307607,
          94.71422995504271,
          95.8569385379459,
          112.27875364574129,
          143.4698095657517,
          170.5393991617188,
          171.53912631185926,
          106.61621643100865,
          117.11197752495052,
          126.8267484133724,
          126.94793704082315,
          141.92683997427375,
          172.70278960572958,
          181.87839170945597,
          223.40837866031472,
          182.7425032303325,
          165.24342884802266,
          216.32552765054143,
          125.67455083899688,
          36.70640153208891,
          50.65510474659964,
          107.83795635401216,
          127.72142910655636,
          116.01887781930658,
          104.40558585987807,
          76.75287963336561,
          102.87948250729848,
          147.5774127462123,
          161.86317831856178,
          179.4180484421965,
          132.56839555034094,
          95.06737511805787,
          129.69588516635392,
          128.82805815694502,
          152.87121137761176,
          162.25543469880125,
          162.0122370871385,
          212.1063827853805,
          205.71599491768288,
          202.08467483923135,
          228.4171888911976,
          126.37344242632214,
          109.82632591627745,
          69.6047712030514,
          73.36601511389703,
          119.66253543047961,
          140.41449440523078,
          157.83925153106736,
          117.38313521805044,
          113.06629922282254,
          123.11595652338833,
          104.15269622286645,
          172.69548578755996,
          180.3099591280975,
          151.75732802737718,
          138.73596741208547,
          130.92740610233142,
          146.14174758682515,
          167.38609389817714,
          139.13584893550416,
          196.7844058176273,
          194.24653498396557,
          202.2082485904689,
          193.57310085806944,
          145.268855310752,
          133.77480390218957,
          74.00576335652003,
          56.91991226064925,
          80.68306360052705,
          120.55927946419756,
          124.56342831561247,
          147.61692983411126,
          136.1690630271942,
          127.96765673796402,
          141.4416250923125,
          123.95238000284226,
          142.72578374266328,
          150.80589353075183,
          141.59084627073761,
          124.64892542152222,
          145.72081429799977,
          134.72428055214792,
          142.0937460648761,
          151.88748702538678,
          165.97177925154068,
          190.09128330829378,
          176.20310694699515,
          183.261276941745,
          147.7015051643982,
          113.79551941496078,
          76.29951523362517,
          62.880306814276665,
          95.52216361255708,
          116.9398746553241,
          145.9320203707605,
          149.18255152844074,
          114.95138104783273,
          115.51453769630898,
          131.40065850548808,
          157.35098554916817,
          163.37565228676084,
          177.84623846433863,
          146.86200845689467,
          108.19742122544957,
          139.49547542138146,
          125.85056465635508,
          167.329089247211,
          185.38886528430123,
          181.85413786528045,
          260.3491995885138,
          187.04710549528957,
          202.8555133877398,
          184.91324129028467,
          137.8582323610446,
          74.35001236567769,
          68.37950400367897,
          80.68588778101577,
          109.77813718279619,
          154.78587942149102,
          176.80771803442877,
          131.82371912355475,
          133.66405391454919,
          155.81254136644046,
          149.86700421734145,
          174.87560645538196,
          163.3583328802295,
          160.07493857990323,
          156.64578657116704,
          147.3606665410283,
          147.34557000873886,
          163.74822085941503,
          144.09054930351482,
          193.61198950326417,
          224.1212400639072,
          249.98100330701052,
          209.22677418467862,
          174.02716387506283,
          145.89469387722636,
          98.94922060316804,
          64.55678499751345,
          77.14029277930575,
          134.74654466903823,
          161.27965333403296,
          176.14054588319027,
          132.2228934091887,
          131.76669468135628,
          131.50265818280207,
          128.68434130301216,
          174.36384413717713,
          173.4750426826592,
          140.83500924452576,
          146.5447442684669,
          130.1166035829914,
          159.82803579468398,
          187.97284294316677,
          166.48166038132592,
          194.70855697695276
         ]
        }
       ],
       "layout": {
        "plot_bgcolor": "white",
        "template": {
         "data": {
          "bar": [
           {
            "error_x": {
             "color": "#2a3f5f"
            },
            "error_y": {
             "color": "#2a3f5f"
            },
            "marker": {
             "line": {
              "color": "#E5ECF6",
              "width": 0.5
             },
             "pattern": {
              "fillmode": "overlay",
              "size": 10,
              "solidity": 0.2
             }
            },
            "type": "bar"
           }
          ],
          "barpolar": [
           {
            "marker": {
             "line": {
              "color": "#E5ECF6",
              "width": 0.5
             },
             "pattern": {
              "fillmode": "overlay",
              "size": 10,
              "solidity": 0.2
             }
            },
            "type": "barpolar"
           }
          ],
          "carpet": [
           {
            "aaxis": {
             "endlinecolor": "#2a3f5f",
             "gridcolor": "white",
             "linecolor": "white",
             "minorgridcolor": "white",
             "startlinecolor": "#2a3f5f"
            },
            "baxis": {
             "endlinecolor": "#2a3f5f",
             "gridcolor": "white",
             "linecolor": "white",
             "minorgridcolor": "white",
             "startlinecolor": "#2a3f5f"
            },
            "type": "carpet"
           }
          ],
          "choropleth": [
           {
            "colorbar": {
             "outlinewidth": 0,
             "ticks": ""
            },
            "type": "choropleth"
           }
          ],
          "contour": [
           {
            "colorbar": {
             "outlinewidth": 0,
             "ticks": ""
            },
            "colorscale": [
             [
              0,
              "#0d0887"
             ],
             [
              0.1111111111111111,
              "#46039f"
             ],
             [
              0.2222222222222222,
              "#7201a8"
             ],
             [
              0.3333333333333333,
              "#9c179e"
             ],
             [
              0.4444444444444444,
              "#bd3786"
             ],
             [
              0.5555555555555556,
              "#d8576b"
             ],
             [
              0.6666666666666666,
              "#ed7953"
             ],
             [
              0.7777777777777778,
              "#fb9f3a"
             ],
             [
              0.8888888888888888,
              "#fdca26"
             ],
             [
              1,
              "#f0f921"
             ]
            ],
            "type": "contour"
           }
          ],
          "contourcarpet": [
           {
            "colorbar": {
             "outlinewidth": 0,
             "ticks": ""
            },
            "type": "contourcarpet"
           }
          ],
          "heatmap": [
           {
            "colorbar": {
             "outlinewidth": 0,
             "ticks": ""
            },
            "colorscale": [
             [
              0,
              "#0d0887"
             ],
             [
              0.1111111111111111,
              "#46039f"
             ],
             [
              0.2222222222222222,
              "#7201a8"
             ],
             [
              0.3333333333333333,
              "#9c179e"
             ],
             [
              0.4444444444444444,
              "#bd3786"
             ],
             [
              0.5555555555555556,
              "#d8576b"
             ],
             [
              0.6666666666666666,
              "#ed7953"
             ],
             [
              0.7777777777777778,
              "#fb9f3a"
             ],
             [
              0.8888888888888888,
              "#fdca26"
             ],
             [
              1,
              "#f0f921"
             ]
            ],
            "type": "heatmap"
           }
          ],
          "heatmapgl": [
           {
            "colorbar": {
             "outlinewidth": 0,
             "ticks": ""
            },
            "colorscale": [
             [
              0,
              "#0d0887"
             ],
             [
              0.1111111111111111,
              "#46039f"
             ],
             [
              0.2222222222222222,
              "#7201a8"
             ],
             [
              0.3333333333333333,
              "#9c179e"
             ],
             [
              0.4444444444444444,
              "#bd3786"
             ],
             [
              0.5555555555555556,
              "#d8576b"
             ],
             [
              0.6666666666666666,
              "#ed7953"
             ],
             [
              0.7777777777777778,
              "#fb9f3a"
             ],
             [
              0.8888888888888888,
              "#fdca26"
             ],
             [
              1,
              "#f0f921"
             ]
            ],
            "type": "heatmapgl"
           }
          ],
          "histogram": [
           {
            "marker": {
             "pattern": {
              "fillmode": "overlay",
              "size": 10,
              "solidity": 0.2
             }
            },
            "type": "histogram"
           }
          ],
          "histogram2d": [
           {
            "colorbar": {
             "outlinewidth": 0,
             "ticks": ""
            },
            "colorscale": [
             [
              0,
              "#0d0887"
             ],
             [
              0.1111111111111111,
              "#46039f"
             ],
             [
              0.2222222222222222,
              "#7201a8"
             ],
             [
              0.3333333333333333,
              "#9c179e"
             ],
             [
              0.4444444444444444,
              "#bd3786"
             ],
             [
              0.5555555555555556,
              "#d8576b"
             ],
             [
              0.6666666666666666,
              "#ed7953"
             ],
             [
              0.7777777777777778,
              "#fb9f3a"
             ],
             [
              0.8888888888888888,
              "#fdca26"
             ],
             [
              1,
              "#f0f921"
             ]
            ],
            "type": "histogram2d"
           }
          ],
          "histogram2dcontour": [
           {
            "colorbar": {
             "outlinewidth": 0,
             "ticks": ""
            },
            "colorscale": [
             [
              0,
              "#0d0887"
             ],
             [
              0.1111111111111111,
              "#46039f"
             ],
             [
              0.2222222222222222,
              "#7201a8"
             ],
             [
              0.3333333333333333,
              "#9c179e"
             ],
             [
              0.4444444444444444,
              "#bd3786"
             ],
             [
              0.5555555555555556,
              "#d8576b"
             ],
             [
              0.6666666666666666,
              "#ed7953"
             ],
             [
              0.7777777777777778,
              "#fb9f3a"
             ],
             [
              0.8888888888888888,
              "#fdca26"
             ],
             [
              1,
              "#f0f921"
             ]
            ],
            "type": "histogram2dcontour"
           }
          ],
          "mesh3d": [
           {
            "colorbar": {
             "outlinewidth": 0,
             "ticks": ""
            },
            "type": "mesh3d"
           }
          ],
          "parcoords": [
           {
            "line": {
             "colorbar": {
              "outlinewidth": 0,
              "ticks": ""
             }
            },
            "type": "parcoords"
           }
          ],
          "pie": [
           {
            "automargin": true,
            "type": "pie"
           }
          ],
          "scatter": [
           {
            "marker": {
             "colorbar": {
              "outlinewidth": 0,
              "ticks": ""
             }
            },
            "type": "scatter"
           }
          ],
          "scatter3d": [
           {
            "line": {
             "colorbar": {
              "outlinewidth": 0,
              "ticks": ""
             }
            },
            "marker": {
             "colorbar": {
              "outlinewidth": 0,
              "ticks": ""
             }
            },
            "type": "scatter3d"
           }
          ],
          "scattercarpet": [
           {
            "marker": {
             "colorbar": {
              "outlinewidth": 0,
              "ticks": ""
             }
            },
            "type": "scattercarpet"
           }
          ],
          "scattergeo": [
           {
            "marker": {
             "colorbar": {
              "outlinewidth": 0,
              "ticks": ""
             }
            },
            "type": "scattergeo"
           }
          ],
          "scattergl": [
           {
            "marker": {
             "colorbar": {
              "outlinewidth": 0,
              "ticks": ""
             }
            },
            "type": "scattergl"
           }
          ],
          "scattermapbox": [
           {
            "marker": {
             "colorbar": {
              "outlinewidth": 0,
              "ticks": ""
             }
            },
            "type": "scattermapbox"
           }
          ],
          "scatterpolar": [
           {
            "marker": {
             "colorbar": {
              "outlinewidth": 0,
              "ticks": ""
             }
            },
            "type": "scatterpolar"
           }
          ],
          "scatterpolargl": [
           {
            "marker": {
             "colorbar": {
              "outlinewidth": 0,
              "ticks": ""
             }
            },
            "type": "scatterpolargl"
           }
          ],
          "scatterternary": [
           {
            "marker": {
             "colorbar": {
              "outlinewidth": 0,
              "ticks": ""
             }
            },
            "type": "scatterternary"
           }
          ],
          "surface": [
           {
            "colorbar": {
             "outlinewidth": 0,
             "ticks": ""
            },
            "colorscale": [
             [
              0,
              "#0d0887"
             ],
             [
              0.1111111111111111,
              "#46039f"
             ],
             [
              0.2222222222222222,
              "#7201a8"
             ],
             [
              0.3333333333333333,
              "#9c179e"
             ],
             [
              0.4444444444444444,
              "#bd3786"
             ],
             [
              0.5555555555555556,
              "#d8576b"
             ],
             [
              0.6666666666666666,
              "#ed7953"
             ],
             [
              0.7777777777777778,
              "#fb9f3a"
             ],
             [
              0.8888888888888888,
              "#fdca26"
             ],
             [
              1,
              "#f0f921"
             ]
            ],
            "type": "surface"
           }
          ],
          "table": [
           {
            "cells": {
             "fill": {
              "color": "#EBF0F8"
             },
             "line": {
              "color": "white"
             }
            },
            "header": {
             "fill": {
              "color": "#C8D4E3"
             },
             "line": {
              "color": "white"
             }
            },
            "type": "table"
           }
          ]
         },
         "layout": {
          "annotationdefaults": {
           "arrowcolor": "#2a3f5f",
           "arrowhead": 0,
           "arrowwidth": 1
          },
          "autotypenumbers": "strict",
          "coloraxis": {
           "colorbar": {
            "outlinewidth": 0,
            "ticks": ""
           }
          },
          "colorscale": {
           "diverging": [
            [
             0,
             "#8e0152"
            ],
            [
             0.1,
             "#c51b7d"
            ],
            [
             0.2,
             "#de77ae"
            ],
            [
             0.3,
             "#f1b6da"
            ],
            [
             0.4,
             "#fde0ef"
            ],
            [
             0.5,
             "#f7f7f7"
            ],
            [
             0.6,
             "#e6f5d0"
            ],
            [
             0.7,
             "#b8e186"
            ],
            [
             0.8,
             "#7fbc41"
            ],
            [
             0.9,
             "#4d9221"
            ],
            [
             1,
             "#276419"
            ]
           ],
           "sequential": [
            [
             0,
             "#0d0887"
            ],
            [
             0.1111111111111111,
             "#46039f"
            ],
            [
             0.2222222222222222,
             "#7201a8"
            ],
            [
             0.3333333333333333,
             "#9c179e"
            ],
            [
             0.4444444444444444,
             "#bd3786"
            ],
            [
             0.5555555555555556,
             "#d8576b"
            ],
            [
             0.6666666666666666,
             "#ed7953"
            ],
            [
             0.7777777777777778,
             "#fb9f3a"
            ],
            [
             0.8888888888888888,
             "#fdca26"
            ],
            [
             1,
             "#f0f921"
            ]
           ],
           "sequentialminus": [
            [
             0,
             "#0d0887"
            ],
            [
             0.1111111111111111,
             "#46039f"
            ],
            [
             0.2222222222222222,
             "#7201a8"
            ],
            [
             0.3333333333333333,
             "#9c179e"
            ],
            [
             0.4444444444444444,
             "#bd3786"
            ],
            [
             0.5555555555555556,
             "#d8576b"
            ],
            [
             0.6666666666666666,
             "#ed7953"
            ],
            [
             0.7777777777777778,
             "#fb9f3a"
            ],
            [
             0.8888888888888888,
             "#fdca26"
            ],
            [
             1,
             "#f0f921"
            ]
           ]
          },
          "colorway": [
           "#636efa",
           "#EF553B",
           "#00cc96",
           "#ab63fa",
           "#FFA15A",
           "#19d3f3",
           "#FF6692",
           "#B6E880",
           "#FF97FF",
           "#FECB52"
          ],
          "font": {
           "color": "#2a3f5f"
          },
          "geo": {
           "bgcolor": "white",
           "lakecolor": "white",
           "landcolor": "#E5ECF6",
           "showlakes": true,
           "showland": true,
           "subunitcolor": "white"
          },
          "hoverlabel": {
           "align": "left"
          },
          "hovermode": "closest",
          "mapbox": {
           "style": "light"
          },
          "paper_bgcolor": "white",
          "plot_bgcolor": "#E5ECF6",
          "polar": {
           "angularaxis": {
            "gridcolor": "white",
            "linecolor": "white",
            "ticks": ""
           },
           "bgcolor": "#E5ECF6",
           "radialaxis": {
            "gridcolor": "white",
            "linecolor": "white",
            "ticks": ""
           }
          },
          "scene": {
           "xaxis": {
            "backgroundcolor": "#E5ECF6",
            "gridcolor": "white",
            "gridwidth": 2,
            "linecolor": "white",
            "showbackground": true,
            "ticks": "",
            "zerolinecolor": "white"
           },
           "yaxis": {
            "backgroundcolor": "#E5ECF6",
            "gridcolor": "white",
            "gridwidth": 2,
            "linecolor": "white",
            "showbackground": true,
            "ticks": "",
            "zerolinecolor": "white"
           },
           "zaxis": {
            "backgroundcolor": "#E5ECF6",
            "gridcolor": "white",
            "gridwidth": 2,
            "linecolor": "white",
            "showbackground": true,
            "ticks": "",
            "zerolinecolor": "white"
           }
          },
          "shapedefaults": {
           "line": {
            "color": "#2a3f5f"
           }
          },
          "ternary": {
           "aaxis": {
            "gridcolor": "white",
            "linecolor": "white",
            "ticks": ""
           },
           "baxis": {
            "gridcolor": "white",
            "linecolor": "white",
            "ticks": ""
           },
           "bgcolor": "#E5ECF6",
           "caxis": {
            "gridcolor": "white",
            "linecolor": "white",
            "ticks": ""
           }
          },
          "title": {
           "x": 0.05
          },
          "xaxis": {
           "automargin": true,
           "gridcolor": "white",
           "linecolor": "white",
           "ticks": "",
           "title": {
            "standoff": 15
           },
           "zerolinecolor": "white",
           "zerolinewidth": 2
          },
          "yaxis": {
           "automargin": true,
           "gridcolor": "white",
           "linecolor": "white",
           "ticks": "",
           "title": {
            "standoff": 15
           },
           "zerolinecolor": "white",
           "zerolinewidth": 2
          }
         }
        },
        "title": {
         "text": "CatBoostRegressor (RMSE: 40.1060141191389)"
        },
        "xaxis": {
         "title": {
          "text": "Время (дни)"
         }
        },
        "yaxis": {
         "title": {
          "text": "Количество заказов"
         }
        }
       }
      },
      "text/html": [
       "<div>                            <div id=\"42edbc94-928e-4b5b-b2df-74a897efe1c6\" class=\"plotly-graph-div\" style=\"height:525px; width:100%;\"></div>            <script type=\"text/javascript\">                require([\"plotly\"], function(Plotly) {                    window.PLOTLYENV=window.PLOTLYENV || {};                                    if (document.getElementById(\"42edbc94-928e-4b5b-b2df-74a897efe1c6\")) {                    Plotly.newPlot(                        \"42edbc94-928e-4b5b-b2df-74a897efe1c6\",                        [{\"name\":\"True\",\"x\":[\"2018-08-13T16:00:00\",\"2018-08-13T17:00:00\",\"2018-08-13T18:00:00\",\"2018-08-13T19:00:00\",\"2018-08-13T20:00:00\",\"2018-08-13T21:00:00\",\"2018-08-13T22:00:00\",\"2018-08-13T23:00:00\",\"2018-08-14T00:00:00\",\"2018-08-14T01:00:00\",\"2018-08-14T02:00:00\",\"2018-08-14T03:00:00\",\"2018-08-14T04:00:00\",\"2018-08-14T05:00:00\",\"2018-08-14T06:00:00\",\"2018-08-14T07:00:00\",\"2018-08-14T08:00:00\",\"2018-08-14T09:00:00\",\"2018-08-14T10:00:00\",\"2018-08-14T11:00:00\",\"2018-08-14T12:00:00\",\"2018-08-14T13:00:00\",\"2018-08-14T14:00:00\",\"2018-08-14T15:00:00\",\"2018-08-14T16:00:00\",\"2018-08-14T17:00:00\",\"2018-08-14T18:00:00\",\"2018-08-14T19:00:00\",\"2018-08-14T20:00:00\",\"2018-08-14T21:00:00\",\"2018-08-14T22:00:00\",\"2018-08-14T23:00:00\",\"2018-08-15T00:00:00\",\"2018-08-15T01:00:00\",\"2018-08-15T02:00:00\",\"2018-08-15T03:00:00\",\"2018-08-15T04:00:00\",\"2018-08-15T05:00:00\",\"2018-08-15T06:00:00\",\"2018-08-15T07:00:00\",\"2018-08-15T08:00:00\",\"2018-08-15T09:00:00\",\"2018-08-15T10:00:00\",\"2018-08-15T11:00:00\",\"2018-08-15T12:00:00\",\"2018-08-15T13:00:00\",\"2018-08-15T14:00:00\",\"2018-08-15T15:00:00\",\"2018-08-15T16:00:00\",\"2018-08-15T17:00:00\",\"2018-08-15T18:00:00\",\"2018-08-15T19:00:00\",\"2018-08-15T20:00:00\",\"2018-08-15T21:00:00\",\"2018-08-15T22:00:00\",\"2018-08-15T23:00:00\",\"2018-08-16T00:00:00\",\"2018-08-16T01:00:00\",\"2018-08-16T02:00:00\",\"2018-08-16T03:00:00\",\"2018-08-16T04:00:00\",\"2018-08-16T05:00:00\",\"2018-08-16T06:00:00\",\"2018-08-16T07:00:00\",\"2018-08-16T08:00:00\",\"2018-08-16T09:00:00\",\"2018-08-16T10:00:00\",\"2018-08-16T11:00:00\",\"2018-08-16T12:00:00\",\"2018-08-16T13:00:00\",\"2018-08-16T14:00:00\",\"2018-08-16T15:00:00\",\"2018-08-16T16:00:00\",\"2018-08-16T17:00:00\",\"2018-08-16T18:00:00\",\"2018-08-16T19:00:00\",\"2018-08-16T20:00:00\",\"2018-08-16T21:00:00\",\"2018-08-16T22:00:00\",\"2018-08-16T23:00:00\",\"2018-08-17T00:00:00\",\"2018-08-17T01:00:00\",\"2018-08-17T02:00:00\",\"2018-08-17T03:00:00\",\"2018-08-17T04:00:00\",\"2018-08-17T05:00:00\",\"2018-08-17T06:00:00\",\"2018-08-17T07:00:00\",\"2018-08-17T08:00:00\",\"2018-08-17T09:00:00\",\"2018-08-17T10:00:00\",\"2018-08-17T11:00:00\",\"2018-08-17T12:00:00\",\"2018-08-17T13:00:00\",\"2018-08-17T14:00:00\",\"2018-08-17T15:00:00\",\"2018-08-17T16:00:00\",\"2018-08-17T17:00:00\",\"2018-08-17T18:00:00\",\"2018-08-17T19:00:00\",\"2018-08-17T20:00:00\",\"2018-08-17T21:00:00\",\"2018-08-17T22:00:00\",\"2018-08-17T23:00:00\",\"2018-08-18T00:00:00\",\"2018-08-18T01:00:00\",\"2018-08-18T02:00:00\",\"2018-08-18T03:00:00\",\"2018-08-18T04:00:00\",\"2018-08-18T05:00:00\",\"2018-08-18T06:00:00\",\"2018-08-18T07:00:00\",\"2018-08-18T08:00:00\",\"2018-08-18T09:00:00\",\"2018-08-18T10:00:00\",\"2018-08-18T11:00:00\",\"2018-08-18T12:00:00\",\"2018-08-18T13:00:00\",\"2018-08-18T14:00:00\",\"2018-08-18T15:00:00\",\"2018-08-18T16:00:00\",\"2018-08-18T17:00:00\",\"2018-08-18T18:00:00\",\"2018-08-18T19:00:00\",\"2018-08-18T20:00:00\",\"2018-08-18T21:00:00\",\"2018-08-18T22:00:00\",\"2018-08-18T23:00:00\",\"2018-08-19T00:00:00\",\"2018-08-19T01:00:00\",\"2018-08-19T02:00:00\",\"2018-08-19T03:00:00\",\"2018-08-19T04:00:00\",\"2018-08-19T05:00:00\",\"2018-08-19T06:00:00\",\"2018-08-19T07:00:00\",\"2018-08-19T08:00:00\",\"2018-08-19T09:00:00\",\"2018-08-19T10:00:00\",\"2018-08-19T11:00:00\",\"2018-08-19T12:00:00\",\"2018-08-19T13:00:00\",\"2018-08-19T14:00:00\",\"2018-08-19T15:00:00\",\"2018-08-19T16:00:00\",\"2018-08-19T17:00:00\",\"2018-08-19T18:00:00\",\"2018-08-19T19:00:00\",\"2018-08-19T20:00:00\",\"2018-08-19T21:00:00\",\"2018-08-19T22:00:00\",\"2018-08-19T23:00:00\",\"2018-08-20T00:00:00\",\"2018-08-20T01:00:00\",\"2018-08-20T02:00:00\",\"2018-08-20T03:00:00\",\"2018-08-20T04:00:00\",\"2018-08-20T05:00:00\",\"2018-08-20T06:00:00\",\"2018-08-20T07:00:00\",\"2018-08-20T08:00:00\",\"2018-08-20T09:00:00\",\"2018-08-20T10:00:00\",\"2018-08-20T11:00:00\",\"2018-08-20T12:00:00\",\"2018-08-20T13:00:00\",\"2018-08-20T14:00:00\",\"2018-08-20T15:00:00\",\"2018-08-20T16:00:00\",\"2018-08-20T17:00:00\",\"2018-08-20T18:00:00\",\"2018-08-20T19:00:00\",\"2018-08-20T20:00:00\",\"2018-08-20T21:00:00\",\"2018-08-20T22:00:00\",\"2018-08-20T23:00:00\",\"2018-08-21T00:00:00\",\"2018-08-21T01:00:00\",\"2018-08-21T02:00:00\",\"2018-08-21T03:00:00\",\"2018-08-21T04:00:00\",\"2018-08-21T05:00:00\",\"2018-08-21T06:00:00\",\"2018-08-21T07:00:00\",\"2018-08-21T08:00:00\",\"2018-08-21T09:00:00\",\"2018-08-21T10:00:00\",\"2018-08-21T11:00:00\",\"2018-08-21T12:00:00\",\"2018-08-21T13:00:00\",\"2018-08-21T14:00:00\",\"2018-08-21T15:00:00\",\"2018-08-21T16:00:00\",\"2018-08-21T17:00:00\",\"2018-08-21T18:00:00\",\"2018-08-21T19:00:00\",\"2018-08-21T20:00:00\",\"2018-08-21T21:00:00\",\"2018-08-21T22:00:00\",\"2018-08-21T23:00:00\",\"2018-08-22T00:00:00\",\"2018-08-22T01:00:00\",\"2018-08-22T02:00:00\",\"2018-08-22T03:00:00\",\"2018-08-22T04:00:00\",\"2018-08-22T05:00:00\",\"2018-08-22T06:00:00\",\"2018-08-22T07:00:00\",\"2018-08-22T08:00:00\",\"2018-08-22T09:00:00\",\"2018-08-22T10:00:00\",\"2018-08-22T11:00:00\",\"2018-08-22T12:00:00\",\"2018-08-22T13:00:00\",\"2018-08-22T14:00:00\",\"2018-08-22T15:00:00\",\"2018-08-22T16:00:00\",\"2018-08-22T17:00:00\",\"2018-08-22T18:00:00\",\"2018-08-22T19:00:00\",\"2018-08-22T20:00:00\",\"2018-08-22T21:00:00\",\"2018-08-22T22:00:00\",\"2018-08-22T23:00:00\",\"2018-08-23T00:00:00\",\"2018-08-23T01:00:00\",\"2018-08-23T02:00:00\",\"2018-08-23T03:00:00\",\"2018-08-23T04:00:00\",\"2018-08-23T05:00:00\",\"2018-08-23T06:00:00\",\"2018-08-23T07:00:00\",\"2018-08-23T08:00:00\",\"2018-08-23T09:00:00\",\"2018-08-23T10:00:00\",\"2018-08-23T11:00:00\",\"2018-08-23T12:00:00\",\"2018-08-23T13:00:00\",\"2018-08-23T14:00:00\",\"2018-08-23T15:00:00\",\"2018-08-23T16:00:00\",\"2018-08-23T17:00:00\",\"2018-08-23T18:00:00\",\"2018-08-23T19:00:00\",\"2018-08-23T20:00:00\",\"2018-08-23T21:00:00\",\"2018-08-23T22:00:00\",\"2018-08-23T23:00:00\",\"2018-08-24T00:00:00\",\"2018-08-24T01:00:00\",\"2018-08-24T02:00:00\",\"2018-08-24T03:00:00\",\"2018-08-24T04:00:00\",\"2018-08-24T05:00:00\",\"2018-08-24T06:00:00\",\"2018-08-24T07:00:00\",\"2018-08-24T08:00:00\",\"2018-08-24T09:00:00\",\"2018-08-24T10:00:00\",\"2018-08-24T11:00:00\",\"2018-08-24T12:00:00\",\"2018-08-24T13:00:00\",\"2018-08-24T14:00:00\",\"2018-08-24T15:00:00\",\"2018-08-24T16:00:00\",\"2018-08-24T17:00:00\",\"2018-08-24T18:00:00\",\"2018-08-24T19:00:00\",\"2018-08-24T20:00:00\",\"2018-08-24T21:00:00\",\"2018-08-24T22:00:00\",\"2018-08-24T23:00:00\",\"2018-08-25T00:00:00\",\"2018-08-25T01:00:00\",\"2018-08-25T02:00:00\",\"2018-08-25T03:00:00\",\"2018-08-25T04:00:00\",\"2018-08-25T05:00:00\",\"2018-08-25T06:00:00\",\"2018-08-25T07:00:00\",\"2018-08-25T08:00:00\",\"2018-08-25T09:00:00\",\"2018-08-25T10:00:00\",\"2018-08-25T11:00:00\",\"2018-08-25T12:00:00\",\"2018-08-25T13:00:00\",\"2018-08-25T14:00:00\",\"2018-08-25T15:00:00\",\"2018-08-25T16:00:00\",\"2018-08-25T17:00:00\",\"2018-08-25T18:00:00\",\"2018-08-25T19:00:00\",\"2018-08-25T20:00:00\",\"2018-08-25T21:00:00\",\"2018-08-25T22:00:00\",\"2018-08-25T23:00:00\",\"2018-08-26T00:00:00\",\"2018-08-26T01:00:00\",\"2018-08-26T02:00:00\",\"2018-08-26T03:00:00\",\"2018-08-26T04:00:00\",\"2018-08-26T05:00:00\",\"2018-08-26T06:00:00\",\"2018-08-26T07:00:00\",\"2018-08-26T08:00:00\",\"2018-08-26T09:00:00\",\"2018-08-26T10:00:00\",\"2018-08-26T11:00:00\",\"2018-08-26T12:00:00\",\"2018-08-26T13:00:00\",\"2018-08-26T14:00:00\",\"2018-08-26T15:00:00\",\"2018-08-26T16:00:00\",\"2018-08-26T17:00:00\",\"2018-08-26T18:00:00\",\"2018-08-26T19:00:00\",\"2018-08-26T20:00:00\",\"2018-08-26T21:00:00\",\"2018-08-26T22:00:00\",\"2018-08-26T23:00:00\",\"2018-08-27T00:00:00\",\"2018-08-27T01:00:00\",\"2018-08-27T02:00:00\",\"2018-08-27T03:00:00\",\"2018-08-27T04:00:00\",\"2018-08-27T05:00:00\",\"2018-08-27T06:00:00\",\"2018-08-27T07:00:00\",\"2018-08-27T08:00:00\",\"2018-08-27T09:00:00\",\"2018-08-27T10:00:00\",\"2018-08-27T11:00:00\",\"2018-08-27T12:00:00\",\"2018-08-27T13:00:00\",\"2018-08-27T14:00:00\",\"2018-08-27T15:00:00\",\"2018-08-27T16:00:00\",\"2018-08-27T17:00:00\",\"2018-08-27T18:00:00\",\"2018-08-27T19:00:00\",\"2018-08-27T20:00:00\",\"2018-08-27T21:00:00\",\"2018-08-27T22:00:00\",\"2018-08-27T23:00:00\",\"2018-08-28T00:00:00\",\"2018-08-28T01:00:00\",\"2018-08-28T02:00:00\",\"2018-08-28T03:00:00\",\"2018-08-28T04:00:00\",\"2018-08-28T05:00:00\",\"2018-08-28T06:00:00\",\"2018-08-28T07:00:00\",\"2018-08-28T08:00:00\",\"2018-08-28T09:00:00\",\"2018-08-28T10:00:00\",\"2018-08-28T11:00:00\",\"2018-08-28T12:00:00\",\"2018-08-28T13:00:00\",\"2018-08-28T14:00:00\",\"2018-08-28T15:00:00\",\"2018-08-28T16:00:00\",\"2018-08-28T17:00:00\",\"2018-08-28T18:00:00\",\"2018-08-28T19:00:00\",\"2018-08-28T20:00:00\",\"2018-08-28T21:00:00\",\"2018-08-28T22:00:00\",\"2018-08-28T23:00:00\",\"2018-08-29T00:00:00\",\"2018-08-29T01:00:00\",\"2018-08-29T02:00:00\",\"2018-08-29T03:00:00\",\"2018-08-29T04:00:00\",\"2018-08-29T05:00:00\",\"2018-08-29T06:00:00\",\"2018-08-29T07:00:00\",\"2018-08-29T08:00:00\",\"2018-08-29T09:00:00\",\"2018-08-29T10:00:00\",\"2018-08-29T11:00:00\",\"2018-08-29T12:00:00\",\"2018-08-29T13:00:00\",\"2018-08-29T14:00:00\",\"2018-08-29T15:00:00\",\"2018-08-29T16:00:00\",\"2018-08-29T17:00:00\",\"2018-08-29T18:00:00\",\"2018-08-29T19:00:00\",\"2018-08-29T20:00:00\",\"2018-08-29T21:00:00\",\"2018-08-29T22:00:00\",\"2018-08-29T23:00:00\",\"2018-08-30T00:00:00\",\"2018-08-30T01:00:00\",\"2018-08-30T02:00:00\",\"2018-08-30T03:00:00\",\"2018-08-30T04:00:00\",\"2018-08-30T05:00:00\",\"2018-08-30T06:00:00\",\"2018-08-30T07:00:00\",\"2018-08-30T08:00:00\",\"2018-08-30T09:00:00\",\"2018-08-30T10:00:00\",\"2018-08-30T11:00:00\",\"2018-08-30T12:00:00\",\"2018-08-30T13:00:00\",\"2018-08-30T14:00:00\",\"2018-08-30T15:00:00\",\"2018-08-30T16:00:00\",\"2018-08-30T17:00:00\",\"2018-08-30T18:00:00\",\"2018-08-30T19:00:00\",\"2018-08-30T20:00:00\",\"2018-08-30T21:00:00\",\"2018-08-30T22:00:00\",\"2018-08-30T23:00:00\",\"2018-08-31T00:00:00\",\"2018-08-31T01:00:00\",\"2018-08-31T02:00:00\",\"2018-08-31T03:00:00\",\"2018-08-31T04:00:00\",\"2018-08-31T05:00:00\",\"2018-08-31T06:00:00\",\"2018-08-31T07:00:00\",\"2018-08-31T08:00:00\",\"2018-08-31T09:00:00\",\"2018-08-31T10:00:00\",\"2018-08-31T11:00:00\",\"2018-08-31T12:00:00\",\"2018-08-31T13:00:00\",\"2018-08-31T14:00:00\",\"2018-08-31T15:00:00\",\"2018-08-31T16:00:00\",\"2018-08-31T17:00:00\",\"2018-08-31T18:00:00\",\"2018-08-31T19:00:00\",\"2018-08-31T20:00:00\",\"2018-08-31T21:00:00\",\"2018-08-31T22:00:00\",\"2018-08-31T23:00:00\"],\"y\":[144,152,104,91,82,160,104,134,139,231,108,190,139,47,45,54,91,135,155,162,114,64,112,116,111,152,98,109,84,119,81,212,211,98,157,102,137,85,36,28,92,131,166,120,90,90,107,103,219,165,96,129,125,214,123,119,202,185,187,166,185,121,35,32,120,145,161,113,121,69,64,110,190,191,111,103,89,121,143,123,213,173,195,141,202,78,43,69,103,123,160,115,97,118,126,104,204,165,139,84,126,144,167,155,281,216,254,194,104,96,55,41,108,178,117,115,86,44,113,146,129,107,71,114,88,118,94,164,179,93,134,169,143,73,26,49,79,127,90,67,117,134,113,167,147,210,73,114,116,93,121,167,200,272,462,224,273,118,47,44,94,122,146,152,91,122,112,223,172,111,122,152,77,153,170,167,173,239,142,219,216,48,64,45,91,113,141,140,108,68,121,125,128,161,94,105,93,160,105,178,240,112,197,154,127,76,80,68,96,136,109,114,69,119,145,92,174,184,116,121,130,137,115,124,188,198,203,205,133,70,36,38,113,135,150,124,143,88,112,122,180,187,160,82,95,182,130,170,247,174,154,103,93,19,68,38,95,170,205,151,118,144,88,117,188,170,137,113,179,166,242,173,273,246,160,187,196,118,74,22,108,196,126,103,114,63,130,150,182,158,123,123,105,162,155,174,281,156,148,267,114,40,33,50,124,147,136,96,151,89,164,142,143,169,127,126,122,107,145,238,263,222,408,208,295,62,31,37,131,174,170,164,125,137,126,195,165,182,111,152,96,152,173,157,192,133,133,157,106,55,65,71,159,195,183,141,131,113,134,184,148,211,113,111,94,189,160,179,234,152,163,126,136,55,36,60,163,143,183,179,167,135,196,163,220,159,120,169,191,170,177,265,216,217,232,193,186,56,13,39,166,226,227,156,173,154,91,156,254,342,177,72,142,198,158,246,276,194,230,99,268,78,35,46,182,203,191,167,136,166,133,116,197,217,207,136,154,159,223,205],\"type\":\"scatter\"},{\"name\":\"Predicted\",\"x\":[\"2018-08-13T16:00:00\",\"2018-08-13T17:00:00\",\"2018-08-13T18:00:00\",\"2018-08-13T19:00:00\",\"2018-08-13T20:00:00\",\"2018-08-13T21:00:00\",\"2018-08-13T22:00:00\",\"2018-08-13T23:00:00\",\"2018-08-14T00:00:00\",\"2018-08-14T01:00:00\",\"2018-08-14T02:00:00\",\"2018-08-14T03:00:00\",\"2018-08-14T04:00:00\",\"2018-08-14T05:00:00\",\"2018-08-14T06:00:00\",\"2018-08-14T07:00:00\",\"2018-08-14T08:00:00\",\"2018-08-14T09:00:00\",\"2018-08-14T10:00:00\",\"2018-08-14T11:00:00\",\"2018-08-14T12:00:00\",\"2018-08-14T13:00:00\",\"2018-08-14T14:00:00\",\"2018-08-14T15:00:00\",\"2018-08-14T16:00:00\",\"2018-08-14T17:00:00\",\"2018-08-14T18:00:00\",\"2018-08-14T19:00:00\",\"2018-08-14T20:00:00\",\"2018-08-14T21:00:00\",\"2018-08-14T22:00:00\",\"2018-08-14T23:00:00\",\"2018-08-15T00:00:00\",\"2018-08-15T01:00:00\",\"2018-08-15T02:00:00\",\"2018-08-15T03:00:00\",\"2018-08-15T04:00:00\",\"2018-08-15T05:00:00\",\"2018-08-15T06:00:00\",\"2018-08-15T07:00:00\",\"2018-08-15T08:00:00\",\"2018-08-15T09:00:00\",\"2018-08-15T10:00:00\",\"2018-08-15T11:00:00\",\"2018-08-15T12:00:00\",\"2018-08-15T13:00:00\",\"2018-08-15T14:00:00\",\"2018-08-15T15:00:00\",\"2018-08-15T16:00:00\",\"2018-08-15T17:00:00\",\"2018-08-15T18:00:00\",\"2018-08-15T19:00:00\",\"2018-08-15T20:00:00\",\"2018-08-15T21:00:00\",\"2018-08-15T22:00:00\",\"2018-08-15T23:00:00\",\"2018-08-16T00:00:00\",\"2018-08-16T01:00:00\",\"2018-08-16T02:00:00\",\"2018-08-16T03:00:00\",\"2018-08-16T04:00:00\",\"2018-08-16T05:00:00\",\"2018-08-16T06:00:00\",\"2018-08-16T07:00:00\",\"2018-08-16T08:00:00\",\"2018-08-16T09:00:00\",\"2018-08-16T10:00:00\",\"2018-08-16T11:00:00\",\"2018-08-16T12:00:00\",\"2018-08-16T13:00:00\",\"2018-08-16T14:00:00\",\"2018-08-16T15:00:00\",\"2018-08-16T16:00:00\",\"2018-08-16T17:00:00\",\"2018-08-16T18:00:00\",\"2018-08-16T19:00:00\",\"2018-08-16T20:00:00\",\"2018-08-16T21:00:00\",\"2018-08-16T22:00:00\",\"2018-08-16T23:00:00\",\"2018-08-17T00:00:00\",\"2018-08-17T01:00:00\",\"2018-08-17T02:00:00\",\"2018-08-17T03:00:00\",\"2018-08-17T04:00:00\",\"2018-08-17T05:00:00\",\"2018-08-17T06:00:00\",\"2018-08-17T07:00:00\",\"2018-08-17T08:00:00\",\"2018-08-17T09:00:00\",\"2018-08-17T10:00:00\",\"2018-08-17T11:00:00\",\"2018-08-17T12:00:00\",\"2018-08-17T13:00:00\",\"2018-08-17T14:00:00\",\"2018-08-17T15:00:00\",\"2018-08-17T16:00:00\",\"2018-08-17T17:00:00\",\"2018-08-17T18:00:00\",\"2018-08-17T19:00:00\",\"2018-08-17T20:00:00\",\"2018-08-17T21:00:00\",\"2018-08-17T22:00:00\",\"2018-08-17T23:00:00\",\"2018-08-18T00:00:00\",\"2018-08-18T01:00:00\",\"2018-08-18T02:00:00\",\"2018-08-18T03:00:00\",\"2018-08-18T04:00:00\",\"2018-08-18T05:00:00\",\"2018-08-18T06:00:00\",\"2018-08-18T07:00:00\",\"2018-08-18T08:00:00\",\"2018-08-18T09:00:00\",\"2018-08-18T10:00:00\",\"2018-08-18T11:00:00\",\"2018-08-18T12:00:00\",\"2018-08-18T13:00:00\",\"2018-08-18T14:00:00\",\"2018-08-18T15:00:00\",\"2018-08-18T16:00:00\",\"2018-08-18T17:00:00\",\"2018-08-18T18:00:00\",\"2018-08-18T19:00:00\",\"2018-08-18T20:00:00\",\"2018-08-18T21:00:00\",\"2018-08-18T22:00:00\",\"2018-08-18T23:00:00\",\"2018-08-19T00:00:00\",\"2018-08-19T01:00:00\",\"2018-08-19T02:00:00\",\"2018-08-19T03:00:00\",\"2018-08-19T04:00:00\",\"2018-08-19T05:00:00\",\"2018-08-19T06:00:00\",\"2018-08-19T07:00:00\",\"2018-08-19T08:00:00\",\"2018-08-19T09:00:00\",\"2018-08-19T10:00:00\",\"2018-08-19T11:00:00\",\"2018-08-19T12:00:00\",\"2018-08-19T13:00:00\",\"2018-08-19T14:00:00\",\"2018-08-19T15:00:00\",\"2018-08-19T16:00:00\",\"2018-08-19T17:00:00\",\"2018-08-19T18:00:00\",\"2018-08-19T19:00:00\",\"2018-08-19T20:00:00\",\"2018-08-19T21:00:00\",\"2018-08-19T22:00:00\",\"2018-08-19T23:00:00\",\"2018-08-20T00:00:00\",\"2018-08-20T01:00:00\",\"2018-08-20T02:00:00\",\"2018-08-20T03:00:00\",\"2018-08-20T04:00:00\",\"2018-08-20T05:00:00\",\"2018-08-20T06:00:00\",\"2018-08-20T07:00:00\",\"2018-08-20T08:00:00\",\"2018-08-20T09:00:00\",\"2018-08-20T10:00:00\",\"2018-08-20T11:00:00\",\"2018-08-20T12:00:00\",\"2018-08-20T13:00:00\",\"2018-08-20T14:00:00\",\"2018-08-20T15:00:00\",\"2018-08-20T16:00:00\",\"2018-08-20T17:00:00\",\"2018-08-20T18:00:00\",\"2018-08-20T19:00:00\",\"2018-08-20T20:00:00\",\"2018-08-20T21:00:00\",\"2018-08-20T22:00:00\",\"2018-08-20T23:00:00\",\"2018-08-21T00:00:00\",\"2018-08-21T01:00:00\",\"2018-08-21T02:00:00\",\"2018-08-21T03:00:00\",\"2018-08-21T04:00:00\",\"2018-08-21T05:00:00\",\"2018-08-21T06:00:00\",\"2018-08-21T07:00:00\",\"2018-08-21T08:00:00\",\"2018-08-21T09:00:00\",\"2018-08-21T10:00:00\",\"2018-08-21T11:00:00\",\"2018-08-21T12:00:00\",\"2018-08-21T13:00:00\",\"2018-08-21T14:00:00\",\"2018-08-21T15:00:00\",\"2018-08-21T16:00:00\",\"2018-08-21T17:00:00\",\"2018-08-21T18:00:00\",\"2018-08-21T19:00:00\",\"2018-08-21T20:00:00\",\"2018-08-21T21:00:00\",\"2018-08-21T22:00:00\",\"2018-08-21T23:00:00\",\"2018-08-22T00:00:00\",\"2018-08-22T01:00:00\",\"2018-08-22T02:00:00\",\"2018-08-22T03:00:00\",\"2018-08-22T04:00:00\",\"2018-08-22T05:00:00\",\"2018-08-22T06:00:00\",\"2018-08-22T07:00:00\",\"2018-08-22T08:00:00\",\"2018-08-22T09:00:00\",\"2018-08-22T10:00:00\",\"2018-08-22T11:00:00\",\"2018-08-22T12:00:00\",\"2018-08-22T13:00:00\",\"2018-08-22T14:00:00\",\"2018-08-22T15:00:00\",\"2018-08-22T16:00:00\",\"2018-08-22T17:00:00\",\"2018-08-22T18:00:00\",\"2018-08-22T19:00:00\",\"2018-08-22T20:00:00\",\"2018-08-22T21:00:00\",\"2018-08-22T22:00:00\",\"2018-08-22T23:00:00\",\"2018-08-23T00:00:00\",\"2018-08-23T01:00:00\",\"2018-08-23T02:00:00\",\"2018-08-23T03:00:00\",\"2018-08-23T04:00:00\",\"2018-08-23T05:00:00\",\"2018-08-23T06:00:00\",\"2018-08-23T07:00:00\",\"2018-08-23T08:00:00\",\"2018-08-23T09:00:00\",\"2018-08-23T10:00:00\",\"2018-08-23T11:00:00\",\"2018-08-23T12:00:00\",\"2018-08-23T13:00:00\",\"2018-08-23T14:00:00\",\"2018-08-23T15:00:00\",\"2018-08-23T16:00:00\",\"2018-08-23T17:00:00\",\"2018-08-23T18:00:00\",\"2018-08-23T19:00:00\",\"2018-08-23T20:00:00\",\"2018-08-23T21:00:00\",\"2018-08-23T22:00:00\",\"2018-08-23T23:00:00\",\"2018-08-24T00:00:00\",\"2018-08-24T01:00:00\",\"2018-08-24T02:00:00\",\"2018-08-24T03:00:00\",\"2018-08-24T04:00:00\",\"2018-08-24T05:00:00\",\"2018-08-24T06:00:00\",\"2018-08-24T07:00:00\",\"2018-08-24T08:00:00\",\"2018-08-24T09:00:00\",\"2018-08-24T10:00:00\",\"2018-08-24T11:00:00\",\"2018-08-24T12:00:00\",\"2018-08-24T13:00:00\",\"2018-08-24T14:00:00\",\"2018-08-24T15:00:00\",\"2018-08-24T16:00:00\",\"2018-08-24T17:00:00\",\"2018-08-24T18:00:00\",\"2018-08-24T19:00:00\",\"2018-08-24T20:00:00\",\"2018-08-24T21:00:00\",\"2018-08-24T22:00:00\",\"2018-08-24T23:00:00\",\"2018-08-25T00:00:00\",\"2018-08-25T01:00:00\",\"2018-08-25T02:00:00\",\"2018-08-25T03:00:00\",\"2018-08-25T04:00:00\",\"2018-08-25T05:00:00\",\"2018-08-25T06:00:00\",\"2018-08-25T07:00:00\",\"2018-08-25T08:00:00\",\"2018-08-25T09:00:00\",\"2018-08-25T10:00:00\",\"2018-08-25T11:00:00\",\"2018-08-25T12:00:00\",\"2018-08-25T13:00:00\",\"2018-08-25T14:00:00\",\"2018-08-25T15:00:00\",\"2018-08-25T16:00:00\",\"2018-08-25T17:00:00\",\"2018-08-25T18:00:00\",\"2018-08-25T19:00:00\",\"2018-08-25T20:00:00\",\"2018-08-25T21:00:00\",\"2018-08-25T22:00:00\",\"2018-08-25T23:00:00\",\"2018-08-26T00:00:00\",\"2018-08-26T01:00:00\",\"2018-08-26T02:00:00\",\"2018-08-26T03:00:00\",\"2018-08-26T04:00:00\",\"2018-08-26T05:00:00\",\"2018-08-26T06:00:00\",\"2018-08-26T07:00:00\",\"2018-08-26T08:00:00\",\"2018-08-26T09:00:00\",\"2018-08-26T10:00:00\",\"2018-08-26T11:00:00\",\"2018-08-26T12:00:00\",\"2018-08-26T13:00:00\",\"2018-08-26T14:00:00\",\"2018-08-26T15:00:00\",\"2018-08-26T16:00:00\",\"2018-08-26T17:00:00\",\"2018-08-26T18:00:00\",\"2018-08-26T19:00:00\",\"2018-08-26T20:00:00\",\"2018-08-26T21:00:00\",\"2018-08-26T22:00:00\",\"2018-08-26T23:00:00\",\"2018-08-27T00:00:00\",\"2018-08-27T01:00:00\",\"2018-08-27T02:00:00\",\"2018-08-27T03:00:00\",\"2018-08-27T04:00:00\",\"2018-08-27T05:00:00\",\"2018-08-27T06:00:00\",\"2018-08-27T07:00:00\",\"2018-08-27T08:00:00\",\"2018-08-27T09:00:00\",\"2018-08-27T10:00:00\",\"2018-08-27T11:00:00\",\"2018-08-27T12:00:00\",\"2018-08-27T13:00:00\",\"2018-08-27T14:00:00\",\"2018-08-27T15:00:00\",\"2018-08-27T16:00:00\",\"2018-08-27T17:00:00\",\"2018-08-27T18:00:00\",\"2018-08-27T19:00:00\",\"2018-08-27T20:00:00\",\"2018-08-27T21:00:00\",\"2018-08-27T22:00:00\",\"2018-08-27T23:00:00\",\"2018-08-28T00:00:00\",\"2018-08-28T01:00:00\",\"2018-08-28T02:00:00\",\"2018-08-28T03:00:00\",\"2018-08-28T04:00:00\",\"2018-08-28T05:00:00\",\"2018-08-28T06:00:00\",\"2018-08-28T07:00:00\",\"2018-08-28T08:00:00\",\"2018-08-28T09:00:00\",\"2018-08-28T10:00:00\",\"2018-08-28T11:00:00\",\"2018-08-28T12:00:00\",\"2018-08-28T13:00:00\",\"2018-08-28T14:00:00\",\"2018-08-28T15:00:00\",\"2018-08-28T16:00:00\",\"2018-08-28T17:00:00\",\"2018-08-28T18:00:00\",\"2018-08-28T19:00:00\",\"2018-08-28T20:00:00\",\"2018-08-28T21:00:00\",\"2018-08-28T22:00:00\",\"2018-08-28T23:00:00\",\"2018-08-29T00:00:00\",\"2018-08-29T01:00:00\",\"2018-08-29T02:00:00\",\"2018-08-29T03:00:00\",\"2018-08-29T04:00:00\",\"2018-08-29T05:00:00\",\"2018-08-29T06:00:00\",\"2018-08-29T07:00:00\",\"2018-08-29T08:00:00\",\"2018-08-29T09:00:00\",\"2018-08-29T10:00:00\",\"2018-08-29T11:00:00\",\"2018-08-29T12:00:00\",\"2018-08-29T13:00:00\",\"2018-08-29T14:00:00\",\"2018-08-29T15:00:00\",\"2018-08-29T16:00:00\",\"2018-08-29T17:00:00\",\"2018-08-29T18:00:00\",\"2018-08-29T19:00:00\",\"2018-08-29T20:00:00\",\"2018-08-29T21:00:00\",\"2018-08-29T22:00:00\",\"2018-08-29T23:00:00\",\"2018-08-30T00:00:00\",\"2018-08-30T01:00:00\",\"2018-08-30T02:00:00\",\"2018-08-30T03:00:00\",\"2018-08-30T04:00:00\",\"2018-08-30T05:00:00\",\"2018-08-30T06:00:00\",\"2018-08-30T07:00:00\",\"2018-08-30T08:00:00\",\"2018-08-30T09:00:00\",\"2018-08-30T10:00:00\",\"2018-08-30T11:00:00\",\"2018-08-30T12:00:00\",\"2018-08-30T13:00:00\",\"2018-08-30T14:00:00\",\"2018-08-30T15:00:00\",\"2018-08-30T16:00:00\",\"2018-08-30T17:00:00\",\"2018-08-30T18:00:00\",\"2018-08-30T19:00:00\",\"2018-08-30T20:00:00\",\"2018-08-30T21:00:00\",\"2018-08-30T22:00:00\",\"2018-08-30T23:00:00\",\"2018-08-31T00:00:00\",\"2018-08-31T01:00:00\",\"2018-08-31T02:00:00\",\"2018-08-31T03:00:00\",\"2018-08-31T04:00:00\",\"2018-08-31T05:00:00\",\"2018-08-31T06:00:00\",\"2018-08-31T07:00:00\",\"2018-08-31T08:00:00\",\"2018-08-31T09:00:00\",\"2018-08-31T10:00:00\",\"2018-08-31T11:00:00\",\"2018-08-31T12:00:00\",\"2018-08-31T13:00:00\",\"2018-08-31T14:00:00\",\"2018-08-31T15:00:00\",\"2018-08-31T16:00:00\",\"2018-08-31T17:00:00\",\"2018-08-31T18:00:00\",\"2018-08-31T19:00:00\",\"2018-08-31T20:00:00\",\"2018-08-31T21:00:00\",\"2018-08-31T22:00:00\",\"2018-08-31T23:00:00\"],\"y\":[157.86320530711194,153.62056561372486,109.8244882798554,115.2936313827411,105.36033832160568,119.22719118449874,128.8203025569593,158.64647123546717,161.12980788523066,145.7401628786452,186.96959219083507,154.59023556018684,141.39615181998386,89.8862484154129,63.3961350178885,49.37077001013048,98.75876520414201,120.26164066190151,129.28204386822242,133.50434601629013,102.51228746546718,97.59153063444688,100.87761337043366,120.90594786646648,135.07487281879435,144.23330491571733,107.54573661021823,101.89336499266236,115.68948911644175,108.97176223414003,124.60840101546779,139.97414501169112,160.3850948709111,164.94002622695922,169.10822573624694,120.98988519063818,128.34183620234177,63.85511703653566,60.74233449024561,60.91306017791562,84.00475139538345,127.52826532448816,121.26781903004546,100.51080484043534,104.22578907686659,92.43918498787768,86.28573111604902,110.20084986075327,159.97196845556118,147.41568068067593,102.02908017644211,126.20124929672338,114.19897988159096,133.65464420334092,128.45350043685733,166.5947870668185,174.51388461003705,118.3173293583155,183.2266961322105,179.33319119574787,146.83927870963774,77.74957191584181,42.9102845833296,49.98875856317375,83.16948572043,139.62201548902436,140.52810187231648,123.13956347377744,94.04582850791931,86.25422082633656,99.42080885048566,111.82727803090185,152.9089885444069,152.5811376663932,89.38311224387651,100.8000091076291,106.29974100448194,123.25269372067095,122.44736186832267,127.10339619991915,187.6502107271774,146.42744535562372,172.0320565889893,171.40319020936957,138.90138976148182,97.50081441102749,52.66445356451182,53.55316047148729,122.05269378741735,138.13739845069392,121.10430019902662,115.7553806226293,106.69608329435958,84.45991444427496,101.31791532754241,144.0068407297585,160.38871711018686,137.8644711619308,105.54718894877249,127.43080742325111,116.62050327283322,128.36730996571984,152.50817710571815,167.61435869025308,196.80075773911375,253.3634175531578,187.87511225449373,199.42792435275823,151.85053946512403,78.53076349319126,55.96466349795783,62.51531253824721,99.15706629435797,121.25521288516467,124.44814772944126,120.29320970801416,77.4913373697869,88.43741186927565,96.6088327987842,135.0992521209131,183.37838248903785,140.4434258512126,94.9740150422485,96.33423688999468,98.24653878270578,119.74148258088542,120.38872777795001,143.45053690972497,149.78242150365242,159.12092179063168,157.2144277764694,134.04259693115932,127.77086489652532,89.78699076398642,60.04492369493904,45.55519004847365,88.93353488594144,105.14603449421486,102.75365176984738,99.94535171990891,101.86024974154053,79.74774752351887,123.92194720338705,140.61857441324764,146.83906568037295,122.78915249273786,77.44988073634909,86.28586848758913,99.31965980870251,127.2969637570437,119.6203949433549,154.24257626574948,192.70423805796278,167.3048173620925,284.6137579697903,229.33012765987044,148.2872785603359,116.37845825757265,81.23166791932165,76.37405755812873,85.56678363651264,129.97142738459894,143.2627492139246,116.18463586810412,127.24422290380366,110.8259475995622,93.35875311847299,152.24488272665212,154.72674149890798,175.225343652157,110.87400018593021,112.45178362195247,124.26697130957179,125.78143483731338,136.26468582307058,183.79775124929523,153.48765683924228,198.6543230722004,198.04562139743172,181.05156862692968,152.70454163234416,125.38514381561623,65.35492935194367,68.14238757343321,95.19646099254376,123.51515460422044,127.52664188080846,126.59272916998188,90.16822908362519,91.42502703101162,99.9748218218734,140.83253632666552,135.7222158463165,134.78727591868426,108.46577757536306,106.22160492165825,110.00559979083309,111.95119366383929,134.37802792100604,162.6967837049595,184.5346641655636,179.73676029411155,182.48727367468518,121.60231016350971,154.75957822512467,61.79659060287918,56.31498706130394,65.1409453019951,92.53021255390578,129.76402580018123,142.41955418844412,115.48646373141571,88.54378655332094,95.8464208159132,116.86400840619304,127.38876536096961,164.9049017121734,129.12032024731568,95.84018946691495,131.83299725260568,108.96232511936543,139.2094016161104,142.40594629258518,139.4526066231236,149.45421677721856,141.90255125561086,179.01978184673612,163.48074516681385,146.53656213391184,91.7768234466915,79.07591494681328,57.06624269222053,92.95342127711011,133.62399894825077,140.9212808143425,99.6482860844408,95.57687112827696,93.94354825539298,107.91928396232032,115.26007063013239,162.74263671254462,139.51503946037047,108.21942148050368,123.69659897999057,135.0855044073703,118.55148021943138,136.87007872731442,171.70438063612278,199.244588574636,200.71964345952262,188.25940953792102,147.02372082960233,141.29856091629597,72.95863174044861,44.04763226418707,55.84933956134408,110.56819049813468,120.89308485614437,124.84162923879524,113.86123831135427,95.36093502456065,109.03413474148778,119.06666820146616,138.2265371402602,167.62357714546698,148.22747986258128,116.23213651089105,137.75360389396815,134.0543517604851,138.65556208815985,194.8482458314432,202.0825571726524,219.14655173177567,268.9438429655903,187.79841362490487,150.74861561612755,103.8393599539892,79.44708723434645,73.16386295696115,63.23047927485614,98.07549339782112,136.0033173402026,138.45724304738718,139.41393408307607,94.71422995504271,95.8569385379459,112.27875364574129,143.4698095657517,170.5393991617188,171.53912631185926,106.61621643100865,117.11197752495052,126.8267484133724,126.94793704082315,141.92683997427375,172.70278960572958,181.87839170945597,223.40837866031472,182.7425032303325,165.24342884802266,216.32552765054143,125.67455083899688,36.70640153208891,50.65510474659964,107.83795635401216,127.72142910655636,116.01887781930658,104.40558585987807,76.75287963336561,102.87948250729848,147.5774127462123,161.86317831856178,179.4180484421965,132.56839555034094,95.06737511805787,129.69588516635392,128.82805815694502,152.87121137761176,162.25543469880125,162.0122370871385,212.1063827853805,205.71599491768288,202.08467483923135,228.4171888911976,126.37344242632214,109.82632591627745,69.6047712030514,73.36601511389703,119.66253543047961,140.41449440523078,157.83925153106736,117.38313521805044,113.06629922282254,123.11595652338833,104.15269622286645,172.69548578755996,180.3099591280975,151.75732802737718,138.73596741208547,130.92740610233142,146.14174758682515,167.38609389817714,139.13584893550416,196.7844058176273,194.24653498396557,202.2082485904689,193.57310085806944,145.268855310752,133.77480390218957,74.00576335652003,56.91991226064925,80.68306360052705,120.55927946419756,124.56342831561247,147.61692983411126,136.1690630271942,127.96765673796402,141.4416250923125,123.95238000284226,142.72578374266328,150.80589353075183,141.59084627073761,124.64892542152222,145.72081429799977,134.72428055214792,142.0937460648761,151.88748702538678,165.97177925154068,190.09128330829378,176.20310694699515,183.261276941745,147.7015051643982,113.79551941496078,76.29951523362517,62.880306814276665,95.52216361255708,116.9398746553241,145.9320203707605,149.18255152844074,114.95138104783273,115.51453769630898,131.40065850548808,157.35098554916817,163.37565228676084,177.84623846433863,146.86200845689467,108.19742122544957,139.49547542138146,125.85056465635508,167.329089247211,185.38886528430123,181.85413786528045,260.3491995885138,187.04710549528957,202.8555133877398,184.91324129028467,137.8582323610446,74.35001236567769,68.37950400367897,80.68588778101577,109.77813718279619,154.78587942149102,176.80771803442877,131.82371912355475,133.66405391454919,155.81254136644046,149.86700421734145,174.87560645538196,163.3583328802295,160.07493857990323,156.64578657116704,147.3606665410283,147.34557000873886,163.74822085941503,144.09054930351482,193.61198950326417,224.1212400639072,249.98100330701052,209.22677418467862,174.02716387506283,145.89469387722636,98.94922060316804,64.55678499751345,77.14029277930575,134.74654466903823,161.27965333403296,176.14054588319027,132.2228934091887,131.76669468135628,131.50265818280207,128.68434130301216,174.36384413717713,173.4750426826592,140.83500924452576,146.5447442684669,130.1166035829914,159.82803579468398,187.97284294316677,166.48166038132592,194.70855697695276],\"type\":\"scatter\"}],                        {\"template\":{\"data\":{\"bar\":[{\"error_x\":{\"color\":\"#2a3f5f\"},\"error_y\":{\"color\":\"#2a3f5f\"},\"marker\":{\"line\":{\"color\":\"#E5ECF6\",\"width\":0.5},\"pattern\":{\"fillmode\":\"overlay\",\"size\":10,\"solidity\":0.2}},\"type\":\"bar\"}],\"barpolar\":[{\"marker\":{\"line\":{\"color\":\"#E5ECF6\",\"width\":0.5},\"pattern\":{\"fillmode\":\"overlay\",\"size\":10,\"solidity\":0.2}},\"type\":\"barpolar\"}],\"carpet\":[{\"aaxis\":{\"endlinecolor\":\"#2a3f5f\",\"gridcolor\":\"white\",\"linecolor\":\"white\",\"minorgridcolor\":\"white\",\"startlinecolor\":\"#2a3f5f\"},\"baxis\":{\"endlinecolor\":\"#2a3f5f\",\"gridcolor\":\"white\",\"linecolor\":\"white\",\"minorgridcolor\":\"white\",\"startlinecolor\":\"#2a3f5f\"},\"type\":\"carpet\"}],\"choropleth\":[{\"colorbar\":{\"outlinewidth\":0,\"ticks\":\"\"},\"type\":\"choropleth\"}],\"contour\":[{\"colorbar\":{\"outlinewidth\":0,\"ticks\":\"\"},\"colorscale\":[[0.0,\"#0d0887\"],[0.1111111111111111,\"#46039f\"],[0.2222222222222222,\"#7201a8\"],[0.3333333333333333,\"#9c179e\"],[0.4444444444444444,\"#bd3786\"],[0.5555555555555556,\"#d8576b\"],[0.6666666666666666,\"#ed7953\"],[0.7777777777777778,\"#fb9f3a\"],[0.8888888888888888,\"#fdca26\"],[1.0,\"#f0f921\"]],\"type\":\"contour\"}],\"contourcarpet\":[{\"colorbar\":{\"outlinewidth\":0,\"ticks\":\"\"},\"type\":\"contourcarpet\"}],\"heatmap\":[{\"colorbar\":{\"outlinewidth\":0,\"ticks\":\"\"},\"colorscale\":[[0.0,\"#0d0887\"],[0.1111111111111111,\"#46039f\"],[0.2222222222222222,\"#7201a8\"],[0.3333333333333333,\"#9c179e\"],[0.4444444444444444,\"#bd3786\"],[0.5555555555555556,\"#d8576b\"],[0.6666666666666666,\"#ed7953\"],[0.7777777777777778,\"#fb9f3a\"],[0.8888888888888888,\"#fdca26\"],[1.0,\"#f0f921\"]],\"type\":\"heatmap\"}],\"heatmapgl\":[{\"colorbar\":{\"outlinewidth\":0,\"ticks\":\"\"},\"colorscale\":[[0.0,\"#0d0887\"],[0.1111111111111111,\"#46039f\"],[0.2222222222222222,\"#7201a8\"],[0.3333333333333333,\"#9c179e\"],[0.4444444444444444,\"#bd3786\"],[0.5555555555555556,\"#d8576b\"],[0.6666666666666666,\"#ed7953\"],[0.7777777777777778,\"#fb9f3a\"],[0.8888888888888888,\"#fdca26\"],[1.0,\"#f0f921\"]],\"type\":\"heatmapgl\"}],\"histogram\":[{\"marker\":{\"pattern\":{\"fillmode\":\"overlay\",\"size\":10,\"solidity\":0.2}},\"type\":\"histogram\"}],\"histogram2d\":[{\"colorbar\":{\"outlinewidth\":0,\"ticks\":\"\"},\"colorscale\":[[0.0,\"#0d0887\"],[0.1111111111111111,\"#46039f\"],[0.2222222222222222,\"#7201a8\"],[0.3333333333333333,\"#9c179e\"],[0.4444444444444444,\"#bd3786\"],[0.5555555555555556,\"#d8576b\"],[0.6666666666666666,\"#ed7953\"],[0.7777777777777778,\"#fb9f3a\"],[0.8888888888888888,\"#fdca26\"],[1.0,\"#f0f921\"]],\"type\":\"histogram2d\"}],\"histogram2dcontour\":[{\"colorbar\":{\"outlinewidth\":0,\"ticks\":\"\"},\"colorscale\":[[0.0,\"#0d0887\"],[0.1111111111111111,\"#46039f\"],[0.2222222222222222,\"#7201a8\"],[0.3333333333333333,\"#9c179e\"],[0.4444444444444444,\"#bd3786\"],[0.5555555555555556,\"#d8576b\"],[0.6666666666666666,\"#ed7953\"],[0.7777777777777778,\"#fb9f3a\"],[0.8888888888888888,\"#fdca26\"],[1.0,\"#f0f921\"]],\"type\":\"histogram2dcontour\"}],\"mesh3d\":[{\"colorbar\":{\"outlinewidth\":0,\"ticks\":\"\"},\"type\":\"mesh3d\"}],\"parcoords\":[{\"line\":{\"colorbar\":{\"outlinewidth\":0,\"ticks\":\"\"}},\"type\":\"parcoords\"}],\"pie\":[{\"automargin\":true,\"type\":\"pie\"}],\"scatter\":[{\"marker\":{\"colorbar\":{\"outlinewidth\":0,\"ticks\":\"\"}},\"type\":\"scatter\"}],\"scatter3d\":[{\"line\":{\"colorbar\":{\"outlinewidth\":0,\"ticks\":\"\"}},\"marker\":{\"colorbar\":{\"outlinewidth\":0,\"ticks\":\"\"}},\"type\":\"scatter3d\"}],\"scattercarpet\":[{\"marker\":{\"colorbar\":{\"outlinewidth\":0,\"ticks\":\"\"}},\"type\":\"scattercarpet\"}],\"scattergeo\":[{\"marker\":{\"colorbar\":{\"outlinewidth\":0,\"ticks\":\"\"}},\"type\":\"scattergeo\"}],\"scattergl\":[{\"marker\":{\"colorbar\":{\"outlinewidth\":0,\"ticks\":\"\"}},\"type\":\"scattergl\"}],\"scattermapbox\":[{\"marker\":{\"colorbar\":{\"outlinewidth\":0,\"ticks\":\"\"}},\"type\":\"scattermapbox\"}],\"scatterpolar\":[{\"marker\":{\"colorbar\":{\"outlinewidth\":0,\"ticks\":\"\"}},\"type\":\"scatterpolar\"}],\"scatterpolargl\":[{\"marker\":{\"colorbar\":{\"outlinewidth\":0,\"ticks\":\"\"}},\"type\":\"scatterpolargl\"}],\"scatterternary\":[{\"marker\":{\"colorbar\":{\"outlinewidth\":0,\"ticks\":\"\"}},\"type\":\"scatterternary\"}],\"surface\":[{\"colorbar\":{\"outlinewidth\":0,\"ticks\":\"\"},\"colorscale\":[[0.0,\"#0d0887\"],[0.1111111111111111,\"#46039f\"],[0.2222222222222222,\"#7201a8\"],[0.3333333333333333,\"#9c179e\"],[0.4444444444444444,\"#bd3786\"],[0.5555555555555556,\"#d8576b\"],[0.6666666666666666,\"#ed7953\"],[0.7777777777777778,\"#fb9f3a\"],[0.8888888888888888,\"#fdca26\"],[1.0,\"#f0f921\"]],\"type\":\"surface\"}],\"table\":[{\"cells\":{\"fill\":{\"color\":\"#EBF0F8\"},\"line\":{\"color\":\"white\"}},\"header\":{\"fill\":{\"color\":\"#C8D4E3\"},\"line\":{\"color\":\"white\"}},\"type\":\"table\"}]},\"layout\":{\"annotationdefaults\":{\"arrowcolor\":\"#2a3f5f\",\"arrowhead\":0,\"arrowwidth\":1},\"autotypenumbers\":\"strict\",\"coloraxis\":{\"colorbar\":{\"outlinewidth\":0,\"ticks\":\"\"}},\"colorscale\":{\"diverging\":[[0,\"#8e0152\"],[0.1,\"#c51b7d\"],[0.2,\"#de77ae\"],[0.3,\"#f1b6da\"],[0.4,\"#fde0ef\"],[0.5,\"#f7f7f7\"],[0.6,\"#e6f5d0\"],[0.7,\"#b8e186\"],[0.8,\"#7fbc41\"],[0.9,\"#4d9221\"],[1,\"#276419\"]],\"sequential\":[[0.0,\"#0d0887\"],[0.1111111111111111,\"#46039f\"],[0.2222222222222222,\"#7201a8\"],[0.3333333333333333,\"#9c179e\"],[0.4444444444444444,\"#bd3786\"],[0.5555555555555556,\"#d8576b\"],[0.6666666666666666,\"#ed7953\"],[0.7777777777777778,\"#fb9f3a\"],[0.8888888888888888,\"#fdca26\"],[1.0,\"#f0f921\"]],\"sequentialminus\":[[0.0,\"#0d0887\"],[0.1111111111111111,\"#46039f\"],[0.2222222222222222,\"#7201a8\"],[0.3333333333333333,\"#9c179e\"],[0.4444444444444444,\"#bd3786\"],[0.5555555555555556,\"#d8576b\"],[0.6666666666666666,\"#ed7953\"],[0.7777777777777778,\"#fb9f3a\"],[0.8888888888888888,\"#fdca26\"],[1.0,\"#f0f921\"]]},\"colorway\":[\"#636efa\",\"#EF553B\",\"#00cc96\",\"#ab63fa\",\"#FFA15A\",\"#19d3f3\",\"#FF6692\",\"#B6E880\",\"#FF97FF\",\"#FECB52\"],\"font\":{\"color\":\"#2a3f5f\"},\"geo\":{\"bgcolor\":\"white\",\"lakecolor\":\"white\",\"landcolor\":\"#E5ECF6\",\"showlakes\":true,\"showland\":true,\"subunitcolor\":\"white\"},\"hoverlabel\":{\"align\":\"left\"},\"hovermode\":\"closest\",\"mapbox\":{\"style\":\"light\"},\"paper_bgcolor\":\"white\",\"plot_bgcolor\":\"#E5ECF6\",\"polar\":{\"angularaxis\":{\"gridcolor\":\"white\",\"linecolor\":\"white\",\"ticks\":\"\"},\"bgcolor\":\"#E5ECF6\",\"radialaxis\":{\"gridcolor\":\"white\",\"linecolor\":\"white\",\"ticks\":\"\"}},\"scene\":{\"xaxis\":{\"backgroundcolor\":\"#E5ECF6\",\"gridcolor\":\"white\",\"gridwidth\":2,\"linecolor\":\"white\",\"showbackground\":true,\"ticks\":\"\",\"zerolinecolor\":\"white\"},\"yaxis\":{\"backgroundcolor\":\"#E5ECF6\",\"gridcolor\":\"white\",\"gridwidth\":2,\"linecolor\":\"white\",\"showbackground\":true,\"ticks\":\"\",\"zerolinecolor\":\"white\"},\"zaxis\":{\"backgroundcolor\":\"#E5ECF6\",\"gridcolor\":\"white\",\"gridwidth\":2,\"linecolor\":\"white\",\"showbackground\":true,\"ticks\":\"\",\"zerolinecolor\":\"white\"}},\"shapedefaults\":{\"line\":{\"color\":\"#2a3f5f\"}},\"ternary\":{\"aaxis\":{\"gridcolor\":\"white\",\"linecolor\":\"white\",\"ticks\":\"\"},\"baxis\":{\"gridcolor\":\"white\",\"linecolor\":\"white\",\"ticks\":\"\"},\"bgcolor\":\"#E5ECF6\",\"caxis\":{\"gridcolor\":\"white\",\"linecolor\":\"white\",\"ticks\":\"\"}},\"title\":{\"x\":0.05},\"xaxis\":{\"automargin\":true,\"gridcolor\":\"white\",\"linecolor\":\"white\",\"ticks\":\"\",\"title\":{\"standoff\":15},\"zerolinecolor\":\"white\",\"zerolinewidth\":2},\"yaxis\":{\"automargin\":true,\"gridcolor\":\"white\",\"linecolor\":\"white\",\"ticks\":\"\",\"title\":{\"standoff\":15},\"zerolinecolor\":\"white\",\"zerolinewidth\":2}}},\"title\":{\"text\":\"CatBoostRegressor (RMSE: 40.1060141191389)\"},\"xaxis\":{\"title\":{\"text\":\"\\u0412\\u0440\\u0435\\u043c\\u044f (\\u0434\\u043d\\u0438)\"}},\"yaxis\":{\"title\":{\"text\":\"\\u041a\\u043e\\u043b\\u0438\\u0447\\u0435\\u0441\\u0442\\u0432\\u043e \\u0437\\u0430\\u043a\\u0430\\u0437\\u043e\\u0432\"}},\"plot_bgcolor\":\"white\"},                        {\"responsive\": true}                    ).then(function(){\n",
       "                            \n",
       "var gd = document.getElementById('42edbc94-928e-4b5b-b2df-74a897efe1c6');\n",
       "var x = new MutationObserver(function (mutations, observer) {{\n",
       "        var display = window.getComputedStyle(gd).display;\n",
       "        if (!display || display === 'none') {{\n",
       "            console.log([gd, 'removed!']);\n",
       "            Plotly.purge(gd);\n",
       "            observer.disconnect();\n",
       "        }}\n",
       "}});\n",
       "\n",
       "// Listen for the removal of the full notebook cells\n",
       "var notebookContainer = gd.closest('#notebook-container');\n",
       "if (notebookContainer) {{\n",
       "    x.observe(notebookContainer, {childList: true});\n",
       "}}\n",
       "\n",
       "// Listen for the clearing of the current output cell\n",
       "var outputEl = gd.closest('.output');\n",
       "if (outputEl) {{\n",
       "    x.observe(outputEl, {childList: true});\n",
       "}}\n",
       "\n",
       "                        })                };                });            </script>        </div>"
      ]
     },
     "metadata": {},
     "output_type": "display_data"
    }
   ],
   "source": [
    "for i in range(len(results_df)):\n",
    "    model_name = results_df.loc[i, 'Model']\n",
    "    \n",
    "    if model_name == 'CatBoostRegressor':\n",
    "        model = CatBoostRegressor(verbose=False)\n",
    "        \n",
    "        # Подгоняем модель к обучающим данным\n",
    "        model.fit(features_train, target_train)\n",
    "        \n",
    "        # Спрогнозируем на тестовых данных\n",
    "        predictions = model.predict(features_test)\n",
    "        \n",
    "        # Рассчитаем среднеквадратичное отклонение\n",
    "        rmse = mean_squared_error(target_test, predictions, squared=False)\n",
    "        \n",
    "        # Выводим результаты\n",
    "        display_result(target_test, predictions, rmse, model_name)"
   ]
  },
  {
   "cell_type": "markdown",
   "metadata": {},
   "source": [
    "# Итоговый вывод\n",
    "\n",
    "Мы создали и обучили модели машинного обучения для прогнозирования количества заказов такси в аэропортах на следующий час. \n",
    "Результаты на тестовой выборке показали, что лучшей моделью для успешного прогнозирования является CatBoostRegressor с RMSE 40.11. Цель проекта достигнута."
   ]
  },
  {
   "cell_type": "markdown",
   "metadata": {},
   "source": [
    "## Чек-лист проверки"
   ]
  },
  {
   "cell_type": "markdown",
   "metadata": {},
   "source": [
    "- [x]  Jupyter Notebook открыт\n",
    "- [x]  Весь код выполняется без ошибок\n",
    "- [x]  Ячейки с кодом расположены в порядке исполнения\n",
    "- [x]  Данные загружены и подготовлены\n",
    "- [x]  Данные проанализированы\n",
    "- [x]  Модель обучена, гиперпараметры подобраны\n",
    "- [x]  Качество моделей проверено, выводы сделаны\n",
    "- [x]  Значение *RMSE* на тестовой выборке не больше 48"
   ]
  }
 ],
 "metadata": {
  "ExecuteTimeLog": [
   {
    "duration": 1627,
    "start_time": "2023-10-01T23:44:45.233Z"
   },
   {
    "duration": 118,
    "start_time": "2023-10-01T23:44:46.862Z"
   },
   {
    "duration": 17,
    "start_time": "2023-10-01T23:44:46.982Z"
   },
   {
    "duration": 3,
    "start_time": "2023-10-01T23:45:40.174Z"
   },
   {
    "duration": 13,
    "start_time": "2023-10-01T23:45:40.425Z"
   },
   {
    "duration": 10,
    "start_time": "2023-10-01T23:45:40.650Z"
   },
   {
    "duration": 120,
    "start_time": "2023-10-01T23:51:21.916Z"
   },
   {
    "duration": 288,
    "start_time": "2023-10-01T23:51:22.387Z"
   },
   {
    "duration": 1496,
    "start_time": "2023-10-01T23:51:41.315Z"
   },
   {
    "duration": 50,
    "start_time": "2023-10-01T23:51:42.815Z"
   },
   {
    "duration": 17,
    "start_time": "2023-10-01T23:51:42.866Z"
   },
   {
    "duration": 3,
    "start_time": "2023-10-01T23:51:42.885Z"
   },
   {
    "duration": 24,
    "start_time": "2023-10-01T23:51:42.890Z"
   },
   {
    "duration": 9,
    "start_time": "2023-10-01T23:51:42.917Z"
   },
   {
    "duration": 139,
    "start_time": "2023-10-01T23:51:42.928Z"
   },
   {
    "duration": 0,
    "start_time": "2023-10-01T23:51:43.069Z"
   },
   {
    "duration": 860,
    "start_time": "2023-10-01T23:51:57.574Z"
   },
   {
    "duration": 12,
    "start_time": "2023-10-01T23:52:20.279Z"
   },
   {
    "duration": 831,
    "start_time": "2023-10-02T00:44:27.640Z"
   },
   {
    "duration": 240,
    "start_time": "2023-10-02T00:45:36.972Z"
   },
   {
    "duration": 337,
    "start_time": "2023-10-02T00:46:02.123Z"
   },
   {
    "duration": 407,
    "start_time": "2023-10-02T00:46:08.066Z"
   },
   {
    "duration": 374,
    "start_time": "2023-10-02T00:46:15.834Z"
   },
   {
    "duration": 546,
    "start_time": "2023-10-02T00:46:24.764Z"
   },
   {
    "duration": 351,
    "start_time": "2023-10-02T00:54:11.069Z"
   },
   {
    "duration": 29,
    "start_time": "2023-10-02T00:54:12.543Z"
   },
   {
    "duration": 39,
    "start_time": "2023-10-02T00:54:17.008Z"
   },
   {
    "duration": 5,
    "start_time": "2023-10-02T00:54:28.658Z"
   },
   {
    "duration": 29,
    "start_time": "2023-10-02T00:54:29.296Z"
   },
   {
    "duration": 23,
    "start_time": "2023-10-02T00:56:41.380Z"
   },
   {
    "duration": 12,
    "start_time": "2023-10-02T00:56:44.592Z"
   },
   {
    "duration": 4,
    "start_time": "2023-10-02T00:56:53.447Z"
   },
   {
    "duration": 87,
    "start_time": "2023-10-02T00:59:33.775Z"
   },
   {
    "duration": 96,
    "start_time": "2023-10-02T01:01:03.001Z"
   },
   {
    "duration": 81,
    "start_time": "2023-10-02T01:02:13.562Z"
   },
   {
    "duration": 1497,
    "start_time": "2023-10-02T01:12:44.992Z"
   },
   {
    "duration": 95,
    "start_time": "2023-10-02T01:12:46.492Z"
   },
   {
    "duration": 11,
    "start_time": "2023-10-02T01:12:46.589Z"
   },
   {
    "duration": 26,
    "start_time": "2023-10-02T01:12:46.601Z"
   },
   {
    "duration": 3,
    "start_time": "2023-10-02T01:12:46.630Z"
   },
   {
    "duration": 14,
    "start_time": "2023-10-02T01:12:46.634Z"
   },
   {
    "duration": 10,
    "start_time": "2023-10-02T01:12:46.649Z"
   },
   {
    "duration": 818,
    "start_time": "2023-10-02T01:12:46.660Z"
   },
   {
    "duration": 534,
    "start_time": "2023-10-02T01:12:47.480Z"
   },
   {
    "duration": 388,
    "start_time": "2023-10-02T01:12:48.016Z"
   },
   {
    "duration": 25,
    "start_time": "2023-10-02T01:12:48.406Z"
   },
   {
    "duration": 36,
    "start_time": "2023-10-02T01:12:48.432Z"
   },
   {
    "duration": 4,
    "start_time": "2023-10-02T01:12:48.470Z"
   },
   {
    "duration": 30,
    "start_time": "2023-10-02T01:12:48.500Z"
   },
   {
    "duration": 44,
    "start_time": "2023-10-02T01:12:48.533Z"
   },
   {
    "duration": 13,
    "start_time": "2023-10-02T01:12:48.579Z"
   },
   {
    "duration": 12,
    "start_time": "2023-10-02T01:12:48.594Z"
   },
   {
    "duration": 3097,
    "start_time": "2023-10-02T01:36:29.141Z"
   },
   {
    "duration": 1536,
    "start_time": "2023-10-02T01:36:32.241Z"
   },
   {
    "duration": 107,
    "start_time": "2023-10-02T01:36:33.779Z"
   },
   {
    "duration": 10,
    "start_time": "2023-10-02T01:36:33.888Z"
   },
   {
    "duration": 19,
    "start_time": "2023-10-02T01:36:33.900Z"
   },
   {
    "duration": 7,
    "start_time": "2023-10-02T01:36:33.920Z"
   },
   {
    "duration": 37,
    "start_time": "2023-10-02T01:36:33.929Z"
   },
   {
    "duration": 13,
    "start_time": "2023-10-02T01:36:33.968Z"
   },
   {
    "duration": 943,
    "start_time": "2023-10-02T01:36:33.983Z"
   },
   {
    "duration": 573,
    "start_time": "2023-10-02T01:36:34.929Z"
   },
   {
    "duration": 391,
    "start_time": "2023-10-02T01:36:35.504Z"
   },
   {
    "duration": 27,
    "start_time": "2023-10-02T01:36:35.900Z"
   },
   {
    "duration": 114,
    "start_time": "2023-10-02T01:36:35.929Z"
   },
   {
    "duration": 45,
    "start_time": "2023-10-02T01:36:36.045Z"
   },
   {
    "duration": 71,
    "start_time": "2023-10-02T01:36:36.092Z"
   },
   {
    "duration": 92,
    "start_time": "2023-10-02T01:36:36.165Z"
   },
   {
    "duration": 145,
    "start_time": "2023-10-02T01:36:36.259Z"
   },
   {
    "duration": 132,
    "start_time": "2023-10-02T01:36:36.406Z"
   },
   {
    "duration": 80,
    "start_time": "2023-10-02T01:36:36.540Z"
   },
   {
    "duration": 0,
    "start_time": "2023-10-02T01:36:36.622Z"
   },
   {
    "duration": 0,
    "start_time": "2023-10-02T01:36:36.623Z"
   },
   {
    "duration": 0,
    "start_time": "2023-10-02T01:36:36.624Z"
   },
   {
    "duration": 0,
    "start_time": "2023-10-02T01:36:36.625Z"
   },
   {
    "duration": 0,
    "start_time": "2023-10-02T01:36:36.626Z"
   },
   {
    "duration": 0,
    "start_time": "2023-10-02T01:36:36.627Z"
   },
   {
    "duration": 0,
    "start_time": "2023-10-02T01:36:36.628Z"
   },
   {
    "duration": 0,
    "start_time": "2023-10-02T01:36:36.629Z"
   },
   {
    "duration": 0,
    "start_time": "2023-10-02T01:36:36.630Z"
   },
   {
    "duration": 0,
    "start_time": "2023-10-02T01:36:36.631Z"
   },
   {
    "duration": 0,
    "start_time": "2023-10-02T01:36:36.633Z"
   },
   {
    "duration": 2294,
    "start_time": "2023-10-02T01:39:30.370Z"
   },
   {
    "duration": 1725,
    "start_time": "2023-10-02T01:39:32.667Z"
   },
   {
    "duration": 109,
    "start_time": "2023-10-02T01:39:34.394Z"
   },
   {
    "duration": 11,
    "start_time": "2023-10-02T01:39:34.505Z"
   },
   {
    "duration": 12,
    "start_time": "2023-10-02T01:39:34.518Z"
   },
   {
    "duration": 4,
    "start_time": "2023-10-02T01:39:34.532Z"
   },
   {
    "duration": 54,
    "start_time": "2023-10-02T01:39:34.538Z"
   },
   {
    "duration": 14,
    "start_time": "2023-10-02T01:39:34.594Z"
   },
   {
    "duration": 904,
    "start_time": "2023-10-02T01:39:34.610Z"
   },
   {
    "duration": 569,
    "start_time": "2023-10-02T01:39:35.516Z"
   },
   {
    "duration": 381,
    "start_time": "2023-10-02T01:39:36.087Z"
   },
   {
    "duration": 41,
    "start_time": "2023-10-02T01:39:36.470Z"
   },
   {
    "duration": 47,
    "start_time": "2023-10-02T01:39:36.513Z"
   },
   {
    "duration": 6,
    "start_time": "2023-10-02T01:39:36.564Z"
   },
   {
    "duration": 50,
    "start_time": "2023-10-02T01:39:36.573Z"
   },
   {
    "duration": 132,
    "start_time": "2023-10-02T01:39:36.625Z"
   },
   {
    "duration": 35,
    "start_time": "2023-10-02T01:39:36.760Z"
   },
   {
    "duration": 27,
    "start_time": "2023-10-02T01:39:36.797Z"
   },
   {
    "duration": 2340,
    "start_time": "2023-10-02T01:41:40.366Z"
   },
   {
    "duration": 1492,
    "start_time": "2023-10-02T01:41:42.709Z"
   },
   {
    "duration": 104,
    "start_time": "2023-10-02T01:41:44.203Z"
   },
   {
    "duration": 10,
    "start_time": "2023-10-02T01:41:44.310Z"
   },
   {
    "duration": 52,
    "start_time": "2023-10-02T01:41:44.322Z"
   },
   {
    "duration": 38,
    "start_time": "2023-10-02T01:41:44.376Z"
   },
   {
    "duration": 21,
    "start_time": "2023-10-02T01:41:44.416Z"
   },
   {
    "duration": 9,
    "start_time": "2023-10-02T01:41:44.440Z"
   },
   {
    "duration": 921,
    "start_time": "2023-10-02T01:41:44.450Z"
   },
   {
    "duration": 551,
    "start_time": "2023-10-02T01:41:45.373Z"
   },
   {
    "duration": 386,
    "start_time": "2023-10-02T01:41:45.926Z"
   },
   {
    "duration": 28,
    "start_time": "2023-10-02T01:41:46.314Z"
   },
   {
    "duration": 74,
    "start_time": "2023-10-02T01:41:46.344Z"
   },
   {
    "duration": 6,
    "start_time": "2023-10-02T01:41:46.423Z"
   },
   {
    "duration": 49,
    "start_time": "2023-10-02T01:41:46.430Z"
   },
   {
    "duration": 24,
    "start_time": "2023-10-02T01:41:46.482Z"
   },
   {
    "duration": 20,
    "start_time": "2023-10-02T01:41:46.507Z"
   },
   {
    "duration": 8,
    "start_time": "2023-10-02T01:41:46.529Z"
   },
   {
    "duration": 2426,
    "start_time": "2023-10-02T01:45:43.123Z"
   },
   {
    "duration": 1463,
    "start_time": "2023-10-02T01:45:45.551Z"
   },
   {
    "duration": 92,
    "start_time": "2023-10-02T01:45:47.016Z"
   },
   {
    "duration": 12,
    "start_time": "2023-10-02T01:45:47.110Z"
   },
   {
    "duration": 33,
    "start_time": "2023-10-02T01:45:47.124Z"
   },
   {
    "duration": 14,
    "start_time": "2023-10-02T01:45:47.159Z"
   },
   {
    "duration": 54,
    "start_time": "2023-10-02T01:45:47.175Z"
   },
   {
    "duration": 61,
    "start_time": "2023-10-02T01:45:47.231Z"
   },
   {
    "duration": 925,
    "start_time": "2023-10-02T01:45:47.293Z"
   },
   {
    "duration": 561,
    "start_time": "2023-10-02T01:45:48.220Z"
   },
   {
    "duration": 373,
    "start_time": "2023-10-02T01:45:48.783Z"
   },
   {
    "duration": 27,
    "start_time": "2023-10-02T01:45:49.158Z"
   },
   {
    "duration": 37,
    "start_time": "2023-10-02T01:45:49.201Z"
   },
   {
    "duration": 4,
    "start_time": "2023-10-02T01:45:49.241Z"
   },
   {
    "duration": 41,
    "start_time": "2023-10-02T01:45:49.246Z"
   },
   {
    "duration": 23,
    "start_time": "2023-10-02T01:45:49.301Z"
   },
   {
    "duration": 8,
    "start_time": "2023-10-02T01:45:49.325Z"
   },
   {
    "duration": 8,
    "start_time": "2023-10-02T01:45:49.334Z"
   },
   {
    "duration": 2258,
    "start_time": "2023-10-02T01:48:32.128Z"
   },
   {
    "duration": 1584,
    "start_time": "2023-10-02T01:48:34.388Z"
   },
   {
    "duration": 93,
    "start_time": "2023-10-02T01:48:35.974Z"
   },
   {
    "duration": 143,
    "start_time": "2023-10-02T01:48:36.068Z"
   },
   {
    "duration": 337,
    "start_time": "2023-10-02T01:48:36.213Z"
   },
   {
    "duration": 256,
    "start_time": "2023-10-02T01:48:36.552Z"
   },
   {
    "duration": 243,
    "start_time": "2023-10-02T01:48:36.810Z"
   },
   {
    "duration": 42,
    "start_time": "2023-10-02T01:48:37.055Z"
   },
   {
    "duration": 931,
    "start_time": "2023-10-02T01:48:37.099Z"
   },
   {
    "duration": 558,
    "start_time": "2023-10-02T01:48:38.032Z"
   },
   {
    "duration": 92,
    "start_time": "2023-10-02T01:48:38.592Z"
   },
   {
    "duration": 32,
    "start_time": "2023-10-02T01:48:38.702Z"
   },
   {
    "duration": 15,
    "start_time": "2023-10-02T01:48:38.736Z"
   },
   {
    "duration": 4,
    "start_time": "2023-10-02T01:48:38.754Z"
   },
   {
    "duration": 50,
    "start_time": "2023-10-02T01:48:38.760Z"
   },
   {
    "duration": 26,
    "start_time": "2023-10-02T01:48:38.811Z"
   },
   {
    "duration": 13,
    "start_time": "2023-10-02T01:48:38.839Z"
   },
   {
    "duration": 24,
    "start_time": "2023-10-02T01:48:38.854Z"
   },
   {
    "duration": 2278,
    "start_time": "2023-10-02T01:56:28.032Z"
   },
   {
    "duration": 1465,
    "start_time": "2023-10-02T01:56:30.314Z"
   },
   {
    "duration": 95,
    "start_time": "2023-10-02T01:56:31.781Z"
   },
   {
    "duration": 294,
    "start_time": "2023-10-02T01:56:31.878Z"
   },
   {
    "duration": 318,
    "start_time": "2023-10-02T01:56:32.174Z"
   },
   {
    "duration": 22,
    "start_time": "2023-10-02T01:56:32.493Z"
   },
   {
    "duration": 39,
    "start_time": "2023-10-02T01:56:32.517Z"
   },
   {
    "duration": 54,
    "start_time": "2023-10-02T01:56:32.557Z"
   },
   {
    "duration": 1005,
    "start_time": "2023-10-02T01:56:32.613Z"
   },
   {
    "duration": 536,
    "start_time": "2023-10-02T01:56:33.620Z"
   },
   {
    "duration": 106,
    "start_time": "2023-10-02T01:56:34.158Z"
   },
   {
    "duration": 39,
    "start_time": "2023-10-02T01:56:34.266Z"
   },
   {
    "duration": 16,
    "start_time": "2023-10-02T01:56:34.306Z"
   },
   {
    "duration": 24,
    "start_time": "2023-10-02T01:56:34.325Z"
   },
   {
    "duration": 35,
    "start_time": "2023-10-02T01:56:34.350Z"
   },
   {
    "duration": 13,
    "start_time": "2023-10-02T01:56:34.387Z"
   },
   {
    "duration": 9,
    "start_time": "2023-10-02T01:56:34.402Z"
   },
   {
    "duration": 12,
    "start_time": "2023-10-02T01:56:34.413Z"
   },
   {
    "duration": 13,
    "start_time": "2023-10-02T01:56:34.426Z"
   },
   {
    "duration": 2317,
    "start_time": "2023-10-02T01:58:08.461Z"
   },
   {
    "duration": 1496,
    "start_time": "2023-10-02T01:58:10.781Z"
   },
   {
    "duration": 91,
    "start_time": "2023-10-02T01:58:12.279Z"
   },
   {
    "duration": 11,
    "start_time": "2023-10-02T01:58:12.371Z"
   },
   {
    "duration": 10,
    "start_time": "2023-10-02T01:58:12.385Z"
   },
   {
    "duration": 27,
    "start_time": "2023-10-02T01:58:12.396Z"
   },
   {
    "duration": 13,
    "start_time": "2023-10-02T01:58:12.425Z"
   },
   {
    "duration": 9,
    "start_time": "2023-10-02T01:58:12.440Z"
   },
   {
    "duration": 827,
    "start_time": "2023-10-02T01:58:12.451Z"
   },
   {
    "duration": 548,
    "start_time": "2023-10-02T01:58:13.280Z"
   },
   {
    "duration": 98,
    "start_time": "2023-10-02T01:58:13.829Z"
   },
   {
    "duration": 25,
    "start_time": "2023-10-02T01:58:13.929Z"
   },
   {
    "duration": 21,
    "start_time": "2023-10-02T01:58:13.956Z"
   },
   {
    "duration": 4,
    "start_time": "2023-10-02T01:58:13.979Z"
   },
   {
    "duration": 43,
    "start_time": "2023-10-02T01:58:13.985Z"
   },
   {
    "duration": 11,
    "start_time": "2023-10-02T01:58:14.030Z"
   },
   {
    "duration": 6,
    "start_time": "2023-10-02T01:58:14.042Z"
   },
   {
    "duration": 18,
    "start_time": "2023-10-02T01:58:14.050Z"
   },
   {
    "duration": 16,
    "start_time": "2023-10-02T01:58:14.069Z"
   },
   {
    "duration": 16,
    "start_time": "2023-10-02T01:58:14.087Z"
   },
   {
    "duration": 5886,
    "start_time": "2023-10-02T01:58:14.105Z"
   },
   {
    "duration": 4,
    "start_time": "2023-10-02T01:58:19.993Z"
   },
   {
    "duration": 61,
    "start_time": "2023-10-02T01:58:19.998Z"
   },
   {
    "duration": 0,
    "start_time": "2023-10-02T01:58:20.061Z"
   },
   {
    "duration": 0,
    "start_time": "2023-10-02T01:58:20.062Z"
   },
   {
    "duration": 0,
    "start_time": "2023-10-02T01:58:20.063Z"
   },
   {
    "duration": 0,
    "start_time": "2023-10-02T01:58:20.064Z"
   },
   {
    "duration": 0,
    "start_time": "2023-10-02T01:58:20.065Z"
   },
   {
    "duration": 0,
    "start_time": "2023-10-02T01:58:20.066Z"
   },
   {
    "duration": 1,
    "start_time": "2023-10-02T01:58:20.066Z"
   },
   {
    "duration": 6125,
    "start_time": "2023-10-02T02:01:25.466Z"
   },
   {
    "duration": 12,
    "start_time": "2023-10-02T02:04:46.492Z"
   },
   {
    "duration": 126,
    "start_time": "2023-10-02T02:08:44.754Z"
   },
   {
    "duration": 14,
    "start_time": "2023-10-02T02:09:30.363Z"
   },
   {
    "duration": 175,
    "start_time": "2023-10-02T02:09:31.017Z"
   },
   {
    "duration": 5,
    "start_time": "2023-10-02T02:12:06.651Z"
   },
   {
    "duration": 11,
    "start_time": "2023-10-02T02:12:17.134Z"
   },
   {
    "duration": 4,
    "start_time": "2023-10-02T02:12:59.034Z"
   },
   {
    "duration": 5,
    "start_time": "2023-10-02T02:13:09.052Z"
   },
   {
    "duration": 250,
    "start_time": "2023-10-02T02:13:09.838Z"
   },
   {
    "duration": 1100,
    "start_time": "2023-10-02T02:13:57.944Z"
   },
   {
    "duration": 1071,
    "start_time": "2023-10-02T02:14:36.253Z"
   },
   {
    "duration": 16,
    "start_time": "2023-10-02T02:16:30.244Z"
   },
   {
    "duration": 30,
    "start_time": "2023-10-02T02:16:31.863Z"
   },
   {
    "duration": 9,
    "start_time": "2023-10-02T02:16:33.014Z"
   },
   {
    "duration": 4,
    "start_time": "2023-10-02T02:16:33.814Z"
   },
   {
    "duration": 29,
    "start_time": "2023-10-02T02:16:34.049Z"
   },
   {
    "duration": 2484,
    "start_time": "2023-10-02T02:16:42.397Z"
   },
   {
    "duration": 1614,
    "start_time": "2023-10-02T02:16:44.883Z"
   },
   {
    "duration": 97,
    "start_time": "2023-10-02T02:16:46.498Z"
   },
   {
    "duration": 21,
    "start_time": "2023-10-02T02:16:46.597Z"
   },
   {
    "duration": 30,
    "start_time": "2023-10-02T02:16:46.620Z"
   },
   {
    "duration": 16,
    "start_time": "2023-10-02T02:16:46.652Z"
   },
   {
    "duration": 28,
    "start_time": "2023-10-02T02:16:46.670Z"
   },
   {
    "duration": 11,
    "start_time": "2023-10-02T02:16:46.713Z"
   },
   {
    "duration": 872,
    "start_time": "2023-10-02T02:16:46.726Z"
   },
   {
    "duration": 626,
    "start_time": "2023-10-02T02:16:47.601Z"
   },
   {
    "duration": 25,
    "start_time": "2023-10-02T02:16:48.229Z"
   },
   {
    "duration": 57,
    "start_time": "2023-10-02T02:16:48.256Z"
   },
   {
    "duration": 12,
    "start_time": "2023-10-02T02:16:48.315Z"
   },
   {
    "duration": 5,
    "start_time": "2023-10-02T02:16:48.328Z"
   },
   {
    "duration": 37,
    "start_time": "2023-10-02T02:16:48.335Z"
   },
   {
    "duration": 9,
    "start_time": "2023-10-02T02:16:48.374Z"
   },
   {
    "duration": 28,
    "start_time": "2023-10-02T02:16:48.385Z"
   },
   {
    "duration": 4,
    "start_time": "2023-10-02T02:16:48.416Z"
   },
   {
    "duration": 692,
    "start_time": "2023-10-02T02:16:48.421Z"
   },
   {
    "duration": 3,
    "start_time": "2023-10-02T02:16:49.117Z"
   },
   {
    "duration": 15,
    "start_time": "2023-10-02T02:16:49.121Z"
   },
   {
    "duration": 70,
    "start_time": "2023-10-02T02:16:49.138Z"
   },
   {
    "duration": 2310,
    "start_time": "2023-10-02T02:16:49.210Z"
   },
   {
    "duration": 4,
    "start_time": "2023-10-02T02:16:51.522Z"
   },
   {
    "duration": 134,
    "start_time": "2023-10-02T02:16:51.528Z"
   },
   {
    "duration": 0,
    "start_time": "2023-10-02T02:16:51.664Z"
   },
   {
    "duration": 0,
    "start_time": "2023-10-02T02:16:51.665Z"
   },
   {
    "duration": 0,
    "start_time": "2023-10-02T02:16:51.666Z"
   },
   {
    "duration": 0,
    "start_time": "2023-10-02T02:16:51.668Z"
   },
   {
    "duration": 0,
    "start_time": "2023-10-02T02:16:51.669Z"
   },
   {
    "duration": 0,
    "start_time": "2023-10-02T02:16:51.670Z"
   },
   {
    "duration": 0,
    "start_time": "2023-10-02T02:16:51.671Z"
   },
   {
    "duration": 8,
    "start_time": "2023-10-02T02:20:10.921Z"
   },
   {
    "duration": 1525,
    "start_time": "2023-10-02T02:20:36.715Z"
   },
   {
    "duration": 6,
    "start_time": "2023-10-02T02:20:39.912Z"
   },
   {
    "duration": 2,
    "start_time": "2023-10-02T02:20:40.985Z"
   },
   {
    "duration": 6,
    "start_time": "2023-10-02T02:20:41.550Z"
   },
   {
    "duration": 1719,
    "start_time": "2023-10-02T02:21:08.435Z"
   },
   {
    "duration": 4,
    "start_time": "2023-10-02T02:21:11.018Z"
   },
   {
    "duration": 2,
    "start_time": "2023-10-02T02:21:11.537Z"
   },
   {
    "duration": 6,
    "start_time": "2023-10-02T02:21:11.772Z"
   },
   {
    "duration": 5,
    "start_time": "2023-10-02T02:21:13.484Z"
   },
   {
    "duration": 87,
    "start_time": "2023-10-02T02:21:13.812Z"
   },
   {
    "duration": 5,
    "start_time": "2023-10-02T02:21:14.078Z"
   },
   {
    "duration": 6,
    "start_time": "2023-10-02T02:21:14.635Z"
   },
   {
    "duration": 2,
    "start_time": "2023-10-02T02:21:15.645Z"
   },
   {
    "duration": 1497,
    "start_time": "2023-10-02T02:21:57.786Z"
   },
   {
    "duration": 5,
    "start_time": "2023-10-02T02:22:01.814Z"
   },
   {
    "duration": 7,
    "start_time": "2023-10-02T02:22:02.911Z"
   },
   {
    "duration": 17,
    "start_time": "2023-10-02T02:22:03.298Z"
   },
   {
    "duration": 2474,
    "start_time": "2023-10-02T02:22:39.560Z"
   },
   {
    "duration": 1586,
    "start_time": "2023-10-02T02:22:42.037Z"
   },
   {
    "duration": 96,
    "start_time": "2023-10-02T02:22:43.625Z"
   },
   {
    "duration": 11,
    "start_time": "2023-10-02T02:22:43.723Z"
   },
   {
    "duration": 10,
    "start_time": "2023-10-02T02:22:43.737Z"
   },
   {
    "duration": 17,
    "start_time": "2023-10-02T02:22:43.749Z"
   },
   {
    "duration": 47,
    "start_time": "2023-10-02T02:22:43.768Z"
   },
   {
    "duration": 14,
    "start_time": "2023-10-02T02:22:43.817Z"
   },
   {
    "duration": 1001,
    "start_time": "2023-10-02T02:22:43.833Z"
   },
   {
    "duration": 615,
    "start_time": "2023-10-02T02:22:44.837Z"
   },
   {
    "duration": 24,
    "start_time": "2023-10-02T02:22:45.454Z"
   },
   {
    "duration": 70,
    "start_time": "2023-10-02T02:22:45.479Z"
   },
   {
    "duration": 38,
    "start_time": "2023-10-02T02:22:45.551Z"
   },
   {
    "duration": 23,
    "start_time": "2023-10-02T02:22:45.592Z"
   },
   {
    "duration": 54,
    "start_time": "2023-10-02T02:22:45.617Z"
   },
   {
    "duration": 46,
    "start_time": "2023-10-02T02:22:45.672Z"
   },
   {
    "duration": 38,
    "start_time": "2023-10-02T02:22:45.720Z"
   },
   {
    "duration": 55,
    "start_time": "2023-10-02T02:22:45.760Z"
   },
   {
    "duration": 109,
    "start_time": "2023-10-02T02:22:45.817Z"
   },
   {
    "duration": 0,
    "start_time": "2023-10-02T02:22:45.928Z"
   },
   {
    "duration": 0,
    "start_time": "2023-10-02T02:22:45.929Z"
   },
   {
    "duration": 0,
    "start_time": "2023-10-02T02:22:45.931Z"
   },
   {
    "duration": 0,
    "start_time": "2023-10-02T02:22:45.932Z"
   },
   {
    "duration": 0,
    "start_time": "2023-10-02T02:22:45.933Z"
   },
   {
    "duration": 0,
    "start_time": "2023-10-02T02:22:45.934Z"
   },
   {
    "duration": 0,
    "start_time": "2023-10-02T02:22:45.935Z"
   },
   {
    "duration": 0,
    "start_time": "2023-10-02T02:22:45.936Z"
   },
   {
    "duration": 1,
    "start_time": "2023-10-02T02:22:45.937Z"
   },
   {
    "duration": 0,
    "start_time": "2023-10-02T02:22:45.939Z"
   },
   {
    "duration": 0,
    "start_time": "2023-10-02T02:22:45.940Z"
   },
   {
    "duration": 0,
    "start_time": "2023-10-02T02:22:45.941Z"
   },
   {
    "duration": 0,
    "start_time": "2023-10-02T02:22:45.942Z"
   },
   {
    "duration": 542,
    "start_time": "2023-10-02T02:23:50.679Z"
   },
   {
    "duration": 3,
    "start_time": "2023-10-02T02:23:53.060Z"
   },
   {
    "duration": 2,
    "start_time": "2023-10-02T02:23:53.320Z"
   },
   {
    "duration": 3,
    "start_time": "2023-10-02T02:23:53.789Z"
   },
   {
    "duration": 400309,
    "start_time": "2023-10-02T02:23:54.805Z"
   },
   {
    "duration": 5,
    "start_time": "2023-10-02T02:30:35.116Z"
   },
   {
    "duration": 41,
    "start_time": "2023-10-02T02:30:35.124Z"
   },
   {
    "duration": 25,
    "start_time": "2023-10-02T02:30:35.167Z"
   },
   {
    "duration": 401,
    "start_time": "2023-10-02T02:30:56.512Z"
   },
   {
    "duration": 27,
    "start_time": "2023-10-02T02:30:57.038Z"
   },
   {
    "duration": 46,
    "start_time": "2023-10-02T02:30:57.315Z"
   },
   {
    "duration": 4,
    "start_time": "2023-10-02T02:30:57.543Z"
   },
   {
    "duration": 31,
    "start_time": "2023-10-02T02:30:57.740Z"
   },
   {
    "duration": 23,
    "start_time": "2023-10-02T02:30:57.954Z"
   },
   {
    "duration": 15,
    "start_time": "2023-10-02T02:30:58.400Z"
   },
   {
    "duration": 4,
    "start_time": "2023-10-02T02:30:59.636Z"
   },
   {
    "duration": 29065,
    "start_time": "2023-10-02T02:31:00.154Z"
   },
   {
    "duration": 80,
    "start_time": "2023-10-02T02:31:29.229Z"
   },
   {
    "duration": 10,
    "start_time": "2023-10-02T02:31:29.311Z"
   },
   {
    "duration": 6,
    "start_time": "2023-10-02T02:31:29.324Z"
   },
   {
    "duration": 2721,
    "start_time": "2023-10-02T02:33:43.668Z"
   },
   {
    "duration": 1652,
    "start_time": "2023-10-02T02:33:46.392Z"
   },
   {
    "duration": 91,
    "start_time": "2023-10-02T02:33:48.045Z"
   },
   {
    "duration": 11,
    "start_time": "2023-10-02T02:33:48.138Z"
   },
   {
    "duration": 43,
    "start_time": "2023-10-02T02:33:48.151Z"
   },
   {
    "duration": 3,
    "start_time": "2023-10-02T02:33:48.196Z"
   },
   {
    "duration": 40,
    "start_time": "2023-10-02T02:33:48.205Z"
   },
   {
    "duration": 18,
    "start_time": "2023-10-02T02:33:48.246Z"
   },
   {
    "duration": 885,
    "start_time": "2023-10-02T02:33:48.265Z"
   },
   {
    "duration": 582,
    "start_time": "2023-10-02T02:33:49.152Z"
   },
   {
    "duration": 401,
    "start_time": "2023-10-02T02:33:49.736Z"
   },
   {
    "duration": 26,
    "start_time": "2023-10-02T02:33:50.140Z"
   },
   {
    "duration": 56,
    "start_time": "2023-10-02T02:33:50.168Z"
   },
   {
    "duration": 4,
    "start_time": "2023-10-02T02:33:50.227Z"
   },
   {
    "duration": 36,
    "start_time": "2023-10-02T02:33:50.232Z"
   },
   {
    "duration": 109,
    "start_time": "2023-10-02T02:33:50.269Z"
   },
   {
    "duration": 68,
    "start_time": "2023-10-02T02:33:50.380Z"
   },
   {
    "duration": 10,
    "start_time": "2023-10-02T02:33:50.449Z"
   },
   {
    "duration": 23255,
    "start_time": "2023-10-02T02:33:50.460Z"
   },
   {
    "duration": 5,
    "start_time": "2023-10-02T02:34:13.721Z"
   },
   {
    "duration": 18,
    "start_time": "2023-10-02T02:34:13.807Z"
   },
   {
    "duration": 37,
    "start_time": "2023-10-02T02:34:13.826Z"
   },
   {
    "duration": 14305,
    "start_time": "2023-10-02T02:34:13.865Z"
   },
   {
    "duration": 4,
    "start_time": "2023-10-02T02:34:28.172Z"
   },
   {
    "duration": 18,
    "start_time": "2023-10-02T02:34:28.177Z"
   },
   {
    "duration": 46,
    "start_time": "2023-10-02T02:34:28.196Z"
   },
   {
    "duration": 5,
    "start_time": "2023-10-02T02:34:28.243Z"
   },
   {
    "duration": 118,
    "start_time": "2023-10-02T02:34:28.250Z"
   },
   {
    "duration": 0,
    "start_time": "2023-10-02T02:34:28.370Z"
   },
   {
    "duration": 0,
    "start_time": "2023-10-02T02:34:28.371Z"
   },
   {
    "duration": 0,
    "start_time": "2023-10-02T02:34:28.372Z"
   },
   {
    "duration": 0,
    "start_time": "2023-10-02T02:34:28.373Z"
   },
   {
    "duration": 270,
    "start_time": "2023-10-02T02:38:58.244Z"
   },
   {
    "duration": 31,
    "start_time": "2023-10-02T07:18:46.781Z"
   },
   {
    "duration": 4,
    "start_time": "2023-10-02T07:19:00.795Z"
   },
   {
    "duration": 5,
    "start_time": "2023-10-02T07:19:01.937Z"
   },
   {
    "duration": 2,
    "start_time": "2023-10-02T07:19:02.567Z"
   },
   {
    "duration": 5,
    "start_time": "2023-10-02T07:19:03.429Z"
   },
   {
    "duration": 19,
    "start_time": "2023-10-02T07:19:04.583Z"
   },
   {
    "duration": 8,
    "start_time": "2023-10-02T07:20:21.817Z"
   },
   {
    "duration": 3,
    "start_time": "2023-10-02T07:20:23.276Z"
   },
   {
    "duration": 3,
    "start_time": "2023-10-02T07:20:23.912Z"
   },
   {
    "duration": 5,
    "start_time": "2023-10-02T07:20:26.378Z"
   },
   {
    "duration": 3,
    "start_time": "2023-10-02T07:20:27.125Z"
   },
   {
    "duration": 8,
    "start_time": "2023-10-02T07:20:27.806Z"
   },
   {
    "duration": 20,
    "start_time": "2023-10-02T07:20:28.613Z"
   },
   {
    "duration": 6,
    "start_time": "2023-10-02T07:21:11.701Z"
   },
   {
    "duration": 18,
    "start_time": "2023-10-02T07:21:12.186Z"
   },
   {
    "duration": 4,
    "start_time": "2023-10-02T07:21:36.681Z"
   },
   {
    "duration": 4,
    "start_time": "2023-10-02T07:21:45.884Z"
   },
   {
    "duration": 6,
    "start_time": "2023-10-02T07:21:46.228Z"
   },
   {
    "duration": 3,
    "start_time": "2023-10-02T07:21:46.577Z"
   },
   {
    "duration": 6,
    "start_time": "2023-10-02T07:21:47.145Z"
   },
   {
    "duration": 543,
    "start_time": "2023-10-02T07:21:47.787Z"
   },
   {
    "duration": 90478,
    "start_time": "2023-10-02T07:21:49.978Z"
   },
   {
    "duration": 4272,
    "start_time": "2023-10-02T07:27:47.854Z"
   },
   {
    "duration": 381451,
    "start_time": "2023-10-02T07:27:52.129Z"
   },
   {
    "duration": 15051,
    "start_time": "2023-10-02T07:34:13.582Z"
   },
   {
    "duration": 6,
    "start_time": "2023-10-02T07:37:11.783Z"
   },
   {
    "duration": 5,
    "start_time": "2023-10-02T07:37:34.417Z"
   },
   {
    "duration": 6990,
    "start_time": "2023-10-02T07:38:08.279Z"
   },
   {
    "duration": 2025,
    "start_time": "2023-10-02T07:38:52.378Z"
   },
   {
    "duration": 1469,
    "start_time": "2023-10-02T07:38:54.406Z"
   },
   {
    "duration": 130,
    "start_time": "2023-10-02T07:38:55.877Z"
   },
   {
    "duration": 12,
    "start_time": "2023-10-02T07:38:56.009Z"
   },
   {
    "duration": 20,
    "start_time": "2023-10-02T07:38:56.023Z"
   },
   {
    "duration": 15,
    "start_time": "2023-10-02T07:38:56.044Z"
   },
   {
    "duration": 23,
    "start_time": "2023-10-02T07:38:56.061Z"
   },
   {
    "duration": 19,
    "start_time": "2023-10-02T07:38:56.085Z"
   },
   {
    "duration": 829,
    "start_time": "2023-10-02T07:38:56.105Z"
   },
   {
    "duration": 510,
    "start_time": "2023-10-02T07:38:56.936Z"
   },
   {
    "duration": 27,
    "start_time": "2023-10-02T07:38:57.448Z"
   },
   {
    "duration": 49,
    "start_time": "2023-10-02T07:38:57.477Z"
   },
   {
    "duration": 10,
    "start_time": "2023-10-02T07:38:57.528Z"
   },
   {
    "duration": 17,
    "start_time": "2023-10-02T07:38:57.540Z"
   },
   {
    "duration": 47,
    "start_time": "2023-10-02T07:38:57.558Z"
   },
   {
    "duration": 49,
    "start_time": "2023-10-02T07:38:57.607Z"
   },
   {
    "duration": 17,
    "start_time": "2023-10-02T07:38:57.658Z"
   },
   {
    "duration": 6,
    "start_time": "2023-10-02T07:38:57.677Z"
   },
   {
    "duration": 26,
    "start_time": "2023-10-02T07:38:57.685Z"
   },
   {
    "duration": 50,
    "start_time": "2023-10-02T07:38:57.713Z"
   },
   {
    "duration": 13,
    "start_time": "2023-10-02T07:38:57.764Z"
   },
   {
    "duration": 545,
    "start_time": "2023-10-02T07:38:57.779Z"
   },
   {
    "duration": 2114,
    "start_time": "2023-10-02T07:39:47.080Z"
   },
   {
    "duration": 1487,
    "start_time": "2023-10-02T07:39:49.196Z"
   },
   {
    "duration": 88,
    "start_time": "2023-10-02T07:39:50.685Z"
   },
   {
    "duration": 11,
    "start_time": "2023-10-02T07:39:50.774Z"
   },
   {
    "duration": 50,
    "start_time": "2023-10-02T07:39:50.787Z"
   },
   {
    "duration": 47,
    "start_time": "2023-10-02T07:39:50.838Z"
   },
   {
    "duration": 29,
    "start_time": "2023-10-02T07:39:50.887Z"
   },
   {
    "duration": 9,
    "start_time": "2023-10-02T07:39:50.918Z"
   },
   {
    "duration": 774,
    "start_time": "2023-10-02T07:39:50.928Z"
   },
   {
    "duration": 508,
    "start_time": "2023-10-02T07:39:51.704Z"
   },
   {
    "duration": 30,
    "start_time": "2023-10-02T07:39:52.214Z"
   },
   {
    "duration": 26,
    "start_time": "2023-10-02T07:39:52.246Z"
   },
   {
    "duration": 9,
    "start_time": "2023-10-02T07:39:52.275Z"
   },
   {
    "duration": 14,
    "start_time": "2023-10-02T07:39:52.287Z"
   },
   {
    "duration": 53,
    "start_time": "2023-10-02T07:39:52.303Z"
   },
   {
    "duration": 17,
    "start_time": "2023-10-02T07:39:52.358Z"
   },
   {
    "duration": 29,
    "start_time": "2023-10-02T07:39:52.377Z"
   },
   {
    "duration": 6,
    "start_time": "2023-10-02T07:39:52.408Z"
   },
   {
    "duration": 8,
    "start_time": "2023-10-02T07:39:52.416Z"
   },
   {
    "duration": 33,
    "start_time": "2023-10-02T07:39:52.425Z"
   },
   {
    "duration": 36,
    "start_time": "2023-10-02T07:39:52.459Z"
   },
   {
    "duration": 564,
    "start_time": "2023-10-02T07:39:52.496Z"
   },
   {
    "duration": 90323,
    "start_time": "2023-10-02T07:39:53.061Z"
   },
   {
    "duration": 3046,
    "start_time": "2023-10-02T07:41:23.386Z"
   },
   {
    "duration": 407480,
    "start_time": "2023-10-02T07:41:26.434Z"
   },
   {
    "duration": 269129,
    "start_time": "2023-10-02T07:48:13.915Z"
   },
   {
    "duration": 5,
    "start_time": "2023-10-02T07:52:43.046Z"
   },
   {
    "duration": 7798,
    "start_time": "2023-10-02T07:52:43.052Z"
   },
   {
    "duration": 5,
    "start_time": "2023-10-02T08:11:20.626Z"
   },
   {
    "duration": 7606,
    "start_time": "2023-10-02T08:11:21.548Z"
   },
   {
    "duration": 101,
    "start_time": "2023-10-02T22:04:42.663Z"
   }
  ],
  "kernelspec": {
   "display_name": "Python 3 (ipykernel)",
   "language": "python",
   "name": "python3"
  },
  "language_info": {
   "codemirror_mode": {
    "name": "ipython",
    "version": 3
   },
   "file_extension": ".py",
   "mimetype": "text/x-python",
   "name": "python",
   "nbconvert_exporter": "python",
   "pygments_lexer": "ipython3",
   "version": "3.9.5"
  },
  "toc": {
   "base_numbering": 1,
   "nav_menu": {},
   "number_sections": true,
   "sideBar": true,
   "skip_h1_title": true,
   "title_cell": "Содержание",
   "title_sidebar": "Contents",
   "toc_cell": true,
   "toc_position": {
    "height": "calc(100% - 180px)",
    "left": "10px",
    "top": "150px",
    "width": "214.391px"
   },
   "toc_section_display": true,
   "toc_window_display": true
  }
 },
 "nbformat": 4,
 "nbformat_minor": 2
}
