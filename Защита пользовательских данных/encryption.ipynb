{
 "cells": [
  {
   "cell_type": "markdown",
   "metadata": {
    "toc": true
   },
   "source": [
    "<h1>Содержание<span class=\"tocSkip\"></span></h1>\n",
    "<div class=\"toc\"><ul class=\"toc-item\"><li><span><a href=\"#Загрузка-данных\" data-toc-modified-id=\"Загрузка-данных-1\"><span class=\"toc-item-num\">1&nbsp;&nbsp;</span>Загрузка данных</a></span></li><li><span><a href=\"#Умножение-матриц\" data-toc-modified-id=\"Умножение-матриц-2\"><span class=\"toc-item-num\">2&nbsp;&nbsp;</span>Умножение матриц</a></span></li><li><span><a href=\"#Алгоритм-преобразования\" data-toc-modified-id=\"Алгоритм-преобразования-3\"><span class=\"toc-item-num\">3&nbsp;&nbsp;</span>Алгоритм преобразования</a></span></li><li><span><a href=\"#Проверка-алгоритма\" data-toc-modified-id=\"Проверка-алгоритма-4\"><span class=\"toc-item-num\">4&nbsp;&nbsp;</span>Проверка алгоритма</a></span></li><li><span><a href=\"#Чек-лист-проверки\" data-toc-modified-id=\"Чек-лист-проверки-5\"><span class=\"toc-item-num\">5&nbsp;&nbsp;</span>Чек-лист проверки</a></span></li></ul></div>"
   ]
  },
  {
   "cell_type": "markdown",
   "metadata": {},
   "source": [
    "# Защита персональных данных клиентов"
   ]
  },
  {
   "cell_type": "markdown",
   "metadata": {},
   "source": [
    "**Описание проекта**\n",
    "\n",
    "Вам нужно защитить данные клиентов страховой компании «Хоть потоп». Разработайте такой метод преобразования данных, чтобы по ним было сложно восстановить персональную информацию. Обоснуйте корректность его работы.\n",
    "\n",
    "**Цель проекта**:\n",
    "Нужно защитить данные, чтобы при преобразовании качество моделей машинного обучения не ухудшилось. Подбирать наилучшую модель не требуется.\n",
    "\n",
    "Ход выполнения проекта\n",
    "\n",
    "1. Загрузим и изучим данные.\n",
    "2. Ответим на вопрос и обоснуем решение. \n",
    " Признаки умножают на обратимую матрицу. Изменится ли качество линейной регрессии? (Её можно обучить заново.)\n",
    " a. Изменится. Приведите примеры матриц.\n",
    " b. Не изменится. Укажите, как связаны параметры линейной регрессии в исходной задаче и в преобразованной.\n",
    "3. Предложите алгоритм преобразования данных для решения задачи. Обоснуйте, почему качество линейной регрессии не поменяется.\n",
    "4. Запрограммируйте этот алгоритм, применив матричные операции. Проверьте, что качество линейной регрессии из sklearn не отличается до и после преобразования. Примените метрику R2.\n",
    "\n",
    "**Описание данных**\n",
    "\n",
    "Набор данных находится в файле /datasets/insurance.csv. \n",
    "\n",
    "**Признаки**: пол, возраст и зарплата застрахованного, количество членов его семьи.\n",
    "\n",
    "**Целевой признак**: количество страховых выплат клиенту за последние 5 лет."
   ]
  },
  {
   "cell_type": "markdown",
   "metadata": {},
   "source": [
    "## Загрузка данных"
   ]
  },
  {
   "cell_type": "code",
   "execution_count": 1,
   "metadata": {},
   "outputs": [],
   "source": [
    "import pandas as pd\n",
    "import numpy as np\n",
    "import warnings\n",
    "\n",
    "from sklearn.linear_model import LinearRegression\n",
    "from sklearn.metrics import r2_score"
   ]
  },
  {
   "cell_type": "code",
   "execution_count": 2,
   "metadata": {},
   "outputs": [],
   "source": [
    "try:\n",
    "    #локальная версия\n",
    "    try:\n",
    "        df = pd.read_csv('\\datasets\\insurance.csv')\n",
    "    #сетевая версия\n",
    "    except:\n",
    "        df = pd.read_csv('/datasets/insurance.csv')\n",
    "except:\n",
    "    print('Не удалось прочесть файл. Возможно, был указан не верный путь.')  "
   ]
  },
  {
   "cell_type": "code",
   "execution_count": 3,
   "metadata": {},
   "outputs": [
    {
     "data": {
      "text/html": [
       "<div>\n",
       "<style scoped>\n",
       "    .dataframe tbody tr th:only-of-type {\n",
       "        vertical-align: middle;\n",
       "    }\n",
       "\n",
       "    .dataframe tbody tr th {\n",
       "        vertical-align: top;\n",
       "    }\n",
       "\n",
       "    .dataframe thead th {\n",
       "        text-align: right;\n",
       "    }\n",
       "</style>\n",
       "<table border=\"1\" class=\"dataframe\">\n",
       "  <thead>\n",
       "    <tr style=\"text-align: right;\">\n",
       "      <th></th>\n",
       "      <th>Пол</th>\n",
       "      <th>Возраст</th>\n",
       "      <th>Зарплата</th>\n",
       "      <th>Члены семьи</th>\n",
       "      <th>Страховые выплаты</th>\n",
       "    </tr>\n",
       "  </thead>\n",
       "  <tbody>\n",
       "    <tr>\n",
       "      <th>0</th>\n",
       "      <td>1</td>\n",
       "      <td>41.0</td>\n",
       "      <td>49600.0</td>\n",
       "      <td>1</td>\n",
       "      <td>0</td>\n",
       "    </tr>\n",
       "    <tr>\n",
       "      <th>1</th>\n",
       "      <td>0</td>\n",
       "      <td>46.0</td>\n",
       "      <td>38000.0</td>\n",
       "      <td>1</td>\n",
       "      <td>1</td>\n",
       "    </tr>\n",
       "    <tr>\n",
       "      <th>2</th>\n",
       "      <td>0</td>\n",
       "      <td>29.0</td>\n",
       "      <td>21000.0</td>\n",
       "      <td>0</td>\n",
       "      <td>0</td>\n",
       "    </tr>\n",
       "    <tr>\n",
       "      <th>3</th>\n",
       "      <td>0</td>\n",
       "      <td>21.0</td>\n",
       "      <td>41700.0</td>\n",
       "      <td>2</td>\n",
       "      <td>0</td>\n",
       "    </tr>\n",
       "    <tr>\n",
       "      <th>4</th>\n",
       "      <td>1</td>\n",
       "      <td>28.0</td>\n",
       "      <td>26100.0</td>\n",
       "      <td>0</td>\n",
       "      <td>0</td>\n",
       "    </tr>\n",
       "    <tr>\n",
       "      <th>...</th>\n",
       "      <td>...</td>\n",
       "      <td>...</td>\n",
       "      <td>...</td>\n",
       "      <td>...</td>\n",
       "      <td>...</td>\n",
       "    </tr>\n",
       "    <tr>\n",
       "      <th>4995</th>\n",
       "      <td>0</td>\n",
       "      <td>28.0</td>\n",
       "      <td>35700.0</td>\n",
       "      <td>2</td>\n",
       "      <td>0</td>\n",
       "    </tr>\n",
       "    <tr>\n",
       "      <th>4996</th>\n",
       "      <td>0</td>\n",
       "      <td>34.0</td>\n",
       "      <td>52400.0</td>\n",
       "      <td>1</td>\n",
       "      <td>0</td>\n",
       "    </tr>\n",
       "    <tr>\n",
       "      <th>4997</th>\n",
       "      <td>0</td>\n",
       "      <td>20.0</td>\n",
       "      <td>33900.0</td>\n",
       "      <td>2</td>\n",
       "      <td>0</td>\n",
       "    </tr>\n",
       "    <tr>\n",
       "      <th>4998</th>\n",
       "      <td>1</td>\n",
       "      <td>22.0</td>\n",
       "      <td>32700.0</td>\n",
       "      <td>3</td>\n",
       "      <td>0</td>\n",
       "    </tr>\n",
       "    <tr>\n",
       "      <th>4999</th>\n",
       "      <td>1</td>\n",
       "      <td>28.0</td>\n",
       "      <td>40600.0</td>\n",
       "      <td>1</td>\n",
       "      <td>0</td>\n",
       "    </tr>\n",
       "  </tbody>\n",
       "</table>\n",
       "<p>5000 rows × 5 columns</p>\n",
       "</div>"
      ],
      "text/plain": [
       "      Пол  Возраст  Зарплата  Члены семьи  Страховые выплаты\n",
       "0       1     41.0   49600.0            1                  0\n",
       "1       0     46.0   38000.0            1                  1\n",
       "2       0     29.0   21000.0            0                  0\n",
       "3       0     21.0   41700.0            2                  0\n",
       "4       1     28.0   26100.0            0                  0\n",
       "...   ...      ...       ...          ...                ...\n",
       "4995    0     28.0   35700.0            2                  0\n",
       "4996    0     34.0   52400.0            1                  0\n",
       "4997    0     20.0   33900.0            2                  0\n",
       "4998    1     22.0   32700.0            3                  0\n",
       "4999    1     28.0   40600.0            1                  0\n",
       "\n",
       "[5000 rows x 5 columns]"
      ]
     },
     "execution_count": 3,
     "metadata": {},
     "output_type": "execute_result"
    }
   ],
   "source": [
    "df"
   ]
  },
  {
   "cell_type": "markdown",
   "metadata": {},
   "source": [
    "В нашем распоряжении таблица размерностью 5000 строк на 5 столбцов."
   ]
  },
  {
   "cell_type": "code",
   "execution_count": 4,
   "metadata": {},
   "outputs": [
    {
     "name": "stdout",
     "output_type": "stream",
     "text": [
      "<class 'pandas.core.frame.DataFrame'>\n",
      "RangeIndex: 5000 entries, 0 to 4999\n",
      "Data columns (total 5 columns):\n",
      " #   Column             Non-Null Count  Dtype  \n",
      "---  ------             --------------  -----  \n",
      " 0   Пол                5000 non-null   int64  \n",
      " 1   Возраст            5000 non-null   float64\n",
      " 2   Зарплата           5000 non-null   float64\n",
      " 3   Члены семьи        5000 non-null   int64  \n",
      " 4   Страховые выплаты  5000 non-null   int64  \n",
      "dtypes: float64(2), int64(3)\n",
      "memory usage: 195.4 KB\n"
     ]
    }
   ],
   "source": [
    "df.info()"
   ]
  },
  {
   "cell_type": "markdown",
   "metadata": {},
   "source": [
    "Названия столбцов следует сменить на латинницу. Пропусков в данных не обнаружено, колонки \"Возраст\" и \"Зарплата\" имеют тип float64, возможно требуется изменить тип на int. Проверим это."
   ]
  },
  {
   "cell_type": "code",
   "execution_count": 5,
   "metadata": {},
   "outputs": [],
   "source": [
    "df.rename(columns={'Пол': 'gender',\n",
    "                   'Возраст': 'age',\n",
    "                   'Зарплата': 'salary',\n",
    "                   'Члены семьи': 'family_members',\n",
    "                   'Страховые выплаты': 'insurance_payments'\n",
    "                  },\n",
    "                    inplace=True\n",
    "         )"
   ]
  },
  {
   "cell_type": "code",
   "execution_count": 6,
   "metadata": {},
   "outputs": [],
   "source": [
    "df['age'] = df['age'].astype(int)\n",
    "df['salary'] = df['salary'].astype(int)"
   ]
  },
  {
   "cell_type": "code",
   "execution_count": 7,
   "metadata": {},
   "outputs": [
    {
     "name": "stdout",
     "output_type": "stream",
     "text": [
      "<class 'pandas.core.frame.DataFrame'>\n",
      "RangeIndex: 5000 entries, 0 to 4999\n",
      "Data columns (total 5 columns):\n",
      " #   Column              Non-Null Count  Dtype\n",
      "---  ------              --------------  -----\n",
      " 0   gender              5000 non-null   int64\n",
      " 1   age                 5000 non-null   int64\n",
      " 2   salary              5000 non-null   int64\n",
      " 3   family_members      5000 non-null   int64\n",
      " 4   insurance_payments  5000 non-null   int64\n",
      "dtypes: int64(5)\n",
      "memory usage: 195.4 KB\n"
     ]
    }
   ],
   "source": [
    "df.info()"
   ]
  },
  {
   "cell_type": "code",
   "execution_count": 8,
   "metadata": {},
   "outputs": [],
   "source": [
    "df = df.drop_duplicates()"
   ]
  },
  {
   "cell_type": "markdown",
   "metadata": {},
   "source": [
    "Мы удалили 153 явных дубликата."
   ]
  },
  {
   "cell_type": "code",
   "execution_count": 9,
   "metadata": {},
   "outputs": [
    {
     "name": "stdout",
     "output_type": "stream",
     "text": [
      "<class 'pandas.core.frame.DataFrame'>\n",
      "Int64Index: 4847 entries, 0 to 4999\n",
      "Data columns (total 5 columns):\n",
      " #   Column              Non-Null Count  Dtype\n",
      "---  ------              --------------  -----\n",
      " 0   gender              4847 non-null   int64\n",
      " 1   age                 4847 non-null   int64\n",
      " 2   salary              4847 non-null   int64\n",
      " 3   family_members      4847 non-null   int64\n",
      " 4   insurance_payments  4847 non-null   int64\n",
      "dtypes: int64(5)\n",
      "memory usage: 227.2 KB\n"
     ]
    }
   ],
   "source": [
    "df.info()"
   ]
  },
  {
   "cell_type": "code",
   "execution_count": 10,
   "metadata": {},
   "outputs": [
    {
     "data": {
      "text/html": [
       "<div>\n",
       "<style scoped>\n",
       "    .dataframe tbody tr th:only-of-type {\n",
       "        vertical-align: middle;\n",
       "    }\n",
       "\n",
       "    .dataframe tbody tr th {\n",
       "        vertical-align: top;\n",
       "    }\n",
       "\n",
       "    .dataframe thead th {\n",
       "        text-align: right;\n",
       "    }\n",
       "</style>\n",
       "<table border=\"1\" class=\"dataframe\">\n",
       "  <thead>\n",
       "    <tr style=\"text-align: right;\">\n",
       "      <th></th>\n",
       "      <th>gender</th>\n",
       "      <th>age</th>\n",
       "      <th>salary</th>\n",
       "      <th>family_members</th>\n",
       "      <th>insurance_payments</th>\n",
       "    </tr>\n",
       "  </thead>\n",
       "  <tbody>\n",
       "    <tr>\n",
       "      <th>2644</th>\n",
       "      <td>1</td>\n",
       "      <td>33</td>\n",
       "      <td>40000</td>\n",
       "      <td>1</td>\n",
       "      <td>0</td>\n",
       "    </tr>\n",
       "    <tr>\n",
       "      <th>4825</th>\n",
       "      <td>1</td>\n",
       "      <td>23</td>\n",
       "      <td>31500</td>\n",
       "      <td>0</td>\n",
       "      <td>0</td>\n",
       "    </tr>\n",
       "    <tr>\n",
       "      <th>312</th>\n",
       "      <td>1</td>\n",
       "      <td>33</td>\n",
       "      <td>43700</td>\n",
       "      <td>2</td>\n",
       "      <td>0</td>\n",
       "    </tr>\n",
       "    <tr>\n",
       "      <th>2040</th>\n",
       "      <td>0</td>\n",
       "      <td>20</td>\n",
       "      <td>14700</td>\n",
       "      <td>0</td>\n",
       "      <td>0</td>\n",
       "    </tr>\n",
       "    <tr>\n",
       "      <th>1622</th>\n",
       "      <td>0</td>\n",
       "      <td>37</td>\n",
       "      <td>54000</td>\n",
       "      <td>1</td>\n",
       "      <td>0</td>\n",
       "    </tr>\n",
       "  </tbody>\n",
       "</table>\n",
       "</div>"
      ],
      "text/plain": [
       "      gender  age  salary  family_members  insurance_payments\n",
       "2644       1   33   40000               1                   0\n",
       "4825       1   23   31500               0                   0\n",
       "312        1   33   43700               2                   0\n",
       "2040       0   20   14700               0                   0\n",
       "1622       0   37   54000               1                   0"
      ]
     },
     "execution_count": 10,
     "metadata": {},
     "output_type": "execute_result"
    }
   ],
   "source": [
    "df.sample(5)"
   ]
  },
  {
   "cell_type": "markdown",
   "metadata": {},
   "source": [
    "Мы привели названия столбцов в надлежащий вид, а также все столбцы теперь имеют верный тип."
   ]
  },
  {
   "cell_type": "code",
   "execution_count": 11,
   "metadata": {},
   "outputs": [
    {
     "data": {
      "text/html": [
       "<div>\n",
       "<style scoped>\n",
       "    .dataframe tbody tr th:only-of-type {\n",
       "        vertical-align: middle;\n",
       "    }\n",
       "\n",
       "    .dataframe tbody tr th {\n",
       "        vertical-align: top;\n",
       "    }\n",
       "\n",
       "    .dataframe thead th {\n",
       "        text-align: right;\n",
       "    }\n",
       "</style>\n",
       "<table border=\"1\" class=\"dataframe\">\n",
       "  <thead>\n",
       "    <tr style=\"text-align: right;\">\n",
       "      <th></th>\n",
       "      <th>gender</th>\n",
       "      <th>age</th>\n",
       "      <th>salary</th>\n",
       "      <th>family_members</th>\n",
       "      <th>insurance_payments</th>\n",
       "    </tr>\n",
       "  </thead>\n",
       "  <tbody>\n",
       "    <tr>\n",
       "      <th>count</th>\n",
       "      <td>4847.000000</td>\n",
       "      <td>4847.000000</td>\n",
       "      <td>4847.000000</td>\n",
       "      <td>4847.000000</td>\n",
       "      <td>4847.000000</td>\n",
       "    </tr>\n",
       "    <tr>\n",
       "      <th>mean</th>\n",
       "      <td>0.498453</td>\n",
       "      <td>31.023932</td>\n",
       "      <td>39895.811223</td>\n",
       "      <td>1.203425</td>\n",
       "      <td>0.152259</td>\n",
       "    </tr>\n",
       "    <tr>\n",
       "      <th>std</th>\n",
       "      <td>0.500049</td>\n",
       "      <td>8.487995</td>\n",
       "      <td>9972.952441</td>\n",
       "      <td>1.098664</td>\n",
       "      <td>0.468934</td>\n",
       "    </tr>\n",
       "    <tr>\n",
       "      <th>min</th>\n",
       "      <td>0.000000</td>\n",
       "      <td>18.000000</td>\n",
       "      <td>5300.000000</td>\n",
       "      <td>0.000000</td>\n",
       "      <td>0.000000</td>\n",
       "    </tr>\n",
       "    <tr>\n",
       "      <th>25%</th>\n",
       "      <td>0.000000</td>\n",
       "      <td>24.000000</td>\n",
       "      <td>33200.000000</td>\n",
       "      <td>0.000000</td>\n",
       "      <td>0.000000</td>\n",
       "    </tr>\n",
       "    <tr>\n",
       "      <th>50%</th>\n",
       "      <td>0.000000</td>\n",
       "      <td>30.000000</td>\n",
       "      <td>40200.000000</td>\n",
       "      <td>1.000000</td>\n",
       "      <td>0.000000</td>\n",
       "    </tr>\n",
       "    <tr>\n",
       "      <th>75%</th>\n",
       "      <td>1.000000</td>\n",
       "      <td>37.000000</td>\n",
       "      <td>46600.000000</td>\n",
       "      <td>2.000000</td>\n",
       "      <td>0.000000</td>\n",
       "    </tr>\n",
       "    <tr>\n",
       "      <th>max</th>\n",
       "      <td>1.000000</td>\n",
       "      <td>65.000000</td>\n",
       "      <td>79000.000000</td>\n",
       "      <td>6.000000</td>\n",
       "      <td>5.000000</td>\n",
       "    </tr>\n",
       "  </tbody>\n",
       "</table>\n",
       "</div>"
      ],
      "text/plain": [
       "            gender          age        salary  family_members  \\\n",
       "count  4847.000000  4847.000000   4847.000000     4847.000000   \n",
       "mean      0.498453    31.023932  39895.811223        1.203425   \n",
       "std       0.500049     8.487995   9972.952441        1.098664   \n",
       "min       0.000000    18.000000   5300.000000        0.000000   \n",
       "25%       0.000000    24.000000  33200.000000        0.000000   \n",
       "50%       0.000000    30.000000  40200.000000        1.000000   \n",
       "75%       1.000000    37.000000  46600.000000        2.000000   \n",
       "max       1.000000    65.000000  79000.000000        6.000000   \n",
       "\n",
       "       insurance_payments  \n",
       "count         4847.000000  \n",
       "mean             0.152259  \n",
       "std              0.468934  \n",
       "min              0.000000  \n",
       "25%              0.000000  \n",
       "50%              0.000000  \n",
       "75%              0.000000  \n",
       "max              5.000000  "
      ]
     },
     "execution_count": 11,
     "metadata": {},
     "output_type": "execute_result"
    }
   ],
   "source": [
    "df.describe()"
   ]
  },
  {
   "cell_type": "code",
   "execution_count": 12,
   "metadata": {},
   "outputs": [
    {
     "data": {
      "text/plain": [
       "1.0"
      ]
     },
     "execution_count": 12,
     "metadata": {},
     "output_type": "execute_result"
    }
   ],
   "source": [
    "df['family_members'].median()"
   ]
  },
  {
   "cell_type": "code",
   "execution_count": 13,
   "metadata": {},
   "outputs": [
    {
     "data": {
      "text/plain": [
       "738"
      ]
     },
     "execution_count": 13,
     "metadata": {},
     "output_type": "execute_result"
    }
   ],
   "source": [
    "df['insurance_payments'].sum()"
   ]
  },
  {
   "cell_type": "code",
   "execution_count": 14,
   "metadata": {},
   "outputs": [
    {
     "data": {
      "text/plain": [
       "(4847, 5)"
      ]
     },
     "execution_count": 14,
     "metadata": {},
     "output_type": "execute_result"
    }
   ],
   "source": [
    "df.shape"
   ]
  },
  {
   "cell_type": "markdown",
   "metadata": {},
   "source": [
    "- среднее значение пола близко к 0.5, это означает, что в данных примерно равное количество мужчин и женщин.\n",
    "- в базе клиенты в возрасте от 18 до 65 лет, средний возраст которых близок к 31 году.\n",
    "- заработная плата варируется от 5300 условных единиц до 79000 условных единиц, средний заработок составляет 39916.36 условных единиц.\n",
    "- у клиентов от 0 до 6 членов в семье, среднестатистический клиент имеет 1 члена семьи.\n",
    "- проводилось 740 страховых выплат."
   ]
  },
  {
   "cell_type": "markdown",
   "metadata": {},
   "source": [
    "Данные готовы для дальнейшей обработки."
   ]
  },
  {
   "cell_type": "markdown",
   "metadata": {},
   "source": [
    "## Умножение матриц"
   ]
  },
  {
   "cell_type": "markdown",
   "metadata": {},
   "source": [
    "В этом задании вы можете записывать формулы в *Jupyter Notebook.*\n",
    "\n",
    "Чтобы записать формулу внутри текста, окружите её символами доллара \\\\$; если снаружи —  двойными символами \\\\$\\\\$. Эти формулы записываются на языке вёрстки *LaTeX.* \n",
    "\n",
    "Для примера мы записали формулы линейной регрессии. Можете их скопировать и отредактировать, чтобы решить задачу.\n",
    "\n",
    "Работать в *LaTeX* необязательно."
   ]
  },
  {
   "cell_type": "markdown",
   "metadata": {},
   "source": [
    "Обозначения:\n",
    "\n",
    "- $X$ — матрица признаков (нулевой столбец состоит из единиц)\n",
    "\n",
    "- $y$ — вектор целевого признака\n",
    "\n",
    "- $P$ — матрица, на которую умножаются признаки\n",
    "\n",
    "- $w$ — вектор весов линейной регрессии (нулевой элемент равен сдвигу)"
   ]
  },
  {
   "cell_type": "markdown",
   "metadata": {},
   "source": [
    "Предсказания:\n",
    "\n",
    "$$\n",
    "a = Xw\n",
    "$$\n",
    "\n",
    "Задача обучения:\n",
    "\n",
    "$$\n",
    "w = \\arg\\min_w MSE(Xw, y)\n",
    "$$\n",
    "\n",
    "Формула обучения:\n",
    "\n",
    "$$\n",
    "w = (X^T X)^{-1} X^T y\n",
    "$$"
   ]
  },
  {
   "cell_type": "markdown",
   "metadata": {},
   "source": [
    "**Ответ:** R2 не изменится\n",
    "\n",
    "**Обоснование:**\n",
    "\n",
    "Умножение матрицы на матрицу — это умножение первой матрицы на все столбцы второй.\n",
    "\n",
    "При матричном умножении по двум матрицам строится третья. Она состоит из скалярных произведений строк первой матрицы на столбцы второй. Так результатом произведения i-й строки матрицы A (Ai) на j-й столбец матрицы B (Bj) станет элемент матрицы С c индексами i, j (Cij):\n",
    "\n",
    "$$\n",
    "Сij = (Ai, Bj) \n",
    "$$\n",
    "\n",
    "Умножение матрицы на матрицу возможно, если ширина первой матрицы А (𝑚×𝑛) равна высоте второй матрицы В (𝑛×r). Произведение A и B даст матрицу размера m×r. Размерность n «cхлопывается».\n",
    "\n",
    "В нашем случае матрица признаков A размерностью (4847, 4) умножается на на обратимую произвольную матрицу P размерностью (4,4) в результате получаем новый (изменённый) набор данных - матрицу С с размернотью (4847, 4)\n",
    "\n",
    "Каждый элеменет матрицы С c индексами i, j (Cij) будет суммой произведений каждого элемента строки первой матрицы на каждый элемент столбца второй матрицы.\n",
    "Например значение элемента с i=1 и j=1 будет рассчитано так:\n",
    "\n",
    "$$\n",
    "С_{11}=A_{11}×P_{11}+A_{12}×P_{21}+A_{13}×P_{31}+A_{14}×P_{41}\n",
    "$$\n",
    "\n",
    "В Линейной регрессии предсказания вычисляются по формуле:\n",
    "$$\n",
    "a=Xw+w_0,\n",
    "$$ \n",
    "где w0 - значение нулевого аргумента вектора w, которое предствляет собой величину сдвига модели, при подборе которого можно достигать более низкого значения среднеквадратичного отклонения MSE.\n",
    "\n",
    "Упрощенная запись формулы предсказания Линейной регрессии \n",
    "$$\n",
    "a=X_iw\n",
    "$$\n",
    ", где Xi - новые строки признаков\n",
    "\n",
    "\n",
    "Подставим w в формулу:\n",
    "$$\n",
    "a=X_iw=X_i(X^TX)^{−1}X^Ty\n",
    "$$\n",
    "\n",
    "Упроситим формулу: $$((AB)^T=B^TA^T)$$\n",
    "\n",
    "\n",
    "$$\n",
    "a=X_i(X^TX)^{−1}X^Ty=X_iX^{−1}(X^T)^{−1}X^Ty=X_iX^{−1}y\n",
    "$$\n",
    "\n",
    "Домножим признаки на случайную матрицу P, в которой число строк равно чиcлу столбцов X и P - обратима, то есть из матрицы P\n",
    "можно получить матрицу P^{−1}, при этом PP^{−1}=E, где E - единичная матрица.\n",
    "\n",
    "Если обучить модель на измененных признаках, то модель найдёт новые коэффициенты w′.\n",
    "\n",
    "$$\n",
    "w′=((XP)^T(XP))^{−1}(XP)^Ty\n",
    "$$\n",
    "\n",
    "Подставим их в формулу предсказания и упростим выражение:\n",
    "\n",
    "$$\n",
    "a′=X_iPw′=X_iP((XP)^T(XP))^{−1}(XP)^Ty=X_iP(XP)^{−1}((XP)^T)^{−1}(XP)^Ty=X_iX^{−1}y\n",
    "$$\n",
    "\n",
    "Таким образом результат предсказания не изменится после преобразований, a = a′"
   ]
  },
  {
   "cell_type": "markdown",
   "metadata": {},
   "source": [
    "<div class=\"alert-info\">\n",
    "1.\n",
    "    \n",
    "Мы берём\n",
    "    \n",
    "    \n",
    "$$\n",
    "w = \\arg\\min_w MSE(Xw, y)\n",
    "$$\n",
    "\n",
    "- это означает, что мы ищем значения параметров $w$, при которых среднеквадратичное отклонение ($MSE$) между прогнозируемыми значениями $Xw$ и реальными значениями y минимально.\n",
    "  \n",
    "\n",
    "и    \n",
    "$$\n",
    "w_P = \\arg\\min_w MSE(XPw_p, y)\n",
    "$$  \n",
    "    \n",
    "Мы хотим найти соотношение между $w$ и $w_P$. Попробуем сделать замену $w = Pw_P$:\n",
    "\n",
    "$$\n",
    "MSE(XPw_P, y) = MSE(X(Pw_P), y)\n",
    "$$\n",
    "\n",
    "Так как $Xw = X(Pw_P) = XPw_P$, задача теперь выглядит как:\n",
    "\n",
    "$$\n",
    "\\arg\\min_w MSE(Xw, y) = \\arg\\min_w MSE(XPw_P, y)\n",
    "$$\n",
    "\n",
    "Таким образом, мы видим, что:\n",
    "\n",
    "$$\n",
    "w = Pw_P\n",
    "$$\n",
    "\n",
    "Таким образом, параметры линейной регрессии $w$ и $Pw_P$ совпадают.\n",
    "\n",
    "</div>"
   ]
  },
  {
   "cell_type": "markdown",
   "metadata": {},
   "source": [
    "<div class=\"alert-info\">\n",
    "Сначала раскроем под знаком транспонирования:\n",
    "    \n",
    "$$\n",
    "w' = (P^T X^T X P)^{-1} (XP)^T y\n",
    "$$\n",
    "    \n",
    "А теперь поставим скобочки чтобы лучше было видно: \n",
    "    \n",
    "    \n",
    "$$\n",
    "w' = (P^T (X^T X) P)^{-1} P^T X^T y\n",
    "$$    \n",
    "    \n",
    "\n",
    "и видим 3 квадратные матрицы!\n",
    "    \n",
    "$$\n",
    "P^T, (X^T X), P\n",
    "$$  \n",
    "    \n",
    "Используем правило:\n",
    "    \n",
    "    \n",
    "$$\n",
    "(ABC)^{-1} = C^{-1}(AB)^{-1} = (BC)^{-1}A^{-1} = C^{-1}B^{-1}A^{-1}\n",
    "$$\n",
    "    \n",
    "    \n",
    "    \n",
    "следовательно раскрываем так:\n",
    "\n",
    "    \n",
    "$$\n",
    "w' = P^{-1} (X^T X)^{-1} (P^T)^{-1} P^T X^T y\n",
    "$$    \n",
    "    \n",
    "    \n",
    "    -----------------------------------------------------------------------------------------------------------------------\n",
    "    \n",
    "Подставим их в формулу предсказания:\n",
    "\n",
    "$$\n",
    "a′=X_iPw′=X_i P P^{-1} (X^T X)^{-1} (P^T)^{-1} P^T X^T y=X_i (X^T X)^{-1} X^T y=X_iw = a\n",
    "$$\n",
    "    \n",
    "Таким образом результат предсказания не изменится после преобразований, $a = a′$"
   ]
  },
  {
   "cell_type": "markdown",
   "metadata": {},
   "source": [
    "## Алгоритм преобразования"
   ]
  },
  {
   "cell_type": "markdown",
   "metadata": {},
   "source": [
    "**Алгоритм**\n",
    "\n",
    "Для корректной расшифровки данных требуется обратимая матрица, иначе данные не смогут быть расшифрованы.\n",
    "\n",
    "1. Создадим квадратную матрицу (4,4), размерность соответствует количеству фичей.\n",
    "2. Заполняем созданную матрицу случайными числами.\n",
    "3. Проверяем матрицу на обратимость.\n",
    "4. В случае, если матрица обратима умножаем признаки на эту матрицу."
   ]
  },
  {
   "cell_type": "markdown",
   "metadata": {},
   "source": [
    "**Обоснование**\n",
    "\n",
    "Наша квадратная матрица является своеобразным ключом к зашифрованным данным. При утечке данных злоумышленники столкнутся с проблемой, т.к. этот ключ требует перебора значений, что дает данным дополнительную безопасность, т.к. без него данные будут расшифрованы некорректно. Предполагается, что при таком преобразовании качество предсказаний целевого признака линейной моделью не должно пострадать после шифрования данных."
   ]
  },
  {
   "cell_type": "markdown",
   "metadata": {},
   "source": [
    "## Проверка алгоритма"
   ]
  },
  {
   "cell_type": "markdown",
   "metadata": {},
   "source": [
    "Сохраним в переменные обучающие признаки и целевой признак, выведем на экран размерность полученных переменных."
   ]
  },
  {
   "cell_type": "code",
   "execution_count": 15,
   "metadata": {},
   "outputs": [],
   "source": [
    "features = df.drop([\"insurance_payments\"], axis=1)"
   ]
  },
  {
   "cell_type": "code",
   "execution_count": 16,
   "metadata": {},
   "outputs": [],
   "source": [
    "target = df[\"insurance_payments\"]"
   ]
  },
  {
   "cell_type": "code",
   "execution_count": 17,
   "metadata": {},
   "outputs": [
    {
     "data": {
      "text/plain": [
       "((4847, 4), 4847)"
      ]
     },
     "execution_count": 17,
     "metadata": {},
     "output_type": "execute_result"
    }
   ],
   "source": [
    "features.shape, target.shape[0]"
   ]
  },
  {
   "cell_type": "markdown",
   "metadata": {},
   "source": [
    "Создадим квадратную матрицу и заполним её случайными числами."
   ]
  },
  {
   "cell_type": "code",
   "execution_count": 18,
   "metadata": {},
   "outputs": [],
   "source": [
    "matrix = np.random.randint(1000,size = (4, 4))"
   ]
  },
  {
   "cell_type": "code",
   "execution_count": 19,
   "metadata": {},
   "outputs": [
    {
     "data": {
      "text/plain": [
       "array([[ 45, 875, 766, 801],\n",
       "       [979,  77, 732, 898],\n",
       "       [635, 220, 622, 539],\n",
       "       [963, 477, 949, 295]])"
      ]
     },
     "execution_count": 19,
     "metadata": {},
     "output_type": "execute_result"
    }
   ],
   "source": [
    "matrix"
   ]
  },
  {
   "cell_type": "markdown",
   "metadata": {},
   "source": [
    "Проверим на инвертируемость (обратимость) матрицу."
   ]
  },
  {
   "cell_type": "code",
   "execution_count": 20,
   "metadata": {},
   "outputs": [],
   "source": [
    "matrix_invert = np.linalg.inv(matrix)"
   ]
  },
  {
   "cell_type": "code",
   "execution_count": 21,
   "metadata": {},
   "outputs": [
    {
     "data": {
      "text/plain": [
       "array([[ 0.00172561,  0.00994131, -0.0220933 ,  0.00541957],\n",
       "       [ 0.00354909,  0.01145668, -0.02800218,  0.0066517 ],\n",
       "       [-0.00382471, -0.0167668 ,  0.03785171, -0.00773524],\n",
       "       [ 0.00093211,  0.00296056, -0.00436742, -0.00017344]])"
      ]
     },
     "execution_count": 21,
     "metadata": {},
     "output_type": "execute_result"
    }
   ],
   "source": [
    "matrix_invert"
   ]
  },
  {
   "cell_type": "markdown",
   "metadata": {},
   "source": [
    "Матрица обратима. Умножим матрицу признаков на сгенерированную квадратную матрицу."
   ]
  },
  {
   "cell_type": "markdown",
   "metadata": {},
   "source": [
    "Инициализируем модель и обучим её."
   ]
  },
  {
   "cell_type": "code",
   "execution_count": 22,
   "metadata": {},
   "outputs": [],
   "source": [
    "model = LinearRegression(normalize=True)\n",
    "model.fit(features, target)\n",
    "predictions = model.predict(features)"
   ]
  },
  {
   "cell_type": "markdown",
   "metadata": {},
   "source": [
    "Рассчитаем значение R2."
   ]
  },
  {
   "cell_type": "code",
   "execution_count": 23,
   "metadata": {},
   "outputs": [
    {
     "name": "stdout",
     "output_type": "stream",
     "text": [
      "R2_score на оригинальных данных: 0.4302\n"
     ]
    }
   ],
   "source": [
    "r2 = r2_score(target, predictions)\n",
    "print(f'R2_score на оригинальных данных: {round(r2, 5)}')"
   ]
  },
  {
   "cell_type": "markdown",
   "metadata": {},
   "source": [
    "Перемножим матрицу признаков и квадратную матрицу."
   ]
  },
  {
   "cell_type": "code",
   "execution_count": 24,
   "metadata": {},
   "outputs": [],
   "source": [
    "features_matrix = features.dot(matrix)"
   ]
  },
  {
   "cell_type": "markdown",
   "metadata": {},
   "source": [
    "Инициализируем модель и обучим её на зашифрованных признаках. Предскажем целевой признак."
   ]
  },
  {
   "cell_type": "code",
   "execution_count": 25,
   "metadata": {},
   "outputs": [],
   "source": [
    "model = LinearRegression(normalize = True)\n",
    "model.fit(features_matrix, target)\n",
    "predictions = model.predict(features_matrix)"
   ]
  },
  {
   "cell_type": "markdown",
   "metadata": {},
   "source": [
    "Рассчитаем значение R2."
   ]
  },
  {
   "cell_type": "code",
   "execution_count": 26,
   "metadata": {},
   "outputs": [
    {
     "name": "stdout",
     "output_type": "stream",
     "text": [
      "R2_score на зашифрованных данных: 0.4302\n"
     ]
    }
   ],
   "source": [
    "r2 = r2_score(target, predictions)\n",
    "print(f'R2_score на зашифрованных данных: {round(r2, 5)}')"
   ]
  },
  {
   "cell_type": "markdown",
   "metadata": {},
   "source": [
    "**Итоговый вывод:**\n",
    "    \n",
    "Значения скоров R2 на оригинальных и зашифрованных данных имеют одинаковое значение, из чего следует, что данные пользователей защищены, при том, что модель не потеряла в качестве предсказания целевого признака."
   ]
  },
  {
   "cell_type": "markdown",
   "metadata": {},
   "source": [
    "## Чек-лист проверки"
   ]
  },
  {
   "cell_type": "markdown",
   "metadata": {},
   "source": [
    "Поставьте 'x' в выполненных пунктах. Далее нажмите Shift+Enter."
   ]
  },
  {
   "cell_type": "markdown",
   "metadata": {},
   "source": [
    "- [x]  Jupyter Notebook открыт\n",
    "- [x]  Весь код выполняется без ошибок\n",
    "- [x]  Ячейки с кодом расположены в порядке исполнения\n",
    "- [x]  Выполнен шаг 1: данные загружены\n",
    "- [x]  Выполнен шаг 2: получен ответ на вопрос об умножении матриц\n",
    "    - [x]  Указан правильный вариант ответа\n",
    "    - [x]  Вариант обоснован\n",
    "- [x]  Выполнен шаг 3: предложен алгоритм преобразования\n",
    "    - [x]  Алгоритм описан\n",
    "    - [x]  Алгоритм обоснован\n",
    "- [x]  Выполнен шаг 4: алгоритм проверен\n",
    "    - [x]  Алгоритм реализован\n",
    "    - [x]  Проведено сравнение качества моделей до и после преобразования"
   ]
  },
  {
   "cell_type": "code",
   "execution_count": null,
   "metadata": {},
   "outputs": [],
   "source": []
  }
 ],
 "metadata": {
  "ExecuteTimeLog": [
   {
    "duration": 9,
    "start_time": "2023-09-02T14:05:55.130Z"
   },
   {
    "duration": 438,
    "start_time": "2023-09-02T14:05:59.297Z"
   },
   {
    "duration": 152,
    "start_time": "2023-09-02T14:06:00.034Z"
   },
   {
    "duration": 69,
    "start_time": "2023-09-02T14:06:19.875Z"
   },
   {
    "duration": 21,
    "start_time": "2023-09-02T14:06:26.559Z"
   },
   {
    "duration": 3170,
    "start_time": "2023-09-02T14:08:16.277Z"
   },
   {
    "duration": 998,
    "start_time": "2023-09-02T14:08:19.450Z"
   },
   {
    "duration": 105,
    "start_time": "2023-09-02T14:08:20.450Z"
   },
   {
    "duration": 12,
    "start_time": "2023-09-02T14:12:56.260Z"
   },
   {
    "duration": 102,
    "start_time": "2023-09-02T14:13:42.994Z"
   },
   {
    "duration": 9,
    "start_time": "2023-09-02T14:13:58.280Z"
   },
   {
    "duration": 11,
    "start_time": "2023-09-02T14:14:06.155Z"
   },
   {
    "duration": 26,
    "start_time": "2023-09-02T14:14:25.994Z"
   },
   {
    "duration": 775,
    "start_time": "2023-09-02T14:14:43.879Z"
   },
   {
    "duration": 13,
    "start_time": "2023-09-02T14:14:54.218Z"
   },
   {
    "duration": 10,
    "start_time": "2023-09-02T14:14:54.315Z"
   },
   {
    "duration": 836,
    "start_time": "2023-09-02T14:15:01.955Z"
   },
   {
    "duration": 5,
    "start_time": "2023-09-02T15:28:59.515Z"
   },
   {
    "duration": 12,
    "start_time": "2023-09-02T15:30:15.925Z"
   },
   {
    "duration": 6,
    "start_time": "2023-09-02T15:32:32.531Z"
   },
   {
    "duration": 30,
    "start_time": "2023-09-02T15:32:34.593Z"
   },
   {
    "duration": 10,
    "start_time": "2023-09-02T15:32:48.787Z"
   },
   {
    "duration": 8,
    "start_time": "2023-09-02T15:33:05.969Z"
   },
   {
    "duration": 12,
    "start_time": "2023-09-02T15:33:09.569Z"
   },
   {
    "duration": 6,
    "start_time": "2023-09-02T15:54:20.973Z"
   },
   {
    "duration": 12,
    "start_time": "2023-09-02T15:58:08.196Z"
   },
   {
    "duration": 4,
    "start_time": "2023-09-02T15:58:58.169Z"
   },
   {
    "duration": 5,
    "start_time": "2023-09-02T15:59:16.575Z"
   },
   {
    "duration": 5,
    "start_time": "2023-09-02T16:01:00.922Z"
   },
   {
    "duration": 72,
    "start_time": "2023-09-04T19:05:59.306Z"
   },
   {
    "duration": 459,
    "start_time": "2023-09-04T19:06:09.291Z"
   },
   {
    "duration": 135,
    "start_time": "2023-09-04T19:06:09.752Z"
   },
   {
    "duration": 18,
    "start_time": "2023-09-04T19:06:09.889Z"
   },
   {
    "duration": 11,
    "start_time": "2023-09-04T19:06:09.908Z"
   },
   {
    "duration": 9,
    "start_time": "2023-09-04T19:06:09.921Z"
   },
   {
    "duration": 10,
    "start_time": "2023-09-04T19:06:09.931Z"
   },
   {
    "duration": 19,
    "start_time": "2023-09-04T19:06:09.942Z"
   },
   {
    "duration": 7,
    "start_time": "2023-09-04T19:06:09.964Z"
   },
   {
    "duration": 9,
    "start_time": "2023-09-04T19:06:09.973Z"
   },
   {
    "duration": 10,
    "start_time": "2023-09-04T19:06:09.983Z"
   },
   {
    "duration": 37,
    "start_time": "2023-09-04T19:06:09.995Z"
   },
   {
    "duration": 7,
    "start_time": "2023-09-04T19:06:10.036Z"
   },
   {
    "duration": 21,
    "start_time": "2023-09-04T19:06:10.045Z"
   },
   {
    "duration": 4,
    "start_time": "2023-09-04T19:10:01.153Z"
   },
   {
    "duration": 9,
    "start_time": "2023-09-04T19:10:02.002Z"
   },
   {
    "duration": 7,
    "start_time": "2023-09-04T19:10:04.917Z"
   },
   {
    "duration": 25,
    "start_time": "2023-09-04T19:10:09.826Z"
   },
   {
    "duration": 5,
    "start_time": "2023-09-04T19:10:13.588Z"
   },
   {
    "duration": 5,
    "start_time": "2023-09-04T19:10:14.091Z"
   },
   {
    "duration": 69,
    "start_time": "2023-09-04T19:52:55.285Z"
   },
   {
    "duration": 13,
    "start_time": "2023-09-04T19:53:03.047Z"
   },
   {
    "duration": 4,
    "start_time": "2023-09-04T19:53:30.847Z"
   },
   {
    "duration": 6,
    "start_time": "2023-09-04T20:42:39.224Z"
   },
   {
    "duration": 418,
    "start_time": "2023-09-04T21:06:24.960Z"
   },
   {
    "duration": 81,
    "start_time": "2023-09-04T21:06:25.380Z"
   },
   {
    "duration": 19,
    "start_time": "2023-09-04T21:06:25.463Z"
   },
   {
    "duration": 25,
    "start_time": "2023-09-04T21:06:25.484Z"
   },
   {
    "duration": 13,
    "start_time": "2023-09-04T21:06:25.512Z"
   },
   {
    "duration": 37,
    "start_time": "2023-09-04T21:06:25.526Z"
   },
   {
    "duration": 14,
    "start_time": "2023-09-04T21:06:25.565Z"
   },
   {
    "duration": 19,
    "start_time": "2023-09-04T21:06:25.581Z"
   },
   {
    "duration": 31,
    "start_time": "2023-09-04T21:06:25.602Z"
   },
   {
    "duration": 29,
    "start_time": "2023-09-04T21:06:25.635Z"
   },
   {
    "duration": 52,
    "start_time": "2023-09-04T21:06:25.665Z"
   },
   {
    "duration": 5,
    "start_time": "2023-09-04T21:06:25.719Z"
   },
   {
    "duration": 29,
    "start_time": "2023-09-04T21:06:25.725Z"
   },
   {
    "duration": 19,
    "start_time": "2023-09-04T21:06:25.758Z"
   },
   {
    "duration": 98,
    "start_time": "2023-09-04T21:06:25.778Z"
   },
   {
    "duration": 0,
    "start_time": "2023-09-04T21:06:25.878Z"
   },
   {
    "duration": 0,
    "start_time": "2023-09-04T21:06:25.880Z"
   },
   {
    "duration": 4,
    "start_time": "2023-09-04T21:08:36.457Z"
   },
   {
    "duration": 2,
    "start_time": "2023-09-04T21:08:43.226Z"
   },
   {
    "duration": 4,
    "start_time": "2023-09-04T21:08:43.568Z"
   },
   {
    "duration": 5,
    "start_time": "2023-09-04T21:09:01.456Z"
   },
   {
    "duration": 121,
    "start_time": "2023-09-04T21:11:19.496Z"
   },
   {
    "duration": 7,
    "start_time": "2023-09-04T21:11:40.672Z"
   },
   {
    "duration": 1407,
    "start_time": "2023-09-04T21:12:28.196Z"
   },
   {
    "duration": 4,
    "start_time": "2023-09-04T21:13:17.920Z"
   },
   {
    "duration": 3,
    "start_time": "2023-09-04T21:13:18.166Z"
   },
   {
    "duration": 4,
    "start_time": "2023-09-04T21:13:18.361Z"
   },
   {
    "duration": 6,
    "start_time": "2023-09-04T21:13:18.568Z"
   },
   {
    "duration": 7,
    "start_time": "2023-09-04T21:13:20.729Z"
   },
   {
    "duration": 103,
    "start_time": "2023-09-04T21:13:21.950Z"
   },
   {
    "duration": 3,
    "start_time": "2023-09-04T21:13:26.189Z"
   },
   {
    "duration": 12,
    "start_time": "2023-09-04T21:13:26.381Z"
   },
   {
    "duration": 3,
    "start_time": "2023-09-04T21:13:51.661Z"
   },
   {
    "duration": 51,
    "start_time": "2023-09-04T21:14:50.151Z"
   },
   {
    "duration": 4,
    "start_time": "2023-09-04T21:14:53.032Z"
   },
   {
    "duration": 5,
    "start_time": "2023-09-04T21:14:53.271Z"
   },
   {
    "duration": 19,
    "start_time": "2023-09-04T21:14:59.403Z"
   },
   {
    "duration": 4,
    "start_time": "2023-09-04T21:15:00.273Z"
   },
   {
    "duration": 23,
    "start_time": "2023-09-04T21:15:00.955Z"
   },
   {
    "duration": 10,
    "start_time": "2023-09-04T21:27:08.501Z"
   },
   {
    "duration": 69,
    "start_time": "2023-09-04T21:27:14.166Z"
   },
   {
    "duration": 42,
    "start_time": "2023-09-04T21:27:16.927Z"
   },
   {
    "duration": 3,
    "start_time": "2023-09-04T21:27:56.412Z"
   },
   {
    "duration": 4,
    "start_time": "2023-09-04T21:27:56.713Z"
   },
   {
    "duration": 17,
    "start_time": "2023-09-04T21:27:56.834Z"
   },
   {
    "duration": 4,
    "start_time": "2023-09-04T21:27:57.006Z"
   },
   {
    "duration": 77,
    "start_time": "2023-09-04T21:27:58.256Z"
   },
   {
    "duration": 7,
    "start_time": "2023-09-04T21:27:59.456Z"
   },
   {
    "duration": 131,
    "start_time": "2023-09-04T21:28:00.530Z"
   },
   {
    "duration": 21,
    "start_time": "2023-09-04T21:28:32.702Z"
   },
   {
    "duration": 1218,
    "start_time": "2023-09-04T21:29:15.676Z"
   },
   {
    "duration": 88,
    "start_time": "2023-09-04T21:29:16.896Z"
   },
   {
    "duration": 28,
    "start_time": "2023-09-04T21:29:16.986Z"
   },
   {
    "duration": 14,
    "start_time": "2023-09-04T21:29:17.016Z"
   },
   {
    "duration": 7,
    "start_time": "2023-09-04T21:29:17.034Z"
   },
   {
    "duration": 13,
    "start_time": "2023-09-04T21:29:17.043Z"
   },
   {
    "duration": 14,
    "start_time": "2023-09-04T21:29:17.058Z"
   },
   {
    "duration": 8,
    "start_time": "2023-09-04T21:29:17.073Z"
   },
   {
    "duration": 12,
    "start_time": "2023-09-04T21:29:17.083Z"
   },
   {
    "duration": 47,
    "start_time": "2023-09-04T21:29:17.097Z"
   },
   {
    "duration": 37,
    "start_time": "2023-09-04T21:29:17.147Z"
   },
   {
    "duration": 5,
    "start_time": "2023-09-04T21:29:17.185Z"
   },
   {
    "duration": 5,
    "start_time": "2023-09-04T21:29:17.192Z"
   },
   {
    "duration": 6,
    "start_time": "2023-09-04T21:29:17.199Z"
   },
   {
    "duration": 5,
    "start_time": "2023-09-04T21:29:17.234Z"
   },
   {
    "duration": 16,
    "start_time": "2023-09-04T21:29:17.241Z"
   },
   {
    "duration": 12,
    "start_time": "2023-09-04T21:29:17.260Z"
   },
   {
    "duration": 9,
    "start_time": "2023-09-04T21:29:17.274Z"
   },
   {
    "duration": 22,
    "start_time": "2023-09-04T21:29:17.285Z"
   },
   {
    "duration": 21,
    "start_time": "2023-09-04T21:29:17.309Z"
   },
   {
    "duration": 8,
    "start_time": "2023-09-04T21:29:17.333Z"
   },
   {
    "duration": 278,
    "start_time": "2023-09-04T21:29:17.343Z"
   },
   {
    "duration": 0,
    "start_time": "2023-09-04T21:29:17.623Z"
   },
   {
    "duration": 0,
    "start_time": "2023-09-04T21:29:17.640Z"
   },
   {
    "duration": 19,
    "start_time": "2023-09-04T21:29:55.451Z"
   },
   {
    "duration": 78,
    "start_time": "2023-09-04T21:30:15.358Z"
   },
   {
    "duration": 12,
    "start_time": "2023-09-04T21:30:23.797Z"
   },
   {
    "duration": 14,
    "start_time": "2023-09-04T21:30:31.364Z"
   },
   {
    "duration": 10,
    "start_time": "2023-09-04T21:30:36.812Z"
   },
   {
    "duration": 11,
    "start_time": "2023-09-04T21:30:41.264Z"
   },
   {
    "duration": 3,
    "start_time": "2023-09-04T21:33:11.764Z"
   },
   {
    "duration": 5,
    "start_time": "2023-09-04T21:33:12.357Z"
   },
   {
    "duration": 131,
    "start_time": "2023-09-04T21:33:14.127Z"
   },
   {
    "duration": 4,
    "start_time": "2023-09-04T21:33:15.330Z"
   },
   {
    "duration": 4,
    "start_time": "2023-09-04T21:33:30.557Z"
   },
   {
    "duration": 4,
    "start_time": "2023-09-04T21:33:31.173Z"
   },
   {
    "duration": 3,
    "start_time": "2023-09-04T21:33:31.701Z"
   },
   {
    "duration": 4,
    "start_time": "2023-09-04T21:33:32.425Z"
   },
   {
    "duration": 97,
    "start_time": "2023-09-04T21:36:16.260Z"
   },
   {
    "duration": 2,
    "start_time": "2023-09-04T21:38:13.302Z"
   },
   {
    "duration": 112,
    "start_time": "2023-09-04T21:41:52.081Z"
   },
   {
    "duration": 4,
    "start_time": "2023-09-04T21:43:04.109Z"
   },
   {
    "duration": 5,
    "start_time": "2023-09-04T21:46:21.282Z"
   },
   {
    "duration": 3,
    "start_time": "2023-09-04T21:46:21.973Z"
   },
   {
    "duration": 103,
    "start_time": "2023-09-04T21:46:22.253Z"
   },
   {
    "duration": 109,
    "start_time": "2023-09-04T21:46:23.030Z"
   },
   {
    "duration": 12,
    "start_time": "2023-09-04T21:46:31.054Z"
   },
   {
    "duration": 4,
    "start_time": "2023-09-04T21:47:17.979Z"
   },
   {
    "duration": 1131,
    "start_time": "2023-09-04T22:17:32.652Z"
   },
   {
    "duration": 78,
    "start_time": "2023-09-04T22:17:33.785Z"
   },
   {
    "duration": 21,
    "start_time": "2023-09-04T22:17:33.865Z"
   },
   {
    "duration": 12,
    "start_time": "2023-09-04T22:17:33.888Z"
   },
   {
    "duration": 4,
    "start_time": "2023-09-04T22:17:33.902Z"
   },
   {
    "duration": 18,
    "start_time": "2023-09-04T22:17:33.907Z"
   },
   {
    "duration": 13,
    "start_time": "2023-09-04T22:17:33.926Z"
   },
   {
    "duration": 9,
    "start_time": "2023-09-04T22:17:33.941Z"
   },
   {
    "duration": 12,
    "start_time": "2023-09-04T22:17:33.953Z"
   },
   {
    "duration": 18,
    "start_time": "2023-09-04T22:17:33.967Z"
   },
   {
    "duration": 27,
    "start_time": "2023-09-04T22:17:33.987Z"
   },
   {
    "duration": 21,
    "start_time": "2023-09-04T22:17:34.016Z"
   },
   {
    "duration": 26,
    "start_time": "2023-09-04T22:17:34.039Z"
   },
   {
    "duration": 11,
    "start_time": "2023-09-04T22:17:34.068Z"
   },
   {
    "duration": 11,
    "start_time": "2023-09-04T22:17:34.081Z"
   },
   {
    "duration": 14,
    "start_time": "2023-09-04T22:17:34.093Z"
   },
   {
    "duration": 11,
    "start_time": "2023-09-04T22:17:34.108Z"
   },
   {
    "duration": 25,
    "start_time": "2023-09-04T22:17:34.120Z"
   },
   {
    "duration": 14,
    "start_time": "2023-09-04T22:17:34.149Z"
   },
   {
    "duration": 14,
    "start_time": "2023-09-04T22:17:34.165Z"
   },
   {
    "duration": 55,
    "start_time": "2023-09-04T22:17:34.181Z"
   },
   {
    "duration": 105,
    "start_time": "2023-09-04T22:17:34.237Z"
   },
   {
    "duration": 9,
    "start_time": "2023-09-04T22:17:34.345Z"
   },
   {
    "duration": 76,
    "start_time": "2023-09-04T22:17:34.358Z"
   },
   {
    "duration": 24,
    "start_time": "2023-09-04T22:17:34.436Z"
   },
   {
    "duration": 77,
    "start_time": "2023-09-04T22:17:34.462Z"
   },
   {
    "duration": 2676,
    "start_time": "2023-09-05T04:21:04.344Z"
   },
   {
    "duration": 118,
    "start_time": "2023-09-05T04:21:07.022Z"
   },
   {
    "duration": 23,
    "start_time": "2023-09-05T04:21:07.142Z"
   },
   {
    "duration": 13,
    "start_time": "2023-09-05T04:21:07.167Z"
   },
   {
    "duration": 5,
    "start_time": "2023-09-05T04:21:07.182Z"
   },
   {
    "duration": 12,
    "start_time": "2023-09-05T04:21:07.189Z"
   },
   {
    "duration": 12,
    "start_time": "2023-09-05T04:21:07.202Z"
   },
   {
    "duration": 33,
    "start_time": "2023-09-05T04:21:07.216Z"
   },
   {
    "duration": 14,
    "start_time": "2023-09-05T04:21:07.251Z"
   },
   {
    "duration": 11,
    "start_time": "2023-09-05T04:21:07.269Z"
   },
   {
    "duration": 23,
    "start_time": "2023-09-05T04:21:07.282Z"
   },
   {
    "duration": 5,
    "start_time": "2023-09-05T04:21:07.308Z"
   },
   {
    "duration": 33,
    "start_time": "2023-09-05T04:21:07.315Z"
   },
   {
    "duration": 8,
    "start_time": "2023-09-05T04:21:07.350Z"
   },
   {
    "duration": 5,
    "start_time": "2023-09-05T04:21:07.360Z"
   },
   {
    "duration": 9,
    "start_time": "2023-09-05T04:21:07.367Z"
   },
   {
    "duration": 6,
    "start_time": "2023-09-05T04:21:07.378Z"
   },
   {
    "duration": 4,
    "start_time": "2023-09-05T04:21:07.385Z"
   },
   {
    "duration": 6,
    "start_time": "2023-09-05T04:21:07.391Z"
   },
   {
    "duration": 48,
    "start_time": "2023-09-05T04:21:07.399Z"
   },
   {
    "duration": 6,
    "start_time": "2023-09-05T04:21:07.450Z"
   },
   {
    "duration": 91,
    "start_time": "2023-09-05T04:21:07.459Z"
   },
   {
    "duration": 95,
    "start_time": "2023-09-05T04:21:07.553Z"
   },
   {
    "duration": 4,
    "start_time": "2023-09-05T04:21:07.652Z"
   },
   {
    "duration": 102,
    "start_time": "2023-09-05T04:21:07.659Z"
   },
   {
    "duration": 6,
    "start_time": "2023-09-05T04:21:07.849Z"
   },
   {
    "duration": 143,
    "start_time": "2023-09-06T20:31:32.559Z"
   },
   {
    "duration": 1503,
    "start_time": "2023-09-06T21:15:56.664Z"
   },
   {
    "duration": 241,
    "start_time": "2023-09-06T21:15:58.169Z"
   },
   {
    "duration": 37,
    "start_time": "2023-09-06T21:15:58.412Z"
   },
   {
    "duration": 12,
    "start_time": "2023-09-06T21:15:58.451Z"
   },
   {
    "duration": 45,
    "start_time": "2023-09-06T21:15:58.466Z"
   },
   {
    "duration": 25,
    "start_time": "2023-09-06T21:15:58.515Z"
   },
   {
    "duration": 11,
    "start_time": "2023-09-06T21:15:58.548Z"
   },
   {
    "duration": 16,
    "start_time": "2023-09-06T21:15:58.561Z"
   },
   {
    "duration": 38,
    "start_time": "2023-09-06T21:15:58.578Z"
   },
   {
    "duration": 36,
    "start_time": "2023-09-06T21:15:58.622Z"
   },
   {
    "duration": 77,
    "start_time": "2023-09-06T21:15:58.660Z"
   },
   {
    "duration": 27,
    "start_time": "2023-09-06T21:15:58.738Z"
   },
   {
    "duration": 24,
    "start_time": "2023-09-06T21:15:58.767Z"
   },
   {
    "duration": 31,
    "start_time": "2023-09-06T21:15:58.794Z"
   },
   {
    "duration": 21,
    "start_time": "2023-09-06T21:15:58.827Z"
   },
   {
    "duration": 14,
    "start_time": "2023-09-06T21:15:58.851Z"
   },
   {
    "duration": 24,
    "start_time": "2023-09-06T21:15:58.866Z"
   },
   {
    "duration": 14,
    "start_time": "2023-09-06T21:15:58.892Z"
   },
   {
    "duration": 34,
    "start_time": "2023-09-06T21:15:58.913Z"
   },
   {
    "duration": 19,
    "start_time": "2023-09-06T21:15:58.950Z"
   },
   {
    "duration": 20,
    "start_time": "2023-09-06T21:15:58.971Z"
   },
   {
    "duration": 119,
    "start_time": "2023-09-06T21:15:58.993Z"
   },
   {
    "duration": 30,
    "start_time": "2023-09-06T21:15:59.121Z"
   },
   {
    "duration": 10,
    "start_time": "2023-09-06T21:15:59.190Z"
   },
   {
    "duration": 35,
    "start_time": "2023-09-06T21:15:59.216Z"
   },
   {
    "duration": 45,
    "start_time": "2023-09-06T21:15:59.254Z"
   }
  ],
  "kernelspec": {
   "display_name": "Python 3 (ipykernel)",
   "language": "python",
   "name": "python3"
  },
  "language_info": {
   "codemirror_mode": {
    "name": "ipython",
    "version": 3
   },
   "file_extension": ".py",
   "mimetype": "text/x-python",
   "name": "python",
   "nbconvert_exporter": "python",
   "pygments_lexer": "ipython3",
   "version": "3.9.5"
  },
  "toc": {
   "base_numbering": 1,
   "nav_menu": {},
   "number_sections": true,
   "sideBar": true,
   "skip_h1_title": true,
   "title_cell": "Содержание",
   "title_sidebar": "Contents",
   "toc_cell": true,
   "toc_position": {},
   "toc_section_display": true,
   "toc_window_display": false
  }
 },
 "nbformat": 4,
 "nbformat_minor": 2
}
