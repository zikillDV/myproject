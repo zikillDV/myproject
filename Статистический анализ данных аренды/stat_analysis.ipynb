{
 "cells": [
  {
   "cell_type": "markdown",
   "id": "44b26491",
   "metadata": {},
   "source": [
    "**Исследование данных о пользователях сервиса аренды самокатов GoFast**\n",
    "    \n",
    "Нам передали данные о некоторых пользователях популярного сервиса аренды самокатов GoFast из нескольких городов, а также об их поездках.Чтобы совершать поездки по городу, пользователи сервиса GoFast пользуются мобильным приложением.\n",
    "\n",
    "Сервисом можно пользоваться:\n",
    "\n",
    "без подписки абонентская плата отсутствует; стоимость одной минуты поездки — 8 рублей; стоимость старта (начала поездки) — 50 рублей;\n",
    "\n",
    "с подпиской Ultra абонентская плата — 199 рублей в месяц; стоимость одной минуты поездки — 6 рублей; стоимость старта — бесплатно.\n",
    "    \n",
    "<b>Цель исследования:</b>\n",
    "<br/>1. Проанализировать данные о некоторых пользователях популярного сервиса аренды самокатов GoFast из нескольких городов.\n",
    "<br/>2. Проверить гипотезу о том, тратят ли пользователи с подпиской больше времени на поездки.\n",
    "<br/>3. Проверить гипотезу о том, что расстояние, которое проезжают пользователи с подпиской за одну поездку, не превышает 3130 метров. \n",
    "<br/>4. Проверить гипотезуо о том, будет ли помесячная выручка от пользователей с подпиской по месяцам выше, чем выручка от пользователей без подписки.\n",
    "<br/>5. Сделать выводы по полученным данным и дать рекоммендации специалистам отдла маркетинга.\n",
    "\n",
    "<b>Ход исследования:</b>\n",
    "<br/>1. Данные получим из источников: '/datasets/users_go.csv', '/datasets/rides_go.csv', '/datasets/subscriptions_go.csv'. О качестве данных ничего не известно, поэтому перед тем, как приступать к целям исследования, понадобится обзор данных.\n",
    "<br/>2. Проверю данные на ошибки и оценю их влияние на исследование. \n",
    "<br/>3. Постараюсь найти пути исправления всех ошибок данных, которые могут привести к искажению конечного результата.\n",
    "<br/>4. Создам все необходимые датафреймы и столбцы, приступлю к проведению исследовательского анализа и проверке гипотез.\n",
    "    \n",
    "    Таким образом мое исследование пройдет в 8 шагов:\n",
    "    1. Загрузка данных\n",
    "    2. Предобработка данных\n",
    "    3. Исследовательский анализ данных\n",
    "    4. Объединение данных\n",
    "    5. Подсчет выручки\n",
    "    6. Проверка гипотез\n",
    "    7. Распределения (дополнительно)\n",
    "    8. Общие выводы и рекомендации \n",
    "\n",
    "</div>"
   ]
  },
  {
   "cell_type": "code",
   "execution_count": 1,
   "id": "93227e58",
   "metadata": {},
   "outputs": [],
   "source": [
    "import pandas as pd\n",
    "import matplotlib.pyplot as plt\n",
    "import numpy as np\n",
    "from scipy import stats as st\n",
    "from scipy.stats import binom\n",
    "from math import sqrt"
   ]
  },
  {
   "cell_type": "markdown",
   "id": "c42cbe00",
   "metadata": {},
   "source": [
    "#### Шаг 1. Загрузка данных"
   ]
  },
  {
   "cell_type": "code",
   "execution_count": 2,
   "id": "eff9f206",
   "metadata": {},
   "outputs": [],
   "source": [
    "users_go = pd.read_csv('/datasets/users_go.csv')\n",
    "rides_go = pd.read_csv('/datasets/rides_go.csv')\n",
    "subscriptions_go = pd.read_csv('/datasets/subscriptions_go.csv')"
   ]
  },
  {
   "cell_type": "code",
   "execution_count": 3,
   "id": "e367a7d7",
   "metadata": {},
   "outputs": [],
   "source": [
    "#напишем функцию, которая выводит общую информацию о датафрейме \n",
    "def infodf(data):\n",
    "    print(f'Общая информация о датафрейме:')\n",
    "    print('\\n', data.info())\n",
    "    print('\\n',data.describe())\n",
    "    return data"
   ]
  },
  {
   "cell_type": "code",
   "execution_count": 4,
   "id": "1d145afe",
   "metadata": {},
   "outputs": [
    {
     "name": "stdout",
     "output_type": "stream",
     "text": [
      "Общая информация о датафрейме:\n",
      "<class 'pandas.core.frame.DataFrame'>\n",
      "RangeIndex: 1565 entries, 0 to 1564\n",
      "Data columns (total 5 columns):\n",
      " #   Column             Non-Null Count  Dtype \n",
      "---  ------             --------------  ----- \n",
      " 0   user_id            1565 non-null   int64 \n",
      " 1   name               1565 non-null   object\n",
      " 2   age                1565 non-null   int64 \n",
      " 3   city               1565 non-null   object\n",
      " 4   subscription_type  1565 non-null   object\n",
      "dtypes: int64(2), object(3)\n",
      "memory usage: 61.3+ KB\n",
      "\n",
      " None\n",
      "\n",
      "            user_id          age\n",
      "count  1565.000000  1565.000000\n",
      "mean    762.633866    24.922045\n",
      "std     443.260155     4.553496\n",
      "min       1.000000    12.000000\n",
      "25%     378.000000    22.000000\n",
      "50%     762.000000    25.000000\n",
      "75%    1146.000000    28.000000\n",
      "max    1534.000000    43.000000\n"
     ]
    },
    {
     "data": {
      "text/html": [
       "<div>\n",
       "<style scoped>\n",
       "    .dataframe tbody tr th:only-of-type {\n",
       "        vertical-align: middle;\n",
       "    }\n",
       "\n",
       "    .dataframe tbody tr th {\n",
       "        vertical-align: top;\n",
       "    }\n",
       "\n",
       "    .dataframe thead th {\n",
       "        text-align: right;\n",
       "    }\n",
       "</style>\n",
       "<table border=\"1\" class=\"dataframe\">\n",
       "  <thead>\n",
       "    <tr style=\"text-align: right;\">\n",
       "      <th></th>\n",
       "      <th>user_id</th>\n",
       "      <th>name</th>\n",
       "      <th>age</th>\n",
       "      <th>city</th>\n",
       "      <th>subscription_type</th>\n",
       "    </tr>\n",
       "  </thead>\n",
       "  <tbody>\n",
       "    <tr>\n",
       "      <th>0</th>\n",
       "      <td>1</td>\n",
       "      <td>Кира</td>\n",
       "      <td>22</td>\n",
       "      <td>Тюмень</td>\n",
       "      <td>ultra</td>\n",
       "    </tr>\n",
       "    <tr>\n",
       "      <th>1</th>\n",
       "      <td>2</td>\n",
       "      <td>Станислав</td>\n",
       "      <td>31</td>\n",
       "      <td>Омск</td>\n",
       "      <td>ultra</td>\n",
       "    </tr>\n",
       "    <tr>\n",
       "      <th>2</th>\n",
       "      <td>3</td>\n",
       "      <td>Алексей</td>\n",
       "      <td>20</td>\n",
       "      <td>Москва</td>\n",
       "      <td>ultra</td>\n",
       "    </tr>\n",
       "    <tr>\n",
       "      <th>3</th>\n",
       "      <td>4</td>\n",
       "      <td>Константин</td>\n",
       "      <td>26</td>\n",
       "      <td>Ростов-на-Дону</td>\n",
       "      <td>ultra</td>\n",
       "    </tr>\n",
       "    <tr>\n",
       "      <th>4</th>\n",
       "      <td>5</td>\n",
       "      <td>Адель</td>\n",
       "      <td>28</td>\n",
       "      <td>Омск</td>\n",
       "      <td>ultra</td>\n",
       "    </tr>\n",
       "    <tr>\n",
       "      <th>...</th>\n",
       "      <td>...</td>\n",
       "      <td>...</td>\n",
       "      <td>...</td>\n",
       "      <td>...</td>\n",
       "      <td>...</td>\n",
       "    </tr>\n",
       "    <tr>\n",
       "      <th>1560</th>\n",
       "      <td>829</td>\n",
       "      <td>Федор</td>\n",
       "      <td>29</td>\n",
       "      <td>Пятигорск</td>\n",
       "      <td>free</td>\n",
       "    </tr>\n",
       "    <tr>\n",
       "      <th>1561</th>\n",
       "      <td>809</td>\n",
       "      <td>Юрий</td>\n",
       "      <td>26</td>\n",
       "      <td>Сочи</td>\n",
       "      <td>free</td>\n",
       "    </tr>\n",
       "    <tr>\n",
       "      <th>1562</th>\n",
       "      <td>307</td>\n",
       "      <td>Ясмина</td>\n",
       "      <td>19</td>\n",
       "      <td>Краснодар</td>\n",
       "      <td>ultra</td>\n",
       "    </tr>\n",
       "    <tr>\n",
       "      <th>1563</th>\n",
       "      <td>47</td>\n",
       "      <td>Юрий</td>\n",
       "      <td>28</td>\n",
       "      <td>Тюмень</td>\n",
       "      <td>ultra</td>\n",
       "    </tr>\n",
       "    <tr>\n",
       "      <th>1564</th>\n",
       "      <td>1045</td>\n",
       "      <td>Артемий</td>\n",
       "      <td>28</td>\n",
       "      <td>Ростов-на-Дону</td>\n",
       "      <td>free</td>\n",
       "    </tr>\n",
       "  </tbody>\n",
       "</table>\n",
       "<p>1565 rows × 5 columns</p>\n",
       "</div>"
      ],
      "text/plain": [
       "      user_id        name  age            city subscription_type\n",
       "0           1        Кира   22          Тюмень             ultra\n",
       "1           2   Станислав   31            Омск             ultra\n",
       "2           3     Алексей   20          Москва             ultra\n",
       "3           4  Константин   26  Ростов-на-Дону             ultra\n",
       "4           5       Адель   28            Омск             ultra\n",
       "...       ...         ...  ...             ...               ...\n",
       "1560      829       Федор   29       Пятигорск              free\n",
       "1561      809        Юрий   26            Сочи              free\n",
       "1562      307      Ясмина   19       Краснодар             ultra\n",
       "1563       47        Юрий   28          Тюмень             ultra\n",
       "1564     1045     Артемий   28  Ростов-на-Дону              free\n",
       "\n",
       "[1565 rows x 5 columns]"
      ]
     },
     "execution_count": 4,
     "metadata": {},
     "output_type": "execute_result"
    }
   ],
   "source": [
    "infodf(users_go)"
   ]
  },
  {
   "cell_type": "code",
   "execution_count": 5,
   "id": "60340c01",
   "metadata": {},
   "outputs": [
    {
     "name": "stdout",
     "output_type": "stream",
     "text": [
      "Общая информация о датафрейме:\n",
      "<class 'pandas.core.frame.DataFrame'>\n",
      "RangeIndex: 18068 entries, 0 to 18067\n",
      "Data columns (total 4 columns):\n",
      " #   Column    Non-Null Count  Dtype  \n",
      "---  ------    --------------  -----  \n",
      " 0   user_id   18068 non-null  int64  \n",
      " 1   distance  18068 non-null  float64\n",
      " 2   duration  18068 non-null  float64\n",
      " 3   date      18068 non-null  object \n",
      "dtypes: float64(2), int64(1), object(1)\n",
      "memory usage: 564.8+ KB\n",
      "\n",
      " None\n",
      "\n",
      "             user_id      distance      duration\n",
      "count  18068.000000  18068.000000  18068.000000\n",
      "mean     842.869936   3070.659976     17.805011\n",
      "std      434.734317   1116.831209      6.091051\n",
      "min        1.000000      0.855683      0.500000\n",
      "25%      487.000000   2543.226360     13.597563\n",
      "50%      889.000000   3133.609994     17.678395\n",
      "75%     1213.250000   3776.222735     21.724800\n",
      "max     1534.000000   7211.007745     40.823963\n"
     ]
    },
    {
     "data": {
      "text/html": [
       "<div>\n",
       "<style scoped>\n",
       "    .dataframe tbody tr th:only-of-type {\n",
       "        vertical-align: middle;\n",
       "    }\n",
       "\n",
       "    .dataframe tbody tr th {\n",
       "        vertical-align: top;\n",
       "    }\n",
       "\n",
       "    .dataframe thead th {\n",
       "        text-align: right;\n",
       "    }\n",
       "</style>\n",
       "<table border=\"1\" class=\"dataframe\">\n",
       "  <thead>\n",
       "    <tr style=\"text-align: right;\">\n",
       "      <th></th>\n",
       "      <th>user_id</th>\n",
       "      <th>distance</th>\n",
       "      <th>duration</th>\n",
       "      <th>date</th>\n",
       "    </tr>\n",
       "  </thead>\n",
       "  <tbody>\n",
       "    <tr>\n",
       "      <th>0</th>\n",
       "      <td>1</td>\n",
       "      <td>4409.919140</td>\n",
       "      <td>25.599769</td>\n",
       "      <td>2021-01-01</td>\n",
       "    </tr>\n",
       "    <tr>\n",
       "      <th>1</th>\n",
       "      <td>1</td>\n",
       "      <td>2617.592153</td>\n",
       "      <td>15.816871</td>\n",
       "      <td>2021-01-18</td>\n",
       "    </tr>\n",
       "    <tr>\n",
       "      <th>2</th>\n",
       "      <td>1</td>\n",
       "      <td>754.159807</td>\n",
       "      <td>6.232113</td>\n",
       "      <td>2021-04-20</td>\n",
       "    </tr>\n",
       "    <tr>\n",
       "      <th>3</th>\n",
       "      <td>1</td>\n",
       "      <td>2694.783254</td>\n",
       "      <td>18.511000</td>\n",
       "      <td>2021-08-11</td>\n",
       "    </tr>\n",
       "    <tr>\n",
       "      <th>4</th>\n",
       "      <td>1</td>\n",
       "      <td>4028.687306</td>\n",
       "      <td>26.265803</td>\n",
       "      <td>2021-08-28</td>\n",
       "    </tr>\n",
       "    <tr>\n",
       "      <th>...</th>\n",
       "      <td>...</td>\n",
       "      <td>...</td>\n",
       "      <td>...</td>\n",
       "      <td>...</td>\n",
       "    </tr>\n",
       "    <tr>\n",
       "      <th>18063</th>\n",
       "      <td>1534</td>\n",
       "      <td>3781.098080</td>\n",
       "      <td>19.822962</td>\n",
       "      <td>2021-11-04</td>\n",
       "    </tr>\n",
       "    <tr>\n",
       "      <th>18064</th>\n",
       "      <td>1534</td>\n",
       "      <td>2840.423057</td>\n",
       "      <td>21.409799</td>\n",
       "      <td>2021-11-16</td>\n",
       "    </tr>\n",
       "    <tr>\n",
       "      <th>18065</th>\n",
       "      <td>1534</td>\n",
       "      <td>3826.185507</td>\n",
       "      <td>18.435051</td>\n",
       "      <td>2021-11-18</td>\n",
       "    </tr>\n",
       "    <tr>\n",
       "      <th>18066</th>\n",
       "      <td>1534</td>\n",
       "      <td>2902.308661</td>\n",
       "      <td>16.674362</td>\n",
       "      <td>2021-11-27</td>\n",
       "    </tr>\n",
       "    <tr>\n",
       "      <th>18067</th>\n",
       "      <td>1534</td>\n",
       "      <td>2371.711192</td>\n",
       "      <td>15.893917</td>\n",
       "      <td>2021-12-29</td>\n",
       "    </tr>\n",
       "  </tbody>\n",
       "</table>\n",
       "<p>18068 rows × 4 columns</p>\n",
       "</div>"
      ],
      "text/plain": [
       "       user_id     distance   duration        date\n",
       "0            1  4409.919140  25.599769  2021-01-01\n",
       "1            1  2617.592153  15.816871  2021-01-18\n",
       "2            1   754.159807   6.232113  2021-04-20\n",
       "3            1  2694.783254  18.511000  2021-08-11\n",
       "4            1  4028.687306  26.265803  2021-08-28\n",
       "...        ...          ...        ...         ...\n",
       "18063     1534  3781.098080  19.822962  2021-11-04\n",
       "18064     1534  2840.423057  21.409799  2021-11-16\n",
       "18065     1534  3826.185507  18.435051  2021-11-18\n",
       "18066     1534  2902.308661  16.674362  2021-11-27\n",
       "18067     1534  2371.711192  15.893917  2021-12-29\n",
       "\n",
       "[18068 rows x 4 columns]"
      ]
     },
     "execution_count": 5,
     "metadata": {},
     "output_type": "execute_result"
    }
   ],
   "source": [
    "infodf(rides_go)"
   ]
  },
  {
   "cell_type": "code",
   "execution_count": 6,
   "id": "f0472b7a",
   "metadata": {
    "scrolled": true
   },
   "outputs": [
    {
     "name": "stdout",
     "output_type": "stream",
     "text": [
      "Общая информация о датафрейме:\n",
      "<class 'pandas.core.frame.DataFrame'>\n",
      "RangeIndex: 2 entries, 0 to 1\n",
      "Data columns (total 4 columns):\n",
      " #   Column             Non-Null Count  Dtype \n",
      "---  ------             --------------  ----- \n",
      " 0   subscription_type  2 non-null      object\n",
      " 1   minute_price       2 non-null      int64 \n",
      " 2   start_ride_price   2 non-null      int64 \n",
      " 3   subscription_fee   2 non-null      int64 \n",
      "dtypes: int64(3), object(1)\n",
      "memory usage: 192.0+ bytes\n",
      "\n",
      " None\n",
      "\n",
      "        minute_price  start_ride_price  subscription_fee\n",
      "count      2.000000          2.000000          2.000000\n",
      "mean       7.000000         25.000000         99.500000\n",
      "std        1.414214         35.355339        140.714249\n",
      "min        6.000000          0.000000          0.000000\n",
      "25%        6.500000         12.500000         49.750000\n",
      "50%        7.000000         25.000000         99.500000\n",
      "75%        7.500000         37.500000        149.250000\n",
      "max        8.000000         50.000000        199.000000\n"
     ]
    },
    {
     "data": {
      "text/html": [
       "<div>\n",
       "<style scoped>\n",
       "    .dataframe tbody tr th:only-of-type {\n",
       "        vertical-align: middle;\n",
       "    }\n",
       "\n",
       "    .dataframe tbody tr th {\n",
       "        vertical-align: top;\n",
       "    }\n",
       "\n",
       "    .dataframe thead th {\n",
       "        text-align: right;\n",
       "    }\n",
       "</style>\n",
       "<table border=\"1\" class=\"dataframe\">\n",
       "  <thead>\n",
       "    <tr style=\"text-align: right;\">\n",
       "      <th></th>\n",
       "      <th>subscription_type</th>\n",
       "      <th>minute_price</th>\n",
       "      <th>start_ride_price</th>\n",
       "      <th>subscription_fee</th>\n",
       "    </tr>\n",
       "  </thead>\n",
       "  <tbody>\n",
       "    <tr>\n",
       "      <th>0</th>\n",
       "      <td>free</td>\n",
       "      <td>8</td>\n",
       "      <td>50</td>\n",
       "      <td>0</td>\n",
       "    </tr>\n",
       "    <tr>\n",
       "      <th>1</th>\n",
       "      <td>ultra</td>\n",
       "      <td>6</td>\n",
       "      <td>0</td>\n",
       "      <td>199</td>\n",
       "    </tr>\n",
       "  </tbody>\n",
       "</table>\n",
       "</div>"
      ],
      "text/plain": [
       "  subscription_type  minute_price  start_ride_price  subscription_fee\n",
       "0              free             8                50                 0\n",
       "1             ultra             6                 0               199"
      ]
     },
     "execution_count": 6,
     "metadata": {},
     "output_type": "execute_result"
    }
   ],
   "source": [
    "infodf(subscriptions_go)"
   ]
  },
  {
   "cell_type": "markdown",
   "id": "3c6badd5",
   "metadata": {},
   "source": [
    "Пропусков в данных датасетов не наблюдается. В приложении зарегистрировано 1565 человек, возможно есть дублирующиеся записи. Сменить тип данных требуется только в столбце date с object на datetime64."
   ]
  },
  {
   "cell_type": "markdown",
   "id": "e95ebca7",
   "metadata": {},
   "source": [
    "#### Шаг 2. Предобработка данных"
   ]
  },
  {
   "cell_type": "code",
   "execution_count": 7,
   "id": "4f5aa5c0",
   "metadata": {},
   "outputs": [],
   "source": [
    "#изменим тип столба date\n",
    "rides_go['date'] = pd.to_datetime(rides_go['date'], format='%Y-%m-%d')"
   ]
  },
  {
   "cell_type": "markdown",
   "id": "b28fa9fe",
   "metadata": {},
   "source": [
    "Проверим за какой период у нас данные, а также проверим столбец длительности на предмет наличия аномалий."
   ]
  },
  {
   "cell_type": "code",
   "execution_count": 8,
   "id": "00aaa2ed",
   "metadata": {},
   "outputs": [
    {
     "data": {
      "text/plain": [
       "<AxesSubplot:>"
      ]
     },
     "execution_count": 8,
     "metadata": {},
     "output_type": "execute_result"
    },
    {
     "data": {
      "image/png": "[encoded data removed]",
      "text/plain": [
       "<Figure size 216x432 with 1 Axes>"
      ]
     },
     "metadata": {
      "needs_background": "light"
     },
     "output_type": "display_data"
    }
   ],
   "source": [
    "#Внесенные изменения V1:\n",
    "rides_go['duration'].plot.box(figsize=(3,6))"
   ]
  },
  {
   "cell_type": "code",
   "execution_count": 9,
   "id": "f2ae4adf",
   "metadata": {},
   "outputs": [
    {
     "data": {
      "text/html": [
       "<div>\n",
       "<style scoped>\n",
       "    .dataframe tbody tr th:only-of-type {\n",
       "        vertical-align: middle;\n",
       "    }\n",
       "\n",
       "    .dataframe tbody tr th {\n",
       "        vertical-align: top;\n",
       "    }\n",
       "\n",
       "    .dataframe thead tr th {\n",
       "        text-align: left;\n",
       "    }\n",
       "\n",
       "    .dataframe thead tr:last-of-type th {\n",
       "        text-align: right;\n",
       "    }\n",
       "</style>\n",
       "<table border=\"1\" class=\"dataframe\">\n",
       "  <thead>\n",
       "    <tr>\n",
       "      <th></th>\n",
       "      <th>mean</th>\n",
       "      <th>median</th>\n",
       "    </tr>\n",
       "    <tr>\n",
       "      <th></th>\n",
       "      <th>duration</th>\n",
       "      <th>duration</th>\n",
       "    </tr>\n",
       "    <tr>\n",
       "      <th>user_id</th>\n",
       "      <th></th>\n",
       "      <th></th>\n",
       "    </tr>\n",
       "  </thead>\n",
       "  <tbody>\n",
       "    <tr>\n",
       "      <th>1</th>\n",
       "      <td>17.050409</td>\n",
       "      <td>16.233505</td>\n",
       "    </tr>\n",
       "    <tr>\n",
       "      <th>2</th>\n",
       "      <td>17.967662</td>\n",
       "      <td>18.779128</td>\n",
       "    </tr>\n",
       "    <tr>\n",
       "      <th>3</th>\n",
       "      <td>19.432793</td>\n",
       "      <td>19.835873</td>\n",
       "    </tr>\n",
       "    <tr>\n",
       "      <th>4</th>\n",
       "      <td>20.611684</td>\n",
       "      <td>20.723324</td>\n",
       "    </tr>\n",
       "    <tr>\n",
       "      <th>5</th>\n",
       "      <td>15.824903</td>\n",
       "      <td>14.904990</td>\n",
       "    </tr>\n",
       "    <tr>\n",
       "      <th>...</th>\n",
       "      <td>...</td>\n",
       "      <td>...</td>\n",
       "    </tr>\n",
       "    <tr>\n",
       "      <th>1530</th>\n",
       "      <td>17.198049</td>\n",
       "      <td>16.207316</td>\n",
       "    </tr>\n",
       "    <tr>\n",
       "      <th>1531</th>\n",
       "      <td>17.747487</td>\n",
       "      <td>18.308701</td>\n",
       "    </tr>\n",
       "    <tr>\n",
       "      <th>1532</th>\n",
       "      <td>16.320011</td>\n",
       "      <td>14.846434</td>\n",
       "    </tr>\n",
       "    <tr>\n",
       "      <th>1533</th>\n",
       "      <td>18.506177</td>\n",
       "      <td>19.772353</td>\n",
       "    </tr>\n",
       "    <tr>\n",
       "      <th>1534</th>\n",
       "      <td>17.679625</td>\n",
       "      <td>18.343604</td>\n",
       "    </tr>\n",
       "  </tbody>\n",
       "</table>\n",
       "<p>1534 rows × 2 columns</p>\n",
       "</div>"
      ],
      "text/plain": [
       "              mean     median\n",
       "          duration   duration\n",
       "user_id                      \n",
       "1        17.050409  16.233505\n",
       "2        17.967662  18.779128\n",
       "3        19.432793  19.835873\n",
       "4        20.611684  20.723324\n",
       "5        15.824903  14.904990\n",
       "...            ...        ...\n",
       "1530     17.198049  16.207316\n",
       "1531     17.747487  18.308701\n",
       "1532     16.320011  14.846434\n",
       "1533     18.506177  19.772353\n",
       "1534     17.679625  18.343604\n",
       "\n",
       "[1534 rows x 2 columns]"
      ]
     },
     "execution_count": 9,
     "metadata": {},
     "output_type": "execute_result"
    }
   ],
   "source": [
    "#Внесенные изменения V1:\n",
    "pd.pivot_table(rides_go, index='user_id', values='duration', aggfunc=['mean','median'])"
   ]
  },
  {
   "cell_type": "code",
   "execution_count": 10,
   "id": "9d5d09e5",
   "metadata": {},
   "outputs": [
    {
     "name": "stdout",
     "output_type": "stream",
     "text": [
      "Максимальные значения в таблице по поездкам: \n",
      "user_id                    1534\n",
      "distance            7211.007745\n",
      "duration              40.823963\n",
      "date        2021-12-30 00:00:00\n",
      "dtype: object мин.\n",
      "\n",
      "Минимальные значения в таблице по поездкам: \n",
      "user_id                       1\n",
      "distance               0.855683\n",
      "duration                    0.5\n",
      "date        2021-01-01 00:00:00\n",
      "dtype: object мин.\n",
      "\n",
      "Средние значения в таблице по поездкам: \n",
      "user_id      842.869936\n",
      "distance    3070.659976\n",
      "duration      17.805011\n",
      "dtype: float64 мин.\n",
      "\n",
      "Медианные значения в таблице по поездкам: \n",
      "user_id      889.000000\n",
      "distance    3133.609994\n",
      "duration      17.678395\n",
      "dtype: float64 мин.\n"
     ]
    },
    {
     "name": "stderr",
     "output_type": "stream",
     "text": [
      "/tmp/ipykernel_232/3182888116.py:4: FutureWarning: DataFrame.mean and DataFrame.median with numeric_only=None will include datetime64 and datetime64tz columns in a future version.\n",
      "  print(f'\\nСредние значения в таблице по поездкам: \\n{rides_go.mean()} мин.')\n",
      "/tmp/ipykernel_232/3182888116.py:5: FutureWarning: DataFrame.mean and DataFrame.median with numeric_only=None will include datetime64 and datetime64tz columns in a future version.\n",
      "  print(f'\\nМедианные значения в таблице по поездкам: \\n{rides_go.median()} мин.')\n"
     ]
    }
   ],
   "source": [
    "#Внесенные изменения V1:\n",
    "print(f'Максимальные значения в таблице по поездкам: \\n{rides_go.max()} мин.')\n",
    "print(f'\\nМинимальные значения в таблице по поездкам: \\n{rides_go.min()} мин.')\n",
    "print(f'\\nСредние значения в таблице по поездкам: \\n{rides_go.mean()} мин.')\n",
    "print(f'\\nМедианные значения в таблице по поездкам: \\n{rides_go.median()} мин.')"
   ]
  },
  {
   "cell_type": "markdown",
   "id": "735c8eef",
   "metadata": {},
   "source": [
    "<div class=\"alert alert-info\">В представленном датасете информация за 2021 год. Максимальная и минимальная продолжительность поездки хоть и имеет выбросы на боксплоте, но являются вполне реальными значениями. Даже если эти значения могут быть неправдоподобны, то их не так много, чтобы оказать существенное влияние на результат исследования. Максимальная и минимальная дистанция поездок также имеют вполне реальные значения.\n",
    "</div>"
   ]
  },
  {
   "cell_type": "code",
   "execution_count": 11,
   "id": "d88ddd7f",
   "metadata": {},
   "outputs": [],
   "source": [
    "#Cоздадим новый столбец с номером месяца на основе столбца date\n",
    "rides_go['date_m'] = rides_go['date'].dt.month"
   ]
  },
  {
   "cell_type": "code",
   "execution_count": 12,
   "id": "0968ca61",
   "metadata": {},
   "outputs": [
    {
     "name": "stdout",
     "output_type": "stream",
     "text": [
      "user_id              0\n",
      "name                 0\n",
      "age                  0\n",
      "city                 0\n",
      "subscription_type    0\n",
      "dtype: int64\n",
      "\n",
      " user_id     0\n",
      "distance    0\n",
      "duration    0\n",
      "date        0\n",
      "date_m      0\n",
      "dtype: int64\n",
      "\n",
      " subscription_type    0\n",
      "minute_price         0\n",
      "start_ride_price     0\n",
      "subscription_fee     0\n",
      "dtype: int64\n"
     ]
    }
   ],
   "source": [
    "#найдем пропущенные значения в датафреймах\n",
    "#из п.1 видно, что пропущенных и нулевых строк во всех 3 таблицах нет, но убедимся в этом повторно\n",
    "print(users_go.isnull().sum())\n",
    "print('\\n', rides_go.isnull().sum())\n",
    "print('\\n', subscriptions_go.isnull().sum())"
   ]
  },
  {
   "cell_type": "code",
   "execution_count": 13,
   "id": "5f45b73c",
   "metadata": {},
   "outputs": [
    {
     "name": "stdout",
     "output_type": "stream",
     "text": [
      "      user_id        name  age            city subscription_type\n",
      "1534      293       Агата   26       Краснодар             ultra\n",
      "1545      807   Александр   28    Екатеринбург              free\n",
      "1553      121       Алина   25       Пятигорск             ultra\n",
      "1535       16      Амалия   27       Краснодар             ultra\n",
      "1559      209      Андрей   23            Омск             ultra\n",
      "1564     1045     Артемий   28  Ростов-на-Дону              free\n",
      "1549      108       Влада   29          Тюмень             ultra\n",
      "1557      611    Владимир   28            Омск             ultra\n",
      "1543      153      Герман   23          Москва             ultra\n",
      "1547      635      Герман   21          Москва             ultra\n",
      "1554     1198       Демид   29  Ростов-на-Дону              free\n",
      "1558     1237     Евгения   23          Тюмень              free\n",
      "1552      297        Егор   33       Пятигорск             ultra\n",
      "1551      666      Зарина   29          Москва             ultra\n",
      "1541      659       Злата   27  Ростов-на-Дону             ultra\n",
      "1556      422      Кирилл   27            Сочи             ultra\n",
      "1536      909  Константин   20    Екатеринбург              free\n",
      "1546      924       Мария   23       Пятигорск              free\n",
      "1548      136     Марсель   25          Тюмень             ultra\n",
      "1550      737     Мелания   27  Ростов-на-Дону              free\n",
      "1555       72      Никита   25          Москва             ultra\n",
      "1540      127       Павел   25       Пятигорск             ultra\n",
      "1537      403      Полина   19            Сочи             ultra\n",
      "1544     1245      Регина   27       Пятигорск              free\n",
      "1542      204      Руслан   30       Пятигорск             ultra\n",
      "1538      908      Рустам   30          Тюмень              free\n",
      "1539       43    Стефания   22            Омск             ultra\n",
      "1560      829       Федор   29       Пятигорск              free\n",
      "1563       47        Юрий   28          Тюмень             ultra\n",
      "1561      809        Юрий   26            Сочи              free\n",
      "1562      307      Ясмина   19       Краснодар             ultra\n",
      "\n",
      "Число строк: 31\n"
     ]
    }
   ],
   "source": [
    "duplicates = users_go[users_go.duplicated()].sort_values('name', inplace=False)\n",
    "print(duplicates)\n",
    "print('\\nЧисло строк:', duplicates['user_id'].count())"
   ]
  },
  {
   "cell_type": "markdown",
   "id": "082be707",
   "metadata": {},
   "source": [
    "Встречаются редкие имена, а также можно заметить, что у большенстава дубликатов в списке имеется платная подписка. Возможно эти аккаунты были перерегистрированы и на новых учетных записях применен промокод, который позволял активировать месяц бесплатных поездок для новых пользователей. Удалим дубликаты."
   ]
  },
  {
   "cell_type": "code",
   "execution_count": 14,
   "id": "0ef8da23",
   "metadata": {},
   "outputs": [
    {
     "data": {
      "text/plain": [
       "0"
      ]
     },
     "execution_count": 14,
     "metadata": {},
     "output_type": "execute_result"
    }
   ],
   "source": [
    "rides_go.duplicated().sum()"
   ]
  },
  {
   "cell_type": "code",
   "execution_count": 15,
   "id": "b2a0a3f8",
   "metadata": {},
   "outputs": [],
   "source": [
    "#удалим явные дубликаты датафреймов\n",
    "users_go.drop_duplicates(inplace=True)"
   ]
  },
  {
   "cell_type": "code",
   "execution_count": 16,
   "id": "e09b48dd",
   "metadata": {},
   "outputs": [
    {
     "name": "stdout",
     "output_type": "stream",
     "text": [
      "<class 'pandas.core.frame.DataFrame'>\n",
      "Int64Index: 1534 entries, 0 to 1533\n",
      "Data columns (total 5 columns):\n",
      " #   Column             Non-Null Count  Dtype \n",
      "---  ------             --------------  ----- \n",
      " 0   user_id            1534 non-null   int64 \n",
      " 1   name               1534 non-null   object\n",
      " 2   age                1534 non-null   int64 \n",
      " 3   city               1534 non-null   object\n",
      " 4   subscription_type  1534 non-null   object\n",
      "dtypes: int64(2), object(3)\n",
      "memory usage: 71.9+ KB\n"
     ]
    }
   ],
   "source": [
    "users_go.info()"
   ]
  },
  {
   "cell_type": "markdown",
   "id": "5207221f",
   "metadata": {},
   "source": [
    "На данном этапе мы ознакомились с данными 3 датафреймов, изменили тип данных столбца data в одной из таблиц и удалили 31 явный дубликат из таблицы users_go, а также убедились в отсутствии дубликатов в других таблицах."
   ]
  },
  {
   "cell_type": "markdown",
   "id": "212593c7",
   "metadata": {},
   "source": [
    "#### Шаг 3. Исследовательский анализ данных"
   ]
  },
  {
   "cell_type": "markdown",
   "id": "5d017995",
   "metadata": {},
   "source": [
    "Опишим и визуализируем общую информацию о пользователях и поездках:"
   ]
  },
  {
   "cell_type": "code",
   "execution_count": 17,
   "id": "b3dd33ed",
   "metadata": {},
   "outputs": [
    {
     "name": "stdout",
     "output_type": "stream",
     "text": [
      "Москва            168\n",
      "Тюмень            180\n",
      "Омск              183\n",
      "Сочи              189\n",
      "Краснодар         193\n",
      "Ростов-на-Дону    198\n",
      "Екатеринбург      204\n",
      "Пятигорск         219\n",
      "Name: city, dtype: int64\n"
     ]
    }
   ],
   "source": [
    "#частота встречаемости городов\n",
    "users_go_city = users_go['city'].value_counts().sort_values()\n",
    "print(users_go_city)"
   ]
  },
  {
   "cell_type": "code",
   "execution_count": 18,
   "id": "169ef93d",
   "metadata": {},
   "outputs": [
    {
     "data": {
      "image/png": "[encoded data removed]",
      "text/plain": [
       "<Figure size 432x288 with 1 Axes>"
      ]
     },
     "metadata": {
      "needs_background": "light"
     },
     "output_type": "display_data"
    }
   ],
   "source": [
    "users_go_city.plot(kind='bar')\n",
    "plt.title('Распределение пользователей по городам')\n",
    "plt.xlabel('Города')\n",
    "plt.ylabel('Количество пользователей')\n",
    "plt.show()"
   ]
  },
  {
   "cell_type": "markdown",
   "id": "eac7ebef",
   "metadata": {},
   "source": [
    "Больше всего пользователей сервиса в Пятигорске, реже всего пользуются сервисом в Москве."
   ]
  },
  {
   "cell_type": "code",
   "execution_count": 19,
   "id": "9e03596a",
   "metadata": {},
   "outputs": [
    {
     "name": "stdout",
     "output_type": "stream",
     "text": [
      "ultra    699\n",
      "free     835\n",
      "Name: subscription_type, dtype: int64\n"
     ]
    }
   ],
   "source": [
    "#соотношение пользователей с подпиской и без подписки;\n",
    "users_go_subscription = users_go['subscription_type'].value_counts().sort_values()\n",
    "print(users_go_subscription)"
   ]
  },
  {
   "cell_type": "code",
   "execution_count": 20,
   "id": "fa98c3fe",
   "metadata": {},
   "outputs": [
    {
     "data": {
      "image/png": "[encoded data removed]",
      "text/plain": [
       "<Figure size 432x288 with 1 Axes>"
      ]
     },
     "metadata": {
      "needs_background": "light"
     },
     "output_type": "display_data"
    }
   ],
   "source": [
    "users_go_subscription.plot(kind='bar')\n",
    "plt.title('Соотношение пользователей по подпискам')\n",
    "plt.xlabel('Тип подписки')\n",
    "plt.ylabel('Количество пользователей')\n",
    "plt.show()"
   ]
  },
  {
   "cell_type": "code",
   "execution_count": 21,
   "id": "d6fa9a3b",
   "metadata": {},
   "outputs": [
    {
     "name": "stdout",
     "output_type": "stream",
     "text": [
      "Платной подпиской пользуется 45.57%\n"
     ]
    }
   ],
   "source": [
    "print(f'Платной подпиской пользуется {round(699/len(users_go)*100, 2)}%')"
   ]
  },
  {
   "cell_type": "markdown",
   "id": "e3d0ee44",
   "metadata": {},
   "source": [
    "Немного меньше половины пользователей используют платную подписку."
   ]
  },
  {
   "cell_type": "code",
   "execution_count": 22,
   "id": "356011b8",
   "metadata": {},
   "outputs": [
    {
     "name": "stdout",
     "output_type": "stream",
     "text": [
      "25    145\n",
      "24    132\n",
      "26    131\n",
      "23    129\n",
      "27    119\n",
      "22    119\n",
      "28    112\n",
      "21     93\n",
      "20     71\n",
      "30     68\n",
      "29     68\n",
      "31     48\n",
      "19     47\n",
      "18     46\n",
      "32     41\n",
      "33     39\n",
      "17     26\n",
      "34     19\n",
      "16     19\n",
      "35     15\n",
      "15     13\n",
      "14      9\n",
      "13      8\n",
      "36      6\n",
      "12      4\n",
      "38      3\n",
      "37      2\n",
      "39      1\n",
      "43      1\n",
      "Name: age, dtype: int64\n"
     ]
    }
   ],
   "source": [
    "#возраст пользователей;\n",
    "users_go_age = users_go['age'].value_counts()\n",
    "print(users_go_age)"
   ]
  },
  {
   "cell_type": "code",
   "execution_count": 23,
   "id": "76b3e30b",
   "metadata": {},
   "outputs": [
    {
     "data": {
      "image/png": "[encoded data removed]",
      "text/plain": [
       "<Figure size 432x288 with 1 Axes>"
      ]
     },
     "metadata": {
      "needs_background": "light"
     },
     "output_type": "display_data"
    }
   ],
   "source": [
    "users_go_age.sort_index(inplace=False).plot(kind='bar')\n",
    "plt.title('Количество пользователей по возрастам')\n",
    "plt.xlabel('Возраст')\n",
    "plt.ylabel('Количество пользователей')\n",
    "plt.show()"
   ]
  },
  {
   "cell_type": "code",
   "execution_count": 24,
   "id": "e1a78101",
   "metadata": {},
   "outputs": [
    {
     "data": {
      "text/plain": [
       "<AxesSubplot:>"
      ]
     },
     "execution_count": 24,
     "metadata": {},
     "output_type": "execute_result"
    },
    {
     "data": {
      "image/png": "[encoded data removed]",
      "text/plain": [
       "<Figure size 432x288 with 1 Axes>"
      ]
     },
     "metadata": {
      "needs_background": "light"
     },
     "output_type": "display_data"
    }
   ],
   "source": [
    "#Внесенные изменения V1:\n",
    "users_go['age'].plot.box()"
   ]
  },
  {
   "cell_type": "markdown",
   "id": "013dc7ca",
   "metadata": {},
   "source": [
    "Есть выбросы, но их количество незначительно и сами значения вполне реальны.Оствим их без изменений."
   ]
  },
  {
   "cell_type": "code",
   "execution_count": 25,
   "id": "0bf8790e",
   "metadata": {},
   "outputs": [
    {
     "data": {
      "text/plain": [
       "count    1534.000000\n",
       "mean       24.903520\n",
       "std         4.572367\n",
       "min        12.000000\n",
       "25%        22.000000\n",
       "50%        25.000000\n",
       "75%        28.000000\n",
       "max        43.000000\n",
       "Name: age, dtype: float64"
      ]
     },
     "execution_count": 25,
     "metadata": {},
     "output_type": "execute_result"
    }
   ],
   "source": [
    "users_go['age'].describe()"
   ]
  },
  {
   "cell_type": "markdown",
   "id": "af96286f",
   "metadata": {},
   "source": [
    "Гистограмма пользователей по возрастам распределена нормально. Средний возраст пользователей близок к 25 годам и имеет стандартное отклонение около 4.6 лет. Самому молодому пользователю - 12 лет, а самому возрастному - 43 года."
   ]
  },
  {
   "cell_type": "code",
   "execution_count": 26,
   "id": "25c36f52",
   "metadata": {},
   "outputs": [
    {
     "data": {
      "image/png": "[encoded data removed]",
      "text/plain": [
       "<Figure size 432x288 with 1 Axes>"
      ]
     },
     "metadata": {
      "needs_background": "light"
     },
     "output_type": "display_data"
    }
   ],
   "source": [
    "#расстояние, которое пользователь преодолел за одну поездку;\n",
    "rides_go_distance = rides_go['distance']\n",
    "\n",
    "rides_go_distance.plot.hist(bins=14, alpha=0.7)\n",
    "plt.xlabel('Расстояние за одну поездку, км.')\n",
    "plt.ylabel('Количество поездок')\n",
    "plt.title('Расстояние, которое пользователь преодолел за одну поездку')\n",
    "plt.show()"
   ]
  },
  {
   "cell_type": "code",
   "execution_count": 27,
   "id": "aef35d70",
   "metadata": {},
   "outputs": [
    {
     "data": {
      "text/plain": [
       "<AxesSubplot:>"
      ]
     },
     "execution_count": 27,
     "metadata": {},
     "output_type": "execute_result"
    },
    {
     "data": {
      "image/png": "[encoded data removed]",
      "text/plain": [
       "<Figure size 432x288 with 1 Axes>"
      ]
     },
     "metadata": {
      "needs_background": "light"
     },
     "output_type": "display_data"
    }
   ],
   "source": [
    "#Внесенные изменения V1:\n",
    "rides_go['distance'].plot.box()"
   ]
  },
  {
   "cell_type": "code",
   "execution_count": 28,
   "id": "c4c2eb2f",
   "metadata": {},
   "outputs": [
    {
     "data": {
      "text/plain": [
       "count    18068.000000\n",
       "mean      3070.659976\n",
       "std       1116.831209\n",
       "min          0.855683\n",
       "25%       2543.226360\n",
       "50%       3133.609994\n",
       "75%       3776.222735\n",
       "max       7211.007745\n",
       "Name: distance, dtype: float64"
      ]
     },
     "execution_count": 28,
     "metadata": {},
     "output_type": "execute_result"
    }
   ],
   "source": [
    "rides_go_distance.describe()"
   ]
  },
  {
   "cell_type": "markdown",
   "id": "f2936cc0",
   "metadata": {},
   "source": [
    "Основная часть поездок занимает от 2500 до 3800 метров. Медиана 3133 метра. Поездки на расстояние более 5 км редки. Однако на гистограмме видно, что некоторая часть пользователей использует самокаты для коротких поездок - до 1500 м."
   ]
  },
  {
   "cell_type": "code",
   "execution_count": 29,
   "id": "ba8dc253",
   "metadata": {},
   "outputs": [
    {
     "data": {
      "image/png": "[encoded data removed]",
      "text/plain": [
       "<Figure size 432x288 with 1 Axes>"
      ]
     },
     "metadata": {
      "needs_background": "light"
     },
     "output_type": "display_data"
    }
   ],
   "source": [
    "#продолжительность поездок\n",
    "rides_go_duration = rides_go['duration']\n",
    "\n",
    "rides_go_duration.plot.hist(bins=20, alpha=0.7, color='pink')\n",
    "plt.xlabel('Продолжительность поездки, мин.')\n",
    "plt.ylabel('Количество поездок')\n",
    "plt.show()"
   ]
  },
  {
   "cell_type": "code",
   "execution_count": 30,
   "id": "9b732326",
   "metadata": {},
   "outputs": [
    {
     "data": {
      "text/plain": [
       "count    18068.000000\n",
       "mean        17.805011\n",
       "std          6.091051\n",
       "min          0.500000\n",
       "25%         13.597563\n",
       "50%         17.678395\n",
       "75%         21.724800\n",
       "max         40.823963\n",
       "Name: duration, dtype: float64"
      ]
     },
     "execution_count": 30,
     "metadata": {},
     "output_type": "execute_result"
    }
   ],
   "source": [
    "rides_go_duration.describe()"
   ]
  },
  {
   "cell_type": "markdown",
   "id": "3f4559d7",
   "metadata": {},
   "source": [
    "Продолжительность поездок также как и расстояние поездок распределена нормально. В среднем на поездку у пользователей уходит около 17.5 минут. Самая долгая поездка длилась практически 41 минуту."
   ]
  },
  {
   "cell_type": "markdown",
   "id": "9bce65b7",
   "metadata": {},
   "source": [
    "<b> Вывод по шагу 3 </b>\n",
    "\n",
    "Таким образом, больше всего пользователей в Пятигорске, меньше всего в Москве. 54% (835 человек) представленных пользователей испоьзуют подписку free.Средний возраст пользователей близок к 25 годам. Люди в среднем проезжают 3070.7 метров, при этом половина пользователей проезжает 3133.6 метров. В среднем на поездку у пользователей уходит около 17.5 минут.\n"
   ]
  },
  {
   "cell_type": "markdown",
   "id": "4ef51331",
   "metadata": {},
   "source": [
    "#### Шаг 4. Объединение данных"
   ]
  },
  {
   "cell_type": "code",
   "execution_count": 31,
   "id": "6bf288b5",
   "metadata": {},
   "outputs": [],
   "source": [
    "#Объединидам данные о пользователях, поездках и подписках в один датафрейм.\n",
    "all_df = users_go.merge(rides_go, on='user_id', how='inner')\n",
    "all_df = all_df.merge(subscriptions_go, on='subscription_type', how='inner')       "
   ]
  },
  {
   "cell_type": "code",
   "execution_count": 32,
   "id": "8463b282",
   "metadata": {},
   "outputs": [
    {
     "data": {
      "text/html": [
       "<div>\n",
       "<style scoped>\n",
       "    .dataframe tbody tr th:only-of-type {\n",
       "        vertical-align: middle;\n",
       "    }\n",
       "\n",
       "    .dataframe tbody tr th {\n",
       "        vertical-align: top;\n",
       "    }\n",
       "\n",
       "    .dataframe thead th {\n",
       "        text-align: right;\n",
       "    }\n",
       "</style>\n",
       "<table border=\"1\" class=\"dataframe\">\n",
       "  <thead>\n",
       "    <tr style=\"text-align: right;\">\n",
       "      <th></th>\n",
       "      <th>user_id</th>\n",
       "      <th>name</th>\n",
       "      <th>age</th>\n",
       "      <th>city</th>\n",
       "      <th>subscription_type</th>\n",
       "      <th>distance</th>\n",
       "      <th>duration</th>\n",
       "      <th>date</th>\n",
       "      <th>date_m</th>\n",
       "      <th>minute_price</th>\n",
       "      <th>start_ride_price</th>\n",
       "      <th>subscription_fee</th>\n",
       "    </tr>\n",
       "  </thead>\n",
       "  <tbody>\n",
       "    <tr>\n",
       "      <th>0</th>\n",
       "      <td>1</td>\n",
       "      <td>Кира</td>\n",
       "      <td>22</td>\n",
       "      <td>Тюмень</td>\n",
       "      <td>ultra</td>\n",
       "      <td>4409.919140</td>\n",
       "      <td>25.599769</td>\n",
       "      <td>2021-01-01</td>\n",
       "      <td>1</td>\n",
       "      <td>6</td>\n",
       "      <td>0</td>\n",
       "      <td>199</td>\n",
       "    </tr>\n",
       "    <tr>\n",
       "      <th>1</th>\n",
       "      <td>1</td>\n",
       "      <td>Кира</td>\n",
       "      <td>22</td>\n",
       "      <td>Тюмень</td>\n",
       "      <td>ultra</td>\n",
       "      <td>2617.592153</td>\n",
       "      <td>15.816871</td>\n",
       "      <td>2021-01-18</td>\n",
       "      <td>1</td>\n",
       "      <td>6</td>\n",
       "      <td>0</td>\n",
       "      <td>199</td>\n",
       "    </tr>\n",
       "    <tr>\n",
       "      <th>2</th>\n",
       "      <td>1</td>\n",
       "      <td>Кира</td>\n",
       "      <td>22</td>\n",
       "      <td>Тюмень</td>\n",
       "      <td>ultra</td>\n",
       "      <td>754.159807</td>\n",
       "      <td>6.232113</td>\n",
       "      <td>2021-04-20</td>\n",
       "      <td>4</td>\n",
       "      <td>6</td>\n",
       "      <td>0</td>\n",
       "      <td>199</td>\n",
       "    </tr>\n",
       "    <tr>\n",
       "      <th>3</th>\n",
       "      <td>1</td>\n",
       "      <td>Кира</td>\n",
       "      <td>22</td>\n",
       "      <td>Тюмень</td>\n",
       "      <td>ultra</td>\n",
       "      <td>2694.783254</td>\n",
       "      <td>18.511000</td>\n",
       "      <td>2021-08-11</td>\n",
       "      <td>8</td>\n",
       "      <td>6</td>\n",
       "      <td>0</td>\n",
       "      <td>199</td>\n",
       "    </tr>\n",
       "    <tr>\n",
       "      <th>4</th>\n",
       "      <td>1</td>\n",
       "      <td>Кира</td>\n",
       "      <td>22</td>\n",
       "      <td>Тюмень</td>\n",
       "      <td>ultra</td>\n",
       "      <td>4028.687306</td>\n",
       "      <td>26.265803</td>\n",
       "      <td>2021-08-28</td>\n",
       "      <td>8</td>\n",
       "      <td>6</td>\n",
       "      <td>0</td>\n",
       "      <td>199</td>\n",
       "    </tr>\n",
       "    <tr>\n",
       "      <th>...</th>\n",
       "      <td>...</td>\n",
       "      <td>...</td>\n",
       "      <td>...</td>\n",
       "      <td>...</td>\n",
       "      <td>...</td>\n",
       "      <td>...</td>\n",
       "      <td>...</td>\n",
       "      <td>...</td>\n",
       "      <td>...</td>\n",
       "      <td>...</td>\n",
       "      <td>...</td>\n",
       "      <td>...</td>\n",
       "    </tr>\n",
       "    <tr>\n",
       "      <th>18063</th>\n",
       "      <td>1534</td>\n",
       "      <td>Альберт</td>\n",
       "      <td>25</td>\n",
       "      <td>Краснодар</td>\n",
       "      <td>free</td>\n",
       "      <td>3781.098080</td>\n",
       "      <td>19.822962</td>\n",
       "      <td>2021-11-04</td>\n",
       "      <td>11</td>\n",
       "      <td>8</td>\n",
       "      <td>50</td>\n",
       "      <td>0</td>\n",
       "    </tr>\n",
       "    <tr>\n",
       "      <th>18064</th>\n",
       "      <td>1534</td>\n",
       "      <td>Альберт</td>\n",
       "      <td>25</td>\n",
       "      <td>Краснодар</td>\n",
       "      <td>free</td>\n",
       "      <td>2840.423057</td>\n",
       "      <td>21.409799</td>\n",
       "      <td>2021-11-16</td>\n",
       "      <td>11</td>\n",
       "      <td>8</td>\n",
       "      <td>50</td>\n",
       "      <td>0</td>\n",
       "    </tr>\n",
       "    <tr>\n",
       "      <th>18065</th>\n",
       "      <td>1534</td>\n",
       "      <td>Альберт</td>\n",
       "      <td>25</td>\n",
       "      <td>Краснодар</td>\n",
       "      <td>free</td>\n",
       "      <td>3826.185507</td>\n",
       "      <td>18.435051</td>\n",
       "      <td>2021-11-18</td>\n",
       "      <td>11</td>\n",
       "      <td>8</td>\n",
       "      <td>50</td>\n",
       "      <td>0</td>\n",
       "    </tr>\n",
       "    <tr>\n",
       "      <th>18066</th>\n",
       "      <td>1534</td>\n",
       "      <td>Альберт</td>\n",
       "      <td>25</td>\n",
       "      <td>Краснодар</td>\n",
       "      <td>free</td>\n",
       "      <td>2902.308661</td>\n",
       "      <td>16.674362</td>\n",
       "      <td>2021-11-27</td>\n",
       "      <td>11</td>\n",
       "      <td>8</td>\n",
       "      <td>50</td>\n",
       "      <td>0</td>\n",
       "    </tr>\n",
       "    <tr>\n",
       "      <th>18067</th>\n",
       "      <td>1534</td>\n",
       "      <td>Альберт</td>\n",
       "      <td>25</td>\n",
       "      <td>Краснодар</td>\n",
       "      <td>free</td>\n",
       "      <td>2371.711192</td>\n",
       "      <td>15.893917</td>\n",
       "      <td>2021-12-29</td>\n",
       "      <td>12</td>\n",
       "      <td>8</td>\n",
       "      <td>50</td>\n",
       "      <td>0</td>\n",
       "    </tr>\n",
       "  </tbody>\n",
       "</table>\n",
       "<p>18068 rows × 12 columns</p>\n",
       "</div>"
      ],
      "text/plain": [
       "       user_id     name  age       city subscription_type     distance  \\\n",
       "0            1     Кира   22     Тюмень             ultra  4409.919140   \n",
       "1            1     Кира   22     Тюмень             ultra  2617.592153   \n",
       "2            1     Кира   22     Тюмень             ultra   754.159807   \n",
       "3            1     Кира   22     Тюмень             ultra  2694.783254   \n",
       "4            1     Кира   22     Тюмень             ultra  4028.687306   \n",
       "...        ...      ...  ...        ...               ...          ...   \n",
       "18063     1534  Альберт   25  Краснодар              free  3781.098080   \n",
       "18064     1534  Альберт   25  Краснодар              free  2840.423057   \n",
       "18065     1534  Альберт   25  Краснодар              free  3826.185507   \n",
       "18066     1534  Альберт   25  Краснодар              free  2902.308661   \n",
       "18067     1534  Альберт   25  Краснодар              free  2371.711192   \n",
       "\n",
       "        duration       date  date_m  minute_price  start_ride_price  \\\n",
       "0      25.599769 2021-01-01       1             6                 0   \n",
       "1      15.816871 2021-01-18       1             6                 0   \n",
       "2       6.232113 2021-04-20       4             6                 0   \n",
       "3      18.511000 2021-08-11       8             6                 0   \n",
       "4      26.265803 2021-08-28       8             6                 0   \n",
       "...          ...        ...     ...           ...               ...   \n",
       "18063  19.822962 2021-11-04      11             8                50   \n",
       "18064  21.409799 2021-11-16      11             8                50   \n",
       "18065  18.435051 2021-11-18      11             8                50   \n",
       "18066  16.674362 2021-11-27      11             8                50   \n",
       "18067  15.893917 2021-12-29      12             8                50   \n",
       "\n",
       "       subscription_fee  \n",
       "0                   199  \n",
       "1                   199  \n",
       "2                   199  \n",
       "3                   199  \n",
       "4                   199  \n",
       "...                 ...  \n",
       "18063                 0  \n",
       "18064                 0  \n",
       "18065                 0  \n",
       "18066                 0  \n",
       "18067                 0  \n",
       "\n",
       "[18068 rows x 12 columns]"
      ]
     },
     "execution_count": 32,
     "metadata": {},
     "output_type": "execute_result"
    }
   ],
   "source": [
    "all_df"
   ]
  },
  {
   "cell_type": "code",
   "execution_count": 33,
   "id": "8df5648f",
   "metadata": {},
   "outputs": [
    {
     "name": "stdout",
     "output_type": "stream",
     "text": [
      "Число строк и столбцов до объединения (1534, 5), соответственно в таблице users_go.\n",
      "Число строк и столбцов до объединения (18068, 5), соответственно в таблице rides_go.\n",
      "Число строк и столбцов до объединения (2, 4), соответственно в таблице subscriptions_go.\n",
      "Число строк и столбцов после объединения 3 таблиц (18068, 12), соответственно.\n"
     ]
    }
   ],
   "source": [
    "#Внесенные изменения V1:\n",
    "#проверим размерность таблиц до и после объединения\n",
    "print(f'Число строк и столбцов до объединения {users_go.shape}, соответственно в таблице users_go.')\n",
    "print(f'Число строк и столбцов до объединения {rides_go.shape}, соответственно в таблице rides_go.')\n",
    "print(f'Число строк и столбцов до объединения {subscriptions_go.shape}, соответственно в таблице subscriptions_go.')\n",
    "print(f'Число строк и столбцов после объединения 3 таблиц {all_df.shape}, соответственно.')"
   ]
  },
  {
   "cell_type": "markdown",
   "id": "b453697a",
   "metadata": {},
   "source": [
    "Так как для объединения был выбран метод merge, то размерность полученной таблицы соответствует ожидаемым результатам, т.е. 18068 строк и 12 столбцов."
   ]
  },
  {
   "cell_type": "code",
   "execution_count": 34,
   "id": "dfd4dec4",
   "metadata": {},
   "outputs": [
    {
     "data": {
      "text/html": [
       "<div>\n",
       "<style scoped>\n",
       "    .dataframe tbody tr th:only-of-type {\n",
       "        vertical-align: middle;\n",
       "    }\n",
       "\n",
       "    .dataframe tbody tr th {\n",
       "        vertical-align: top;\n",
       "    }\n",
       "\n",
       "    .dataframe thead th {\n",
       "        text-align: right;\n",
       "    }\n",
       "</style>\n",
       "<table border=\"1\" class=\"dataframe\">\n",
       "  <thead>\n",
       "    <tr style=\"text-align: right;\">\n",
       "      <th></th>\n",
       "      <th>index</th>\n",
       "      <th>user_id</th>\n",
       "      <th>name</th>\n",
       "      <th>age</th>\n",
       "      <th>city</th>\n",
       "      <th>subscription_type</th>\n",
       "      <th>distance</th>\n",
       "      <th>duration</th>\n",
       "      <th>date</th>\n",
       "      <th>date_m</th>\n",
       "      <th>minute_price</th>\n",
       "      <th>start_ride_price</th>\n",
       "      <th>subscription_fee</th>\n",
       "    </tr>\n",
       "  </thead>\n",
       "  <tbody>\n",
       "    <tr>\n",
       "      <th>0</th>\n",
       "      <td>6500</td>\n",
       "      <td>700</td>\n",
       "      <td>Айдар</td>\n",
       "      <td>22</td>\n",
       "      <td>Омск</td>\n",
       "      <td>free</td>\n",
       "      <td>2515.690719</td>\n",
       "      <td>14.944286</td>\n",
       "      <td>2021-01-02</td>\n",
       "      <td>1</td>\n",
       "      <td>8</td>\n",
       "      <td>50</td>\n",
       "      <td>0</td>\n",
       "    </tr>\n",
       "    <tr>\n",
       "      <th>1</th>\n",
       "      <td>6501</td>\n",
       "      <td>700</td>\n",
       "      <td>Айдар</td>\n",
       "      <td>22</td>\n",
       "      <td>Омск</td>\n",
       "      <td>free</td>\n",
       "      <td>846.932642</td>\n",
       "      <td>16.234663</td>\n",
       "      <td>2021-02-01</td>\n",
       "      <td>2</td>\n",
       "      <td>8</td>\n",
       "      <td>50</td>\n",
       "      <td>0</td>\n",
       "    </tr>\n",
       "    <tr>\n",
       "      <th>2</th>\n",
       "      <td>6502</td>\n",
       "      <td>700</td>\n",
       "      <td>Айдар</td>\n",
       "      <td>22</td>\n",
       "      <td>Омск</td>\n",
       "      <td>free</td>\n",
       "      <td>4004.434142</td>\n",
       "      <td>20.016628</td>\n",
       "      <td>2021-02-04</td>\n",
       "      <td>2</td>\n",
       "      <td>8</td>\n",
       "      <td>50</td>\n",
       "      <td>0</td>\n",
       "    </tr>\n",
       "    <tr>\n",
       "      <th>3</th>\n",
       "      <td>6503</td>\n",
       "      <td>700</td>\n",
       "      <td>Айдар</td>\n",
       "      <td>22</td>\n",
       "      <td>Омск</td>\n",
       "      <td>free</td>\n",
       "      <td>1205.911290</td>\n",
       "      <td>9.782872</td>\n",
       "      <td>2021-02-10</td>\n",
       "      <td>2</td>\n",
       "      <td>8</td>\n",
       "      <td>50</td>\n",
       "      <td>0</td>\n",
       "    </tr>\n",
       "    <tr>\n",
       "      <th>4</th>\n",
       "      <td>6504</td>\n",
       "      <td>700</td>\n",
       "      <td>Айдар</td>\n",
       "      <td>22</td>\n",
       "      <td>Омск</td>\n",
       "      <td>free</td>\n",
       "      <td>3047.379435</td>\n",
       "      <td>17.427673</td>\n",
       "      <td>2021-02-14</td>\n",
       "      <td>2</td>\n",
       "      <td>8</td>\n",
       "      <td>50</td>\n",
       "      <td>0</td>\n",
       "    </tr>\n",
       "    <tr>\n",
       "      <th>...</th>\n",
       "      <td>...</td>\n",
       "      <td>...</td>\n",
       "      <td>...</td>\n",
       "      <td>...</td>\n",
       "      <td>...</td>\n",
       "      <td>...</td>\n",
       "      <td>...</td>\n",
       "      <td>...</td>\n",
       "      <td>...</td>\n",
       "      <td>...</td>\n",
       "      <td>...</td>\n",
       "      <td>...</td>\n",
       "      <td>...</td>\n",
       "    </tr>\n",
       "    <tr>\n",
       "      <th>11563</th>\n",
       "      <td>18063</td>\n",
       "      <td>1534</td>\n",
       "      <td>Альберт</td>\n",
       "      <td>25</td>\n",
       "      <td>Краснодар</td>\n",
       "      <td>free</td>\n",
       "      <td>3781.098080</td>\n",
       "      <td>19.822962</td>\n",
       "      <td>2021-11-04</td>\n",
       "      <td>11</td>\n",
       "      <td>8</td>\n",
       "      <td>50</td>\n",
       "      <td>0</td>\n",
       "    </tr>\n",
       "    <tr>\n",
       "      <th>11564</th>\n",
       "      <td>18064</td>\n",
       "      <td>1534</td>\n",
       "      <td>Альберт</td>\n",
       "      <td>25</td>\n",
       "      <td>Краснодар</td>\n",
       "      <td>free</td>\n",
       "      <td>2840.423057</td>\n",
       "      <td>21.409799</td>\n",
       "      <td>2021-11-16</td>\n",
       "      <td>11</td>\n",
       "      <td>8</td>\n",
       "      <td>50</td>\n",
       "      <td>0</td>\n",
       "    </tr>\n",
       "    <tr>\n",
       "      <th>11565</th>\n",
       "      <td>18065</td>\n",
       "      <td>1534</td>\n",
       "      <td>Альберт</td>\n",
       "      <td>25</td>\n",
       "      <td>Краснодар</td>\n",
       "      <td>free</td>\n",
       "      <td>3826.185507</td>\n",
       "      <td>18.435051</td>\n",
       "      <td>2021-11-18</td>\n",
       "      <td>11</td>\n",
       "      <td>8</td>\n",
       "      <td>50</td>\n",
       "      <td>0</td>\n",
       "    </tr>\n",
       "    <tr>\n",
       "      <th>11566</th>\n",
       "      <td>18066</td>\n",
       "      <td>1534</td>\n",
       "      <td>Альберт</td>\n",
       "      <td>25</td>\n",
       "      <td>Краснодар</td>\n",
       "      <td>free</td>\n",
       "      <td>2902.308661</td>\n",
       "      <td>16.674362</td>\n",
       "      <td>2021-11-27</td>\n",
       "      <td>11</td>\n",
       "      <td>8</td>\n",
       "      <td>50</td>\n",
       "      <td>0</td>\n",
       "    </tr>\n",
       "    <tr>\n",
       "      <th>11567</th>\n",
       "      <td>18067</td>\n",
       "      <td>1534</td>\n",
       "      <td>Альберт</td>\n",
       "      <td>25</td>\n",
       "      <td>Краснодар</td>\n",
       "      <td>free</td>\n",
       "      <td>2371.711192</td>\n",
       "      <td>15.893917</td>\n",
       "      <td>2021-12-29</td>\n",
       "      <td>12</td>\n",
       "      <td>8</td>\n",
       "      <td>50</td>\n",
       "      <td>0</td>\n",
       "    </tr>\n",
       "  </tbody>\n",
       "</table>\n",
       "<p>11568 rows × 13 columns</p>\n",
       "</div>"
      ],
      "text/plain": [
       "       index  user_id     name  age       city subscription_type     distance  \\\n",
       "0       6500      700    Айдар   22       Омск              free  2515.690719   \n",
       "1       6501      700    Айдар   22       Омск              free   846.932642   \n",
       "2       6502      700    Айдар   22       Омск              free  4004.434142   \n",
       "3       6503      700    Айдар   22       Омск              free  1205.911290   \n",
       "4       6504      700    Айдар   22       Омск              free  3047.379435   \n",
       "...      ...      ...      ...  ...        ...               ...          ...   \n",
       "11563  18063     1534  Альберт   25  Краснодар              free  3781.098080   \n",
       "11564  18064     1534  Альберт   25  Краснодар              free  2840.423057   \n",
       "11565  18065     1534  Альберт   25  Краснодар              free  3826.185507   \n",
       "11566  18066     1534  Альберт   25  Краснодар              free  2902.308661   \n",
       "11567  18067     1534  Альберт   25  Краснодар              free  2371.711192   \n",
       "\n",
       "        duration       date  date_m  minute_price  start_ride_price  \\\n",
       "0      14.944286 2021-01-02       1             8                50   \n",
       "1      16.234663 2021-02-01       2             8                50   \n",
       "2      20.016628 2021-02-04       2             8                50   \n",
       "3       9.782872 2021-02-10       2             8                50   \n",
       "4      17.427673 2021-02-14       2             8                50   \n",
       "...          ...        ...     ...           ...               ...   \n",
       "11563  19.822962 2021-11-04      11             8                50   \n",
       "11564  21.409799 2021-11-16      11             8                50   \n",
       "11565  18.435051 2021-11-18      11             8                50   \n",
       "11566  16.674362 2021-11-27      11             8                50   \n",
       "11567  15.893917 2021-12-29      12             8                50   \n",
       "\n",
       "       subscription_fee  \n",
       "0                     0  \n",
       "1                     0  \n",
       "2                     0  \n",
       "3                     0  \n",
       "4                     0  \n",
       "...                 ...  \n",
       "11563                 0  \n",
       "11564                 0  \n",
       "11565                 0  \n",
       "11566                 0  \n",
       "11567                 0  \n",
       "\n",
       "[11568 rows x 13 columns]"
      ]
     },
     "execution_count": 34,
     "metadata": {},
     "output_type": "execute_result"
    }
   ],
   "source": [
    "#создадим ещё два датафрейма на основе all_df\n",
    "# 1 c данными о пользователях без подписки;\n",
    "all_df_free = all_df[all_df['subscription_type'] == 'free'].reset_index()\n",
    "all_df_free"
   ]
  },
  {
   "cell_type": "code",
   "execution_count": 35,
   "id": "1c07e1b1",
   "metadata": {},
   "outputs": [
    {
     "data": {
      "text/html": [
       "<div>\n",
       "<style scoped>\n",
       "    .dataframe tbody tr th:only-of-type {\n",
       "        vertical-align: middle;\n",
       "    }\n",
       "\n",
       "    .dataframe tbody tr th {\n",
       "        vertical-align: top;\n",
       "    }\n",
       "\n",
       "    .dataframe thead th {\n",
       "        text-align: right;\n",
       "    }\n",
       "</style>\n",
       "<table border=\"1\" class=\"dataframe\">\n",
       "  <thead>\n",
       "    <tr style=\"text-align: right;\">\n",
       "      <th></th>\n",
       "      <th>user_id</th>\n",
       "      <th>name</th>\n",
       "      <th>age</th>\n",
       "      <th>city</th>\n",
       "      <th>subscription_type</th>\n",
       "      <th>distance</th>\n",
       "      <th>duration</th>\n",
       "      <th>date</th>\n",
       "      <th>date_m</th>\n",
       "      <th>minute_price</th>\n",
       "      <th>start_ride_price</th>\n",
       "      <th>subscription_fee</th>\n",
       "    </tr>\n",
       "  </thead>\n",
       "  <tbody>\n",
       "    <tr>\n",
       "      <th>0</th>\n",
       "      <td>1</td>\n",
       "      <td>Кира</td>\n",
       "      <td>22</td>\n",
       "      <td>Тюмень</td>\n",
       "      <td>ultra</td>\n",
       "      <td>4409.919140</td>\n",
       "      <td>25.599769</td>\n",
       "      <td>2021-01-01</td>\n",
       "      <td>1</td>\n",
       "      <td>6</td>\n",
       "      <td>0</td>\n",
       "      <td>199</td>\n",
       "    </tr>\n",
       "    <tr>\n",
       "      <th>1</th>\n",
       "      <td>1</td>\n",
       "      <td>Кира</td>\n",
       "      <td>22</td>\n",
       "      <td>Тюмень</td>\n",
       "      <td>ultra</td>\n",
       "      <td>2617.592153</td>\n",
       "      <td>15.816871</td>\n",
       "      <td>2021-01-18</td>\n",
       "      <td>1</td>\n",
       "      <td>6</td>\n",
       "      <td>0</td>\n",
       "      <td>199</td>\n",
       "    </tr>\n",
       "    <tr>\n",
       "      <th>2</th>\n",
       "      <td>1</td>\n",
       "      <td>Кира</td>\n",
       "      <td>22</td>\n",
       "      <td>Тюмень</td>\n",
       "      <td>ultra</td>\n",
       "      <td>754.159807</td>\n",
       "      <td>6.232113</td>\n",
       "      <td>2021-04-20</td>\n",
       "      <td>4</td>\n",
       "      <td>6</td>\n",
       "      <td>0</td>\n",
       "      <td>199</td>\n",
       "    </tr>\n",
       "    <tr>\n",
       "      <th>3</th>\n",
       "      <td>1</td>\n",
       "      <td>Кира</td>\n",
       "      <td>22</td>\n",
       "      <td>Тюмень</td>\n",
       "      <td>ultra</td>\n",
       "      <td>2694.783254</td>\n",
       "      <td>18.511000</td>\n",
       "      <td>2021-08-11</td>\n",
       "      <td>8</td>\n",
       "      <td>6</td>\n",
       "      <td>0</td>\n",
       "      <td>199</td>\n",
       "    </tr>\n",
       "    <tr>\n",
       "      <th>4</th>\n",
       "      <td>1</td>\n",
       "      <td>Кира</td>\n",
       "      <td>22</td>\n",
       "      <td>Тюмень</td>\n",
       "      <td>ultra</td>\n",
       "      <td>4028.687306</td>\n",
       "      <td>26.265803</td>\n",
       "      <td>2021-08-28</td>\n",
       "      <td>8</td>\n",
       "      <td>6</td>\n",
       "      <td>0</td>\n",
       "      <td>199</td>\n",
       "    </tr>\n",
       "    <tr>\n",
       "      <th>...</th>\n",
       "      <td>...</td>\n",
       "      <td>...</td>\n",
       "      <td>...</td>\n",
       "      <td>...</td>\n",
       "      <td>...</td>\n",
       "      <td>...</td>\n",
       "      <td>...</td>\n",
       "      <td>...</td>\n",
       "      <td>...</td>\n",
       "      <td>...</td>\n",
       "      <td>...</td>\n",
       "      <td>...</td>\n",
       "    </tr>\n",
       "    <tr>\n",
       "      <th>6495</th>\n",
       "      <td>699</td>\n",
       "      <td>Оксана</td>\n",
       "      <td>22</td>\n",
       "      <td>Москва</td>\n",
       "      <td>ultra</td>\n",
       "      <td>3973.046497</td>\n",
       "      <td>24.671163</td>\n",
       "      <td>2021-08-29</td>\n",
       "      <td>8</td>\n",
       "      <td>6</td>\n",
       "      <td>0</td>\n",
       "      <td>199</td>\n",
       "    </tr>\n",
       "    <tr>\n",
       "      <th>6496</th>\n",
       "      <td>699</td>\n",
       "      <td>Оксана</td>\n",
       "      <td>22</td>\n",
       "      <td>Москва</td>\n",
       "      <td>ultra</td>\n",
       "      <td>3288.702563</td>\n",
       "      <td>15.892886</td>\n",
       "      <td>2021-09-12</td>\n",
       "      <td>9</td>\n",
       "      <td>6</td>\n",
       "      <td>0</td>\n",
       "      <td>199</td>\n",
       "    </tr>\n",
       "    <tr>\n",
       "      <th>6497</th>\n",
       "      <td>699</td>\n",
       "      <td>Оксана</td>\n",
       "      <td>22</td>\n",
       "      <td>Москва</td>\n",
       "      <td>ultra</td>\n",
       "      <td>3076.159348</td>\n",
       "      <td>14.389525</td>\n",
       "      <td>2021-09-26</td>\n",
       "      <td>9</td>\n",
       "      <td>6</td>\n",
       "      <td>0</td>\n",
       "      <td>199</td>\n",
       "    </tr>\n",
       "    <tr>\n",
       "      <th>6498</th>\n",
       "      <td>699</td>\n",
       "      <td>Оксана</td>\n",
       "      <td>22</td>\n",
       "      <td>Москва</td>\n",
       "      <td>ultra</td>\n",
       "      <td>4707.845501</td>\n",
       "      <td>15.839579</td>\n",
       "      <td>2021-10-17</td>\n",
       "      <td>10</td>\n",
       "      <td>6</td>\n",
       "      <td>0</td>\n",
       "      <td>199</td>\n",
       "    </tr>\n",
       "    <tr>\n",
       "      <th>6499</th>\n",
       "      <td>699</td>\n",
       "      <td>Оксана</td>\n",
       "      <td>22</td>\n",
       "      <td>Москва</td>\n",
       "      <td>ultra</td>\n",
       "      <td>3202.890770</td>\n",
       "      <td>25.217345</td>\n",
       "      <td>2021-12-03</td>\n",
       "      <td>12</td>\n",
       "      <td>6</td>\n",
       "      <td>0</td>\n",
       "      <td>199</td>\n",
       "    </tr>\n",
       "  </tbody>\n",
       "</table>\n",
       "<p>6500 rows × 12 columns</p>\n",
       "</div>"
      ],
      "text/plain": [
       "      user_id    name  age    city subscription_type     distance   duration  \\\n",
       "0           1    Кира   22  Тюмень             ultra  4409.919140  25.599769   \n",
       "1           1    Кира   22  Тюмень             ultra  2617.592153  15.816871   \n",
       "2           1    Кира   22  Тюмень             ultra   754.159807   6.232113   \n",
       "3           1    Кира   22  Тюмень             ultra  2694.783254  18.511000   \n",
       "4           1    Кира   22  Тюмень             ultra  4028.687306  26.265803   \n",
       "...       ...     ...  ...     ...               ...          ...        ...   \n",
       "6495      699  Оксана   22  Москва             ultra  3973.046497  24.671163   \n",
       "6496      699  Оксана   22  Москва             ultra  3288.702563  15.892886   \n",
       "6497      699  Оксана   22  Москва             ultra  3076.159348  14.389525   \n",
       "6498      699  Оксана   22  Москва             ultra  4707.845501  15.839579   \n",
       "6499      699  Оксана   22  Москва             ultra  3202.890770  25.217345   \n",
       "\n",
       "           date  date_m  minute_price  start_ride_price  subscription_fee  \n",
       "0    2021-01-01       1             6                 0               199  \n",
       "1    2021-01-18       1             6                 0               199  \n",
       "2    2021-04-20       4             6                 0               199  \n",
       "3    2021-08-11       8             6                 0               199  \n",
       "4    2021-08-28       8             6                 0               199  \n",
       "...         ...     ...           ...               ...               ...  \n",
       "6495 2021-08-29       8             6                 0               199  \n",
       "6496 2021-09-12       9             6                 0               199  \n",
       "6497 2021-09-26       9             6                 0               199  \n",
       "6498 2021-10-17      10             6                 0               199  \n",
       "6499 2021-12-03      12             6                 0               199  \n",
       "\n",
       "[6500 rows x 12 columns]"
      ]
     },
     "execution_count": 35,
     "metadata": {},
     "output_type": "execute_result"
    }
   ],
   "source": [
    "# 2 с данными о пользователях с подпиской.\n",
    "all_df_ultra = all_df[all_df['subscription_type'] == 'ultra']\n",
    "all_df_ultra"
   ]
  },
  {
   "cell_type": "code",
   "execution_count": 36,
   "id": "b19f01aa",
   "metadata": {},
   "outputs": [
    {
     "data": {
      "image/png": "[encoded data removed]",
      "text/plain": [
       "<Figure size 432x288 with 1 Axes>"
      ]
     },
     "metadata": {
      "needs_background": "light"
     },
     "output_type": "display_data"
    }
   ],
   "source": [
    "#визуализируем информацию о расстоянии и времени поездок для пользователей обеих категорий\n",
    "all_df_free['distance'].plot.hist(bins=20, alpha=0.5, color='orange')\n",
    "all_df_ultra['distance'].plot.hist(bins=20, alpha=0.5)\n",
    "plt.xlabel('Расстояние, км.')\n",
    "plt.ylabel('Количество поездок')\n",
    "plt.title('Информация о расстоянии поездок для пользователей с разной подпиской')\n",
    "plt.legend(['С подпиской free', 'С подпиской ultra'])\n",
    "plt.show()"
   ]
  },
  {
   "cell_type": "markdown",
   "id": "0fa26b23",
   "metadata": {},
   "source": [
    "Из графика видно, что имеется по 2 пика на каждом типе подписки. В общем числе поездок преобладет бесплатная подписка (видно из площади под графиком), В поездках до 1 км. средняя дальность поездки немного выше, чем в платной. Максимальная дальность поездок у пользователей с бесплатной поездкой больше почти на 1,5 км. и составляет около 7 км."
   ]
  },
  {
   "cell_type": "code",
   "execution_count": 37,
   "id": "b53119e6",
   "metadata": {},
   "outputs": [
    {
     "data": {
      "image/png": "[encoded data removed]",
      "text/plain": [
       "<Figure size 432x288 with 1 Axes>"
      ]
     },
     "metadata": {
      "needs_background": "light"
     },
     "output_type": "display_data"
    }
   ],
   "source": [
    "all_df_free['duration'].plot.hist(bins=20, alpha=0.5, color='orange')\n",
    "all_df_ultra['duration'].plot.hist(bins=20, alpha=0.5)\n",
    "plt.xlabel('Продолжительность, мин.')\n",
    "plt.ylabel('Количество поездок')\n",
    "plt.title('Информация о продолжительности поездок для пользователей с разной подпиской')\n",
    "plt.legend(['С подпиской free', 'С подпиской ultra'])\n",
    "plt.show()"
   ]
  },
  {
   "cell_type": "markdown",
   "id": "5f61186c",
   "metadata": {},
   "source": [
    "Из обоих графиков видно, что пользователи чаще пользуются подпиской free. Пики в обоих датасетах и по продолжительности и по расстоянию примерно равны и распределены нормально вокруг среднего значения."
   ]
  },
  {
   "cell_type": "markdown",
   "id": "f09c522b",
   "metadata": {},
   "source": [
    "У пользователей без подписки значительно больше коротких поездок - до 1 км и в целом максимальная дальность поездки выше, чем у платных пользователей."
   ]
  },
  {
   "cell_type": "markdown",
   "id": "402d620f",
   "metadata": {},
   "source": [
    "#### Шаг 5. Подсчёт выручки"
   ]
  },
  {
   "cell_type": "markdown",
   "id": "8e359915",
   "metadata": {},
   "source": [
    "5.1 Создадим датафрейм с агрегированными данными о поездках на основе датафрейма с объединёнными данными из шага 4: найдем суммарное расстояние, количество поездок и суммарное время для каждого пользователя за каждый месяц."
   ]
  },
  {
   "cell_type": "code",
   "execution_count": 38,
   "id": "f969cf04",
   "metadata": {
    "scrolled": true
   },
   "outputs": [
    {
     "data": {
      "text/html": [
       "<div>\n",
       "<style scoped>\n",
       "    .dataframe tbody tr th:only-of-type {\n",
       "        vertical-align: middle;\n",
       "    }\n",
       "\n",
       "    .dataframe tbody tr th {\n",
       "        vertical-align: top;\n",
       "    }\n",
       "\n",
       "    .dataframe thead th {\n",
       "        text-align: right;\n",
       "    }\n",
       "</style>\n",
       "<table border=\"1\" class=\"dataframe\">\n",
       "  <thead>\n",
       "    <tr style=\"text-align: right;\">\n",
       "      <th></th>\n",
       "      <th>user_id</th>\n",
       "      <th>name</th>\n",
       "      <th>age</th>\n",
       "      <th>city</th>\n",
       "      <th>subscription_type</th>\n",
       "      <th>distance</th>\n",
       "      <th>duration</th>\n",
       "      <th>date</th>\n",
       "      <th>date_m</th>\n",
       "      <th>minute_price</th>\n",
       "      <th>start_ride_price</th>\n",
       "      <th>subscription_fee</th>\n",
       "    </tr>\n",
       "  </thead>\n",
       "  <tbody>\n",
       "    <tr>\n",
       "      <th>0</th>\n",
       "      <td>1</td>\n",
       "      <td>Кира</td>\n",
       "      <td>22</td>\n",
       "      <td>Тюмень</td>\n",
       "      <td>ultra</td>\n",
       "      <td>4409.919140</td>\n",
       "      <td>26.0</td>\n",
       "      <td>2021-01-01</td>\n",
       "      <td>1</td>\n",
       "      <td>6</td>\n",
       "      <td>0</td>\n",
       "      <td>199</td>\n",
       "    </tr>\n",
       "    <tr>\n",
       "      <th>1</th>\n",
       "      <td>1</td>\n",
       "      <td>Кира</td>\n",
       "      <td>22</td>\n",
       "      <td>Тюмень</td>\n",
       "      <td>ultra</td>\n",
       "      <td>2617.592153</td>\n",
       "      <td>16.0</td>\n",
       "      <td>2021-01-18</td>\n",
       "      <td>1</td>\n",
       "      <td>6</td>\n",
       "      <td>0</td>\n",
       "      <td>199</td>\n",
       "    </tr>\n",
       "    <tr>\n",
       "      <th>2</th>\n",
       "      <td>1</td>\n",
       "      <td>Кира</td>\n",
       "      <td>22</td>\n",
       "      <td>Тюмень</td>\n",
       "      <td>ultra</td>\n",
       "      <td>754.159807</td>\n",
       "      <td>7.0</td>\n",
       "      <td>2021-04-20</td>\n",
       "      <td>4</td>\n",
       "      <td>6</td>\n",
       "      <td>0</td>\n",
       "      <td>199</td>\n",
       "    </tr>\n",
       "    <tr>\n",
       "      <th>3</th>\n",
       "      <td>1</td>\n",
       "      <td>Кира</td>\n",
       "      <td>22</td>\n",
       "      <td>Тюмень</td>\n",
       "      <td>ultra</td>\n",
       "      <td>2694.783254</td>\n",
       "      <td>19.0</td>\n",
       "      <td>2021-08-11</td>\n",
       "      <td>8</td>\n",
       "      <td>6</td>\n",
       "      <td>0</td>\n",
       "      <td>199</td>\n",
       "    </tr>\n",
       "    <tr>\n",
       "      <th>4</th>\n",
       "      <td>1</td>\n",
       "      <td>Кира</td>\n",
       "      <td>22</td>\n",
       "      <td>Тюмень</td>\n",
       "      <td>ultra</td>\n",
       "      <td>4028.687306</td>\n",
       "      <td>27.0</td>\n",
       "      <td>2021-08-28</td>\n",
       "      <td>8</td>\n",
       "      <td>6</td>\n",
       "      <td>0</td>\n",
       "      <td>199</td>\n",
       "    </tr>\n",
       "    <tr>\n",
       "      <th>...</th>\n",
       "      <td>...</td>\n",
       "      <td>...</td>\n",
       "      <td>...</td>\n",
       "      <td>...</td>\n",
       "      <td>...</td>\n",
       "      <td>...</td>\n",
       "      <td>...</td>\n",
       "      <td>...</td>\n",
       "      <td>...</td>\n",
       "      <td>...</td>\n",
       "      <td>...</td>\n",
       "      <td>...</td>\n",
       "    </tr>\n",
       "    <tr>\n",
       "      <th>18063</th>\n",
       "      <td>1534</td>\n",
       "      <td>Альберт</td>\n",
       "      <td>25</td>\n",
       "      <td>Краснодар</td>\n",
       "      <td>free</td>\n",
       "      <td>3781.098080</td>\n",
       "      <td>20.0</td>\n",
       "      <td>2021-11-04</td>\n",
       "      <td>11</td>\n",
       "      <td>8</td>\n",
       "      <td>50</td>\n",
       "      <td>0</td>\n",
       "    </tr>\n",
       "    <tr>\n",
       "      <th>18064</th>\n",
       "      <td>1534</td>\n",
       "      <td>Альберт</td>\n",
       "      <td>25</td>\n",
       "      <td>Краснодар</td>\n",
       "      <td>free</td>\n",
       "      <td>2840.423057</td>\n",
       "      <td>22.0</td>\n",
       "      <td>2021-11-16</td>\n",
       "      <td>11</td>\n",
       "      <td>8</td>\n",
       "      <td>50</td>\n",
       "      <td>0</td>\n",
       "    </tr>\n",
       "    <tr>\n",
       "      <th>18065</th>\n",
       "      <td>1534</td>\n",
       "      <td>Альберт</td>\n",
       "      <td>25</td>\n",
       "      <td>Краснодар</td>\n",
       "      <td>free</td>\n",
       "      <td>3826.185507</td>\n",
       "      <td>19.0</td>\n",
       "      <td>2021-11-18</td>\n",
       "      <td>11</td>\n",
       "      <td>8</td>\n",
       "      <td>50</td>\n",
       "      <td>0</td>\n",
       "    </tr>\n",
       "    <tr>\n",
       "      <th>18066</th>\n",
       "      <td>1534</td>\n",
       "      <td>Альберт</td>\n",
       "      <td>25</td>\n",
       "      <td>Краснодар</td>\n",
       "      <td>free</td>\n",
       "      <td>2902.308661</td>\n",
       "      <td>17.0</td>\n",
       "      <td>2021-11-27</td>\n",
       "      <td>11</td>\n",
       "      <td>8</td>\n",
       "      <td>50</td>\n",
       "      <td>0</td>\n",
       "    </tr>\n",
       "    <tr>\n",
       "      <th>18067</th>\n",
       "      <td>1534</td>\n",
       "      <td>Альберт</td>\n",
       "      <td>25</td>\n",
       "      <td>Краснодар</td>\n",
       "      <td>free</td>\n",
       "      <td>2371.711192</td>\n",
       "      <td>16.0</td>\n",
       "      <td>2021-12-29</td>\n",
       "      <td>12</td>\n",
       "      <td>8</td>\n",
       "      <td>50</td>\n",
       "      <td>0</td>\n",
       "    </tr>\n",
       "  </tbody>\n",
       "</table>\n",
       "<p>18068 rows × 12 columns</p>\n",
       "</div>"
      ],
      "text/plain": [
       "       user_id     name  age       city subscription_type     distance  \\\n",
       "0            1     Кира   22     Тюмень             ultra  4409.919140   \n",
       "1            1     Кира   22     Тюмень             ultra  2617.592153   \n",
       "2            1     Кира   22     Тюмень             ultra   754.159807   \n",
       "3            1     Кира   22     Тюмень             ultra  2694.783254   \n",
       "4            1     Кира   22     Тюмень             ultra  4028.687306   \n",
       "...        ...      ...  ...        ...               ...          ...   \n",
       "18063     1534  Альберт   25  Краснодар              free  3781.098080   \n",
       "18064     1534  Альберт   25  Краснодар              free  2840.423057   \n",
       "18065     1534  Альберт   25  Краснодар              free  3826.185507   \n",
       "18066     1534  Альберт   25  Краснодар              free  2902.308661   \n",
       "18067     1534  Альберт   25  Краснодар              free  2371.711192   \n",
       "\n",
       "       duration       date  date_m  minute_price  start_ride_price  \\\n",
       "0          26.0 2021-01-01       1             6                 0   \n",
       "1          16.0 2021-01-18       1             6                 0   \n",
       "2           7.0 2021-04-20       4             6                 0   \n",
       "3          19.0 2021-08-11       8             6                 0   \n",
       "4          27.0 2021-08-28       8             6                 0   \n",
       "...         ...        ...     ...           ...               ...   \n",
       "18063      20.0 2021-11-04      11             8                50   \n",
       "18064      22.0 2021-11-16      11             8                50   \n",
       "18065      19.0 2021-11-18      11             8                50   \n",
       "18066      17.0 2021-11-27      11             8                50   \n",
       "18067      16.0 2021-12-29      12             8                50   \n",
       "\n",
       "       subscription_fee  \n",
       "0                   199  \n",
       "1                   199  \n",
       "2                   199  \n",
       "3                   199  \n",
       "4                   199  \n",
       "...                 ...  \n",
       "18063                 0  \n",
       "18064                 0  \n",
       "18065                 0  \n",
       "18066                 0  \n",
       "18067                 0  \n",
       "\n",
       "[18068 rows x 12 columns]"
      ]
     },
     "execution_count": 38,
     "metadata": {},
     "output_type": "execute_result"
    }
   ],
   "source": [
    "#Внесенные изменения V1:\n",
    "all_df['duration'] = np.ceil(all_df['duration'])\n",
    "all_df"
   ]
  },
  {
   "cell_type": "code",
   "execution_count": 39,
   "id": "46ae5b1a",
   "metadata": {},
   "outputs": [
    {
     "data": {
      "text/html": [
       "<div>\n",
       "<style scoped>\n",
       "    .dataframe tbody tr th:only-of-type {\n",
       "        vertical-align: middle;\n",
       "    }\n",
       "\n",
       "    .dataframe tbody tr th {\n",
       "        vertical-align: top;\n",
       "    }\n",
       "\n",
       "    .dataframe thead th {\n",
       "        text-align: right;\n",
       "    }\n",
       "</style>\n",
       "<table border=\"1\" class=\"dataframe\">\n",
       "  <thead>\n",
       "    <tr style=\"text-align: right;\">\n",
       "      <th></th>\n",
       "      <th></th>\n",
       "      <th>distance</th>\n",
       "      <th>duration</th>\n",
       "      <th>count_rides</th>\n",
       "    </tr>\n",
       "    <tr>\n",
       "      <th>user_id</th>\n",
       "      <th>date_m</th>\n",
       "      <th></th>\n",
       "      <th></th>\n",
       "      <th></th>\n",
       "    </tr>\n",
       "  </thead>\n",
       "  <tbody>\n",
       "    <tr>\n",
       "      <th rowspan=\"5\" valign=\"top\">1</th>\n",
       "      <th>1</th>\n",
       "      <td>3513.755647</td>\n",
       "      <td>21.000000</td>\n",
       "      <td>2</td>\n",
       "    </tr>\n",
       "    <tr>\n",
       "      <th>4</th>\n",
       "      <td>754.159807</td>\n",
       "      <td>7.000000</td>\n",
       "      <td>1</td>\n",
       "    </tr>\n",
       "    <tr>\n",
       "      <th>8</th>\n",
       "      <td>3361.735280</td>\n",
       "      <td>23.000000</td>\n",
       "      <td>2</td>\n",
       "    </tr>\n",
       "    <tr>\n",
       "      <th>10</th>\n",
       "      <td>2904.955550</td>\n",
       "      <td>16.000000</td>\n",
       "      <td>2</td>\n",
       "    </tr>\n",
       "    <tr>\n",
       "      <th>11</th>\n",
       "      <td>2334.499788</td>\n",
       "      <td>18.666667</td>\n",
       "      <td>3</td>\n",
       "    </tr>\n",
       "    <tr>\n",
       "      <th>...</th>\n",
       "      <th>...</th>\n",
       "      <td>...</td>\n",
       "      <td>...</td>\n",
       "      <td>...</td>\n",
       "    </tr>\n",
       "    <tr>\n",
       "      <th rowspan=\"5\" valign=\"top\">1534</th>\n",
       "      <th>6</th>\n",
       "      <td>1704.734267</td>\n",
       "      <td>13.000000</td>\n",
       "      <td>2</td>\n",
       "    </tr>\n",
       "    <tr>\n",
       "      <th>8</th>\n",
       "      <td>3811.226517</td>\n",
       "      <td>24.000000</td>\n",
       "      <td>2</td>\n",
       "    </tr>\n",
       "    <tr>\n",
       "      <th>9</th>\n",
       "      <td>4928.173852</td>\n",
       "      <td>23.000000</td>\n",
       "      <td>1</td>\n",
       "    </tr>\n",
       "    <tr>\n",
       "      <th>11</th>\n",
       "      <td>3337.503826</td>\n",
       "      <td>19.500000</td>\n",
       "      <td>4</td>\n",
       "    </tr>\n",
       "    <tr>\n",
       "      <th>12</th>\n",
       "      <td>2371.711192</td>\n",
       "      <td>16.000000</td>\n",
       "      <td>1</td>\n",
       "    </tr>\n",
       "  </tbody>\n",
       "</table>\n",
       "<p>11331 rows × 3 columns</p>\n",
       "</div>"
      ],
      "text/plain": [
       "                   distance   duration  count_rides\n",
       "user_id date_m                                     \n",
       "1       1       3513.755647  21.000000            2\n",
       "        4        754.159807   7.000000            1\n",
       "        8       3361.735280  23.000000            2\n",
       "        10      2904.955550  16.000000            2\n",
       "        11      2334.499788  18.666667            3\n",
       "...                     ...        ...          ...\n",
       "1534    6       1704.734267  13.000000            2\n",
       "        8       3811.226517  24.000000            2\n",
       "        9       4928.173852  23.000000            1\n",
       "        11      3337.503826  19.500000            4\n",
       "        12      2371.711192  16.000000            1\n",
       "\n",
       "[11331 rows x 3 columns]"
      ]
     },
     "execution_count": 39,
     "metadata": {},
     "output_type": "execute_result"
    }
   ],
   "source": [
    "df_agr_month = pd.pivot_table(all_df,\n",
    "                   index=[\"user_id\", \"date_m\"],\n",
    "                   values=[\"distance\", \"duration\"]\n",
    "                   )\n",
    "df_agr_month['count_rides'] = all_df.groupby(['user_id','date_m'])['user_id'].count()\n",
    "df_agr_month"
   ]
  },
  {
   "cell_type": "markdown",
   "id": "66316a11",
   "metadata": {},
   "source": [
    "5.2 Добавим в новый датафрейм столбец с помесячной выручкой, которую принёс каждый пользователь. Продолжительность каждой поездки в каждой строке исходного датафрейма для подсчёта стоимости округляется до следующего целого числа.\n",
    "\n",
    "Помесячная выручка считается по формуле: (стоимость старта поездки ×  количество поездок) + стоимость одной минуты поездки × общая продолжительность всех поездок в минутах) + стоимость подписки."
   ]
  },
  {
   "cell_type": "code",
   "execution_count": 40,
   "id": "63982777",
   "metadata": {},
   "outputs": [
    {
     "data": {
      "text/html": [
       "<div>\n",
       "<style scoped>\n",
       "    .dataframe tbody tr th:only-of-type {\n",
       "        vertical-align: middle;\n",
       "    }\n",
       "\n",
       "    .dataframe tbody tr th {\n",
       "        vertical-align: top;\n",
       "    }\n",
       "\n",
       "    .dataframe thead th {\n",
       "        text-align: right;\n",
       "    }\n",
       "</style>\n",
       "<table border=\"1\" class=\"dataframe\">\n",
       "  <thead>\n",
       "    <tr style=\"text-align: right;\">\n",
       "      <th></th>\n",
       "      <th></th>\n",
       "      <th>distance</th>\n",
       "      <th>duration</th>\n",
       "      <th>count_rides</th>\n",
       "      <th>start_ride_price</th>\n",
       "      <th>minute_price</th>\n",
       "      <th>subscription_fee</th>\n",
       "    </tr>\n",
       "    <tr>\n",
       "      <th>user_id</th>\n",
       "      <th>date_m</th>\n",
       "      <th></th>\n",
       "      <th></th>\n",
       "      <th></th>\n",
       "      <th></th>\n",
       "      <th></th>\n",
       "      <th></th>\n",
       "    </tr>\n",
       "  </thead>\n",
       "  <tbody>\n",
       "    <tr>\n",
       "      <th rowspan=\"5\" valign=\"top\">1</th>\n",
       "      <th>1</th>\n",
       "      <td>3513.755647</td>\n",
       "      <td>21.000000</td>\n",
       "      <td>2</td>\n",
       "      <td>0</td>\n",
       "      <td>6</td>\n",
       "      <td>199</td>\n",
       "    </tr>\n",
       "    <tr>\n",
       "      <th>4</th>\n",
       "      <td>754.159807</td>\n",
       "      <td>7.000000</td>\n",
       "      <td>1</td>\n",
       "      <td>0</td>\n",
       "      <td>6</td>\n",
       "      <td>199</td>\n",
       "    </tr>\n",
       "    <tr>\n",
       "      <th>8</th>\n",
       "      <td>3361.735280</td>\n",
       "      <td>23.000000</td>\n",
       "      <td>2</td>\n",
       "      <td>0</td>\n",
       "      <td>6</td>\n",
       "      <td>199</td>\n",
       "    </tr>\n",
       "    <tr>\n",
       "      <th>10</th>\n",
       "      <td>2904.955550</td>\n",
       "      <td>16.000000</td>\n",
       "      <td>2</td>\n",
       "      <td>0</td>\n",
       "      <td>6</td>\n",
       "      <td>199</td>\n",
       "    </tr>\n",
       "    <tr>\n",
       "      <th>11</th>\n",
       "      <td>2334.499788</td>\n",
       "      <td>18.666667</td>\n",
       "      <td>3</td>\n",
       "      <td>0</td>\n",
       "      <td>6</td>\n",
       "      <td>199</td>\n",
       "    </tr>\n",
       "    <tr>\n",
       "      <th>...</th>\n",
       "      <th>...</th>\n",
       "      <td>...</td>\n",
       "      <td>...</td>\n",
       "      <td>...</td>\n",
       "      <td>...</td>\n",
       "      <td>...</td>\n",
       "      <td>...</td>\n",
       "    </tr>\n",
       "    <tr>\n",
       "      <th rowspan=\"5\" valign=\"top\">1534</th>\n",
       "      <th>6</th>\n",
       "      <td>1704.734267</td>\n",
       "      <td>13.000000</td>\n",
       "      <td>2</td>\n",
       "      <td>50</td>\n",
       "      <td>8</td>\n",
       "      <td>0</td>\n",
       "    </tr>\n",
       "    <tr>\n",
       "      <th>8</th>\n",
       "      <td>3811.226517</td>\n",
       "      <td>24.000000</td>\n",
       "      <td>2</td>\n",
       "      <td>50</td>\n",
       "      <td>8</td>\n",
       "      <td>0</td>\n",
       "    </tr>\n",
       "    <tr>\n",
       "      <th>9</th>\n",
       "      <td>4928.173852</td>\n",
       "      <td>23.000000</td>\n",
       "      <td>1</td>\n",
       "      <td>50</td>\n",
       "      <td>8</td>\n",
       "      <td>0</td>\n",
       "    </tr>\n",
       "    <tr>\n",
       "      <th>11</th>\n",
       "      <td>3337.503826</td>\n",
       "      <td>19.500000</td>\n",
       "      <td>4</td>\n",
       "      <td>50</td>\n",
       "      <td>8</td>\n",
       "      <td>0</td>\n",
       "    </tr>\n",
       "    <tr>\n",
       "      <th>12</th>\n",
       "      <td>2371.711192</td>\n",
       "      <td>16.000000</td>\n",
       "      <td>1</td>\n",
       "      <td>50</td>\n",
       "      <td>8</td>\n",
       "      <td>0</td>\n",
       "    </tr>\n",
       "  </tbody>\n",
       "</table>\n",
       "<p>11331 rows × 6 columns</p>\n",
       "</div>"
      ],
      "text/plain": [
       "                   distance   duration  count_rides  start_ride_price  \\\n",
       "user_id date_m                                                          \n",
       "1       1       3513.755647  21.000000            2                 0   \n",
       "        4        754.159807   7.000000            1                 0   \n",
       "        8       3361.735280  23.000000            2                 0   \n",
       "        10      2904.955550  16.000000            2                 0   \n",
       "        11      2334.499788  18.666667            3                 0   \n",
       "...                     ...        ...          ...               ...   \n",
       "1534    6       1704.734267  13.000000            2                50   \n",
       "        8       3811.226517  24.000000            2                50   \n",
       "        9       4928.173852  23.000000            1                50   \n",
       "        11      3337.503826  19.500000            4                50   \n",
       "        12      2371.711192  16.000000            1                50   \n",
       "\n",
       "                minute_price  subscription_fee  \n",
       "user_id date_m                                  \n",
       "1       1                  6               199  \n",
       "        4                  6               199  \n",
       "        8                  6               199  \n",
       "        10                 6               199  \n",
       "        11                 6               199  \n",
       "...                      ...               ...  \n",
       "1534    6                  8                 0  \n",
       "        8                  8                 0  \n",
       "        9                  8                 0  \n",
       "        11                 8                 0  \n",
       "        12                 8                 0  \n",
       "\n",
       "[11331 rows x 6 columns]"
      ]
     },
     "execution_count": 40,
     "metadata": {},
     "output_type": "execute_result"
    }
   ],
   "source": [
    "df_agr_month['start_ride_price'] = all_df.groupby(['user_id','date_m'])['start_ride_price'].max()\n",
    "df_agr_month['minute_price'] = all_df.groupby(['user_id','date_m'])['minute_price'].max()\n",
    "df_agr_month['subscription_fee'] = all_df.groupby(['user_id','date_m'])['subscription_fee'].max()\n",
    "df_agr_month"
   ]
  },
  {
   "cell_type": "code",
   "execution_count": null,
   "id": "0cbc2904",
   "metadata": {},
   "outputs": [
    {
     "data": {
      "text/html": [
       "<div>\n",
       "<style scoped>\n",
       "    .dataframe tbody tr th:only-of-type {\n",
       "        vertical-align: middle;\n",
       "    }\n",
       "\n",
       "    .dataframe tbody tr th {\n",
       "        vertical-align: top;\n",
       "    }\n",
       "\n",
       "    .dataframe thead th {\n",
       "        text-align: right;\n",
       "    }\n",
       "</style>\n",
       "<table border=\"1\" class=\"dataframe\">\n",
       "  <thead>\n",
       "    <tr style=\"text-align: right;\">\n",
       "      <th></th>\n",
       "      <th></th>\n",
       "      <th>distance</th>\n",
       "      <th>duration</th>\n",
       "      <th>count_rides</th>\n",
       "      <th>start_ride_price</th>\n",
       "      <th>minute_price</th>\n",
       "      <th>subscription_fee</th>\n",
       "      <th>debt</th>\n",
       "    </tr>\n",
       "    <tr>\n",
       "      <th>user_id</th>\n",
       "      <th>date_m</th>\n",
       "      <th></th>\n",
       "      <th></th>\n",
       "      <th></th>\n",
       "      <th></th>\n",
       "      <th></th>\n",
       "      <th></th>\n",
       "      <th></th>\n",
       "    </tr>\n",
       "  </thead>\n",
       "  <tbody>\n",
       "    <tr>\n",
       "      <th rowspan=\"5\" valign=\"top\">1</th>\n",
       "      <th>1</th>\n",
       "      <td>3513.755647</td>\n",
       "      <td>21.000000</td>\n",
       "      <td>2</td>\n",
       "      <td>0</td>\n",
       "      <td>6</td>\n",
       "      <td>199</td>\n",
       "      <td>325.0</td>\n",
       "    </tr>\n",
       "    <tr>\n",
       "      <th>4</th>\n",
       "      <td>754.159807</td>\n",
       "      <td>7.000000</td>\n",
       "      <td>1</td>\n",
       "      <td>0</td>\n",
       "      <td>6</td>\n",
       "      <td>199</td>\n",
       "      <td>241.0</td>\n",
       "    </tr>\n",
       "    <tr>\n",
       "      <th>8</th>\n",
       "      <td>3361.735280</td>\n",
       "      <td>23.000000</td>\n",
       "      <td>2</td>\n",
       "      <td>0</td>\n",
       "      <td>6</td>\n",
       "      <td>199</td>\n",
       "      <td>337.0</td>\n",
       "    </tr>\n",
       "    <tr>\n",
       "      <th>10</th>\n",
       "      <td>2904.955550</td>\n",
       "      <td>16.000000</td>\n",
       "      <td>2</td>\n",
       "      <td>0</td>\n",
       "      <td>6</td>\n",
       "      <td>199</td>\n",
       "      <td>295.0</td>\n",
       "    </tr>\n",
       "    <tr>\n",
       "      <th>11</th>\n",
       "      <td>2334.499788</td>\n",
       "      <td>18.666667</td>\n",
       "      <td>3</td>\n",
       "      <td>0</td>\n",
       "      <td>6</td>\n",
       "      <td>199</td>\n",
       "      <td>313.0</td>\n",
       "    </tr>\n",
       "    <tr>\n",
       "      <th>...</th>\n",
       "      <th>...</th>\n",
       "      <td>...</td>\n",
       "      <td>...</td>\n",
       "      <td>...</td>\n",
       "      <td>...</td>\n",
       "      <td>...</td>\n",
       "      <td>...</td>\n",
       "      <td>...</td>\n",
       "    </tr>\n",
       "    <tr>\n",
       "      <th rowspan=\"5\" valign=\"top\">1534</th>\n",
       "      <th>6</th>\n",
       "      <td>1704.734267</td>\n",
       "      <td>13.000000</td>\n",
       "      <td>2</td>\n",
       "      <td>50</td>\n",
       "      <td>8</td>\n",
       "      <td>0</td>\n",
       "      <td>204.0</td>\n",
       "    </tr>\n",
       "    <tr>\n",
       "      <th>8</th>\n",
       "      <td>3811.226517</td>\n",
       "      <td>24.000000</td>\n",
       "      <td>2</td>\n",
       "      <td>50</td>\n",
       "      <td>8</td>\n",
       "      <td>0</td>\n",
       "      <td>292.0</td>\n",
       "    </tr>\n",
       "    <tr>\n",
       "      <th>9</th>\n",
       "      <td>4928.173852</td>\n",
       "      <td>23.000000</td>\n",
       "      <td>1</td>\n",
       "      <td>50</td>\n",
       "      <td>8</td>\n",
       "      <td>0</td>\n",
       "      <td>234.0</td>\n",
       "    </tr>\n",
       "    <tr>\n",
       "      <th>11</th>\n",
       "      <td>3337.503826</td>\n",
       "      <td>19.500000</td>\n",
       "      <td>4</td>\n",
       "      <td>50</td>\n",
       "      <td>8</td>\n",
       "      <td>0</td>\n",
       "      <td>360.0</td>\n",
       "    </tr>\n",
       "    <tr>\n",
       "      <th>12</th>\n",
       "      <td>2371.711192</td>\n",
       "      <td>16.000000</td>\n",
       "      <td>1</td>\n",
       "      <td>50</td>\n",
       "      <td>8</td>\n",
       "      <td>0</td>\n",
       "      <td>178.0</td>\n",
       "    </tr>\n",
       "  </tbody>\n",
       "</table>\n",
       "<p>11331 rows × 7 columns</p>\n",
       "</div>"
      ],
      "text/plain": [
       "                   distance   duration  count_rides  start_ride_price  \\\n",
       "user_id date_m                                                          \n",
       "1       1       3513.755647  21.000000            2                 0   \n",
       "        4        754.159807   7.000000            1                 0   \n",
       "        8       3361.735280  23.000000            2                 0   \n",
       "        10      2904.955550  16.000000            2                 0   \n",
       "        11      2334.499788  18.666667            3                 0   \n",
       "...                     ...        ...          ...               ...   \n",
       "1534    6       1704.734267  13.000000            2                50   \n",
       "        8       3811.226517  24.000000            2                50   \n",
       "        9       4928.173852  23.000000            1                50   \n",
       "        11      3337.503826  19.500000            4                50   \n",
       "        12      2371.711192  16.000000            1                50   \n",
       "\n",
       "                minute_price  subscription_fee   debt  \n",
       "user_id date_m                                         \n",
       "1       1                  6               199  325.0  \n",
       "        4                  6               199  241.0  \n",
       "        8                  6               199  337.0  \n",
       "        10                 6               199  295.0  \n",
       "        11                 6               199  313.0  \n",
       "...                      ...               ...    ...  \n",
       "1534    6                  8                 0  204.0  \n",
       "        8                  8                 0  292.0  \n",
       "        9                  8                 0  234.0  \n",
       "        11                 8                 0  360.0  \n",
       "        12                 8                 0  178.0  \n",
       "\n",
       "[11331 rows x 7 columns]"
      ]
     },
     "execution_count": 41,
     "metadata": {},
     "output_type": "execute_result"
    }
   ],
   "source": [
    "df_agr_month['debt'] = (df_agr_month['start_ride_price']*df_agr_month['count_rides']) + (df_agr_month['minute_price'] * np.ceil(df_agr_month['duration'])) +  df_agr_month['subscription_fee']\n",
    "df_agr_month"
   ]
  },
  {
   "cell_type": "code",
   "execution_count": 42,
   "id": "419bda96",
   "metadata": {},
   "outputs": [
    {
     "data": {
      "text/plain": [
       "subscription_fee\n",
       "0      229.796999\n",
       "199    314.029782\n",
       "Name: debt, dtype: float64"
      ]
     },
     "execution_count": 42,
     "metadata": {},
     "output_type": "execute_result"
    }
   ],
   "source": [
    "# Код ревьюера\n",
    "df_agr_month.groupby('subscription_fee')['debt'].mean()"
   ]
  },
  {
   "cell_type": "markdown",
   "id": "41545ac0",
   "metadata": {},
   "source": [
    "#### Шаг 6. Проверка гипотез"
   ]
  },
  {
   "cell_type": "markdown",
   "id": "d8bdcfd9",
   "metadata": {},
   "source": [
    "6.1 Важно понять, тратят ли пользователи с подпиской больше времени на поездки? Если да, то пользователи с подпиской могут быть «выгоднее» для компании. Проверим гипотезу. Используем исходные данные о продолжительности каждой сессии — отдельно для подписчиков и тех, у кого нет подписки."
   ]
  },
  {
   "cell_type": "markdown",
   "id": "89ee5821",
   "metadata": {},
   "source": []
  },
  {
   "cell_type": "code",
   "execution_count": 43,
   "id": "61c56b28",
   "metadata": {},
   "outputs": [
    {
     "name": "stdout",
     "output_type": "stream",
     "text": [
      "p-значение: 1.2804098316645618e-34\n",
      "Отвергаем нулевую гипотезу\n"
     ]
    }
   ],
   "source": [
    "# Ho = пользователи с подпиской тратят столько же времени на поездки, сколько пользователи без подписки\n",
    "# H1 = пользователи с подпиской тратят больше времени на поездки, чем пользователи без подписки\n",
    "\n",
    "alpha = 0.01 # уровень статистической значимости\n",
    "# если p-value окажется меньше него, отвергнем гипотезу\n",
    "\n",
    "results = st.ttest_ind(all_df_ultra['duration'], all_df_free['duration'], alternative='greater')\n",
    "\n",
    "print('p-значение:', results.pvalue)\n",
    "\n",
    "if results.pvalue < alpha:\n",
    "    print('Отвергаем нулевую гипотезу')\n",
    "else:\n",
    "    print('Не получилось отвергнуть нулевую гипотезу') "
   ]
  },
  {
   "cell_type": "markdown",
   "id": "031f912b",
   "metadata": {},
   "source": [
    "**В результате проверки отвергаем гипотезу Ho, значит можно сказать, значимым является вывод о том, что пользователи с подпиской тратят больше времени на поездки, чем пользователи без подписки.**"
   ]
  },
  {
   "cell_type": "markdown",
   "id": "dbb8132a",
   "metadata": {},
   "source": [
    "6.2 Расстояние одной поездки в 3130 метров — оптимальное с точки зрения износа самоката. Проверим гипотезу о том, что расстояние, которое проезжают пользователи с подпиской за одну поездку, не превышает 3130 метров."
   ]
  },
  {
   "cell_type": "code",
   "execution_count": 45,
   "id": "b73560c0",
   "metadata": {},
   "outputs": [
    {
     "name": "stdout",
     "output_type": "stream",
     "text": [
      "p-значение: 0.9195368847849785\n",
      "Не получилось отвергнуть нулевую гипотезу\n"
     ]
    }
   ],
   "source": [
    "#Внесенные изменения V1:\n",
    "# Ho = пользователи с подпиской проезжают с одной поездки 3130 метров\n",
    "# H1 = пользователи с подпиской проезжают не более 3130 метров за одну поездку\n",
    "\n",
    "variable = 3130\n",
    "alpha = 0.05 # уровень статистической значимости\n",
    "# если p-value окажется меньше него, отвергнем гипотезу\n",
    "\n",
    "results = st.ttest_1samp(all_df_ultra['distance'], variable, alternative='greater')\n",
    "\n",
    "print('p-значение:', results.pvalue)\n",
    "\n",
    "if results.pvalue < alpha:\n",
    "    print('Отвергаем нулевую гипотезу')\n",
    "else:\n",
    "    print('Не получилось отвергнуть нулевую гипотезу') "
   ]
  },
  {
   "cell_type": "markdown",
   "id": "62eecf09",
   "metadata": {},
   "source": [
    "**Не получилось отвергнуть гипотезу Ho, значит можно сказать, что значимым является вывод, что пользователи с подпиской проезжают 3130 метров за одну поездку и износ самокатов происходит оптимально.**"
   ]
  },
  {
   "cell_type": "markdown",
   "id": "34ad3e7b",
   "metadata": {},
   "source": [
    "6.3. Проверим гипотезу о том, будет ли помесячная выручка от пользователей с подпиской по месяцам выше, чем выручка от пользователей без подписки."
   ]
  },
  {
   "cell_type": "code",
   "execution_count": 46,
   "id": "4d57c20b",
   "metadata": {},
   "outputs": [
    {
     "data": {
      "text/html": [
       "<div>\n",
       "<style scoped>\n",
       "    .dataframe tbody tr th:only-of-type {\n",
       "        vertical-align: middle;\n",
       "    }\n",
       "\n",
       "    .dataframe tbody tr th {\n",
       "        vertical-align: top;\n",
       "    }\n",
       "\n",
       "    .dataframe thead th {\n",
       "        text-align: right;\n",
       "    }\n",
       "</style>\n",
       "<table border=\"1\" class=\"dataframe\">\n",
       "  <thead>\n",
       "    <tr style=\"text-align: right;\">\n",
       "      <th></th>\n",
       "      <th>debt</th>\n",
       "    </tr>\n",
       "    <tr>\n",
       "      <th>date_m</th>\n",
       "      <th></th>\n",
       "    </tr>\n",
       "  </thead>\n",
       "  <tbody>\n",
       "    <tr>\n",
       "      <th>1</th>\n",
       "      <td>136634.0</td>\n",
       "    </tr>\n",
       "    <tr>\n",
       "      <th>2</th>\n",
       "      <td>117656.0</td>\n",
       "    </tr>\n",
       "    <tr>\n",
       "      <th>3</th>\n",
       "      <td>128750.0</td>\n",
       "    </tr>\n",
       "    <tr>\n",
       "      <th>4</th>\n",
       "      <td>129094.0</td>\n",
       "    </tr>\n",
       "    <tr>\n",
       "      <th>5</th>\n",
       "      <td>133102.0</td>\n",
       "    </tr>\n",
       "    <tr>\n",
       "      <th>6</th>\n",
       "      <td>135272.0</td>\n",
       "    </tr>\n",
       "    <tr>\n",
       "      <th>7</th>\n",
       "      <td>129478.0</td>\n",
       "    </tr>\n",
       "    <tr>\n",
       "      <th>8</th>\n",
       "      <td>129396.0</td>\n",
       "    </tr>\n",
       "    <tr>\n",
       "      <th>9</th>\n",
       "      <td>133860.0</td>\n",
       "    </tr>\n",
       "    <tr>\n",
       "      <th>10</th>\n",
       "      <td>125484.0</td>\n",
       "    </tr>\n",
       "    <tr>\n",
       "      <th>11</th>\n",
       "      <td>127604.0</td>\n",
       "    </tr>\n",
       "    <tr>\n",
       "      <th>12</th>\n",
       "      <td>135830.0</td>\n",
       "    </tr>\n",
       "  </tbody>\n",
       "</table>\n",
       "</div>"
      ],
      "text/plain": [
       "            debt\n",
       "date_m          \n",
       "1       136634.0\n",
       "2       117656.0\n",
       "3       128750.0\n",
       "4       129094.0\n",
       "5       133102.0\n",
       "6       135272.0\n",
       "7       129478.0\n",
       "8       129396.0\n",
       "9       133860.0\n",
       "10      125484.0\n",
       "11      127604.0\n",
       "12      135830.0"
      ]
     },
     "execution_count": 46,
     "metadata": {},
     "output_type": "execute_result"
    }
   ],
   "source": [
    "df_agr_month_free = df_agr_month[df_agr_month['subscription_fee'] == 0]\n",
    "#df_agr_month_free = df_agr_month_free.reset_index()\n",
    "df_agr_month_free = df_agr_month_free.groupby('date_m')['debt'].sum().to_frame(name='debt')\n",
    "df_agr_month_free"
   ]
  },
  {
   "cell_type": "code",
   "execution_count": 47,
   "id": "6e99984f",
   "metadata": {},
   "outputs": [
    {
     "data": {
      "text/html": [
       "<div>\n",
       "<style scoped>\n",
       "    .dataframe tbody tr th:only-of-type {\n",
       "        vertical-align: middle;\n",
       "    }\n",
       "\n",
       "    .dataframe tbody tr th {\n",
       "        vertical-align: top;\n",
       "    }\n",
       "\n",
       "    .dataframe thead th {\n",
       "        text-align: right;\n",
       "    }\n",
       "</style>\n",
       "<table border=\"1\" class=\"dataframe\">\n",
       "  <thead>\n",
       "    <tr style=\"text-align: right;\">\n",
       "      <th></th>\n",
       "      <th>debt</th>\n",
       "    </tr>\n",
       "    <tr>\n",
       "      <th>date_m</th>\n",
       "      <th></th>\n",
       "    </tr>\n",
       "  </thead>\n",
       "  <tbody>\n",
       "    <tr>\n",
       "      <th>1</th>\n",
       "      <td>122808.0</td>\n",
       "    </tr>\n",
       "    <tr>\n",
       "      <th>2</th>\n",
       "      <td>111936.0</td>\n",
       "    </tr>\n",
       "    <tr>\n",
       "      <th>3</th>\n",
       "      <td>123888.0</td>\n",
       "    </tr>\n",
       "    <tr>\n",
       "      <th>4</th>\n",
       "      <td>117296.0</td>\n",
       "    </tr>\n",
       "    <tr>\n",
       "      <th>5</th>\n",
       "      <td>127131.0</td>\n",
       "    </tr>\n",
       "    <tr>\n",
       "      <th>6</th>\n",
       "      <td>125078.0</td>\n",
       "    </tr>\n",
       "    <tr>\n",
       "      <th>7</th>\n",
       "      <td>122712.0</td>\n",
       "    </tr>\n",
       "    <tr>\n",
       "      <th>8</th>\n",
       "      <td>121032.0</td>\n",
       "    </tr>\n",
       "    <tr>\n",
       "      <th>9</th>\n",
       "      <td>111607.0</td>\n",
       "    </tr>\n",
       "    <tr>\n",
       "      <th>10</th>\n",
       "      <td>115824.0</td>\n",
       "    </tr>\n",
       "    <tr>\n",
       "      <th>11</th>\n",
       "      <td>111330.0</td>\n",
       "    </tr>\n",
       "    <tr>\n",
       "      <th>12</th>\n",
       "      <td>112855.0</td>\n",
       "    </tr>\n",
       "  </tbody>\n",
       "</table>\n",
       "</div>"
      ],
      "text/plain": [
       "            debt\n",
       "date_m          \n",
       "1       122808.0\n",
       "2       111936.0\n",
       "3       123888.0\n",
       "4       117296.0\n",
       "5       127131.0\n",
       "6       125078.0\n",
       "7       122712.0\n",
       "8       121032.0\n",
       "9       111607.0\n",
       "10      115824.0\n",
       "11      111330.0\n",
       "12      112855.0"
      ]
     },
     "execution_count": 47,
     "metadata": {},
     "output_type": "execute_result"
    }
   ],
   "source": [
    "df_agr_month_ultra = df_agr_month[df_agr_month['subscription_fee'] == 199]\n",
    "#df_agr_month_ultra = df_agr_month_ultra.reset_index()\n",
    "df_agr_month_ultra = df_agr_month_ultra.groupby('date_m')['debt'].sum().to_frame(name='debt')\n",
    "df_agr_month_ultra"
   ]
  },
  {
   "cell_type": "code",
   "execution_count": 48,
   "id": "bc5c2430",
   "metadata": {},
   "outputs": [
    {
     "name": "stdout",
     "output_type": "stream",
     "text": [
      "p-значение: [0.99997824]\n",
      "Не получилось отвергнуть нулевую гипотезу\n"
     ]
    }
   ],
   "source": [
    "# Ho = Помесячная выручка от пользователей с подпиской равна помесячной выручке от пользователей без подписки\n",
    "# H1 = Помесячная выручка от пользователей с подпиской выше помесячной выручки от пользователей без подписки\n",
    "\n",
    "alpha = 0.05 # уровень статистической значимости\n",
    "# если p-value окажется меньше него, отвергнем гипотезу\n",
    "\n",
    "results = st.ttest_ind(df_agr_month_ultra, df_agr_month_free, alternative='greater')\n",
    "\n",
    "print('p-значение:', results.pvalue)\n",
    "\n",
    "if results.pvalue < alpha:\n",
    "    print('Отвергаем нулевую гипотезу')\n",
    "else:\n",
    "    print('Не получилось отвергнуть нулевую гипотезу') "
   ]
  },
  {
   "cell_type": "markdown",
   "id": "22dfdeba",
   "metadata": {},
   "source": [
    "**Не получилось отвергнуть гипотезу Ho, значит можно сказать, что значимой является гипотеза, что помесячная выручка от пользователей с подпиской равна помесячной выручке от пользователей без подписки**"
   ]
  },
  {
   "cell_type": "markdown",
   "id": "3dc39a0a",
   "metadata": {},
   "source": [
    "6.4. Представим такую ситуацию: техническая команда сервиса обновила сервера, с которыми взаимодействует мобильное приложение. Она надеется, что из-за этого количество обращений в техподдержку значимо снизилось. Некоторый файл содержит для каждого пользователя данные о количестве обращений до обновления и после него. Какой тест нам понадобился бы для проверки этой гипотезы?"
   ]
  },
  {
   "cell_type": "markdown",
   "id": "b7d6742c",
   "metadata": {},
   "source": [
    "**Для проверки нам нужно использовать гепотезу о равенстве средних для зависимых (парных) выборок, со следующими гипотезами:**\n",
    "\n",
    "- Ho = количестве обращений до обновления и после него не изменилось\n",
    "- H1 = количество обращений после обновления значительно меньше, чем до него\n",
    "\n",
    "Для проверки понадобится ttest_rel"
   ]
  },
  {
   "cell_type": "code",
   "execution_count": 49,
   "id": "4b534290",
   "metadata": {},
   "outputs": [],
   "source": [
    "# **Общий вывод:**\n",
    "\n",
    "# Мы ознакомились с данными 3 датафреймов, изменили тип данных столбца data в одной из таблиц и удалили 31 явный дубликат из таблицы users_go, а также убедились в отсутствии дубликатов в других таблицах. У большенства дубликатов в списке имелась платная подписка. Возможно эти аккаунты были перерегистрированы и на новых учетных записях применен промокод, который позволял активировать месяц бесплатных поездок для новых пользователей.\n",
    "\n",
    "# Больше всего пользователей в Пятигорске, меньше всего в Москве. 54% (835 человек) представленных пользователей испоьзуют подписку free. Средний возраст пользователей близок к 25 годам. Люди в среднем проезжают 3070.7 метров, при этом половина пользователей проезжает 3133.6 метров. В среднем на поездку у пользователей уходит около 17.5 минут.\n",
    "\n",
    "# Проверка гипотиз показала, что значимыми являются выводы о том, что: \n",
    "# - пользователи с подпиской тратят больше времени на поездки, чем пользователи без подписки;\n",
    "# - пользователи с подпиской проезжают 3130 метров за одну поездку - расстояние оптимальное с точки зрения износа самоката;\n",
    "# - помесячная выручка от пользователей с подпиской равна помесячной выручке от пользователей без подписки.\n",
    "\n",
    "# Из чего следует, что условия подписки не самые прибыльные и эффективные с точки зрения бизнеса, маркетологам стои пересмотреть свои предложения по условиям подписки и акциям, возможно привлечь акциями различные возрастные категории и диверсифицировать акции и тарифы в зависимости от города.\n",
    "\n"
   ]
  },
  {
   "cell_type": "markdown",
   "id": "be558aa5",
   "metadata": {},
   "source": [
    "#### Шаг 7. Распределения"
   ]
  },
  {
   "cell_type": "markdown",
   "id": "96eff5d3",
   "metadata": {},
   "source": [
    "7.1 Отделу маркетинга GoFast поставили задачу: нужно провести акцию с раздачей промокодов на один бесплатный месяц подписки, в рамках которой как минимум 100 существующих клиентов должны продлить эту подписку. То есть по завершении периода действия подписки пользователь может либо отказаться от неё, либо продлить, совершив соотвествующий платёж. \n",
    "\n",
    "Эта акция уже проводилась ранее и по итогу выяснилось, что после бесплатного пробного периода подписку продлевают 10 % пользователей. Выясните, какое минимальное количество промокодов нужно разослать, чтобы вероятность не выполнить план была примерно 5 %. Подберите параметры распределения, описывающего эту ситуацию, постройте график распределения и сформулируйте ответ на вопрос о количестве промокодов.\n",
    "\n",
    "Нужно использовать биномиальное распределение, которое описывает указанную ситуацию. Затем подобрать подходящее значение параметра N для заданного параметра p=0.1 с помощью графиков и метода cdf(), сформулировать вывод и ответ."
   ]
  },
  {
   "cell_type": "code",
   "execution_count": 50,
   "id": "a999ea00",
   "metadata": {
    "scrolled": true
   },
   "outputs": [
    {
     "name": "stderr",
     "output_type": "stream",
     "text": [
      "/opt/conda/lib/python3.9/site-packages/scipy/stats/_discrete_distns.py:78: RuntimeWarning: divide by zero encountered in _binom_pdf\n",
      "  return _boost._binom_pdf(x, n, p)\n"
     ]
    },
    {
     "data": {
      "text/plain": [
       "<BarContainer object of 1001 artists>"
      ]
     },
     "execution_count": 50,
     "metadata": {},
     "output_type": "execute_result"
    },
    {
     "data": {
      "image/png": "[encoded data removed]",
      "text/plain": [
       "<Figure size 432x288 with 1 Axes>"
      ]
     },
     "metadata": {
      "needs_background": "light"
     },
     "output_type": "display_data"
    }
   ],
   "source": [
    "n=1000\n",
    "p=0.1\n",
    "alpha = 0.05\n",
    "\n",
    "free_action = []\n",
    "\n",
    "for k in range(0, n + 1):\n",
    "    action_var = binom.pmf(k, n, p)\n",
    "    free_action.append(action_var)\n",
    "\n",
    "plt.bar(range(0, n+1), free_action)"
   ]
  },
  {
   "cell_type": "markdown",
   "id": "32e4139f",
   "metadata": {},
   "source": [
    "**Вывод:**"
   ]
  },
  {
   "cell_type": "markdown",
   "id": "a1d4f6b2",
   "metadata": {},
   "source": [
    "7.2 Отдел маркетинга рассылает клиентам push-уведомления в мобильном приложении. Клиенты могут открыть его или не открывать. Известно, что уведомления открывают около 40 % получивших клиентов. Отдел планирует разослать 1 млн уведомлений. С помощью аппроксимации постройте примерный график распределения и оцените вероятность того, что уведомление откроют не более 399,5 тыс. пользователей."
   ]
  },
  {
   "cell_type": "code",
   "execution_count": 51,
   "id": "3ed3e48b",
   "metadata": {},
   "outputs": [
    {
     "name": "stdout",
     "output_type": "stream",
     "text": [
      "Вероятность того, что уведомление откроют не более 399,5 тыс. пользователей: 15.37%\n"
     ]
    },
    {
     "data": {
      "image/png": "[encoded data removed]",
      "text/plain": [
       "<Figure size 432x288 with 1 Axes>"
      ]
     },
     "metadata": {
      "needs_background": "light"
     },
     "output_type": "display_data"
    }
   ],
   "source": [
    "#Аналогично заданию выше, я не понимаю как его решить до конца (график). Дайте, пожалуйста, наводки.\n",
    "\n",
    "\n",
    "# задаём параметры биномиального распределения\n",
    "n = 1000000\n",
    "p = 0.4\n",
    "\n",
    "# задаём параметры нормального распределения равными\n",
    "# мат.ожиданию и дисперсии биномиального распределения\n",
    "mu = n * p\n",
    "sigma = sqrt(n * p * (1 - p))\n",
    "\n",
    "\n",
    "# задаём нормальное распределение\n",
    "distr = st.norm(mu, sigma) \n",
    "\n",
    "# считаем вероятность хвоста слева от 399,5 тысяч пользователей\n",
    "result = distr.cdf(399500)\n",
    "print(f'Вероятность того, что уведомление откроют не более 399,5 тыс. пользователей: {round(result*100, 2)}%')\n",
    "\n",
    "\n",
    "\n",
    "\n",
    "\n",
    "\n",
    "#Внесенные изменения V1\n",
    "\n",
    "s = np.random.normal(mu, sigma, 1000) #данные для графика распределния\n",
    "plt.hist(s, bins=50)\n",
    "plt.xlabel('Значения')\n",
    "plt.ylabel('Количество')\n",
    "plt.title('Гистограмма распределения')\n",
    "plt.show()"
   ]
  },
  {
   "cell_type": "markdown",
   "id": "82276919",
   "metadata": {},
   "source": [
    "**Вывод:** Из графика видно, что около половины (500) итераций попадпют в значения менее 400000 (пик), следовательно вывод о том, что вероятность того, что уведомление откроют не более 399,5 тыс. пользователей: 15.37% звучит правдоподобно.\n"
   ]
  },
  {
   "cell_type": "markdown",
   "id": "5a1e5a67",
   "metadata": {},
   "source": [
    "**Общий вывод:**\n",
    "\n",
    "Мы ознакомились с данными 3 датафреймов, изменили тип данных столбца data в одной из таблиц и удалили 31 явный дубликат из таблицы users_go, а также убедились в отсутствии дубликатов в других таблицах. У большенства дубликатов в списке имелась платная подписка. Возможно эти аккаунты были перерегистрированы и на новых учетных записях применен промокод, который позволял активировать месяц бесплатных поездок для новых пользователей.\n",
    "\n",
    "Больше всего пользователей в Пятигорске, меньше всего в Москве. 54% (835 человек) представленных пользователей испоьзуют подписку free. Средний возраст пользователей близок к 25 годам. Люди в среднем проезжают 3070.7 метров, при этом половина пользователей проезжает 3133.6 метров. В среднем на поездку у пользователей уходит около 17.5 минут.\n",
    "\n",
    "Проверка гипотиз показала, что значимыми являются выводы о том, что: \n",
    "- пользователи с подпиской тратят больше времени на поездки, чем пользователи без подписки;\n",
    "- пользователи с подпиской проезжают 3130 метров за одну поездку - расстояние оптимальное с точки зрения износа самоката;\n",
    "- помесячная выручка от пользователей с подпиской равна помесячной выручке от пользователей без подписки.\n",
    "\n",
    "Из чего следует, что условия подписки не самые прибыльные и эффективные с точки зрения бизнеса, маркетологам стои пересмотреть свои предложения по условиям подписки и акциям, возможно привлечь акциями различные возрастные категории и диверсифицировать акции и тарифы в зависимости от города.\n",
    "\n"
   ]
  }
 ],
 "metadata": {
  "ExecuteTimeLog": [
   {
    "duration": 45,
    "start_time": "2023-05-28T17:38:46.676Z"
   },
   {
    "duration": 6,
    "start_time": "2023-05-28T17:39:01.598Z"
   },
   {
    "duration": 6,
    "start_time": "2023-05-28T17:39:03.390Z"
   },
   {
    "duration": 7,
    "start_time": "2023-05-28T17:39:14.368Z"
   },
   {
    "duration": 392,
    "start_time": "2023-05-28T17:39:19.508Z"
   },
   {
    "duration": 99,
    "start_time": "2023-05-28T17:39:20.704Z"
   },
   {
    "duration": 140,
    "start_time": "2023-05-28T17:39:29.469Z"
   },
   {
    "duration": 16,
    "start_time": "2023-05-28T17:39:31.642Z"
   },
   {
    "duration": 9,
    "start_time": "2023-05-28T17:39:58.105Z"
   },
   {
    "duration": 7,
    "start_time": "2023-05-28T17:40:16.687Z"
   },
   {
    "duration": 66,
    "start_time": "2023-05-28T17:43:12.880Z"
   },
   {
    "duration": 3,
    "start_time": "2023-05-28T17:43:13.475Z"
   },
   {
    "duration": 10,
    "start_time": "2023-05-28T17:43:14.267Z"
   },
   {
    "duration": 8,
    "start_time": "2023-05-28T17:43:23.377Z"
   },
   {
    "duration": 7,
    "start_time": "2023-05-28T17:43:43.256Z"
   },
   {
    "duration": 3,
    "start_time": "2023-05-28T17:47:07.594Z"
   },
   {
    "duration": 18,
    "start_time": "2023-05-28T17:47:08.276Z"
   },
   {
    "duration": 4,
    "start_time": "2023-05-28T17:47:37.808Z"
   },
   {
    "duration": 36,
    "start_time": "2023-05-28T17:47:39.389Z"
   },
   {
    "duration": 3,
    "start_time": "2023-05-28T17:48:02.374Z"
   },
   {
    "duration": 26,
    "start_time": "2023-05-28T17:48:02.772Z"
   },
   {
    "duration": 3,
    "start_time": "2023-05-28T17:48:17.306Z"
   },
   {
    "duration": 3,
    "start_time": "2023-05-28T17:48:24.709Z"
   },
   {
    "duration": 8,
    "start_time": "2023-05-28T17:48:25.710Z"
   },
   {
    "duration": 3,
    "start_time": "2023-05-28T17:48:30.550Z"
   },
   {
    "duration": 7,
    "start_time": "2023-05-28T17:48:31.207Z"
   },
   {
    "duration": 3,
    "start_time": "2023-05-28T17:48:43.056Z"
   },
   {
    "duration": 24,
    "start_time": "2023-05-28T17:48:44.348Z"
   },
   {
    "duration": 4,
    "start_time": "2023-05-28T17:50:26.303Z"
   },
   {
    "duration": 26,
    "start_time": "2023-05-28T17:50:26.989Z"
   },
   {
    "duration": 11,
    "start_time": "2023-05-28T17:50:46.876Z"
   },
   {
    "duration": 24,
    "start_time": "2023-05-28T17:50:47.896Z"
   },
   {
    "duration": 3,
    "start_time": "2023-05-28T17:51:20.707Z"
   },
   {
    "duration": 34,
    "start_time": "2023-05-28T17:51:21.593Z"
   },
   {
    "duration": 3,
    "start_time": "2023-05-28T17:52:03.261Z"
   },
   {
    "duration": 34,
    "start_time": "2023-05-28T17:52:03.856Z"
   },
   {
    "duration": 3,
    "start_time": "2023-05-28T17:52:50.489Z"
   },
   {
    "duration": 28,
    "start_time": "2023-05-28T17:52:50.970Z"
   },
   {
    "duration": 3,
    "start_time": "2023-05-28T17:52:58.677Z"
   },
   {
    "duration": 27,
    "start_time": "2023-05-28T17:52:59.868Z"
   },
   {
    "duration": 8,
    "start_time": "2023-05-28T17:53:51.544Z"
   },
   {
    "duration": 7,
    "start_time": "2023-05-28T17:53:52.065Z"
   },
   {
    "duration": 27,
    "start_time": "2023-05-28T17:53:55.682Z"
   },
   {
    "duration": 3,
    "start_time": "2023-05-28T17:54:01.475Z"
   },
   {
    "duration": 101,
    "start_time": "2023-05-28T17:54:01.480Z"
   },
   {
    "duration": 37,
    "start_time": "2023-05-28T17:54:01.583Z"
   },
   {
    "duration": 84,
    "start_time": "2023-05-28T17:54:01.622Z"
   },
   {
    "duration": 22,
    "start_time": "2023-05-28T17:54:01.708Z"
   },
   {
    "duration": 53,
    "start_time": "2023-05-28T17:54:01.732Z"
   },
   {
    "duration": 47,
    "start_time": "2023-05-28T17:55:57.878Z"
   },
   {
    "duration": 25,
    "start_time": "2023-05-28T17:55:58.999Z"
   },
   {
    "duration": 3,
    "start_time": "2023-05-28T17:56:18.377Z"
   },
   {
    "duration": 3,
    "start_time": "2023-05-28T17:56:23.660Z"
   },
   {
    "duration": 33,
    "start_time": "2023-05-28T17:56:24.300Z"
   },
   {
    "duration": 3,
    "start_time": "2023-05-28T17:56:45.856Z"
   },
   {
    "duration": 24,
    "start_time": "2023-05-28T17:56:46.611Z"
   },
   {
    "duration": 52,
    "start_time": "2023-05-28T17:57:16.452Z"
   },
   {
    "duration": 24,
    "start_time": "2023-05-28T17:57:17.448Z"
   },
   {
    "duration": 3,
    "start_time": "2023-05-28T17:57:22.272Z"
   },
   {
    "duration": 24,
    "start_time": "2023-05-28T17:57:23.268Z"
   },
   {
    "duration": 3,
    "start_time": "2023-05-28T17:57:46.209Z"
   },
   {
    "duration": 24,
    "start_time": "2023-05-28T17:57:47.376Z"
   },
   {
    "duration": 37,
    "start_time": "2023-05-28T17:58:01.775Z"
   },
   {
    "duration": 23,
    "start_time": "2023-05-28T17:58:23.361Z"
   },
   {
    "duration": 32,
    "start_time": "2023-05-28T17:58:40.552Z"
   },
   {
    "duration": 715,
    "start_time": "2023-05-28T18:16:43.801Z"
   },
   {
    "duration": 975,
    "start_time": "2023-05-28T18:17:42.776Z"
   },
   {
    "duration": 741,
    "start_time": "2023-05-28T18:18:04.577Z"
   },
   {
    "duration": 8,
    "start_time": "2023-05-28T18:18:27.099Z"
   },
   {
    "duration": 70,
    "start_time": "2023-05-28T18:18:44.460Z"
   },
   {
    "duration": 12,
    "start_time": "2023-05-28T18:19:10.272Z"
   },
   {
    "duration": 4,
    "start_time": "2023-05-28T18:20:49.407Z"
   },
   {
    "duration": 37,
    "start_time": "2023-05-28T18:20:49.596Z"
   },
   {
    "duration": 41,
    "start_time": "2023-05-28T18:20:49.784Z"
   },
   {
    "duration": 23,
    "start_time": "2023-05-28T18:20:49.989Z"
   },
   {
    "duration": 11,
    "start_time": "2023-05-28T18:20:50.825Z"
   },
   {
    "duration": 12,
    "start_time": "2023-05-28T18:37:24.517Z"
   },
   {
    "duration": 8,
    "start_time": "2023-05-28T18:37:31.175Z"
   },
   {
    "duration": 5,
    "start_time": "2023-05-28T18:37:52.867Z"
   },
   {
    "duration": 4,
    "start_time": "2023-05-28T18:39:53.223Z"
   },
   {
    "duration": 5,
    "start_time": "2023-05-28T18:49:18.713Z"
   },
   {
    "duration": 7,
    "start_time": "2023-05-28T18:49:51.843Z"
   },
   {
    "duration": 8,
    "start_time": "2023-05-28T18:50:10.723Z"
   },
   {
    "duration": 8,
    "start_time": "2023-05-28T18:51:03.660Z"
   },
   {
    "duration": 9,
    "start_time": "2023-05-28T18:54:22.148Z"
   },
   {
    "duration": 9,
    "start_time": "2023-05-28T18:56:26.667Z"
   },
   {
    "duration": 17,
    "start_time": "2023-05-28T18:56:59.290Z"
   },
   {
    "duration": 2,
    "start_time": "2023-05-28T18:59:20.443Z"
   },
   {
    "duration": 2,
    "start_time": "2023-05-28T19:00:46.849Z"
   },
   {
    "duration": 2,
    "start_time": "2023-05-28T19:00:53.003Z"
   },
   {
    "duration": 64,
    "start_time": "2023-05-28T19:00:53.007Z"
   },
   {
    "duration": 3,
    "start_time": "2023-05-28T19:00:53.072Z"
   },
   {
    "duration": 30,
    "start_time": "2023-05-28T19:00:53.077Z"
   },
   {
    "duration": 30,
    "start_time": "2023-05-28T19:00:53.109Z"
   },
   {
    "duration": 41,
    "start_time": "2023-05-28T19:00:53.140Z"
   },
   {
    "duration": 7,
    "start_time": "2023-05-28T19:00:53.182Z"
   },
   {
    "duration": 15,
    "start_time": "2023-05-28T19:00:53.191Z"
   },
   {
    "duration": 9,
    "start_time": "2023-05-28T19:00:53.209Z"
   },
   {
    "duration": 14,
    "start_time": "2023-05-28T19:00:53.220Z"
   },
   {
    "duration": 9,
    "start_time": "2023-05-28T19:00:53.235Z"
   },
   {
    "duration": 11,
    "start_time": "2023-05-28T19:00:53.246Z"
   },
   {
    "duration": 7,
    "start_time": "2023-05-28T19:01:33.858Z"
   },
   {
    "duration": 8,
    "start_time": "2023-05-28T19:03:40.668Z"
   },
   {
    "duration": 8,
    "start_time": "2023-05-28T19:06:03.598Z"
   },
   {
    "duration": 12,
    "start_time": "2023-05-28T19:10:27.568Z"
   },
   {
    "duration": 10,
    "start_time": "2023-05-28T19:10:49.083Z"
   },
   {
    "duration": 12,
    "start_time": "2023-05-28T19:11:06.485Z"
   },
   {
    "duration": 9,
    "start_time": "2023-05-28T19:11:36.295Z"
   },
   {
    "duration": 17,
    "start_time": "2023-05-28T19:12:08.547Z"
   },
   {
    "duration": 6,
    "start_time": "2023-05-28T19:12:58.051Z"
   },
   {
    "duration": 6,
    "start_time": "2023-05-28T19:13:21.613Z"
   },
   {
    "duration": 8,
    "start_time": "2023-05-28T19:13:35.776Z"
   },
   {
    "duration": 7,
    "start_time": "2023-05-28T19:14:45.108Z"
   },
   {
    "duration": 10,
    "start_time": "2023-05-28T19:15:08.621Z"
   },
   {
    "duration": 5,
    "start_time": "2023-05-28T19:31:09.600Z"
   },
   {
    "duration": 6,
    "start_time": "2023-05-28T19:31:25.956Z"
   },
   {
    "duration": 9,
    "start_time": "2023-05-28T19:31:48.460Z"
   },
   {
    "duration": 7,
    "start_time": "2023-05-28T19:32:01.372Z"
   },
   {
    "duration": 490,
    "start_time": "2023-05-28T19:33:52.271Z"
   },
   {
    "duration": 68,
    "start_time": "2023-05-28T19:58:30.715Z"
   },
   {
    "duration": 18,
    "start_time": "2023-05-28T19:58:31.924Z"
   },
   {
    "duration": 3,
    "start_time": "2023-05-28T19:58:41.565Z"
   },
   {
    "duration": 87,
    "start_time": "2023-05-28T19:58:41.570Z"
   },
   {
    "duration": 4,
    "start_time": "2023-05-28T19:58:41.658Z"
   },
   {
    "duration": 29,
    "start_time": "2023-05-28T19:58:41.663Z"
   },
   {
    "duration": 29,
    "start_time": "2023-05-28T19:58:41.694Z"
   },
   {
    "duration": 26,
    "start_time": "2023-05-28T19:58:41.725Z"
   },
   {
    "duration": 8,
    "start_time": "2023-05-28T19:58:41.777Z"
   },
   {
    "duration": 9,
    "start_time": "2023-05-28T19:58:41.786Z"
   },
   {
    "duration": 9,
    "start_time": "2023-05-28T19:58:41.796Z"
   },
   {
    "duration": 10,
    "start_time": "2023-05-28T19:58:41.807Z"
   },
   {
    "duration": 9,
    "start_time": "2023-05-28T19:58:41.818Z"
   },
   {
    "duration": 6,
    "start_time": "2023-05-28T19:58:41.829Z"
   },
   {
    "duration": 48,
    "start_time": "2023-05-28T19:58:41.836Z"
   },
   {
    "duration": 61,
    "start_time": "2023-05-28T19:58:41.887Z"
   },
   {
    "duration": 0,
    "start_time": "2023-05-28T19:58:41.950Z"
   },
   {
    "duration": 0,
    "start_time": "2023-05-28T19:58:41.952Z"
   },
   {
    "duration": 0,
    "start_time": "2023-05-28T19:58:41.953Z"
   },
   {
    "duration": 0,
    "start_time": "2023-05-28T19:58:41.954Z"
   },
   {
    "duration": 0,
    "start_time": "2023-05-28T19:58:41.955Z"
   },
   {
    "duration": 44,
    "start_time": "2023-05-28T19:59:07.382Z"
   },
   {
    "duration": 4,
    "start_time": "2023-05-28T19:59:32.817Z"
   },
   {
    "duration": 4,
    "start_time": "2023-05-28T19:59:39.884Z"
   },
   {
    "duration": 144,
    "start_time": "2023-05-28T19:59:41.713Z"
   },
   {
    "duration": 3,
    "start_time": "2023-05-28T19:59:50.665Z"
   },
   {
    "duration": 141,
    "start_time": "2023-05-28T19:59:51.353Z"
   },
   {
    "duration": 4,
    "start_time": "2023-05-28T20:00:38.853Z"
   },
   {
    "duration": 5,
    "start_time": "2023-05-28T20:00:45.845Z"
   },
   {
    "duration": 110,
    "start_time": "2023-05-29T10:22:30.865Z"
   },
   {
    "duration": 933,
    "start_time": "2023-05-29T10:22:35.102Z"
   },
   {
    "duration": 269,
    "start_time": "2023-05-29T10:22:36.045Z"
   },
   {
    "duration": 18,
    "start_time": "2023-05-29T10:22:36.316Z"
   },
   {
    "duration": 98,
    "start_time": "2023-05-29T10:22:36.344Z"
   },
   {
    "duration": 35,
    "start_time": "2023-05-29T10:22:36.446Z"
   },
   {
    "duration": 23,
    "start_time": "2023-05-29T10:22:36.483Z"
   },
   {
    "duration": 64,
    "start_time": "2023-05-29T10:22:36.508Z"
   },
   {
    "duration": 20,
    "start_time": "2023-05-29T10:22:36.574Z"
   },
   {
    "duration": 10,
    "start_time": "2023-05-29T10:22:36.596Z"
   },
   {
    "duration": 64,
    "start_time": "2023-05-29T10:22:36.608Z"
   },
   {
    "duration": 16,
    "start_time": "2023-05-29T10:22:36.674Z"
   },
   {
    "duration": 8,
    "start_time": "2023-05-29T10:22:36.692Z"
   },
   {
    "duration": 16,
    "start_time": "2023-05-29T10:22:36.701Z"
   },
   {
    "duration": 50,
    "start_time": "2023-05-29T10:22:36.725Z"
   },
   {
    "duration": 202,
    "start_time": "2023-05-29T10:22:36.777Z"
   },
   {
    "duration": 60,
    "start_time": "2023-05-29T10:22:36.981Z"
   },
   {
    "duration": 0,
    "start_time": "2023-05-29T10:22:37.048Z"
   },
   {
    "duration": 0,
    "start_time": "2023-05-29T10:22:37.049Z"
   },
   {
    "duration": 0,
    "start_time": "2023-05-29T10:22:37.049Z"
   },
   {
    "duration": 12,
    "start_time": "2023-05-29T10:23:14.716Z"
   },
   {
    "duration": 3,
    "start_time": "2023-05-29T10:27:06.262Z"
   },
   {
    "duration": 95,
    "start_time": "2023-05-29T10:27:06.268Z"
   },
   {
    "duration": 4,
    "start_time": "2023-05-29T10:27:06.365Z"
   },
   {
    "duration": 33,
    "start_time": "2023-05-29T10:27:06.370Z"
   },
   {
    "duration": 53,
    "start_time": "2023-05-29T10:27:06.405Z"
   },
   {
    "duration": 27,
    "start_time": "2023-05-29T10:27:06.464Z"
   },
   {
    "duration": 7,
    "start_time": "2023-05-29T10:27:06.493Z"
   },
   {
    "duration": 34,
    "start_time": "2023-05-29T10:27:06.501Z"
   },
   {
    "duration": 34,
    "start_time": "2023-05-29T10:27:06.548Z"
   },
   {
    "duration": 8,
    "start_time": "2023-05-29T10:27:06.584Z"
   },
   {
    "duration": 13,
    "start_time": "2023-05-29T10:27:06.594Z"
   },
   {
    "duration": 52,
    "start_time": "2023-05-29T10:27:06.608Z"
   },
   {
    "duration": 13,
    "start_time": "2023-05-29T10:27:06.661Z"
   },
   {
    "duration": 27,
    "start_time": "2023-05-29T10:27:06.676Z"
   },
   {
    "duration": 193,
    "start_time": "2023-05-29T10:27:06.704Z"
   },
   {
    "duration": 5,
    "start_time": "2023-05-29T10:27:06.899Z"
   },
   {
    "duration": 168,
    "start_time": "2023-05-29T10:27:06.905Z"
   },
   {
    "duration": 2,
    "start_time": "2023-05-29T10:27:07.075Z"
   },
   {
    "duration": 21,
    "start_time": "2023-05-29T10:27:07.078Z"
   },
   {
    "duration": 8,
    "start_time": "2023-05-29T10:27:07.101Z"
   },
   {
    "duration": 8,
    "start_time": "2023-05-29T10:31:37.592Z"
   },
   {
    "duration": 5,
    "start_time": "2023-05-29T10:31:40.000Z"
   },
   {
    "duration": 253,
    "start_time": "2023-05-29T10:31:40.564Z"
   },
   {
    "duration": 3,
    "start_time": "2023-05-29T10:31:54.894Z"
   },
   {
    "duration": 103,
    "start_time": "2023-05-29T10:31:54.900Z"
   },
   {
    "duration": 3,
    "start_time": "2023-05-29T10:31:55.004Z"
   },
   {
    "duration": 80,
    "start_time": "2023-05-29T10:31:55.009Z"
   },
   {
    "duration": 99,
    "start_time": "2023-05-29T10:31:55.091Z"
   },
   {
    "duration": 21,
    "start_time": "2023-05-29T10:31:55.191Z"
   },
   {
    "duration": 27,
    "start_time": "2023-05-29T10:31:55.228Z"
   },
   {
    "duration": 23,
    "start_time": "2023-05-29T10:31:55.261Z"
   },
   {
    "duration": 12,
    "start_time": "2023-05-29T10:31:55.285Z"
   },
   {
    "duration": 14,
    "start_time": "2023-05-29T10:31:55.299Z"
   },
   {
    "duration": 26,
    "start_time": "2023-05-29T10:31:55.315Z"
   },
   {
    "duration": 39,
    "start_time": "2023-05-29T10:31:55.342Z"
   },
   {
    "duration": 26,
    "start_time": "2023-05-29T10:31:55.383Z"
   },
   {
    "duration": 20,
    "start_time": "2023-05-29T10:31:55.413Z"
   },
   {
    "duration": 175,
    "start_time": "2023-05-29T10:31:55.437Z"
   },
   {
    "duration": 26,
    "start_time": "2023-05-29T10:31:55.614Z"
   },
   {
    "duration": 149,
    "start_time": "2023-05-29T10:31:55.643Z"
   },
   {
    "duration": 5,
    "start_time": "2023-05-29T10:31:55.794Z"
   },
   {
    "duration": 267,
    "start_time": "2023-05-29T10:31:55.800Z"
   },
   {
    "duration": 0,
    "start_time": "2023-05-29T10:31:56.073Z"
   },
   {
    "duration": 0,
    "start_time": "2023-05-29T10:31:56.074Z"
   },
   {
    "duration": 5,
    "start_time": "2023-05-29T10:32:20.192Z"
   },
   {
    "duration": 6,
    "start_time": "2023-05-29T10:32:39.759Z"
   },
   {
    "duration": 278,
    "start_time": "2023-05-29T10:32:40.363Z"
   },
   {
    "duration": 4,
    "start_time": "2023-05-29T10:35:24.182Z"
   },
   {
    "duration": 6,
    "start_time": "2023-05-29T10:35:33.548Z"
   },
   {
    "duration": 279,
    "start_time": "2023-05-29T10:35:50.097Z"
   },
   {
    "duration": 4,
    "start_time": "2023-05-29T10:36:14.384Z"
   },
   {
    "duration": 283,
    "start_time": "2023-05-29T10:36:18.488Z"
   },
   {
    "duration": 286,
    "start_time": "2023-05-29T10:37:02.757Z"
   },
   {
    "duration": 10,
    "start_time": "2023-05-29T10:40:05.658Z"
   },
   {
    "duration": 8,
    "start_time": "2023-05-29T10:40:10.704Z"
   },
   {
    "duration": 3,
    "start_time": "2023-05-29T10:40:19.101Z"
   },
   {
    "duration": 65,
    "start_time": "2023-05-29T10:40:19.106Z"
   },
   {
    "duration": 0,
    "start_time": "2023-05-29T10:40:19.173Z"
   },
   {
    "duration": 0,
    "start_time": "2023-05-29T10:40:19.175Z"
   },
   {
    "duration": 0,
    "start_time": "2023-05-29T10:40:19.176Z"
   },
   {
    "duration": 0,
    "start_time": "2023-05-29T10:40:19.177Z"
   },
   {
    "duration": 0,
    "start_time": "2023-05-29T10:40:19.177Z"
   },
   {
    "duration": 0,
    "start_time": "2023-05-29T10:40:19.179Z"
   },
   {
    "duration": 0,
    "start_time": "2023-05-29T10:40:19.179Z"
   },
   {
    "duration": 0,
    "start_time": "2023-05-29T10:40:19.180Z"
   },
   {
    "duration": 0,
    "start_time": "2023-05-29T10:40:19.181Z"
   },
   {
    "duration": 0,
    "start_time": "2023-05-29T10:40:19.182Z"
   },
   {
    "duration": 0,
    "start_time": "2023-05-29T10:40:19.183Z"
   },
   {
    "duration": 0,
    "start_time": "2023-05-29T10:40:19.183Z"
   },
   {
    "duration": 0,
    "start_time": "2023-05-29T10:40:19.184Z"
   },
   {
    "duration": 0,
    "start_time": "2023-05-29T10:40:19.185Z"
   },
   {
    "duration": 0,
    "start_time": "2023-05-29T10:40:19.186Z"
   },
   {
    "duration": 0,
    "start_time": "2023-05-29T10:40:19.186Z"
   },
   {
    "duration": 0,
    "start_time": "2023-05-29T10:40:19.187Z"
   },
   {
    "duration": 0,
    "start_time": "2023-05-29T10:40:19.188Z"
   },
   {
    "duration": 0,
    "start_time": "2023-05-29T10:40:19.189Z"
   },
   {
    "duration": 14,
    "start_time": "2023-05-29T10:40:39.937Z"
   },
   {
    "duration": 24,
    "start_time": "2023-05-29T10:40:39.953Z"
   },
   {
    "duration": 0,
    "start_time": "2023-05-29T10:40:39.979Z"
   },
   {
    "duration": 0,
    "start_time": "2023-05-29T10:40:39.980Z"
   },
   {
    "duration": 0,
    "start_time": "2023-05-29T10:40:39.980Z"
   },
   {
    "duration": 0,
    "start_time": "2023-05-29T10:40:39.982Z"
   },
   {
    "duration": 0,
    "start_time": "2023-05-29T10:40:39.983Z"
   },
   {
    "duration": 0,
    "start_time": "2023-05-29T10:40:39.984Z"
   },
   {
    "duration": 0,
    "start_time": "2023-05-29T10:40:39.985Z"
   },
   {
    "duration": 0,
    "start_time": "2023-05-29T10:40:39.986Z"
   },
   {
    "duration": 0,
    "start_time": "2023-05-29T10:40:39.987Z"
   },
   {
    "duration": 0,
    "start_time": "2023-05-29T10:40:39.988Z"
   },
   {
    "duration": 0,
    "start_time": "2023-05-29T10:40:39.989Z"
   },
   {
    "duration": 0,
    "start_time": "2023-05-29T10:40:39.990Z"
   },
   {
    "duration": 0,
    "start_time": "2023-05-29T10:40:39.991Z"
   },
   {
    "duration": 0,
    "start_time": "2023-05-29T10:40:39.992Z"
   },
   {
    "duration": 184,
    "start_time": "2023-05-29T10:40:39.995Z"
   },
   {
    "duration": 5,
    "start_time": "2023-05-29T10:40:40.181Z"
   },
   {
    "duration": 17,
    "start_time": "2023-05-29T10:40:40.187Z"
   },
   {
    "duration": 0,
    "start_time": "2023-05-29T10:40:40.205Z"
   },
   {
    "duration": 0,
    "start_time": "2023-05-29T10:40:40.206Z"
   },
   {
    "duration": 289,
    "start_time": "2023-05-29T10:41:00.004Z"
   },
   {
    "duration": 43,
    "start_time": "2023-05-29T10:42:47.924Z"
   },
   {
    "duration": 6,
    "start_time": "2023-05-29T10:42:54.532Z"
   },
   {
    "duration": 52,
    "start_time": "2023-05-29T10:42:54.542Z"
   },
   {
    "duration": 0,
    "start_time": "2023-05-29T10:42:54.596Z"
   },
   {
    "duration": 0,
    "start_time": "2023-05-29T10:42:54.601Z"
   },
   {
    "duration": 0,
    "start_time": "2023-05-29T10:42:54.602Z"
   },
   {
    "duration": 0,
    "start_time": "2023-05-29T10:42:54.603Z"
   },
   {
    "duration": 0,
    "start_time": "2023-05-29T10:42:54.605Z"
   },
   {
    "duration": 0,
    "start_time": "2023-05-29T10:42:54.606Z"
   },
   {
    "duration": 0,
    "start_time": "2023-05-29T10:42:54.608Z"
   },
   {
    "duration": 0,
    "start_time": "2023-05-29T10:42:54.609Z"
   },
   {
    "duration": 0,
    "start_time": "2023-05-29T10:42:54.611Z"
   },
   {
    "duration": 0,
    "start_time": "2023-05-29T10:42:54.613Z"
   },
   {
    "duration": 0,
    "start_time": "2023-05-29T10:42:54.613Z"
   },
   {
    "duration": 0,
    "start_time": "2023-05-29T10:42:54.615Z"
   },
   {
    "duration": 0,
    "start_time": "2023-05-29T10:42:54.710Z"
   },
   {
    "duration": 0,
    "start_time": "2023-05-29T10:42:54.711Z"
   },
   {
    "duration": 0,
    "start_time": "2023-05-29T10:42:54.712Z"
   },
   {
    "duration": 0,
    "start_time": "2023-05-29T10:42:54.713Z"
   },
   {
    "duration": 0,
    "start_time": "2023-05-29T10:42:54.714Z"
   },
   {
    "duration": 0,
    "start_time": "2023-05-29T10:42:54.715Z"
   },
   {
    "duration": 7,
    "start_time": "2023-05-29T10:42:54.718Z"
   },
   {
    "duration": 304,
    "start_time": "2023-05-29T10:43:10.925Z"
   },
   {
    "duration": 7,
    "start_time": "2023-05-29T10:43:13.189Z"
   },
   {
    "duration": 4,
    "start_time": "2023-05-29T10:48:38.060Z"
   },
   {
    "duration": 103,
    "start_time": "2023-05-29T10:48:38.066Z"
   },
   {
    "duration": 4,
    "start_time": "2023-05-29T10:48:38.171Z"
   },
   {
    "duration": 27,
    "start_time": "2023-05-29T10:48:38.176Z"
   },
   {
    "duration": 53,
    "start_time": "2023-05-29T10:48:38.205Z"
   },
   {
    "duration": 24,
    "start_time": "2023-05-29T10:48:38.261Z"
   },
   {
    "duration": 6,
    "start_time": "2023-05-29T10:48:38.287Z"
   },
   {
    "duration": 8,
    "start_time": "2023-05-29T10:48:38.294Z"
   },
   {
    "duration": 10,
    "start_time": "2023-05-29T10:48:38.304Z"
   },
   {
    "duration": 52,
    "start_time": "2023-05-29T10:48:38.315Z"
   },
   {
    "duration": 7,
    "start_time": "2023-05-29T10:48:38.369Z"
   },
   {
    "duration": 5,
    "start_time": "2023-05-29T10:48:38.377Z"
   },
   {
    "duration": 8,
    "start_time": "2023-05-29T10:48:38.384Z"
   },
   {
    "duration": 4,
    "start_time": "2023-05-29T10:48:38.394Z"
   },
   {
    "duration": 176,
    "start_time": "2023-05-29T10:48:38.399Z"
   },
   {
    "duration": 4,
    "start_time": "2023-05-29T10:48:38.576Z"
   },
   {
    "duration": 165,
    "start_time": "2023-05-29T10:48:38.582Z"
   },
   {
    "duration": 5,
    "start_time": "2023-05-29T10:48:38.764Z"
   },
   {
    "duration": 259,
    "start_time": "2023-05-29T10:48:38.770Z"
   },
   {
    "duration": 7,
    "start_time": "2023-05-29T10:48:39.033Z"
   },
   {
    "duration": 35,
    "start_time": "2023-05-29T10:48:39.043Z"
   },
   {
    "duration": 223,
    "start_time": "2023-05-29T10:49:38.546Z"
   },
   {
    "duration": 5,
    "start_time": "2023-05-29T10:50:01.202Z"
   },
   {
    "duration": 278,
    "start_time": "2023-05-29T10:50:01.998Z"
   },
   {
    "duration": 253,
    "start_time": "2023-05-29T10:50:22.901Z"
   },
   {
    "duration": 294,
    "start_time": "2023-05-29T10:50:30.153Z"
   },
   {
    "duration": 231,
    "start_time": "2023-05-29T10:51:04.845Z"
   },
   {
    "duration": 8,
    "start_time": "2023-05-29T10:52:05.711Z"
   },
   {
    "duration": 6,
    "start_time": "2023-05-29T10:52:14.484Z"
   },
   {
    "duration": 10,
    "start_time": "2023-05-29T10:53:30.105Z"
   },
   {
    "duration": 4,
    "start_time": "2023-05-29T11:05:38.310Z"
   },
   {
    "duration": 20,
    "start_time": "2023-05-29T11:05:38.587Z"
   },
   {
    "duration": 22,
    "start_time": "2023-05-29T11:05:38.860Z"
   },
   {
    "duration": 53,
    "start_time": "2023-05-29T11:05:39.094Z"
   },
   {
    "duration": 35,
    "start_time": "2023-05-29T11:05:39.437Z"
   },
   {
    "duration": 49,
    "start_time": "2023-05-29T11:05:39.662Z"
   },
   {
    "duration": 26,
    "start_time": "2023-05-29T11:05:39.768Z"
   },
   {
    "duration": 0,
    "start_time": "2023-05-29T11:05:39.910Z"
   },
   {
    "duration": 0,
    "start_time": "2023-05-29T11:05:39.912Z"
   },
   {
    "duration": 0,
    "start_time": "2023-05-29T11:05:39.915Z"
   },
   {
    "duration": 0,
    "start_time": "2023-05-29T11:05:39.924Z"
   },
   {
    "duration": 0,
    "start_time": "2023-05-29T11:05:39.926Z"
   },
   {
    "duration": 0,
    "start_time": "2023-05-29T11:05:39.927Z"
   },
   {
    "duration": 0,
    "start_time": "2023-05-29T11:05:39.936Z"
   },
   {
    "duration": 0,
    "start_time": "2023-05-29T11:05:39.950Z"
   },
   {
    "duration": 0,
    "start_time": "2023-05-29T11:05:39.954Z"
   },
   {
    "duration": 0,
    "start_time": "2023-05-29T11:05:39.958Z"
   },
   {
    "duration": 0,
    "start_time": "2023-05-29T11:05:39.961Z"
   },
   {
    "duration": 0,
    "start_time": "2023-05-29T11:05:39.965Z"
   },
   {
    "duration": 0,
    "start_time": "2023-05-29T11:05:39.969Z"
   },
   {
    "duration": 0,
    "start_time": "2023-05-29T11:05:39.973Z"
   },
   {
    "duration": 3,
    "start_time": "2023-05-29T11:50:46.776Z"
   },
   {
    "duration": 114,
    "start_time": "2023-05-29T11:50:46.782Z"
   },
   {
    "duration": 3,
    "start_time": "2023-05-29T11:50:46.897Z"
   },
   {
    "duration": 57,
    "start_time": "2023-05-29T11:50:46.902Z"
   },
   {
    "duration": 34,
    "start_time": "2023-05-29T11:50:46.965Z"
   },
   {
    "duration": 38,
    "start_time": "2023-05-29T11:50:47.001Z"
   },
   {
    "duration": 21,
    "start_time": "2023-05-29T11:50:47.040Z"
   },
   {
    "duration": 7,
    "start_time": "2023-05-29T11:50:47.064Z"
   },
   {
    "duration": 25,
    "start_time": "2023-05-29T11:50:47.073Z"
   },
   {
    "duration": 35,
    "start_time": "2023-05-29T11:50:47.099Z"
   },
   {
    "duration": 24,
    "start_time": "2023-05-29T11:50:47.146Z"
   },
   {
    "duration": 5,
    "start_time": "2023-05-29T11:50:47.172Z"
   },
   {
    "duration": 10,
    "start_time": "2023-05-29T11:50:47.179Z"
   },
   {
    "duration": 5,
    "start_time": "2023-05-29T11:50:47.192Z"
   },
   {
    "duration": 150,
    "start_time": "2023-05-29T11:50:47.199Z"
   },
   {
    "duration": 25,
    "start_time": "2023-05-29T11:50:47.350Z"
   },
   {
    "duration": 168,
    "start_time": "2023-05-29T11:50:47.377Z"
   },
   {
    "duration": 8,
    "start_time": "2023-05-29T11:50:47.547Z"
   },
   {
    "duration": 309,
    "start_time": "2023-05-29T11:50:47.557Z"
   },
   {
    "duration": 162,
    "start_time": "2023-05-29T11:50:47.868Z"
   },
   {
    "duration": 2,
    "start_time": "2023-05-29T11:50:48.039Z"
   },
   {
    "duration": 148,
    "start_time": "2023-05-29T13:45:06.549Z"
   },
   {
    "duration": 209,
    "start_time": "2023-05-29T13:45:23.006Z"
   },
   {
    "duration": 155,
    "start_time": "2023-05-29T13:45:31.548Z"
   },
   {
    "duration": 180,
    "start_time": "2023-05-29T13:45:50.895Z"
   },
   {
    "duration": 186,
    "start_time": "2023-05-29T13:46:25.192Z"
   },
   {
    "duration": 164,
    "start_time": "2023-05-29T13:48:45.837Z"
   },
   {
    "duration": 2,
    "start_time": "2023-05-29T13:48:46.037Z"
   },
   {
    "duration": 10,
    "start_time": "2023-05-29T13:49:28.889Z"
   },
   {
    "duration": 164,
    "start_time": "2023-05-29T14:13:13.114Z"
   },
   {
    "duration": 179,
    "start_time": "2023-05-29T14:15:41.748Z"
   },
   {
    "duration": 195,
    "start_time": "2023-05-29T14:15:55.744Z"
   },
   {
    "duration": 148,
    "start_time": "2023-05-29T14:16:02.733Z"
   },
   {
    "duration": 11,
    "start_time": "2023-05-29T14:16:42.415Z"
   },
   {
    "duration": 203,
    "start_time": "2023-05-29T14:16:57.411Z"
   },
   {
    "duration": 251,
    "start_time": "2023-05-29T14:17:44.704Z"
   },
   {
    "duration": 164,
    "start_time": "2023-05-29T14:18:17.804Z"
   },
   {
    "duration": 164,
    "start_time": "2023-05-29T14:18:28.292Z"
   },
   {
    "duration": 173,
    "start_time": "2023-05-29T14:18:36.475Z"
   },
   {
    "duration": 226,
    "start_time": "2023-05-29T14:20:02.674Z"
   },
   {
    "duration": 18,
    "start_time": "2023-05-29T14:22:44.628Z"
   },
   {
    "duration": 6,
    "start_time": "2023-05-29T14:52:42.062Z"
   },
   {
    "duration": 14,
    "start_time": "2023-05-29T14:55:02.670Z"
   },
   {
    "duration": 10,
    "start_time": "2023-05-29T14:55:13.145Z"
   },
   {
    "duration": 13,
    "start_time": "2023-05-29T14:55:50.146Z"
   },
   {
    "duration": 6,
    "start_time": "2023-05-29T14:56:08.064Z"
   },
   {
    "duration": 10,
    "start_time": "2023-05-29T14:57:20.414Z"
   },
   {
    "duration": 5,
    "start_time": "2023-05-29T14:57:23.382Z"
   },
   {
    "duration": 143,
    "start_time": "2023-05-29T14:57:23.867Z"
   },
   {
    "duration": 7,
    "start_time": "2023-05-29T14:57:24.520Z"
   },
   {
    "duration": 3,
    "start_time": "2023-05-29T14:59:33.169Z"
   },
   {
    "duration": 3,
    "start_time": "2023-05-29T15:00:56.271Z"
   },
   {
    "duration": 90,
    "start_time": "2023-05-29T15:00:56.276Z"
   },
   {
    "duration": 3,
    "start_time": "2023-05-29T15:00:56.368Z"
   },
   {
    "duration": 39,
    "start_time": "2023-05-29T15:00:56.372Z"
   },
   {
    "duration": 37,
    "start_time": "2023-05-29T15:00:56.413Z"
   },
   {
    "duration": 58,
    "start_time": "2023-05-29T15:00:56.452Z"
   },
   {
    "duration": 15,
    "start_time": "2023-05-29T15:00:56.511Z"
   },
   {
    "duration": 53,
    "start_time": "2023-05-29T15:00:56.528Z"
   },
   {
    "duration": 12,
    "start_time": "2023-05-29T15:00:56.583Z"
   },
   {
    "duration": 14,
    "start_time": "2023-05-29T15:00:56.597Z"
   },
   {
    "duration": 58,
    "start_time": "2023-05-29T15:00:56.612Z"
   },
   {
    "duration": 12,
    "start_time": "2023-05-29T15:00:56.671Z"
   },
   {
    "duration": 10,
    "start_time": "2023-05-29T15:00:56.685Z"
   },
   {
    "duration": 6,
    "start_time": "2023-05-29T15:00:56.698Z"
   },
   {
    "duration": 164,
    "start_time": "2023-05-29T15:00:56.706Z"
   },
   {
    "duration": 5,
    "start_time": "2023-05-29T15:00:56.872Z"
   },
   {
    "duration": 173,
    "start_time": "2023-05-29T15:00:56.878Z"
   },
   {
    "duration": 8,
    "start_time": "2023-05-29T15:00:57.053Z"
   },
   {
    "duration": 5,
    "start_time": "2023-05-29T15:00:57.062Z"
   },
   {
    "duration": 306,
    "start_time": "2023-05-29T15:00:57.068Z"
   },
   {
    "duration": 195,
    "start_time": "2023-05-29T15:00:57.376Z"
   },
   {
    "duration": 8,
    "start_time": "2023-05-29T15:00:57.573Z"
   },
   {
    "duration": 196,
    "start_time": "2023-05-29T15:00:57.582Z"
   },
   {
    "duration": 8,
    "start_time": "2023-05-29T15:00:57.779Z"
   },
   {
    "duration": 3,
    "start_time": "2023-05-29T15:02:41.852Z"
   },
   {
    "duration": 103,
    "start_time": "2023-05-29T15:02:41.860Z"
   },
   {
    "duration": 4,
    "start_time": "2023-05-29T15:02:41.965Z"
   },
   {
    "duration": 41,
    "start_time": "2023-05-29T15:02:41.971Z"
   },
   {
    "duration": 67,
    "start_time": "2023-05-29T15:02:42.014Z"
   },
   {
    "duration": 23,
    "start_time": "2023-05-29T15:02:42.083Z"
   },
   {
    "duration": 6,
    "start_time": "2023-05-29T15:02:42.108Z"
   },
   {
    "duration": 70,
    "start_time": "2023-05-29T15:02:42.116Z"
   },
   {
    "duration": 11,
    "start_time": "2023-05-29T15:02:42.188Z"
   },
   {
    "duration": 11,
    "start_time": "2023-05-29T15:02:42.201Z"
   },
   {
    "duration": 26,
    "start_time": "2023-05-29T15:02:42.213Z"
   },
   {
    "duration": 14,
    "start_time": "2023-05-29T15:02:42.257Z"
   },
   {
    "duration": 19,
    "start_time": "2023-05-29T15:02:42.273Z"
   },
   {
    "duration": 62,
    "start_time": "2023-05-29T15:02:42.294Z"
   },
   {
    "duration": 174,
    "start_time": "2023-05-29T15:02:42.360Z"
   },
   {
    "duration": 13,
    "start_time": "2023-05-29T15:02:42.535Z"
   },
   {
    "duration": 144,
    "start_time": "2023-05-29T15:02:42.550Z"
   },
   {
    "duration": 3,
    "start_time": "2023-05-29T15:02:42.697Z"
   },
   {
    "duration": 38,
    "start_time": "2023-05-29T15:02:42.701Z"
   },
   {
    "duration": 258,
    "start_time": "2023-05-29T15:02:42.752Z"
   },
   {
    "duration": 170,
    "start_time": "2023-05-29T15:02:43.012Z"
   },
   {
    "duration": 8,
    "start_time": "2023-05-29T15:02:43.184Z"
   },
   {
    "duration": 177,
    "start_time": "2023-05-29T15:02:43.194Z"
   },
   {
    "duration": 8,
    "start_time": "2023-05-29T15:02:43.373Z"
   },
   {
    "duration": 12,
    "start_time": "2023-05-29T15:02:54.073Z"
   },
   {
    "duration": 9,
    "start_time": "2023-05-29T15:07:49.962Z"
   },
   {
    "duration": 204,
    "start_time": "2023-05-29T15:32:23.452Z"
   },
   {
    "duration": 41,
    "start_time": "2023-05-29T16:23:25.998Z"
   },
   {
    "duration": 35,
    "start_time": "2023-05-29T16:26:24.767Z"
   },
   {
    "duration": 22,
    "start_time": "2023-05-29T16:26:32.052Z"
   },
   {
    "duration": 22,
    "start_time": "2023-05-29T16:26:34.987Z"
   },
   {
    "duration": 98,
    "start_time": "2023-05-29T16:44:25.468Z"
   },
   {
    "duration": 54,
    "start_time": "2023-05-29T16:44:34.884Z"
   },
   {
    "duration": 10,
    "start_time": "2023-05-29T16:44:59.362Z"
   },
   {
    "duration": 49,
    "start_time": "2023-05-29T16:45:11.088Z"
   },
   {
    "duration": 23,
    "start_time": "2023-05-29T16:47:03.084Z"
   },
   {
    "duration": 19,
    "start_time": "2023-05-29T16:47:16.194Z"
   },
   {
    "duration": 23,
    "start_time": "2023-05-29T16:47:23.674Z"
   },
   {
    "duration": 37,
    "start_time": "2023-05-29T16:48:29.314Z"
   },
   {
    "duration": 32,
    "start_time": "2023-05-29T16:48:36.237Z"
   },
   {
    "duration": 29,
    "start_time": "2023-05-29T16:48:54.475Z"
   },
   {
    "duration": 23,
    "start_time": "2023-05-29T16:49:14.760Z"
   },
   {
    "duration": 49,
    "start_time": "2023-05-30T07:30:58.805Z"
   },
   {
    "duration": 777,
    "start_time": "2023-05-30T07:31:39.063Z"
   },
   {
    "duration": 187,
    "start_time": "2023-05-30T07:31:39.842Z"
   },
   {
    "duration": 4,
    "start_time": "2023-05-30T07:31:40.030Z"
   },
   {
    "duration": 55,
    "start_time": "2023-05-30T07:31:40.035Z"
   },
   {
    "duration": 33,
    "start_time": "2023-05-30T07:31:40.092Z"
   },
   {
    "duration": 25,
    "start_time": "2023-05-30T07:31:40.127Z"
   },
   {
    "duration": 7,
    "start_time": "2023-05-30T07:31:40.154Z"
   },
   {
    "duration": 18,
    "start_time": "2023-05-30T07:31:40.162Z"
   },
   {
    "duration": 11,
    "start_time": "2023-05-30T07:31:40.182Z"
   },
   {
    "duration": 28,
    "start_time": "2023-05-30T07:31:40.195Z"
   },
   {
    "duration": 17,
    "start_time": "2023-05-30T07:31:40.224Z"
   },
   {
    "duration": 10,
    "start_time": "2023-05-30T07:31:40.242Z"
   },
   {
    "duration": 18,
    "start_time": "2023-05-30T07:31:40.253Z"
   },
   {
    "duration": 16,
    "start_time": "2023-05-30T07:31:40.274Z"
   },
   {
    "duration": 156,
    "start_time": "2023-05-30T07:31:40.292Z"
   },
   {
    "duration": 6,
    "start_time": "2023-05-30T07:31:40.449Z"
   },
   {
    "duration": 131,
    "start_time": "2023-05-30T07:31:40.456Z"
   },
   {
    "duration": 3,
    "start_time": "2023-05-30T07:31:40.589Z"
   },
   {
    "duration": 21,
    "start_time": "2023-05-30T07:31:40.594Z"
   },
   {
    "duration": 238,
    "start_time": "2023-05-30T07:31:40.617Z"
   },
   {
    "duration": 8,
    "start_time": "2023-05-30T07:31:40.856Z"
   },
   {
    "duration": 215,
    "start_time": "2023-05-30T07:31:40.866Z"
   },
   {
    "duration": 8,
    "start_time": "2023-05-30T07:31:41.083Z"
   },
   {
    "duration": 165,
    "start_time": "2023-05-30T07:31:41.093Z"
   },
   {
    "duration": 8,
    "start_time": "2023-05-30T07:31:41.259Z"
   },
   {
    "duration": 16,
    "start_time": "2023-05-30T07:31:41.269Z"
   },
   {
    "duration": 34,
    "start_time": "2023-05-30T07:31:41.286Z"
   },
   {
    "duration": 24,
    "start_time": "2023-05-30T07:31:41.321Z"
   },
   {
    "duration": 21,
    "start_time": "2023-05-30T07:31:41.346Z"
   },
   {
    "duration": 250,
    "start_time": "2023-05-30T07:31:41.369Z"
   },
   {
    "duration": 180,
    "start_time": "2023-05-30T07:33:00.591Z"
   },
   {
    "duration": 221,
    "start_time": "2023-05-30T07:33:14.811Z"
   },
   {
    "duration": 206,
    "start_time": "2023-05-30T07:49:02.258Z"
   },
   {
    "duration": 222,
    "start_time": "2023-05-30T08:02:43.382Z"
   },
   {
    "duration": 7,
    "start_time": "2023-05-30T10:12:20.711Z"
   },
   {
    "duration": 286,
    "start_time": "2023-05-30T11:29:04.303Z"
   },
   {
    "duration": 48,
    "start_time": "2023-05-30T11:30:35.956Z"
   },
   {
    "duration": 151,
    "start_time": "2023-05-30T11:31:18.761Z"
   },
   {
    "duration": 3,
    "start_time": "2023-05-30T11:40:57.008Z"
   },
   {
    "duration": 16,
    "start_time": "2023-05-30T11:41:31.090Z"
   },
   {
    "duration": 11,
    "start_time": "2023-05-30T11:41:55.905Z"
   },
   {
    "duration": 208,
    "start_time": "2023-05-30T11:42:37.923Z"
   },
   {
    "duration": 694,
    "start_time": "2023-05-30T11:44:07.851Z"
   },
   {
    "duration": 7,
    "start_time": "2023-05-30T12:20:12.959Z"
   },
   {
    "duration": 7,
    "start_time": "2023-05-30T13:03:44.004Z"
   },
   {
    "duration": 18,
    "start_time": "2023-05-30T13:04:04.046Z"
   },
   {
    "duration": 34,
    "start_time": "2023-05-30T13:04:16.143Z"
   },
   {
    "duration": 18,
    "start_time": "2023-05-30T13:07:10.204Z"
   },
   {
    "duration": 49,
    "start_time": "2023-05-30T13:09:27.827Z"
   },
   {
    "duration": 23,
    "start_time": "2023-05-30T13:09:51.307Z"
   },
   {
    "duration": 23,
    "start_time": "2023-05-30T13:12:11.750Z"
   },
   {
    "duration": 18,
    "start_time": "2023-05-30T13:13:15.454Z"
   },
   {
    "duration": 18,
    "start_time": "2023-05-30T13:13:54.122Z"
   },
   {
    "duration": 14,
    "start_time": "2023-05-30T13:16:42.043Z"
   },
   {
    "duration": 17,
    "start_time": "2023-05-30T13:17:26.007Z"
   },
   {
    "duration": 19,
    "start_time": "2023-05-30T13:17:39.944Z"
   },
   {
    "duration": 18,
    "start_time": "2023-05-30T13:19:25.272Z"
   },
   {
    "duration": 879,
    "start_time": "2023-05-30T13:20:38.317Z"
   },
   {
    "duration": 78,
    "start_time": "2023-05-30T13:21:35.954Z"
   },
   {
    "duration": 20,
    "start_time": "2023-05-30T13:21:42.753Z"
   },
   {
    "duration": 32,
    "start_time": "2023-05-30T13:22:15.843Z"
   },
   {
    "duration": 1098,
    "start_time": "2023-05-30T13:22:21.507Z"
   },
   {
    "duration": 1468,
    "start_time": "2023-05-30T13:33:03.662Z"
   },
   {
    "duration": 1385,
    "start_time": "2023-05-30T13:33:10.864Z"
   },
   {
    "duration": 931,
    "start_time": "2023-05-30T13:33:24.262Z"
   },
   {
    "duration": 1015,
    "start_time": "2023-05-30T13:33:34.464Z"
   },
   {
    "duration": 17,
    "start_time": "2023-05-30T13:34:13.548Z"
   },
   {
    "duration": 1989,
    "start_time": "2023-05-30T13:34:39.905Z"
   },
   {
    "duration": 23,
    "start_time": "2023-05-30T13:38:16.352Z"
   },
   {
    "duration": 22,
    "start_time": "2023-05-30T13:38:33.403Z"
   },
   {
    "duration": 31,
    "start_time": "2023-05-30T13:47:03.957Z"
   },
   {
    "duration": 21,
    "start_time": "2023-05-30T13:47:24.896Z"
   },
   {
    "duration": 21,
    "start_time": "2023-05-30T13:47:53.385Z"
   },
   {
    "duration": 524,
    "start_time": "2023-05-30T14:21:27.357Z"
   },
   {
    "duration": 610,
    "start_time": "2023-05-30T14:21:42.460Z"
   },
   {
    "duration": 2,
    "start_time": "2023-05-30T14:21:50.690Z"
   },
   {
    "duration": 91,
    "start_time": "2023-05-30T14:21:50.694Z"
   },
   {
    "duration": 2,
    "start_time": "2023-05-30T14:21:50.787Z"
   },
   {
    "duration": 28,
    "start_time": "2023-05-30T14:21:50.791Z"
   },
   {
    "duration": 27,
    "start_time": "2023-05-30T14:21:50.820Z"
   },
   {
    "duration": 21,
    "start_time": "2023-05-30T14:21:50.848Z"
   },
   {
    "duration": 11,
    "start_time": "2023-05-30T14:21:50.870Z"
   },
   {
    "duration": 5,
    "start_time": "2023-05-30T14:21:50.882Z"
   },
   {
    "duration": 28,
    "start_time": "2023-05-30T14:21:50.888Z"
   },
   {
    "duration": 9,
    "start_time": "2023-05-30T14:21:50.917Z"
   },
   {
    "duration": 7,
    "start_time": "2023-05-30T14:21:50.927Z"
   },
   {
    "duration": 8,
    "start_time": "2023-05-30T14:21:50.936Z"
   },
   {
    "duration": 18,
    "start_time": "2023-05-30T14:21:50.945Z"
   },
   {
    "duration": 5,
    "start_time": "2023-05-30T14:21:50.966Z"
   },
   {
    "duration": 146,
    "start_time": "2023-05-30T14:21:50.972Z"
   },
   {
    "duration": 5,
    "start_time": "2023-05-30T14:21:51.119Z"
   },
   {
    "duration": 122,
    "start_time": "2023-05-30T14:21:51.125Z"
   },
   {
    "duration": 4,
    "start_time": "2023-05-30T14:21:51.248Z"
   },
   {
    "duration": 11,
    "start_time": "2023-05-30T14:21:51.253Z"
   },
   {
    "duration": 233,
    "start_time": "2023-05-30T14:21:51.266Z"
   },
   {
    "duration": 15,
    "start_time": "2023-05-30T14:21:51.500Z"
   },
   {
    "duration": 156,
    "start_time": "2023-05-30T14:21:51.517Z"
   },
   {
    "duration": 8,
    "start_time": "2023-05-30T14:21:51.674Z"
   },
   {
    "duration": 146,
    "start_time": "2023-05-30T14:21:51.683Z"
   },
   {
    "duration": 7,
    "start_time": "2023-05-30T14:21:51.831Z"
   },
   {
    "duration": 13,
    "start_time": "2023-05-30T14:21:51.839Z"
   },
   {
    "duration": 20,
    "start_time": "2023-05-30T14:21:51.853Z"
   },
   {
    "duration": 49,
    "start_time": "2023-05-30T14:21:51.874Z"
   },
   {
    "duration": 17,
    "start_time": "2023-05-30T14:21:51.924Z"
   },
   {
    "duration": 219,
    "start_time": "2023-05-30T14:21:51.943Z"
   },
   {
    "duration": 221,
    "start_time": "2023-05-30T14:21:52.164Z"
   },
   {
    "duration": 28,
    "start_time": "2023-05-30T14:21:52.387Z"
   },
   {
    "duration": 628,
    "start_time": "2023-05-30T14:21:52.417Z"
   },
   {
    "duration": 67,
    "start_time": "2023-05-30T14:21:53.047Z"
   },
   {
    "duration": 610,
    "start_time": "2023-05-30T14:22:20.792Z"
   },
   {
    "duration": 10,
    "start_time": "2023-05-30T14:22:37.294Z"
   },
   {
    "duration": 135,
    "start_time": "2023-05-30T14:25:46.395Z"
   },
   {
    "duration": 9,
    "start_time": "2023-05-30T14:25:57.195Z"
   },
   {
    "duration": 23,
    "start_time": "2023-05-30T14:26:08.883Z"
   },
   {
    "duration": 3,
    "start_time": "2023-05-30T14:26:24.597Z"
   },
   {
    "duration": 73,
    "start_time": "2023-05-30T14:26:24.601Z"
   },
   {
    "duration": 3,
    "start_time": "2023-05-30T14:26:24.675Z"
   },
   {
    "duration": 27,
    "start_time": "2023-05-30T14:26:24.679Z"
   },
   {
    "duration": 34,
    "start_time": "2023-05-30T14:26:24.707Z"
   },
   {
    "duration": 21,
    "start_time": "2023-05-30T14:26:24.743Z"
   },
   {
    "duration": 6,
    "start_time": "2023-05-30T14:26:25.005Z"
   },
   {
    "duration": 18,
    "start_time": "2023-05-30T14:26:25.013Z"
   },
   {
    "duration": 10,
    "start_time": "2023-05-30T14:26:25.395Z"
   },
   {
    "duration": 35,
    "start_time": "2023-05-30T14:26:25.407Z"
   },
   {
    "duration": 8,
    "start_time": "2023-05-30T14:26:25.502Z"
   },
   {
    "duration": 15,
    "start_time": "2023-05-30T14:26:25.511Z"
   },
   {
    "duration": 14,
    "start_time": "2023-05-30T14:26:25.527Z"
   },
   {
    "duration": 7,
    "start_time": "2023-05-30T14:26:25.543Z"
   },
   {
    "duration": 145,
    "start_time": "2023-05-30T14:26:25.551Z"
   },
   {
    "duration": 5,
    "start_time": "2023-05-30T14:26:25.697Z"
   },
   {
    "duration": 126,
    "start_time": "2023-05-30T14:26:25.704Z"
   },
   {
    "duration": 2,
    "start_time": "2023-05-30T14:26:25.832Z"
   },
   {
    "duration": 6,
    "start_time": "2023-05-30T14:26:25.836Z"
   },
   {
    "duration": 220,
    "start_time": "2023-05-30T14:26:25.998Z"
   },
   {
    "duration": 13,
    "start_time": "2023-05-30T14:26:26.220Z"
   },
   {
    "duration": 169,
    "start_time": "2023-05-30T14:26:26.234Z"
   },
   {
    "duration": 17,
    "start_time": "2023-05-30T14:26:26.404Z"
   },
   {
    "duration": 139,
    "start_time": "2023-05-30T14:26:26.426Z"
   },
   {
    "duration": 8,
    "start_time": "2023-05-30T14:26:26.567Z"
   },
   {
    "duration": 22,
    "start_time": "2023-05-30T14:26:26.577Z"
   },
   {
    "duration": 34,
    "start_time": "2023-05-30T14:26:26.600Z"
   },
   {
    "duration": 28,
    "start_time": "2023-05-30T14:26:26.700Z"
   },
   {
    "duration": 18,
    "start_time": "2023-05-30T14:26:26.730Z"
   },
   {
    "duration": 225,
    "start_time": "2023-05-30T14:26:26.750Z"
   },
   {
    "duration": 219,
    "start_time": "2023-05-30T14:26:26.977Z"
   },
   {
    "duration": 37,
    "start_time": "2023-05-30T14:26:27.198Z"
   },
   {
    "duration": 15,
    "start_time": "2023-05-30T14:26:27.236Z"
   },
   {
    "duration": 69,
    "start_time": "2023-05-30T14:26:27.252Z"
   },
   {
    "duration": 20,
    "start_time": "2023-05-30T14:28:59.392Z"
   },
   {
    "duration": 33,
    "start_time": "2023-05-30T14:30:44.428Z"
   },
   {
    "duration": 3,
    "start_time": "2023-05-30T14:30:58.293Z"
   },
   {
    "duration": 64,
    "start_time": "2023-05-30T14:30:58.298Z"
   },
   {
    "duration": 3,
    "start_time": "2023-05-30T14:30:58.363Z"
   },
   {
    "duration": 39,
    "start_time": "2023-05-30T14:30:58.368Z"
   },
   {
    "duration": 26,
    "start_time": "2023-05-30T14:30:58.409Z"
   },
   {
    "duration": 23,
    "start_time": "2023-05-30T14:30:58.436Z"
   },
   {
    "duration": 6,
    "start_time": "2023-05-30T14:30:58.460Z"
   },
   {
    "duration": 10,
    "start_time": "2023-05-30T14:30:58.468Z"
   },
   {
    "duration": 10,
    "start_time": "2023-05-30T14:30:58.480Z"
   },
   {
    "duration": 8,
    "start_time": "2023-05-30T14:30:58.517Z"
   },
   {
    "duration": 31,
    "start_time": "2023-05-30T14:30:58.526Z"
   },
   {
    "duration": 33,
    "start_time": "2023-05-30T14:30:58.558Z"
   },
   {
    "duration": 31,
    "start_time": "2023-05-30T14:30:58.593Z"
   },
   {
    "duration": 34,
    "start_time": "2023-05-30T14:30:58.625Z"
   },
   {
    "duration": 165,
    "start_time": "2023-05-30T14:30:58.660Z"
   },
   {
    "duration": 5,
    "start_time": "2023-05-30T14:30:58.826Z"
   },
   {
    "duration": 135,
    "start_time": "2023-05-30T14:30:58.832Z"
   },
   {
    "duration": 3,
    "start_time": "2023-05-30T14:30:58.968Z"
   },
   {
    "duration": 13,
    "start_time": "2023-05-30T14:30:58.972Z"
   },
   {
    "duration": 245,
    "start_time": "2023-05-30T14:30:58.987Z"
   },
   {
    "duration": 8,
    "start_time": "2023-05-30T14:30:59.233Z"
   },
   {
    "duration": 193,
    "start_time": "2023-05-30T14:30:59.243Z"
   },
   {
    "duration": 7,
    "start_time": "2023-05-30T14:30:59.438Z"
   },
   {
    "duration": 164,
    "start_time": "2023-05-30T14:30:59.447Z"
   },
   {
    "duration": 7,
    "start_time": "2023-05-30T14:30:59.613Z"
   },
   {
    "duration": 31,
    "start_time": "2023-05-30T14:30:59.621Z"
   },
   {
    "duration": 17,
    "start_time": "2023-05-30T14:30:59.653Z"
   },
   {
    "duration": 25,
    "start_time": "2023-05-30T14:30:59.672Z"
   },
   {
    "duration": 29,
    "start_time": "2023-05-30T14:30:59.698Z"
   },
   {
    "duration": 233,
    "start_time": "2023-05-30T14:30:59.728Z"
   },
   {
    "duration": 216,
    "start_time": "2023-05-30T14:30:59.962Z"
   },
   {
    "duration": 22,
    "start_time": "2023-05-30T14:31:00.179Z"
   },
   {
    "duration": 43,
    "start_time": "2023-05-30T14:31:00.203Z"
   },
   {
    "duration": 58,
    "start_time": "2023-05-30T14:31:00.248Z"
   },
   {
    "duration": 569,
    "start_time": "2023-05-30T14:35:17.274Z"
   },
   {
    "duration": 4,
    "start_time": "2023-05-30T14:35:36.060Z"
   },
   {
    "duration": 126,
    "start_time": "2023-05-30T14:37:14.310Z"
   },
   {
    "duration": 4,
    "start_time": "2023-05-30T14:37:32.015Z"
   },
   {
    "duration": 973,
    "start_time": "2023-05-30T14:38:16.099Z"
   },
   {
    "duration": 76,
    "start_time": "2023-05-30T14:39:05.586Z"
   },
   {
    "duration": 60,
    "start_time": "2023-05-30T14:39:20.600Z"
   },
   {
    "duration": 1267,
    "start_time": "2023-05-30T14:40:17.153Z"
   },
   {
    "duration": 891,
    "start_time": "2023-05-30T14:42:22.984Z"
   },
   {
    "duration": 3,
    "start_time": "2023-05-30T14:42:30.183Z"
   },
   {
    "duration": 86,
    "start_time": "2023-05-30T14:42:30.188Z"
   },
   {
    "duration": 3,
    "start_time": "2023-05-30T14:42:30.276Z"
   },
   {
    "duration": 50,
    "start_time": "2023-05-30T14:42:30.281Z"
   },
   {
    "duration": 46,
    "start_time": "2023-05-30T14:42:30.333Z"
   },
   {
    "duration": 48,
    "start_time": "2023-05-30T14:42:30.381Z"
   },
   {
    "duration": 66,
    "start_time": "2023-05-30T14:42:30.430Z"
   },
   {
    "duration": 36,
    "start_time": "2023-05-30T14:42:30.498Z"
   },
   {
    "duration": 34,
    "start_time": "2023-05-30T14:42:30.536Z"
   },
   {
    "duration": 45,
    "start_time": "2023-05-30T14:42:30.572Z"
   },
   {
    "duration": 28,
    "start_time": "2023-05-30T14:42:30.619Z"
   },
   {
    "duration": 27,
    "start_time": "2023-05-30T14:42:30.649Z"
   },
   {
    "duration": 37,
    "start_time": "2023-05-30T14:42:30.678Z"
   },
   {
    "duration": 36,
    "start_time": "2023-05-30T14:42:30.717Z"
   },
   {
    "duration": 170,
    "start_time": "2023-05-30T14:42:30.754Z"
   },
   {
    "duration": 5,
    "start_time": "2023-05-30T14:42:30.925Z"
   },
   {
    "duration": 155,
    "start_time": "2023-05-30T14:42:30.932Z"
   },
   {
    "duration": 3,
    "start_time": "2023-05-30T14:42:31.088Z"
   },
   {
    "duration": 28,
    "start_time": "2023-05-30T14:42:31.093Z"
   },
   {
    "duration": 231,
    "start_time": "2023-05-30T14:42:31.122Z"
   },
   {
    "duration": 6,
    "start_time": "2023-05-30T14:42:31.354Z"
   },
   {
    "duration": 210,
    "start_time": "2023-05-30T14:42:31.362Z"
   },
   {
    "duration": 7,
    "start_time": "2023-05-30T14:42:31.574Z"
   },
   {
    "duration": 184,
    "start_time": "2023-05-30T14:42:31.583Z"
   },
   {
    "duration": 8,
    "start_time": "2023-05-30T14:42:31.769Z"
   },
   {
    "duration": 18,
    "start_time": "2023-05-30T14:42:31.779Z"
   },
   {
    "duration": 30,
    "start_time": "2023-05-30T14:42:31.798Z"
   },
   {
    "duration": 30,
    "start_time": "2023-05-30T14:42:31.829Z"
   },
   {
    "duration": 20,
    "start_time": "2023-05-30T14:42:31.860Z"
   },
   {
    "duration": 213,
    "start_time": "2023-05-30T14:42:31.882Z"
   },
   {
    "duration": 212,
    "start_time": "2023-05-30T14:42:32.097Z"
   },
   {
    "duration": 22,
    "start_time": "2023-05-30T14:42:32.315Z"
   },
   {
    "duration": 24,
    "start_time": "2023-05-30T14:42:32.339Z"
   },
   {
    "duration": 776,
    "start_time": "2023-05-30T14:42:32.364Z"
   },
   {
    "duration": 8,
    "start_time": "2023-05-30T14:43:44.884Z"
   },
   {
    "duration": 74,
    "start_time": "2023-05-30T14:45:56.746Z"
   },
   {
    "duration": 149,
    "start_time": "2023-05-30T14:46:21.920Z"
   },
   {
    "duration": 9,
    "start_time": "2023-05-30T14:46:28.602Z"
   },
   {
    "duration": 8,
    "start_time": "2023-05-30T14:47:36.908Z"
   },
   {
    "duration": 8,
    "start_time": "2023-05-30T14:48:25.213Z"
   },
   {
    "duration": 7,
    "start_time": "2023-05-30T14:55:50.100Z"
   },
   {
    "duration": 3,
    "start_time": "2023-05-30T14:56:38.907Z"
   },
   {
    "duration": 63,
    "start_time": "2023-05-30T14:56:38.912Z"
   },
   {
    "duration": 3,
    "start_time": "2023-05-30T14:56:38.977Z"
   },
   {
    "duration": 28,
    "start_time": "2023-05-30T14:56:38.981Z"
   },
   {
    "duration": 27,
    "start_time": "2023-05-30T14:56:39.161Z"
   },
   {
    "duration": 22,
    "start_time": "2023-05-30T14:56:39.189Z"
   },
   {
    "duration": 8,
    "start_time": "2023-05-30T14:56:39.212Z"
   },
   {
    "duration": 5,
    "start_time": "2023-05-30T14:56:39.221Z"
   },
   {
    "duration": 7,
    "start_time": "2023-05-30T14:56:39.319Z"
   },
   {
    "duration": 12,
    "start_time": "2023-05-30T14:56:39.328Z"
   },
   {
    "duration": 7,
    "start_time": "2023-05-30T14:56:39.341Z"
   },
   {
    "duration": 4,
    "start_time": "2023-05-30T14:56:39.349Z"
   },
   {
    "duration": 14,
    "start_time": "2023-05-30T14:56:39.354Z"
   },
   {
    "duration": 4,
    "start_time": "2023-05-30T14:56:39.468Z"
   },
   {
    "duration": 127,
    "start_time": "2023-05-30T14:56:39.473Z"
   },
   {
    "duration": 6,
    "start_time": "2023-05-30T14:56:39.602Z"
   },
   {
    "duration": 163,
    "start_time": "2023-05-30T14:56:39.622Z"
   },
   {
    "duration": 22,
    "start_time": "2023-05-30T14:56:39.787Z"
   },
   {
    "duration": 22,
    "start_time": "2023-05-30T14:56:39.810Z"
   },
   {
    "duration": 222,
    "start_time": "2023-05-30T14:56:39.833Z"
   },
   {
    "duration": 8,
    "start_time": "2023-05-30T14:56:40.057Z"
   },
   {
    "duration": 171,
    "start_time": "2023-05-30T14:56:40.066Z"
   },
   {
    "duration": 9,
    "start_time": "2023-05-30T14:56:40.239Z"
   },
   {
    "duration": 162,
    "start_time": "2023-05-30T14:56:40.250Z"
   },
   {
    "duration": 9,
    "start_time": "2023-05-30T14:56:40.415Z"
   },
   {
    "duration": 16,
    "start_time": "2023-05-30T14:56:40.426Z"
   },
   {
    "duration": 19,
    "start_time": "2023-05-30T14:56:40.446Z"
   },
   {
    "duration": 50,
    "start_time": "2023-05-30T14:56:40.467Z"
   },
   {
    "duration": 19,
    "start_time": "2023-05-30T14:56:40.519Z"
   },
   {
    "duration": 239,
    "start_time": "2023-05-30T14:56:40.540Z"
   },
   {
    "duration": 236,
    "start_time": "2023-05-30T14:56:40.781Z"
   },
   {
    "duration": 23,
    "start_time": "2023-05-30T14:56:41.019Z"
   },
   {
    "duration": 24,
    "start_time": "2023-05-30T14:56:41.043Z"
   },
   {
    "duration": 5,
    "start_time": "2023-05-30T14:56:41.068Z"
   },
   {
    "duration": 17,
    "start_time": "2023-05-30T14:56:41.074Z"
   },
   {
    "duration": 8,
    "start_time": "2023-05-30T14:56:57.840Z"
   },
   {
    "duration": 20,
    "start_time": "2023-05-30T14:57:28.295Z"
   },
   {
    "duration": 8,
    "start_time": "2023-05-30T14:58:54.556Z"
   },
   {
    "duration": 4,
    "start_time": "2023-05-30T14:59:02.882Z"
   },
   {
    "duration": 4,
    "start_time": "2023-05-30T14:59:12.651Z"
   },
   {
    "duration": 5,
    "start_time": "2023-05-30T14:59:38.258Z"
   },
   {
    "duration": 4,
    "start_time": "2023-05-30T14:59:42.012Z"
   },
   {
    "duration": 5,
    "start_time": "2023-05-30T14:59:46.160Z"
   },
   {
    "duration": 7,
    "start_time": "2023-05-30T16:40:01.368Z"
   },
   {
    "duration": 568,
    "start_time": "2023-05-30T16:40:06.483Z"
   },
   {
    "duration": 59,
    "start_time": "2023-05-30T16:40:07.053Z"
   },
   {
    "duration": 4,
    "start_time": "2023-05-30T16:40:07.113Z"
   },
   {
    "duration": 31,
    "start_time": "2023-05-30T16:40:07.118Z"
   },
   {
    "duration": 24,
    "start_time": "2023-05-30T16:40:07.151Z"
   },
   {
    "duration": 38,
    "start_time": "2023-05-30T16:40:07.177Z"
   },
   {
    "duration": 11,
    "start_time": "2023-05-30T16:40:07.216Z"
   },
   {
    "duration": 14,
    "start_time": "2023-05-30T16:40:07.228Z"
   },
   {
    "duration": 13,
    "start_time": "2023-05-30T16:40:07.243Z"
   },
   {
    "duration": 26,
    "start_time": "2023-05-30T16:40:07.258Z"
   },
   {
    "duration": 6,
    "start_time": "2023-05-30T16:40:07.286Z"
   },
   {
    "duration": 8,
    "start_time": "2023-05-30T16:40:07.294Z"
   },
   {
    "duration": 11,
    "start_time": "2023-05-30T16:40:07.303Z"
   },
   {
    "duration": 9,
    "start_time": "2023-05-30T16:40:07.316Z"
   },
   {
    "duration": 121,
    "start_time": "2023-05-30T16:40:07.326Z"
   },
   {
    "duration": 4,
    "start_time": "2023-05-30T16:40:07.448Z"
   },
   {
    "duration": 114,
    "start_time": "2023-05-30T16:40:07.453Z"
   },
   {
    "duration": 3,
    "start_time": "2023-05-30T16:40:07.569Z"
   },
   {
    "duration": 13,
    "start_time": "2023-05-30T16:40:07.574Z"
   },
   {
    "duration": 206,
    "start_time": "2023-05-30T16:40:07.588Z"
   },
   {
    "duration": 7,
    "start_time": "2023-05-30T16:40:07.795Z"
   },
   {
    "duration": 156,
    "start_time": "2023-05-30T16:40:07.803Z"
   },
   {
    "duration": 7,
    "start_time": "2023-05-30T16:40:07.960Z"
   },
   {
    "duration": 147,
    "start_time": "2023-05-30T16:40:07.968Z"
   },
   {
    "duration": 9,
    "start_time": "2023-05-30T16:40:08.116Z"
   },
   {
    "duration": 62,
    "start_time": "2023-05-30T16:40:08.126Z"
   },
   {
    "duration": 32,
    "start_time": "2023-05-30T16:40:08.189Z"
   },
   {
    "duration": 18,
    "start_time": "2023-05-30T16:40:08.222Z"
   },
   {
    "duration": 15,
    "start_time": "2023-05-30T16:40:08.242Z"
   },
   {
    "duration": 207,
    "start_time": "2023-05-30T16:40:08.259Z"
   },
   {
    "duration": 205,
    "start_time": "2023-05-30T16:40:08.467Z"
   },
   {
    "duration": 19,
    "start_time": "2023-05-30T16:40:08.674Z"
   },
   {
    "duration": 31,
    "start_time": "2023-05-30T16:40:08.695Z"
   },
   {
    "duration": 35,
    "start_time": "2023-05-30T16:40:08.728Z"
   },
   {
    "duration": 18,
    "start_time": "2023-05-30T16:40:08.765Z"
   },
   {
    "duration": 5,
    "start_time": "2023-05-30T16:40:32.675Z"
   },
   {
    "duration": 7,
    "start_time": "2023-05-30T16:58:55.465Z"
   },
   {
    "duration": 5,
    "start_time": "2023-05-30T16:59:04.766Z"
   },
   {
    "duration": 5,
    "start_time": "2023-05-30T16:59:10.958Z"
   },
   {
    "duration": 6,
    "start_time": "2023-05-30T16:59:19.518Z"
   },
   {
    "duration": 52,
    "start_time": "2023-05-30T16:59:42.268Z"
   },
   {
    "duration": 5,
    "start_time": "2023-05-30T16:59:52.341Z"
   },
   {
    "duration": 6,
    "start_time": "2023-05-30T17:05:24.415Z"
   },
   {
    "duration": 6,
    "start_time": "2023-05-30T17:26:33.027Z"
   },
   {
    "duration": 5,
    "start_time": "2023-05-30T17:27:18.153Z"
   },
   {
    "duration": 6,
    "start_time": "2023-05-30T17:27:39.437Z"
   },
   {
    "duration": 6,
    "start_time": "2023-05-30T17:28:18.991Z"
   },
   {
    "duration": 5,
    "start_time": "2023-05-30T17:30:24.282Z"
   },
   {
    "duration": 3,
    "start_time": "2023-05-30T17:30:38.996Z"
   },
   {
    "duration": 75,
    "start_time": "2023-05-30T17:30:39.000Z"
   },
   {
    "duration": 3,
    "start_time": "2023-05-30T17:30:39.077Z"
   },
   {
    "duration": 35,
    "start_time": "2023-05-30T17:30:39.082Z"
   },
   {
    "duration": 34,
    "start_time": "2023-05-30T17:30:39.118Z"
   },
   {
    "duration": 25,
    "start_time": "2023-05-30T17:30:39.154Z"
   },
   {
    "duration": 7,
    "start_time": "2023-05-30T17:30:39.181Z"
   },
   {
    "duration": 29,
    "start_time": "2023-05-30T17:30:39.189Z"
   },
   {
    "duration": 16,
    "start_time": "2023-05-30T17:30:39.220Z"
   },
   {
    "duration": 14,
    "start_time": "2023-05-30T17:30:39.239Z"
   },
   {
    "duration": 8,
    "start_time": "2023-05-30T17:30:39.255Z"
   },
   {
    "duration": 5,
    "start_time": "2023-05-30T17:30:39.265Z"
   },
   {
    "duration": 13,
    "start_time": "2023-05-30T17:30:39.272Z"
   },
   {
    "duration": 7,
    "start_time": "2023-05-30T17:30:39.287Z"
   },
   {
    "duration": 161,
    "start_time": "2023-05-30T17:30:39.296Z"
   },
   {
    "duration": 5,
    "start_time": "2023-05-30T17:30:39.458Z"
   },
   {
    "duration": 119,
    "start_time": "2023-05-30T17:30:39.465Z"
   },
   {
    "duration": 4,
    "start_time": "2023-05-30T17:30:39.586Z"
   },
   {
    "duration": 19,
    "start_time": "2023-05-30T17:30:39.592Z"
   },
   {
    "duration": 201,
    "start_time": "2023-05-30T17:30:39.613Z"
   },
   {
    "duration": 7,
    "start_time": "2023-05-30T17:30:39.816Z"
   },
   {
    "duration": 160,
    "start_time": "2023-05-30T17:30:39.825Z"
   },
   {
    "duration": 8,
    "start_time": "2023-05-30T17:30:39.987Z"
   },
   {
    "duration": 143,
    "start_time": "2023-05-30T17:30:39.997Z"
   },
   {
    "duration": 9,
    "start_time": "2023-05-30T17:30:40.141Z"
   },
   {
    "duration": 17,
    "start_time": "2023-05-30T17:30:40.152Z"
   },
   {
    "duration": 20,
    "start_time": "2023-05-30T17:30:40.171Z"
   },
   {
    "duration": 22,
    "start_time": "2023-05-30T17:30:40.215Z"
   },
   {
    "duration": 16,
    "start_time": "2023-05-30T17:30:40.239Z"
   },
   {
    "duration": 209,
    "start_time": "2023-05-30T17:30:40.256Z"
   },
   {
    "duration": 203,
    "start_time": "2023-05-30T17:30:40.466Z"
   },
   {
    "duration": 21,
    "start_time": "2023-05-30T17:30:40.670Z"
   },
   {
    "duration": 33,
    "start_time": "2023-05-30T17:30:40.692Z"
   },
   {
    "duration": 17,
    "start_time": "2023-05-30T17:30:40.727Z"
   },
   {
    "duration": 5,
    "start_time": "2023-05-30T17:30:40.746Z"
   },
   {
    "duration": 10,
    "start_time": "2023-05-30T17:30:40.752Z"
   },
   {
    "duration": 5,
    "start_time": "2023-05-30T17:31:26.550Z"
   },
   {
    "duration": 6,
    "start_time": "2023-05-30T17:31:37.421Z"
   },
   {
    "duration": 5,
    "start_time": "2023-05-30T17:31:47.483Z"
   },
   {
    "duration": 5,
    "start_time": "2023-05-30T17:32:12.278Z"
   },
   {
    "duration": 5,
    "start_time": "2023-05-30T17:33:57.996Z"
   },
   {
    "duration": 6,
    "start_time": "2023-05-30T17:35:08.843Z"
   },
   {
    "duration": 3,
    "start_time": "2023-05-30T17:35:27.084Z"
   },
   {
    "duration": 116,
    "start_time": "2023-05-30T17:35:27.089Z"
   },
   {
    "duration": 4,
    "start_time": "2023-05-30T17:35:27.207Z"
   },
   {
    "duration": 62,
    "start_time": "2023-05-30T17:35:27.213Z"
   },
   {
    "duration": 58,
    "start_time": "2023-05-30T17:35:27.276Z"
   },
   {
    "duration": 42,
    "start_time": "2023-05-30T17:35:27.337Z"
   },
   {
    "duration": 47,
    "start_time": "2023-05-30T17:35:27.381Z"
   },
   {
    "duration": 11,
    "start_time": "2023-05-30T17:35:27.430Z"
   },
   {
    "duration": 48,
    "start_time": "2023-05-30T17:35:27.443Z"
   },
   {
    "duration": 62,
    "start_time": "2023-05-30T17:35:27.493Z"
   },
   {
    "duration": 47,
    "start_time": "2023-05-30T17:35:27.557Z"
   },
   {
    "duration": 56,
    "start_time": "2023-05-30T17:35:27.605Z"
   },
   {
    "duration": 32,
    "start_time": "2023-05-30T17:35:27.663Z"
   },
   {
    "duration": 40,
    "start_time": "2023-05-30T17:35:27.697Z"
   },
   {
    "duration": 173,
    "start_time": "2023-05-30T17:35:27.738Z"
   },
   {
    "duration": 6,
    "start_time": "2023-05-30T17:35:27.916Z"
   },
   {
    "duration": 162,
    "start_time": "2023-05-30T17:35:27.923Z"
   },
   {
    "duration": 8,
    "start_time": "2023-05-30T17:35:28.086Z"
   },
   {
    "duration": 55,
    "start_time": "2023-05-30T17:35:28.096Z"
   },
   {
    "duration": 267,
    "start_time": "2023-05-30T17:35:28.153Z"
   },
   {
    "duration": 9,
    "start_time": "2023-05-30T17:35:28.422Z"
   },
   {
    "duration": 357,
    "start_time": "2023-05-30T17:35:28.433Z"
   },
   {
    "duration": 8,
    "start_time": "2023-05-30T17:35:28.792Z"
   },
   {
    "duration": 138,
    "start_time": "2023-05-30T17:35:28.801Z"
   },
   {
    "duration": 7,
    "start_time": "2023-05-30T17:35:28.941Z"
   },
   {
    "duration": 14,
    "start_time": "2023-05-30T17:35:28.950Z"
   },
   {
    "duration": 17,
    "start_time": "2023-05-30T17:35:28.965Z"
   },
   {
    "duration": 54,
    "start_time": "2023-05-30T17:35:28.986Z"
   },
   {
    "duration": 19,
    "start_time": "2023-05-30T17:35:29.042Z"
   },
   {
    "duration": 231,
    "start_time": "2023-05-30T17:35:29.063Z"
   },
   {
    "duration": 211,
    "start_time": "2023-05-30T17:35:29.295Z"
   },
   {
    "duration": 26,
    "start_time": "2023-05-30T17:35:29.507Z"
   },
   {
    "duration": 23,
    "start_time": "2023-05-30T17:35:29.534Z"
   },
   {
    "duration": 17,
    "start_time": "2023-05-30T17:35:29.559Z"
   },
   {
    "duration": 5,
    "start_time": "2023-05-30T17:35:29.578Z"
   },
   {
    "duration": 36,
    "start_time": "2023-05-30T17:35:29.584Z"
   },
   {
    "duration": 5,
    "start_time": "2023-05-30T17:36:43.258Z"
   },
   {
    "duration": 6,
    "start_time": "2023-05-30T17:37:05.518Z"
   },
   {
    "duration": 6,
    "start_time": "2023-05-30T17:39:06.198Z"
   },
   {
    "duration": 5,
    "start_time": "2023-05-30T17:39:34.126Z"
   },
   {
    "duration": 8,
    "start_time": "2023-05-30T17:43:41.735Z"
   },
   {
    "duration": 18,
    "start_time": "2023-05-30T18:15:52.098Z"
   },
   {
    "duration": 7,
    "start_time": "2023-05-30T18:18:47.469Z"
   },
   {
    "duration": 7,
    "start_time": "2023-05-30T18:19:03.226Z"
   },
   {
    "duration": 15,
    "start_time": "2023-05-30T18:19:21.751Z"
   },
   {
    "duration": 22,
    "start_time": "2023-05-30T18:19:36.187Z"
   },
   {
    "duration": 17,
    "start_time": "2023-05-30T18:20:08.718Z"
   },
   {
    "duration": 21,
    "start_time": "2023-05-30T18:20:34.704Z"
   },
   {
    "duration": 24,
    "start_time": "2023-05-30T18:20:38.713Z"
   },
   {
    "duration": 5,
    "start_time": "2023-05-30T18:22:13.406Z"
   },
   {
    "duration": 5,
    "start_time": "2023-05-30T18:22:13.992Z"
   },
   {
    "duration": 6,
    "start_time": "2023-05-30T18:22:22.417Z"
   },
   {
    "duration": 7,
    "start_time": "2023-05-30T18:22:23.316Z"
   },
   {
    "duration": 4,
    "start_time": "2023-05-30T18:22:32.318Z"
   },
   {
    "duration": 21,
    "start_time": "2023-05-30T18:22:39.090Z"
   },
   {
    "duration": 24,
    "start_time": "2023-05-30T18:22:39.471Z"
   },
   {
    "duration": 8,
    "start_time": "2023-05-30T18:25:57.245Z"
   },
   {
    "duration": 9,
    "start_time": "2023-05-30T18:27:05.174Z"
   },
   {
    "duration": 135,
    "start_time": "2023-05-30T18:27:17.994Z"
   },
   {
    "duration": 102,
    "start_time": "2023-05-30T18:27:41.192Z"
   },
   {
    "duration": 7,
    "start_time": "2023-05-30T18:27:55.512Z"
   },
   {
    "duration": 102,
    "start_time": "2023-05-30T18:28:02.393Z"
   },
   {
    "duration": 103,
    "start_time": "2023-05-30T18:28:32.180Z"
   },
   {
    "duration": 107,
    "start_time": "2023-05-30T18:28:54.330Z"
   },
   {
    "duration": 103,
    "start_time": "2023-05-30T18:29:16.875Z"
   },
   {
    "duration": 118,
    "start_time": "2023-05-30T18:29:35.624Z"
   },
   {
    "duration": 626,
    "start_time": "2023-05-30T18:30:46.172Z"
   },
   {
    "duration": 647,
    "start_time": "2023-05-30T18:31:00.117Z"
   },
   {
    "duration": 118,
    "start_time": "2023-05-30T18:31:07.195Z"
   },
   {
    "duration": 15,
    "start_time": "2023-05-30T18:31:32.624Z"
   },
   {
    "duration": 9,
    "start_time": "2023-05-30T18:32:09.495Z"
   },
   {
    "duration": 11,
    "start_time": "2023-05-30T18:33:09.862Z"
   },
   {
    "duration": 6,
    "start_time": "2023-05-30T18:33:15.145Z"
   },
   {
    "duration": 7,
    "start_time": "2023-05-30T18:35:10.986Z"
   },
   {
    "duration": 9,
    "start_time": "2023-05-30T18:35:18.375Z"
   },
   {
    "duration": 9,
    "start_time": "2023-05-30T18:35:34.842Z"
   },
   {
    "duration": 2,
    "start_time": "2023-05-30T19:35:56.660Z"
   },
   {
    "duration": 42,
    "start_time": "2023-05-30T19:42:56.037Z"
   },
   {
    "duration": 1002,
    "start_time": "2023-05-30T19:43:10.741Z"
   },
   {
    "duration": 64,
    "start_time": "2023-05-30T19:43:11.745Z"
   },
   {
    "duration": 4,
    "start_time": "2023-05-30T19:43:11.810Z"
   },
   {
    "duration": 40,
    "start_time": "2023-05-30T19:43:11.816Z"
   },
   {
    "duration": 30,
    "start_time": "2023-05-30T19:43:11.857Z"
   },
   {
    "duration": 37,
    "start_time": "2023-05-30T19:43:11.888Z"
   },
   {
    "duration": 6,
    "start_time": "2023-05-30T19:43:11.926Z"
   },
   {
    "duration": 9,
    "start_time": "2023-05-30T19:43:11.934Z"
   },
   {
    "duration": 10,
    "start_time": "2023-05-30T19:43:11.944Z"
   },
   {
    "duration": 11,
    "start_time": "2023-05-30T19:43:11.956Z"
   },
   {
    "duration": 7,
    "start_time": "2023-05-30T19:43:11.968Z"
   },
   {
    "duration": 9,
    "start_time": "2023-05-30T19:43:11.976Z"
   },
   {
    "duration": 34,
    "start_time": "2023-05-30T19:43:11.986Z"
   },
   {
    "duration": 5,
    "start_time": "2023-05-30T19:43:12.022Z"
   },
   {
    "duration": 165,
    "start_time": "2023-05-30T19:43:12.029Z"
   },
   {
    "duration": 5,
    "start_time": "2023-05-30T19:43:12.196Z"
   },
   {
    "duration": 135,
    "start_time": "2023-05-30T19:43:12.202Z"
   },
   {
    "duration": 3,
    "start_time": "2023-05-30T19:43:12.338Z"
   },
   {
    "duration": 6,
    "start_time": "2023-05-30T19:43:12.343Z"
   },
   {
    "duration": 242,
    "start_time": "2023-05-30T19:43:12.350Z"
   },
   {
    "duration": 7,
    "start_time": "2023-05-30T19:43:12.594Z"
   },
   {
    "duration": 171,
    "start_time": "2023-05-30T19:43:12.602Z"
   },
   {
    "duration": 8,
    "start_time": "2023-05-30T19:43:12.774Z"
   },
   {
    "duration": 153,
    "start_time": "2023-05-30T19:43:12.783Z"
   },
   {
    "duration": 7,
    "start_time": "2023-05-30T19:43:12.938Z"
   },
   {
    "duration": 18,
    "start_time": "2023-05-30T19:43:12.947Z"
   },
   {
    "duration": 19,
    "start_time": "2023-05-30T19:43:12.967Z"
   },
   {
    "duration": 44,
    "start_time": "2023-05-30T19:43:12.988Z"
   },
   {
    "duration": 18,
    "start_time": "2023-05-30T19:43:13.034Z"
   },
   {
    "duration": 240,
    "start_time": "2023-05-30T19:43:13.054Z"
   },
   {
    "duration": 229,
    "start_time": "2023-05-30T19:43:13.295Z"
   },
   {
    "duration": 24,
    "start_time": "2023-05-30T19:43:13.526Z"
   },
   {
    "duration": 24,
    "start_time": "2023-05-30T19:43:13.551Z"
   },
   {
    "duration": 39,
    "start_time": "2023-05-30T19:43:13.577Z"
   },
   {
    "duration": 4,
    "start_time": "2023-05-30T19:43:13.618Z"
   },
   {
    "duration": 4,
    "start_time": "2023-05-30T19:43:13.624Z"
   },
   {
    "duration": 12,
    "start_time": "2023-05-30T19:43:13.629Z"
   },
   {
    "duration": 9,
    "start_time": "2023-05-30T19:43:13.643Z"
   },
   {
    "duration": 4,
    "start_time": "2023-05-30T19:43:13.654Z"
   },
   {
    "duration": 92,
    "start_time": "2023-05-30T19:43:13.660Z"
   },
   {
    "duration": 23,
    "start_time": "2023-05-30T19:45:23.501Z"
   },
   {
    "duration": 21,
    "start_time": "2023-05-30T19:50:17.848Z"
   },
   {
    "duration": 258,
    "start_time": "2023-05-30T19:53:00.123Z"
   },
   {
    "duration": 27,
    "start_time": "2023-05-30T19:53:40.351Z"
   },
   {
    "duration": 243,
    "start_time": "2023-05-30T19:53:57.705Z"
   },
   {
    "duration": 196,
    "start_time": "2023-05-30T19:54:57.948Z"
   },
   {
    "duration": 1255,
    "start_time": "2023-05-30T19:55:12.256Z"
   },
   {
    "duration": 3,
    "start_time": "2023-05-30T19:56:03.305Z"
   },
   {
    "duration": 78,
    "start_time": "2023-05-30T19:56:03.309Z"
   },
   {
    "duration": 3,
    "start_time": "2023-05-30T19:56:03.388Z"
   },
   {
    "duration": 38,
    "start_time": "2023-05-30T19:56:03.392Z"
   },
   {
    "duration": 27,
    "start_time": "2023-05-30T19:56:03.432Z"
   },
   {
    "duration": 22,
    "start_time": "2023-05-30T19:56:03.460Z"
   },
   {
    "duration": 35,
    "start_time": "2023-05-30T19:56:03.484Z"
   },
   {
    "duration": 11,
    "start_time": "2023-05-30T19:56:03.521Z"
   },
   {
    "duration": 16,
    "start_time": "2023-05-30T19:56:03.534Z"
   },
   {
    "duration": 9,
    "start_time": "2023-05-30T19:56:03.552Z"
   },
   {
    "duration": 9,
    "start_time": "2023-05-30T19:56:03.562Z"
   },
   {
    "duration": 8,
    "start_time": "2023-05-30T19:56:03.572Z"
   },
   {
    "duration": 17,
    "start_time": "2023-05-30T19:56:03.582Z"
   },
   {
    "duration": 24,
    "start_time": "2023-05-30T19:56:03.615Z"
   },
   {
    "duration": 133,
    "start_time": "2023-05-30T19:56:03.641Z"
   },
   {
    "duration": 4,
    "start_time": "2023-05-30T19:56:03.776Z"
   },
   {
    "duration": 122,
    "start_time": "2023-05-30T19:56:03.782Z"
   },
   {
    "duration": 11,
    "start_time": "2023-05-30T19:56:03.905Z"
   },
   {
    "duration": 19,
    "start_time": "2023-05-30T19:56:03.917Z"
   },
   {
    "duration": 204,
    "start_time": "2023-05-30T19:56:03.938Z"
   },
   {
    "duration": 7,
    "start_time": "2023-05-30T19:56:04.144Z"
   },
   {
    "duration": 158,
    "start_time": "2023-05-30T19:56:04.152Z"
   },
   {
    "duration": 7,
    "start_time": "2023-05-30T19:56:04.315Z"
   },
   {
    "duration": 144,
    "start_time": "2023-05-30T19:56:04.323Z"
   },
   {
    "duration": 7,
    "start_time": "2023-05-30T19:56:04.469Z"
   },
   {
    "duration": 14,
    "start_time": "2023-05-30T19:56:04.478Z"
   },
   {
    "duration": 30,
    "start_time": "2023-05-30T19:56:04.494Z"
   },
   {
    "duration": 21,
    "start_time": "2023-05-30T19:56:04.526Z"
   },
   {
    "duration": 17,
    "start_time": "2023-05-30T19:56:04.548Z"
   },
   {
    "duration": 312,
    "start_time": "2023-05-30T19:56:04.566Z"
   },
   {
    "duration": 204,
    "start_time": "2023-05-30T19:56:04.880Z"
   },
   {
    "duration": 30,
    "start_time": "2023-05-30T19:56:05.085Z"
   },
   {
    "duration": 21,
    "start_time": "2023-05-30T19:56:05.117Z"
   },
   {
    "duration": 15,
    "start_time": "2023-05-30T19:56:05.140Z"
   },
   {
    "duration": 5,
    "start_time": "2023-05-30T19:56:05.156Z"
   },
   {
    "duration": 18,
    "start_time": "2023-05-30T19:56:05.162Z"
   },
   {
    "duration": 10,
    "start_time": "2023-05-30T19:56:05.182Z"
   },
   {
    "duration": 27,
    "start_time": "2023-05-30T19:56:05.194Z"
   },
   {
    "duration": 4,
    "start_time": "2023-05-30T19:56:05.223Z"
   },
   {
    "duration": 1338,
    "start_time": "2023-05-30T19:56:05.229Z"
   },
   {
    "duration": 196,
    "start_time": "2023-05-30T19:56:22.670Z"
   },
   {
    "duration": 337,
    "start_time": "2023-05-30T19:56:37.318Z"
   },
   {
    "duration": 253,
    "start_time": "2023-05-30T19:57:07.152Z"
   },
   {
    "duration": 1303,
    "start_time": "2023-05-30T19:57:32.486Z"
   },
   {
    "duration": 1309,
    "start_time": "2023-05-30T19:58:05.704Z"
   },
   {
    "duration": 1326,
    "start_time": "2023-05-30T19:59:10.073Z"
   },
   {
    "duration": 8,
    "start_time": "2023-05-30T20:05:55.209Z"
   },
   {
    "duration": 3,
    "start_time": "2023-05-30T20:06:25.076Z"
   },
   {
    "duration": 64,
    "start_time": "2023-05-30T20:06:25.081Z"
   },
   {
    "duration": 2,
    "start_time": "2023-05-30T20:06:25.147Z"
   },
   {
    "duration": 32,
    "start_time": "2023-05-30T20:06:25.151Z"
   },
   {
    "duration": 33,
    "start_time": "2023-05-30T20:06:25.185Z"
   },
   {
    "duration": 27,
    "start_time": "2023-05-30T20:06:25.219Z"
   },
   {
    "duration": 8,
    "start_time": "2023-05-30T20:06:25.248Z"
   },
   {
    "duration": 21,
    "start_time": "2023-05-30T20:06:25.258Z"
   },
   {
    "duration": 16,
    "start_time": "2023-05-30T20:06:25.281Z"
   },
   {
    "duration": 24,
    "start_time": "2023-05-30T20:06:25.298Z"
   },
   {
    "duration": 10,
    "start_time": "2023-05-30T20:06:25.325Z"
   },
   {
    "duration": 8,
    "start_time": "2023-05-30T20:06:25.336Z"
   },
   {
    "duration": 19,
    "start_time": "2023-05-30T20:06:25.346Z"
   },
   {
    "duration": 16,
    "start_time": "2023-05-30T20:06:25.367Z"
   },
   {
    "duration": 167,
    "start_time": "2023-05-30T20:06:25.385Z"
   },
   {
    "duration": 5,
    "start_time": "2023-05-30T20:06:25.553Z"
   },
   {
    "duration": 396,
    "start_time": "2023-05-30T20:06:25.559Z"
   },
   {
    "duration": 4,
    "start_time": "2023-05-30T20:06:25.956Z"
   },
   {
    "duration": 13,
    "start_time": "2023-05-30T20:06:25.961Z"
   },
   {
    "duration": 231,
    "start_time": "2023-05-30T20:06:25.976Z"
   },
   {
    "duration": 11,
    "start_time": "2023-05-30T20:06:26.209Z"
   },
   {
    "duration": 155,
    "start_time": "2023-05-30T20:06:26.222Z"
   },
   {
    "duration": 7,
    "start_time": "2023-05-30T20:06:26.378Z"
   },
   {
    "duration": 152,
    "start_time": "2023-05-30T20:06:26.388Z"
   },
   {
    "duration": 8,
    "start_time": "2023-05-30T20:06:26.541Z"
   },
   {
    "duration": 27,
    "start_time": "2023-05-30T20:06:26.551Z"
   },
   {
    "duration": 19,
    "start_time": "2023-05-30T20:06:26.579Z"
   },
   {
    "duration": 33,
    "start_time": "2023-05-30T20:06:26.600Z"
   },
   {
    "duration": 18,
    "start_time": "2023-05-30T20:06:26.635Z"
   },
   {
    "duration": 234,
    "start_time": "2023-05-30T20:06:26.654Z"
   },
   {
    "duration": 217,
    "start_time": "2023-05-30T20:06:26.890Z"
   },
   {
    "duration": 26,
    "start_time": "2023-05-30T20:06:27.109Z"
   },
   {
    "duration": 23,
    "start_time": "2023-05-30T20:06:27.137Z"
   },
   {
    "duration": 17,
    "start_time": "2023-05-30T20:06:27.162Z"
   },
   {
    "duration": 5,
    "start_time": "2023-05-30T20:06:27.181Z"
   },
   {
    "duration": 34,
    "start_time": "2023-05-30T20:06:27.187Z"
   },
   {
    "duration": 16,
    "start_time": "2023-05-30T20:06:27.222Z"
   },
   {
    "duration": 9,
    "start_time": "2023-05-30T20:06:27.239Z"
   },
   {
    "duration": 4,
    "start_time": "2023-05-30T20:06:27.250Z"
   },
   {
    "duration": 1218,
    "start_time": "2023-05-30T20:06:27.256Z"
   },
   {
    "duration": 5,
    "start_time": "2023-05-30T20:06:28.475Z"
   },
   {
    "duration": 4,
    "start_time": "2023-05-30T20:07:16.203Z"
   },
   {
    "duration": 6,
    "start_time": "2023-05-30T20:08:15.871Z"
   },
   {
    "duration": 6,
    "start_time": "2023-05-30T20:08:35.617Z"
   },
   {
    "duration": 5,
    "start_time": "2023-05-30T20:08:53.403Z"
   },
   {
    "duration": 4,
    "start_time": "2023-05-30T20:09:02.902Z"
   },
   {
    "duration": 6,
    "start_time": "2023-05-30T20:09:07.905Z"
   },
   {
    "duration": 4,
    "start_time": "2023-05-30T20:09:20.152Z"
   },
   {
    "duration": 6,
    "start_time": "2023-05-30T20:09:34.200Z"
   },
   {
    "duration": 380,
    "start_time": "2023-05-30T20:12:55.540Z"
   },
   {
    "duration": 5,
    "start_time": "2023-05-30T20:15:08.805Z"
   },
   {
    "duration": 3,
    "start_time": "2023-05-30T20:16:48.007Z"
   },
   {
    "duration": 61,
    "start_time": "2023-05-30T20:16:48.011Z"
   },
   {
    "duration": 3,
    "start_time": "2023-05-30T20:16:48.074Z"
   },
   {
    "duration": 32,
    "start_time": "2023-05-30T20:16:48.078Z"
   },
   {
    "duration": 30,
    "start_time": "2023-05-30T20:16:48.112Z"
   },
   {
    "duration": 23,
    "start_time": "2023-05-30T20:16:48.144Z"
   },
   {
    "duration": 6,
    "start_time": "2023-05-30T20:16:48.169Z"
   },
   {
    "duration": 7,
    "start_time": "2023-05-30T20:16:48.176Z"
   },
   {
    "duration": 39,
    "start_time": "2023-05-30T20:16:48.184Z"
   },
   {
    "duration": 9,
    "start_time": "2023-05-30T20:16:48.225Z"
   },
   {
    "duration": 8,
    "start_time": "2023-05-30T20:16:48.235Z"
   },
   {
    "duration": 5,
    "start_time": "2023-05-30T20:16:48.244Z"
   },
   {
    "duration": 9,
    "start_time": "2023-05-30T20:16:48.250Z"
   },
   {
    "duration": 3,
    "start_time": "2023-05-30T20:16:48.263Z"
   },
   {
    "duration": 153,
    "start_time": "2023-05-30T20:16:48.267Z"
   },
   {
    "duration": 5,
    "start_time": "2023-05-30T20:16:48.421Z"
   },
   {
    "duration": 118,
    "start_time": "2023-05-30T20:16:48.428Z"
   },
   {
    "duration": 3,
    "start_time": "2023-05-30T20:16:48.548Z"
   },
   {
    "duration": 7,
    "start_time": "2023-05-30T20:16:48.552Z"
   },
   {
    "duration": 213,
    "start_time": "2023-05-30T20:16:48.560Z"
   },
   {
    "duration": 7,
    "start_time": "2023-05-30T20:16:48.774Z"
   },
   {
    "duration": 147,
    "start_time": "2023-05-30T20:16:48.782Z"
   },
   {
    "duration": 6,
    "start_time": "2023-05-30T20:16:48.931Z"
   },
   {
    "duration": 132,
    "start_time": "2023-05-30T20:16:48.939Z"
   },
   {
    "duration": 7,
    "start_time": "2023-05-30T20:16:49.072Z"
   },
   {
    "duration": 11,
    "start_time": "2023-05-30T20:16:49.081Z"
   },
   {
    "duration": 30,
    "start_time": "2023-05-30T20:16:49.094Z"
   },
   {
    "duration": 19,
    "start_time": "2023-05-30T20:16:49.125Z"
   },
   {
    "duration": 18,
    "start_time": "2023-05-30T20:16:49.146Z"
   },
   {
    "duration": 234,
    "start_time": "2023-05-30T20:16:49.166Z"
   },
   {
    "duration": 226,
    "start_time": "2023-05-30T20:16:49.401Z"
   },
   {
    "duration": 24,
    "start_time": "2023-05-30T20:16:49.628Z"
   },
   {
    "duration": 23,
    "start_time": "2023-05-30T20:16:49.654Z"
   },
   {
    "duration": 39,
    "start_time": "2023-05-30T20:16:49.679Z"
   },
   {
    "duration": 5,
    "start_time": "2023-05-30T20:16:49.719Z"
   },
   {
    "duration": 7,
    "start_time": "2023-05-30T20:16:49.726Z"
   },
   {
    "duration": 10,
    "start_time": "2023-05-30T20:16:49.735Z"
   },
   {
    "duration": 9,
    "start_time": "2023-05-30T20:16:49.746Z"
   },
   {
    "duration": 4,
    "start_time": "2023-05-30T20:16:49.757Z"
   },
   {
    "duration": 1649,
    "start_time": "2023-05-30T20:16:49.762Z"
   },
   {
    "duration": 6,
    "start_time": "2023-05-30T20:16:51.414Z"
   },
   {
    "duration": 5,
    "start_time": "2023-05-30T20:17:18.623Z"
   },
   {
    "duration": 23,
    "start_time": "2023-05-30T20:24:27.500Z"
   },
   {
    "duration": 99,
    "start_time": "2023-05-30T20:25:03.150Z"
   },
   {
    "duration": 2,
    "start_time": "2023-05-30T20:25:56.617Z"
   },
   {
    "duration": 69,
    "start_time": "2023-05-30T20:25:56.621Z"
   },
   {
    "duration": 3,
    "start_time": "2023-05-30T20:25:56.691Z"
   },
   {
    "duration": 29,
    "start_time": "2023-05-30T20:25:56.696Z"
   },
   {
    "duration": 26,
    "start_time": "2023-05-30T20:25:56.727Z"
   },
   {
    "duration": 21,
    "start_time": "2023-05-30T20:25:56.755Z"
   },
   {
    "duration": 8,
    "start_time": "2023-05-30T20:25:56.778Z"
   },
   {
    "duration": 35,
    "start_time": "2023-05-30T20:25:56.788Z"
   },
   {
    "duration": 10,
    "start_time": "2023-05-30T20:25:56.825Z"
   },
   {
    "duration": 17,
    "start_time": "2023-05-30T20:25:56.836Z"
   },
   {
    "duration": 11,
    "start_time": "2023-05-30T20:25:56.854Z"
   },
   {
    "duration": 5,
    "start_time": "2023-05-30T20:25:56.866Z"
   },
   {
    "duration": 9,
    "start_time": "2023-05-30T20:25:56.873Z"
   },
   {
    "duration": 8,
    "start_time": "2023-05-30T20:25:56.884Z"
   },
   {
    "duration": 130,
    "start_time": "2023-05-30T20:25:56.916Z"
   },
   {
    "duration": 4,
    "start_time": "2023-05-30T20:25:57.048Z"
   },
   {
    "duration": 123,
    "start_time": "2023-05-30T20:25:57.053Z"
   },
   {
    "duration": 3,
    "start_time": "2023-05-30T20:25:57.178Z"
   },
   {
    "duration": 7,
    "start_time": "2023-05-30T20:25:57.183Z"
   },
   {
    "duration": 261,
    "start_time": "2023-05-30T20:25:57.191Z"
   },
   {
    "duration": 7,
    "start_time": "2023-05-30T20:25:57.454Z"
   },
   {
    "duration": 150,
    "start_time": "2023-05-30T20:25:57.462Z"
   },
   {
    "duration": 8,
    "start_time": "2023-05-30T20:25:57.615Z"
   },
   {
    "duration": 135,
    "start_time": "2023-05-30T20:25:57.624Z"
   },
   {
    "duration": 8,
    "start_time": "2023-05-30T20:25:57.760Z"
   },
   {
    "duration": 15,
    "start_time": "2023-05-30T20:25:57.770Z"
   },
   {
    "duration": 31,
    "start_time": "2023-05-30T20:25:57.786Z"
   },
   {
    "duration": 21,
    "start_time": "2023-05-30T20:25:57.818Z"
   },
   {
    "duration": 16,
    "start_time": "2023-05-30T20:25:57.840Z"
   },
   {
    "duration": 234,
    "start_time": "2023-05-30T20:25:57.857Z"
   },
   {
    "duration": 220,
    "start_time": "2023-05-30T20:25:58.093Z"
   },
   {
    "duration": 23,
    "start_time": "2023-05-30T20:25:58.318Z"
   },
   {
    "duration": 23,
    "start_time": "2023-05-30T20:25:58.343Z"
   },
   {
    "duration": 17,
    "start_time": "2023-05-30T20:25:58.368Z"
   },
   {
    "duration": 31,
    "start_time": "2023-05-30T20:25:58.387Z"
   },
   {
    "duration": 10,
    "start_time": "2023-05-30T20:25:58.420Z"
   },
   {
    "duration": 16,
    "start_time": "2023-05-30T20:25:58.433Z"
   },
   {
    "duration": 10,
    "start_time": "2023-05-30T20:25:58.450Z"
   },
   {
    "duration": 4,
    "start_time": "2023-05-30T20:25:58.462Z"
   },
   {
    "duration": 1679,
    "start_time": "2023-05-30T20:25:58.468Z"
   },
   {
    "duration": 5,
    "start_time": "2023-05-30T20:26:00.148Z"
   },
   {
    "duration": 996,
    "start_time": "2023-05-30T20:27:38.115Z"
   },
   {
    "duration": 61,
    "start_time": "2023-05-30T20:27:39.112Z"
   },
   {
    "duration": 4,
    "start_time": "2023-05-30T20:27:39.174Z"
   },
   {
    "duration": 34,
    "start_time": "2023-05-30T20:27:39.180Z"
   },
   {
    "duration": 24,
    "start_time": "2023-05-30T20:27:39.216Z"
   },
   {
    "duration": 19,
    "start_time": "2023-05-30T20:27:39.241Z"
   },
   {
    "duration": 6,
    "start_time": "2023-05-30T20:27:39.261Z"
   },
   {
    "duration": 7,
    "start_time": "2023-05-30T20:27:39.268Z"
   },
   {
    "duration": 6,
    "start_time": "2023-05-30T20:27:39.277Z"
   },
   {
    "duration": 31,
    "start_time": "2023-05-30T20:27:39.285Z"
   },
   {
    "duration": 6,
    "start_time": "2023-05-30T20:27:39.317Z"
   },
   {
    "duration": 5,
    "start_time": "2023-05-30T20:27:39.325Z"
   },
   {
    "duration": 7,
    "start_time": "2023-05-30T20:27:39.332Z"
   },
   {
    "duration": 4,
    "start_time": "2023-05-30T20:27:39.342Z"
   },
   {
    "duration": 147,
    "start_time": "2023-05-30T20:27:39.347Z"
   },
   {
    "duration": 5,
    "start_time": "2023-05-30T20:27:39.495Z"
   },
   {
    "duration": 123,
    "start_time": "2023-05-30T20:27:39.501Z"
   },
   {
    "duration": 3,
    "start_time": "2023-05-30T20:27:39.625Z"
   },
   {
    "duration": 6,
    "start_time": "2023-05-30T20:27:39.629Z"
   },
   {
    "duration": 208,
    "start_time": "2023-05-30T20:27:39.636Z"
   },
   {
    "duration": 7,
    "start_time": "2023-05-30T20:27:39.845Z"
   },
   {
    "duration": 202,
    "start_time": "2023-05-30T20:27:39.853Z"
   },
   {
    "duration": 7,
    "start_time": "2023-05-30T20:27:40.056Z"
   },
   {
    "duration": 130,
    "start_time": "2023-05-30T20:27:40.064Z"
   },
   {
    "duration": 7,
    "start_time": "2023-05-30T20:27:40.195Z"
   },
   {
    "duration": 37,
    "start_time": "2023-05-30T20:27:40.204Z"
   },
   {
    "duration": 21,
    "start_time": "2023-05-30T20:27:40.243Z"
   },
   {
    "duration": 21,
    "start_time": "2023-05-30T20:27:40.265Z"
   },
   {
    "duration": 15,
    "start_time": "2023-05-30T20:27:40.288Z"
   },
   {
    "duration": 221,
    "start_time": "2023-05-30T20:27:40.305Z"
   },
   {
    "duration": 222,
    "start_time": "2023-05-30T20:27:40.528Z"
   },
   {
    "duration": 24,
    "start_time": "2023-05-30T20:27:40.752Z"
   },
   {
    "duration": 97,
    "start_time": "2023-05-30T20:27:40.778Z"
   },
   {
    "duration": 18,
    "start_time": "2023-05-30T20:27:40.877Z"
   },
   {
    "duration": 22,
    "start_time": "2023-05-30T20:27:40.896Z"
   },
   {
    "duration": 8,
    "start_time": "2023-05-30T20:27:40.919Z"
   },
   {
    "duration": 12,
    "start_time": "2023-05-30T20:27:40.929Z"
   },
   {
    "duration": 9,
    "start_time": "2023-05-30T20:27:40.943Z"
   },
   {
    "duration": 4,
    "start_time": "2023-05-30T20:27:40.954Z"
   },
   {
    "duration": 1357,
    "start_time": "2023-05-30T20:27:40.959Z"
   },
   {
    "duration": 5,
    "start_time": "2023-05-30T20:27:42.319Z"
   },
   {
    "duration": 7,
    "start_time": "2023-05-30T20:32:14.170Z"
   },
   {
    "duration": 2,
    "start_time": "2023-05-30T20:51:36.449Z"
   },
   {
    "duration": 62,
    "start_time": "2023-05-30T20:51:36.453Z"
   },
   {
    "duration": 3,
    "start_time": "2023-05-30T20:51:36.516Z"
   },
   {
    "duration": 28,
    "start_time": "2023-05-30T20:51:36.520Z"
   },
   {
    "duration": 25,
    "start_time": "2023-05-30T20:51:36.550Z"
   },
   {
    "duration": 19,
    "start_time": "2023-05-30T20:51:36.576Z"
   },
   {
    "duration": 24,
    "start_time": "2023-05-30T20:51:36.596Z"
   },
   {
    "duration": 7,
    "start_time": "2023-05-30T20:51:36.621Z"
   },
   {
    "duration": 7,
    "start_time": "2023-05-30T20:51:36.629Z"
   },
   {
    "duration": 14,
    "start_time": "2023-05-30T20:51:36.638Z"
   },
   {
    "duration": 6,
    "start_time": "2023-05-30T20:51:36.654Z"
   },
   {
    "duration": 8,
    "start_time": "2023-05-30T20:51:36.661Z"
   },
   {
    "duration": 9,
    "start_time": "2023-05-30T20:51:36.671Z"
   },
   {
    "duration": 4,
    "start_time": "2023-05-30T20:51:36.682Z"
   },
   {
    "duration": 165,
    "start_time": "2023-05-30T20:51:36.687Z"
   },
   {
    "duration": 6,
    "start_time": "2023-05-30T20:51:36.858Z"
   },
   {
    "duration": 121,
    "start_time": "2023-05-30T20:51:36.865Z"
   },
   {
    "duration": 3,
    "start_time": "2023-05-30T20:51:36.988Z"
   },
   {
    "duration": 9,
    "start_time": "2023-05-30T20:51:36.992Z"
   },
   {
    "duration": 216,
    "start_time": "2023-05-30T20:51:37.002Z"
   },
   {
    "duration": 6,
    "start_time": "2023-05-30T20:51:37.219Z"
   },
   {
    "duration": 148,
    "start_time": "2023-05-30T20:51:37.226Z"
   },
   {
    "duration": 7,
    "start_time": "2023-05-30T20:51:37.375Z"
   },
   {
    "duration": 140,
    "start_time": "2023-05-30T20:51:37.383Z"
   },
   {
    "duration": 7,
    "start_time": "2023-05-30T20:51:37.524Z"
   },
   {
    "duration": 15,
    "start_time": "2023-05-30T20:51:37.532Z"
   },
   {
    "duration": 16,
    "start_time": "2023-05-30T20:51:37.549Z"
   },
   {
    "duration": 22,
    "start_time": "2023-05-30T20:51:37.567Z"
   },
   {
    "duration": 39,
    "start_time": "2023-05-30T20:51:37.590Z"
   },
   {
    "duration": 199,
    "start_time": "2023-05-30T20:51:37.631Z"
   },
   {
    "duration": 208,
    "start_time": "2023-05-30T20:51:37.831Z"
   },
   {
    "duration": 23,
    "start_time": "2023-05-30T20:51:38.040Z"
   },
   {
    "duration": 24,
    "start_time": "2023-05-30T20:51:38.064Z"
   },
   {
    "duration": 38,
    "start_time": "2023-05-30T20:51:38.091Z"
   },
   {
    "duration": 6,
    "start_time": "2023-05-30T20:51:38.131Z"
   },
   {
    "duration": 15,
    "start_time": "2023-05-30T20:51:38.139Z"
   },
   {
    "duration": 15,
    "start_time": "2023-05-30T20:51:38.156Z"
   },
   {
    "duration": 10,
    "start_time": "2023-05-30T20:51:38.172Z"
   },
   {
    "duration": 5,
    "start_time": "2023-05-30T20:51:38.183Z"
   },
   {
    "duration": 1270,
    "start_time": "2023-05-30T20:51:38.190Z"
   },
   {
    "duration": 5,
    "start_time": "2023-05-30T20:51:39.463Z"
   },
   {
    "duration": 1147,
    "start_time": "2023-05-30T21:09:30.644Z"
   },
   {
    "duration": 179,
    "start_time": "2023-05-30T21:09:31.794Z"
   },
   {
    "duration": 4,
    "start_time": "2023-05-30T21:09:31.975Z"
   },
   {
    "duration": 65,
    "start_time": "2023-05-30T21:09:31.981Z"
   },
   {
    "duration": 33,
    "start_time": "2023-05-30T21:09:32.049Z"
   },
   {
    "duration": 46,
    "start_time": "2023-05-30T21:09:32.084Z"
   },
   {
    "duration": 9,
    "start_time": "2023-05-30T21:09:32.132Z"
   },
   {
    "duration": 19,
    "start_time": "2023-05-30T21:09:32.143Z"
   },
   {
    "duration": 27,
    "start_time": "2023-05-30T21:09:32.163Z"
   },
   {
    "duration": 20,
    "start_time": "2023-05-30T21:09:32.192Z"
   },
   {
    "duration": 21,
    "start_time": "2023-05-30T21:09:32.213Z"
   },
   {
    "duration": 30,
    "start_time": "2023-05-30T21:09:32.236Z"
   },
   {
    "duration": 20,
    "start_time": "2023-05-30T21:09:32.267Z"
   },
   {
    "duration": 20,
    "start_time": "2023-05-30T21:09:32.291Z"
   },
   {
    "duration": 162,
    "start_time": "2023-05-30T21:09:32.313Z"
   },
   {
    "duration": 6,
    "start_time": "2023-05-30T21:09:32.476Z"
   },
   {
    "duration": 142,
    "start_time": "2023-05-30T21:09:32.484Z"
   },
   {
    "duration": 4,
    "start_time": "2023-05-30T21:09:32.627Z"
   },
   {
    "duration": 51,
    "start_time": "2023-05-30T21:09:32.633Z"
   },
   {
    "duration": 240,
    "start_time": "2023-05-30T21:09:32.686Z"
   },
   {
    "duration": 8,
    "start_time": "2023-05-30T21:09:32.927Z"
   },
   {
    "duration": 173,
    "start_time": "2023-05-30T21:09:32.936Z"
   },
   {
    "duration": 16,
    "start_time": "2023-05-30T21:09:33.110Z"
   },
   {
    "duration": 154,
    "start_time": "2023-05-30T21:09:33.128Z"
   },
   {
    "duration": 8,
    "start_time": "2023-05-30T21:09:33.284Z"
   },
   {
    "duration": 37,
    "start_time": "2023-05-30T21:09:33.293Z"
   },
   {
    "duration": 22,
    "start_time": "2023-05-30T21:09:33.332Z"
   },
   {
    "duration": 46,
    "start_time": "2023-05-30T21:09:33.355Z"
   },
   {
    "duration": 18,
    "start_time": "2023-05-30T21:09:33.402Z"
   },
   {
    "duration": 252,
    "start_time": "2023-05-30T21:09:33.422Z"
   },
   {
    "duration": 239,
    "start_time": "2023-05-30T21:09:33.676Z"
   },
   {
    "duration": 26,
    "start_time": "2023-05-30T21:09:33.924Z"
   },
   {
    "duration": 109,
    "start_time": "2023-05-30T21:09:33.952Z"
   },
   {
    "duration": 16,
    "start_time": "2023-05-30T21:09:34.062Z"
   },
   {
    "duration": 19,
    "start_time": "2023-05-30T21:09:34.079Z"
   },
   {
    "duration": 27,
    "start_time": "2023-05-30T21:09:34.100Z"
   },
   {
    "duration": 36,
    "start_time": "2023-05-30T21:09:34.129Z"
   },
   {
    "duration": 22,
    "start_time": "2023-05-30T21:09:34.167Z"
   },
   {
    "duration": 40,
    "start_time": "2023-05-30T21:09:34.191Z"
   },
   {
    "duration": 1442,
    "start_time": "2023-05-30T21:09:34.233Z"
   },
   {
    "duration": 5,
    "start_time": "2023-05-30T21:09:35.678Z"
   },
   {
    "duration": 7,
    "start_time": "2023-05-30T21:15:14.310Z"
   },
   {
    "duration": 4,
    "start_time": "2023-05-30T21:15:31.972Z"
   },
   {
    "duration": 8,
    "start_time": "2023-05-30T21:16:20.577Z"
   },
   {
    "duration": 102,
    "start_time": "2023-05-30T21:17:59.524Z"
   },
   {
    "duration": 7,
    "start_time": "2023-05-30T21:18:09.618Z"
   },
   {
    "duration": 85,
    "start_time": "2023-05-31T07:54:47.758Z"
   },
   {
    "duration": 1260,
    "start_time": "2023-05-31T08:36:13.588Z"
   },
   {
    "duration": 203,
    "start_time": "2023-05-31T08:36:14.850Z"
   },
   {
    "duration": 4,
    "start_time": "2023-05-31T08:36:15.054Z"
   },
   {
    "duration": 64,
    "start_time": "2023-05-31T08:36:15.060Z"
   },
   {
    "duration": 32,
    "start_time": "2023-05-31T08:36:15.125Z"
   },
   {
    "duration": 19,
    "start_time": "2023-05-31T08:36:15.158Z"
   },
   {
    "duration": 9,
    "start_time": "2023-05-31T08:36:15.179Z"
   },
   {
    "duration": 6,
    "start_time": "2023-05-31T08:36:15.189Z"
   },
   {
    "duration": 50,
    "start_time": "2023-05-31T08:36:15.197Z"
   },
   {
    "duration": 8,
    "start_time": "2023-05-31T08:36:15.250Z"
   },
   {
    "duration": 8,
    "start_time": "2023-05-31T08:36:15.259Z"
   },
   {
    "duration": 10,
    "start_time": "2023-05-31T08:36:15.268Z"
   },
   {
    "duration": 19,
    "start_time": "2023-05-31T08:36:15.279Z"
   },
   {
    "duration": 18,
    "start_time": "2023-05-31T08:36:15.300Z"
   },
   {
    "duration": 145,
    "start_time": "2023-05-31T08:36:15.319Z"
   },
   {
    "duration": 4,
    "start_time": "2023-05-31T08:36:15.466Z"
   },
   {
    "duration": 122,
    "start_time": "2023-05-31T08:36:15.471Z"
   },
   {
    "duration": 3,
    "start_time": "2023-05-31T08:36:15.594Z"
   },
   {
    "duration": 14,
    "start_time": "2023-05-31T08:36:15.599Z"
   },
   {
    "duration": 217,
    "start_time": "2023-05-31T08:36:15.615Z"
   },
   {
    "duration": 8,
    "start_time": "2023-05-31T08:36:15.834Z"
   },
   {
    "duration": 169,
    "start_time": "2023-05-31T08:36:15.843Z"
   },
   {
    "duration": 7,
    "start_time": "2023-05-31T08:36:16.014Z"
   },
   {
    "duration": 164,
    "start_time": "2023-05-31T08:36:16.023Z"
   },
   {
    "duration": 8,
    "start_time": "2023-05-31T08:36:16.189Z"
   },
   {
    "duration": 24,
    "start_time": "2023-05-31T08:36:16.199Z"
   },
   {
    "duration": 26,
    "start_time": "2023-05-31T08:36:16.225Z"
   },
   {
    "duration": 50,
    "start_time": "2023-05-31T08:36:16.255Z"
   },
   {
    "duration": 21,
    "start_time": "2023-05-31T08:36:16.307Z"
   },
   {
    "duration": 217,
    "start_time": "2023-05-31T08:36:16.330Z"
   },
   {
    "duration": 206,
    "start_time": "2023-05-31T08:36:16.549Z"
   },
   {
    "duration": 28,
    "start_time": "2023-05-31T08:36:16.757Z"
   },
   {
    "duration": 22,
    "start_time": "2023-05-31T08:36:16.787Z"
   },
   {
    "duration": 17,
    "start_time": "2023-05-31T08:36:16.810Z"
   },
   {
    "duration": 5,
    "start_time": "2023-05-31T08:36:16.828Z"
   },
   {
    "duration": 7,
    "start_time": "2023-05-31T08:36:16.834Z"
   },
   {
    "duration": 7,
    "start_time": "2023-05-31T08:36:16.842Z"
   },
   {
    "duration": 40,
    "start_time": "2023-05-31T08:36:16.850Z"
   },
   {
    "duration": 9,
    "start_time": "2023-05-31T08:36:16.891Z"
   },
   {
    "duration": 4,
    "start_time": "2023-05-31T08:36:16.901Z"
   },
   {
    "duration": 1256,
    "start_time": "2023-05-31T08:36:16.907Z"
   },
   {
    "duration": 6,
    "start_time": "2023-05-31T08:36:18.164Z"
   },
   {
    "duration": 21,
    "start_time": "2023-05-31T09:55:17.884Z"
   },
   {
    "duration": 6,
    "start_time": "2023-05-31T10:01:10.381Z"
   },
   {
    "duration": 5,
    "start_time": "2023-05-31T10:01:17.281Z"
   },
   {
    "duration": 97,
    "start_time": "2023-05-31T10:01:35.305Z"
   },
   {
    "duration": 14,
    "start_time": "2023-05-31T10:01:39.181Z"
   },
   {
    "duration": 14,
    "start_time": "2023-05-31T10:01:49.084Z"
   },
   {
    "duration": 3,
    "start_time": "2023-05-31T10:02:00.000Z"
   },
   {
    "duration": 78,
    "start_time": "2023-05-31T10:10:38.219Z"
   },
   {
    "duration": 75,
    "start_time": "2023-05-31T10:10:47.561Z"
   },
   {
    "duration": 262,
    "start_time": "2023-05-31T10:10:56.185Z"
   },
   {
    "duration": 101,
    "start_time": "2023-05-31T10:11:19.872Z"
   },
   {
    "duration": 4,
    "start_time": "2023-05-31T10:15:58.598Z"
   },
   {
    "duration": 4,
    "start_time": "2023-05-31T10:16:17.860Z"
   },
   {
    "duration": 5,
    "start_time": "2023-05-31T10:16:19.737Z"
   },
   {
    "duration": 4,
    "start_time": "2023-05-31T10:16:43.218Z"
   },
   {
    "duration": 4,
    "start_time": "2023-05-31T10:16:46.260Z"
   },
   {
    "duration": 4,
    "start_time": "2023-05-31T10:18:24.167Z"
   },
   {
    "duration": 4,
    "start_time": "2023-05-31T10:18:24.645Z"
   },
   {
    "duration": 168,
    "start_time": "2023-05-31T10:20:26.639Z"
   },
   {
    "duration": 80,
    "start_time": "2023-05-31T10:21:17.617Z"
   },
   {
    "duration": 95,
    "start_time": "2023-05-31T10:21:27.615Z"
   },
   {
    "duration": 97,
    "start_time": "2023-05-31T10:22:14.971Z"
   },
   {
    "duration": 9,
    "start_time": "2023-05-31T10:24:16.565Z"
   },
   {
    "duration": 8,
    "start_time": "2023-05-31T10:24:23.652Z"
   },
   {
    "duration": 9,
    "start_time": "2023-05-31T10:25:08.412Z"
   },
   {
    "duration": 20,
    "start_time": "2023-05-31T10:25:32.279Z"
   },
   {
    "duration": 111,
    "start_time": "2023-05-31T10:27:06.252Z"
   },
   {
    "duration": 107,
    "start_time": "2023-05-31T10:27:31.835Z"
   },
   {
    "duration": 100,
    "start_time": "2023-05-31T10:27:40.111Z"
   },
   {
    "duration": 105,
    "start_time": "2023-05-31T10:27:48.850Z"
   },
   {
    "duration": 100,
    "start_time": "2023-05-31T10:27:54.650Z"
   },
   {
    "duration": 100,
    "start_time": "2023-05-31T10:28:28.078Z"
   },
   {
    "duration": 124,
    "start_time": "2023-05-31T10:28:59.877Z"
   },
   {
    "duration": 95,
    "start_time": "2023-05-31T10:29:10.041Z"
   },
   {
    "duration": 4,
    "start_time": "2023-05-31T10:29:49.912Z"
   },
   {
    "duration": 81,
    "start_time": "2023-05-31T10:31:47.109Z"
   },
   {
    "duration": 86,
    "start_time": "2023-05-31T10:32:07.078Z"
   },
   {
    "duration": 52,
    "start_time": "2023-05-31T10:32:34.268Z"
   },
   {
    "duration": 146,
    "start_time": "2023-05-31T10:33:43.908Z"
   },
   {
    "duration": 14,
    "start_time": "2023-05-31T10:34:11.189Z"
   },
   {
    "duration": 13,
    "start_time": "2023-05-31T10:37:03.496Z"
   },
   {
    "duration": 13,
    "start_time": "2023-05-31T10:37:23.353Z"
   },
   {
    "duration": 50,
    "start_time": "2023-05-31T10:37:48.798Z"
   },
   {
    "duration": 15,
    "start_time": "2023-05-31T10:38:12.536Z"
   },
   {
    "duration": 12,
    "start_time": "2023-05-31T10:39:52.254Z"
   },
   {
    "duration": 56,
    "start_time": "2023-05-31T11:04:14.336Z"
   },
   {
    "duration": 37,
    "start_time": "2023-05-31T11:04:26.971Z"
   },
   {
    "duration": 3,
    "start_time": "2023-05-31T11:05:03.231Z"
   },
   {
    "duration": 4,
    "start_time": "2023-05-31T11:06:19.886Z"
   },
   {
    "duration": 3,
    "start_time": "2023-05-31T11:07:26.443Z"
   },
   {
    "duration": 3,
    "start_time": "2023-05-31T11:07:45.625Z"
   },
   {
    "duration": 3,
    "start_time": "2023-05-31T11:08:04.614Z"
   },
   {
    "duration": 79,
    "start_time": "2023-05-31T11:08:04.619Z"
   },
   {
    "duration": 3,
    "start_time": "2023-05-31T11:08:04.700Z"
   },
   {
    "duration": 41,
    "start_time": "2023-05-31T11:08:04.704Z"
   },
   {
    "duration": 26,
    "start_time": "2023-05-31T11:08:04.747Z"
   },
   {
    "duration": 23,
    "start_time": "2023-05-31T11:08:04.774Z"
   },
   {
    "duration": 5,
    "start_time": "2023-05-31T11:08:04.799Z"
   },
   {
    "duration": 115,
    "start_time": "2023-05-31T11:08:04.805Z"
   },
   {
    "duration": 20,
    "start_time": "2023-05-31T11:08:04.921Z"
   },
   {
    "duration": 13,
    "start_time": "2023-05-31T11:08:04.943Z"
   },
   {
    "duration": 12,
    "start_time": "2023-05-31T11:08:04.957Z"
   },
   {
    "duration": 19,
    "start_time": "2023-05-31T11:08:04.971Z"
   },
   {
    "duration": 26,
    "start_time": "2023-05-31T11:08:04.991Z"
   },
   {
    "duration": 18,
    "start_time": "2023-05-31T11:08:05.020Z"
   },
   {
    "duration": 39,
    "start_time": "2023-05-31T11:08:05.039Z"
   },
   {
    "duration": 26,
    "start_time": "2023-05-31T11:08:05.079Z"
   },
   {
    "duration": 23,
    "start_time": "2023-05-31T11:08:05.106Z"
   },
   {
    "duration": 144,
    "start_time": "2023-05-31T11:08:05.130Z"
   },
   {
    "duration": 8,
    "start_time": "2023-05-31T11:08:05.276Z"
   },
   {
    "duration": 116,
    "start_time": "2023-05-31T11:08:05.285Z"
   },
   {
    "duration": 3,
    "start_time": "2023-05-31T11:08:05.402Z"
   },
   {
    "duration": 24,
    "start_time": "2023-05-31T11:08:05.406Z"
   },
   {
    "duration": 220,
    "start_time": "2023-05-31T11:08:05.432Z"
   },
   {
    "duration": 6,
    "start_time": "2023-05-31T11:08:05.654Z"
   },
   {
    "duration": 245,
    "start_time": "2023-05-31T11:08:05.661Z"
   },
   {
    "duration": 7,
    "start_time": "2023-05-31T11:08:05.908Z"
   },
   {
    "duration": 176,
    "start_time": "2023-05-31T11:08:05.917Z"
   },
   {
    "duration": 10,
    "start_time": "2023-05-31T11:08:06.095Z"
   },
   {
    "duration": 16,
    "start_time": "2023-05-31T11:08:06.107Z"
   },
   {
    "duration": 27,
    "start_time": "2023-05-31T11:08:06.124Z"
   },
   {
    "duration": 4,
    "start_time": "2023-05-31T11:08:06.153Z"
   },
   {
    "duration": 50,
    "start_time": "2023-05-31T11:08:06.159Z"
   },
   {
    "duration": 37,
    "start_time": "2023-05-31T11:08:06.210Z"
   },
   {
    "duration": 206,
    "start_time": "2023-05-31T11:08:06.248Z"
   },
   {
    "duration": 219,
    "start_time": "2023-05-31T11:08:06.455Z"
   },
   {
    "duration": 28,
    "start_time": "2023-05-31T11:08:06.675Z"
   },
   {
    "duration": 23,
    "start_time": "2023-05-31T11:08:06.704Z"
   },
   {
    "duration": 16,
    "start_time": "2023-05-31T11:08:06.729Z"
   },
   {
    "duration": 5,
    "start_time": "2023-05-31T11:08:06.746Z"
   },
   {
    "duration": 6,
    "start_time": "2023-05-31T11:08:06.752Z"
   },
   {
    "duration": 5,
    "start_time": "2023-05-31T11:08:06.784Z"
   },
   {
    "duration": 20,
    "start_time": "2023-05-31T11:08:06.791Z"
   },
   {
    "duration": 11,
    "start_time": "2023-05-31T11:08:06.812Z"
   },
   {
    "duration": 12,
    "start_time": "2023-05-31T11:08:06.824Z"
   },
   {
    "duration": 1288,
    "start_time": "2023-05-31T11:08:06.837Z"
   },
   {
    "duration": 5,
    "start_time": "2023-05-31T11:08:08.127Z"
   },
   {
    "duration": 103,
    "start_time": "2023-05-31T11:12:05.513Z"
   },
   {
    "duration": 4,
    "start_time": "2023-05-31T11:13:03.497Z"
   },
   {
    "duration": 7,
    "start_time": "2023-05-31T11:14:03.326Z"
   },
   {
    "duration": 87,
    "start_time": "2023-05-31T11:14:44.546Z"
   },
   {
    "duration": 77,
    "start_time": "2023-05-31T11:15:48.770Z"
   },
   {
    "duration": 1405,
    "start_time": "2023-05-31T11:19:13.442Z"
   },
   {
    "duration": 105,
    "start_time": "2023-05-31T11:19:28.056Z"
   },
   {
    "duration": 153,
    "start_time": "2023-05-31T11:21:55.030Z"
   },
   {
    "duration": 4,
    "start_time": "2023-05-31T11:34:56.643Z"
   },
   {
    "duration": 1254,
    "start_time": "2023-05-31T11:35:05.834Z"
   },
   {
    "duration": 19,
    "start_time": "2023-05-31T11:36:44.540Z"
   },
   {
    "duration": 17,
    "start_time": "2023-05-31T11:36:56.532Z"
   },
   {
    "duration": 22,
    "start_time": "2023-05-31T11:36:57.238Z"
   },
   {
    "duration": 22,
    "start_time": "2023-05-31T11:36:59.105Z"
   },
   {
    "duration": 44,
    "start_time": "2023-05-31T11:37:04.571Z"
   },
   {
    "duration": 128,
    "start_time": "2023-05-31T11:39:13.810Z"
   },
   {
    "duration": 4,
    "start_time": "2023-05-31T11:40:15.406Z"
   },
   {
    "duration": 74,
    "start_time": "2023-05-31T11:40:15.412Z"
   },
   {
    "duration": 3,
    "start_time": "2023-05-31T11:40:15.488Z"
   },
   {
    "duration": 29,
    "start_time": "2023-05-31T11:40:15.492Z"
   },
   {
    "duration": 34,
    "start_time": "2023-05-31T11:40:15.523Z"
   },
   {
    "duration": 38,
    "start_time": "2023-05-31T11:40:15.558Z"
   },
   {
    "duration": 17,
    "start_time": "2023-05-31T11:40:15.598Z"
   },
   {
    "duration": 106,
    "start_time": "2023-05-31T11:40:15.617Z"
   },
   {
    "duration": 21,
    "start_time": "2023-05-31T11:40:15.726Z"
   },
   {
    "duration": 11,
    "start_time": "2023-05-31T11:40:15.748Z"
   },
   {
    "duration": 6,
    "start_time": "2023-05-31T11:40:15.761Z"
   },
   {
    "duration": 29,
    "start_time": "2023-05-31T11:40:15.769Z"
   },
   {
    "duration": 8,
    "start_time": "2023-05-31T11:40:15.800Z"
   },
   {
    "duration": 8,
    "start_time": "2023-05-31T11:40:15.810Z"
   },
   {
    "duration": 7,
    "start_time": "2023-05-31T11:40:15.820Z"
   },
   {
    "duration": 31,
    "start_time": "2023-05-31T11:40:15.828Z"
   },
   {
    "duration": 22,
    "start_time": "2023-05-31T11:40:15.861Z"
   },
   {
    "duration": 169,
    "start_time": "2023-05-31T11:40:15.884Z"
   },
   {
    "duration": 8,
    "start_time": "2023-05-31T11:40:16.055Z"
   },
   {
    "duration": 175,
    "start_time": "2023-05-31T11:40:16.066Z"
   },
   {
    "duration": 3,
    "start_time": "2023-05-31T11:40:16.243Z"
   },
   {
    "duration": 12,
    "start_time": "2023-05-31T11:40:16.247Z"
   },
   {
    "duration": 357,
    "start_time": "2023-05-31T11:40:16.261Z"
   },
   {
    "duration": 101,
    "start_time": "2023-05-31T11:40:16.621Z"
   },
   {
    "duration": 7,
    "start_time": "2023-05-31T11:40:16.724Z"
   },
   {
    "duration": 169,
    "start_time": "2023-05-31T11:40:16.733Z"
   },
   {
    "duration": 113,
    "start_time": "2023-05-31T11:40:16.904Z"
   },
   {
    "duration": 8,
    "start_time": "2023-05-31T11:40:17.018Z"
   },
   {
    "duration": 164,
    "start_time": "2023-05-31T11:40:17.028Z"
   },
   {
    "duration": 8,
    "start_time": "2023-05-31T11:40:17.193Z"
   },
   {
    "duration": 15,
    "start_time": "2023-05-31T11:40:17.202Z"
   },
   {
    "duration": 17,
    "start_time": "2023-05-31T11:40:17.218Z"
   },
   {
    "duration": 14,
    "start_time": "2023-05-31T11:40:17.236Z"
   },
   {
    "duration": 39,
    "start_time": "2023-05-31T11:40:17.252Z"
   },
   {
    "duration": 17,
    "start_time": "2023-05-31T11:40:17.293Z"
   },
   {
    "duration": 225,
    "start_time": "2023-05-31T11:40:17.311Z"
   },
   {
    "duration": 213,
    "start_time": "2023-05-31T11:40:17.537Z"
   },
   {
    "duration": 17,
    "start_time": "2023-05-31T11:40:17.752Z"
   },
   {
    "duration": 33,
    "start_time": "2023-05-31T11:40:17.770Z"
   },
   {
    "duration": 23,
    "start_time": "2023-05-31T11:40:17.805Z"
   },
   {
    "duration": 15,
    "start_time": "2023-05-31T11:40:17.830Z"
   },
   {
    "duration": 5,
    "start_time": "2023-05-31T11:40:17.847Z"
   },
   {
    "duration": 32,
    "start_time": "2023-05-31T11:40:17.853Z"
   },
   {
    "duration": 6,
    "start_time": "2023-05-31T11:40:17.886Z"
   },
   {
    "duration": 19,
    "start_time": "2023-05-31T11:40:17.893Z"
   },
   {
    "duration": 9,
    "start_time": "2023-05-31T11:40:17.914Z"
   },
   {
    "duration": 17,
    "start_time": "2023-05-31T11:40:17.925Z"
   },
   {
    "duration": 1329,
    "start_time": "2023-05-31T11:40:17.943Z"
   },
   {
    "duration": 12,
    "start_time": "2023-05-31T11:40:19.273Z"
   },
   {
    "duration": 18,
    "start_time": "2023-05-31T11:44:23.750Z"
   },
   {
    "duration": 4,
    "start_time": "2023-05-31T11:47:07.944Z"
   },
   {
    "duration": 5,
    "start_time": "2023-05-31T11:47:27.747Z"
   },
   {
    "duration": 3,
    "start_time": "2023-05-31T11:57:28.329Z"
   },
   {
    "duration": 76,
    "start_time": "2023-05-31T11:57:28.334Z"
   },
   {
    "duration": 3,
    "start_time": "2023-05-31T11:57:28.412Z"
   },
   {
    "duration": 42,
    "start_time": "2023-05-31T11:57:28.417Z"
   },
   {
    "duration": 26,
    "start_time": "2023-05-31T11:57:28.460Z"
   },
   {
    "duration": 21,
    "start_time": "2023-05-31T11:57:28.487Z"
   },
   {
    "duration": 6,
    "start_time": "2023-05-31T11:57:28.509Z"
   },
   {
    "duration": 114,
    "start_time": "2023-05-31T11:57:28.516Z"
   },
   {
    "duration": 21,
    "start_time": "2023-05-31T11:57:28.632Z"
   },
   {
    "duration": 11,
    "start_time": "2023-05-31T11:57:28.656Z"
   },
   {
    "duration": 4,
    "start_time": "2023-05-31T11:57:28.685Z"
   },
   {
    "duration": 10,
    "start_time": "2023-05-31T11:57:28.691Z"
   },
   {
    "duration": 9,
    "start_time": "2023-05-31T11:57:28.702Z"
   },
   {
    "duration": 7,
    "start_time": "2023-05-31T11:57:28.712Z"
   },
   {
    "duration": 4,
    "start_time": "2023-05-31T11:57:28.720Z"
   },
   {
    "duration": 20,
    "start_time": "2023-05-31T11:57:28.726Z"
   },
   {
    "duration": 8,
    "start_time": "2023-05-31T11:57:28.748Z"
   },
   {
    "duration": 153,
    "start_time": "2023-05-31T11:57:28.757Z"
   },
   {
    "duration": 5,
    "start_time": "2023-05-31T11:57:28.912Z"
   },
   {
    "duration": 123,
    "start_time": "2023-05-31T11:57:28.919Z"
   },
   {
    "duration": 3,
    "start_time": "2023-05-31T11:57:29.044Z"
   },
   {
    "duration": 8,
    "start_time": "2023-05-31T11:57:29.049Z"
   },
   {
    "duration": 241,
    "start_time": "2023-05-31T11:57:29.058Z"
   },
   {
    "duration": 93,
    "start_time": "2023-05-31T11:57:29.301Z"
   },
   {
    "duration": 7,
    "start_time": "2023-05-31T11:57:29.395Z"
   },
   {
    "duration": 157,
    "start_time": "2023-05-31T11:57:29.404Z"
   },
   {
    "duration": 305,
    "start_time": "2023-05-31T11:57:29.562Z"
   },
   {
    "duration": 17,
    "start_time": "2023-05-31T11:57:29.870Z"
   },
   {
    "duration": 147,
    "start_time": "2023-05-31T11:57:29.889Z"
   },
   {
    "duration": 7,
    "start_time": "2023-05-31T11:57:30.038Z"
   },
   {
    "duration": 33,
    "start_time": "2023-05-31T11:57:30.046Z"
   },
   {
    "duration": 45,
    "start_time": "2023-05-31T11:57:30.081Z"
   },
   {
    "duration": 17,
    "start_time": "2023-05-31T11:57:30.128Z"
   },
   {
    "duration": 35,
    "start_time": "2023-05-31T11:57:30.146Z"
   },
   {
    "duration": 25,
    "start_time": "2023-05-31T11:57:30.182Z"
   },
   {
    "duration": 227,
    "start_time": "2023-05-31T11:57:30.208Z"
   },
   {
    "duration": 217,
    "start_time": "2023-05-31T11:57:30.437Z"
   },
   {
    "duration": 31,
    "start_time": "2023-05-31T11:57:30.655Z"
   },
   {
    "duration": 24,
    "start_time": "2023-05-31T11:57:30.687Z"
   },
   {
    "duration": 41,
    "start_time": "2023-05-31T11:57:30.712Z"
   },
   {
    "duration": 31,
    "start_time": "2023-05-31T11:57:30.754Z"
   },
   {
    "duration": 75,
    "start_time": "2023-05-31T11:57:30.786Z"
   },
   {
    "duration": 75,
    "start_time": "2023-05-31T11:57:30.863Z"
   },
   {
    "duration": 43,
    "start_time": "2023-05-31T11:57:30.939Z"
   },
   {
    "duration": 37,
    "start_time": "2023-05-31T11:57:30.984Z"
   },
   {
    "duration": 61,
    "start_time": "2023-05-31T11:57:31.023Z"
   },
   {
    "duration": 31,
    "start_time": "2023-05-31T11:57:31.086Z"
   },
   {
    "duration": 46,
    "start_time": "2023-05-31T11:57:31.119Z"
   },
   {
    "duration": 1513,
    "start_time": "2023-05-31T11:57:31.167Z"
   },
   {
    "duration": 5,
    "start_time": "2023-05-31T11:57:32.682Z"
   },
   {
    "duration": 971,
    "start_time": "2023-05-31T11:58:07.940Z"
   },
   {
    "duration": 67,
    "start_time": "2023-05-31T11:58:08.913Z"
   },
   {
    "duration": 4,
    "start_time": "2023-05-31T11:58:08.981Z"
   },
   {
    "duration": 45,
    "start_time": "2023-05-31T11:58:08.987Z"
   },
   {
    "duration": 27,
    "start_time": "2023-05-31T11:58:09.035Z"
   },
   {
    "duration": 30,
    "start_time": "2023-05-31T11:58:09.063Z"
   },
   {
    "duration": 8,
    "start_time": "2023-05-31T11:58:09.094Z"
   },
   {
    "duration": 115,
    "start_time": "2023-05-31T11:58:09.103Z"
   },
   {
    "duration": 21,
    "start_time": "2023-05-31T11:58:09.220Z"
   },
   {
    "duration": 12,
    "start_time": "2023-05-31T11:58:09.243Z"
   },
   {
    "duration": 29,
    "start_time": "2023-05-31T11:58:09.256Z"
   },
   {
    "duration": 10,
    "start_time": "2023-05-31T11:58:09.286Z"
   },
   {
    "duration": 9,
    "start_time": "2023-05-31T11:58:09.297Z"
   },
   {
    "duration": 7,
    "start_time": "2023-05-31T11:58:09.309Z"
   },
   {
    "duration": 9,
    "start_time": "2023-05-31T11:58:09.318Z"
   },
   {
    "duration": 12,
    "start_time": "2023-05-31T11:58:09.328Z"
   },
   {
    "duration": 12,
    "start_time": "2023-05-31T11:58:09.341Z"
   },
   {
    "duration": 151,
    "start_time": "2023-05-31T11:58:09.355Z"
   },
   {
    "duration": 5,
    "start_time": "2023-05-31T11:58:09.508Z"
   },
   {
    "duration": 115,
    "start_time": "2023-05-31T11:58:09.514Z"
   },
   {
    "duration": 3,
    "start_time": "2023-05-31T11:58:09.630Z"
   },
   {
    "duration": 12,
    "start_time": "2023-05-31T11:58:09.635Z"
   },
   {
    "duration": 226,
    "start_time": "2023-05-31T11:58:09.648Z"
   },
   {
    "duration": 91,
    "start_time": "2023-05-31T11:58:09.876Z"
   },
   {
    "duration": 20,
    "start_time": "2023-05-31T11:58:09.969Z"
   },
   {
    "duration": 170,
    "start_time": "2023-05-31T11:58:09.990Z"
   },
   {
    "duration": 97,
    "start_time": "2023-05-31T11:58:10.161Z"
   },
   {
    "duration": 7,
    "start_time": "2023-05-31T11:58:10.260Z"
   },
   {
    "duration": 158,
    "start_time": "2023-05-31T11:58:10.269Z"
   },
   {
    "duration": 7,
    "start_time": "2023-05-31T11:58:10.429Z"
   },
   {
    "duration": 19,
    "start_time": "2023-05-31T11:58:10.437Z"
   },
   {
    "duration": 27,
    "start_time": "2023-05-31T11:58:10.458Z"
   },
   {
    "duration": 3,
    "start_time": "2023-05-31T11:58:10.487Z"
   },
   {
    "duration": 24,
    "start_time": "2023-05-31T11:58:10.491Z"
   },
   {
    "duration": 79,
    "start_time": "2023-05-31T11:58:10.517Z"
   },
   {
    "duration": 215,
    "start_time": "2023-05-31T11:58:10.598Z"
   },
   {
    "duration": 231,
    "start_time": "2023-05-31T11:58:10.815Z"
   },
   {
    "duration": 19,
    "start_time": "2023-05-31T11:58:11.047Z"
   },
   {
    "duration": 35,
    "start_time": "2023-05-31T11:58:11.068Z"
   },
   {
    "duration": 25,
    "start_time": "2023-05-31T11:58:11.105Z"
   },
   {
    "duration": 19,
    "start_time": "2023-05-31T11:58:11.134Z"
   },
   {
    "duration": 33,
    "start_time": "2023-05-31T11:58:11.154Z"
   },
   {
    "duration": 6,
    "start_time": "2023-05-31T11:58:11.188Z"
   },
   {
    "duration": 6,
    "start_time": "2023-05-31T11:58:11.196Z"
   },
   {
    "duration": 8,
    "start_time": "2023-05-31T11:58:11.203Z"
   },
   {
    "duration": 22,
    "start_time": "2023-05-31T11:58:11.212Z"
   },
   {
    "duration": 12,
    "start_time": "2023-05-31T11:58:11.236Z"
   },
   {
    "duration": 8,
    "start_time": "2023-05-31T11:58:11.250Z"
   },
   {
    "duration": 1268,
    "start_time": "2023-05-31T11:58:11.260Z"
   },
   {
    "duration": 5,
    "start_time": "2023-05-31T11:58:12.530Z"
   },
   {
    "duration": 1032,
    "start_time": "2023-05-31T12:00:36.374Z"
   },
   {
    "duration": 66,
    "start_time": "2023-05-31T12:00:37.408Z"
   },
   {
    "duration": 4,
    "start_time": "2023-05-31T12:00:37.475Z"
   },
   {
    "duration": 61,
    "start_time": "2023-05-31T12:00:37.481Z"
   },
   {
    "duration": 31,
    "start_time": "2023-05-31T12:00:37.545Z"
   },
   {
    "duration": 21,
    "start_time": "2023-05-31T12:00:37.577Z"
   },
   {
    "duration": 12,
    "start_time": "2023-05-31T12:00:37.600Z"
   },
   {
    "duration": 126,
    "start_time": "2023-05-31T12:00:37.614Z"
   },
   {
    "duration": 24,
    "start_time": "2023-05-31T12:00:37.741Z"
   },
   {
    "duration": 26,
    "start_time": "2023-05-31T12:00:37.767Z"
   },
   {
    "duration": 4,
    "start_time": "2023-05-31T12:00:37.795Z"
   },
   {
    "duration": 15,
    "start_time": "2023-05-31T12:00:37.801Z"
   },
   {
    "duration": 14,
    "start_time": "2023-05-31T12:00:37.818Z"
   },
   {
    "duration": 14,
    "start_time": "2023-05-31T12:00:37.834Z"
   },
   {
    "duration": 8,
    "start_time": "2023-05-31T12:00:37.849Z"
   },
   {
    "duration": 19,
    "start_time": "2023-05-31T12:00:37.859Z"
   },
   {
    "duration": 8,
    "start_time": "2023-05-31T12:00:37.879Z"
   },
   {
    "duration": 140,
    "start_time": "2023-05-31T12:00:37.889Z"
   },
   {
    "duration": 4,
    "start_time": "2023-05-31T12:00:38.031Z"
   },
   {
    "duration": 124,
    "start_time": "2023-05-31T12:00:38.039Z"
   },
   {
    "duration": 3,
    "start_time": "2023-05-31T12:00:38.165Z"
   },
   {
    "duration": 25,
    "start_time": "2023-05-31T12:00:38.169Z"
   },
   {
    "duration": 248,
    "start_time": "2023-05-31T12:00:38.195Z"
   },
   {
    "duration": 94,
    "start_time": "2023-05-31T12:00:38.445Z"
   },
   {
    "duration": 9,
    "start_time": "2023-05-31T12:00:38.541Z"
   },
   {
    "duration": 166,
    "start_time": "2023-05-31T12:00:38.551Z"
   },
   {
    "duration": 107,
    "start_time": "2023-05-31T12:00:38.718Z"
   },
   {
    "duration": 8,
    "start_time": "2023-05-31T12:00:38.826Z"
   },
   {
    "duration": 147,
    "start_time": "2023-05-31T12:00:38.835Z"
   },
   {
    "duration": 8,
    "start_time": "2023-05-31T12:00:38.985Z"
   },
   {
    "duration": 17,
    "start_time": "2023-05-31T12:00:38.994Z"
   },
   {
    "duration": 20,
    "start_time": "2023-05-31T12:00:39.012Z"
   },
   {
    "duration": 10,
    "start_time": "2023-05-31T12:00:39.034Z"
   },
   {
    "duration": 26,
    "start_time": "2023-05-31T12:00:39.045Z"
   },
   {
    "duration": 79,
    "start_time": "2023-05-31T12:00:39.085Z"
   },
   {
    "duration": 211,
    "start_time": "2023-05-31T12:00:39.165Z"
   },
   {
    "duration": 220,
    "start_time": "2023-05-31T12:00:39.378Z"
   },
   {
    "duration": 19,
    "start_time": "2023-05-31T12:00:39.599Z"
   },
   {
    "duration": 47,
    "start_time": "2023-05-31T12:00:39.620Z"
   },
   {
    "duration": 21,
    "start_time": "2023-05-31T12:00:39.669Z"
   },
   {
    "duration": 17,
    "start_time": "2023-05-31T12:00:39.694Z"
   },
   {
    "duration": 20,
    "start_time": "2023-05-31T12:00:39.713Z"
   },
   {
    "duration": 22,
    "start_time": "2023-05-31T12:00:39.734Z"
   },
   {
    "duration": 9,
    "start_time": "2023-05-31T12:00:39.757Z"
   },
   {
    "duration": 7,
    "start_time": "2023-05-31T12:00:39.767Z"
   },
   {
    "duration": 13,
    "start_time": "2023-05-31T12:00:39.775Z"
   },
   {
    "duration": 25,
    "start_time": "2023-05-31T12:00:39.789Z"
   },
   {
    "duration": 56,
    "start_time": "2023-05-31T12:00:39.816Z"
   },
   {
    "duration": 1254,
    "start_time": "2023-05-31T12:00:39.874Z"
   },
   {
    "duration": 5,
    "start_time": "2023-05-31T12:00:41.130Z"
   },
   {
    "duration": 3,
    "start_time": "2023-05-31T12:01:43.141Z"
   },
   {
    "duration": 6,
    "start_time": "2023-05-31T12:04:18.513Z"
   },
   {
    "duration": 168,
    "start_time": "2023-05-31T12:34:55.213Z"
   },
   {
    "duration": 171,
    "start_time": "2023-05-31T12:36:29.267Z"
   },
   {
    "duration": 206,
    "start_time": "2023-05-31T12:37:17.803Z"
   },
   {
    "duration": 196,
    "start_time": "2023-05-31T12:37:21.159Z"
   },
   {
    "duration": 39,
    "start_time": "2023-05-31T12:45:11.211Z"
   },
   {
    "duration": 1072,
    "start_time": "2023-05-31T14:08:00.596Z"
   },
   {
    "duration": 74,
    "start_time": "2023-05-31T14:08:01.670Z"
   },
   {
    "duration": 28,
    "start_time": "2023-05-31T14:08:01.746Z"
   },
   {
    "duration": 115,
    "start_time": "2023-05-31T14:08:01.776Z"
   },
   {
    "duration": 55,
    "start_time": "2023-05-31T14:08:01.893Z"
   },
   {
    "duration": 32,
    "start_time": "2023-05-31T14:08:01.950Z"
   },
   {
    "duration": 12,
    "start_time": "2023-05-31T14:08:01.983Z"
   },
   {
    "duration": 140,
    "start_time": "2023-05-31T14:08:01.997Z"
   },
   {
    "duration": 23,
    "start_time": "2023-05-31T14:08:02.139Z"
   },
   {
    "duration": 20,
    "start_time": "2023-05-31T14:08:02.165Z"
   },
   {
    "duration": 5,
    "start_time": "2023-05-31T14:08:02.186Z"
   },
   {
    "duration": 23,
    "start_time": "2023-05-31T14:08:02.192Z"
   },
   {
    "duration": 11,
    "start_time": "2023-05-31T14:08:02.217Z"
   },
   {
    "duration": 23,
    "start_time": "2023-05-31T14:08:02.230Z"
   },
   {
    "duration": 14,
    "start_time": "2023-05-31T14:08:02.255Z"
   },
   {
    "duration": 42,
    "start_time": "2023-05-31T14:08:02.270Z"
   },
   {
    "duration": 24,
    "start_time": "2023-05-31T14:08:02.314Z"
   },
   {
    "duration": 171,
    "start_time": "2023-05-31T14:08:02.340Z"
   },
   {
    "duration": 5,
    "start_time": "2023-05-31T14:08:02.513Z"
   },
   {
    "duration": 136,
    "start_time": "2023-05-31T14:08:02.520Z"
   },
   {
    "duration": 4,
    "start_time": "2023-05-31T14:08:02.658Z"
   },
   {
    "duration": 16,
    "start_time": "2023-05-31T14:08:02.663Z"
   },
   {
    "duration": 253,
    "start_time": "2023-05-31T14:08:02.680Z"
   },
   {
    "duration": 107,
    "start_time": "2023-05-31T14:08:02.936Z"
   },
   {
    "duration": 8,
    "start_time": "2023-05-31T14:08:03.045Z"
   },
   {
    "duration": 184,
    "start_time": "2023-05-31T14:08:03.054Z"
   },
   {
    "duration": 113,
    "start_time": "2023-05-31T14:08:03.241Z"
   },
   {
    "duration": 19,
    "start_time": "2023-05-31T14:08:03.358Z"
   },
   {
    "duration": 158,
    "start_time": "2023-05-31T14:08:03.379Z"
   },
   {
    "duration": 9,
    "start_time": "2023-05-31T14:08:03.538Z"
   },
   {
    "duration": 19,
    "start_time": "2023-05-31T14:08:03.549Z"
   },
   {
    "duration": 19,
    "start_time": "2023-05-31T14:08:03.576Z"
   },
   {
    "duration": 37,
    "start_time": "2023-05-31T14:08:03.597Z"
   },
   {
    "duration": 72,
    "start_time": "2023-05-31T14:08:03.636Z"
   },
   {
    "duration": 40,
    "start_time": "2023-05-31T14:08:03.710Z"
   },
   {
    "duration": 305,
    "start_time": "2023-05-31T14:08:03.751Z"
   },
   {
    "duration": 242,
    "start_time": "2023-05-31T14:08:04.058Z"
   },
   {
    "duration": 19,
    "start_time": "2023-05-31T14:08:04.302Z"
   },
   {
    "duration": 25,
    "start_time": "2023-05-31T14:08:04.322Z"
   },
   {
    "duration": 49,
    "start_time": "2023-05-31T14:08:04.348Z"
   },
   {
    "duration": 22,
    "start_time": "2023-05-31T14:08:04.399Z"
   },
   {
    "duration": 8,
    "start_time": "2023-05-31T14:08:04.422Z"
   },
   {
    "duration": 16,
    "start_time": "2023-05-31T14:08:04.432Z"
   },
   {
    "duration": 14,
    "start_time": "2023-05-31T14:08:04.449Z"
   },
   {
    "duration": 7,
    "start_time": "2023-05-31T14:08:04.476Z"
   },
   {
    "duration": 26,
    "start_time": "2023-05-31T14:08:04.485Z"
   },
   {
    "duration": 31,
    "start_time": "2023-05-31T14:08:04.513Z"
   },
   {
    "duration": 15,
    "start_time": "2023-05-31T14:08:04.546Z"
   },
   {
    "duration": 11,
    "start_time": "2023-05-31T14:08:04.563Z"
   },
   {
    "duration": 1639,
    "start_time": "2023-05-31T14:08:04.576Z"
   },
   {
    "duration": 210,
    "start_time": "2023-05-31T14:08:06.217Z"
   },
   {
    "duration": 1162,
    "start_time": "2023-05-31T14:15:14.077Z"
   },
   {
    "duration": 71,
    "start_time": "2023-05-31T14:15:15.241Z"
   },
   {
    "duration": 6,
    "start_time": "2023-05-31T14:15:15.313Z"
   },
   {
    "duration": 76,
    "start_time": "2023-05-31T14:15:15.321Z"
   },
   {
    "duration": 34,
    "start_time": "2023-05-31T14:15:15.399Z"
   },
   {
    "duration": 42,
    "start_time": "2023-05-31T14:15:15.435Z"
   },
   {
    "duration": 18,
    "start_time": "2023-05-31T14:15:15.480Z"
   },
   {
    "duration": 167,
    "start_time": "2023-05-31T14:15:15.500Z"
   },
   {
    "duration": 29,
    "start_time": "2023-05-31T14:15:15.669Z"
   },
   {
    "duration": 26,
    "start_time": "2023-05-31T14:15:15.702Z"
   },
   {
    "duration": 28,
    "start_time": "2023-05-31T14:15:15.730Z"
   },
   {
    "duration": 32,
    "start_time": "2023-05-31T14:15:15.760Z"
   },
   {
    "duration": 38,
    "start_time": "2023-05-31T14:15:15.793Z"
   },
   {
    "duration": 13,
    "start_time": "2023-05-31T14:15:15.833Z"
   },
   {
    "duration": 17,
    "start_time": "2023-05-31T14:15:15.848Z"
   },
   {
    "duration": 33,
    "start_time": "2023-05-31T14:15:15.866Z"
   },
   {
    "duration": 18,
    "start_time": "2023-05-31T14:15:15.900Z"
   },
   {
    "duration": 185,
    "start_time": "2023-05-31T14:15:15.920Z"
   },
   {
    "duration": 5,
    "start_time": "2023-05-31T14:15:16.108Z"
   },
   {
    "duration": 160,
    "start_time": "2023-05-31T14:15:16.115Z"
   },
   {
    "duration": 4,
    "start_time": "2023-05-31T14:15:16.276Z"
   },
   {
    "duration": 26,
    "start_time": "2023-05-31T14:15:16.281Z"
   },
   {
    "duration": 364,
    "start_time": "2023-05-31T14:15:16.309Z"
   },
   {
    "duration": 102,
    "start_time": "2023-05-31T14:15:16.676Z"
   },
   {
    "duration": 8,
    "start_time": "2023-05-31T14:15:16.779Z"
   },
   {
    "duration": 190,
    "start_time": "2023-05-31T14:15:16.788Z"
   },
   {
    "duration": 122,
    "start_time": "2023-05-31T14:15:16.980Z"
   },
   {
    "duration": 8,
    "start_time": "2023-05-31T14:15:17.106Z"
   },
   {
    "duration": 170,
    "start_time": "2023-05-31T14:15:17.115Z"
   },
   {
    "duration": 8,
    "start_time": "2023-05-31T14:15:17.287Z"
   },
   {
    "duration": 34,
    "start_time": "2023-05-31T14:15:17.296Z"
   },
   {
    "duration": 18,
    "start_time": "2023-05-31T14:15:17.332Z"
   },
   {
    "duration": 11,
    "start_time": "2023-05-31T14:15:17.352Z"
   },
   {
    "duration": 54,
    "start_time": "2023-05-31T14:15:17.364Z"
   },
   {
    "duration": 21,
    "start_time": "2023-05-31T14:15:17.419Z"
   },
   {
    "duration": 330,
    "start_time": "2023-05-31T14:15:17.442Z"
   },
   {
    "duration": 259,
    "start_time": "2023-05-31T14:15:17.776Z"
   },
   {
    "duration": 19,
    "start_time": "2023-05-31T14:15:18.038Z"
   },
   {
    "duration": 47,
    "start_time": "2023-05-31T14:15:18.059Z"
   },
   {
    "duration": 25,
    "start_time": "2023-05-31T14:15:18.108Z"
   },
   {
    "duration": 19,
    "start_time": "2023-05-31T14:15:18.134Z"
   },
   {
    "duration": 25,
    "start_time": "2023-05-31T14:15:18.156Z"
   },
   {
    "duration": 28,
    "start_time": "2023-05-31T14:15:18.182Z"
   },
   {
    "duration": 22,
    "start_time": "2023-05-31T14:15:18.212Z"
   },
   {
    "duration": 33,
    "start_time": "2023-05-31T14:15:18.235Z"
   },
   {
    "duration": 50,
    "start_time": "2023-05-31T14:15:18.269Z"
   },
   {
    "duration": 20,
    "start_time": "2023-05-31T14:15:18.321Z"
   },
   {
    "duration": 26,
    "start_time": "2023-05-31T14:15:18.342Z"
   },
   {
    "duration": 39,
    "start_time": "2023-05-31T14:15:18.370Z"
   },
   {
    "duration": 1570,
    "start_time": "2023-05-31T14:15:18.411Z"
   },
   {
    "duration": 201,
    "start_time": "2023-05-31T14:15:19.983Z"
   }
  ],
  "kernelspec": {
   "display_name": "Python 3 (ipykernel)",
   "language": "python",
   "name": "python3"
  },
  "language_info": {
   "codemirror_mode": {
    "name": "ipython",
    "version": 3
   },
   "file_extension": ".py",
   "mimetype": "text/x-python",
   "name": "python",
   "nbconvert_exporter": "python",
   "pygments_lexer": "ipython3",
   "version": "3.9.5"
  },
  "toc": {
   "base_numbering": 1,
   "nav_menu": {},
   "number_sections": true,
   "sideBar": true,
   "skip_h1_title": true,
   "title_cell": "Table of Contents",
   "title_sidebar": "Contents",
   "toc_cell": false,
   "toc_position": {
    "height": "calc(100% - 180px)",
    "left": "10px",
    "top": "150px",
    "width": "165px"
   },
   "toc_section_display": true,
   "toc_window_display": true
  }
 },
 "nbformat": 4,
 "nbformat_minor": 5
}
