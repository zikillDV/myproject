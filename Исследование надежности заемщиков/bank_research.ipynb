{
 "cells": [
  {
   "cell_type": "markdown",
   "id": "4f11de00",
   "metadata": {
    "deletable": false,
    "editable": false,
    "id": "4f11de00"
   },
   "source": [
    "# Исследование надежности заемщиков"
   ]
  },
  {
   "cell_type": "markdown",
   "id": "516620ee",
   "metadata": {
    "deletable": false,
    "editable": false,
    "id": "516620ee"
   },
   "source": [
    "## Откройте таблицу и изучите общую информацию о данных"
   ]
  },
  {
   "cell_type": "markdown",
   "id": "76a8a9ce",
   "metadata": {
    "deletable": false,
    "editable": false,
    "id": "76a8a9ce",
    "tags": [
     "start_task"
    ]
   },
   "source": [
    "**Задание 1. Импортируйте библиотеку pandas. Считайте данные из csv-файла в датафрейм и сохраните в переменную `data`. Путь к файлу:**\n",
    "\n",
    "`/datasets/data.csv`"
   ]
  },
  {
   "cell_type": "code",
   "execution_count": 65,
   "id": "fab207d0",
   "metadata": {
    "id": "fab207d0"
   },
   "outputs": [],
   "source": [
    "import pandas as pd # импортируйте библиотеку pandas"
   ]
  },
  {
   "cell_type": "code",
   "execution_count": 66,
   "id": "6c82b607",
   "metadata": {
    "id": "6c82b607"
   },
   "outputs": [],
   "source": [
    "data = pd.read_csv('/datasets/data.csv')# прочитайте csv-файл"
   ]
  },
  {
   "cell_type": "markdown",
   "id": "08bbb5b3",
   "metadata": {
    "deletable": false,
    "editable": false,
    "id": "08bbb5b3",
    "tags": [
     "start_task"
    ]
   },
   "source": [
    "**Задание 2. Выведите первые 20 строчек датафрейма `data` на экран.**"
   ]
  },
  {
   "cell_type": "code",
   "execution_count": 67,
   "id": "4ff33b36",
   "metadata": {
    "id": "4ff33b36"
   },
   "outputs": [
    {
     "name": "stdout",
     "output_type": "stream",
     "text": [
      "    children  days_employed  dob_years            education  education_id  \\\n",
      "0          1   -8437.673028         42               высшее             0   \n",
      "1          1   -4024.803754         36              среднее             1   \n",
      "2          0   -5623.422610         33              Среднее             1   \n",
      "3          3   -4124.747207         32              среднее             1   \n",
      "4          0  340266.072047         53              среднее             1   \n",
      "5          0    -926.185831         27               высшее             0   \n",
      "6          0   -2879.202052         43               высшее             0   \n",
      "7          0    -152.779569         50              СРЕДНЕЕ             1   \n",
      "8          2   -6929.865299         35               ВЫСШЕЕ             0   \n",
      "9          0   -2188.756445         41              среднее             1   \n",
      "10         2   -4171.483647         36               высшее             0   \n",
      "11         0    -792.701887         40              среднее             1   \n",
      "12         0            NaN         65              среднее             1   \n",
      "13         0   -1846.641941         54  неоконченное высшее             2   \n",
      "14         0   -1844.956182         56               высшее             0   \n",
      "15         1    -972.364419         26              среднее             1   \n",
      "16         0   -1719.934226         35              среднее             1   \n",
      "17         0   -2369.999720         33               высшее             0   \n",
      "18         0  400281.136913         53              среднее             1   \n",
      "19         0  -10038.818549         48              СРЕДНЕЕ             1   \n",
      "\n",
      "       family_status  family_status_id gender income_type  debt  \\\n",
      "0    женат / замужем                 0      F   сотрудник     0   \n",
      "1    женат / замужем                 0      F   сотрудник     0   \n",
      "2    женат / замужем                 0      M   сотрудник     0   \n",
      "3    женат / замужем                 0      M   сотрудник     0   \n",
      "4   гражданский брак                 1      F   пенсионер     0   \n",
      "5   гражданский брак                 1      M   компаньон     0   \n",
      "6    женат / замужем                 0      F   компаньон     0   \n",
      "7    женат / замужем                 0      M   сотрудник     0   \n",
      "8   гражданский брак                 1      F   сотрудник     0   \n",
      "9    женат / замужем                 0      M   сотрудник     0   \n",
      "10   женат / замужем                 0      M   компаньон     0   \n",
      "11   женат / замужем                 0      F   сотрудник     0   \n",
      "12  гражданский брак                 1      M   пенсионер     0   \n",
      "13   женат / замужем                 0      F   сотрудник     0   \n",
      "14  гражданский брак                 1      F   компаньон     1   \n",
      "15   женат / замужем                 0      F   сотрудник     0   \n",
      "16   женат / замужем                 0      F   сотрудник     0   \n",
      "17  гражданский брак                 1      M   сотрудник     0   \n",
      "18    вдовец / вдова                 2      F   пенсионер     0   \n",
      "19         в разводе                 3      F   сотрудник     0   \n",
      "\n",
      "     total_income                                 purpose  \n",
      "0   253875.639453                           покупка жилья  \n",
      "1   112080.014102                 приобретение автомобиля  \n",
      "2   145885.952297                           покупка жилья  \n",
      "3   267628.550329              дополнительное образование  \n",
      "4   158616.077870                         сыграть свадьбу  \n",
      "5   255763.565419                           покупка жилья  \n",
      "6   240525.971920                       операции с жильем  \n",
      "7   135823.934197                             образование  \n",
      "8    95856.832424                   на проведение свадьбы  \n",
      "9   144425.938277                 покупка жилья для семьи  \n",
      "10  113943.491460                    покупка недвижимости  \n",
      "11   77069.234271       покупка коммерческой недвижимости  \n",
      "12            NaN                         сыграть свадьбу  \n",
      "13  130458.228857                 приобретение автомобиля  \n",
      "14  165127.911772              покупка жилой недвижимости  \n",
      "15  116820.904450  строительство собственной недвижимости  \n",
      "16  289202.704229                            недвижимость  \n",
      "17   90410.586745              строительство недвижимости  \n",
      "18   56823.777243      на покупку подержанного автомобиля  \n",
      "19  242831.107982            на покупку своего автомобиля  \n"
     ]
    }
   ],
   "source": [
    "print(data.head(20))# ваш код здесь"
   ]
  },
  {
   "cell_type": "markdown",
   "id": "c8f382ae",
   "metadata": {
    "deletable": false,
    "editable": false,
    "id": "c8f382ae",
    "tags": [
     "start_task"
    ]
   },
   "source": [
    "**Задание 3. Выведите основную информацию о датафрейме с помощью метода `info()`.**"
   ]
  },
  {
   "cell_type": "code",
   "execution_count": 68,
   "id": "e1ed9908",
   "metadata": {
    "id": "e1ed9908"
   },
   "outputs": [
    {
     "name": "stdout",
     "output_type": "stream",
     "text": [
      "<class 'pandas.core.frame.DataFrame'>\n",
      "RangeIndex: 21525 entries, 0 to 21524\n",
      "Data columns (total 12 columns):\n",
      " #   Column            Non-Null Count  Dtype  \n",
      "---  ------            --------------  -----  \n",
      " 0   children          21525 non-null  int64  \n",
      " 1   days_employed     19351 non-null  float64\n",
      " 2   dob_years         21525 non-null  int64  \n",
      " 3   education         21525 non-null  object \n",
      " 4   education_id      21525 non-null  int64  \n",
      " 5   family_status     21525 non-null  object \n",
      " 6   family_status_id  21525 non-null  int64  \n",
      " 7   gender            21525 non-null  object \n",
      " 8   income_type       21525 non-null  object \n",
      " 9   debt              21525 non-null  int64  \n",
      " 10  total_income      19351 non-null  float64\n",
      " 11  purpose           21525 non-null  object \n",
      "dtypes: float64(2), int64(5), object(5)\n",
      "memory usage: 2.0+ MB\n"
     ]
    }
   ],
   "source": [
    "data.info()# ваш код здесь"
   ]
  },
  {
   "cell_type": "markdown",
   "id": "f969a1cd",
   "metadata": {
    "deletable": false,
    "editable": false,
    "id": "f969a1cd"
   },
   "source": [
    "## Предобработка данных"
   ]
  },
  {
   "cell_type": "markdown",
   "id": "7283e864",
   "metadata": {
    "deletable": false,
    "editable": false,
    "id": "7283e864"
   },
   "source": [
    "### Удаление пропусков"
   ]
  },
  {
   "cell_type": "markdown",
   "id": "c9a0745e",
   "metadata": {
    "deletable": false,
    "editable": false,
    "id": "c9a0745e",
    "tags": [
     "start_task"
    ]
   },
   "source": [
    "**Задание 4. Выведите количество пропущенных значений для каждого столбца. Используйте комбинацию двух методов.**"
   ]
  },
  {
   "cell_type": "code",
   "execution_count": 69,
   "id": "b7a096e1",
   "metadata": {
    "id": "b7a096e1"
   },
   "outputs": [
    {
     "name": "stdout",
     "output_type": "stream",
     "text": [
      "children               0\n",
      "days_employed       2174\n",
      "dob_years              0\n",
      "education              0\n",
      "education_id           0\n",
      "family_status          0\n",
      "family_status_id       0\n",
      "gender                 0\n",
      "income_type            0\n",
      "debt                   0\n",
      "total_income        2174\n",
      "purpose                0\n",
      "dtype: int64\n"
     ]
    }
   ],
   "source": [
    "print(data.isnull().sum())# ваш код здесь"
   ]
  },
  {
   "cell_type": "markdown",
   "id": "c2578616",
   "metadata": {
    "deletable": false,
    "editable": false,
    "id": "c2578616",
    "tags": [
     "start_task"
    ]
   },
   "source": [
    "**Задание 5. В двух столбцах есть пропущенные значения. Один из них — `days_employed`. Пропуски в этом столбце вы обработаете на следующем этапе. Другой столбец с пропущенными значениями — `total_income` — хранит данные о доходах. На сумму дохода сильнее всего влияет тип занятости, поэтому заполнить пропуски в этом столбце нужно медианным значением по каждому типу из столбца `income_type`. Например, у человека с типом занятости `сотрудник` пропуск в столбце `total_income` должен быть заполнен медианным доходом среди всех записей с тем же типом.**"
   ]
  },
  {
   "cell_type": "code",
   "execution_count": 70,
   "id": "e8afc4bc",
   "metadata": {
    "id": "e8afc4bc"
   },
   "outputs": [],
   "source": [
    "data['total_income'] = data['total_income'].fillna(data.groupby('income_type')['total_income'].transform('median'))# ваш код здесь"
   ]
  },
  {
   "cell_type": "markdown",
   "id": "ae986d46",
   "metadata": {
    "deletable": false,
    "editable": false,
    "id": "ae986d46"
   },
   "source": [
    "### Обработка аномальных значений"
   ]
  },
  {
   "cell_type": "markdown",
   "id": "b049cbae",
   "metadata": {
    "deletable": false,
    "editable": false,
    "id": "b049cbae",
    "tags": [
     "start_task"
    ]
   },
   "source": [
    "**Задание 6. В данных могут встречаться артефакты (аномалии) — значения, которые не отражают действительность и появились по какой-то ошибке. Таким артефактом будет отрицательное количество дней трудового стажа в столбце `days_employed`. Для реальных данных это нормально. Обработайте значения в этом столбце: замените все отрицательные значения положительными с помощью метода `abs()`.**"
   ]
  },
  {
   "cell_type": "code",
   "execution_count": 71,
   "id": "187779b0",
   "metadata": {
    "id": "187779b0"
   },
   "outputs": [],
   "source": [
    "data['days_employed'] = abs(data['days_employed'])# ваш код здесь"
   ]
  },
  {
   "cell_type": "markdown",
   "id": "a13054c2",
   "metadata": {
    "deletable": false,
    "editable": false,
    "id": "a13054c2",
    "tags": [
     "start_task"
    ]
   },
   "source": [
    "**Задание 7. Для каждого типа занятости выведите медианное значение трудового стажа `days_employed` в днях.**"
   ]
  },
  {
   "cell_type": "code",
   "execution_count": 72,
   "id": "f3f5810c",
   "metadata": {
    "id": "f3f5810c"
   },
   "outputs": [
    {
     "name": "stdout",
     "output_type": "stream",
     "text": [
      "income_type\n",
      "безработный        366413.652744\n",
      "в декрете            3296.759962\n",
      "госслужащий          2689.368353\n",
      "компаньон            1547.382223\n",
      "пенсионер          365213.306266\n",
      "предприниматель       520.848083\n",
      "сотрудник            1574.202821\n",
      "студент               578.751554\n",
      "Name: days_employed, dtype: float64\n"
     ]
    }
   ],
   "source": [
    "print(data.groupby('income_type')['days_employed'].median())# ваш код здесь"
   ]
  },
  {
   "cell_type": "markdown",
   "id": "dbc3168c",
   "metadata": {
    "deletable": false,
    "editable": false,
    "id": "dbc3168c"
   },
   "source": [
    "У двух типов (безработные и пенсионеры) получатся аномально большие значения. Исправить такие значения сложно, поэтому оставьте их как есть."
   ]
  },
  {
   "cell_type": "markdown",
   "id": "ff4378c2",
   "metadata": {
    "deletable": false,
    "editable": false,
    "id": "ff4378c2",
    "tags": [
     "start_task"
    ]
   },
   "source": [
    "**Задание 8. Выведите перечень уникальных значений столбца `children`.**"
   ]
  },
  {
   "cell_type": "code",
   "execution_count": 73,
   "id": "9bd0c232",
   "metadata": {
    "id": "9bd0c232"
   },
   "outputs": [
    {
     "name": "stdout",
     "output_type": "stream",
     "text": [
      "[ 1  0  3  2 -1  4 20  5]\n"
     ]
    }
   ],
   "source": [
    "print(data.children.unique())# ваш код здесь"
   ]
  },
  {
   "cell_type": "markdown",
   "id": "8e911990",
   "metadata": {
    "deletable": false,
    "editable": false,
    "id": "8e911990",
    "tags": [
     "start_task"
    ]
   },
   "source": [
    "**Задание 9. В столбце `children` есть два аномальных значения. Удалите строки, в которых встречаются такие аномальные значения из датафрейма `data`.**"
   ]
  },
  {
   "cell_type": "code",
   "execution_count": 74,
   "id": "6d5ba289",
   "metadata": {
    "id": "6d5ba289"
   },
   "outputs": [],
   "source": [
    "data = data[(data.children >= 0) & (data.children != 20)]# ваш код здесь"
   ]
  },
  {
   "cell_type": "markdown",
   "id": "18d77455",
   "metadata": {
    "deletable": false,
    "editable": false,
    "id": "18d77455",
    "tags": [
     "start_task"
    ]
   },
   "source": [
    "**Задание 10. Ещё раз выведите перечень уникальных значений столбца `children`, чтобы убедиться, что артефакты удалены.**"
   ]
  },
  {
   "cell_type": "code",
   "execution_count": 75,
   "id": "2c5fa92c",
   "metadata": {
    "id": "2c5fa92c"
   },
   "outputs": [
    {
     "name": "stdout",
     "output_type": "stream",
     "text": [
      "[1 0 3 2 4 5]\n"
     ]
    }
   ],
   "source": [
    "print(data.children.unique())# ваш код здесь"
   ]
  },
  {
   "cell_type": "markdown",
   "id": "0ec07dee",
   "metadata": {
    "deletable": false,
    "editable": false,
    "id": "0ec07dee"
   },
   "source": [
    "### Удаление пропусков (продолжение)"
   ]
  },
  {
   "cell_type": "markdown",
   "id": "0fc3ae3f",
   "metadata": {
    "deletable": false,
    "editable": false,
    "id": "0fc3ae3f",
    "tags": [
     "start_task"
    ]
   },
   "source": [
    "**Задание 11. Заполните пропуски в столбце `days_employed` медианными значениями по каждому типу занятости `income_type`.**"
   ]
  },
  {
   "cell_type": "code",
   "execution_count": 76,
   "id": "e2aea7ac",
   "metadata": {
    "id": "e2aea7ac"
   },
   "outputs": [
    {
     "name": "stdout",
     "output_type": "stream",
     "text": [
      "    children  days_employed  dob_years            education  education_id  \\\n",
      "0          1    8437.673028         42               высшее             0   \n",
      "1          1    4024.803754         36              среднее             1   \n",
      "2          0    5623.422610         33              Среднее             1   \n",
      "3          3    4124.747207         32              среднее             1   \n",
      "4          0  340266.072047         53              среднее             1   \n",
      "5          0     926.185831         27               высшее             0   \n",
      "6          0    2879.202052         43               высшее             0   \n",
      "7          0     152.779569         50              СРЕДНЕЕ             1   \n",
      "8          2    6929.865299         35               ВЫСШЕЕ             0   \n",
      "9          0    2188.756445         41              среднее             1   \n",
      "10         2    4171.483647         36               высшее             0   \n",
      "11         0     792.701887         40              среднее             1   \n",
      "12         0  365286.622650         65              среднее             1   \n",
      "13         0    1846.641941         54  неоконченное высшее             2   \n",
      "14         0    1844.956182         56               высшее             0   \n",
      "15         1     972.364419         26              среднее             1   \n",
      "16         0    1719.934226         35              среднее             1   \n",
      "17         0    2369.999720         33               высшее             0   \n",
      "18         0  400281.136913         53              среднее             1   \n",
      "19         0   10038.818549         48              СРЕДНЕЕ             1   \n",
      "\n",
      "       family_status  family_status_id gender income_type  debt  \\\n",
      "0    женат / замужем                 0      F   сотрудник     0   \n",
      "1    женат / замужем                 0      F   сотрудник     0   \n",
      "2    женат / замужем                 0      M   сотрудник     0   \n",
      "3    женат / замужем                 0      M   сотрудник     0   \n",
      "4   гражданский брак                 1      F   пенсионер     0   \n",
      "5   гражданский брак                 1      M   компаньон     0   \n",
      "6    женат / замужем                 0      F   компаньон     0   \n",
      "7    женат / замужем                 0      M   сотрудник     0   \n",
      "8   гражданский брак                 1      F   сотрудник     0   \n",
      "9    женат / замужем                 0      M   сотрудник     0   \n",
      "10   женат / замужем                 0      M   компаньон     0   \n",
      "11   женат / замужем                 0      F   сотрудник     0   \n",
      "12  гражданский брак                 1      M   пенсионер     0   \n",
      "13   женат / замужем                 0      F   сотрудник     0   \n",
      "14  гражданский брак                 1      F   компаньон     1   \n",
      "15   женат / замужем                 0      F   сотрудник     0   \n",
      "16   женат / замужем                 0      F   сотрудник     0   \n",
      "17  гражданский брак                 1      M   сотрудник     0   \n",
      "18    вдовец / вдова                 2      F   пенсионер     0   \n",
      "19         в разводе                 3      F   сотрудник     0   \n",
      "\n",
      "     total_income                                 purpose  \n",
      "0   253875.639453                           покупка жилья  \n",
      "1   112080.014102                 приобретение автомобиля  \n",
      "2   145885.952297                           покупка жилья  \n",
      "3   267628.550329              дополнительное образование  \n",
      "4   158616.077870                         сыграть свадьбу  \n",
      "5   255763.565419                           покупка жилья  \n",
      "6   240525.971920                       операции с жильем  \n",
      "7   135823.934197                             образование  \n",
      "8    95856.832424                   на проведение свадьбы  \n",
      "9   144425.938277                 покупка жилья для семьи  \n",
      "10  113943.491460                    покупка недвижимости  \n",
      "11   77069.234271       покупка коммерческой недвижимости  \n",
      "12  118514.486412                         сыграть свадьбу  \n",
      "13  130458.228857                 приобретение автомобиля  \n",
      "14  165127.911772              покупка жилой недвижимости  \n",
      "15  116820.904450  строительство собственной недвижимости  \n",
      "16  289202.704229                            недвижимость  \n",
      "17   90410.586745              строительство недвижимости  \n",
      "18   56823.777243      на покупку подержанного автомобиля  \n",
      "19  242831.107982            на покупку своего автомобиля  \n"
     ]
    }
   ],
   "source": [
    "data['days_employed'] = data['days_employed'].fillna(data.groupby('income_type')['days_employed'].transform('median'))\n",
    "print(data.head(20))# ваш код здесь"
   ]
  },
  {
   "cell_type": "markdown",
   "id": "97b0b795",
   "metadata": {
    "deletable": false,
    "editable": false,
    "id": "97b0b795",
    "tags": [
     "start_task"
    ]
   },
   "source": [
    "**Задание 12. Убедитесь, что все пропуски заполнены. Проверьте себя и ещё раз выведите количество пропущенных значений для каждого столбца с помощью двух методов.**"
   ]
  },
  {
   "cell_type": "code",
   "execution_count": 77,
   "id": "79632a21",
   "metadata": {
    "id": "79632a21"
   },
   "outputs": [
    {
     "name": "stdout",
     "output_type": "stream",
     "text": [
      "<class 'pandas.core.frame.DataFrame'>\n",
      "Int64Index: 21402 entries, 0 to 21524\n",
      "Data columns (total 12 columns):\n",
      " #   Column            Non-Null Count  Dtype  \n",
      "---  ------            --------------  -----  \n",
      " 0   children          21402 non-null  int64  \n",
      " 1   days_employed     21402 non-null  float64\n",
      " 2   dob_years         21402 non-null  int64  \n",
      " 3   education         21402 non-null  object \n",
      " 4   education_id      21402 non-null  int64  \n",
      " 5   family_status     21402 non-null  object \n",
      " 6   family_status_id  21402 non-null  int64  \n",
      " 7   gender            21402 non-null  object \n",
      " 8   income_type       21402 non-null  object \n",
      " 9   debt              21402 non-null  int64  \n",
      " 10  total_income      21402 non-null  float64\n",
      " 11  purpose           21402 non-null  object \n",
      "dtypes: float64(2), int64(5), object(5)\n",
      "memory usage: 2.1+ MB\n",
      "None\n",
      "children            0\n",
      "days_employed       0\n",
      "dob_years           0\n",
      "education           0\n",
      "education_id        0\n",
      "family_status       0\n",
      "family_status_id    0\n",
      "gender              0\n",
      "income_type         0\n",
      "debt                0\n",
      "total_income        0\n",
      "purpose             0\n",
      "dtype: int64\n"
     ]
    }
   ],
   "source": [
    "print(data.info())\n",
    "print(data.isnull().sum())# ваш код здесь"
   ]
  },
  {
   "cell_type": "markdown",
   "id": "bd4aeb20",
   "metadata": {
    "deletable": false,
    "editable": false,
    "id": "bd4aeb20"
   },
   "source": [
    "### Изменение типов данных"
   ]
  },
  {
   "cell_type": "markdown",
   "id": "963bfa58",
   "metadata": {
    "deletable": false,
    "editable": false,
    "id": "963bfa58",
    "tags": [
     "start_task"
    ]
   },
   "source": [
    "**Задание 13. Замените вещественный тип данных в столбце `total_income` на целочисленный с помощью метода `astype()`.**"
   ]
  },
  {
   "cell_type": "code",
   "execution_count": 78,
   "id": "73da6ea0",
   "metadata": {
    "id": "73da6ea0"
   },
   "outputs": [],
   "source": [
    "data['total_income'] = data['total_income'].astype(int)# ваш код здесь"
   ]
  },
  {
   "cell_type": "markdown",
   "id": "d290239e",
   "metadata": {
    "deletable": false,
    "editable": false,
    "id": "d290239e"
   },
   "source": [
    "### Обработка дубликатов"
   ]
  },
  {
   "cell_type": "markdown",
   "id": "1b5844fd",
   "metadata": {
    "deletable": false,
    "editable": false,
    "id": "1b5844fd",
    "tags": [
     "start_task"
    ]
   },
   "source": [
    "**Задание 14. Обработайте неявные дубликаты в столбце `education`. В этом столбце есть одни и те же значения, но записанные по-разному: с использованием заглавных и строчных букв. Приведите их к нижнему регистру.**"
   ]
  },
  {
   "cell_type": "code",
   "execution_count": 87,
   "id": "3f2504b3",
   "metadata": {
    "id": "3f2504b3"
   },
   "outputs": [],
   "source": [
    "data['education'] = data.education.str.lower()# ваш код здесь"
   ]
  },
  {
   "cell_type": "markdown",
   "id": "4c22acbc",
   "metadata": {
    "deletable": false,
    "editable": false,
    "id": "4c22acbc",
    "tags": [
     "start_task"
    ]
   },
   "source": [
    "**Задание 15. Выведите на экран количество строк-дубликатов в данных. Если такие строки присутствуют, удалите их.**"
   ]
  },
  {
   "cell_type": "code",
   "execution_count": 88,
   "id": "d34a4325",
   "metadata": {
    "id": "d34a4325"
   },
   "outputs": [
    {
     "name": "stdout",
     "output_type": "stream",
     "text": [
      "71\n"
     ]
    }
   ],
   "source": [
    "print(data.duplicated().sum())# посчитайте дубликаты"
   ]
  },
  {
   "cell_type": "code",
   "execution_count": 90,
   "id": "6e1a6499",
   "metadata": {
    "id": "6e1a6499"
   },
   "outputs": [],
   "source": [
    "data = data.drop_duplicates()# удалите дубликаты"
   ]
  },
  {
   "cell_type": "markdown",
   "id": "e5686ccc",
   "metadata": {
    "deletable": false,
    "editable": false,
    "id": "e5686ccc"
   },
   "source": [
    "### Категоризация данных"
   ]
  },
  {
   "cell_type": "markdown",
   "id": "636e9acd",
   "metadata": {
    "deletable": false,
    "editable": false,
    "id": "636e9acd",
    "tags": [
     "start_task"
    ]
   },
   "source": [
    "**Задание 16. На основании диапазонов, указанных ниже, создайте в датафрейме `data` столбец `total_income_category` с категориями:**\n",
    "\n",
    "- 0–30000 — `'E'`;\n",
    "- 30001–50000 — `'D'`;\n",
    "- 50001–200000 — `'C'`;\n",
    "- 200001–1000000 — `'B'`;\n",
    "- 1000001 и выше — `'A'`.\n",
    "\n",
    "\n",
    "**Например, кредитополучателю с доходом 25000 нужно назначить категорию `'E'`, а клиенту, получающему 235000, — `'B'`. Используйте собственную функцию с именем `categorize_income()` и метод `apply()`.**"
   ]
  },
  {
   "cell_type": "code",
   "execution_count": 96,
   "id": "880a77e5",
   "metadata": {
    "id": "880a77e5"
   },
   "outputs": [],
   "source": [
    "def categorize_income(row):\n",
    "    if row <= 30000:\n",
    "        return 'E'\n",
    "    if row <= 50000:\n",
    "        return 'D'\n",
    "    if row <= 200000:\n",
    "        return 'C'\n",
    "    if row <= 1000000:\n",
    "        return 'B'\n",
    "    return 'A'\n",
    "# создайте функцию categorize_income()"
   ]
  },
  {
   "cell_type": "code",
   "execution_count": 97,
   "id": "6f25f161",
   "metadata": {
    "id": "6f25f161"
   },
   "outputs": [],
   "source": [
    "data['total_income_category'] = data['total_income'].apply(categorize_income)# примените функцию методом apply()"
   ]
  },
  {
   "cell_type": "markdown",
   "id": "3363b685",
   "metadata": {
    "deletable": false,
    "editable": false,
    "id": "3363b685",
    "tags": [
     "start_task"
    ]
   },
   "source": [
    "**Задание 17. Выведите на экран перечень уникальных целей взятия кредита из столбца `purpose`.**"
   ]
  },
  {
   "cell_type": "code",
   "execution_count": 98,
   "id": "e59f2c15",
   "metadata": {
    "id": "e59f2c15"
   },
   "outputs": [
    {
     "name": "stdout",
     "output_type": "stream",
     "text": [
      "['покупка жилья' 'приобретение автомобиля' 'дополнительное образование'\n",
      " 'сыграть свадьбу' 'операции с жильем' 'образование'\n",
      " 'на проведение свадьбы' 'покупка жилья для семьи' 'покупка недвижимости'\n",
      " 'покупка коммерческой недвижимости' 'покупка жилой недвижимости'\n",
      " 'строительство собственной недвижимости' 'недвижимость'\n",
      " 'строительство недвижимости' 'на покупку подержанного автомобиля'\n",
      " 'на покупку своего автомобиля' 'операции с коммерческой недвижимостью'\n",
      " 'строительство жилой недвижимости' 'жилье'\n",
      " 'операции со своей недвижимостью' 'автомобили' 'заняться образованием'\n",
      " 'сделка с подержанным автомобилем' 'получение образования' 'автомобиль'\n",
      " 'свадьба' 'получение дополнительного образования' 'покупка своего жилья'\n",
      " 'операции с недвижимостью' 'получение высшего образования'\n",
      " 'свой автомобиль' 'сделка с автомобилем' 'профильное образование'\n",
      " 'высшее образование' 'покупка жилья для сдачи' 'на покупку автомобиля'\n",
      " 'ремонт жилью' 'заняться высшим образованием']\n"
     ]
    }
   ],
   "source": [
    "print(data.purpose.unique())# ваш код здесь"
   ]
  },
  {
   "cell_type": "markdown",
   "id": "bb33e847",
   "metadata": {
    "deletable": false,
    "editable": false,
    "id": "bb33e847",
    "tags": [
     "start_task"
    ]
   },
   "source": [
    "**Задание 18. Создайте функцию, которая на основании данных из столбца `purpose` сформирует новый столбец `purpose_category`, в который войдут следующие категории:**\n",
    "\n",
    "- `'операции с автомобилем'`,\n",
    "- `'операции с недвижимостью'`,\n",
    "- `'проведение свадьбы'`,\n",
    "- `'получение образования'`.\n",
    "\n",
    "**Например, если в столбце `purpose` находится подстрока `'на покупку автомобиля'`, то в столбце `purpose_category` должна появиться строка `'операции с автомобилем'`.**\n",
    "\n",
    "**Используйте собственную функцию с именем `categorize_purpose()` и метод `apply()`. Изучите данные в столбце `purpose` и определите, какие подстроки помогут вам правильно определить категорию.**"
   ]
  },
  {
   "cell_type": "code",
   "execution_count": 104,
   "id": "63909b83",
   "metadata": {
    "id": "63909b83"
   },
   "outputs": [],
   "source": [
    "def categorize_purpose(purpose):\n",
    "    if 'авт' in purpose:\n",
    "        return 'операции с автомобилем'\n",
    "    if 'недв' in purpose or 'жил' in purpose:\n",
    "        return 'операции с недвижимостью'\n",
    "    if 'свад' in purpose:\n",
    "        return 'проведение свадьбы'\n",
    "    if 'образ' in purpose:\n",
    "        return 'получение образования'\n",
    "    # создайте функцию categorize_purpose()"
   ]
  },
  {
   "cell_type": "code",
   "execution_count": 105,
   "id": "7cb4a81d",
   "metadata": {
    "id": "7cb4a81d"
   },
   "outputs": [],
   "source": [
    "data['purpose_category'] = data['purpose'].apply(categorize_purpose)# примените функцию методом apply()"
   ]
  }
 ],
 "metadata": {
  "ExecuteTimeLog": [
   {
    "duration": 44,
    "start_time": "2023-03-01T21:49:20.582Z"
   },
   {
    "duration": 398,
    "start_time": "2023-03-01T21:49:55.008Z"
   },
   {
    "duration": 404,
    "start_time": "2023-03-01T21:49:55.408Z"
   },
   {
    "duration": 2,
    "start_time": "2023-03-01T21:49:55.814Z"
   },
   {
    "duration": 5,
    "start_time": "2023-03-01T21:49:55.817Z"
   },
   {
    "duration": 6,
    "start_time": "2023-03-01T21:49:55.824Z"
   },
   {
    "duration": 5,
    "start_time": "2023-03-01T21:49:55.832Z"
   },
   {
    "duration": 5,
    "start_time": "2023-03-01T21:49:55.838Z"
   },
   {
    "duration": 24,
    "start_time": "2023-03-01T21:49:55.844Z"
   },
   {
    "duration": 11,
    "start_time": "2023-03-01T21:49:55.870Z"
   },
   {
    "duration": 5,
    "start_time": "2023-03-01T21:49:55.882Z"
   },
   {
    "duration": 6,
    "start_time": "2023-03-01T21:49:55.889Z"
   },
   {
    "duration": 6,
    "start_time": "2023-03-01T21:49:55.896Z"
   },
   {
    "duration": 5,
    "start_time": "2023-03-01T21:49:55.903Z"
   },
   {
    "duration": 6,
    "start_time": "2023-03-01T21:49:55.911Z"
   },
   {
    "duration": 6,
    "start_time": "2023-03-01T21:49:55.918Z"
   },
   {
    "duration": 8,
    "start_time": "2023-03-01T21:49:55.926Z"
   },
   {
    "duration": 4,
    "start_time": "2023-03-01T21:49:55.936Z"
   },
   {
    "duration": 5,
    "start_time": "2023-03-01T21:49:55.941Z"
   },
   {
    "duration": 28,
    "start_time": "2023-03-01T21:49:55.950Z"
   },
   {
    "duration": 7,
    "start_time": "2023-03-01T21:49:55.979Z"
   },
   {
    "duration": 7,
    "start_time": "2023-03-01T21:49:55.987Z"
   },
   {
    "duration": 19,
    "start_time": "2023-03-01T21:49:55.996Z"
   },
   {
    "duration": 3,
    "start_time": "2023-03-01T21:50:05.395Z"
   },
   {
    "duration": 76,
    "start_time": "2023-03-01T21:50:06.365Z"
   },
   {
    "duration": 76,
    "start_time": "2023-03-01T21:50:11.829Z"
   },
   {
    "duration": 9,
    "start_time": "2023-03-01T21:50:33.799Z"
   },
   {
    "duration": 13,
    "start_time": "2023-03-01T21:53:10.886Z"
   },
   {
    "duration": 27,
    "start_time": "2023-03-01T21:59:21.742Z"
   },
   {
    "duration": 16,
    "start_time": "2023-03-01T22:00:04.361Z"
   },
   {
    "duration": 66,
    "start_time": "2023-03-01T22:05:21.025Z"
   },
   {
    "duration": 7,
    "start_time": "2023-03-01T22:05:27.874Z"
   },
   {
    "duration": 7,
    "start_time": "2023-03-01T22:05:36.939Z"
   },
   {
    "duration": 9,
    "start_time": "2023-03-01T22:11:49.770Z"
   },
   {
    "duration": 47,
    "start_time": "2023-03-01T22:17:24.381Z"
   },
   {
    "duration": 49,
    "start_time": "2023-03-02T18:52:37.075Z"
   },
   {
    "duration": 406,
    "start_time": "2023-03-02T18:52:52.656Z"
   },
   {
    "duration": 123,
    "start_time": "2023-03-02T18:52:53.064Z"
   },
   {
    "duration": 10,
    "start_time": "2023-03-02T18:52:53.188Z"
   },
   {
    "duration": 15,
    "start_time": "2023-03-02T18:52:53.199Z"
   },
   {
    "duration": 8,
    "start_time": "2023-03-02T18:52:53.216Z"
   },
   {
    "duration": 7,
    "start_time": "2023-03-02T18:52:53.225Z"
   },
   {
    "duration": 2,
    "start_time": "2023-03-02T18:52:53.233Z"
   },
   {
    "duration": 19,
    "start_time": "2023-03-02T18:52:53.236Z"
   },
   {
    "duration": 2,
    "start_time": "2023-03-02T18:52:53.257Z"
   },
   {
    "duration": 5,
    "start_time": "2023-03-02T18:52:53.260Z"
   },
   {
    "duration": 7,
    "start_time": "2023-03-02T18:52:53.266Z"
   },
   {
    "duration": 3,
    "start_time": "2023-03-02T18:52:53.274Z"
   },
   {
    "duration": 3,
    "start_time": "2023-03-02T18:52:53.278Z"
   },
   {
    "duration": 15,
    "start_time": "2023-03-02T18:52:53.283Z"
   },
   {
    "duration": 11,
    "start_time": "2023-03-02T18:52:53.299Z"
   },
   {
    "duration": 5,
    "start_time": "2023-03-02T18:52:53.311Z"
   },
   {
    "duration": 4,
    "start_time": "2023-03-02T18:52:53.318Z"
   },
   {
    "duration": 3,
    "start_time": "2023-03-02T18:52:53.323Z"
   },
   {
    "duration": 7,
    "start_time": "2023-03-02T18:52:53.328Z"
   },
   {
    "duration": 3,
    "start_time": "2023-03-02T18:52:53.336Z"
   },
   {
    "duration": 14,
    "start_time": "2023-03-02T18:52:53.341Z"
   },
   {
    "duration": 2,
    "start_time": "2023-03-02T18:52:53.356Z"
   },
   {
    "duration": 11,
    "start_time": "2023-03-02T18:53:30.321Z"
   },
   {
    "duration": 7,
    "start_time": "2023-03-02T18:54:17.764Z"
   },
   {
    "duration": 4,
    "start_time": "2023-03-02T18:55:50.034Z"
   },
   {
    "duration": 7,
    "start_time": "2023-03-02T18:57:30.301Z"
   },
   {
    "duration": 6,
    "start_time": "2023-03-02T18:58:58.449Z"
   },
   {
    "duration": 3,
    "start_time": "2023-03-02T19:02:59.103Z"
   },
   {
    "duration": 7,
    "start_time": "2023-03-02T19:06:45.767Z"
   },
   {
    "duration": 5,
    "start_time": "2023-03-02T19:09:29.419Z"
   },
   {
    "duration": 4,
    "start_time": "2023-03-02T19:10:21.474Z"
   },
   {
    "duration": 7,
    "start_time": "2023-03-02T19:12:21.140Z"
   },
   {
    "duration": 26,
    "start_time": "2023-03-02T19:12:49.838Z"
   },
   {
    "duration": 17,
    "start_time": "2023-03-02T19:15:44.079Z"
   },
   {
    "duration": 3,
    "start_time": "2023-03-02T19:16:41.530Z"
   },
   {
    "duration": 85,
    "start_time": "2023-03-02T19:16:41.535Z"
   },
   {
    "duration": 12,
    "start_time": "2023-03-02T19:16:41.622Z"
   },
   {
    "duration": 32,
    "start_time": "2023-03-02T19:16:41.636Z"
   },
   {
    "duration": 14,
    "start_time": "2023-03-02T19:16:41.671Z"
   },
   {
    "duration": 12,
    "start_time": "2023-03-02T19:16:41.686Z"
   },
   {
    "duration": 13,
    "start_time": "2023-03-02T19:16:41.700Z"
   },
   {
    "duration": 9,
    "start_time": "2023-03-02T19:16:41.715Z"
   },
   {
    "duration": 4,
    "start_time": "2023-03-02T19:16:41.727Z"
   },
   {
    "duration": 6,
    "start_time": "2023-03-02T19:16:41.733Z"
   },
   {
    "duration": 25,
    "start_time": "2023-03-02T19:16:41.741Z"
   },
   {
    "duration": 14,
    "start_time": "2023-03-02T19:16:41.772Z"
   },
   {
    "duration": 2,
    "start_time": "2023-03-02T19:16:41.788Z"
   },
   {
    "duration": 3,
    "start_time": "2023-03-02T19:16:41.793Z"
   },
   {
    "duration": 5,
    "start_time": "2023-03-02T19:16:41.797Z"
   },
   {
    "duration": 3,
    "start_time": "2023-03-02T19:16:41.804Z"
   },
   {
    "duration": 3,
    "start_time": "2023-03-02T19:16:41.808Z"
   },
   {
    "duration": 4,
    "start_time": "2023-03-02T19:16:41.813Z"
   },
   {
    "duration": 16,
    "start_time": "2023-03-02T19:16:41.819Z"
   },
   {
    "duration": 6,
    "start_time": "2023-03-02T19:16:41.864Z"
   },
   {
    "duration": 3,
    "start_time": "2023-03-02T19:16:41.873Z"
   },
   {
    "duration": 4,
    "start_time": "2023-03-02T19:16:41.877Z"
   },
   {
    "duration": 20,
    "start_time": "2023-03-02T19:19:11.177Z"
   },
   {
    "duration": 4,
    "start_time": "2023-03-02T19:20:45.732Z"
   },
   {
    "duration": 11,
    "start_time": "2023-03-02T19:23:19.915Z"
   },
   {
    "duration": 58,
    "start_time": "2023-03-02T19:31:32.678Z"
   },
   {
    "duration": 31,
    "start_time": "2023-03-02T19:31:41.137Z"
   },
   {
    "duration": 39,
    "start_time": "2023-03-02T19:31:45.614Z"
   },
   {
    "duration": 3,
    "start_time": "2023-03-02T19:33:00.584Z"
   },
   {
    "duration": 101,
    "start_time": "2023-03-02T19:33:00.589Z"
   },
   {
    "duration": 8,
    "start_time": "2023-03-02T19:33:00.692Z"
   },
   {
    "duration": 39,
    "start_time": "2023-03-02T19:33:00.701Z"
   },
   {
    "duration": 39,
    "start_time": "2023-03-02T19:33:00.742Z"
   },
   {
    "duration": 35,
    "start_time": "2023-03-02T19:33:00.783Z"
   },
   {
    "duration": 40,
    "start_time": "2023-03-02T19:33:00.820Z"
   },
   {
    "duration": 35,
    "start_time": "2023-03-02T19:33:00.861Z"
   },
   {
    "duration": 29,
    "start_time": "2023-03-02T19:33:00.898Z"
   },
   {
    "duration": 45,
    "start_time": "2023-03-02T19:33:00.930Z"
   },
   {
    "duration": 12,
    "start_time": "2023-03-02T19:33:00.977Z"
   },
   {
    "duration": 27,
    "start_time": "2023-03-02T19:33:00.990Z"
   },
   {
    "duration": 30,
    "start_time": "2023-03-02T19:33:01.019Z"
   },
   {
    "duration": 40,
    "start_time": "2023-03-02T19:33:01.051Z"
   },
   {
    "duration": 35,
    "start_time": "2023-03-02T19:33:01.093Z"
   },
   {
    "duration": 47,
    "start_time": "2023-03-02T19:33:01.129Z"
   },
   {
    "duration": 59,
    "start_time": "2023-03-02T19:33:01.178Z"
   },
   {
    "duration": 6,
    "start_time": "2023-03-02T19:33:01.239Z"
   },
   {
    "duration": 53,
    "start_time": "2023-03-02T19:33:01.247Z"
   },
   {
    "duration": 70,
    "start_time": "2023-03-02T19:33:01.302Z"
   },
   {
    "duration": 28,
    "start_time": "2023-03-02T19:33:01.374Z"
   },
   {
    "duration": 33,
    "start_time": "2023-03-02T19:33:01.404Z"
   },
   {
    "duration": 12,
    "start_time": "2023-03-02T19:35:32.423Z"
   },
   {
    "duration": 19,
    "start_time": "2023-03-02T19:35:35.069Z"
   },
   {
    "duration": 29,
    "start_time": "2023-03-02T19:35:38.081Z"
   },
   {
    "duration": 18,
    "start_time": "2023-03-02T19:48:14.595Z"
   },
   {
    "duration": 4,
    "start_time": "2023-03-02T19:57:21.729Z"
   },
   {
    "duration": 1297,
    "start_time": "2023-03-02T19:57:23.633Z"
   },
   {
    "duration": 4,
    "start_time": "2023-03-02T19:59:45.273Z"
   },
   {
    "duration": 3,
    "start_time": "2023-03-02T20:05:49.684Z"
   },
   {
    "duration": 532,
    "start_time": "2023-03-02T20:10:02.805Z"
   },
   {
    "duration": 4,
    "start_time": "2023-03-02T20:14:25.317Z"
   },
   {
    "duration": 10,
    "start_time": "2023-03-02T20:14:27.875Z"
   },
   {
    "duration": 7,
    "start_time": "2023-03-02T20:15:03.076Z"
   },
   {
    "duration": 7,
    "start_time": "2023-03-02T20:31:16.713Z"
   },
   {
    "duration": 2,
    "start_time": "2023-03-02T20:31:18.818Z"
   },
   {
    "duration": 8,
    "start_time": "2023-03-02T20:31:21.672Z"
   },
   {
    "duration": 4,
    "start_time": "2023-03-02T20:32:07.067Z"
   },
   {
    "duration": 6,
    "start_time": "2023-03-02T20:32:09.437Z"
   },
   {
    "duration": 4,
    "start_time": "2023-03-02T20:33:01.611Z"
   },
   {
    "duration": 11,
    "start_time": "2023-03-02T20:33:02.368Z"
   }
  ],
  "colab": {
   "provenance": []
  },
  "kernelspec": {
   "display_name": "Python 3 (ipykernel)",
   "language": "python",
   "name": "python3"
  },
  "language_info": {
   "codemirror_mode": {
    "name": "ipython",
    "version": 3
   },
   "file_extension": ".py",
   "mimetype": "text/x-python",
   "name": "python",
   "nbconvert_exporter": "python",
   "pygments_lexer": "ipython3",
   "version": "3.9.5"
  },
  "toc": {
   "base_numbering": 1,
   "nav_menu": {},
   "number_sections": true,
   "sideBar": true,
   "skip_h1_title": true,
   "title_cell": "Table of Contents",
   "title_sidebar": "Contents",
   "toc_cell": false,
   "toc_position": {},
   "toc_section_display": true,
   "toc_window_display": false
  }
 },
 "nbformat": 4,
 "nbformat_minor": 5
}
