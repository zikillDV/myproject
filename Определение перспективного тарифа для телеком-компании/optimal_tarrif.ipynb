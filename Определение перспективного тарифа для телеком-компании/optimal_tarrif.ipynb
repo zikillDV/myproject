{
 "cells": [
  {
   "cell_type": "markdown",
   "metadata": {},
   "source": [
    "# Построение модели рекомендаций тарифов для абонентов оператора мобильной связи «Мегалайн»"
   ]
  },
  {
   "cell_type": "markdown",
   "metadata": {},
   "source": [
    "# Описание проекта\n",
    "\n",
    "Оператор мобильной связи «Мегалайн» выяснил: многие клиенты пользуются архивными тарифами. Они хотят построить систему, способную проанализировать поведение клиентов и предложить пользователям новый тариф: «Смарт» или «Ультра». В нашем распоряжении данные о поведении клиентов, которые уже перешли на эти тарифы (из проекта курса «Статистический анализ данных»). \n",
    "\n",
    "\n",
    "# Цели проекта\n",
    "\n",
    "1. Построить модель для задачи классификации, которая выберет подходящий тариф с максимально большим значением *accuracy*, с долей правильных ответов по крайней мере 0.75. \n",
    "2. Проверить *accuracy* на тестовой выборке самостоятельно.\n",
    "3. Дополнительная цель. Проверить модели на вменяемость.\n",
    "\n",
    "# Ход выполнения проекта:\n",
    "\n",
    "- Шаг 1. Откроем файл с данными и изучим общую информацию\n",
    "    - Путь к файлу: /datasets/users_behavior.csv;\n",
    "    - Изучим общую информацию;\n",
    "    - Напишем вывод по шагу 1.\n",
    "- Шаг 2. Проведем исследовательский анализ данных\n",
    "    - Посмотрим структурный состав использования тарифов;\n",
    "    - Изучим продолжительность звонков по тарифам;\n",
    "    - Изучим показатели использования пакетов SMS в тарифах;\n",
    "    - Изучим показатели использования sms-сообщений в тарифах;\n",
    "    - Изучим показатели использования интернет-трафика в тарифах;\n",
    "    - Построим график корреляции тарифов от израсходованных пакетных предложений;\n",
    "    - Напишем вывод по шагу 2.\n",
    "- Шаг 3. Разбьем данные на выборки\n",
    "    - Разобьем данные на три выборки (обучающую, валидационную и тестовую выборки).\n",
    "    - Напишем вывод по шагу 3.\n",
    "- Шаг 4. Исследуем модели\n",
    "    - Изучим 3 модели, одна из которых будет иметь хотя бы 3 значения гипепараметров;\n",
    "    - Выберем лучшую модель;\n",
    "    - Напишем вывод по шагу 4.\n",
    "- Шаг 5. Проверим модель на тестовой выборке\n",
    "    - Проведем тестирование модели (accuracy должнно быть не меньше 0.75);\n",
    "    - Напишем вывод по шагу 5.\n",
    "- Шаг 6. Дополнительное задание. \n",
    "    - Проверим модель на адекватность (на вменяемость);\n",
    "    - Напишем вывод по шагу 6.\n",
    "- Шаг 7. Напишем общий вывод по проекту и дадим реккомендации\n",
    "    - Напишем общий вывод по проекту.\n",
    "    \n",
    "# Дополнительная информация\n",
    "\n",
    "Предобработка данных уже проведена.\n",
    "\n",
    "**Описание данных:**\n",
    "\n",
    "Каждый объект в наборе данных — это информация о поведении одного пользователя за месяц. \n",
    "\n",
    "Известно:\n",
    "сalls — количество звонков,\n",
    "minutes — суммарная длительность звонков в минутах,\n",
    "messages — количество sms-сообщений,\n",
    "mb_used — израсходованный интернет-трафик в Мб,\n",
    "is_ultra — каким тарифом пользовался в течение месяца («Ультра» — 1, «Смарт» — 0).\n",
    "\n",
    "    Таким образом мое исследование пройдет в 7 шагов:\n",
    "    1. Загрузка данных и изучение данных\n",
    "    2. Исследовательский анализ данных\n",
    "    3. Разделение данных на 3 выборки\n",
    "    4. Исследование моделей\n",
    "    5. Проверка модели на тестовой выборке\n",
    "    6. Проверка модели на адекватность (на вменяемость)\n",
    "    7. Общие выводы и рекомендации "
   ]
  },
  {
   "cell_type": "markdown",
   "metadata": {},
   "source": [
    "## Откройте и изучите файл"
   ]
  },
  {
   "cell_type": "code",
   "execution_count": 1,
   "metadata": {},
   "outputs": [],
   "source": [
    "#импортируем библиотеки\n",
    "import pandas as pd\n",
    "import seaborn as sns\n",
    "import matplotlib.pyplot as plt\n",
    "from sklearn.model_selection import train_test_split \n",
    "\n",
    "from sklearn.metrics import mean_squared_error\n",
    "from sklearn.metrics import accuracy_score\n",
    "\n",
    "from sklearn.tree import DecisionTreeClassifier\n",
    "from sklearn.ensemble import RandomForestClassifier\n",
    "from sklearn.linear_model import LogisticRegression"
   ]
  },
  {
   "cell_type": "code",
   "execution_count": 2,
   "metadata": {},
   "outputs": [
    {
     "data": {
      "text/html": [
       "<div>\n",
       "<style scoped>\n",
       "    .dataframe tbody tr th:only-of-type {\n",
       "        vertical-align: middle;\n",
       "    }\n",
       "\n",
       "    .dataframe tbody tr th {\n",
       "        vertical-align: top;\n",
       "    }\n",
       "\n",
       "    .dataframe thead th {\n",
       "        text-align: right;\n",
       "    }\n",
       "</style>\n",
       "<table border=\"1\" class=\"dataframe\">\n",
       "  <thead>\n",
       "    <tr style=\"text-align: right;\">\n",
       "      <th></th>\n",
       "      <th>calls</th>\n",
       "      <th>minutes</th>\n",
       "      <th>messages</th>\n",
       "      <th>mb_used</th>\n",
       "      <th>is_ultra</th>\n",
       "    </tr>\n",
       "  </thead>\n",
       "  <tbody>\n",
       "    <tr>\n",
       "      <th>0</th>\n",
       "      <td>40.0</td>\n",
       "      <td>311.90</td>\n",
       "      <td>83.0</td>\n",
       "      <td>19915.42</td>\n",
       "      <td>0</td>\n",
       "    </tr>\n",
       "    <tr>\n",
       "      <th>1</th>\n",
       "      <td>85.0</td>\n",
       "      <td>516.75</td>\n",
       "      <td>56.0</td>\n",
       "      <td>22696.96</td>\n",
       "      <td>0</td>\n",
       "    </tr>\n",
       "    <tr>\n",
       "      <th>2</th>\n",
       "      <td>77.0</td>\n",
       "      <td>467.66</td>\n",
       "      <td>86.0</td>\n",
       "      <td>21060.45</td>\n",
       "      <td>0</td>\n",
       "    </tr>\n",
       "    <tr>\n",
       "      <th>3</th>\n",
       "      <td>106.0</td>\n",
       "      <td>745.53</td>\n",
       "      <td>81.0</td>\n",
       "      <td>8437.39</td>\n",
       "      <td>1</td>\n",
       "    </tr>\n",
       "    <tr>\n",
       "      <th>4</th>\n",
       "      <td>66.0</td>\n",
       "      <td>418.74</td>\n",
       "      <td>1.0</td>\n",
       "      <td>14502.75</td>\n",
       "      <td>0</td>\n",
       "    </tr>\n",
       "    <tr>\n",
       "      <th>...</th>\n",
       "      <td>...</td>\n",
       "      <td>...</td>\n",
       "      <td>...</td>\n",
       "      <td>...</td>\n",
       "      <td>...</td>\n",
       "    </tr>\n",
       "    <tr>\n",
       "      <th>3209</th>\n",
       "      <td>122.0</td>\n",
       "      <td>910.98</td>\n",
       "      <td>20.0</td>\n",
       "      <td>35124.90</td>\n",
       "      <td>1</td>\n",
       "    </tr>\n",
       "    <tr>\n",
       "      <th>3210</th>\n",
       "      <td>25.0</td>\n",
       "      <td>190.36</td>\n",
       "      <td>0.0</td>\n",
       "      <td>3275.61</td>\n",
       "      <td>0</td>\n",
       "    </tr>\n",
       "    <tr>\n",
       "      <th>3211</th>\n",
       "      <td>97.0</td>\n",
       "      <td>634.44</td>\n",
       "      <td>70.0</td>\n",
       "      <td>13974.06</td>\n",
       "      <td>0</td>\n",
       "    </tr>\n",
       "    <tr>\n",
       "      <th>3212</th>\n",
       "      <td>64.0</td>\n",
       "      <td>462.32</td>\n",
       "      <td>90.0</td>\n",
       "      <td>31239.78</td>\n",
       "      <td>0</td>\n",
       "    </tr>\n",
       "    <tr>\n",
       "      <th>3213</th>\n",
       "      <td>80.0</td>\n",
       "      <td>566.09</td>\n",
       "      <td>6.0</td>\n",
       "      <td>29480.52</td>\n",
       "      <td>1</td>\n",
       "    </tr>\n",
       "  </tbody>\n",
       "</table>\n",
       "<p>3214 rows × 5 columns</p>\n",
       "</div>"
      ],
      "text/plain": [
       "      calls  minutes  messages   mb_used  is_ultra\n",
       "0      40.0   311.90      83.0  19915.42         0\n",
       "1      85.0   516.75      56.0  22696.96         0\n",
       "2      77.0   467.66      86.0  21060.45         0\n",
       "3     106.0   745.53      81.0   8437.39         1\n",
       "4      66.0   418.74       1.0  14502.75         0\n",
       "...     ...      ...       ...       ...       ...\n",
       "3209  122.0   910.98      20.0  35124.90         1\n",
       "3210   25.0   190.36       0.0   3275.61         0\n",
       "3211   97.0   634.44      70.0  13974.06         0\n",
       "3212   64.0   462.32      90.0  31239.78         0\n",
       "3213   80.0   566.09       6.0  29480.52         1\n",
       "\n",
       "[3214 rows x 5 columns]"
      ]
     },
     "execution_count": 2,
     "metadata": {},
     "output_type": "execute_result"
    }
   ],
   "source": [
    "#загрузим датасет\n",
    "df = pd.read_csv('/datasets/users_behavior.csv')\n",
    "#выведем его на экран\n",
    "df"
   ]
  },
  {
   "cell_type": "code",
   "execution_count": 3,
   "metadata": {},
   "outputs": [
    {
     "data": {
      "text/html": [
       "<div>\n",
       "<style scoped>\n",
       "    .dataframe tbody tr th:only-of-type {\n",
       "        vertical-align: middle;\n",
       "    }\n",
       "\n",
       "    .dataframe tbody tr th {\n",
       "        vertical-align: top;\n",
       "    }\n",
       "\n",
       "    .dataframe thead th {\n",
       "        text-align: right;\n",
       "    }\n",
       "</style>\n",
       "<table border=\"1\" class=\"dataframe\">\n",
       "  <thead>\n",
       "    <tr style=\"text-align: right;\">\n",
       "      <th></th>\n",
       "      <th>calls</th>\n",
       "      <th>minutes</th>\n",
       "      <th>messages</th>\n",
       "      <th>mb_used</th>\n",
       "      <th>is_ultra</th>\n",
       "    </tr>\n",
       "  </thead>\n",
       "  <tbody>\n",
       "    <tr>\n",
       "      <th>count</th>\n",
       "      <td>3214.000000</td>\n",
       "      <td>3214.000000</td>\n",
       "      <td>3214.000000</td>\n",
       "      <td>3214.000000</td>\n",
       "      <td>3214.000000</td>\n",
       "    </tr>\n",
       "    <tr>\n",
       "      <th>mean</th>\n",
       "      <td>63.038892</td>\n",
       "      <td>438.208787</td>\n",
       "      <td>38.281269</td>\n",
       "      <td>17207.673836</td>\n",
       "      <td>0.306472</td>\n",
       "    </tr>\n",
       "    <tr>\n",
       "      <th>std</th>\n",
       "      <td>33.236368</td>\n",
       "      <td>234.569872</td>\n",
       "      <td>36.148326</td>\n",
       "      <td>7570.968246</td>\n",
       "      <td>0.461100</td>\n",
       "    </tr>\n",
       "    <tr>\n",
       "      <th>min</th>\n",
       "      <td>0.000000</td>\n",
       "      <td>0.000000</td>\n",
       "      <td>0.000000</td>\n",
       "      <td>0.000000</td>\n",
       "      <td>0.000000</td>\n",
       "    </tr>\n",
       "    <tr>\n",
       "      <th>25%</th>\n",
       "      <td>40.000000</td>\n",
       "      <td>274.575000</td>\n",
       "      <td>9.000000</td>\n",
       "      <td>12491.902500</td>\n",
       "      <td>0.000000</td>\n",
       "    </tr>\n",
       "    <tr>\n",
       "      <th>50%</th>\n",
       "      <td>62.000000</td>\n",
       "      <td>430.600000</td>\n",
       "      <td>30.000000</td>\n",
       "      <td>16943.235000</td>\n",
       "      <td>0.000000</td>\n",
       "    </tr>\n",
       "    <tr>\n",
       "      <th>75%</th>\n",
       "      <td>82.000000</td>\n",
       "      <td>571.927500</td>\n",
       "      <td>57.000000</td>\n",
       "      <td>21424.700000</td>\n",
       "      <td>1.000000</td>\n",
       "    </tr>\n",
       "    <tr>\n",
       "      <th>max</th>\n",
       "      <td>244.000000</td>\n",
       "      <td>1632.060000</td>\n",
       "      <td>224.000000</td>\n",
       "      <td>49745.730000</td>\n",
       "      <td>1.000000</td>\n",
       "    </tr>\n",
       "  </tbody>\n",
       "</table>\n",
       "</div>"
      ],
      "text/plain": [
       "             calls      minutes     messages       mb_used     is_ultra\n",
       "count  3214.000000  3214.000000  3214.000000   3214.000000  3214.000000\n",
       "mean     63.038892   438.208787    38.281269  17207.673836     0.306472\n",
       "std      33.236368   234.569872    36.148326   7570.968246     0.461100\n",
       "min       0.000000     0.000000     0.000000      0.000000     0.000000\n",
       "25%      40.000000   274.575000     9.000000  12491.902500     0.000000\n",
       "50%      62.000000   430.600000    30.000000  16943.235000     0.000000\n",
       "75%      82.000000   571.927500    57.000000  21424.700000     1.000000\n",
       "max     244.000000  1632.060000   224.000000  49745.730000     1.000000"
      ]
     },
     "execution_count": 3,
     "metadata": {},
     "output_type": "execute_result"
    }
   ],
   "source": [
    "#рассчитаем статистические показатели для числовых столбцов\n",
    "df.describe()"
   ]
  },
  {
   "cell_type": "code",
   "execution_count": 4,
   "metadata": {},
   "outputs": [
    {
     "data": {
      "text/plain": [
       "(3214, 5)"
      ]
     },
     "execution_count": 4,
     "metadata": {},
     "output_type": "execute_result"
    }
   ],
   "source": [
    "#проверим размерность датасета\n",
    "df.shape"
   ]
  },
  {
   "cell_type": "code",
   "execution_count": 5,
   "metadata": {},
   "outputs": [
    {
     "name": "stdout",
     "output_type": "stream",
     "text": [
      "<class 'pandas.core.frame.DataFrame'>\n",
      "RangeIndex: 3214 entries, 0 to 3213\n",
      "Data columns (total 5 columns):\n",
      " #   Column    Non-Null Count  Dtype  \n",
      "---  ------    --------------  -----  \n",
      " 0   calls     3214 non-null   float64\n",
      " 1   minutes   3214 non-null   float64\n",
      " 2   messages  3214 non-null   float64\n",
      " 3   mb_used   3214 non-null   float64\n",
      " 4   is_ultra  3214 non-null   int64  \n",
      "dtypes: float64(4), int64(1)\n",
      "memory usage: 125.7 KB\n"
     ]
    }
   ],
   "source": [
    "#выведем общую информацию о датасете\n",
    "df.info()"
   ]
  },
  {
   "cell_type": "markdown",
   "metadata": {},
   "source": [
    "**Вывод по шагу 1:**\n",
    "    \n",
    "Как видно, пропусков, действительно, нет. Название столбцов преведены к нижнему регистру, тип данных в каждом столбце оптимален. В среднем абоненты совершают около 63 звонков, при этом есть абоненты которые совершают до 244 звонков. В среднем абоненты тратят около 17 Гб. Около 31% абонентов имеют тариф Ultra. Более детально посмотрим на даннве во втоорм шаге."
   ]
  },
  {
   "cell_type": "markdown",
   "metadata": {},
   "source": [
    "## Проведите исследовательский анализ данных"
   ]
  },
  {
   "cell_type": "code",
   "execution_count": 6,
   "metadata": {},
   "outputs": [
    {
     "data": {
      "text/plain": [
       "is_ultra\n",
       "0    2229\n",
       "1     985\n",
       "Name: is_ultra, dtype: int64"
      ]
     },
     "execution_count": 6,
     "metadata": {},
     "output_type": "execute_result"
    }
   ],
   "source": [
    "#Посмотрим структурный состав использования тарифов;\n",
    "df.groupby('is_ultra')['is_ultra'].count()"
   ]
  },
  {
   "cell_type": "markdown",
   "metadata": {},
   "source": [
    "**Как видно, более 2/3 абонентов использует тариф Smart.**"
   ]
  },
  {
   "cell_type": "code",
   "execution_count": 7,
   "metadata": {},
   "outputs": [
    {
     "data": {
      "text/html": [
       "<div>\n",
       "<style scoped>\n",
       "    .dataframe tbody tr th:only-of-type {\n",
       "        vertical-align: middle;\n",
       "    }\n",
       "\n",
       "    .dataframe tbody tr th {\n",
       "        vertical-align: top;\n",
       "    }\n",
       "\n",
       "    .dataframe thead tr th {\n",
       "        text-align: left;\n",
       "    }\n",
       "\n",
       "    .dataframe thead tr:last-of-type th {\n",
       "        text-align: right;\n",
       "    }\n",
       "</style>\n",
       "<table border=\"1\" class=\"dataframe\">\n",
       "  <thead>\n",
       "    <tr>\n",
       "      <th></th>\n",
       "      <th>mean</th>\n",
       "      <th>median</th>\n",
       "      <th>sum</th>\n",
       "    </tr>\n",
       "    <tr>\n",
       "      <th></th>\n",
       "      <th>minutes</th>\n",
       "      <th>minutes</th>\n",
       "      <th>minutes</th>\n",
       "    </tr>\n",
       "    <tr>\n",
       "      <th>is_ultra</th>\n",
       "      <th></th>\n",
       "      <th></th>\n",
       "      <th></th>\n",
       "    </tr>\n",
       "  </thead>\n",
       "  <tbody>\n",
       "    <tr>\n",
       "      <th>0</th>\n",
       "      <td>405.942952</td>\n",
       "      <td>410.56</td>\n",
       "      <td>904846.84</td>\n",
       "    </tr>\n",
       "    <tr>\n",
       "      <th>1</th>\n",
       "      <td>511.224569</td>\n",
       "      <td>502.55</td>\n",
       "      <td>503556.20</td>\n",
       "    </tr>\n",
       "  </tbody>\n",
       "</table>\n",
       "</div>"
      ],
      "text/plain": [
       "                mean  median        sum\n",
       "             minutes minutes    minutes\n",
       "is_ultra                               \n",
       "0         405.942952  410.56  904846.84\n",
       "1         511.224569  502.55  503556.20"
      ]
     },
     "execution_count": 7,
     "metadata": {},
     "output_type": "execute_result"
    }
   ],
   "source": [
    "#Изучим продолжительность звонков по тарифам;\n",
    "df.pivot_table(index='is_ultra', values='minutes', aggfunc=['mean', 'median', 'sum'])"
   ]
  },
  {
   "cell_type": "markdown",
   "metadata": {},
   "source": [
    "**Средние и медианные значения для тарифов различаются незначительно, но продолжительность разговоров среди абонентов с тарифом ultra больше практически на 100 минут.**"
   ]
  },
  {
   "cell_type": "code",
   "execution_count": 8,
   "metadata": {},
   "outputs": [
    {
     "data": {
      "text/html": [
       "<div>\n",
       "<style scoped>\n",
       "    .dataframe tbody tr th:only-of-type {\n",
       "        vertical-align: middle;\n",
       "    }\n",
       "\n",
       "    .dataframe tbody tr th {\n",
       "        vertical-align: top;\n",
       "    }\n",
       "\n",
       "    .dataframe thead tr th {\n",
       "        text-align: left;\n",
       "    }\n",
       "\n",
       "    .dataframe thead tr:last-of-type th {\n",
       "        text-align: right;\n",
       "    }\n",
       "</style>\n",
       "<table border=\"1\" class=\"dataframe\">\n",
       "  <thead>\n",
       "    <tr>\n",
       "      <th></th>\n",
       "      <th>mean</th>\n",
       "      <th>median</th>\n",
       "      <th>sum</th>\n",
       "    </tr>\n",
       "    <tr>\n",
       "      <th></th>\n",
       "      <th>messages</th>\n",
       "      <th>messages</th>\n",
       "      <th>messages</th>\n",
       "    </tr>\n",
       "    <tr>\n",
       "      <th>is_ultra</th>\n",
       "      <th></th>\n",
       "      <th></th>\n",
       "      <th></th>\n",
       "    </tr>\n",
       "  </thead>\n",
       "  <tbody>\n",
       "    <tr>\n",
       "      <th>0</th>\n",
       "      <td>33.384029</td>\n",
       "      <td>28.0</td>\n",
       "      <td>74413.0</td>\n",
       "    </tr>\n",
       "    <tr>\n",
       "      <th>1</th>\n",
       "      <td>49.363452</td>\n",
       "      <td>38.0</td>\n",
       "      <td>48623.0</td>\n",
       "    </tr>\n",
       "  </tbody>\n",
       "</table>\n",
       "</div>"
      ],
      "text/plain": [
       "               mean   median      sum\n",
       "           messages messages messages\n",
       "is_ultra                             \n",
       "0         33.384029     28.0  74413.0\n",
       "1         49.363452     38.0  48623.0"
      ]
     },
     "execution_count": 8,
     "metadata": {},
     "output_type": "execute_result"
    }
   ],
   "source": [
    "#Изучим показатели использования пакетов SMS в тарифах;\n",
    "df.pivot_table(index='is_ultra', values='messages', aggfunc=['mean', 'median', 'sum'])"
   ]
  },
  {
   "cell_type": "markdown",
   "metadata": {},
   "source": [
    "**Пакет sms среди абонентов с тарифом ultra также используется чаще.**"
   ]
  },
  {
   "cell_type": "code",
   "execution_count": 9,
   "metadata": {},
   "outputs": [
    {
     "data": {
      "text/html": [
       "<div>\n",
       "<style scoped>\n",
       "    .dataframe tbody tr th:only-of-type {\n",
       "        vertical-align: middle;\n",
       "    }\n",
       "\n",
       "    .dataframe tbody tr th {\n",
       "        vertical-align: top;\n",
       "    }\n",
       "\n",
       "    .dataframe thead tr th {\n",
       "        text-align: left;\n",
       "    }\n",
       "\n",
       "    .dataframe thead tr:last-of-type th {\n",
       "        text-align: right;\n",
       "    }\n",
       "</style>\n",
       "<table border=\"1\" class=\"dataframe\">\n",
       "  <thead>\n",
       "    <tr>\n",
       "      <th></th>\n",
       "      <th>mean</th>\n",
       "      <th>median</th>\n",
       "      <th>sum</th>\n",
       "    </tr>\n",
       "    <tr>\n",
       "      <th></th>\n",
       "      <th>mb_used</th>\n",
       "      <th>mb_used</th>\n",
       "      <th>mb_used</th>\n",
       "    </tr>\n",
       "    <tr>\n",
       "      <th>is_ultra</th>\n",
       "      <th></th>\n",
       "      <th></th>\n",
       "      <th></th>\n",
       "    </tr>\n",
       "  </thead>\n",
       "  <tbody>\n",
       "    <tr>\n",
       "      <th>0</th>\n",
       "      <td>16208.466949</td>\n",
       "      <td>16506.93</td>\n",
       "      <td>36128672.83</td>\n",
       "    </tr>\n",
       "    <tr>\n",
       "      <th>1</th>\n",
       "      <td>19468.823228</td>\n",
       "      <td>19308.01</td>\n",
       "      <td>19176790.88</td>\n",
       "    </tr>\n",
       "  </tbody>\n",
       "</table>\n",
       "</div>"
      ],
      "text/plain": [
       "                  mean    median          sum\n",
       "               mb_used   mb_used      mb_used\n",
       "is_ultra                                     \n",
       "0         16208.466949  16506.93  36128672.83\n",
       "1         19468.823228  19308.01  19176790.88"
      ]
     },
     "execution_count": 9,
     "metadata": {},
     "output_type": "execute_result"
    }
   ],
   "source": [
    "#Изучим показатели использования интернет-трафика в тарифах;\n",
    "df.pivot_table(index='is_ultra', values='mb_used', aggfunc=['mean', 'median', 'sum'])"
   ]
  },
  {
   "cell_type": "markdown",
   "metadata": {},
   "source": [
    "**Интернет трафик расходуется среди абонентов c тарифом smart меньше, в среднем на 3 Гб.**"
   ]
  },
  {
   "cell_type": "code",
   "execution_count": 10,
   "metadata": {},
   "outputs": [],
   "source": [
    "#Построим график корреляции тарифов от израсходованных пакетных предложений;\n",
    "df_smart = df.loc[df['is_ultra'] == 0]\n",
    "df_ultra = df.loc[df['is_ultra'] == 1]"
   ]
  },
  {
   "cell_type": "code",
   "execution_count": 11,
   "metadata": {},
   "outputs": [
    {
     "data": {
      "image/png": "[encoded data removed]",
      "text/plain": [
       "<Figure size 432x288 with 2 Axes>"
      ]
     },
     "metadata": {
      "needs_background": "light"
     },
     "output_type": "display_data"
    }
   ],
   "source": [
    "# строим heatmap для абонентов тарифа smart\n",
    "sns.heatmap(df_smart.corr(), annot=True, fmt=\".2f\", cmap=\"YlGnBu\")\n",
    "\n",
    "# показываем heatmap\n",
    "plt.show()"
   ]
  },
  {
   "cell_type": "code",
   "execution_count": 12,
   "metadata": {},
   "outputs": [
    {
     "data": {
      "image/png": "[encoded data removed]",
      "text/plain": [
       "<Figure size 432x288 with 2 Axes>"
      ]
     },
     "metadata": {
      "needs_background": "light"
     },
     "output_type": "display_data"
    }
   ],
   "source": [
    "# строим heatmap для абонентов тарифа ultra\n",
    "sns.heatmap(df_ultra.corr(), annot=True, fmt=\".2f\", cmap=\"YlGnBu\")\n",
    "\n",
    "# показываем heatmap\n",
    "plt.show()"
   ]
  },
  {
   "cell_type": "markdown",
   "metadata": {},
   "source": [
    "**Вывод по шагу 2:**\n",
    "\n",
    "**Из полученных данных можно заключить, что абоненты с тарифом ultra пользуются тарифными опциями чаще, у них больше средняя продолжительность разговоров, отправленных sms и интернет трафик также потребляется в больших объемах.**\n",
    "\n",
    "**Сильная корреляционная связь наблюдается только между продолжительностью и числом звонков, что вполне логично.**"
   ]
  },
  {
   "cell_type": "markdown",
   "metadata": {},
   "source": [
    "## Разбейте данные на выборки"
   ]
  },
  {
   "cell_type": "code",
   "execution_count": 13,
   "metadata": {},
   "outputs": [],
   "source": [
    "#Разобьем данные на три выборки (обучающую, валидационную и тестовую выборки).\n",
    "#Выделим в отдельные переменные фичи и целевой признак\n",
    "features = df[['calls', 'minutes', 'messages', 'mb_used']]\n",
    "target = df['is_ultra']"
   ]
  },
  {
   "cell_type": "code",
   "execution_count": 14,
   "metadata": {},
   "outputs": [
    {
     "name": "stdout",
     "output_type": "stream",
     "text": [
      "Размер обучающей выборки: 1928\n",
      "Размер валидационной выборки: 643\n",
      "Размер тестовой выборки: 643\n"
     ]
    }
   ],
   "source": [
    "#Разделим данные на обучающую(60%), валидационную(20%) и тестовую выборки(20%)\n",
    "features_train_val, features_test, target_train_val, target_test = train_test_split(\n",
    "    features, target, test_size=0.2, random_state=12345)\n",
    "\n",
    "features_train, features_valid, target_train, target_valid = train_test_split(\n",
    "    features_train_val, target_train_val, test_size=0.25, random_state=12345)\n",
    "\n",
    "#Провреим размер каждой выборки\n",
    "print('Размер обучающей выборки:', features_train.shape[0])\n",
    "print('Размер валидационной выборки:', features_valid.shape[0])\n",
    "print('Размер тестовой выборки:', features_test.shape[0])"
   ]
  },
  {
   "cell_type": "markdown",
   "metadata": {},
   "source": [
    "**Вывод по шагу 3:**\n",
    "    \n",
    "**Мы разделили данные на обучающую(60%), валидационную(20%) и тестовую выборки(20%).**"
   ]
  },
  {
   "cell_type": "markdown",
   "metadata": {},
   "source": [
    "## Исследуйте модели"
   ]
  },
  {
   "cell_type": "code",
   "execution_count": 15,
   "metadata": {},
   "outputs": [],
   "source": [
    "#для исследования возьмем 3 модели: дерево решений, случайный лес и линейную регрессию"
   ]
  },
  {
   "cell_type": "code",
   "execution_count": 16,
   "metadata": {},
   "outputs": [
    {
     "name": "stdout",
     "output_type": "stream",
     "text": [
      "Accuracy\n",
      "Валидационная выборка: 0.7838258164852255\n"
     ]
    }
   ],
   "source": [
    "#построим модель дерева решений\n",
    "\n",
    "best_model = None\n",
    "best_result = 10000\n",
    "best_est = 0\n",
    "best_depth = 0\n",
    "for est in range(10, 111, 5):\n",
    "    for depth in range(1, 11):\n",
    "        model = DecisionTreeClassifier(random_state=12345, min_samples_split=est, max_depth=depth)\n",
    "        model.fit(features_train, target_train)\n",
    "        predictions_valid = model.predict(features_valid)\n",
    "        result = accuracy_score(target_valid, predictions_valid)\n",
    "\n",
    "        if result < best_result:\n",
    "            best_model = model\n",
    "            best_result = result\n",
    "            best_est = est\n",
    "            best_depth = depth\n",
    "model_tree = best_model\n",
    "print(\"Accuracy\")\n",
    "print(\"Валидационная выборка:\", result)"
   ]
  },
  {
   "cell_type": "code",
   "execution_count": 18,
   "metadata": {},
   "outputs": [
    {
     "name": "stdout",
     "output_type": "stream",
     "text": [
      "Accuracy\n",
      "Валидационная выборка: 0.7962674961119751\n"
     ]
    }
   ],
   "source": [
    "#построим модель случайного леса\n",
    "\n",
    "best_model = None\n",
    "best_result = 10000\n",
    "best_est = 0\n",
    "best_depth = 0\n",
    "for est in range(10, 111, 5):\n",
    "    for depth in range(1, 11):\n",
    "        model = RandomForestClassifier(random_state=12345, n_estimators=est, max_depth=depth)\n",
    "        model.fit(features_train, target_train)\n",
    "        predictions_valid = model.predict(features_valid)\n",
    "        result = accuracy_score(target_valid, predictions_valid)\n",
    "    \n",
    "        if result < best_result:\n",
    "            best_model = model\n",
    "            best_result = result\n",
    "            best_est = est\n",
    "            best_depth = depth\n",
    "\n",
    "model_forest = best_model\n",
    "print(\"Accuracy\")\n",
    "print(\"Валидационная выборка:\", result)"
   ]
  },
  {
   "cell_type": "markdown",
   "metadata": {},
   "source": [
    "<div class=\"alert-info\">Случайный лес показывает на валидационной выборке accuracy в 0.7963 предсказывает 79.63% правильных ответов.</div>"
   ]
  },
  {
   "cell_type": "code",
   "execution_count": 20,
   "metadata": {},
   "outputs": [
    {
     "name": "stdout",
     "output_type": "stream",
     "text": [
      "Accuracy\n",
      "Валидационная выборка: 0.7247278382581649\n"
     ]
    }
   ],
   "source": [
    "#построим модель линейной регрессии\n",
    "\n",
    "model  =  LogisticRegression(random_state=12345, solver='lbfgs', max_iter=1000)\n",
    "model.fit(features, target)# Напишите код здесь\n",
    "model.score(features, target) \n",
    "predictions_valid = model.predict(features_valid)\n",
    "result = accuracy_score(target_valid, predictions_valid)\n",
    "    \n",
    "model_logr = model\n",
    "\n",
    "print(\"Accuracy\")\n",
    "print(\"Валидационная выборка:\", result)"
   ]
  },
  {
   "cell_type": "markdown",
   "metadata": {},
   "source": [
    "<div class=\"alert-info\">Линейная регрессия на валидационной выборке c accuracy в 0.7247 предсказывает 72.47% правильных ответов.</div>"
   ]
  },
  {
   "cell_type": "markdown",
   "metadata": {},
   "source": [
    "<div class=\"alert-info\">Самый лучший показатель accuracy у модели случайного леса на валидационной выборке: 0.7962. Возьмем эту модель и проверим её предсказания на тестовой выборке.</div>"
   ]
  },
  {
   "cell_type": "markdown",
   "metadata": {},
   "source": [
    "## Проверьте модель на тестовой выборке"
   ]
  },
  {
   "cell_type": "code",
   "execution_count": 22,
   "metadata": {},
   "outputs": [
    {
     "name": "stdout",
     "output_type": "stream",
     "text": [
      "Accuracy\n",
      "Тестовая выборка: 0.7558320373250389\n"
     ]
    }
   ],
   "source": [
    "#проверим accuracy лучшей модели на тестовой выборке\n",
    "test_predictions = model_forest.predict(features_test)\n",
    "test_accuracy_score = accuracy_score(target_test, test_predictions)\n",
    "\n",
    "print(\"Accuracy\")\n",
    "print(\"Тестовая выборка:\", test_accuracy_score)"
   ]
  },
  {
   "cell_type": "markdown",
   "metadata": {},
   "source": [
    "**Наша модель на тестовой выборке предсказывает 79,94% правильных ответов.**"
   ]
  },
  {
   "cell_type": "markdown",
   "metadata": {},
   "source": [
    "## (бонус) Проверьте модели на адекватность"
   ]
  },
  {
   "cell_type": "code",
   "execution_count": 24,
   "metadata": {},
   "outputs": [
    {
     "name": "stdout",
     "output_type": "stream",
     "text": [
      "Accuracy Dummy-модели на тестовой выборке: 0.6951788491446346\n"
     ]
    }
   ],
   "source": [
    "from sklearn.dummy import DummyClassifier\n",
    "from sklearn.metrics import accuracy_score\n",
    "dummy = DummyClassifier(strategy='most_frequent', random_state=123).fit(features, target)\n",
    "print('Accuracy Dummy-модели на тестовой выборке:', accuracy_score(target_test, dummy.predict(features_test)))"
   ]
  },
  {
   "cell_type": "markdown",
   "metadata": {},
   "source": [
    "## Общий вывод по проекту"
   ]
  },
  {
   "cell_type": "markdown",
   "metadata": {},
   "source": [
    "<div class=\"alert-info\">Пропусков в данных, действительно, не было. Из полученных данных можно заключить, что абоненты с тарифом ultra пользуются тарифными опциями чаще, у них больше средняя продолжительность разговоров, отправленных sms и интернет трафик также потребляется в больших объемах. Сильная корреляционная связь наблюдается только между продолжительностью и числом звонков, что вполне логично.\n",
    "\n",
    "    \n",
    "    Мы разделили данные на обучающую(60%), валидационную(20%) и тестовую выборки(20%).\n",
    "Случайный лес на валидационной выборке с accuracy в 0.7963 предсказывает 79.63% правильных ответов.\n",
    "\n",
    "Наша модель на тестовых данных предсказывает 79,94% правильных ответов. Т.е. это позволит правильно подсказать в 80% случаев нашим абонентам правильный тариф, на который им рекомендуется перейти с их архивного тарифа.</div>"
   ]
  },
  {
   "cell_type": "markdown",
   "metadata": {},
   "source": [
    "## Чек-лист готовности проекта"
   ]
  },
  {
   "cell_type": "markdown",
   "metadata": {},
   "source": [
    "Поставьте 'x' в выполненных пунктах. Далее нажмите Shift+Enter."
   ]
  },
  {
   "cell_type": "markdown",
   "metadata": {},
   "source": [
    "- [x] Jupyter Notebook открыт\n",
    "- [x] Весь код исполняется без ошибок\n",
    "- [x] Ячейки с кодом расположены в порядке исполнения\n",
    "- [x] Выполнено задание 1: данные загружены и изучены\n",
    "- [x] Выполнено задание 2: данные разбиты на три выборки\n",
    "- [x] Выполнено задание 3: проведено исследование моделей\n",
    "    - [x] Рассмотрено больше одной модели\n",
    "    - [x] Рассмотрено хотя бы 3 значения гипепараметров для какой-нибудь модели\n",
    "    - [x] Написаны выводы по результатам исследования\n",
    "- [x] Выполнено задание 3: Проведено тестирование\n",
    "- [x] Удалось достичь accuracy не меньше 0.75\n"
   ]
  }
 ],
 "metadata": {
  "ExecuteTimeLog": [
   {
    "duration": 42,
    "start_time": "2023-06-21T19:53:55.140Z"
   },
   {
    "duration": 385,
    "start_time": "2023-06-21T19:53:58.319Z"
   },
   {
    "duration": 178,
    "start_time": "2023-06-21T19:53:58.956Z"
   },
   {
    "duration": 48,
    "start_time": "2023-06-21T20:09:54.449Z"
   },
   {
    "duration": 26,
    "start_time": "2023-06-21T20:10:05.794Z"
   },
   {
    "duration": 9,
    "start_time": "2023-06-21T20:10:29.294Z"
   },
   {
    "duration": 10,
    "start_time": "2023-06-21T20:10:37.143Z"
   },
   {
    "duration": 4,
    "start_time": "2023-06-21T20:13:35.952Z"
   },
   {
    "duration": 483,
    "start_time": "2023-06-22T15:42:59.723Z"
   },
   {
    "duration": 72,
    "start_time": "2023-06-22T15:51:24.122Z"
   },
   {
    "duration": 446,
    "start_time": "2023-06-22T15:51:58.909Z"
   },
   {
    "duration": 95,
    "start_time": "2023-06-22T15:51:59.357Z"
   },
   {
    "duration": 23,
    "start_time": "2023-06-22T15:51:59.454Z"
   },
   {
    "duration": 112,
    "start_time": "2023-06-22T15:51:59.478Z"
   },
   {
    "duration": 49,
    "start_time": "2023-06-22T15:51:59.593Z"
   },
   {
    "duration": 64,
    "start_time": "2023-06-22T18:11:46.154Z"
   },
   {
    "duration": 463,
    "start_time": "2023-06-22T18:11:55.235Z"
   },
   {
    "duration": 104,
    "start_time": "2023-06-22T18:11:55.701Z"
   },
   {
    "duration": 23,
    "start_time": "2023-06-22T18:11:55.806Z"
   },
   {
    "duration": 4,
    "start_time": "2023-06-22T18:11:55.831Z"
   },
   {
    "duration": 13,
    "start_time": "2023-06-22T18:11:55.838Z"
   },
   {
    "duration": 84,
    "start_time": "2023-06-22T18:24:03.943Z"
   },
   {
    "duration": 13,
    "start_time": "2023-06-22T18:24:19.584Z"
   },
   {
    "duration": 18,
    "start_time": "2023-06-22T18:24:26.635Z"
   },
   {
    "duration": 10,
    "start_time": "2023-06-22T18:27:18.406Z"
   },
   {
    "duration": 173,
    "start_time": "2023-06-22T18:48:59.870Z"
   },
   {
    "duration": 8,
    "start_time": "2023-06-22T18:49:19.321Z"
   },
   {
    "duration": 573,
    "start_time": "2023-06-22T18:56:55.824Z"
   },
   {
    "duration": 6,
    "start_time": "2023-06-22T18:58:16.517Z"
   },
   {
    "duration": 15,
    "start_time": "2023-06-22T19:06:05.715Z"
   },
   {
    "duration": 128,
    "start_time": "2023-06-22T19:06:31.952Z"
   },
   {
    "duration": 25,
    "start_time": "2023-06-22T19:06:40.914Z"
   },
   {
    "duration": 324,
    "start_time": "2023-06-22T19:07:40.514Z"
   },
   {
    "duration": 405,
    "start_time": "2023-06-22T19:08:17.771Z"
   },
   {
    "duration": 349,
    "start_time": "2023-06-22T19:08:23.989Z"
   },
   {
    "duration": 38,
    "start_time": "2023-06-22T19:08:29.734Z"
   },
   {
    "duration": 39,
    "start_time": "2023-06-22T19:10:27.640Z"
   },
   {
    "duration": 24,
    "start_time": "2023-06-22T19:11:04.896Z"
   },
   {
    "duration": 29,
    "start_time": "2023-06-22T19:17:25.734Z"
   },
   {
    "duration": 17,
    "start_time": "2023-06-22T19:20:23.956Z"
   },
   {
    "duration": 10,
    "start_time": "2023-06-22T19:22:23.887Z"
   },
   {
    "duration": 2,
    "start_time": "2023-06-22T19:23:45.617Z"
   },
   {
    "duration": 8,
    "start_time": "2023-06-22T19:24:37.047Z"
   },
   {
    "duration": 1247,
    "start_time": "2023-06-22T19:24:46.646Z"
   },
   {
    "duration": 54,
    "start_time": "2023-06-22T19:24:47.895Z"
   },
   {
    "duration": 39,
    "start_time": "2023-06-22T19:24:47.950Z"
   },
   {
    "duration": 4,
    "start_time": "2023-06-22T19:24:47.991Z"
   },
   {
    "duration": 22,
    "start_time": "2023-06-22T19:24:47.997Z"
   },
   {
    "duration": 7,
    "start_time": "2023-06-22T19:24:48.021Z"
   },
   {
    "duration": 49,
    "start_time": "2023-06-22T19:24:48.030Z"
   },
   {
    "duration": 25,
    "start_time": "2023-06-22T19:24:48.085Z"
   },
   {
    "duration": 25,
    "start_time": "2023-06-22T19:24:48.111Z"
   },
   {
    "duration": 422,
    "start_time": "2023-06-22T19:24:48.137Z"
   },
   {
    "duration": 10,
    "start_time": "2023-06-22T19:24:48.565Z"
   },
   {
    "duration": 111,
    "start_time": "2023-06-22T19:32:35.372Z"
   },
   {
    "duration": 362,
    "start_time": "2023-06-22T19:32:42.860Z"
   },
   {
    "duration": 325,
    "start_time": "2023-06-22T19:39:47.305Z"
   },
   {
    "duration": 342,
    "start_time": "2023-06-22T19:40:31.654Z"
   },
   {
    "duration": 6,
    "start_time": "2023-06-22T19:40:36.125Z"
   },
   {
    "duration": 378,
    "start_time": "2023-06-22T19:40:36.924Z"
   },
   {
    "duration": 288,
    "start_time": "2023-06-22T19:40:55.486Z"
   },
   {
    "duration": 303,
    "start_time": "2023-06-22T19:41:18.197Z"
   },
   {
    "duration": 101,
    "start_time": "2023-06-22T19:44:13.284Z"
   },
   {
    "duration": 120,
    "start_time": "2023-06-22T19:44:43.715Z"
   },
   {
    "duration": 1125,
    "start_time": "2023-06-22T19:46:39.203Z"
   },
   {
    "duration": 49,
    "start_time": "2023-06-22T19:46:40.330Z"
   },
   {
    "duration": 22,
    "start_time": "2023-06-22T19:46:40.382Z"
   },
   {
    "duration": 4,
    "start_time": "2023-06-22T19:46:40.406Z"
   },
   {
    "duration": 17,
    "start_time": "2023-06-22T19:46:40.411Z"
   },
   {
    "duration": 6,
    "start_time": "2023-06-22T19:46:40.429Z"
   },
   {
    "duration": 56,
    "start_time": "2023-06-22T19:46:40.437Z"
   },
   {
    "duration": 23,
    "start_time": "2023-06-22T19:46:40.494Z"
   },
   {
    "duration": 25,
    "start_time": "2023-06-22T19:46:40.518Z"
   },
   {
    "duration": 12,
    "start_time": "2023-06-22T19:46:40.556Z"
   },
   {
    "duration": 356,
    "start_time": "2023-06-22T19:46:40.572Z"
   },
   {
    "duration": 362,
    "start_time": "2023-06-22T19:46:40.930Z"
   },
   {
    "duration": 127,
    "start_time": "2023-06-22T19:46:41.294Z"
   },
   {
    "duration": 15,
    "start_time": "2023-06-22T19:49:32.034Z"
   },
   {
    "duration": 6,
    "start_time": "2023-06-22T19:49:42.955Z"
   },
   {
    "duration": 20,
    "start_time": "2023-06-22T19:49:56.345Z"
   },
   {
    "duration": 20,
    "start_time": "2023-06-22T19:51:10.770Z"
   },
   {
    "duration": 7,
    "start_time": "2023-06-22T19:51:20.134Z"
   },
   {
    "duration": 4,
    "start_time": "2023-06-22T19:51:47.041Z"
   },
   {
    "duration": 311,
    "start_time": "2023-06-22T19:58:28.637Z"
   },
   {
    "duration": 5,
    "start_time": "2023-06-22T20:00:30.082Z"
   },
   {
    "duration": 9,
    "start_time": "2023-06-22T20:00:31.828Z"
   },
   {
    "duration": 11,
    "start_time": "2023-06-22T20:00:40.519Z"
   },
   {
    "duration": 2,
    "start_time": "2023-06-22T20:19:04.428Z"
   },
   {
    "duration": 9,
    "start_time": "2023-06-22T20:26:12.156Z"
   },
   {
    "duration": 9,
    "start_time": "2023-06-22T20:26:53.092Z"
   },
   {
    "duration": 8,
    "start_time": "2023-06-22T20:26:59.292Z"
   },
   {
    "duration": 8,
    "start_time": "2023-06-22T20:28:28.216Z"
   },
   {
    "duration": 101,
    "start_time": "2023-06-22T20:29:41.830Z"
   },
   {
    "duration": 103,
    "start_time": "2023-06-22T20:29:50.259Z"
   },
   {
    "duration": 1530,
    "start_time": "2023-06-22T20:30:03.640Z"
   },
   {
    "duration": 56,
    "start_time": "2023-06-22T20:30:05.172Z"
   },
   {
    "duration": 24,
    "start_time": "2023-06-22T20:30:05.230Z"
   },
   {
    "duration": 5,
    "start_time": "2023-06-22T20:30:05.256Z"
   },
   {
    "duration": 27,
    "start_time": "2023-06-22T20:30:05.263Z"
   },
   {
    "duration": 7,
    "start_time": "2023-06-22T20:30:05.292Z"
   },
   {
    "duration": 41,
    "start_time": "2023-06-22T20:30:05.301Z"
   },
   {
    "duration": 41,
    "start_time": "2023-06-22T20:30:05.344Z"
   },
   {
    "duration": 28,
    "start_time": "2023-06-22T20:30:05.387Z"
   },
   {
    "duration": 4,
    "start_time": "2023-06-22T20:30:05.417Z"
   },
   {
    "duration": 402,
    "start_time": "2023-06-22T20:30:05.423Z"
   },
   {
    "duration": 370,
    "start_time": "2023-06-22T20:30:05.826Z"
   },
   {
    "duration": 5,
    "start_time": "2023-06-22T20:30:06.199Z"
   },
   {
    "duration": 10,
    "start_time": "2023-06-22T20:30:06.206Z"
   },
   {
    "duration": 167,
    "start_time": "2023-06-22T20:30:06.218Z"
   },
   {
    "duration": 10,
    "start_time": "2023-06-22T20:36:24.098Z"
   },
   {
    "duration": 1495,
    "start_time": "2023-06-23T17:38:44.153Z"
   },
   {
    "duration": 106,
    "start_time": "2023-06-23T17:59:40.874Z"
   },
   {
    "duration": 1408,
    "start_time": "2023-06-23T17:59:52.301Z"
   },
   {
    "duration": 123,
    "start_time": "2023-06-23T17:59:53.711Z"
   },
   {
    "duration": 17,
    "start_time": "2023-06-23T17:59:53.835Z"
   },
   {
    "duration": 12,
    "start_time": "2023-06-23T17:59:53.854Z"
   },
   {
    "duration": 26,
    "start_time": "2023-06-23T17:59:53.867Z"
   },
   {
    "duration": 17,
    "start_time": "2023-06-23T17:59:53.894Z"
   },
   {
    "duration": 34,
    "start_time": "2023-06-23T17:59:53.913Z"
   },
   {
    "duration": 31,
    "start_time": "2023-06-23T17:59:53.948Z"
   },
   {
    "duration": 30,
    "start_time": "2023-06-23T17:59:53.980Z"
   },
   {
    "duration": 4,
    "start_time": "2023-06-23T17:59:54.011Z"
   },
   {
    "duration": 295,
    "start_time": "2023-06-23T17:59:54.016Z"
   },
   {
    "duration": 276,
    "start_time": "2023-06-23T17:59:54.312Z"
   },
   {
    "duration": 10,
    "start_time": "2023-06-23T17:59:54.589Z"
   },
   {
    "duration": 7,
    "start_time": "2023-06-23T17:59:54.601Z"
   },
   {
    "duration": 13,
    "start_time": "2023-06-23T17:59:54.609Z"
   },
   {
    "duration": 124,
    "start_time": "2023-06-23T17:59:54.623Z"
   },
   {
    "duration": 18,
    "start_time": "2023-06-23T18:00:18.948Z"
   },
   {
    "duration": 16,
    "start_time": "2023-06-23T18:00:23.175Z"
   },
   {
    "duration": 16,
    "start_time": "2023-06-23T18:00:26.252Z"
   },
   {
    "duration": 15,
    "start_time": "2023-06-23T18:00:29.256Z"
   },
   {
    "duration": 17,
    "start_time": "2023-06-23T18:00:37.116Z"
   },
   {
    "duration": 37,
    "start_time": "2023-06-23T18:01:06.060Z"
   },
   {
    "duration": 32,
    "start_time": "2023-06-23T18:01:21.948Z"
   },
   {
    "duration": 31,
    "start_time": "2023-06-23T18:02:02.456Z"
   },
   {
    "duration": 29,
    "start_time": "2023-06-23T18:03:25.056Z"
   },
   {
    "duration": 28,
    "start_time": "2023-06-23T18:04:11.052Z"
   },
   {
    "duration": 30,
    "start_time": "2023-06-23T18:04:23.559Z"
   },
   {
    "duration": 32,
    "start_time": "2023-06-23T18:04:42.847Z"
   },
   {
    "duration": 34,
    "start_time": "2023-06-23T18:04:51.522Z"
   },
   {
    "duration": 28,
    "start_time": "2023-06-23T18:05:01.412Z"
   },
   {
    "duration": 53,
    "start_time": "2023-06-23T18:05:41.055Z"
   },
   {
    "duration": 13,
    "start_time": "2023-06-23T18:05:54.114Z"
   },
   {
    "duration": 16,
    "start_time": "2023-06-23T18:06:02.449Z"
   },
   {
    "duration": 5,
    "start_time": "2023-06-23T18:12:52.969Z"
   },
   {
    "duration": 5,
    "start_time": "2023-06-23T18:13:14.713Z"
   },
   {
    "duration": 6,
    "start_time": "2023-06-23T18:14:45.866Z"
   },
   {
    "duration": 9,
    "start_time": "2023-06-23T19:05:59.634Z"
   },
   {
    "duration": 9,
    "start_time": "2023-06-23T19:06:03.276Z"
   },
   {
    "duration": 61,
    "start_time": "2023-06-23T19:18:02.311Z"
   },
   {
    "duration": 49,
    "start_time": "2023-06-23T19:20:27.367Z"
   },
   {
    "duration": 16,
    "start_time": "2023-06-23T19:20:34.538Z"
   },
   {
    "duration": 10110,
    "start_time": "2023-06-23T19:23:20.557Z"
   },
   {
    "duration": 14698,
    "start_time": "2023-06-23T19:24:24.808Z"
   },
   {
    "duration": 17,
    "start_time": "2023-06-23T19:24:59.566Z"
   },
   {
    "duration": 135354,
    "start_time": "2023-06-23T19:25:45.162Z"
   },
   {
    "duration": 14753,
    "start_time": "2023-06-23T19:28:24.738Z"
   },
   {
    "duration": 17708,
    "start_time": "2023-06-23T19:29:03.818Z"
   },
   {
    "duration": 15,
    "start_time": "2023-06-23T19:29:38.047Z"
   },
   {
    "duration": 17257,
    "start_time": "2023-06-23T19:30:11.922Z"
   },
   {
    "duration": 20,
    "start_time": "2023-06-23T19:30:29.180Z"
   },
   {
    "duration": 3,
    "start_time": "2023-06-23T19:35:52.367Z"
   },
   {
    "duration": 8,
    "start_time": "2023-06-23T19:42:42.146Z"
   },
   {
    "duration": 9,
    "start_time": "2023-06-23T19:42:57.914Z"
   },
   {
    "duration": 15,
    "start_time": "2023-06-23T19:43:14.030Z"
   },
   {
    "duration": 15,
    "start_time": "2023-06-23T19:43:43.315Z"
   },
   {
    "duration": 1361,
    "start_time": "2023-06-23T19:44:11.232Z"
   },
   {
    "duration": 52,
    "start_time": "2023-06-23T19:44:12.594Z"
   },
   {
    "duration": 19,
    "start_time": "2023-06-23T19:44:12.648Z"
   },
   {
    "duration": 3,
    "start_time": "2023-06-23T19:44:12.668Z"
   },
   {
    "duration": 12,
    "start_time": "2023-06-23T19:44:12.673Z"
   },
   {
    "duration": 8,
    "start_time": "2023-06-23T19:44:12.686Z"
   },
   {
    "duration": 45,
    "start_time": "2023-06-23T19:44:12.696Z"
   },
   {
    "duration": 19,
    "start_time": "2023-06-23T19:44:12.743Z"
   },
   {
    "duration": 20,
    "start_time": "2023-06-23T19:44:12.763Z"
   },
   {
    "duration": 4,
    "start_time": "2023-06-23T19:44:12.784Z"
   },
   {
    "duration": 335,
    "start_time": "2023-06-23T19:44:12.789Z"
   },
   {
    "duration": 270,
    "start_time": "2023-06-23T19:44:13.126Z"
   },
   {
    "duration": 5,
    "start_time": "2023-06-23T19:44:13.399Z"
   },
   {
    "duration": 37,
    "start_time": "2023-06-23T19:44:13.406Z"
   },
   {
    "duration": 16,
    "start_time": "2023-06-23T19:44:13.444Z"
   },
   {
    "duration": 27,
    "start_time": "2023-06-23T19:44:13.461Z"
   },
   {
    "duration": 5,
    "start_time": "2023-06-23T19:44:13.489Z"
   },
   {
    "duration": 18214,
    "start_time": "2023-06-23T19:44:13.495Z"
   },
   {
    "duration": 15,
    "start_time": "2023-06-23T19:44:31.711Z"
   },
   {
    "duration": 17,
    "start_time": "2023-06-23T19:44:31.728Z"
   },
   {
    "duration": 77,
    "start_time": "2023-06-23T19:44:31.746Z"
   },
   {
    "duration": 19785,
    "start_time": "2023-06-23T19:45:44.433Z"
   },
   {
    "duration": 16,
    "start_time": "2023-06-23T19:46:04.220Z"
   },
   {
    "duration": 14,
    "start_time": "2023-06-23T19:46:22.329Z"
   },
   {
    "duration": 35326,
    "start_time": "2023-06-23T19:46:59.246Z"
   },
   {
    "duration": 14,
    "start_time": "2023-06-23T19:49:14.150Z"
   },
   {
    "duration": 111,
    "start_time": "2023-06-23T19:54:04.946Z"
   },
   {
    "duration": 9,
    "start_time": "2023-06-23T19:55:07.716Z"
   },
   {
    "duration": 10,
    "start_time": "2023-06-23T19:55:11.929Z"
   },
   {
    "duration": 4,
    "start_time": "2023-06-23T19:55:22.566Z"
   },
   {
    "duration": 47,
    "start_time": "2023-06-23T19:55:24.178Z"
   },
   {
    "duration": 19,
    "start_time": "2023-06-23T19:55:24.369Z"
   },
   {
    "duration": 4,
    "start_time": "2023-06-23T19:55:24.529Z"
   },
   {
    "duration": 10,
    "start_time": "2023-06-23T19:55:24.743Z"
   },
   {
    "duration": 6,
    "start_time": "2023-06-23T19:55:25.425Z"
   },
   {
    "duration": 21,
    "start_time": "2023-06-23T19:55:25.730Z"
   },
   {
    "duration": 24,
    "start_time": "2023-06-23T19:55:26.057Z"
   },
   {
    "duration": 22,
    "start_time": "2023-06-23T19:55:26.413Z"
   },
   {
    "duration": 4,
    "start_time": "2023-06-23T19:55:26.747Z"
   },
   {
    "duration": 287,
    "start_time": "2023-06-23T19:55:26.918Z"
   },
   {
    "duration": 299,
    "start_time": "2023-06-23T19:55:27.206Z"
   },
   {
    "duration": 4,
    "start_time": "2023-06-23T19:55:27.648Z"
   },
   {
    "duration": 6,
    "start_time": "2023-06-23T19:55:27.849Z"
   },
   {
    "duration": 2,
    "start_time": "2023-06-23T19:55:28.446Z"
   },
   {
    "duration": 16,
    "start_time": "2023-06-23T19:55:28.633Z"
   },
   {
    "duration": 34229,
    "start_time": "2023-06-23T19:55:29.031Z"
   },
   {
    "duration": 7,
    "start_time": "2023-06-23T19:56:03.262Z"
   },
   {
    "duration": 8,
    "start_time": "2023-06-23T19:56:03.271Z"
   },
   {
    "duration": 22,
    "start_time": "2023-06-23T19:59:04.821Z"
   },
   {
    "duration": 1447,
    "start_time": "2023-06-23T20:00:36.319Z"
   },
   {
    "duration": 45,
    "start_time": "2023-06-23T20:00:37.768Z"
   },
   {
    "duration": 21,
    "start_time": "2023-06-23T20:00:37.814Z"
   },
   {
    "duration": 3,
    "start_time": "2023-06-23T20:00:37.838Z"
   },
   {
    "duration": 15,
    "start_time": "2023-06-23T20:00:37.842Z"
   },
   {
    "duration": 5,
    "start_time": "2023-06-23T20:00:37.858Z"
   },
   {
    "duration": 47,
    "start_time": "2023-06-23T20:00:37.864Z"
   },
   {
    "duration": 21,
    "start_time": "2023-06-23T20:00:37.913Z"
   },
   {
    "duration": 22,
    "start_time": "2023-06-23T20:00:37.936Z"
   },
   {
    "duration": 4,
    "start_time": "2023-06-23T20:00:37.960Z"
   },
   {
    "duration": 347,
    "start_time": "2023-06-23T20:00:37.966Z"
   },
   {
    "duration": 277,
    "start_time": "2023-06-23T20:00:38.315Z"
   },
   {
    "duration": 6,
    "start_time": "2023-06-23T20:00:38.594Z"
   },
   {
    "duration": 19,
    "start_time": "2023-06-23T20:00:38.609Z"
   },
   {
    "duration": 10,
    "start_time": "2023-06-23T20:00:38.630Z"
   },
   {
    "duration": 30,
    "start_time": "2023-06-23T20:00:38.641Z"
   },
   {
    "duration": 36025,
    "start_time": "2023-06-23T20:00:38.672Z"
   },
   {
    "duration": 155,
    "start_time": "2023-06-23T20:01:14.699Z"
   },
   {
    "duration": 0,
    "start_time": "2023-06-23T20:01:14.856Z"
   },
   {
    "duration": 0,
    "start_time": "2023-06-23T20:01:14.857Z"
   },
   {
    "duration": 34847,
    "start_time": "2023-06-23T20:06:13.625Z"
   },
   {
    "duration": 19,
    "start_time": "2023-06-23T20:06:48.474Z"
   },
   {
    "duration": 1743,
    "start_time": "2023-06-24T09:39:12.176Z"
   },
   {
    "duration": 120,
    "start_time": "2023-06-24T09:39:42.117Z"
   },
   {
    "duration": 12,
    "start_time": "2023-06-24T09:39:55.638Z"
   },
   {
    "duration": 1609,
    "start_time": "2023-06-24T09:40:07.650Z"
   },
   {
    "duration": 149,
    "start_time": "2023-06-24T09:40:09.262Z"
   },
   {
    "duration": 33,
    "start_time": "2023-06-24T09:40:09.414Z"
   },
   {
    "duration": 8,
    "start_time": "2023-06-24T09:40:09.449Z"
   },
   {
    "duration": 23,
    "start_time": "2023-06-24T09:40:09.460Z"
   },
   {
    "duration": 11,
    "start_time": "2023-06-24T09:40:09.485Z"
   },
   {
    "duration": 54,
    "start_time": "2023-06-24T09:40:09.498Z"
   },
   {
    "duration": 32,
    "start_time": "2023-06-24T09:40:09.554Z"
   },
   {
    "duration": 28,
    "start_time": "2023-06-24T09:40:09.588Z"
   },
   {
    "duration": 6,
    "start_time": "2023-06-24T09:40:09.618Z"
   },
   {
    "duration": 396,
    "start_time": "2023-06-24T09:40:09.626Z"
   },
   {
    "duration": 368,
    "start_time": "2023-06-24T09:40:10.024Z"
   },
   {
    "duration": 5,
    "start_time": "2023-06-24T09:40:10.394Z"
   },
   {
    "duration": 35,
    "start_time": "2023-06-24T09:40:10.402Z"
   },
   {
    "duration": 28,
    "start_time": "2023-06-24T09:40:10.439Z"
   },
   {
    "duration": 36,
    "start_time": "2023-06-24T09:40:10.470Z"
   },
   {
    "duration": 37257,
    "start_time": "2023-06-24T09:40:10.508Z"
   },
   {
    "duration": 291,
    "start_time": "2023-06-24T09:40:47.767Z"
   },
   {
    "duration": 94,
    "start_time": "2023-06-24T09:40:48.060Z"
   },
   {
    "duration": 136,
    "start_time": "2023-06-24T10:04:24.657Z"
   },
   {
    "duration": 7,
    "start_time": "2023-06-24T10:04:37.547Z"
   },
   {
    "duration": 18,
    "start_time": "2023-06-24T10:05:11.048Z"
   },
   {
    "duration": 27,
    "start_time": "2023-06-24T10:05:11.887Z"
   },
   {
    "duration": 2400,
    "start_time": "2023-06-24T10:05:30.468Z"
   },
   {
    "duration": 7,
    "start_time": "2023-06-24T10:05:34.916Z"
   },
   {
    "duration": 62,
    "start_time": "2023-06-25T15:49:39.211Z"
   },
   {
    "duration": 1802,
    "start_time": "2023-06-25T15:50:29.650Z"
   },
   {
    "duration": 138,
    "start_time": "2023-06-25T15:50:31.455Z"
   },
   {
    "duration": 25,
    "start_time": "2023-06-25T15:50:31.595Z"
   },
   {
    "duration": 18,
    "start_time": "2023-06-25T15:50:31.623Z"
   },
   {
    "duration": 34,
    "start_time": "2023-06-25T15:50:31.643Z"
   },
   {
    "duration": 7,
    "start_time": "2023-06-25T15:50:32.089Z"
   },
   {
    "duration": 41,
    "start_time": "2023-06-25T15:50:32.325Z"
   },
   {
    "duration": 28,
    "start_time": "2023-06-25T15:50:33.667Z"
   },
   {
    "duration": 76,
    "start_time": "2023-06-25T15:50:49.856Z"
   },
   {
    "duration": 1479,
    "start_time": "2023-06-25T15:51:23.146Z"
   },
   {
    "duration": 46,
    "start_time": "2023-06-25T15:51:24.628Z"
   },
   {
    "duration": 27,
    "start_time": "2023-06-25T15:51:24.676Z"
   },
   {
    "duration": 4,
    "start_time": "2023-06-25T15:51:24.706Z"
   },
   {
    "duration": 20,
    "start_time": "2023-06-25T15:51:24.711Z"
   },
   {
    "duration": 13,
    "start_time": "2023-06-25T15:51:24.733Z"
   },
   {
    "duration": 38,
    "start_time": "2023-06-25T15:51:24.748Z"
   },
   {
    "duration": 38,
    "start_time": "2023-06-25T15:51:24.788Z"
   },
   {
    "duration": 27,
    "start_time": "2023-06-25T15:51:24.827Z"
   },
   {
    "duration": 8,
    "start_time": "2023-06-25T15:51:24.856Z"
   },
   {
    "duration": 400,
    "start_time": "2023-06-25T15:51:24.866Z"
   },
   {
    "duration": 350,
    "start_time": "2023-06-25T15:51:25.268Z"
   },
   {
    "duration": 5,
    "start_time": "2023-06-25T15:51:25.619Z"
   },
   {
    "duration": 16,
    "start_time": "2023-06-25T15:51:25.626Z"
   },
   {
    "duration": 38,
    "start_time": "2023-06-25T15:51:25.643Z"
   },
   {
    "duration": 150,
    "start_time": "2023-06-25T15:51:25.683Z"
   },
   {
    "duration": 0,
    "start_time": "2023-06-25T15:51:25.834Z"
   },
   {
    "duration": 0,
    "start_time": "2023-06-25T15:51:25.836Z"
   },
   {
    "duration": 0,
    "start_time": "2023-06-25T15:51:25.837Z"
   },
   {
    "duration": 0,
    "start_time": "2023-06-25T15:51:25.838Z"
   },
   {
    "duration": 4,
    "start_time": "2023-06-25T15:51:51.099Z"
   },
   {
    "duration": 1261,
    "start_time": "2023-06-25T15:51:52.950Z"
   },
   {
    "duration": 6,
    "start_time": "2023-06-25T15:52:40.250Z"
   },
   {
    "duration": 12,
    "start_time": "2023-06-25T16:42:37.383Z"
   },
   {
    "duration": 381,
    "start_time": "2023-06-25T16:42:38.423Z"
   },
   {
    "duration": 1554,
    "start_time": "2023-06-25T16:42:55.452Z"
   },
   {
    "duration": 45,
    "start_time": "2023-06-25T16:42:57.008Z"
   },
   {
    "duration": 25,
    "start_time": "2023-06-25T16:42:57.054Z"
   },
   {
    "duration": 4,
    "start_time": "2023-06-25T16:42:57.081Z"
   },
   {
    "duration": 14,
    "start_time": "2023-06-25T16:42:57.087Z"
   },
   {
    "duration": 10,
    "start_time": "2023-06-25T16:42:57.103Z"
   },
   {
    "duration": 27,
    "start_time": "2023-06-25T16:42:57.115Z"
   },
   {
    "duration": 25,
    "start_time": "2023-06-25T16:42:57.143Z"
   },
   {
    "duration": 44,
    "start_time": "2023-06-25T16:42:57.170Z"
   },
   {
    "duration": 5,
    "start_time": "2023-06-25T16:42:57.216Z"
   },
   {
    "duration": 431,
    "start_time": "2023-06-25T16:42:57.222Z"
   },
   {
    "duration": 349,
    "start_time": "2023-06-25T16:42:57.655Z"
   },
   {
    "duration": 4,
    "start_time": "2023-06-25T16:42:58.006Z"
   },
   {
    "duration": 12,
    "start_time": "2023-06-25T16:42:58.013Z"
   },
   {
    "duration": 7,
    "start_time": "2023-06-25T16:42:58.026Z"
   },
   {
    "duration": 1288,
    "start_time": "2023-06-25T16:42:58.034Z"
   },
   {
    "duration": 124,
    "start_time": "2023-06-25T16:42:59.325Z"
   },
   {
    "duration": 0,
    "start_time": "2023-06-25T16:42:59.451Z"
   },
   {
    "duration": 0,
    "start_time": "2023-06-25T16:42:59.453Z"
   },
   {
    "duration": 13,
    "start_time": "2023-06-25T16:45:02.921Z"
   },
   {
    "duration": 1247,
    "start_time": "2023-06-25T16:45:07.235Z"
   },
   {
    "duration": 4,
    "start_time": "2023-06-25T16:45:32.170Z"
   },
   {
    "duration": 31314,
    "start_time": "2023-06-25T16:45:38.113Z"
   },
   {
    "duration": 582,
    "start_time": "2023-06-25T16:46:09.429Z"
   },
   {
    "duration": 31,
    "start_time": "2023-06-25T16:46:10.108Z"
   },
   {
    "duration": 1480,
    "start_time": "2023-06-25T16:47:29.379Z"
   },
   {
    "duration": 1454,
    "start_time": "2023-06-25T16:47:46.918Z"
   },
   {
    "duration": 7,
    "start_time": "2023-06-25T16:48:59.827Z"
   },
   {
    "duration": 7,
    "start_time": "2023-06-25T16:49:09.089Z"
   },
   {
    "duration": 7,
    "start_time": "2023-06-25T16:49:25.459Z"
   },
   {
    "duration": 1507,
    "start_time": "2023-06-25T17:02:48.788Z"
   },
   {
    "duration": 44,
    "start_time": "2023-06-25T17:02:50.297Z"
   },
   {
    "duration": 32,
    "start_time": "2023-06-25T17:02:50.342Z"
   },
   {
    "duration": 5,
    "start_time": "2023-06-25T17:02:50.375Z"
   },
   {
    "duration": 18,
    "start_time": "2023-06-25T17:02:50.383Z"
   },
   {
    "duration": 39,
    "start_time": "2023-06-25T17:02:50.403Z"
   },
   {
    "duration": 41,
    "start_time": "2023-06-25T17:02:50.444Z"
   },
   {
    "duration": 35,
    "start_time": "2023-06-25T17:02:50.487Z"
   },
   {
    "duration": 36,
    "start_time": "2023-06-25T17:02:50.524Z"
   },
   {
    "duration": 12,
    "start_time": "2023-06-25T17:02:50.563Z"
   },
   {
    "duration": 377,
    "start_time": "2023-06-25T17:02:50.578Z"
   },
   {
    "duration": 365,
    "start_time": "2023-06-25T17:02:50.956Z"
   },
   {
    "duration": 5,
    "start_time": "2023-06-25T17:02:51.323Z"
   },
   {
    "duration": 11,
    "start_time": "2023-06-25T17:02:51.331Z"
   },
   {
    "duration": 6,
    "start_time": "2023-06-25T17:02:51.344Z"
   },
   {
    "duration": 1263,
    "start_time": "2023-06-25T17:02:51.351Z"
   },
   {
    "duration": 6,
    "start_time": "2023-06-25T17:02:52.616Z"
   },
   {
    "duration": 30367,
    "start_time": "2023-06-25T17:02:52.623Z"
   },
   {
    "duration": 32,
    "start_time": "2023-06-25T17:03:22.991Z"
   },
   {
    "duration": 578,
    "start_time": "2023-06-25T17:03:23.024Z"
   },
   {
    "duration": 96,
    "start_time": "2023-06-25T17:03:23.607Z"
   },
   {
    "duration": 6,
    "start_time": "2023-06-25T17:03:35.364Z"
   },
   {
    "duration": 7,
    "start_time": "2023-06-25T17:03:57.315Z"
   },
   {
    "duration": 30784,
    "start_time": "2023-06-25T17:04:01.290Z"
   },
   {
    "duration": 1209,
    "start_time": "2023-06-25T17:04:32.077Z"
   },
   {
    "duration": 14,
    "start_time": "2023-06-25T17:04:33.288Z"
   },
   {
    "duration": 30402,
    "start_time": "2023-06-25T17:04:49.301Z"
   },
   {
    "duration": 24,
    "start_time": "2023-06-25T17:05:19.705Z"
   },
   {
    "duration": 472,
    "start_time": "2023-06-25T17:05:19.731Z"
   },
   {
    "duration": 98,
    "start_time": "2023-06-25T17:05:20.205Z"
   },
   {
    "duration": 543,
    "start_time": "2023-06-25T17:05:24.162Z"
   },
   {
    "duration": 8,
    "start_time": "2023-06-25T17:05:26.444Z"
   },
   {
    "duration": 314,
    "start_time": "2023-06-25T17:05:35.889Z"
   },
   {
    "duration": 367,
    "start_time": "2023-06-25T17:05:41.644Z"
   },
   {
    "duration": 6,
    "start_time": "2023-06-25T17:05:42.561Z"
   },
   {
    "duration": 6,
    "start_time": "2023-06-25T17:06:23.501Z"
   },
   {
    "duration": 6,
    "start_time": "2023-06-25T17:06:27.889Z"
   },
   {
    "duration": 7,
    "start_time": "2023-06-25T17:06:33.134Z"
   },
   {
    "duration": 30300,
    "start_time": "2023-06-25T17:08:30.288Z"
   },
   {
    "duration": 39,
    "start_time": "2023-06-25T17:09:00.590Z"
   },
   {
    "duration": 342,
    "start_time": "2023-06-25T17:09:38.366Z"
   },
   {
    "duration": 7,
    "start_time": "2023-06-25T17:09:39.482Z"
   },
   {
    "duration": 1183,
    "start_time": "2023-06-25T17:09:50.914Z"
   },
   {
    "duration": 7,
    "start_time": "2023-06-25T17:09:52.501Z"
   },
   {
    "duration": 30408,
    "start_time": "2023-06-25T17:12:18.213Z"
   },
   {
    "duration": 27,
    "start_time": "2023-06-25T17:12:48.623Z"
   },
   {
    "duration": 13,
    "start_time": "2023-06-25T17:17:31.246Z"
   },
   {
    "duration": 4,
    "start_time": "2023-06-25T17:39:02.015Z"
   },
   {
    "duration": 1551,
    "start_time": "2023-06-25T17:47:16.010Z"
   },
   {
    "duration": 49,
    "start_time": "2023-06-25T17:47:17.563Z"
   },
   {
    "duration": 26,
    "start_time": "2023-06-25T17:47:17.613Z"
   },
   {
    "duration": 4,
    "start_time": "2023-06-25T17:47:17.641Z"
   },
   {
    "duration": 24,
    "start_time": "2023-06-25T17:47:17.647Z"
   },
   {
    "duration": 7,
    "start_time": "2023-06-25T17:47:17.672Z"
   },
   {
    "duration": 49,
    "start_time": "2023-06-25T17:47:17.680Z"
   },
   {
    "duration": 28,
    "start_time": "2023-06-25T17:47:17.731Z"
   },
   {
    "duration": 48,
    "start_time": "2023-06-25T17:47:17.761Z"
   },
   {
    "duration": 7,
    "start_time": "2023-06-25T17:47:17.811Z"
   },
   {
    "duration": 367,
    "start_time": "2023-06-25T17:47:17.819Z"
   },
   {
    "duration": 332,
    "start_time": "2023-06-25T17:47:18.187Z"
   },
   {
    "duration": 5,
    "start_time": "2023-06-25T17:47:18.521Z"
   },
   {
    "duration": 13,
    "start_time": "2023-06-25T17:47:18.530Z"
   },
   {
    "duration": 33,
    "start_time": "2023-06-25T17:47:18.545Z"
   },
   {
    "duration": 1221,
    "start_time": "2023-06-25T17:47:18.581Z"
   },
   {
    "duration": 7,
    "start_time": "2023-06-25T17:47:19.804Z"
   },
   {
    "duration": 30566,
    "start_time": "2023-06-25T17:47:19.813Z"
   },
   {
    "duration": 33,
    "start_time": "2023-06-25T17:47:50.380Z"
   },
   {
    "duration": 492,
    "start_time": "2023-06-25T17:47:50.415Z"
   },
   {
    "duration": 94,
    "start_time": "2023-06-25T17:47:50.909Z"
   },
   {
    "duration": 98,
    "start_time": "2023-06-25T17:47:51.006Z"
   },
   {
    "duration": 2,
    "start_time": "2023-06-25T17:47:51.106Z"
   },
   {
    "duration": 1589,
    "start_time": "2023-06-27T10:59:09.568Z"
   },
   {
    "duration": 75,
    "start_time": "2023-06-27T10:59:11.159Z"
   },
   {
    "duration": 22,
    "start_time": "2023-06-27T10:59:11.236Z"
   },
   {
    "duration": 3,
    "start_time": "2023-06-27T10:59:11.260Z"
   },
   {
    "duration": 11,
    "start_time": "2023-06-27T10:59:11.265Z"
   },
   {
    "duration": 7,
    "start_time": "2023-06-27T10:59:11.277Z"
   },
   {
    "duration": 24,
    "start_time": "2023-06-27T10:59:11.285Z"
   },
   {
    "duration": 22,
    "start_time": "2023-06-27T10:59:11.310Z"
   },
   {
    "duration": 48,
    "start_time": "2023-06-27T10:59:11.333Z"
   },
   {
    "duration": 5,
    "start_time": "2023-06-27T10:59:11.384Z"
   },
   {
    "duration": 331,
    "start_time": "2023-06-27T10:59:11.390Z"
   },
   {
    "duration": 354,
    "start_time": "2023-06-27T10:59:11.723Z"
   },
   {
    "duration": 5,
    "start_time": "2023-06-27T10:59:12.079Z"
   },
   {
    "duration": 12,
    "start_time": "2023-06-27T10:59:12.085Z"
   },
   {
    "duration": 3,
    "start_time": "2023-06-27T10:59:12.098Z"
   },
   {
    "duration": 1157,
    "start_time": "2023-06-27T10:59:12.102Z"
   },
   {
    "duration": 6,
    "start_time": "2023-06-27T10:59:13.261Z"
   },
   {
    "duration": 28926,
    "start_time": "2023-06-27T10:59:13.268Z"
   },
   {
    "duration": 25,
    "start_time": "2023-06-27T10:59:42.195Z"
   },
   {
    "duration": 439,
    "start_time": "2023-06-27T10:59:42.221Z"
   },
   {
    "duration": 98,
    "start_time": "2023-06-27T10:59:42.661Z"
   },
   {
    "duration": 13,
    "start_time": "2023-06-27T10:59:42.761Z"
   },
   {
    "duration": 42,
    "start_time": "2023-06-27T10:59:42.776Z"
   },
   {
    "duration": 7,
    "start_time": "2023-06-27T10:59:42.820Z"
   },
   {
    "duration": 91,
    "start_time": "2023-06-27T11:02:05.913Z"
   },
   {
    "duration": 87,
    "start_time": "2023-06-27T11:02:09.115Z"
   },
   {
    "duration": 29104,
    "start_time": "2023-06-27T11:07:14.732Z"
   },
   {
    "duration": 32,
    "start_time": "2023-06-27T11:07:43.838Z"
   },
   {
    "duration": 293,
    "start_time": "2023-06-27T14:23:36.767Z"
   },
   {
    "duration": 256,
    "start_time": "2023-06-27T14:33:22.405Z"
   },
   {
    "duration": 9,
    "start_time": "2023-06-27T14:33:24.051Z"
   },
   {
    "duration": 428,
    "start_time": "2023-06-27T14:45:00.355Z"
   },
   {
    "duration": 6,
    "start_time": "2023-06-27T14:45:02.835Z"
   },
   {
    "duration": 7,
    "start_time": "2023-06-27T14:47:25.726Z"
   },
   {
    "duration": 1426,
    "start_time": "2023-06-27T14:47:46.869Z"
   },
   {
    "duration": 42,
    "start_time": "2023-06-27T14:47:48.297Z"
   },
   {
    "duration": 23,
    "start_time": "2023-06-27T14:47:48.341Z"
   },
   {
    "duration": 3,
    "start_time": "2023-06-27T14:47:48.366Z"
   },
   {
    "duration": 16,
    "start_time": "2023-06-27T14:47:48.370Z"
   },
   {
    "duration": 5,
    "start_time": "2023-06-27T14:47:48.388Z"
   },
   {
    "duration": 26,
    "start_time": "2023-06-27T14:47:48.394Z"
   },
   {
    "duration": 47,
    "start_time": "2023-06-27T14:47:48.422Z"
   },
   {
    "duration": 23,
    "start_time": "2023-06-27T14:47:48.471Z"
   },
   {
    "duration": 5,
    "start_time": "2023-06-27T14:47:48.496Z"
   },
   {
    "duration": 403,
    "start_time": "2023-06-27T14:47:48.502Z"
   },
   {
    "duration": 315,
    "start_time": "2023-06-27T14:47:48.907Z"
   },
   {
    "duration": 5,
    "start_time": "2023-06-27T14:47:49.224Z"
   },
   {
    "duration": 23,
    "start_time": "2023-06-27T14:47:49.231Z"
   },
   {
    "duration": 27,
    "start_time": "2023-06-27T14:47:49.259Z"
   },
   {
    "duration": 1223,
    "start_time": "2023-06-27T14:47:49.288Z"
   },
   {
    "duration": 6,
    "start_time": "2023-06-27T14:47:50.513Z"
   },
   {
    "duration": 30038,
    "start_time": "2023-06-27T14:47:50.521Z"
   },
   {
    "duration": 28,
    "start_time": "2023-06-27T14:48:20.560Z"
   },
   {
    "duration": 1179,
    "start_time": "2023-06-27T14:48:20.590Z"
   },
   {
    "duration": 87,
    "start_time": "2023-06-27T14:48:21.773Z"
   },
   {
    "duration": 54,
    "start_time": "2023-06-27T14:48:21.863Z"
   },
   {
    "duration": 18,
    "start_time": "2023-06-27T14:48:21.918Z"
   },
   {
    "duration": 19,
    "start_time": "2023-06-27T14:48:21.938Z"
   },
   {
    "duration": 1568,
    "start_time": "2023-06-28T10:17:10.408Z"
   },
   {
    "duration": 77,
    "start_time": "2023-06-28T10:17:11.979Z"
   },
   {
    "duration": 25,
    "start_time": "2023-06-28T10:17:12.057Z"
   },
   {
    "duration": 4,
    "start_time": "2023-06-28T10:17:12.084Z"
   },
   {
    "duration": 16,
    "start_time": "2023-06-28T10:17:12.089Z"
   },
   {
    "duration": 5,
    "start_time": "2023-06-28T10:17:12.107Z"
   },
   {
    "duration": 51,
    "start_time": "2023-06-28T10:17:12.114Z"
   },
   {
    "duration": 25,
    "start_time": "2023-06-28T10:17:12.166Z"
   },
   {
    "duration": 24,
    "start_time": "2023-06-28T10:17:12.192Z"
   },
   {
    "duration": 5,
    "start_time": "2023-06-28T10:17:12.219Z"
   },
   {
    "duration": 413,
    "start_time": "2023-06-28T10:17:12.225Z"
   },
   {
    "duration": 341,
    "start_time": "2023-06-28T10:17:12.640Z"
   },
   {
    "duration": 5,
    "start_time": "2023-06-28T10:17:12.983Z"
   },
   {
    "duration": 26,
    "start_time": "2023-06-28T10:17:12.990Z"
   },
   {
    "duration": 7,
    "start_time": "2023-06-28T10:17:13.017Z"
   },
   {
    "duration": 140,
    "start_time": "2023-06-28T10:17:13.025Z"
   },
   {
    "duration": 1,
    "start_time": "2023-06-28T10:17:13.166Z"
   },
   {
    "duration": 0,
    "start_time": "2023-06-28T10:17:13.168Z"
   },
   {
    "duration": 0,
    "start_time": "2023-06-28T10:17:13.169Z"
   },
   {
    "duration": 0,
    "start_time": "2023-06-28T10:17:13.170Z"
   },
   {
    "duration": 0,
    "start_time": "2023-06-28T10:17:13.171Z"
   },
   {
    "duration": 0,
    "start_time": "2023-06-28T10:17:13.173Z"
   },
   {
    "duration": 0,
    "start_time": "2023-06-28T10:17:13.174Z"
   },
   {
    "duration": 0,
    "start_time": "2023-06-28T10:17:13.176Z"
   },
   {
    "duration": 1413,
    "start_time": "2023-06-28T10:18:30.483Z"
   },
   {
    "duration": 45,
    "start_time": "2023-06-28T10:18:31.898Z"
   },
   {
    "duration": 25,
    "start_time": "2023-06-28T10:18:31.945Z"
   },
   {
    "duration": 13,
    "start_time": "2023-06-28T10:18:31.972Z"
   },
   {
    "duration": 50,
    "start_time": "2023-06-28T10:18:31.987Z"
   },
   {
    "duration": 54,
    "start_time": "2023-06-28T10:18:32.039Z"
   },
   {
    "duration": 79,
    "start_time": "2023-06-28T10:18:32.095Z"
   },
   {
    "duration": 46,
    "start_time": "2023-06-28T10:18:32.176Z"
   },
   {
    "duration": 27,
    "start_time": "2023-06-28T10:18:32.224Z"
   },
   {
    "duration": 7,
    "start_time": "2023-06-28T10:18:32.255Z"
   },
   {
    "duration": 368,
    "start_time": "2023-06-28T10:18:32.264Z"
   },
   {
    "duration": 340,
    "start_time": "2023-06-28T10:18:32.635Z"
   },
   {
    "duration": 5,
    "start_time": "2023-06-28T10:18:32.977Z"
   },
   {
    "duration": 21,
    "start_time": "2023-06-28T10:18:32.984Z"
   },
   {
    "duration": 22,
    "start_time": "2023-06-28T10:18:33.008Z"
   },
   {
    "duration": 141,
    "start_time": "2023-06-28T10:18:33.033Z"
   },
   {
    "duration": 0,
    "start_time": "2023-06-28T10:18:33.177Z"
   },
   {
    "duration": 0,
    "start_time": "2023-06-28T10:18:33.178Z"
   },
   {
    "duration": 0,
    "start_time": "2023-06-28T10:18:33.180Z"
   },
   {
    "duration": 0,
    "start_time": "2023-06-28T10:18:33.181Z"
   },
   {
    "duration": 0,
    "start_time": "2023-06-28T10:18:33.181Z"
   },
   {
    "duration": 0,
    "start_time": "2023-06-28T10:18:33.182Z"
   },
   {
    "duration": 0,
    "start_time": "2023-06-28T10:18:33.183Z"
   },
   {
    "duration": 0,
    "start_time": "2023-06-28T10:18:33.184Z"
   },
   {
    "duration": 1224,
    "start_time": "2023-06-28T10:19:22.258Z"
   },
   {
    "duration": 1226,
    "start_time": "2023-06-28T10:19:32.038Z"
   },
   {
    "duration": 30682,
    "start_time": "2023-06-28T10:24:23.599Z"
   },
   {
    "duration": 3,
    "start_time": "2023-06-28T10:24:54.284Z"
   },
   {
    "duration": 3,
    "start_time": "2023-06-28T10:26:38.594Z"
   },
   {
    "duration": 31362,
    "start_time": "2023-06-28T10:26:41.566Z"
   },
   {
    "duration": 3,
    "start_time": "2023-06-28T10:27:12.930Z"
   },
   {
    "duration": 506,
    "start_time": "2023-06-28T10:28:17.051Z"
   },
   {
    "duration": 3,
    "start_time": "2023-06-28T10:28:17.657Z"
   },
   {
    "duration": 1600,
    "start_time": "2023-06-28T10:38:47.442Z"
   },
   {
    "duration": 70,
    "start_time": "2023-06-28T10:38:49.045Z"
   },
   {
    "duration": 36,
    "start_time": "2023-06-28T10:38:49.118Z"
   },
   {
    "duration": 9,
    "start_time": "2023-06-28T10:38:49.156Z"
   },
   {
    "duration": 19,
    "start_time": "2023-06-28T10:38:49.168Z"
   },
   {
    "duration": 17,
    "start_time": "2023-06-28T10:38:49.192Z"
   },
   {
    "duration": 50,
    "start_time": "2023-06-28T10:38:49.212Z"
   },
   {
    "duration": 34,
    "start_time": "2023-06-28T10:38:49.267Z"
   },
   {
    "duration": 34,
    "start_time": "2023-06-28T10:38:49.303Z"
   },
   {
    "duration": 25,
    "start_time": "2023-06-28T10:38:49.340Z"
   },
   {
    "duration": 364,
    "start_time": "2023-06-28T10:38:49.367Z"
   },
   {
    "duration": 356,
    "start_time": "2023-06-28T10:38:49.733Z"
   },
   {
    "duration": 4,
    "start_time": "2023-06-28T10:38:50.091Z"
   },
   {
    "duration": 31,
    "start_time": "2023-06-28T10:38:50.097Z"
   },
   {
    "duration": 10,
    "start_time": "2023-06-28T10:38:50.129Z"
   },
   {
    "duration": 1367,
    "start_time": "2023-06-28T10:38:50.141Z"
   },
   {
    "duration": 2,
    "start_time": "2023-06-28T10:38:51.510Z"
   },
   {
    "duration": 33980,
    "start_time": "2023-06-28T10:38:51.514Z"
   },
   {
    "duration": 3,
    "start_time": "2023-06-28T10:39:25.496Z"
   },
   {
    "duration": 860,
    "start_time": "2023-06-28T10:39:25.500Z"
   },
   {
    "duration": 8,
    "start_time": "2023-06-28T10:39:26.363Z"
   },
   {
    "duration": 97,
    "start_time": "2023-06-28T10:39:26.374Z"
   },
   {
    "duration": 2,
    "start_time": "2023-06-28T10:39:26.475Z"
   },
   {
    "duration": 9,
    "start_time": "2023-06-28T10:39:26.479Z"
   }
  ],
  "kernelspec": {
   "display_name": "Python 3 (ipykernel)",
   "language": "python",
   "name": "python3"
  },
  "language_info": {
   "codemirror_mode": {
    "name": "ipython",
    "version": 3
   },
   "file_extension": ".py",
   "mimetype": "text/x-python",
   "name": "python",
   "nbconvert_exporter": "python",
   "pygments_lexer": "ipython3",
   "version": "3.9.5"
  },
  "toc": {
   "base_numbering": 1,
   "nav_menu": {
    "height": "179px",
    "width": "356.8px"
   },
   "number_sections": true,
   "sideBar": true,
   "skip_h1_title": true,
   "title_cell": "Table of Contents",
   "title_sidebar": "Contents",
   "toc_cell": false,
   "toc_position": {
    "height": "calc(100% - 180px)",
    "left": "10px",
    "top": "150px",
    "width": "213.025px"
   },
   "toc_section_display": true,
   "toc_window_display": true
  }
 },
 "nbformat": 4,
 "nbformat_minor": 2
}
